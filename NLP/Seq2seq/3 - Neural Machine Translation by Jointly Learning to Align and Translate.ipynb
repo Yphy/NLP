{
 "cells": [
  {
   "cell_type": "markdown",
   "metadata": {},
   "source": [
    "# introduction"
   ]
  },
  {
   "cell_type": "markdown",
   "metadata": {},
   "source": [
    "지난번의 general encoder-decoder model에서는 '정보 압박' 을 줄이기 위해서 디코더의 매 시점마다 맥락 벡터 $z$와 인풋 단어 $y_t$그리고 은닉상태 $s_t$를 선형함수 $f$에 넣어 예측값을 구하였다."
   ]
  },
  {
   "cell_type": "markdown",
   "metadata": {},
   "source": [
    "compression을 줄였다고는 하지만, 맥락 벡터가 여전히 모든 source 문장의 정보를 담고있지는 못하였기 때문에 이번논문에서 attention을 사용함으로써 이를 향상시킨다."
   ]
  },
  {
   "cell_type": "markdown",
   "metadata": {},
   "source": [
    "attention은 일단 어텐션 벡터인 $a$를 계산해야하는데 이는 0과 1사이의 값이며 전체 합이 1이 되어야한다. 그다음에 source 문장의 은닉 상태 $H$의 가중치의 합을 구해서 weighted source vector인 $w$를 구할 수 있다."
   ]
  },
  {
   "cell_type": "markdown",
   "metadata": {},
   "source": [
    "$$w = \\sum_{i}a_ih_i$$"
   ]
  },
  {
   "cell_type": "code",
   "execution_count": 2,
   "metadata": {},
   "outputs": [],
   "source": [
    "import torch\n",
    "import torch.nn as nn\n",
    "import torch.optim as optim\n",
    "import torch.nn.functional as F\n",
    "\n",
    "from torchtext.datasets import TranslationDataset, Multi30k\n",
    "from torchtext.data import Field, BucketIterator\n",
    "\n",
    "import spacy\n",
    "\n",
    "import random\n",
    "import math\n",
    "import time"
   ]
  },
  {
   "cell_type": "code",
   "execution_count": 3,
   "metadata": {},
   "outputs": [],
   "source": [
    "SEED = 1234\n",
    "\n",
    "random.seed(SEED)\n",
    "torch.manual_seed(SEED)\n",
    "torch.backends.cudnn.deterministic = True"
   ]
  },
  {
   "cell_type": "code",
   "execution_count": 4,
   "metadata": {},
   "outputs": [],
   "source": [
    "spacy_de = spacy.load('de')\n",
    "spacy_en = spacy.load('en')"
   ]
  },
  {
   "cell_type": "code",
   "execution_count": 5,
   "metadata": {},
   "outputs": [],
   "source": [
    "def tokenize_de(text):\n",
    "    \"\"\"\n",
    "    Tokenizes German text from a string into a list of strings\n",
    "    \"\"\"\n",
    "    return [tok.text for tok in spacy_de.tokenizer(text)]\n",
    "\n",
    "def tokenize_en(text):\n",
    "    \"\"\"\n",
    "    Tokenizes English text from a string into a list of strings\n",
    "    \"\"\"\n",
    "    return [tok.text for tok in spacy_en.tokenizer(text)]"
   ]
  },
  {
   "cell_type": "code",
   "execution_count": 6,
   "metadata": {},
   "outputs": [],
   "source": [
    "SRC = Field(tokenize = tokenize_de, \n",
    "            init_token = '<sos>', \n",
    "            eos_token = '<eos>', \n",
    "            lower = True)\n",
    "\n",
    "TRG = Field(tokenize = tokenize_en, \n",
    "            init_token = '<sos>', \n",
    "            eos_token = '<eos>', \n",
    "            lower = True)"
   ]
  },
  {
   "cell_type": "code",
   "execution_count": 8,
   "metadata": {},
   "outputs": [],
   "source": [
    "train_data, valid_data, test_data = Multi30k.splits(exts = ('.de', '.en'), \n",
    "                                                    fields = (SRC, TRG))"
   ]
  },
  {
   "cell_type": "code",
   "execution_count": 11,
   "metadata": {},
   "outputs": [],
   "source": [
    "SRC.build_vocab(train_data, min_freq = 2)\n",
    "TRG.build_vocab(train_data, min_freq = 2)\n"
   ]
  },
  {
   "cell_type": "code",
   "execution_count": 42,
   "metadata": {},
   "outputs": [],
   "source": [
    "device = torch.device('cuda:0' if torch.cuda.is_available() else 'cpu')\n"
   ]
  },
  {
   "cell_type": "code",
   "execution_count": 18,
   "metadata": {},
   "outputs": [],
   "source": [
    "BATCH_SIZE = 128\n",
    "\n",
    "train_iterator, valid_iterator, test_iterator = BucketIterator.splits(\n",
    "    (train_data, valid_data, test_data), \n",
    "    batch_size = BATCH_SIZE,\n",
    "    device = device)"
   ]
  },
  {
   "cell_type": "code",
   "execution_count": 21,
   "metadata": {},
   "outputs": [],
   "source": [
    "for idx,val in enumerate(train_iterator) :\n",
    "    src = val.src\n",
    "    trg = val.trg\n",
    "    break"
   ]
  },
  {
   "cell_type": "markdown",
   "metadata": {},
   "source": [
    "# Encoder"
   ]
  },
  {
   "cell_type": "markdown",
   "metadata": {},
   "source": [
    "기존 모델에서 단일 GRU레이어를 썼던 것과는 달리 인코더에서는 양방향의 RNN을 사용한다. 정방향과 역방향 RNN, 코드로는 bidirectional =True 만해주면됨\n"
   ]
  },
  {
   "cell_type": "markdown",
   "metadata": {},
   "source": [
    "$$\\begin{align*}\n",
    "h_t^\\rightarrow = \\text{EncoderGRU}^\\rightarrow(x_t^\\rightarrow,h_t^\\rightarrow)\\\\\n",
    "h_t^\\leftarrow = \\text{EncoderGRU}^\\leftarrow(x_t^\\leftarrow,h_t^\\leftarrow)\n",
    "\\end{align*}$$"
   ]
  },
  {
   "cell_type": "markdown",
   "metadata": {},
   "source": [
    "RNN은 output과 hidden을 반환한다.\n",
    "output은 [src sent len, batch size, hid dim * num directions]으로 구성되어 있다."
   ]
  },
  {
   "cell_type": "markdown",
   "metadata": {},
   "source": [
    "$h_1 = [h_1^\\rightarrow; h_{T}^\\leftarrow]$, $h_2 = [h_2^\\rightarrow; h_{T-1}^\\leftarrow]$"
   ]
  },
  {
   "cell_type": "code",
   "execution_count": 81,
   "metadata": {},
   "outputs": [
    {
     "data": {
      "text/plain": [
       "7853"
      ]
     },
     "execution_count": 81,
     "metadata": {},
     "output_type": "execute_result"
    }
   ],
   "source": [
    "len(SRC.vocab)"
   ]
  },
  {
   "cell_type": "code",
   "execution_count": 93,
   "metadata": {},
   "outputs": [
    {
     "data": {
      "text/plain": [
       "<torchtext.vocab.Vocab at 0x7fb02849ca90>"
      ]
     },
     "execution_count": 93,
     "metadata": {},
     "output_type": "execute_result"
    }
   ],
   "source": [
    "SRC.vocab"
   ]
  },
  {
   "cell_type": "code",
   "execution_count": 120,
   "metadata": {},
   "outputs": [],
   "source": [
    "input_dim = len(SRC.vocab)\n",
    "emb_dim = 256\n",
    "enc_hid_dim = 512\n",
    "dec_hid_dim = 512\n",
    "dropout = 0.5\n",
    "batch_size = 128\n",
    "embedding = nn.Embedding(input_dim,emb_dim, padding_idx = 1).to(device)\n",
    "rnn = nn.GRU(emb_dim, enc_hid_dim, bidirectional = True).to(device)\n",
    "#여기서 bidirection이니깐 hid_dim*2로들어감 \n",
    "fc = nn.Linear(enc_hid_dim *2 , )\n"
   ]
  },
  {
   "cell_type": "code",
   "execution_count": 121,
   "metadata": {},
   "outputs": [
    {
     "data": {
      "text/plain": [
       "7853"
      ]
     },
     "execution_count": 121,
     "metadata": {},
     "output_type": "execute_result"
    }
   ],
   "source": [
    "input_dim"
   ]
  },
  {
   "cell_type": "code",
   "execution_count": null,
   "metadata": {},
   "outputs": [],
   "source": []
  },
  {
   "cell_type": "code",
   "execution_count": null,
   "metadata": {},
   "outputs": [],
   "source": []
  },
  {
   "cell_type": "code",
   "execution_count": null,
   "metadata": {},
   "outputs": [],
   "source": []
  },
  {
   "cell_type": "code",
   "execution_count": 123,
   "metadata": {},
   "outputs": [],
   "source": [
    "input_dim = len(SRC.vocab) #SRC 토큰의 수\n",
    "emb_dim = 256\n",
    "enc_hid_dim = 512\n",
    "dec_hid_dim = 512\n",
    "dropout = 0.5\n",
    "batch_size = 128\n",
    "\n",
    "embedding = nn.Embedding(input_dim, emb_dim,padding_idx=1).to(device)\n",
    "#7853x7853에서 256차원으로 축약해서 임베딩시키면서 sementic하게\n",
    "\n",
    "rnn = nn.GRU(emb_dim, enc_hid_dim, bidirectional = True).to(device)\n",
    "#RNN에 emb_dim,hid_dim이 들어가는데 양방향\n",
    "\n",
    "fc = nn.Linear(enc_hid_dim * 2, dec_hid_dim).to(device)\n",
    "\n",
    "dropout = nn.Dropout(dropout)\n",
    "\n",
    "embedded = dropout(embedding(src))\n",
    "\n",
    "outputs, hidden = rnn(embedded)\n",
    "\n",
    "hidden = torch.tanh(fc(torch.cat((hidden[-2,:,:],hidden[-1,:,:]),\n",
    "                                dim = 1)))"
   ]
  },
  {
   "cell_type": "code",
   "execution_count": 127,
   "metadata": {},
   "outputs": [
    {
     "data": {
      "text/plain": [
       "5893"
      ]
     },
     "execution_count": 127,
     "metadata": {},
     "output_type": "execute_result"
    }
   ],
   "source": [
    "output_dim"
   ]
  },
  {
   "cell_type": "code",
   "execution_count": 83,
   "metadata": {},
   "outputs": [
    {
     "data": {
      "text/plain": [
       "7853"
      ]
     },
     "execution_count": 83,
     "metadata": {},
     "output_type": "execute_result"
    }
   ],
   "source": [
    "input_dim"
   ]
  },
  {
   "cell_type": "code",
   "execution_count": 94,
   "metadata": {},
   "outputs": [
    {
     "data": {
      "text/plain": [
       "Embedding(7853, 256, padding_idx=1)"
      ]
     },
     "execution_count": 94,
     "metadata": {},
     "output_type": "execute_result"
    }
   ],
   "source": [
    "embedding #7853개의 token을 패딩포함하여 256차원으로 임베딩시킨다"
   ]
  },
  {
   "cell_type": "code",
   "execution_count": 95,
   "metadata": {},
   "outputs": [
    {
     "data": {
      "text/plain": [
       "GRU(256, 512, bidirectional=True)"
      ]
     },
     "execution_count": 95,
     "metadata": {},
     "output_type": "execute_result"
    }
   ],
   "source": [
    "rnn #임베딩된 input을 rnn에 넣는데 hid_dim이 512이면서 두개씩"
   ]
  },
  {
   "cell_type": "code",
   "execution_count": 96,
   "metadata": {},
   "outputs": [
    {
     "name": "stdout",
     "output_type": "stream",
     "text": [
      "torch.Size([33, 128, 256])\n",
      "torch.Size([33, 128, 1024]) torch.Size([2, 128, 512])\n"
     ]
    }
   ],
   "source": [
    "embedded = dropout(embedding(src))\n",
    "print(embedded.shape) #길이제한이 33, 배치사이즈128(문장128개씩)\n",
    "outputs, hidden = rnn(embedded)\n",
    "print(outputs.shape,hidden.shape)"
   ]
  },
  {
   "cell_type": "code",
   "execution_count": 109,
   "metadata": {
    "scrolled": false
   },
   "outputs": [
    {
     "data": {
      "text/plain": [
       "tensor([[[-0.0188,  0.0123,  0.0134,  ..., -0.0333,  0.0043, -0.0486],\n",
       "         [-0.0186,  0.0134,  0.0119,  ..., -0.0332,  0.0045, -0.0498],\n",
       "         [-0.0192,  0.0123,  0.0134,  ..., -0.0337,  0.0040, -0.0487],\n",
       "         ...,\n",
       "         [-0.0192,  0.0123,  0.0133,  ..., -0.0338,  0.0041, -0.0487],\n",
       "         [-0.0191,  0.0123,  0.0134,  ..., -0.0336,  0.0039, -0.0486],\n",
       "         [-0.0195,  0.0112,  0.0122,  ..., -0.0326,  0.0016, -0.0515]],\n",
       "\n",
       "        [[ 0.3103,  0.4873, -0.0899,  ..., -0.1195, -0.2087, -0.0634],\n",
       "         [ 0.0239,  0.1473,  0.0405,  ..., -0.3432,  0.1152,  0.2024],\n",
       "         [-0.1139,  0.5564, -0.5278,  ..., -0.1089, -0.0396, -0.1027],\n",
       "         ...,\n",
       "         [-0.0586, -0.0999,  0.4446,  ..., -0.0928, -0.3009,  0.3099],\n",
       "         [ 0.1354,  0.0922, -0.2902,  ..., -0.4236,  0.3173, -0.2309],\n",
       "         [ 0.0095,  0.2651, -0.1910,  ...,  0.3093, -0.4063, -0.2340]]],\n",
       "       device='cuda:0', grad_fn=<CudnnRnnBackward>)"
      ]
     },
     "execution_count": 109,
     "metadata": {},
     "output_type": "execute_result"
    }
   ],
   "source": [
    "hidden"
   ]
  },
  {
   "cell_type": "markdown",
   "metadata": {},
   "source": [
    "$y_{t+1}$을 예측하는데 있어서 source sentence에 있어서 어떤 word가 가장 많은 attention을 주느냐를 파악하기위해 기존 인코더의 양방향 hidden states와 decoder의 전시점 hidden이 필요"
   ]
  },
  {
   "cell_type": "code",
   "execution_count": 117,
   "metadata": {},
   "outputs": [
    {
     "ename": "NameError",
     "evalue": "name 'hidden_dim' is not defined",
     "output_type": "error",
     "traceback": [
      "\u001b[0;31m---------------------------------------------------------------------------\u001b[0m",
      "\u001b[0;31mNameError\u001b[0m                                 Traceback (most recent call last)",
      "\u001b[0;32m<ipython-input-117-7d9d2366c3d2>\u001b[0m in \u001b[0;36m<module>\u001b[0;34m\u001b[0m\n\u001b[1;32m      1\u001b[0m \u001b[0;34m\u001b[0m\u001b[0m\n\u001b[1;32m      2\u001b[0m \u001b[0membedding\u001b[0m \u001b[0;34m=\u001b[0m \u001b[0mnn\u001b[0m\u001b[0;34m.\u001b[0m\u001b[0mEmbedding\u001b[0m\u001b[0;34m(\u001b[0m\u001b[0moutput_dim\u001b[0m\u001b[0;34m,\u001b[0m \u001b[0memb_dim\u001b[0m\u001b[0;34m,\u001b[0m\u001b[0mpadding_idx\u001b[0m\u001b[0;34m=\u001b[0m\u001b[0;36m1\u001b[0m\u001b[0;34m)\u001b[0m\u001b[0;34m\u001b[0m\u001b[0;34m\u001b[0m\u001b[0m\n\u001b[0;32m----> 3\u001b[0;31m \u001b[0mhidden_dim\u001b[0m \u001b[0;34m=\u001b[0m \u001b[0mhidden_dim\u001b[0m\u001b[0;34m\u001b[0m\u001b[0;34m\u001b[0m\u001b[0m\n\u001b[0m\u001b[1;32m      4\u001b[0m \u001b[0moutput_dim\u001b[0m \u001b[0;34m=\u001b[0m \u001b[0moutput_dim\u001b[0m\u001b[0;34m\u001b[0m\u001b[0;34m\u001b[0m\u001b[0m\n\u001b[1;32m      5\u001b[0m \u001b[0mnum_layers\u001b[0m \u001b[0;34m=\u001b[0m \u001b[0mnum_layers\u001b[0m\u001b[0;34m\u001b[0m\u001b[0;34m\u001b[0m\u001b[0m\n",
      "\u001b[0;31mNameError\u001b[0m: name 'hidden_dim' is not defined"
     ]
    }
   ],
   "source": [
    "     \n",
    "embedding = nn.Embedding(output_dim, emb_dim,padding_idx=1)\n",
    "hidden_dim = hidden_dim\n",
    "output_dim = output_dim\n",
    "num_layers = num_layers        \n",
    "rnn = nn.GRU(emb_dim+hidden_dim*2,hidden_dim*2, num_layers=num_layers, \\\n",
    "                      dropout=dropout,batch_first=True)    \n",
    "dropout = nn.Dropout(dropout)\n",
    "fully_connect = nn.Linear(hidden_dim*2,output_dim)\n",
    "attention_obj = attention_obj\n",
    "batch_size = batch_size\n",
    "\n"
   ]
  },
  {
   "cell_type": "code",
   "execution_count": null,
   "metadata": {},
   "outputs": [],
   "source": []
  }
 ],
 "metadata": {
  "kernelspec": {
   "display_name": "engine_3.6",
   "language": "python",
   "name": "engine_3.6"
  },
  "language_info": {
   "codemirror_mode": {
    "name": "ipython",
    "version": 3
   },
   "file_extension": ".py",
   "mimetype": "text/x-python",
   "name": "python",
   "nbconvert_exporter": "python",
   "pygments_lexer": "ipython3",
   "version": "3.6.8"
  }
 },
 "nbformat": 4,
 "nbformat_minor": 2
}
