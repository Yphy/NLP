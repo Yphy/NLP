{
 "cells": [
  {
   "cell_type": "code",
   "execution_count": 1,
   "metadata": {},
   "outputs": [],
   "source": [
    "import numpy as np\n",
    "import pandas as pd\n",
    "import utils\n",
    "\n",
    "import torch\n",
    "import torch.nn as nn\n",
    "from torch.utils import data"
   ]
  },
  {
   "cell_type": "code",
   "execution_count": 3,
   "metadata": {
    "scrolled": true
   },
   "outputs": [
    {
     "data": {
      "text/html": [
       "<div>\n",
       "<style scoped>\n",
       "    .dataframe tbody tr th:only-of-type {\n",
       "        vertical-align: middle;\n",
       "    }\n",
       "\n",
       "    .dataframe tbody tr th {\n",
       "        vertical-align: top;\n",
       "    }\n",
       "\n",
       "    .dataframe thead th {\n",
       "        text-align: right;\n",
       "    }\n",
       "</style>\n",
       "<table border=\"1\" class=\"dataframe\">\n",
       "  <thead>\n",
       "    <tr style=\"text-align: right;\">\n",
       "      <th></th>\n",
       "      <th>path</th>\n",
       "      <th>text</th>\n",
       "      <th>score</th>\n",
       "      <th>vader</th>\n",
       "      <th>HFSID</th>\n",
       "      <th>UPDATED_DAY</th>\n",
       "    </tr>\n",
       "  </thead>\n",
       "  <tbody>\n",
       "    <tr>\n",
       "      <th>651357</th>\n",
       "      <td>/mnt/processed/edgar_footnote_partition/10-K/2...</td>\n",
       "      <td>in addition to the 2010 property acquisitions ...</td>\n",
       "      <td>0.500000</td>\n",
       "      <td>0.0000</td>\n",
       "      <td>406200101</td>\n",
       "      <td>20120224</td>\n",
       "    </tr>\n",
       "    <tr>\n",
       "      <th>651358</th>\n",
       "      <td>/mnt/processed/edgar_footnote_partition/10-K/2...</td>\n",
       "      <td>january  2010  the company complete the sale o...</td>\n",
       "      <td>0.948070</td>\n",
       "      <td>0.0772</td>\n",
       "      <td>406200101</td>\n",
       "      <td>20120224</td>\n",
       "    </tr>\n",
       "    <tr>\n",
       "      <th>651359</th>\n",
       "      <td>/mnt/processed/edgar_footnote_partition/10-K/2...</td>\n",
       "      <td>a substantial portion of the companys lease re...</td>\n",
       "      <td>0.780377</td>\n",
       "      <td>0.3612</td>\n",
       "      <td>406200101</td>\n",
       "      <td>20120224</td>\n",
       "    </tr>\n",
       "    <tr>\n",
       "      <th>651360</th>\n",
       "      <td>/mnt/processed/edgar_footnote_partition/10-K/2...</td>\n",
       "      <td>portfolio by region: the table below reflect t...</td>\n",
       "      <td>0.500000</td>\n",
       "      <td>0.0000</td>\n",
       "      <td>406200101</td>\n",
       "      <td>20120224</td>\n",
       "    </tr>\n",
       "    <tr>\n",
       "      <th>651361</th>\n",
       "      <td>/mnt/processed/edgar_footnote_partition/10-K/2...</td>\n",
       "      <td>net income allocable to common shareholder wa ...</td>\n",
       "      <td>0.878319</td>\n",
       "      <td>0.8176</td>\n",
       "      <td>406200101</td>\n",
       "      <td>20120224</td>\n",
       "    </tr>\n",
       "  </tbody>\n",
       "</table>\n",
       "</div>"
      ],
      "text/plain": [
       "                                                     path  \\\n",
       "651357  /mnt/processed/edgar_footnote_partition/10-K/2...   \n",
       "651358  /mnt/processed/edgar_footnote_partition/10-K/2...   \n",
       "651359  /mnt/processed/edgar_footnote_partition/10-K/2...   \n",
       "651360  /mnt/processed/edgar_footnote_partition/10-K/2...   \n",
       "651361  /mnt/processed/edgar_footnote_partition/10-K/2...   \n",
       "\n",
       "                                                     text     score   vader  \\\n",
       "651357  in addition to the 2010 property acquisitions ...  0.500000  0.0000   \n",
       "651358  january  2010  the company complete the sale o...  0.948070  0.0772   \n",
       "651359  a substantial portion of the companys lease re...  0.780377  0.3612   \n",
       "651360  portfolio by region: the table below reflect t...  0.500000  0.0000   \n",
       "651361  net income allocable to common shareholder wa ...  0.878319  0.8176   \n",
       "\n",
       "            HFSID  UPDATED_DAY  \n",
       "651357  406200101     20120224  \n",
       "651358  406200101     20120224  \n",
       "651359  406200101     20120224  \n",
       "651360  406200101     20120224  \n",
       "651361  406200101     20120224  "
      ]
     },
     "execution_count": 3,
     "metadata": {},
     "output_type": "execute_result"
    }
   ],
   "source": [
    "df = pd.read_csv(\"rsync_folder/total_df.csv\")\n",
    "df.tail()"
   ]
  },
  {
   "cell_type": "code",
   "execution_count": 4,
   "metadata": {},
   "outputs": [
    {
     "data": {
      "text/plain": [
       "(280541, 133922)"
      ]
     },
     "execution_count": 4,
     "metadata": {},
     "output_type": "execute_result"
    },
    {
     "name": "stderr",
     "output_type": "stream",
     "text": [
      "/usr/local/anaconda2/envs/py36/lib/python3.6/site-packages/IPython/kernel/__main__.py:4: SettingWithCopyWarning: \n",
      "A value is trying to be set on a copy of a slice from a DataFrame.\n",
      "Try using .loc[row_indexer,col_indexer] = value instead\n",
      "\n",
      "See the caveats in the documentation: http://pandas.pydata.org/pandas-docs/stable/user_guide/indexing.html#returning-a-view-versus-a-copy\n"
     ]
    }
   ],
   "source": [
    "use_df = df[(df.score <= 0.25) | (df.score >= 0.75) ]\n",
    "use_df[use_df.score > 0.5].shape[0],use_df[use_df.score < 0.5].shape[0]\n",
    "\n",
    "use_df['label'] = [1 if i > 0.5 else 0 for i in use_df.score]\n",
    "max_size = use_df['label'].value_counts().max()"
   ]
  },
  {
   "cell_type": "code",
   "execution_count": null,
   "metadata": {
    "collapsed": true
   },
   "outputs": [],
   "source": [
    "%time corpus,count = np.unique([word for sent in use_df.text for word in sent.split(\" \")],return_counts=True)\n",
    "len(corpus)"
   ]
  },
  {
   "cell_type": "code",
   "execution_count": 5,
   "metadata": {
    "collapsed": true
   },
   "outputs": [],
   "source": [
    "lemma_dict = {'pad':0,'unk':1}\n",
    "for word in corpus : \n",
    "    lemma_dict[word] = len(lemma_dict)\n",
    "    \n",
    "word_to_freq_dict = dict(zip(corpus,count))"
   ]
  },
  {
   "cell_type": "markdown",
   "metadata": {},
   "source": [
    "use_df['indexed_text'] = use_df.text.str.split(\" \").apply(lambda x : list(map(lemma_dict.get,x)))"
   ]
  },
  {
   "cell_type": "code",
   "execution_count": null,
   "metadata": {
    "collapsed": true
   },
   "outputs": [],
   "source": [
    "def padding(arr) : \n",
    "    arr = arr + [0] * (100-len(arr)) \n",
    "    return arr\n",
    "\n",
    "use_df['indexed_text'] = use_df.indexed_text.apply(padding)\n",
    "use_df.indexed_text.apply(len).unique()"
   ]
  },
  {
   "cell_type": "code",
   "execution_count": 9,
   "metadata": {
    "collapsed": true
   },
   "outputs": [],
   "source": [
    "lst = [use_df]\n",
    "for class_index, group in use_df.groupby('label'):\n",
    "    lst.append(group.sample(max_size-len(group), replace=True))\n",
    "new_use_df = pd.concat(lst)"
   ]
  },
  {
   "cell_type": "code",
   "execution_count": 13,
   "metadata": {
    "collapsed": true
   },
   "outputs": [],
   "source": [
    "new_use_df.to_csv(\"rsync_folder/new_use_df.csv\",index=False)"
   ]
  },
  {
   "cell_type": "code",
   "execution_count": 13,
   "metadata": {
    "collapsed": true
   },
   "outputs": [],
   "source": [
    "pd.to_pickle(lemma_dict,\"lemma_dict.pkl\")\n",
    "pd.to_pickle(word_to_freq_dict,\"word_to_freq_dict.pkl\")"
   ]
  },
  {
   "cell_type": "code",
   "execution_count": 1,
   "metadata": {
    "collapsed": true
   },
   "outputs": [],
   "source": [
    "import pickle"
   ]
  },
  {
   "cell_type": "code",
   "execution_count": 4,
   "metadata": {
    "collapsed": true
   },
   "outputs": [],
   "source": [
    "import pandas as pd"
   ]
  },
  {
   "cell_type": "code",
   "execution_count": 6,
   "metadata": {},
   "outputs": [],
   "source": [
    "lemma_dict = pd.read_pickle('rsync_folder/lemma_dict.pkl')"
   ]
  },
  {
   "cell_type": "code",
   "execution_count": 8,
   "metadata": {},
   "outputs": [],
   "source": [
    "with open('rsync_folder/lemma_dict.pkl','wb') as f :\n",
    "    pickle.dump(lemma_dict,f,protocol=2)"
   ]
  },
  {
   "cell_type": "markdown",
   "metadata": {},
   "source": [
    "_______"
   ]
  },
  {
   "cell_type": "code",
   "execution_count": 14,
   "metadata": {
    "collapsed": true
   },
   "outputs": [],
   "source": [
    "train_X = torch.tensor(list(new_use_df.indexed_text.apply(lambda x : np.array(x)).values))\n",
    "train_X = train_X.type(torch.float)\n",
    "\n",
    "train_y = torch.tensor(new_use_df.label.values)"
   ]
  },
  {
   "cell_type": "code",
   "execution_count": 15,
   "metadata": {
    "collapsed": true
   },
   "outputs": [],
   "source": [
    "torch.save(train_X,'train_X.pt')\n",
    "torch.save(train_y,'train_y.pt')"
   ]
  },
  {
   "cell_type": "markdown",
   "metadata": {},
   "source": [
    "______"
   ]
  },
  {
   "cell_type": "code",
   "execution_count": 15,
   "metadata": {
    "collapsed": true
   },
   "outputs": [],
   "source": [
    "test_df = pd.read_csv(\"data/test_result_df.csv\")"
   ]
  },
  {
   "cell_type": "code",
   "execution_count": 26,
   "metadata": {},
   "outputs": [],
   "source": [
    "tmp_df = utils.assign_ii_di(test_df)"
   ]
  },
  {
   "cell_type": "code",
   "execution_count": null,
   "metadata": {
    "collapsed": true
   },
   "outputs": [],
   "source": [
    "use_df = tmp_df[['parsed_text','HFSID','UPDATED_DAY']]\n",
    "use_df.rename(columns={'parsed_text':'text'},inplace=True)"
   ]
  },
  {
   "cell_type": "code",
   "execution_count": 60,
   "metadata": {},
   "outputs": [],
   "source": [
    "result_df,train_X,_ = utils.indexing(use_df,lemma_dict,train=False)"
   ]
  },
  {
   "cell_type": "code",
   "execution_count": 63,
   "metadata": {
    "collapsed": true
   },
   "outputs": [],
   "source": [
    "result_df.to_csv('rsync_folder/test_df.csv',index=False)\n",
    "torch.save(train_X,'rsync_folder/test_X.pt')"
   ]
  }
 ],
 "metadata": {
  "anaconda-cloud": {},
  "kernelspec": {
   "display_name": "Python 3",
   "language": "python",
   "name": "python3"
  },
  "language_info": {
   "codemirror_mode": {
    "name": "ipython",
    "version": 3
   },
   "file_extension": ".py",
   "mimetype": "text/x-python",
   "name": "python",
   "nbconvert_exporter": "python",
   "pygments_lexer": "ipython3",
   "version": "3.7.3"
  }
 },
 "nbformat": 4,
 "nbformat_minor": 2
}
