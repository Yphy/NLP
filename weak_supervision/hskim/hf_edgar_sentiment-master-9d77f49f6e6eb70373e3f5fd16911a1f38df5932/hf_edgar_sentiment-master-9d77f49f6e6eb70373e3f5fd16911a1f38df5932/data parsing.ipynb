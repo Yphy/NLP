{
 "cells": [
  {
   "cell_type": "code",
   "execution_count": 2,
   "metadata": {
    "collapsed": true
   },
   "outputs": [],
   "source": [
    "from IPython.display import display\n",
    "import os\n",
    "import pandas as pd\n",
    "import numpy as np\n",
    "import tqdm\n",
    "\n",
    "# snorkel\n",
    "from snorkel.labeling import labeling_function\n",
    "from snorkel.labeling import PandasLFApplier\n",
    "from snorkel.preprocess import preprocessor\n",
    "from snorkel.labeling import LFAnalysis\n",
    "from snorkel.labeling import MajorityLabelVoter\n",
    "from snorkel.labeling import LabelModel\n",
    "from snorkel.labeling import filter_unlabeled_dataframe\n",
    "from snorkel.utils import probs_to_preds\n",
    "\n",
    "# text processing \n",
    "from nltk.sentiment import vader\n",
    "analyzer = vader.SentimentIntensityAnalyzer()\n",
    "import spacy\n",
    "from pysbd.utils import PySBDFactory\n",
    "nlp = spacy.blank('en')\n",
    "nlp.add_pipe(PySBDFactory(nlp))\n",
    "from sklearn.model_selection import train_test_split\n",
    "\n",
    "### custom ###\n",
    "import utils"
   ]
  },
  {
   "cell_type": "code",
   "execution_count": 3,
   "metadata": {
    "collapsed": true
   },
   "outputs": [],
   "source": [
    "df = pd.read_pickle(\"data/summarized_with_path.csv\")\n",
    "df.tail()\n",
    "# rp_pos_ls = pd.read_pickle('data/rp_pos_ls.pkl')\n",
    "# rp_neg_ls = pd.read_pickle(\"data/rp_neg_ls.pkl\")\n",
    "# lm_pos_ls = pd.read_pickle('data/pos_ls.pkl')\n",
    "# lm_neg_ls = pd.read_pickle('data/neg_ls.pkl')\n",
    "# d0_pos_ls = pd.read_pickle('data/d0_pos_ls.pkl')\n",
    "# d0_neg_ls = pd.read_pickle('data/d0_neg_ls.pkl')"
   ]
  },
  {
   "cell_type": "code",
   "execution_count": 19,
   "metadata": {
    "collapsed": true
   },
   "outputs": [],
   "source": [
    "df['parsed_text'] = df.lemmatized_text.apply(utils.parsing)"
   ]
  },
  {
   "cell_type": "code",
   "execution_count": 23,
   "metadata": {
    "collapsed": true
   },
   "outputs": [],
   "source": [
    "df['length'] = df.parsed_text.apply(lambda x : len(x.split(\" \")))"
   ]
  },
  {
   "cell_type": "code",
   "execution_count": 25,
   "metadata": {
    "collapsed": true
   },
   "outputs": [],
   "source": [
    "desc_df = df.length.describe()"
   ]
  },
  {
   "cell_type": "code",
   "execution_count": 44,
   "metadata": {
    "collapsed": true
   },
   "outputs": [],
   "source": [
    "use_df = df[df.length <= 100].reset_index(drop=True)"
   ]
  },
  {
   "cell_type": "code",
   "execution_count": 46,
   "metadata": {
    "collapsed": true
   },
   "outputs": [],
   "source": [
    "use_df.to_csv(\"data/parsed_df.csv\",index=False)"
   ]
  }
 ],
 "metadata": {
  "anaconda-cloud": {},
  "kernelspec": {
   "display_name": "py36-prod-20181224",
   "language": "python",
   "name": "py36-prod-20181224"
  },
  "language_info": {
   "codemirror_mode": {
    "name": "ipython",
    "version": 3
   },
   "file_extension": ".py",
   "mimetype": "text/x-python",
   "name": "python",
   "nbconvert_exporter": "python",
   "pygments_lexer": "ipython3",
   "version": "3.6.7"
  }
 },
 "nbformat": 4,
 "nbformat_minor": 2
}
