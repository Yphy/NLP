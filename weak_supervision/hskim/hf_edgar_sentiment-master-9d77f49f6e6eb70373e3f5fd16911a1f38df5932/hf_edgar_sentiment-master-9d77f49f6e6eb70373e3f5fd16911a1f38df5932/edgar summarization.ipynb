{
 "cells": [
  {
   "cell_type": "code",
   "execution_count": 1,
   "metadata": {
    "collapsed": true
   },
   "outputs": [],
   "source": [
    "import os\n",
    "import pandas as pd\n",
    "from gensim.summarization.summarizer import summarize\n",
    "import multiprocessing"
   ]
  },
  {
   "cell_type": "code",
   "execution_count": 2,
   "metadata": {},
   "outputs": [
    {
     "data": {
      "text/plain": [
       "33942"
      ]
     },
     "execution_count": 2,
     "metadata": {},
     "output_type": "execute_result"
    }
   ],
   "source": [
    "ls = [] \n",
    "root_dir = '/mnt/processed/edgar_footnote_partition/10-K'\n",
    "\n",
    "for root in os.listdir(root_dir) : \n",
    "    if root >= '2014' : \n",
    "        year_dir = os.path.join(root_dir,root)\n",
    "        year_list = os.listdir(year_dir)\n",
    "        for year in year_list :\n",
    "            month_dir = os.path.join(year_dir,year)\n",
    "            month_list = os.listdir(month_dir)\n",
    "            for day in month_list : \n",
    "                day_dir = os.path.join(month_dir,day)\n",
    "                day_list = os.listdir(day_dir)\n",
    "                for file_ in day_list : \n",
    "                    if 'item7.' in file_ : \n",
    "                        file_path = os.path.join(day_dir,file_)\n",
    "                        ls.append(file_path)\n",
    "len(ls)"
   ]
  },
  {
   "cell_type": "code",
   "execution_count": 3,
   "metadata": {
    "collapsed": true
   },
   "outputs": [],
   "source": [
    "def read_txt(path) : \n",
    "    with open(path,'r') as f :\n",
    "        str_ = f.read()\n",
    "    return str_\n",
    "\n",
    "def read_and_summarize(path_ls) : \n",
    "    total_ls = []\n",
    "    for idx,path in enumerate(path_ls) : \n",
    "        if (idx % 100 == 0) and (idx != 0): \n",
    "            print((idx,len(path_ls)))\n",
    "        str_ = read_txt(path)\n",
    "        try : \n",
    "            summarized = summarize(str_,0.1,split=True)\n",
    "        except ValueError : \n",
    "            pass\n",
    "        summarized = list(zip([path for i in range(len(summarized))],summarized))\n",
    "        total_ls += summarized\n",
    "    df = pd.DataFrame(total_ls)\n",
    "    csv_path = os.path.split(path)[1].split('.')[0] + '.csv'\n",
    "    csv_path = os.path.join('/home/hyunsikkim/HF_EDGAR_SENTIMENT/chunk_data',csv_path)\n",
    "    df.to_csv(\"{}.csv\".format(csv_path),index=False)\n",
    "    \n",
    "def make_chunk(ls,cpu_num) : \n",
    "    chunk = []\n",
    "    tmp = []\n",
    "    for i in ls : \n",
    "        if len(tmp) < len(ls)// cpu_num :\n",
    "            tmp.append(i)\n",
    "        else : \n",
    "            chunk.append(tmp)\n",
    "            tmp = []\n",
    "    return chunk\n",
    "\n",
    "chunk = make_chunk(ls,20)"
   ]
  },
  {
   "cell_type": "code",
   "execution_count": null,
   "metadata": {
    "collapsed": true
   },
   "outputs": [],
   "source": [
    "p1 = multiprocessing.Process(target=read_and_summarize, args=(chunk[0], )) \n",
    "p2 = multiprocessing.Process(target=read_and_summarize, args=(chunk[1], )) \n",
    "p3 = multiprocessing.Process(target=read_and_summarize, args=(chunk[2], )) \n",
    "p4 = multiprocessing.Process(target=read_and_summarize, args=(chunk[3], )) \n",
    "p5 = multiprocessing.Process(target=read_and_summarize, args=(chunk[4], )) \n",
    "p6 = multiprocessing.Process(target=read_and_summarize, args=(chunk[5], )) \n",
    "p7 = multiprocessing.Process(target=read_and_summarize, args=(chunk[6], )) \n",
    "p8 = multiprocessing.Process(target=read_and_summarize, args=(chunk[7], )) \n",
    "p9 = multiprocessing.Process(target=read_and_summarize, args=(chunk[8], )) \n",
    "p10 = multiprocessing.Process(target=read_and_summarize, args=(chunk[9], )) \n",
    "p11 = multiprocessing.Process(target=read_and_summarize, args=(chunk[10], )) \n",
    "p12 = multiprocessing.Process(target=read_and_summarize, args=(chunk[11], )) \n",
    "p13 = multiprocessing.Process(target=read_and_summarize, args=(chunk[12], )) \n",
    "p14 = multiprocessing.Process(target=read_and_summarize, args=(chunk[13], )) \n",
    "p15 = multiprocessing.Process(target=read_and_summarize, args=(chunk[14], )) \n",
    "p16 = multiprocessing.Process(target=read_and_summarize, args=(chunk[15], )) \n",
    "p17 = multiprocessing.Process(target=read_and_summarize, args=(chunk[16], )) \n",
    "p18 = multiprocessing.Process(target=read_and_summarize, args=(chunk[17], )) \n",
    "p19 = multiprocessing.Process(target=read_and_summarize, args=(chunk[18], )) \n",
    "# p20 = multiprocessing.Process(target=read_and_summarize, args=(chunk[19], )) \n",
    "\n",
    "p1.start()\n",
    "p2.start()\n",
    "p3.start()\n",
    "p4.start()\n",
    "p5.start()\n",
    "p6.start()\n",
    "p7.start()\n",
    "p8.start()\n",
    "p9.start()\n",
    "p10.start()\n",
    "p11.start()\n",
    "p12.start()\n",
    "p13.start()\n",
    "p14.start()\n",
    "p15.start()\n",
    "p16.start()\n",
    "p17.start()\n",
    "p18.start()\n",
    "p19.start()\n",
    "# p20.start()\n",
    "\n",
    "p1.join()\n",
    "p2.join()\n",
    "p3.join()\n",
    "p4.join()\n",
    "p5.join()\n",
    "p6.join()\n",
    "p7.join()\n",
    "p8.join()\n",
    "p9.join()\n",
    "p10.join()\n",
    "p11.join()\n",
    "p12.join()\n",
    "p13.join()\n",
    "p14.join()\n",
    "p15.join()\n",
    "p16.join()\n",
    "p17.join()\n",
    "p18.join()\n",
    "p19.join()\n",
    "# p20.join()"
   ]
  }
 ],
 "metadata": {
  "anaconda-cloud": {},
  "kernelspec": {
   "display_name": "py36-prod-20181224",
   "language": "python",
   "name": "py36-prod-20181224"
  },
  "language_info": {
   "codemirror_mode": {
    "name": "ipython",
    "version": 3
   },
   "file_extension": ".py",
   "mimetype": "text/x-python",
   "name": "python",
   "nbconvert_exporter": "python",
   "pygments_lexer": "ipython3",
   "version": "3.6.7"
  }
 },
 "nbformat": 4,
 "nbformat_minor": 2
}
