{
 "cells": [
  {
   "cell_type": "code",
   "execution_count": 1,
   "metadata": {},
   "outputs": [
    {
     "name": "stderr",
     "output_type": "stream",
     "text": [
      "0it [00:00, ?it/s]\n",
      "TqdmDeprecationWarning: Please use `tqdm.pandas(...)` instead of `tqdm_pandas(tqdm(...))`.\n"
     ]
    }
   ],
   "source": [
    "import pandas as pd\n",
    "import os\n",
    "import dask\n",
    "from dask.diagnostics import ProgressBar\n",
    "import utils\n",
    "\n",
    "from nltk.stem import WordNetLemmatizer\n",
    "lemmatizer = WordNetLemmatizer()\n",
    "\n",
    "from tqdm import tqdm, tqdm_pandas\n",
    "tqdm_pandas(tqdm())"
   ]
  },
  {
   "cell_type": "code",
   "execution_count": 2,
   "metadata": {
    "collapsed": true
   },
   "outputs": [],
   "source": [
    "csv_ls = [os.path.join('chunk_data/',i) for i in os.listdir('chunk_data/') if ('.csv' in i) and ('-' in i)]"
   ]
  },
  {
   "cell_type": "code",
   "execution_count": 4,
   "metadata": {
    "collapsed": true
   },
   "outputs": [],
   "source": [
    "container = []\n",
    "\n",
    "for i in csv_ls : \n",
    "    load = dask.delayed(pd.read_csv)(i)\n",
    "    container.append(load)\n",
    "concat_df = dask.delayed(pd.concat)(container,ignore_index=True)"
   ]
  },
  {
   "cell_type": "code",
   "execution_count": 5,
   "metadata": {},
   "outputs": [
    {
     "name": "stdout",
     "output_type": "stream",
     "text": [
      "[########################################] | 100% Completed |  2.2s\n"
     ]
    }
   ],
   "source": [
    "with ProgressBar() : \n",
    "    df = concat_df.compute()"
   ]
  },
  {
   "cell_type": "code",
   "execution_count": 6,
   "metadata": {
    "collapsed": true
   },
   "outputs": [],
   "source": [
    "df.columns = ['path','text']"
   ]
  },
  {
   "cell_type": "code",
   "execution_count": 7,
   "metadata": {
    "collapsed": true
   },
   "outputs": [],
   "source": [
    "def finer_lemmatize(word) : \n",
    "    word = lemmatizer.lemmatize(word,'n')\n",
    "    word = lemmatizer.lemmatize(word,'v')\n",
    "    return word"
   ]
  },
  {
   "cell_type": "code",
   "execution_count": 14,
   "metadata": {},
   "outputs": [],
   "source": [
    "df['lemmatized_text'] = \\\n",
    "df.text.str.split(\" \").apply(lambda sent : ','.join(list(map(finer_lemmatize,sent))).replace(\",\",' '))"
   ]
  },
  {
   "cell_type": "code",
   "execution_count": 15,
   "metadata": {
    "collapsed": true
   },
   "outputs": [],
   "source": [
    "df.to_csv('data/summarized_with_path.csv')"
   ]
  },
  {
   "cell_type": "markdown",
   "metadata": {},
   "source": [
    "___________________"
   ]
  },
  {
   "cell_type": "code",
   "execution_count": 16,
   "metadata": {
    "collapsed": true
   },
   "outputs": [],
   "source": [
    "# df = pd.read_csv('data/summarized_with_path.csv')\n",
    "result_df = pd.DataFrame()\n",
    "chunk_ls = utils.make_chunk(df.index.tolist(),10)"
   ]
  },
  {
   "cell_type": "code",
   "execution_count": 17,
   "metadata": {
    "scrolled": true
   },
   "outputs": [
    {
     "data": {
      "text/plain": [
       "<module 'utils' from '/gpfs/haaforfs/home/hyunsikkim/HF_EDGAR_SENTIMENT/utils.py'>"
      ]
     },
     "execution_count": 17,
     "metadata": {},
     "output_type": "execute_result"
    }
   ],
   "source": [
    "import importlib\n",
    "importlib.reload(utils)"
   ]
  },
  {
   "cell_type": "code",
   "execution_count": null,
   "metadata": {
    "collapsed": true
   },
   "outputs": [],
   "source": [
    "for idx,index in enumerate(chunk_ls) : \n",
    "    tmp = df.iloc[index]\n",
    "#     print(\"{} th dataframe is manipulated\".format(idx),end='  ')\n",
    "    %time tmp['parsed_text'] = tmp.lemmatized_text.\\\n",
    "    progress_apply(utils.parsing)\n",
    "#     print('{} th parsing is finished'.format(idx),end='  ')\n",
    "    tmp['length'] = tmp.parsed_text.apply(lambda x : len(x.split(\" \")))\n",
    "    use_tmp = tmp[tmp.length <= 100].reset_index(drop=True)\n",
    "    result_df = pd.concat([result_df,use_tmp],ignore_index=True)\n",
    "    print(result_df.shape)"
   ]
  },
  {
   "cell_type": "code",
   "execution_count": 19,
   "metadata": {
    "collapsed": true
   },
   "outputs": [],
   "source": [
    "result_df.to_csv(\"data/result_df.csv\",index=False)"
   ]
  },
  {
   "cell_type": "markdown",
   "metadata": {},
   "source": [
    "# Tuning the dictionary list"
   ]
  },
  {
   "cell_type": "code",
   "execution_count": 34,
   "metadata": {
    "collapsed": true
   },
   "outputs": [],
   "source": [
    "lm_dict = pd.read_pickle(\"/mnt/processed/edgar_footnote_partition_indexing/word_type/word_type.pkl\")"
   ]
  },
  {
   "cell_type": "code",
   "execution_count": 35,
   "metadata": {},
   "outputs": [
    {
     "data": {
      "text/plain": [
       "dict_keys(['litigious', 'generic', 'positive', 'uncertainty', 'negative', 'constraining', 'genericlong', 'modal'])"
      ]
     },
     "execution_count": 35,
     "metadata": {},
     "output_type": "execute_result"
    }
   ],
   "source": [
    "lm_dict.keys()"
   ]
  },
  {
   "cell_type": "code",
   "execution_count": 38,
   "metadata": {
    "collapsed": true
   },
   "outputs": [],
   "source": [
    "pos_ls = [finer_lemmatize(i) for i in lm_dict['positive']]\n",
    "neg_ls = [finer_lemmatize(i) for i in lm_dict['negative']]"
   ]
  },
  {
   "cell_type": "code",
   "execution_count": 39,
   "metadata": {
    "collapsed": true
   },
   "outputs": [],
   "source": [
    "pd.to_pickle(pos_ls,'pos_ls.pkl')\n",
    "pd.to_pickle(neg_ls,'neg_ls.pkl')"
   ]
  },
  {
   "cell_type": "code",
   "execution_count": 5,
   "metadata": {
    "collapsed": true
   },
   "outputs": [],
   "source": [
    "full_dict = pd.read_pickle(\"/mnt/processed/hf_news_sentiment/Ravenpack_FULL/ravenpack_uni_sent_dict.pkl\")"
   ]
  },
  {
   "cell_type": "code",
   "execution_count": 20,
   "metadata": {
    "collapsed": true
   },
   "outputs": [],
   "source": [
    "full_dict = pd.read_pickle(\"/mnt/processed/hf_news_sentiment/BBtn_D0_0_500/BBtn_D0_0_500.pkl\")"
   ]
  },
  {
   "cell_type": "code",
   "execution_count": 23,
   "metadata": {
    "collapsed": true
   },
   "outputs": [],
   "source": [
    "pos_ls = []\n",
    "neg_ls = []\n",
    "\n",
    "for key,val in full_dict.items() : \n",
    "    if val < 0 : \n",
    "        neg_ls.append(key)\n",
    "    else : \n",
    "        pos_ls.append(key)"
   ]
  },
  {
   "cell_type": "code",
   "execution_count": 24,
   "metadata": {
    "collapsed": true
   },
   "outputs": [],
   "source": [
    "pos_ls = [finer_lemmatize(i) for i in pos_ls]\n",
    "neg_ls = [finer_lemmatize(i) for i in neg_ls]"
   ]
  },
  {
   "cell_type": "code",
   "execution_count": 25,
   "metadata": {
    "collapsed": true
   },
   "outputs": [],
   "source": [
    "pd.to_pickle(pos_ls,'d0_pos_ls.pkl')\n",
    "pd.to_pickle(neg_ls,'d0_neg_ls.pkl')"
   ]
  }
 ],
 "metadata": {
  "anaconda-cloud": {},
  "kernelspec": {
   "display_name": "py36-prod-20181224",
   "language": "python",
   "name": "py36-prod-20181224"
  },
  "language_info": {
   "codemirror_mode": {
    "name": "ipython",
    "version": 3
   },
   "file_extension": ".py",
   "mimetype": "text/x-python",
   "name": "python",
   "nbconvert_exporter": "python",
   "pygments_lexer": "ipython3",
   "version": "3.6.7"
  }
 },
 "nbformat": 4,
 "nbformat_minor": 2
}
