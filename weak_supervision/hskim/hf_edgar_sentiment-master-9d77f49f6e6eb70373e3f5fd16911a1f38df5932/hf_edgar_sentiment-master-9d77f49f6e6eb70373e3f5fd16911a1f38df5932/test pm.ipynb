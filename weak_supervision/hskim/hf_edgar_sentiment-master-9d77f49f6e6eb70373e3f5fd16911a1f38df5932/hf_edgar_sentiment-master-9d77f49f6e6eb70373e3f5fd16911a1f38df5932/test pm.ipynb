{
 "cells": [
  {
   "cell_type": "code",
   "execution_count": 1,
   "metadata": {},
   "outputs": [
    {
     "name": "stderr",
     "output_type": "stream",
     "text": [
      "/usr/local/anaconda2/lib/python2.7/site-packages/numba/errors.py:102: UserWarning: Insufficiently recent colorama version found. Numba requires colorama >= 0.3.9\n",
      "  warnings.warn(msg)\n"
     ]
    }
   ],
   "source": [
    "import pandas as pd\n",
    "import numpy as np\n",
    "import matplotlib.pyplot as plt\n",
    "from IPython.display import display\n",
    "import sys\n",
    "sys.path.append(\"../SUBMIT\")\n",
    "from PKGS import us_starter\n",
    "\n",
    "### haafor packages ###\n",
    "from hf.service.module_directory import ModuleDirectory\n",
    "module_directory = ModuleDirectory()\n",
    "from hf.lib.corr_check import CorrCheck\n",
    "import hf.pm.simulator as simulator\n",
    "from hf.pm.summary import show_summary\n",
    "from hf.pm.operation import GroupNeutral, Remap\n",
    "from hf.framework.hfclndr import HFCLNDR\n",
    "\n",
    "### custom packages ###\n",
    "import matrixOp as mp\n",
    "import alpha_operation\n",
    "from PKGS.utils import funda_show as show\n",
    "from PKGS import us_starter,alpha_operation,utils"
   ]
  },
  {
   "cell_type": "code",
   "execution_count": 2,
   "metadata": {
    "collapsed": true
   },
   "outputs": [],
   "source": [
    "univ1000,univ1000_id_list,price_return,sector,industry,sub_industry,date_list\\\n",
    " = us_starter.starter(20100101,20131231)"
   ]
  },
  {
   "cell_type": "code",
   "execution_count": 3,
   "metadata": {
    "collapsed": true
   },
   "outputs": [],
   "source": [
    "total_df = pd.read_csv(\"total_df.csv\")"
   ]
  },
  {
   "cell_type": "code",
   "execution_count": 4,
   "metadata": {
    "collapsed": true
   },
   "outputs": [],
   "source": [
    "used_df = total_df[total_df.HFSID.isin(univ1000_id_list)].reset_index(drop=True)\n",
    "used_df.sort_values('UPDATED_DAY',inplace=True)\n",
    "used_df['UPDATED_DAY'] = date_list[np.searchsorted(date_list,used_df.UPDATED_DAY,'right')-1]"
   ]
  },
  {
   "cell_type": "code",
   "execution_count": 5,
   "metadata": {
    "collapsed": true,
    "scrolled": true
   },
   "outputs": [],
   "source": [
    "lv2_df = used_df['score'].groupby([used_df.UPDATED_DAY,used_df.HFSID]).mean().unstack('HFSID')"
   ]
  },
  {
   "cell_type": "code",
   "execution_count": 6,
   "metadata": {
    "collapsed": true
   },
   "outputs": [],
   "source": [
    "append_idx = set(date_list).difference(set(lv2_df.index))\n",
    "append_df = \\\n",
    "pd.DataFrame(np.full((len(append_idx),lv2_df.shape[1]),fill_value=np.nan),index=append_idx,columns=lv2_df.columns)"
   ]
  },
  {
   "cell_type": "code",
   "execution_count": 7,
   "metadata": {
    "collapsed": true
   },
   "outputs": [],
   "source": [
    "concat_df = pd.concat((lv2_df,append_df))"
   ]
  },
  {
   "cell_type": "code",
   "execution_count": 8,
   "metadata": {
    "collapsed": true
   },
   "outputs": [],
   "source": [
    "for col in univ1000_id_list : \n",
    "    if col not in concat_df.columns : \n",
    "        concat_df[col] = np.nan"
   ]
  },
  {
   "cell_type": "code",
   "execution_count": 9,
   "metadata": {
    "collapsed": true
   },
   "outputs": [],
   "source": [
    "concat_df.sort_index(inplace=True)\n",
    "lv2_df = concat_df.loc[:,univ1000_id_list]"
   ]
  },
  {
   "cell_type": "code",
   "execution_count": 10,
   "metadata": {
    "collapsed": true
   },
   "outputs": [],
   "source": [
    "signal = alpha_operation.decay_ffill(lv2_df,2,50).values"
   ]
  },
  {
   "cell_type": "code",
   "execution_count": 16,
   "metadata": {
    "collapsed": true
   },
   "outputs": [],
   "source": [
    "signal[np.isnan(signal)] = 0."
   ]
  },
  {
   "cell_type": "code",
   "execution_count": 18,
   "metadata": {
    "collapsed": true
   },
   "outputs": [],
   "source": [
    "alpha = signal.astype(np.float64).copy()\n",
    "univSignal_m = np.copy(univ1000) \n",
    "univSignal_m[np.where(~np.isfinite(alpha))] = False \n",
    "\n",
    "# Operation # \n",
    "industry = np.copy(sub_industry)\n",
    "# masking\n",
    "alpha[ ~univSignal_m ] = np.nan \n",
    "industry[ ~univSignal_m ] = np.nan\n",
    "alpha1 = alpha.copy()\n",
    "\n",
    "groupneutral = GroupNeutral(univSignal_m, industry)\n",
    "alpha2 = groupneutral.group_neutralize(alpha1)\n",
    "alpha2[~univSignal_m] = np.nan\n",
    "\n",
    "alpha2 = pd.DataFrame(alpha2).shift(0).values\n",
    "alpha2[~univSignal_m] = np.nan\n",
    "\n",
    "remap = Remap(univSignal_m)\n",
    "alpha3 = remap.remap(alpha2)\n",
    "alpha3[ ~univSignal_m ] = np.nan\n",
    "\n",
    "alpha4 = alpha3.copy()\n",
    "alpha5 = pd.DataFrame(alpha4).shift(1).values\n",
    "\n",
    "alpha = np.copy(alpha5[:])"
   ]
  },
  {
   "cell_type": "code",
   "execution_count": 12,
   "metadata": {},
   "outputs": [
    {
     "data": {
      "image/png": "[encoded data removed]",
      "text/plain": [
       "<matplotlib.figure.Figure at 0x7ff296b64b10>"
      ]
     },
     "metadata": {},
     "output_type": "display_data"
    },
    {
     "name": "stdout",
     "output_type": "stream",
     "text": [
      "          IR  Return(%)  MDD(%)  Turnover(%) Concent50 Concent90\n",
      "2010   0.004       0.69    8.72        47.47         4        20\n",
      "2011   0.088      17.67    5.38        47.38         4        24\n",
      "2012   0.137      24.03    7.48        40.77         4        19\n",
      "2013   0.078      10.30    4.76        39.14         3        22\n",
      "Total  0.077      13.28    8.72        43.69         4        21\n"
     ]
    }
   ],
   "source": [
    "sim = simulator.Simulator(price_return=price_return[:])\n",
    "pnl, tvr = sim.simulate(alpha, book_size=20e6)\n",
    "statDix = 1\n",
    "validDates_v = np.copy(date_list)\n",
    "show_summary(alpha[statDix:],pnl[statDix:],tvr[statDix:],validDates_v[statDix:])"
   ]
  },
  {
   "cell_type": "code",
   "execution_count": 13,
   "metadata": {},
   "outputs": [
    {
     "name": "stdout",
     "output_type": "stream",
     "text": [
      "[INFO] Load Correlation Check\n",
      "[INFO] module_type=PM, region=US, delay=1\n"
     ]
    },
    {
     "data": {
      "text/html": [
       "<div>\n",
       "<table border=\"1\" class=\"dataframe\">\n",
       "  <thead>\n",
       "    <tr style=\"text-align: right;\">\n",
       "      <th></th>\n",
       "      <th>Corr</th>\n",
       "      <th>IR</th>\n",
       "      <th>MDD</th>\n",
       "      <th>tvr</th>\n",
       "      <th>concent90</th>\n",
       "      <th>concent50</th>\n",
       "      <th>return_1yr</th>\n",
       "      <th>category</th>\n",
       "      <th>birthday</th>\n",
       "      <th>author</th>\n",
       "    </tr>\n",
       "  </thead>\n",
       "  <tbody>\n",
       "    <tr>\n",
       "      <th>zttan_usa_h.190325.7.0311.bie|univ2000_wo_otc_sbc0.1|remap_borrowing_cost</th>\n",
       "      <td>0.20</td>\n",
       "      <td>0.08</td>\n",
       "      <td>2.15</td>\n",
       "      <td>43.18</td>\n",
       "      <td>900.00</td>\n",
       "      <td>270.00</td>\n",
       "      <td>2.73</td>\n",
       "      <td>price</td>\n",
       "      <td>20190325</td>\n",
       "      <td>[zttan]</td>\n",
       "    </tr>\n",
       "    <tr>\n",
       "      <th>zttan_usa_h.190318.7.0285.bhk|univ2000_wo_otc_sbc0.1|remap_borrowing_cost</th>\n",
       "      <td>0.19</td>\n",
       "      <td>0.10</td>\n",
       "      <td>2.13</td>\n",
       "      <td>42.98</td>\n",
       "      <td>894.00</td>\n",
       "      <td>265.00</td>\n",
       "      <td>3.15</td>\n",
       "      <td>price</td>\n",
       "      <td>20190318</td>\n",
       "      <td>[zttan]</td>\n",
       "    </tr>\n",
       "    <tr>\n",
       "      <th>zttan_usa_h.190320.2.0292.bhr|univ2000_wo_otc_sbc0.1|remap_borrowing_cost</th>\n",
       "      <td>0.19</td>\n",
       "      <td>0.07</td>\n",
       "      <td>2.43</td>\n",
       "      <td>48.70</td>\n",
       "      <td>884.00</td>\n",
       "      <td>258.00</td>\n",
       "      <td>2.42</td>\n",
       "      <td>price</td>\n",
       "      <td>20190320</td>\n",
       "      <td>[zttan]</td>\n",
       "    </tr>\n",
       "    <tr>\n",
       "      <th>zttan_usa_h.190324.1.0297.bhw|univ2000_wo_otc_sbc0.1|remap_borrowing_cost</th>\n",
       "      <td>0.19</td>\n",
       "      <td>0.10</td>\n",
       "      <td>1.89</td>\n",
       "      <td>44.44</td>\n",
       "      <td>894.00</td>\n",
       "      <td>266.00</td>\n",
       "      <td>3.11</td>\n",
       "      <td>price</td>\n",
       "      <td>20190324</td>\n",
       "      <td>[zttan]</td>\n",
       "    </tr>\n",
       "    <tr>\n",
       "      <th>zttan_usa_h.190428.4.0331.bef|univ2000_wo_otc_sbc0.1|remap_borrowing_cost</th>\n",
       "      <td>0.19</td>\n",
       "      <td>0.08</td>\n",
       "      <td>3.35</td>\n",
       "      <td>46.29</td>\n",
       "      <td>865.00</td>\n",
       "      <td>230.00</td>\n",
       "      <td>2.83</td>\n",
       "      <td>price</td>\n",
       "      <td>20190428</td>\n",
       "      <td>[zttan]</td>\n",
       "    </tr>\n",
       "    <tr>\n",
       "      <th>jaekyunkim_usa_h.181202.2.fs.wc.pr.qa.05|univ1000_wo_otc_sbc0.1|remap_borrowing_cost</th>\n",
       "      <td>-0.15</td>\n",
       "      <td>0.07</td>\n",
       "      <td>5.87</td>\n",
       "      <td>9.65</td>\n",
       "      <td>354.00</td>\n",
       "      <td>49.00</td>\n",
       "      <td>5.06</td>\n",
       "      <td>earnings_call</td>\n",
       "      <td>20181202</td>\n",
       "      <td>[jaekyunkim]</td>\n",
       "    </tr>\n",
       "    <tr>\n",
       "      <th>sylee_usa_h.171115.46.NN.SI.002|univ2000_wo_otc_sbc0.1|remap_borrowing_cost</th>\n",
       "      <td>-0.15</td>\n",
       "      <td>0.07</td>\n",
       "      <td>3.20</td>\n",
       "      <td>31.44</td>\n",
       "      <td>1,256.00</td>\n",
       "      <td>333.00</td>\n",
       "      <td>2.53</td>\n",
       "      <td>short_interest</td>\n",
       "      <td>20171115</td>\n",
       "      <td>[sylee]</td>\n",
       "    </tr>\n",
       "    <tr>\n",
       "      <th>dltrinh_usa_h.180216.22.hff22|univ2000_wo_otc_sbc0.1|remap_borrowing_cost</th>\n",
       "      <td>-0.15</td>\n",
       "      <td>0.08</td>\n",
       "      <td>1.38</td>\n",
       "      <td>7.62</td>\n",
       "      <td>1,070.00</td>\n",
       "      <td>410.00</td>\n",
       "      <td>1.33</td>\n",
       "      <td>fundamental</td>\n",
       "      <td>20180216</td>\n",
       "      <td>[dltrinh]</td>\n",
       "    </tr>\n",
       "    <tr>\n",
       "      <th>jaehochoi_usa_h.190301.4.ir.yr.reversion.344|univ1000_wo_otc_sbc0.1|remap_borrowing_cost</th>\n",
       "      <td>-0.16</td>\n",
       "      <td>0.04</td>\n",
       "      <td>2.45</td>\n",
       "      <td>21.88</td>\n",
       "      <td>753.00</td>\n",
       "      <td>214.00</td>\n",
       "      <td>1.07</td>\n",
       "      <td>reversion</td>\n",
       "      <td>20190220</td>\n",
       "      <td>[jaehochoi]</td>\n",
       "    </tr>\n",
       "    <tr>\n",
       "      <th>zqbok_usa_h.180424.4.hff.cfo.04d|R2_wo_otc|remap</th>\n",
       "      <td>-0.19</td>\n",
       "      <td>0.06</td>\n",
       "      <td>19.62</td>\n",
       "      <td>55.18</td>\n",
       "      <td>327.00</td>\n",
       "      <td>25.00</td>\n",
       "      <td>4.18</td>\n",
       "      <td>fundamental_trend</td>\n",
       "      <td>20180423</td>\n",
       "      <td>[zqbok]</td>\n",
       "    </tr>\n",
       "  </tbody>\n",
       "</table>\n",
       "</div>"
      ],
      "text/plain": [
       "                                                    Corr   IR   MDD   tvr  \\\n",
       "zttan_usa_h.190325.7.0311.bie|univ2000_wo_otc_s...  0.20 0.08  2.15 43.18   \n",
       "zttan_usa_h.190318.7.0285.bhk|univ2000_wo_otc_s...  0.19 0.10  2.13 42.98   \n",
       "zttan_usa_h.190320.2.0292.bhr|univ2000_wo_otc_s...  0.19 0.07  2.43 48.70   \n",
       "zttan_usa_h.190324.1.0297.bhw|univ2000_wo_otc_s...  0.19 0.10  1.89 44.44   \n",
       "zttan_usa_h.190428.4.0331.bef|univ2000_wo_otc_s...  0.19 0.08  3.35 46.29   \n",
       "jaekyunkim_usa_h.181202.2.fs.wc.pr.qa.05|univ10... -0.15 0.07  5.87  9.65   \n",
       "sylee_usa_h.171115.46.NN.SI.002|univ2000_wo_otc... -0.15 0.07  3.20 31.44   \n",
       "dltrinh_usa_h.180216.22.hff22|univ2000_wo_otc_s... -0.15 0.08  1.38  7.62   \n",
       "jaehochoi_usa_h.190301.4.ir.yr.reversion.344|un... -0.16 0.04  2.45 21.88   \n",
       "zqbok_usa_h.180424.4.hff.cfo.04d|R2_wo_otc|remap   -0.19 0.06 19.62 55.18   \n",
       "\n",
       "                                                    concent90  concent50  \\\n",
       "zttan_usa_h.190325.7.0311.bie|univ2000_wo_otc_s...     900.00     270.00   \n",
       "zttan_usa_h.190318.7.0285.bhk|univ2000_wo_otc_s...     894.00     265.00   \n",
       "zttan_usa_h.190320.2.0292.bhr|univ2000_wo_otc_s...     884.00     258.00   \n",
       "zttan_usa_h.190324.1.0297.bhw|univ2000_wo_otc_s...     894.00     266.00   \n",
       "zttan_usa_h.190428.4.0331.bef|univ2000_wo_otc_s...     865.00     230.00   \n",
       "jaekyunkim_usa_h.181202.2.fs.wc.pr.qa.05|univ10...     354.00      49.00   \n",
       "sylee_usa_h.171115.46.NN.SI.002|univ2000_wo_otc...   1,256.00     333.00   \n",
       "dltrinh_usa_h.180216.22.hff22|univ2000_wo_otc_s...   1,070.00     410.00   \n",
       "jaehochoi_usa_h.190301.4.ir.yr.reversion.344|un...     753.00     214.00   \n",
       "zqbok_usa_h.180424.4.hff.cfo.04d|R2_wo_otc|remap       327.00      25.00   \n",
       "\n",
       "                                                    return_1yr  \\\n",
       "zttan_usa_h.190325.7.0311.bie|univ2000_wo_otc_s...        2.73   \n",
       "zttan_usa_h.190318.7.0285.bhk|univ2000_wo_otc_s...        3.15   \n",
       "zttan_usa_h.190320.2.0292.bhr|univ2000_wo_otc_s...        2.42   \n",
       "zttan_usa_h.190324.1.0297.bhw|univ2000_wo_otc_s...        3.11   \n",
       "zttan_usa_h.190428.4.0331.bef|univ2000_wo_otc_s...        2.83   \n",
       "jaekyunkim_usa_h.181202.2.fs.wc.pr.qa.05|univ10...        5.06   \n",
       "sylee_usa_h.171115.46.NN.SI.002|univ2000_wo_otc...        2.53   \n",
       "dltrinh_usa_h.180216.22.hff22|univ2000_wo_otc_s...        1.33   \n",
       "jaehochoi_usa_h.190301.4.ir.yr.reversion.344|un...        1.07   \n",
       "zqbok_usa_h.180424.4.hff.cfo.04d|R2_wo_otc|remap          4.18   \n",
       "\n",
       "                                                             category  \\\n",
       "zttan_usa_h.190325.7.0311.bie|univ2000_wo_otc_s...              price   \n",
       "zttan_usa_h.190318.7.0285.bhk|univ2000_wo_otc_s...              price   \n",
       "zttan_usa_h.190320.2.0292.bhr|univ2000_wo_otc_s...              price   \n",
       "zttan_usa_h.190324.1.0297.bhw|univ2000_wo_otc_s...              price   \n",
       "zttan_usa_h.190428.4.0331.bef|univ2000_wo_otc_s...              price   \n",
       "jaekyunkim_usa_h.181202.2.fs.wc.pr.qa.05|univ10...      earnings_call   \n",
       "sylee_usa_h.171115.46.NN.SI.002|univ2000_wo_otc...     short_interest   \n",
       "dltrinh_usa_h.180216.22.hff22|univ2000_wo_otc_s...        fundamental   \n",
       "jaehochoi_usa_h.190301.4.ir.yr.reversion.344|un...          reversion   \n",
       "zqbok_usa_h.180424.4.hff.cfo.04d|R2_wo_otc|remap    fundamental_trend   \n",
       "\n",
       "                                                    birthday        author  \n",
       "zttan_usa_h.190325.7.0311.bie|univ2000_wo_otc_s...  20190325       [zttan]  \n",
       "zttan_usa_h.190318.7.0285.bhk|univ2000_wo_otc_s...  20190318       [zttan]  \n",
       "zttan_usa_h.190320.2.0292.bhr|univ2000_wo_otc_s...  20190320       [zttan]  \n",
       "zttan_usa_h.190324.1.0297.bhw|univ2000_wo_otc_s...  20190324       [zttan]  \n",
       "zttan_usa_h.190428.4.0331.bef|univ2000_wo_otc_s...  20190428       [zttan]  \n",
       "jaekyunkim_usa_h.181202.2.fs.wc.pr.qa.05|univ10...  20181202  [jaekyunkim]  \n",
       "sylee_usa_h.171115.46.NN.SI.002|univ2000_wo_otc...  20171115       [sylee]  \n",
       "dltrinh_usa_h.180216.22.hff22|univ2000_wo_otc_s...  20180216     [dltrinh]  \n",
       "jaehochoi_usa_h.190301.4.ir.yr.reversion.344|un...  20190220   [jaehochoi]  \n",
       "zqbok_usa_h.180424.4.hff.cfo.04d|R2_wo_otc|remap    20180423       [zqbok]  "
      ]
     },
     "metadata": {},
     "output_type": "display_data"
    }
   ],
   "source": [
    "corr_check = CorrCheck(delay='1')\n",
    "display(corr_check.check_corr(pnl, start_date = validDates_v[0], end_date = validDates_v[-1]))"
   ]
  }
 ],
 "metadata": {
  "anaconda-cloud": {},
  "kernelspec": {
   "display_name": "Python [default]",
   "language": "python",
   "name": "python2"
  },
  "language_info": {
   "codemirror_mode": {
    "name": "ipython",
    "version": 2
   },
   "file_extension": ".py",
   "mimetype": "text/x-python",
   "name": "python",
   "nbconvert_exporter": "python",
   "pygments_lexer": "ipython2",
   "version": "2.7.15"
  }
 },
 "nbformat": 4,
 "nbformat_minor": 2
}
