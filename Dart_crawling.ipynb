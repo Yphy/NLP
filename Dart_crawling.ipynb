{
  "nbformat": 4,
  "nbformat_minor": 0,
  "metadata": {
    "colab": {
      "name": "Dart crawling.ipynb",
      "provenance": [],
      "collapsed_sections": [],
      "authorship_tag": "ABX9TyMSPHpb6sw7YCTKHM1H1uAj",
      "include_colab_link": true
    },
    "kernelspec": {
      "name": "python3",
      "display_name": "Python 3"
    }
  },
  "cells": [
    {
      "cell_type": "markdown",
      "metadata": {
        "id": "view-in-github",
        "colab_type": "text"
      },
      "source": [
        "<a href=\"https://colab.research.google.com/github/Yphy/NLP/blob/master/Dart_crawling.ipynb\" target=\"_parent\"><img src=\"https://colab.research.google.com/assets/colab-badge.svg\" alt=\"Open In Colab\"/></a>"
      ]
    },
    {
      "cell_type": "code",
      "metadata": {
        "id": "BovKoXgzagtp",
        "colab_type": "code",
        "colab": {}
      },
      "source": [
        "import pandas as pd\n",
        "import re\n",
        "from bs4 import BeautifulSoup\n",
        "import requests\n",
        "import json\n",
        "import time"
      ],
      "execution_count": 0,
      "outputs": []
    },
    {
      "cell_type": "code",
      "metadata": {
        "id": "BUmERSORaiIE",
        "colab_type": "code",
        "outputId": "d92ea99a-74cf-4c1f-83a9-7ce1339d4b38",
        "colab": {
          "base_uri": "https://localhost:8080/",
          "height": 127
        }
      },
      "source": [
        "from google.colab import drive\n",
        "\n",
        "drive.mount('/content/gdrive')"
      ],
      "execution_count": 0,
      "outputs": [
        {
          "output_type": "stream",
          "text": [
            "Go to this URL in a browser: https://accounts.google.com/o/oauth2/auth?client_id=947318989803-6bn6qk8qdgf4n4g3pfee6491hc0brc4i.apps.googleusercontent.com&redirect_uri=urn%3aietf%3awg%3aoauth%3a2.0%3aoob&response_type=code&scope=email%20https%3a%2f%2fwww.googleapis.com%2fauth%2fdocs.test%20https%3a%2f%2fwww.googleapis.com%2fauth%2fdrive%20https%3a%2f%2fwww.googleapis.com%2fauth%2fdrive.photos.readonly%20https%3a%2f%2fwww.googleapis.com%2fauth%2fpeopleapi.readonly\n",
            "\n",
            "Enter your authorization code:\n",
            "··········\n",
            "Mounted at /content/gdrive\n"
          ],
          "name": "stdout"
        }
      ]
    },
    {
      "cell_type": "code",
      "metadata": {
        "id": "CAZyUEHqamQz",
        "colab_type": "code",
        "colab": {}
      },
      "source": [
        "api_code = '1ad5e3556e6de0c6e73c59883409f908364e8f25'\n",
        "crp_code = ''\n",
        "start_date = '19900101' \n",
        "url = 'http://dart.fss.or.kr/api/search.json?auth='+api_code+'&crp_cd='+crp_code+'&start_dt='+start_date+'&bsn_tp=A001'"
      ],
      "execution_count": 0,
      "outputs": []
    },
    {
      "cell_type": "code",
      "metadata": {
        "id": "a3TNVQdna26m",
        "colab_type": "code",
        "colab": {}
      },
      "source": [
        "def get_df(code): #검색된 회사의 사업보고서 내용을 데이터프레임으로 저장\n",
        "    api_code = '1ad5e3556e6de0c6e73c59883409f908364e8f25'\n",
        "    start_date = '19900101'\n",
        "    url = 'http://dart.fss.or.kr/api/search.json?auth='+api_code+'&crp_cd='+code+'&start_dt='+start_date+'&bsn_tp=A001'\n",
        "    req =requests.get(url)\n",
        "    html = req.text\n",
        "    code = json.loads(html)\n",
        "    soup = BeautifulSoup(html,'html.parser')\n",
        "    \n",
        "    data = pd.DataFrame() \n",
        "    for t in code['list']:\n",
        "        temp = pd.DataFrame(([[t['crp_cls'],t['crp_nm'],t['crp_cd'],t['rpt_nm'],t['rcp_no'],t['flr_nm'],t['rcp_dt'],t['rmk']]])\n",
        "                            ,columns=[\"crp_cls\",\"crp_nm\",\"crp_cd\",\"rpt_nm\",\"rcp_no\",\"flr_nm\",\"rcp_dt\",\"rmk\"])\n",
        "        data = pd.concat([data,temp])\n",
        "    data.reset_index(drop=True,inplace=True)\n",
        "    return(data)\n"
      ],
      "execution_count": 0,
      "outputs": []
    },
    {
      "cell_type": "code",
      "metadata": {
        "id": "UnOs2ly7a238",
        "colab_type": "code",
        "colab": {}
      },
      "source": [
        "def get_url(data): #dataframe을 넣었을 때 해당 사업보고서의 주소를 저장\n",
        "    rcp_ls=[]\n",
        "    for row in data['rcp_no']:\n",
        "        rcp_ls.append(row)\n",
        "        urls = []\n",
        "        for i in rcp_ls:\n",
        "            urls.append('https://dart.fss.or.kr/dsaf001/main.do?rcpNo='+i)\n",
        "    \n",
        "    return urls"
      ],
      "execution_count": 0,
      "outputs": []
    },
    {
      "cell_type": "code",
      "metadata": {
        "id": "mk2SCGLNa21G",
        "colab_type": "code",
        "colab": {}
      },
      "source": [
        "def final_url(url): #사업보고서 주소를 넣으면 '이사의 경영진단 및 분석' 주소 반환\n",
        "    try:\n",
        "        req2 = requests.get(url)\n",
        "        html2 = req2.text\n",
        "        soup2 = BeautifulSoup(html2, 'html.parser')\n",
        "        body = str(soup2.find('head'))\n",
        "\n",
        "        a = re.search('이사의 경영진단 및 분석의견',body).span()\n",
        "        b= re.search(r'viewDoc(.*);',body[a[0]:]).group()\n",
        "        list = b[8:-2].split(',')\n",
        "        list = [i[1:-1] for i in list]\n",
        "        list[1] = list[1][1:] #드러움\n",
        "        list[2] = list[2][1:]\n",
        "        list[3] = list[3][1:]\n",
        "        list[4] = list[4][1:]\n",
        "        list[5] = list[5][1:]    \n",
        "\n",
        "        url_final = 'http://dart.fss.or.kr/report/viewer.do?rcpNo='+ list[0] + '&dcmNo='+ list[1]+'&eleId=' +list[2] + '&offset=' + list[3] + '&length=' + list[4] + '&dtd=dart3.xsd'\n",
        "        return(url_final)\n",
        "    \n",
        "    except AttributeError as e:\n",
        "        print(e)"
      ],
      "execution_count": 0,
      "outputs": []
    },
    {
      "cell_type": "code",
      "metadata": {
        "id": "ukfVgnIma2yU",
        "colab_type": "code",
        "colab": {}
      },
      "source": [
        "def extracting_text(url): #경영진단 url 넣었을 시 해당 본문 텍스트 반환\n",
        "    req3 = requests.get(url)\n",
        "    html3 = req3.text\n",
        "    soup3 = BeautifulSoup(html3,'html.parser')\n",
        "    tables = []\n",
        "    ka = soup3.find_all('span') #table을 제외한 본문 text 부분 찾아서 리스트안에저장\n",
        "    for k in ka:\n",
        "        tables.append(k.get_text())\n",
        "    table = ''.join(tables) #리스트를 string으로 바꾼다\n",
        "    table = table.replace('\\xa0','') #정리\n",
        "    return table\n",
        "    "
      ],
      "execution_count": 0,
      "outputs": []
    },
    {
      "cell_type": "code",
      "metadata": {
        "id": "vtKje2IXa2vz",
        "colab_type": "code",
        "colab": {}
      },
      "source": [
        "def extracting_text2(url): #경영진단 url 넣었을 시 해당 본문 텍스트 반환\n",
        "    req3 = requests.get(url)\n",
        "    html3 = req3.text\n",
        "    soup3 = BeautifulSoup(html3,'html.parser')\n",
        "    tables = []\n",
        "    ka = soup3.find_all('p') #table을 제외한 본문 text 부분 찾아서 리스트안에저장\n",
        "    for k in ka:\n",
        "        tables.append(k.get_text())\n",
        "    table = ''.join(tables) #리스트를 string으로 바꾼다\n",
        "    table = table.replace('\\xa0','') #정리\n",
        "    table = table.replace('\\n','')\n",
        "    return table"
      ],
      "execution_count": 0,
      "outputs": []
    },
    {
      "cell_type": "code",
      "metadata": {
        "id": "SgS5tHJBa2tf",
        "colab_type": "code",
        "colab": {}
      },
      "source": [
        "def final(crp_code): #기업의 종목 코드 넣었을 시 근 10개년 종목내용을 저장한 dataframe 반환\n",
        "    try:\n",
        "        df = get_df(crp_code)\n",
        "        urls = get_url(df)\n",
        "        strs=[]\n",
        "        for i in urls:\n",
        "            strs.append(extracting_text2(final_url(i)))\n",
        "        str_series = pd.Series(strs)\n",
        "        df['str']= str_series\n",
        "        return(df)\n",
        "    \n",
        "    except:\n",
        "        pass"
      ],
      "execution_count": 0,
      "outputs": []
    },
    {
      "cell_type": "code",
      "metadata": {
        "id": "xgsdbAeEa2q6",
        "colab_type": "code",
        "colab": {}
      },
      "source": [
        "def make_df(df): #종목코드가 들어간 리스트가 있는 데이터프레임을 넣었을 시 str이 모두 추출된 데이터프레임 반환\n",
        "    start_vect=time.time()\n",
        "    ls = []\n",
        "    body = pd.DataFrame()\n",
        "    try:\n",
        "        for i in df['Symbol']:\n",
        "            ls.append(str(i).zfill(6))\n",
        "        for i in ls:\n",
        "                temp = final(i)\n",
        "                body = pd.concat([body,temp],ignore_index=True)\n",
        "    except AttributeError as e:\n",
        "        print(e)\n",
        "    \n",
        "    print(\"training Runtime: %0.2f Minutes\"%((time.time() - start_vect)/60))\n",
        "    return(body)\n",
        "\n"
      ],
      "execution_count": 0,
      "outputs": []
    },
    {
      "cell_type": "code",
      "metadata": {
        "id": "f8lRjjhXa2oO",
        "colab_type": "code",
        "colab": {}
      },
      "source": [
        "kospi_df = pd.read_csv('gdrive/My Drive/colab/dart/코스피상장회사.csv',index_col=0)  #전체유가증권시장"
      ],
      "execution_count": 0,
      "outputs": []
    },
    {
      "cell_type": "code",
      "metadata": {
        "id": "_qs-GUBga2kz",
        "colab_type": "code",
        "colab": {}
      },
      "source": [
        "book = pd.read_csv('gdrive/My Drive/colab/dart/kospi200.csv') #kospi200 기업 데이터 불러오기"
      ],
      "execution_count": 0,
      "outputs": []
    },
    {
      "cell_type": "code",
      "metadata": {
        "id": "emZHdKx0a2f_",
        "colab_type": "code",
        "colab": {}
      },
      "source": [
        "book1 = book[0:50]\n",
        "book2 = book[50:100]\n",
        "book3 = book[100:150]\n",
        "book4 = book[150:200]"
      ],
      "execution_count": 0,
      "outputs": []
    },
    {
      "cell_type": "code",
      "metadata": {
        "id": "lqgV7-Tthd6J",
        "colab_type": "code",
        "outputId": "71af67ed-b0c1-4148-e257-70568930cbec",
        "colab": {
          "base_uri": "https://localhost:8080/",
          "height": 161
        }
      },
      "source": [
        "df_1 = make_df(book1) #kospi200기업 part1을 저장 7nan"
      ],
      "execution_count": 0,
      "outputs": [
        {
          "output_type": "stream",
          "text": [
            "'NoneType' object has no attribute 'span'\n",
            "'NoneType' object has no attribute 'span'\n",
            "'NoneType' object has no attribute 'span'\n",
            "'NoneType' object has no attribute 'span'\n",
            "'NoneType' object has no attribute 'span'\n",
            "'NoneType' object has no attribute 'span'\n",
            "'NoneType' object has no attribute 'span'\n",
            "training Runtime: 13.93 Minutes\n"
          ],
          "name": "stdout"
        }
      ]
    },
    {
      "cell_type": "code",
      "metadata": {
        "id": "lSa8Du_blxSe",
        "colab_type": "code",
        "outputId": "13836c54-9293-4cd4-de36-6588520ec40c",
        "colab": {
          "base_uri": "https://localhost:8080/",
          "height": 143
        }
      },
      "source": [
        "df_2 = make_df(book2) #part2 :6nan"
      ],
      "execution_count": 0,
      "outputs": [
        {
          "output_type": "stream",
          "text": [
            "'NoneType' object has no attribute 'span'\n",
            "'NoneType' object has no attribute 'span'\n",
            "'NoneType' object has no attribute 'span'\n",
            "'NoneType' object has no attribute 'span'\n",
            "'NoneType' object has no attribute 'span'\n",
            "'NoneType' object has no attribute 'span'\n",
            "training Runtime: 13.32 Minutes\n"
          ],
          "name": "stdout"
        }
      ]
    },
    {
      "cell_type": "code",
      "metadata": {
        "id": "yzKoLYFRq46d",
        "colab_type": "code",
        "outputId": "df453b3b-c5e3-4bca-df74-1522fbea22af",
        "colab": {
          "base_uri": "https://localhost:8080/",
          "height": 233
        }
      },
      "source": [
        "df_3 = make_df(book3) #part3:6nan ,part4:4nan\n",
        "df_4 = make_df(book4)"
      ],
      "execution_count": 0,
      "outputs": [
        {
          "output_type": "stream",
          "text": [
            "'NoneType' object has no attribute 'span'\n",
            "'NoneType' object has no attribute 'span'\n",
            "'NoneType' object has no attribute 'span'\n",
            "'NoneType' object has no attribute 'span'\n",
            "'NoneType' object has no attribute 'span'\n",
            "'NoneType' object has no attribute 'span'\n",
            "training Runtime: 13.01 Minutes\n",
            "'NoneType' object has no attribute 'span'\n",
            "'NoneType' object has no attribute 'span'\n",
            "'NoneType' object has no attribute 'span'\n",
            "'NoneType' object has no attribute 'span'\n",
            "training Runtime: 12.83 Minutes\n"
          ],
          "name": "stdout"
        }
      ]
    },
    {
      "cell_type": "code",
      "metadata": {
        "id": "WDRs9JZDxVkE",
        "colab_type": "code",
        "colab": {}
      },
      "source": [
        "df_full = pd.concat([df_1,df_2,df_3,df_4],ignore_index=True) #나눠서 저장한 것들"
      ],
      "execution_count": 0,
      "outputs": []
    },
    {
      "cell_type": "code",
      "metadata": {
        "id": "o4GRuH8SyXEm",
        "colab_type": "code",
        "colab": {}
      },
      "source": [
        "df_full.to_csv('/gdrive/My Drive/colab/dart/full_df.csv') #csv파일 저장"
      ],
      "execution_count": 0,
      "outputs": []
    },
    {
      "cell_type": "code",
      "metadata": {
        "id": "eCmhup4Zz0V_",
        "colab_type": "code",
        "colab": {}
      },
      "source": [
        "full_df = pd.read_csv('gdrive/My Drive/colab/dart/full_df.csv') #test"
      ],
      "execution_count": 0,
      "outputs": []
    },
    {
      "cell_type": "code",
      "metadata": {
        "id": "B3ivfwE_05g1",
        "colab_type": "code",
        "outputId": "9021cd3e-6c87-4cd6-da3c-d81eaf5945c6",
        "colab": {
          "base_uri": "https://localhost:8080/",
          "height": 419
        }
      },
      "source": [
        "full_df"
      ],
      "execution_count": 0,
      "outputs": [
        {
          "output_type": "execute_result",
          "data": {
            "text/html": [
              "<div>\n",
              "<style scoped>\n",
              "    .dataframe tbody tr th:only-of-type {\n",
              "        vertical-align: middle;\n",
              "    }\n",
              "\n",
              "    .dataframe tbody tr th {\n",
              "        vertical-align: top;\n",
              "    }\n",
              "\n",
              "    .dataframe thead th {\n",
              "        text-align: right;\n",
              "    }\n",
              "</style>\n",
              "<table border=\"1\" class=\"dataframe\">\n",
              "  <thead>\n",
              "    <tr style=\"text-align: right;\">\n",
              "      <th></th>\n",
              "      <th>Unnamed: 0</th>\n",
              "      <th>crp_cls</th>\n",
              "      <th>crp_nm</th>\n",
              "      <th>crp_cd</th>\n",
              "      <th>rpt_nm</th>\n",
              "      <th>rcp_no</th>\n",
              "      <th>flr_nm</th>\n",
              "      <th>rcp_dt</th>\n",
              "      <th>rmk</th>\n",
              "      <th>str</th>\n",
              "    </tr>\n",
              "  </thead>\n",
              "  <tbody>\n",
              "    <tr>\n",
              "      <th>0</th>\n",
              "      <td>0</td>\n",
              "      <td>Y</td>\n",
              "      <td>삼성전자</td>\n",
              "      <td>5930.0</td>\n",
              "      <td>사업보고서 (2018.12)</td>\n",
              "      <td>2.019040e+13</td>\n",
              "      <td>삼성전자</td>\n",
              "      <td>20190401.0</td>\n",
              "      <td>연</td>\n",
              "      <td>IV. 이사의 경영진단 및 분석의견1. 예측정보에 대한 주의사항본 자료는 미래에 대...</td>\n",
              "    </tr>\n",
              "    <tr>\n",
              "      <th>1</th>\n",
              "      <td>1</td>\n",
              "      <td>Y</td>\n",
              "      <td>삼성전자</td>\n",
              "      <td>5930.0</td>\n",
              "      <td>사업보고서 (2017.12)</td>\n",
              "      <td>2.018040e+13</td>\n",
              "      <td>삼성전자</td>\n",
              "      <td>20180402.0</td>\n",
              "      <td>연</td>\n",
              "      <td>V. 이사의 경영진단 및 분석의견1. 예측정보에 대한 주의사항본 자료는 미래에 대한...</td>\n",
              "    </tr>\n",
              "    <tr>\n",
              "      <th>2</th>\n",
              "      <td>2</td>\n",
              "      <td>Y</td>\n",
              "      <td>삼성전자</td>\n",
              "      <td>5930.0</td>\n",
              "      <td>사업보고서 (2016.12)</td>\n",
              "      <td>2.017033e+13</td>\n",
              "      <td>삼성전자</td>\n",
              "      <td>20170331.0</td>\n",
              "      <td>연</td>\n",
              "      <td>V. 이사의 경영진단 및 분석의견1. 예측정보에 대한 주의사항본 자료는 미래에 대한...</td>\n",
              "    </tr>\n",
              "    <tr>\n",
              "      <th>3</th>\n",
              "      <td>3</td>\n",
              "      <td>Y</td>\n",
              "      <td>삼성전자</td>\n",
              "      <td>5930.0</td>\n",
              "      <td>사업보고서 (2015.12)</td>\n",
              "      <td>2.016033e+13</td>\n",
              "      <td>삼성전자</td>\n",
              "      <td>20160330.0</td>\n",
              "      <td>연</td>\n",
              "      <td>V. 이사의 경영진단 및 분석의견1. 예측정보에 대한 주의사항본 자료는 미래에 대한...</td>\n",
              "    </tr>\n",
              "    <tr>\n",
              "      <th>4</th>\n",
              "      <td>4</td>\n",
              "      <td>Y</td>\n",
              "      <td>삼성전자</td>\n",
              "      <td>5930.0</td>\n",
              "      <td>사업보고서 (2014.12)</td>\n",
              "      <td>2.015033e+13</td>\n",
              "      <td>삼성전자</td>\n",
              "      <td>20150331.0</td>\n",
              "      <td>연</td>\n",
              "      <td>V. 이사의 경영진단 및 분석의견1. 예측정보에 대한 주의사항본 자료는 미래에 대한...</td>\n",
              "    </tr>\n",
              "    <tr>\n",
              "      <th>...</th>\n",
              "      <td>...</td>\n",
              "      <td>...</td>\n",
              "      <td>...</td>\n",
              "      <td>...</td>\n",
              "      <td>...</td>\n",
              "      <td>...</td>\n",
              "      <td>...</td>\n",
              "      <td>...</td>\n",
              "      <td>...</td>\n",
              "      <td>...</td>\n",
              "    </tr>\n",
              "    <tr>\n",
              "      <th>1663</th>\n",
              "      <td>1662</td>\n",
              "      <td>Y</td>\n",
              "      <td>세방전지</td>\n",
              "      <td>4490.0</td>\n",
              "      <td>사업보고서 (2013.12)</td>\n",
              "      <td>2.014033e+13</td>\n",
              "      <td>세방전지</td>\n",
              "      <td>20140331.0</td>\n",
              "      <td>NaN</td>\n",
              "      <td>V. 이사의 경영진단 및 분석의견1. 예측정보에 대한 주의사항 당사가 동 이사의 경...</td>\n",
              "    </tr>\n",
              "    <tr>\n",
              "      <th>1664</th>\n",
              "      <td>1663</td>\n",
              "      <td>Y</td>\n",
              "      <td>세방전지</td>\n",
              "      <td>4490.0</td>\n",
              "      <td>사업보고서 (2012.12)</td>\n",
              "      <td>2.013033e+13</td>\n",
              "      <td>세방전지</td>\n",
              "      <td>20130329.0</td>\n",
              "      <td>NaN</td>\n",
              "      <td>V. 이사의 경영진단 및 분석의견1. 예측정보에 대한 주의사항 당사가 동 이사의 경...</td>\n",
              "    </tr>\n",
              "    <tr>\n",
              "      <th>1665</th>\n",
              "      <td>1664</td>\n",
              "      <td>Y</td>\n",
              "      <td>세방전지</td>\n",
              "      <td>4490.0</td>\n",
              "      <td>사업보고서 (2011.12)</td>\n",
              "      <td>2.012033e+13</td>\n",
              "      <td>세방전지</td>\n",
              "      <td>20120330.0</td>\n",
              "      <td>NaN</td>\n",
              "      <td>V. 이사의 경영진단 및 분석의견1. 예측정보에 대한 주의사항 당사가 동 이사의 경...</td>\n",
              "    </tr>\n",
              "    <tr>\n",
              "      <th>1666</th>\n",
              "      <td>1665</td>\n",
              "      <td>Y</td>\n",
              "      <td>세방전지</td>\n",
              "      <td>4490.0</td>\n",
              "      <td>사업보고서 (2010.12)</td>\n",
              "      <td>2.011033e+13</td>\n",
              "      <td>세방전지</td>\n",
              "      <td>20110331.0</td>\n",
              "      <td>NaN</td>\n",
              "      <td>V. 이사의 경영진단 및 분석의견1. 예측정보에 대한 주의사항 당사가 동 이사의 경...</td>\n",
              "    </tr>\n",
              "    <tr>\n",
              "      <th>1667</th>\n",
              "      <td>1666</td>\n",
              "      <td>Y</td>\n",
              "      <td>세방전지</td>\n",
              "      <td>4490.0</td>\n",
              "      <td>사업보고서 (2009.12)</td>\n",
              "      <td>2.010033e+13</td>\n",
              "      <td>세방전지</td>\n",
              "      <td>20100331.0</td>\n",
              "      <td>NaN</td>\n",
              "      <td>V. 이사의 경영진단 및 분석의견1. 예측정보에 대한 주의사항 당사가 동 이사의 경...</td>\n",
              "    </tr>\n",
              "  </tbody>\n",
              "</table>\n",
              "<p>1668 rows × 10 columns</p>\n",
              "</div>"
            ],
            "text/plain": [
              "     Unnamed: 0 crp_cls  ...  rmk                                                str\n",
              "0             0       Y  ...    연  IV. 이사의 경영진단 및 분석의견1. 예측정보에 대한 주의사항본 자료는 미래에 대...\n",
              "1             1       Y  ...    연  V. 이사의 경영진단 및 분석의견1. 예측정보에 대한 주의사항본 자료는 미래에 대한...\n",
              "2             2       Y  ...    연  V. 이사의 경영진단 및 분석의견1. 예측정보에 대한 주의사항본 자료는 미래에 대한...\n",
              "3             3       Y  ...    연  V. 이사의 경영진단 및 분석의견1. 예측정보에 대한 주의사항본 자료는 미래에 대한...\n",
              "4             4       Y  ...    연  V. 이사의 경영진단 및 분석의견1. 예측정보에 대한 주의사항본 자료는 미래에 대한...\n",
              "...         ...     ...  ...  ...                                                ...\n",
              "1663       1662       Y  ...  NaN  V. 이사의 경영진단 및 분석의견1. 예측정보에 대한 주의사항 당사가 동 이사의 경...\n",
              "1664       1663       Y  ...  NaN  V. 이사의 경영진단 및 분석의견1. 예측정보에 대한 주의사항 당사가 동 이사의 경...\n",
              "1665       1664       Y  ...  NaN  V. 이사의 경영진단 및 분석의견1. 예측정보에 대한 주의사항 당사가 동 이사의 경...\n",
              "1666       1665       Y  ...  NaN  V. 이사의 경영진단 및 분석의견1. 예측정보에 대한 주의사항 당사가 동 이사의 경...\n",
              "1667       1666       Y  ...  NaN  V. 이사의 경영진단 및 분석의견1. 예측정보에 대한 주의사항 당사가 동 이사의 경...\n",
              "\n",
              "[1668 rows x 10 columns]"
            ]
          },
          "metadata": {
            "tags": []
          },
          "execution_count": 37
        }
      ]
    }
  ]
}