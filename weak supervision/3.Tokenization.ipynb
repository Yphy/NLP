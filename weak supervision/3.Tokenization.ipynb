{
 "cells": [
  {
   "cell_type": "markdown",
   "metadata": {},
   "source": [
    "# Tokenization"
   ]
  },
  {
   "cell_type": "code",
   "execution_count": 1,
   "metadata": {},
   "outputs": [],
   "source": [
    "import MeCab\n",
    "import re\n",
    "import pandas as pd\n",
    "import numpy as np\n",
    "\n",
    "mecab = MeCab.Tagger()"
   ]
  },
  {
   "cell_type": "markdown",
   "metadata": {},
   "source": [
    "한국어 형태소 분석기인 mecab을 가지고 Tokenization을 해주었습니다. 명사만 따로 추출하여 wordcloud로 확인하기 위해서 명사를 따로 추출했고 토큰화가 완료된 문서들을 str_token의 형태로 추가했습니다."
   ]
  },
  {
   "cell_type": "code",
   "execution_count": 38,
   "metadata": {},
   "outputs": [],
   "source": [
    "df_ = pd.read_csv('./data/crawling/raw/df_complete.csv',index_col = 0)\n",
    "del1 = df_[df_.rmk != '정'] #rmk 제거\n",
    "df = del1[del1.rmk != '정연'].reset_index(drop=True)\n",
    "df.rmk = df.rmk.fillna('nan')"
   ]
  },
  {
   "cell_type": "code",
   "execution_count": 54,
   "metadata": {},
   "outputs": [],
   "source": [
    "#display(df.str[df.str.isnull() != False])\n",
    "drop_ls = [x for x in df.str[df.str.isnull() != False].index]\n",
    "df = df.drop(drop_ls, axis=0)"
   ]
  },
  {
   "cell_type": "code",
   "execution_count": 58,
   "metadata": {},
   "outputs": [],
   "source": [
    "def mecab_morphs(text):   # konlpy의 mecab output 형태와 같게 만들어주는 함수\n",
    "    morphs = []\n",
    "    \n",
    "    pattern = re.compile(\".*\\t[A-Z]+\") \n",
    "    \n",
    "    temp = [tuple(pattern.match(token).group(0).split(\"\\t\")) for token in mecab.parse(text).splitlines()[:-1]]\n",
    "        \n",
    "    for token in temp:\n",
    "        morphs.append(token[0])\n",
    "    \n",
    "    return morphs"
   ]
  },
  {
   "cell_type": "code",
   "execution_count": 59,
   "metadata": {},
   "outputs": [],
   "source": [
    "def mecab_nouns(text):#명사만 반환\n",
    "    morphs = []\n",
    "    pattern = re.compile(\".*\\t[A-Z]+\")\n",
    "    temp = [tuple(pattern.match(token).group(0).split(\"\\t\")) for token in mecab.parse(text).splitlines()[:-1]]\n",
    "    for token in temp:\n",
    "        if token[1] == 'NNG':\n",
    "            morphs.append(token[0])\n",
    "    return morphs"
   ]
  },
  {
   "cell_type": "code",
   "execution_count": 60,
   "metadata": {},
   "outputs": [],
   "source": [
    "def preprocessing(document): #특수문자 기본 전처리 함수\n",
    "    docu = []\n",
    "    for doc in document:\n",
    "        doc = re.sub('[^가-힣0-9\\s.]','',doc)\n",
    "        doc = re.sub('[-=+,#/\\?:^$@*\\\"※~&%ㆍ!』\\\\‘|\\(\\)\\[\\]\\<\\>`\\'…》]','',doc)\n",
    "        doc = re.sub('[0-9]+','num',doc) #숫자를 special token num으로 치환\n",
    "        pattern = re.compile(r'\\s+') #중복띄어쓰기 제거\n",
    "        doc = re.sub(pattern,' ',doc)\n",
    "        doc = doc.replace('\\xa0','') \n",
    "        doc = doc.replace('\\n','')\n",
    "        docu.append(doc)\n",
    "\n",
    "    return docu"
   ]
  },
  {
   "cell_type": "code",
   "execution_count": 61,
   "metadata": {},
   "outputs": [],
   "source": [
    "str_ls = [x for x in df['str']]\n",
    "corrected_ls = preprocessing(str_ls)\n",
    "df['str'] = corrected_ls"
   ]
  },
  {
   "cell_type": "code",
   "execution_count": 62,
   "metadata": {},
   "outputs": [],
   "source": [
    "kk = [mecab_morphs(x) for x in df['str']]\n",
    "kl = [] #리스트안에 형태소분석된 토큰들이 들어있는 형태라서 str로 바꿔서 새 컬럼에 추가해준다\n",
    "for k in kk:\n",
    "    kl.append(' '.join(k))\n",
    "df['str_tokens'] = kl\n",
    "df = df.loc[:,('crp_nm','rpt_nm','rcp_no','rcp_dt','rmk','str','str_tokens')]\n",
    "\n",
    "nouns_ls = [mecab_nouns(x) for x in df['str']] #noun wordcloud용\n",
    "ke=[]\n",
    "for k in nouns_ls:\n",
    "    ke.append(' '.join(k))\n",
    "df['str_nouns'] = ke"
   ]
  },
  {
   "cell_type": "code",
   "execution_count": null,
   "metadata": {},
   "outputs": [],
   "source": [
    "rcp_ls = df['rcp_no']  #연도 column 생성\n",
    "rcp_ls = list(map(str,rcp_ls))\n",
    "rcp__ls = []\n",
    "for i in rcp_ls:\n",
    "    rcp__ls.append(int(i[0:4]))\n",
    "df.insert(0,'연도',rcp__ls) \n",
    "\n",
    "ls = []\n",
    "for i in df.연도:\n",
    "    ls.append(str(i))\n",
    "title_ls = ls+df.crp_nm\n",
    "\n",
    "df_cosine =  df.copy()\n",
    "df_cosine.insert(0,'title',title_ls)  #새로운 title column 생성\n",
    "df_cosine = df_cosine.reset_index(drop=True)"
   ]
  },
  {
   "cell_type": "code",
   "execution_count": 69,
   "metadata": {},
   "outputs": [
    {
     "data": {
      "text/html": [
       "<div>\n",
       "<style scoped>\n",
       "    .dataframe tbody tr th:only-of-type {\n",
       "        vertical-align: middle;\n",
       "    }\n",
       "\n",
       "    .dataframe tbody tr th {\n",
       "        vertical-align: top;\n",
       "    }\n",
       "\n",
       "    .dataframe thead th {\n",
       "        text-align: right;\n",
       "    }\n",
       "</style>\n",
       "<table border=\"1\" class=\"dataframe\">\n",
       "  <thead>\n",
       "    <tr style=\"text-align: right;\">\n",
       "      <th></th>\n",
       "      <th>title</th>\n",
       "      <th>연도</th>\n",
       "      <th>crp_nm</th>\n",
       "      <th>rpt_nm</th>\n",
       "      <th>rcp_no</th>\n",
       "      <th>rcp_dt</th>\n",
       "      <th>rmk</th>\n",
       "      <th>str</th>\n",
       "      <th>str_tokens</th>\n",
       "      <th>str_nouns</th>\n",
       "    </tr>\n",
       "  </thead>\n",
       "  <tbody>\n",
       "    <tr>\n",
       "      <th>0</th>\n",
       "      <td>2019동화약품</td>\n",
       "      <td>2019</td>\n",
       "      <td>동화약품</td>\n",
       "      <td>사업보고서 (2018.12)</td>\n",
       "      <td>2.019040e+13</td>\n",
       "      <td>20190401.0</td>\n",
       "      <td>연</td>\n",
       "      <td>. 이사의 경영진단 및 분석의견num. 예측정보에 대한 주의사항당사가 본 사업보고서...</td>\n",
       "      <td>. 이사 의 경영 진단 및 분석 의견 num . 예측 정보 에 대한 주 의 사항 당...</td>\n",
       "      <td>이사 경영 진단 분석 의견 예측 정보 주 사항 당사 사업 보고서 미래 발생 예상 예...</td>\n",
       "    </tr>\n",
       "    <tr>\n",
       "      <th>1</th>\n",
       "      <td>2018동화약품</td>\n",
       "      <td>2018</td>\n",
       "      <td>동화약품</td>\n",
       "      <td>[기재정정]사업보고서 (2017.12)</td>\n",
       "      <td>2.018062e+13</td>\n",
       "      <td>20180618.0</td>\n",
       "      <td>nan</td>\n",
       "      <td>. 이사의 경영진단 및 분석의견num. 예측정보에 대한 주의사항당사가 본 사업보고서...</td>\n",
       "      <td>. 이사 의 경영 진단 및 분석 의견 num . 예측 정보 에 대한 주 의 사항 당...</td>\n",
       "      <td>이사 경영 진단 분석 의견 예측 정보 주 사항 당사 사업 보고서 미래 발생 예상 예...</td>\n",
       "    </tr>\n",
       "    <tr>\n",
       "      <th>2</th>\n",
       "      <td>2017동화약품</td>\n",
       "      <td>2017</td>\n",
       "      <td>동화약품</td>\n",
       "      <td>[기재정정]사업보고서 (2016.12)</td>\n",
       "      <td>2.017041e+13</td>\n",
       "      <td>20170405.0</td>\n",
       "      <td>nan</td>\n",
       "      <td>. 이사의 경영진단 및 분석의견num. 예측정보에 대한 주의사항당사가 본 사업보고서...</td>\n",
       "      <td>. 이사 의 경영 진단 및 분석 의견 num . 예측 정보 에 대한 주 의 사항 당...</td>\n",
       "      <td>이사 경영 진단 분석 의견 예측 정보 주 사항 당사 사업 보고서 미래 발생 예상 예...</td>\n",
       "    </tr>\n",
       "    <tr>\n",
       "      <th>3</th>\n",
       "      <td>2016동화약품</td>\n",
       "      <td>2016</td>\n",
       "      <td>동화약품</td>\n",
       "      <td>사업보고서 (2015.12)</td>\n",
       "      <td>2.016033e+13</td>\n",
       "      <td>20160330.0</td>\n",
       "      <td>nan</td>\n",
       "      <td>. 이사의 경영진단 및 분석의견num. 예측정보에 대한 주의사항당사가 본 사업보고서...</td>\n",
       "      <td>. 이사 의 경영 진단 및 분석 의견 num . 예측 정보 에 대한 주 의 사항 당...</td>\n",
       "      <td>이사 경영 진단 분석 의견 예측 정보 주 사항 당사 사업 보고서 미래 발생 예상 예...</td>\n",
       "    </tr>\n",
       "    <tr>\n",
       "      <th>4</th>\n",
       "      <td>2015동화약품</td>\n",
       "      <td>2015</td>\n",
       "      <td>동화약품</td>\n",
       "      <td>사업보고서 (2014.12)</td>\n",
       "      <td>2.015033e+13</td>\n",
       "      <td>20150331.0</td>\n",
       "      <td>nan</td>\n",
       "      <td>. 이사의 경영진단 및 분석의견num. 예측정보에 대한 주의사항당사가 본 사업보고서...</td>\n",
       "      <td>. 이사 의 경영 진단 및 분석 의견 num . 예측 정보 에 대한 주 의 사항 당...</td>\n",
       "      <td>이사 경영 진단 분석 의견 예측 정보 주 사항 당사 사업 보고서 미래 발생 예상 예...</td>\n",
       "    </tr>\n",
       "  </tbody>\n",
       "</table>\n",
       "</div>"
      ],
      "text/plain": [
       "      title    연도 crp_nm                 rpt_nm        rcp_no      rcp_dt  \\\n",
       "0  2019동화약품  2019   동화약품        사업보고서 (2018.12)  2.019040e+13  20190401.0   \n",
       "1  2018동화약품  2018   동화약품  [기재정정]사업보고서 (2017.12)  2.018062e+13  20180618.0   \n",
       "2  2017동화약품  2017   동화약품  [기재정정]사업보고서 (2016.12)  2.017041e+13  20170405.0   \n",
       "3  2016동화약품  2016   동화약품        사업보고서 (2015.12)  2.016033e+13  20160330.0   \n",
       "4  2015동화약품  2015   동화약품        사업보고서 (2014.12)  2.015033e+13  20150331.0   \n",
       "\n",
       "   rmk                                                str  \\\n",
       "0    연  . 이사의 경영진단 및 분석의견num. 예측정보에 대한 주의사항당사가 본 사업보고서...   \n",
       "1  nan  . 이사의 경영진단 및 분석의견num. 예측정보에 대한 주의사항당사가 본 사업보고서...   \n",
       "2  nan  . 이사의 경영진단 및 분석의견num. 예측정보에 대한 주의사항당사가 본 사업보고서...   \n",
       "3  nan  . 이사의 경영진단 및 분석의견num. 예측정보에 대한 주의사항당사가 본 사업보고서...   \n",
       "4  nan  . 이사의 경영진단 및 분석의견num. 예측정보에 대한 주의사항당사가 본 사업보고서...   \n",
       "\n",
       "                                          str_tokens  \\\n",
       "0  . 이사 의 경영 진단 및 분석 의견 num . 예측 정보 에 대한 주 의 사항 당...   \n",
       "1  . 이사 의 경영 진단 및 분석 의견 num . 예측 정보 에 대한 주 의 사항 당...   \n",
       "2  . 이사 의 경영 진단 및 분석 의견 num . 예측 정보 에 대한 주 의 사항 당...   \n",
       "3  . 이사 의 경영 진단 및 분석 의견 num . 예측 정보 에 대한 주 의 사항 당...   \n",
       "4  . 이사 의 경영 진단 및 분석 의견 num . 예측 정보 에 대한 주 의 사항 당...   \n",
       "\n",
       "                                           str_nouns  \n",
       "0  이사 경영 진단 분석 의견 예측 정보 주 사항 당사 사업 보고서 미래 발생 예상 예...  \n",
       "1  이사 경영 진단 분석 의견 예측 정보 주 사항 당사 사업 보고서 미래 발생 예상 예...  \n",
       "2  이사 경영 진단 분석 의견 예측 정보 주 사항 당사 사업 보고서 미래 발생 예상 예...  \n",
       "3  이사 경영 진단 분석 의견 예측 정보 주 사항 당사 사업 보고서 미래 발생 예상 예...  \n",
       "4  이사 경영 진단 분석 의견 예측 정보 주 사항 당사 사업 보고서 미래 발생 예상 예...  "
      ]
     },
     "execution_count": 69,
     "metadata": {},
     "output_type": "execute_result"
    }
   ],
   "source": [
    "df_cosine.head()"
   ]
  },
  {
   "cell_type": "code",
   "execution_count": 72,
   "metadata": {},
   "outputs": [
    {
     "data": {
      "text/plain": [
       "275"
      ]
     },
     "execution_count": 72,
     "metadata": {},
     "output_type": "execute_result"
    }
   ],
   "source": [
    "len(df_cosine.crp_nm.unique())"
   ]
  },
  {
   "cell_type": "code",
   "execution_count": null,
   "metadata": {},
   "outputs": [],
   "source": []
  }
 ],
 "metadata": {
  "kernelspec": {
   "display_name": "Python 3",
   "language": "python",
   "name": "python3"
  },
  "language_info": {
   "codemirror_mode": {
    "name": "ipython",
    "version": 3
   },
   "file_extension": ".py",
   "mimetype": "text/x-python",
   "name": "python",
   "nbconvert_exporter": "python",
   "pygments_lexer": "ipython3",
   "version": "3.7.3"
  }
 },
 "nbformat": 4,
 "nbformat_minor": 2
}
