{
 "cells": [
  {
   "cell_type": "code",
   "execution_count": 92,
   "metadata": {},
   "outputs": [],
   "source": [
    "import pandas as pd\n",
    "import numpy as np"
   ]
  },
  {
   "cell_type": "code",
   "execution_count": 225,
   "metadata": {},
   "outputs": [],
   "source": [
    "# matplotlib rebuild\n",
    "\n",
    "import matplotlib.pyplot as plt\n",
    "from matplotlib import font_manager\n",
    "\n",
    "font_fname = 'C:/Windows/Fonts/nanummyeongjo.ttf'\n",
    "font_family = font_manager.FontProperties(fname=font_fname).get_name()\n",
    "\n",
    "plt.rcParams[\"font.family\"] = font_family\n",
    "plt.rcParams[\"axes.grid\"] = True\n",
    "plt.rcParams[\"figure.figsize\"] = (12,6)\n",
    "plt.rcParams[\"axes.formatter.useoffset\"] = False\n",
    "plt.rcParams['axes.unicode_minus'] = False\n",
    "plt.rcParams[\"axes.formatter.limits\"] = -10000, 10000\n"
   ]
  },
  {
   "cell_type": "markdown",
   "metadata": {},
   "source": [
    "# Load lv1"
   ]
  },
  {
   "cell_type": "markdown",
   "metadata": {},
   "source": [
    "토큰화한 텍스트를 불러오는데 2020년에 사업보고서가 나온 기업(rcp_dt = 2020..)이 존재하여 제거해주었다."
   ]
  },
  {
   "cell_type": "code",
   "execution_count": 99,
   "metadata": {},
   "outputs": [],
   "source": [
    "df_price = pd.read_csv(\"./data/kospi/preprocessed/df_kospi200_adjusted_price.csv\",index_col=0)\n",
    "df_return = pd.read_csv('./data/kospi/preprocessed/df_kospi200_price_return.csv',index_col=0,low_memory=False)\n",
    "df = pd.read_csv(\"./data/preprocessing/preprocessed/df_tokenized.csv\",index_col=0)\n",
    "\n",
    "df = df.drop('str_nouns', axis=1)\n",
    "df = df.drop(405,axis=0)   \n",
    "df = df.drop(1779,axis=0)\n",
    "df = df.drop(2037,axis=0)\n",
    "df.rcp_dt = [int(x) for x in df.rcp_dt] #dataframe index 수정"
   ]
  },
  {
   "cell_type": "code",
   "execution_count": 100,
   "metadata": {},
   "outputs": [
    {
     "data": {
      "text/html": [
       "<div>\n",
       "<style scoped>\n",
       "    .dataframe tbody tr th:only-of-type {\n",
       "        vertical-align: middle;\n",
       "    }\n",
       "\n",
       "    .dataframe tbody tr th {\n",
       "        vertical-align: top;\n",
       "    }\n",
       "\n",
       "    .dataframe thead th {\n",
       "        text-align: right;\n",
       "    }\n",
       "</style>\n",
       "<table border=\"1\" class=\"dataframe\">\n",
       "  <thead>\n",
       "    <tr style=\"text-align: right;\">\n",
       "      <th></th>\n",
       "      <th>연도</th>\n",
       "      <th>crp_nm</th>\n",
       "      <th>rpt_nm</th>\n",
       "      <th>rcp_no</th>\n",
       "      <th>rcp_dt</th>\n",
       "      <th>rmk</th>\n",
       "      <th>str</th>\n",
       "      <th>str_tokens</th>\n",
       "    </tr>\n",
       "  </thead>\n",
       "  <tbody>\n",
       "    <tr>\n",
       "      <th>0</th>\n",
       "      <td>2019</td>\n",
       "      <td>동화약품</td>\n",
       "      <td>사업보고서 (2018.12)</td>\n",
       "      <td>2.019040e+13</td>\n",
       "      <td>20190401</td>\n",
       "      <td>연</td>\n",
       "      <td>. 이사의 경영진단 및 분석의견num. 예측정보에 대한 주의사항당사가 본 사업보고서...</td>\n",
       "      <td>. 이사 의 경영 진단 및 분석 의견 num . 예측 정보 에 대한 주 의 사항 당...</td>\n",
       "    </tr>\n",
       "    <tr>\n",
       "      <th>1</th>\n",
       "      <td>2018</td>\n",
       "      <td>동화약품</td>\n",
       "      <td>[기재정정]사업보고서 (2017.12)</td>\n",
       "      <td>2.018062e+13</td>\n",
       "      <td>20180618</td>\n",
       "      <td>연</td>\n",
       "      <td>. 이사의 경영진단 및 분석의견num. 예측정보에 대한 주의사항당사가 본 사업보고서...</td>\n",
       "      <td>. 이사 의 경영 진단 및 분석 의견 num . 예측 정보 에 대한 주 의 사항 당...</td>\n",
       "    </tr>\n",
       "    <tr>\n",
       "      <th>2</th>\n",
       "      <td>2017</td>\n",
       "      <td>동화약품</td>\n",
       "      <td>[기재정정]사업보고서 (2016.12)</td>\n",
       "      <td>2.017041e+13</td>\n",
       "      <td>20170405</td>\n",
       "      <td>연</td>\n",
       "      <td>. 이사의 경영진단 및 분석의견num. 예측정보에 대한 주의사항당사가 본 사업보고서...</td>\n",
       "      <td>. 이사 의 경영 진단 및 분석 의견 num . 예측 정보 에 대한 주 의 사항 당...</td>\n",
       "    </tr>\n",
       "    <tr>\n",
       "      <th>3</th>\n",
       "      <td>2016</td>\n",
       "      <td>동화약품</td>\n",
       "      <td>사업보고서 (2015.12)</td>\n",
       "      <td>2.016033e+13</td>\n",
       "      <td>20160330</td>\n",
       "      <td>연</td>\n",
       "      <td>. 이사의 경영진단 및 분석의견num. 예측정보에 대한 주의사항당사가 본 사업보고서...</td>\n",
       "      <td>. 이사 의 경영 진단 및 분석 의견 num . 예측 정보 에 대한 주 의 사항 당...</td>\n",
       "    </tr>\n",
       "    <tr>\n",
       "      <th>4</th>\n",
       "      <td>2015</td>\n",
       "      <td>동화약품</td>\n",
       "      <td>사업보고서 (2014.12)</td>\n",
       "      <td>2.015033e+13</td>\n",
       "      <td>20150331</td>\n",
       "      <td>연</td>\n",
       "      <td>. 이사의 경영진단 및 분석의견num. 예측정보에 대한 주의사항당사가 본 사업보고서...</td>\n",
       "      <td>. 이사 의 경영 진단 및 분석 의견 num . 예측 정보 에 대한 주 의 사항 당...</td>\n",
       "    </tr>\n",
       "  </tbody>\n",
       "</table>\n",
       "</div>"
      ],
      "text/plain": [
       "     연도 crp_nm                 rpt_nm        rcp_no    rcp_dt rmk  \\\n",
       "0  2019   동화약품        사업보고서 (2018.12)  2.019040e+13  20190401   연   \n",
       "1  2018   동화약품  [기재정정]사업보고서 (2017.12)  2.018062e+13  20180618   연   \n",
       "2  2017   동화약품  [기재정정]사업보고서 (2016.12)  2.017041e+13  20170405   연   \n",
       "3  2016   동화약품        사업보고서 (2015.12)  2.016033e+13  20160330   연   \n",
       "4  2015   동화약품        사업보고서 (2014.12)  2.015033e+13  20150331   연   \n",
       "\n",
       "                                                 str  \\\n",
       "0  . 이사의 경영진단 및 분석의견num. 예측정보에 대한 주의사항당사가 본 사업보고서...   \n",
       "1  . 이사의 경영진단 및 분석의견num. 예측정보에 대한 주의사항당사가 본 사업보고서...   \n",
       "2  . 이사의 경영진단 및 분석의견num. 예측정보에 대한 주의사항당사가 본 사업보고서...   \n",
       "3  . 이사의 경영진단 및 분석의견num. 예측정보에 대한 주의사항당사가 본 사업보고서...   \n",
       "4  . 이사의 경영진단 및 분석의견num. 예측정보에 대한 주의사항당사가 본 사업보고서...   \n",
       "\n",
       "                                          str_tokens  \n",
       "0  . 이사 의 경영 진단 및 분석 의견 num . 예측 정보 에 대한 주 의 사항 당...  \n",
       "1  . 이사 의 경영 진단 및 분석 의견 num . 예측 정보 에 대한 주 의 사항 당...  \n",
       "2  . 이사 의 경영 진단 및 분석 의견 num . 예측 정보 에 대한 주 의 사항 당...  \n",
       "3  . 이사 의 경영 진단 및 분석 의견 num . 예측 정보 에 대한 주 의 사항 당...  \n",
       "4  . 이사 의 경영 진단 및 분석 의견 num . 예측 정보 에 대한 주 의 사항 당...  "
      ]
     },
     "execution_count": 100,
     "metadata": {},
     "output_type": "execute_result"
    }
   ],
   "source": [
    "df.head()"
   ]
  },
  {
   "cell_type": "markdown",
   "metadata": {},
   "source": [
    "# Filter the dataset\n",
    "- There are several types of report such as restatement and first published version\n",
    "- For simplifying the task, I'm going to use '사업보고서' only.  "
   ]
  },
  {
   "cell_type": "code",
   "execution_count": 97,
   "metadata": {},
   "outputs": [],
   "source": [
    "naive_df = df.copy()\n",
    "# naive_df = df[df.rpt_nm.map(lambda x : x.split(\" \")[0]) == '사업보고서']\n",
    "# naive_df.sort_values(\"연도\",inplace=True)"
   ]
  },
  {
   "cell_type": "markdown",
   "metadata": {},
   "source": [
    "# Set lv2"
   ]
  },
  {
   "cell_type": "code",
   "execution_count": 98,
   "metadata": {},
   "outputs": [],
   "source": [
    "def length_adjust(str_) : \n",
    "    return (2-len(str_)) * '0' + str_\n",
    "\n",
    "def date_convertor(date) : \n",
    "    year = length_adjust(str(date.year))\n",
    "    month = length_adjust(str(date.month))\n",
    "    day = length_adjust(str(date.day))\n",
    "    yyyymmdd = int(year+month+day)\n",
    "    return yyyymmdd"
   ]
  },
  {
   "cell_type": "code",
   "execution_count": 101,
   "metadata": {},
   "outputs": [],
   "source": [
    "lv2_index = df_return.index\n",
    "# lv2_index = [int(x) for x in df_return.iloc[:,0][1:]]"
   ]
  },
  {
   "cell_type": "code",
   "execution_count": 102,
   "metadata": {},
   "outputs": [],
   "source": [
    "# lv2_index = pd.date_range(start='20100101', end='20191231')\n",
    "# lv2_index = list(map(date_convertor,lv2_index))\n",
    "lv2_columns = naive_df.crp_nm.unique()\n",
    "\n",
    "lv2_df = \\\n",
    "pd.DataFrame(np.full(shape=(len(lv2_index),len(lv2_columns)),fill_value=np.nan),index=lv2_index,columns=lv2_columns)"
   ]
  },
  {
   "cell_type": "code",
   "execution_count": 103,
   "metadata": {},
   "outputs": [
    {
     "data": {
      "text/plain": [
       "(2466, 275)"
      ]
     },
     "execution_count": 103,
     "metadata": {},
     "output_type": "execute_result"
    }
   ],
   "source": [
    "lv2_df.shape\n",
    "# (date_list,company_list)"
   ]
  },
  {
   "cell_type": "markdown",
   "metadata": {},
   "source": [
    "# Generate the lv2"
   ]
  },
  {
   "cell_type": "code",
   "execution_count": 104,
   "metadata": {},
   "outputs": [
    {
     "name": "stdout",
     "output_type": "stream",
     "text": [
      "Wall time: 5.59 sotal : 275\n"
     ]
    }
   ],
   "source": [
    "%%time\n",
    "company_list = naive_df.crp_nm.unique()\n",
    "for process,corp_name in enumerate(company_list) : \n",
    "    print(\"Process : {} | Total : {}\".format(process+1,len(company_list)),end='\\r')\n",
    "    # slicing the dataset by corp_name\n",
    "    tmp_df = naive_df[naive_df.crp_nm == corp_name]\n",
    "    \n",
    "    # set-up the time range \n",
    "    min_yr = tmp_df['연도'].min()\n",
    "    max_yr = tmp_df['연도'].max()\n",
    "    \n",
    "    # container for saving the value \n",
    "    # those lists should be refreshed every loop.\n",
    "    sim_ls = []; year_ls = []\n",
    "    \n",
    "    for yr in range(min_yr,max_yr) : \n",
    "        pre_df = tmp_df[tmp_df['연도'] == yr]\n",
    "        next_df = tmp_df[tmp_df['연도'] == yr+1]\n",
    "        publish_date = tmp_df[tmp_df['연도'] == yr+1]['rcp_dt']\n",
    "        if len(pre_df) == 0 or len(next_df) == 0:\n",
    "            continue\n",
    "            # we don't have data\n",
    "            # for example, we have 2014 but don't 2015.\n",
    "            # therfore we can't measure similarity between 2014,2015.\n",
    "            # so the value in lv2 at 2015 should be nan\n",
    "            \n",
    "        else : \n",
    "            pre_token = pre_df.str_tokens.map(lambda x : x.split(\" \")).values\n",
    "            next_token = next_df.str_tokens.map(lambda x : x.split(\" \")).values   \n",
    "            if type(pre_token[0]) == list and type(next_token[0]) == list :\n",
    "                sim = len(set(next_token[0])&set(pre_token[0]))/len(set(next_token[0]))\n",
    "            else : \n",
    "                 sim = len(set(next_token)&set(pre_token))/len(set(next_token))\n",
    "        year_ls.append(publish_date.values[0])\n",
    "        sim_ls.append(sim)\n",
    "        \n",
    "    assert len(year_ls) == len(sim_ls)\n",
    "    lv2_df.loc[year_ls,corp_name] = sim_ls    "
   ]
  },
  {
   "cell_type": "markdown",
   "metadata": {},
   "source": [
    "# Check the lv2\n",
    "- if we apply mean operation through time, we can take overall auto-regressive similarity per company."
   ]
  },
  {
   "cell_type": "markdown",
   "metadata": {},
   "source": [
    "lv2 데이터의 index는 2010-2019년의 daily trading day, columns는 크롤링된 해당 기간에 편입되었던 기업들이다.\n",
    "\n",
    "사업보고서 발행날짜인 rcp_dt를 저장하여 사업보고서가 발행된 날짜(기재정정이 있을 경우는 정정날짜)와 해당 기업의 auto-regressive similarity를 저장하였다. 이를 평균내서 10년동안의 사업보고서의 유사도의 변화를 수치화 할 수 있었으며 이를 통해 유의미한 결과를 도출해 보고자 하였다."
   ]
  },
  {
   "cell_type": "code",
   "execution_count": 297,
   "metadata": {},
   "outputs": [
    {
     "data": {
      "text/html": [
       "<div>\n",
       "<style scoped>\n",
       "    .dataframe tbody tr th:only-of-type {\n",
       "        vertical-align: middle;\n",
       "    }\n",
       "\n",
       "    .dataframe tbody tr th {\n",
       "        vertical-align: top;\n",
       "    }\n",
       "\n",
       "    .dataframe thead th {\n",
       "        text-align: right;\n",
       "    }\n",
       "</style>\n",
       "<table border=\"1\" class=\"dataframe\">\n",
       "  <thead>\n",
       "    <tr style=\"text-align: right;\">\n",
       "      <th></th>\n",
       "      <th>동화약품</th>\n",
       "      <th>우리은행</th>\n",
       "      <th>경방</th>\n",
       "      <th>삼양홀딩스</th>\n",
       "      <th>하이트진로</th>\n",
       "      <th>유한양행</th>\n",
       "      <th>CJ대한통운</th>\n",
       "      <th>하이트진로홀딩스</th>\n",
       "      <th>두산</th>\n",
       "      <th>일동홀딩스</th>\n",
       "      <th>...</th>\n",
       "      <th>한섬</th>\n",
       "      <th>일진머티리얼즈</th>\n",
       "      <th>일진디스플</th>\n",
       "      <th>코웨이</th>\n",
       "      <th>롯데쇼핑</th>\n",
       "      <th>대우조선해양</th>\n",
       "      <th>한전기술</th>\n",
       "      <th>신한지주</th>\n",
       "      <th>후성</th>\n",
       "      <th>한진중공업</th>\n",
       "    </tr>\n",
       "  </thead>\n",
       "  <tbody>\n",
       "    <tr>\n",
       "      <th>20100104</th>\n",
       "      <td>NaN</td>\n",
       "      <td>NaN</td>\n",
       "      <td>NaN</td>\n",
       "      <td>NaN</td>\n",
       "      <td>NaN</td>\n",
       "      <td>NaN</td>\n",
       "      <td>NaN</td>\n",
       "      <td>NaN</td>\n",
       "      <td>NaN</td>\n",
       "      <td>NaN</td>\n",
       "      <td>...</td>\n",
       "      <td>NaN</td>\n",
       "      <td>NaN</td>\n",
       "      <td>NaN</td>\n",
       "      <td>NaN</td>\n",
       "      <td>NaN</td>\n",
       "      <td>NaN</td>\n",
       "      <td>NaN</td>\n",
       "      <td>NaN</td>\n",
       "      <td>NaN</td>\n",
       "      <td>NaN</td>\n",
       "    </tr>\n",
       "    <tr>\n",
       "      <th>20100105</th>\n",
       "      <td>NaN</td>\n",
       "      <td>NaN</td>\n",
       "      <td>NaN</td>\n",
       "      <td>NaN</td>\n",
       "      <td>NaN</td>\n",
       "      <td>NaN</td>\n",
       "      <td>NaN</td>\n",
       "      <td>NaN</td>\n",
       "      <td>NaN</td>\n",
       "      <td>NaN</td>\n",
       "      <td>...</td>\n",
       "      <td>NaN</td>\n",
       "      <td>NaN</td>\n",
       "      <td>NaN</td>\n",
       "      <td>NaN</td>\n",
       "      <td>NaN</td>\n",
       "      <td>NaN</td>\n",
       "      <td>NaN</td>\n",
       "      <td>NaN</td>\n",
       "      <td>NaN</td>\n",
       "      <td>NaN</td>\n",
       "    </tr>\n",
       "    <tr>\n",
       "      <th>20100106</th>\n",
       "      <td>NaN</td>\n",
       "      <td>NaN</td>\n",
       "      <td>NaN</td>\n",
       "      <td>NaN</td>\n",
       "      <td>NaN</td>\n",
       "      <td>NaN</td>\n",
       "      <td>NaN</td>\n",
       "      <td>NaN</td>\n",
       "      <td>NaN</td>\n",
       "      <td>NaN</td>\n",
       "      <td>...</td>\n",
       "      <td>NaN</td>\n",
       "      <td>NaN</td>\n",
       "      <td>NaN</td>\n",
       "      <td>NaN</td>\n",
       "      <td>NaN</td>\n",
       "      <td>NaN</td>\n",
       "      <td>NaN</td>\n",
       "      <td>NaN</td>\n",
       "      <td>NaN</td>\n",
       "      <td>NaN</td>\n",
       "    </tr>\n",
       "    <tr>\n",
       "      <th>20100107</th>\n",
       "      <td>NaN</td>\n",
       "      <td>NaN</td>\n",
       "      <td>NaN</td>\n",
       "      <td>NaN</td>\n",
       "      <td>NaN</td>\n",
       "      <td>NaN</td>\n",
       "      <td>NaN</td>\n",
       "      <td>NaN</td>\n",
       "      <td>NaN</td>\n",
       "      <td>NaN</td>\n",
       "      <td>...</td>\n",
       "      <td>NaN</td>\n",
       "      <td>NaN</td>\n",
       "      <td>NaN</td>\n",
       "      <td>NaN</td>\n",
       "      <td>NaN</td>\n",
       "      <td>NaN</td>\n",
       "      <td>NaN</td>\n",
       "      <td>NaN</td>\n",
       "      <td>NaN</td>\n",
       "      <td>NaN</td>\n",
       "    </tr>\n",
       "    <tr>\n",
       "      <th>20100108</th>\n",
       "      <td>NaN</td>\n",
       "      <td>NaN</td>\n",
       "      <td>NaN</td>\n",
       "      <td>NaN</td>\n",
       "      <td>NaN</td>\n",
       "      <td>NaN</td>\n",
       "      <td>NaN</td>\n",
       "      <td>NaN</td>\n",
       "      <td>NaN</td>\n",
       "      <td>NaN</td>\n",
       "      <td>...</td>\n",
       "      <td>NaN</td>\n",
       "      <td>NaN</td>\n",
       "      <td>NaN</td>\n",
       "      <td>NaN</td>\n",
       "      <td>NaN</td>\n",
       "      <td>NaN</td>\n",
       "      <td>NaN</td>\n",
       "      <td>NaN</td>\n",
       "      <td>NaN</td>\n",
       "      <td>NaN</td>\n",
       "    </tr>\n",
       "  </tbody>\n",
       "</table>\n",
       "<p>5 rows × 275 columns</p>\n",
       "</div>"
      ],
      "text/plain": [
       "          동화약품  우리은행  경방  삼양홀딩스  하이트진로  유한양행  CJ대한통운  하이트진로홀딩스  두산  일동홀딩스  \\\n",
       "20100104   NaN   NaN NaN    NaN    NaN   NaN     NaN       NaN NaN    NaN   \n",
       "20100105   NaN   NaN NaN    NaN    NaN   NaN     NaN       NaN NaN    NaN   \n",
       "20100106   NaN   NaN NaN    NaN    NaN   NaN     NaN       NaN NaN    NaN   \n",
       "20100107   NaN   NaN NaN    NaN    NaN   NaN     NaN       NaN NaN    NaN   \n",
       "20100108   NaN   NaN NaN    NaN    NaN   NaN     NaN       NaN NaN    NaN   \n",
       "\n",
       "          ...  한섬  일진머티리얼즈  일진디스플  코웨이  롯데쇼핑  대우조선해양  한전기술  신한지주  후성  한진중공업  \n",
       "20100104  ... NaN      NaN    NaN  NaN   NaN     NaN   NaN   NaN NaN    NaN  \n",
       "20100105  ... NaN      NaN    NaN  NaN   NaN     NaN   NaN   NaN NaN    NaN  \n",
       "20100106  ... NaN      NaN    NaN  NaN   NaN     NaN   NaN   NaN NaN    NaN  \n",
       "20100107  ... NaN      NaN    NaN  NaN   NaN     NaN   NaN   NaN NaN    NaN  \n",
       "20100108  ... NaN      NaN    NaN  NaN   NaN     NaN   NaN   NaN NaN    NaN  \n",
       "\n",
       "[5 rows x 275 columns]"
      ]
     },
     "execution_count": 297,
     "metadata": {},
     "output_type": "execute_result"
    }
   ],
   "source": [
    "lv2_df.head()"
   ]
  },
  {
   "cell_type": "markdown",
   "metadata": {},
   "source": [
    "해당 기간 내의 기업들의 유사도를 평균내어 데이터프레임으로 저장하였고 이를 기반으로 유사도가 낮은 기업과 높은 기업들을 clustering하여 사업보고서 발간 날짜 이후 일정 기간동안의 누적수익률을 비교해보려고 한다. \n",
    "\n",
    "유사도들의 평균값은 0.74이고 제일 낮은 기업은 0.47, 높은 기업은 '코스맥스'로 1의 값이였는데 사업보고서 확인 결과 개요를 제외한 부분이 재무제표 table이라 제외된 결과 이러한 값이 나온것 같다. 일단은 내용상의 변화가 적은 것으로 해석하겠다."
   ]
  },
  {
   "cell_type": "code",
   "execution_count": 309,
   "metadata": {},
   "outputs": [
    {
     "data": {
      "text/html": [
       "<div>\n",
       "<style scoped>\n",
       "    .dataframe tbody tr th:only-of-type {\n",
       "        vertical-align: middle;\n",
       "    }\n",
       "\n",
       "    .dataframe tbody tr th {\n",
       "        vertical-align: top;\n",
       "    }\n",
       "\n",
       "    .dataframe thead th {\n",
       "        text-align: right;\n",
       "    }\n",
       "</style>\n",
       "<table border=\"1\" class=\"dataframe\">\n",
       "  <thead>\n",
       "    <tr style=\"text-align: right;\">\n",
       "      <th></th>\n",
       "      <th>평균유사도</th>\n",
       "    </tr>\n",
       "  </thead>\n",
       "  <tbody>\n",
       "    <tr>\n",
       "      <th>count</th>\n",
       "      <td>271.000000</td>\n",
       "    </tr>\n",
       "    <tr>\n",
       "      <th>mean</th>\n",
       "      <td>0.742485</td>\n",
       "    </tr>\n",
       "    <tr>\n",
       "      <th>std</th>\n",
       "      <td>0.086552</td>\n",
       "    </tr>\n",
       "    <tr>\n",
       "      <th>min</th>\n",
       "      <td>0.475263</td>\n",
       "    </tr>\n",
       "    <tr>\n",
       "      <th>25%</th>\n",
       "      <td>0.690511</td>\n",
       "    </tr>\n",
       "    <tr>\n",
       "      <th>50%</th>\n",
       "      <td>0.746172</td>\n",
       "    </tr>\n",
       "    <tr>\n",
       "      <th>75%</th>\n",
       "      <td>0.795979</td>\n",
       "    </tr>\n",
       "    <tr>\n",
       "      <th>max</th>\n",
       "      <td>1.000000</td>\n",
       "    </tr>\n",
       "  </tbody>\n",
       "</table>\n",
       "</div>"
      ],
      "text/plain": [
       "            평균유사도\n",
       "count  271.000000\n",
       "mean     0.742485\n",
       "std      0.086552\n",
       "min      0.475263\n",
       "25%      0.690511\n",
       "50%      0.746172\n",
       "75%      0.795979\n",
       "max      1.000000"
      ]
     },
     "execution_count": 309,
     "metadata": {},
     "output_type": "execute_result"
    }
   ],
   "source": [
    "df_sim_mean = pd.DataFrame(lv2_df.mean().sort_values(ascending=True),columns={'평균유사도'})\n",
    "df_sim_mean = df_sim_mean.dropna()\n",
    "df_sim_mean.describe()"
   ]
  },
  {
   "cell_type": "code",
   "execution_count": 310,
   "metadata": {},
   "outputs": [
    {
     "data": {
      "text/html": [
       "<div>\n",
       "<style scoped>\n",
       "    .dataframe tbody tr th:only-of-type {\n",
       "        vertical-align: middle;\n",
       "    }\n",
       "\n",
       "    .dataframe tbody tr th {\n",
       "        vertical-align: top;\n",
       "    }\n",
       "\n",
       "    .dataframe thead th {\n",
       "        text-align: right;\n",
       "    }\n",
       "</style>\n",
       "<table border=\"1\" class=\"dataframe\">\n",
       "  <thead>\n",
       "    <tr style=\"text-align: right;\">\n",
       "      <th></th>\n",
       "      <th>평균유사도</th>\n",
       "    </tr>\n",
       "  </thead>\n",
       "  <tbody>\n",
       "    <tr>\n",
       "      <th>고려제강</th>\n",
       "      <td>0.475263</td>\n",
       "    </tr>\n",
       "    <tr>\n",
       "      <th>케이피케미칼</th>\n",
       "      <td>0.514134</td>\n",
       "    </tr>\n",
       "    <tr>\n",
       "      <th>한독</th>\n",
       "      <td>0.518269</td>\n",
       "    </tr>\n",
       "    <tr>\n",
       "      <th>대우조선해양</th>\n",
       "      <td>0.542492</td>\n",
       "    </tr>\n",
       "    <tr>\n",
       "      <th>알바이오</th>\n",
       "      <td>0.543312</td>\n",
       "    </tr>\n",
       "    <tr>\n",
       "      <th>코오롱</th>\n",
       "      <td>0.546697</td>\n",
       "    </tr>\n",
       "    <tr>\n",
       "      <th>일동홀딩스</th>\n",
       "      <td>0.559503</td>\n",
       "    </tr>\n",
       "    <tr>\n",
       "      <th>포스코플랜텍</th>\n",
       "      <td>0.566621</td>\n",
       "    </tr>\n",
       "    <tr>\n",
       "      <th>현대그린푸드</th>\n",
       "      <td>0.567742</td>\n",
       "    </tr>\n",
       "    <tr>\n",
       "      <th>SK케미칼</th>\n",
       "      <td>0.573209</td>\n",
       "    </tr>\n",
       "  </tbody>\n",
       "</table>\n",
       "</div>"
      ],
      "text/plain": [
       "           평균유사도\n",
       "고려제강    0.475263\n",
       "케이피케미칼  0.514134\n",
       "한독      0.518269\n",
       "대우조선해양  0.542492\n",
       "알바이오    0.543312\n",
       "코오롱     0.546697\n",
       "일동홀딩스   0.559503\n",
       "포스코플랜텍  0.566621\n",
       "현대그린푸드  0.567742\n",
       "SK케미칼   0.573209"
      ]
     },
     "execution_count": 310,
     "metadata": {},
     "output_type": "execute_result"
    }
   ],
   "source": [
    "df_sim_mean.head(10)"
   ]
  },
  {
   "cell_type": "code",
   "execution_count": 305,
   "metadata": {},
   "outputs": [
    {
     "data": {
      "text/html": [
       "<div>\n",
       "<style scoped>\n",
       "    .dataframe tbody tr th:only-of-type {\n",
       "        vertical-align: middle;\n",
       "    }\n",
       "\n",
       "    .dataframe tbody tr th {\n",
       "        vertical-align: top;\n",
       "    }\n",
       "\n",
       "    .dataframe thead th {\n",
       "        text-align: right;\n",
       "    }\n",
       "</style>\n",
       "<table border=\"1\" class=\"dataframe\">\n",
       "  <thead>\n",
       "    <tr style=\"text-align: right;\">\n",
       "      <th></th>\n",
       "      <th>평균유사도</th>\n",
       "    </tr>\n",
       "  </thead>\n",
       "  <tbody>\n",
       "    <tr>\n",
       "      <th>만도</th>\n",
       "      <td>0.903340</td>\n",
       "    </tr>\n",
       "    <tr>\n",
       "      <th>휠라홀딩스</th>\n",
       "      <td>0.908435</td>\n",
       "    </tr>\n",
       "    <tr>\n",
       "      <th>한샘</th>\n",
       "      <td>0.915647</td>\n",
       "    </tr>\n",
       "    <tr>\n",
       "      <th>디티알오토모티브</th>\n",
       "      <td>0.918303</td>\n",
       "    </tr>\n",
       "    <tr>\n",
       "      <th>GKL</th>\n",
       "      <td>0.925793</td>\n",
       "    </tr>\n",
       "    <tr>\n",
       "      <th>오리온</th>\n",
       "      <td>0.928070</td>\n",
       "    </tr>\n",
       "    <tr>\n",
       "      <th>세종공업</th>\n",
       "      <td>0.937490</td>\n",
       "    </tr>\n",
       "    <tr>\n",
       "      <th>디와이</th>\n",
       "      <td>0.955789</td>\n",
       "    </tr>\n",
       "    <tr>\n",
       "      <th>애경산업</th>\n",
       "      <td>0.994475</td>\n",
       "    </tr>\n",
       "    <tr>\n",
       "      <th>코스맥스</th>\n",
       "      <td>1.000000</td>\n",
       "    </tr>\n",
       "  </tbody>\n",
       "</table>\n",
       "</div>"
      ],
      "text/plain": [
       "             평균유사도\n",
       "만도        0.903340\n",
       "휠라홀딩스     0.908435\n",
       "한샘        0.915647\n",
       "디티알오토모티브  0.918303\n",
       "GKL       0.925793\n",
       "오리온       0.928070\n",
       "세종공업      0.937490\n",
       "디와이       0.955789\n",
       "애경산업      0.994475\n",
       "코스맥스      1.000000"
      ]
     },
     "execution_count": 305,
     "metadata": {},
     "output_type": "execute_result"
    }
   ],
   "source": [
    "df_sim_mean.tail(10)"
   ]
  },
  {
   "cell_type": "code",
   "execution_count": 329,
   "metadata": {},
   "outputs": [],
   "source": [
    "def cumprod_return(name,period):\n",
    "    \n",
    "    dic_index = {idx:i for i,idx in enumerate(df_price.index)}\n",
    "    dic_column = {idx:i for i,idx in enumerate(df_price.columns)}\n",
    "    \n",
    "    \n",
    "    rcp_ls = [x for x in df[df.crp_nm == name].rcp_dt]\n",
    "    rcp_ls.sort(reverse=False)\n",
    "    \n",
    "    k = [(df_price.iloc[dic_index.get(i):dic_index.get(i)+period , dic_column.get(name)]/\n",
    "         df_price.iloc[dic_index.get(i),dic_column.get(name)]-1)*100 for i in rcp_ls]\n",
    "    df_comprod = (pd.concat([j[period-1:] for j in k],ignore_index=False)).to_frame()\n",
    "    \n",
    "    return df_comprod"
   ]
  },
  {
   "cell_type": "code",
   "execution_count": 398,
   "metadata": {},
   "outputs": [],
   "source": [
    "def compare(corp1,corp2,corp3,corp4,period):\n",
    "    \n",
    "    a1 = cumprod_return(corp1,period)\n",
    "    a2 = cumprod_return(corp2,period)\n",
    "    a3 = cumprod_return(corp3,period)\n",
    "    a4 = cumprod_return(corp4,period)\n",
    "    \n",
    "\n",
    "    fig = plt.figure()\n",
    "    \n",
    "    ax1 = fig.add_subplot(2,2,1)\n",
    "    ax1.plot(a1, label=corp1)\n",
    "    plt.legend(loc='upper left')\n",
    "    \n",
    "    ax2 = fig.add_subplot(2,2,2)\n",
    "    ax2.plot(a2, label=corp2)\n",
    "    plt.legend(loc='upper left')\n",
    "    \n",
    "    ax3 = fig.add_subplot(2,2,3)\n",
    "    ax3.plot(a3, label=corp3)\n",
    "    plt.legend(loc='upper left')\n",
    "    \n",
    "    ax4 = fig.add_subplot(2,2,4)\n",
    "    ax4.plot(a4, label=corp4)\n",
    "    plt.legend(loc='upper left')\n",
    "    \n",
    "    return plt.show()"
   ]
  },
  {
   "cell_type": "code",
   "execution_count": 402,
   "metadata": {},
   "outputs": [
    {
     "data": {
      "image/png": "[encoded data removed]",
      "text/plain": [
       "<Figure size 864x432 with 4 Axes>"
      ]
     },
     "metadata": {
      "needs_background": "light"
     },
     "output_type": "display_data"
    }
   ],
   "source": [
    "compare('한샘','디티알오토모티브','GKL','오리온',100)"
   ]
  },
  {
   "cell_type": "code",
   "execution_count": 403,
   "metadata": {},
   "outputs": [
    {
     "data": {
      "image/png": "[encoded data removed]",
      "text/plain": [
       "<Figure size 864x432 with 4 Axes>"
      ]
     },
     "metadata": {
      "needs_background": "light"
     },
     "output_type": "display_data"
    }
   ],
   "source": [
    "compare('만도','휠라홀딩스','한샘','GKL',100)"
   ]
  },
  {
   "cell_type": "code",
   "execution_count": null,
   "metadata": {},
   "outputs": [],
   "source": []
  }
 ],
 "metadata": {
  "kernelspec": {
   "display_name": "Python 3",
   "language": "python",
   "name": "python3"
  },
  "language_info": {
   "codemirror_mode": {
    "name": "ipython",
    "version": 3
   },
   "file_extension": ".py",
   "mimetype": "text/x-python",
   "name": "python",
   "nbconvert_exporter": "python",
   "pygments_lexer": "ipython3",
   "version": "3.7.3"
  }
 },
 "nbformat": 4,
 "nbformat_minor": 2
}
