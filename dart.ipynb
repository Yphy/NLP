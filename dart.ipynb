{
  "nbformat": 4,
  "nbformat_minor": 0,
  "metadata": {
    "colab": {
      "name": "dart.ipynb",
      "provenance": [],
      "collapsed_sections": [],
      "authorship_tag": "ABX9TyPcKCDZerS2WGVskQFUrVdy",
      "include_colab_link": true
    },
    "kernelspec": {
      "name": "python3",
      "display_name": "Python 3"
    }
  },
  "cells": [
    {
      "cell_type": "markdown",
      "metadata": {
        "id": "view-in-github",
        "colab_type": "text"
      },
      "source": [
        "<a href=\"https://colab.research.google.com/github/Yphy/NLP/blob/master/dart.ipynb\" target=\"_parent\"><img src=\"https://colab.research.google.com/assets/colab-badge.svg\" alt=\"Open In Colab\"/></a>"
      ]
    },
    {
      "cell_type": "code",
      "metadata": {
        "id": "BovKoXgzagtp",
        "colab_type": "code",
        "colab": {}
      },
      "source": [
        "import pandas as pd\n",
        "import re\n",
        "from bs4 import BeautifulSoup\n",
        "import requests\n",
        "import json\n",
        "import time"
      ],
      "execution_count": 0,
      "outputs": []
    },
    {
      "cell_type": "code",
      "metadata": {
        "id": "BUmERSORaiIE",
        "colab_type": "code",
        "colab": {
          "base_uri": "https://localhost:8080/",
          "height": 127
        },
        "outputId": "d92ea99a-74cf-4c1f-83a9-7ce1339d4b38"
      },
      "source": [
        "from google.colab import drive\n",
        "\n",
        "drive.mount('/content/gdrive')"
      ],
      "execution_count": 15,
      "outputs": [
        {
          "output_type": "stream",
          "text": [
            "Go to this URL in a browser: https://accounts.google.com/o/oauth2/auth?client_id=947318989803-6bn6qk8qdgf4n4g3pfee6491hc0brc4i.apps.googleusercontent.com&redirect_uri=urn%3aietf%3awg%3aoauth%3a2.0%3aoob&response_type=code&scope=email%20https%3a%2f%2fwww.googleapis.com%2fauth%2fdocs.test%20https%3a%2f%2fwww.googleapis.com%2fauth%2fdrive%20https%3a%2f%2fwww.googleapis.com%2fauth%2fdrive.photos.readonly%20https%3a%2f%2fwww.googleapis.com%2fauth%2fpeopleapi.readonly\n",
            "\n",
            "Enter your authorization code:\n",
            "··········\n",
            "Mounted at /content/gdrive\n"
          ],
          "name": "stdout"
        }
      ]
    },
    {
      "cell_type": "code",
      "metadata": {
        "id": "CAZyUEHqamQz",
        "colab_type": "code",
        "colab": {}
      },
      "source": [
        "api_code = '1ad5e3556e6de0c6e73c59883409f908364e8f25'\n",
        "crp_code = ''\n",
        "start_date = '19900101' \n",
        "url = 'http://dart.fss.or.kr/api/search.json?auth='+api_code+'&crp_cd='+crp_code+'&start_dt='+start_date+'&bsn_tp=A001'"
      ],
      "execution_count": 0,
      "outputs": []
    },
    {
      "cell_type": "code",
      "metadata": {
        "id": "a3TNVQdna26m",
        "colab_type": "code",
        "colab": {}
      },
      "source": [
        "def get_df(code): #검색된 회사의 사업보고서 내용을 데이터프레임으로 저장\n",
        "    api_code = '1ad5e3556e6de0c6e73c59883409f908364e8f25'\n",
        "    start_date = '19900101'\n",
        "    url = 'http://dart.fss.or.kr/api/search.json?auth='+api_code+'&crp_cd='+code+'&start_dt='+start_date+'&bsn_tp=A001'\n",
        "    req =requests.get(url)\n",
        "    html = req.text\n",
        "    code = json.loads(html)\n",
        "    soup = BeautifulSoup(html,'html.parser')\n",
        "    \n",
        "    data = pd.DataFrame() \n",
        "    for t in code['list']:\n",
        "        temp = pd.DataFrame(([[t['crp_cls'],t['crp_nm'],t['crp_cd'],t['rpt_nm'],t['rcp_no'],t['flr_nm'],t['rcp_dt'],t['rmk']]])\n",
        "                            ,columns=[\"crp_cls\",\"crp_nm\",\"crp_cd\",\"rpt_nm\",\"rcp_no\",\"flr_nm\",\"rcp_dt\",\"rmk\"])\n",
        "        data = pd.concat([data,temp])\n",
        "    data.reset_index(drop=True,inplace=True)\n",
        "    return(data)\n"
      ],
      "execution_count": 0,
      "outputs": []
    },
    {
      "cell_type": "code",
      "metadata": {
        "id": "UnOs2ly7a238",
        "colab_type": "code",
        "colab": {}
      },
      "source": [
        "def get_url(data): #dataframe을 넣었을 때 해당 사업보고서의 주소를 저장\n",
        "    rcp_ls=[]\n",
        "    for row in data['rcp_no']:\n",
        "        rcp_ls.append(row)\n",
        "        urls = []\n",
        "        for i in rcp_ls:\n",
        "            urls.append('https://dart.fss.or.kr/dsaf001/main.do?rcpNo='+i)\n",
        "    \n",
        "    return urls"
      ],
      "execution_count": 0,
      "outputs": []
    },
    {
      "cell_type": "code",
      "metadata": {
        "id": "mk2SCGLNa21G",
        "colab_type": "code",
        "colab": {}
      },
      "source": [
        "def final_url(url):\n",
        "    try:\n",
        "        req2 = requests.get(url)\n",
        "        html2 = req2.text\n",
        "        soup2 = BeautifulSoup(html2, 'html.parser')\n",
        "        body = str(soup2.find('head'))\n",
        "\n",
        "        a = re.search('이사의 경영진단 및 분석의견',body).span()\n",
        "        b= re.search(r'viewDoc(.*);',body[a[0]:]).group()\n",
        "        list = b[8:-2].split(',')\n",
        "        list = [i[1:-1] for i in list]\n",
        "        list[1] = list[1][1:] #드러움\n",
        "        list[2] = list[2][1:]\n",
        "        list[3] = list[3][1:]\n",
        "        list[4] = list[4][1:]\n",
        "        list[5] = list[5][1:]    \n",
        "\n",
        "        url_final = 'http://dart.fss.or.kr/report/viewer.do?rcpNo='+ list[0] + '&dcmNo='+ list[1]+'&eleId=' +list[2] + '&offset=' + list[3] + '&length=' + list[4] + '&dtd=dart3.xsd'\n",
        "        return(url_final)\n",
        "    \n",
        "    except AttributeError as e:\n",
        "        print(e)"
      ],
      "execution_count": 0,
      "outputs": []
    },
    {
      "cell_type": "code",
      "metadata": {
        "id": "ukfVgnIma2yU",
        "colab_type": "code",
        "colab": {}
      },
      "source": [
        "def extracting_text(url):\n",
        "    req3 = requests.get(url)\n",
        "    html3 = req3.text\n",
        "    soup3 = BeautifulSoup(html3,'html.parser')\n",
        "    tables = []\n",
        "    ka = soup3.find_all('span') #table을 제외한 본문 text 부분 찾아서 리스트안에저장\n",
        "    for k in ka:\n",
        "        tables.append(k.get_text())\n",
        "    table = ''.join(tables) #리스트를 string으로 바꾼다\n",
        "    table = table.replace('\\xa0','') #정리\n",
        "    return table\n",
        "    "
      ],
      "execution_count": 0,
      "outputs": []
    },
    {
      "cell_type": "code",
      "metadata": {
        "id": "vtKje2IXa2vz",
        "colab_type": "code",
        "colab": {}
      },
      "source": [
        "def extracting_text2(url):\n",
        "    req3 = requests.get(url)\n",
        "    html3 = req3.text\n",
        "    soup3 = BeautifulSoup(html3,'html.parser')\n",
        "    tables = []\n",
        "    ka = soup3.find_all('p') #table을 제외한 본문 text 부분 찾아서 리스트안에저장\n",
        "    for k in ka:\n",
        "        tables.append(k.get_text())\n",
        "    table = ''.join(tables) #리스트를 string으로 바꾼다\n",
        "    table = table.replace('\\xa0','') #정리\n",
        "    table = table.replace('\\n','')\n",
        "    return table"
      ],
      "execution_count": 0,
      "outputs": []
    },
    {
      "cell_type": "code",
      "metadata": {
        "id": "SgS5tHJBa2tf",
        "colab_type": "code",
        "colab": {}
      },
      "source": [
        "def final(crp_code):\n",
        "    try:\n",
        "        df = get_df(crp_code)\n",
        "        urls = get_url(df)\n",
        "        strs=[]\n",
        "        for i in urls:\n",
        "            strs.append(extracting_text2(final_url(i)))\n",
        "        str_series = pd.Series(strs)\n",
        "        df['str']= str_series\n",
        "        return(df)\n",
        "    \n",
        "    except:\n",
        "        pass"
      ],
      "execution_count": 0,
      "outputs": []
    },
    {
      "cell_type": "code",
      "metadata": {
        "id": "xgsdbAeEa2q6",
        "colab_type": "code",
        "colab": {}
      },
      "source": [
        "def make_df(df):\n",
        "    start_vect=time.time()\n",
        "    ls = []\n",
        "    body = pd.DataFrame()\n",
        "    try:\n",
        "        for i in df['Symbol']:\n",
        "            ls.append(str(i).zfill(6))\n",
        "        for i in ls:\n",
        "                temp = final(i)\n",
        "                body = pd.concat([body,temp],ignore_index=True)\n",
        "    except AttributeError as e:\n",
        "        print(e)\n",
        "    \n",
        "    print(\"training Runtime: %0.2f Minutes\"%((time.time() - start_vect)/60))\n",
        "    return(body)\n",
        "\n"
      ],
      "execution_count": 0,
      "outputs": []
    },
    {
      "cell_type": "code",
      "metadata": {
        "id": "f8lRjjhXa2oO",
        "colab_type": "code",
        "colab": {
          "base_uri": "https://localhost:8080/",
          "height": 414
        },
        "outputId": "cbef2768-1dd1-4343-81b2-4daabdfd662c"
      },
      "source": [
        "kospi_df = pd.read_csv('/gdrive/My Drive/colab/dart/코스피상장회사.csv',index_col=0) "
      ],
      "execution_count": 18,
      "outputs": [
        {
          "output_type": "error",
          "ename": "FileNotFoundError",
          "evalue": "ignored",
          "traceback": [
            "\u001b[0;31m---------------------------------------------------------------------------\u001b[0m",
            "\u001b[0;31mFileNotFoundError\u001b[0m                         Traceback (most recent call last)",
            "\u001b[0;32m<ipython-input-18-b80a17c1ad43>\u001b[0m in \u001b[0;36m<module>\u001b[0;34m()\u001b[0m\n\u001b[0;32m----> 1\u001b[0;31m \u001b[0mkospi_df\u001b[0m \u001b[0;34m=\u001b[0m \u001b[0mpd\u001b[0m\u001b[0;34m.\u001b[0m\u001b[0mread_csv\u001b[0m\u001b[0;34m(\u001b[0m\u001b[0;34m'/gdrive/My Drive/colab/dart/코스피상장회사.csv'\u001b[0m\u001b[0;34m,\u001b[0m\u001b[0mindex_col\u001b[0m\u001b[0;34m=\u001b[0m\u001b[0;36m0\u001b[0m\u001b[0;34m)\u001b[0m\u001b[0;34m\u001b[0m\u001b[0;34m\u001b[0m\u001b[0m\n\u001b[0m",
            "\u001b[0;32m/usr/local/lib/python3.6/dist-packages/pandas/io/parsers.py\u001b[0m in \u001b[0;36mparser_f\u001b[0;34m(filepath_or_buffer, sep, delimiter, header, names, index_col, usecols, squeeze, prefix, mangle_dupe_cols, dtype, engine, converters, true_values, false_values, skipinitialspace, skiprows, skipfooter, nrows, na_values, keep_default_na, na_filter, verbose, skip_blank_lines, parse_dates, infer_datetime_format, keep_date_col, date_parser, dayfirst, cache_dates, iterator, chunksize, compression, thousands, decimal, lineterminator, quotechar, quoting, doublequote, escapechar, comment, encoding, dialect, error_bad_lines, warn_bad_lines, delim_whitespace, low_memory, memory_map, float_precision)\u001b[0m\n\u001b[1;32m    683\u001b[0m         )\n\u001b[1;32m    684\u001b[0m \u001b[0;34m\u001b[0m\u001b[0m\n\u001b[0;32m--> 685\u001b[0;31m         \u001b[0;32mreturn\u001b[0m \u001b[0m_read\u001b[0m\u001b[0;34m(\u001b[0m\u001b[0mfilepath_or_buffer\u001b[0m\u001b[0;34m,\u001b[0m \u001b[0mkwds\u001b[0m\u001b[0;34m)\u001b[0m\u001b[0;34m\u001b[0m\u001b[0;34m\u001b[0m\u001b[0m\n\u001b[0m\u001b[1;32m    686\u001b[0m \u001b[0;34m\u001b[0m\u001b[0m\n\u001b[1;32m    687\u001b[0m     \u001b[0mparser_f\u001b[0m\u001b[0;34m.\u001b[0m\u001b[0m__name__\u001b[0m \u001b[0;34m=\u001b[0m \u001b[0mname\u001b[0m\u001b[0;34m\u001b[0m\u001b[0;34m\u001b[0m\u001b[0m\n",
            "\u001b[0;32m/usr/local/lib/python3.6/dist-packages/pandas/io/parsers.py\u001b[0m in \u001b[0;36m_read\u001b[0;34m(filepath_or_buffer, kwds)\u001b[0m\n\u001b[1;32m    455\u001b[0m \u001b[0;34m\u001b[0m\u001b[0m\n\u001b[1;32m    456\u001b[0m     \u001b[0;31m# Create the parser.\u001b[0m\u001b[0;34m\u001b[0m\u001b[0;34m\u001b[0m\u001b[0;34m\u001b[0m\u001b[0m\n\u001b[0;32m--> 457\u001b[0;31m     \u001b[0mparser\u001b[0m \u001b[0;34m=\u001b[0m \u001b[0mTextFileReader\u001b[0m\u001b[0;34m(\u001b[0m\u001b[0mfp_or_buf\u001b[0m\u001b[0;34m,\u001b[0m \u001b[0;34m**\u001b[0m\u001b[0mkwds\u001b[0m\u001b[0;34m)\u001b[0m\u001b[0;34m\u001b[0m\u001b[0;34m\u001b[0m\u001b[0m\n\u001b[0m\u001b[1;32m    458\u001b[0m \u001b[0;34m\u001b[0m\u001b[0m\n\u001b[1;32m    459\u001b[0m     \u001b[0;32mif\u001b[0m \u001b[0mchunksize\u001b[0m \u001b[0;32mor\u001b[0m \u001b[0miterator\u001b[0m\u001b[0;34m:\u001b[0m\u001b[0;34m\u001b[0m\u001b[0;34m\u001b[0m\u001b[0m\n",
            "\u001b[0;32m/usr/local/lib/python3.6/dist-packages/pandas/io/parsers.py\u001b[0m in \u001b[0;36m__init__\u001b[0;34m(self, f, engine, **kwds)\u001b[0m\n\u001b[1;32m    893\u001b[0m             \u001b[0mself\u001b[0m\u001b[0;34m.\u001b[0m\u001b[0moptions\u001b[0m\u001b[0;34m[\u001b[0m\u001b[0;34m\"has_index_names\"\u001b[0m\u001b[0;34m]\u001b[0m \u001b[0;34m=\u001b[0m \u001b[0mkwds\u001b[0m\u001b[0;34m[\u001b[0m\u001b[0;34m\"has_index_names\"\u001b[0m\u001b[0;34m]\u001b[0m\u001b[0;34m\u001b[0m\u001b[0;34m\u001b[0m\u001b[0m\n\u001b[1;32m    894\u001b[0m \u001b[0;34m\u001b[0m\u001b[0m\n\u001b[0;32m--> 895\u001b[0;31m         \u001b[0mself\u001b[0m\u001b[0;34m.\u001b[0m\u001b[0m_make_engine\u001b[0m\u001b[0;34m(\u001b[0m\u001b[0mself\u001b[0m\u001b[0;34m.\u001b[0m\u001b[0mengine\u001b[0m\u001b[0;34m)\u001b[0m\u001b[0;34m\u001b[0m\u001b[0;34m\u001b[0m\u001b[0m\n\u001b[0m\u001b[1;32m    896\u001b[0m \u001b[0;34m\u001b[0m\u001b[0m\n\u001b[1;32m    897\u001b[0m     \u001b[0;32mdef\u001b[0m \u001b[0mclose\u001b[0m\u001b[0;34m(\u001b[0m\u001b[0mself\u001b[0m\u001b[0;34m)\u001b[0m\u001b[0;34m:\u001b[0m\u001b[0;34m\u001b[0m\u001b[0;34m\u001b[0m\u001b[0m\n",
            "\u001b[0;32m/usr/local/lib/python3.6/dist-packages/pandas/io/parsers.py\u001b[0m in \u001b[0;36m_make_engine\u001b[0;34m(self, engine)\u001b[0m\n\u001b[1;32m   1133\u001b[0m     \u001b[0;32mdef\u001b[0m \u001b[0m_make_engine\u001b[0m\u001b[0;34m(\u001b[0m\u001b[0mself\u001b[0m\u001b[0;34m,\u001b[0m \u001b[0mengine\u001b[0m\u001b[0;34m=\u001b[0m\u001b[0;34m\"c\"\u001b[0m\u001b[0;34m)\u001b[0m\u001b[0;34m:\u001b[0m\u001b[0;34m\u001b[0m\u001b[0;34m\u001b[0m\u001b[0m\n\u001b[1;32m   1134\u001b[0m         \u001b[0;32mif\u001b[0m \u001b[0mengine\u001b[0m \u001b[0;34m==\u001b[0m \u001b[0;34m\"c\"\u001b[0m\u001b[0;34m:\u001b[0m\u001b[0;34m\u001b[0m\u001b[0;34m\u001b[0m\u001b[0m\n\u001b[0;32m-> 1135\u001b[0;31m             \u001b[0mself\u001b[0m\u001b[0;34m.\u001b[0m\u001b[0m_engine\u001b[0m \u001b[0;34m=\u001b[0m \u001b[0mCParserWrapper\u001b[0m\u001b[0;34m(\u001b[0m\u001b[0mself\u001b[0m\u001b[0;34m.\u001b[0m\u001b[0mf\u001b[0m\u001b[0;34m,\u001b[0m \u001b[0;34m**\u001b[0m\u001b[0mself\u001b[0m\u001b[0;34m.\u001b[0m\u001b[0moptions\u001b[0m\u001b[0;34m)\u001b[0m\u001b[0;34m\u001b[0m\u001b[0;34m\u001b[0m\u001b[0m\n\u001b[0m\u001b[1;32m   1136\u001b[0m         \u001b[0;32melse\u001b[0m\u001b[0;34m:\u001b[0m\u001b[0;34m\u001b[0m\u001b[0;34m\u001b[0m\u001b[0m\n\u001b[1;32m   1137\u001b[0m             \u001b[0;32mif\u001b[0m \u001b[0mengine\u001b[0m \u001b[0;34m==\u001b[0m \u001b[0;34m\"python\"\u001b[0m\u001b[0;34m:\u001b[0m\u001b[0;34m\u001b[0m\u001b[0;34m\u001b[0m\u001b[0m\n",
            "\u001b[0;32m/usr/local/lib/python3.6/dist-packages/pandas/io/parsers.py\u001b[0m in \u001b[0;36m__init__\u001b[0;34m(self, src, **kwds)\u001b[0m\n\u001b[1;32m   1915\u001b[0m         \u001b[0mkwds\u001b[0m\u001b[0;34m[\u001b[0m\u001b[0;34m\"usecols\"\u001b[0m\u001b[0;34m]\u001b[0m \u001b[0;34m=\u001b[0m \u001b[0mself\u001b[0m\u001b[0;34m.\u001b[0m\u001b[0musecols\u001b[0m\u001b[0;34m\u001b[0m\u001b[0;34m\u001b[0m\u001b[0m\n\u001b[1;32m   1916\u001b[0m \u001b[0;34m\u001b[0m\u001b[0m\n\u001b[0;32m-> 1917\u001b[0;31m         \u001b[0mself\u001b[0m\u001b[0;34m.\u001b[0m\u001b[0m_reader\u001b[0m \u001b[0;34m=\u001b[0m \u001b[0mparsers\u001b[0m\u001b[0;34m.\u001b[0m\u001b[0mTextReader\u001b[0m\u001b[0;34m(\u001b[0m\u001b[0msrc\u001b[0m\u001b[0;34m,\u001b[0m \u001b[0;34m**\u001b[0m\u001b[0mkwds\u001b[0m\u001b[0;34m)\u001b[0m\u001b[0;34m\u001b[0m\u001b[0;34m\u001b[0m\u001b[0m\n\u001b[0m\u001b[1;32m   1918\u001b[0m         \u001b[0mself\u001b[0m\u001b[0;34m.\u001b[0m\u001b[0munnamed_cols\u001b[0m \u001b[0;34m=\u001b[0m \u001b[0mself\u001b[0m\u001b[0;34m.\u001b[0m\u001b[0m_reader\u001b[0m\u001b[0;34m.\u001b[0m\u001b[0munnamed_cols\u001b[0m\u001b[0;34m\u001b[0m\u001b[0;34m\u001b[0m\u001b[0m\n\u001b[1;32m   1919\u001b[0m \u001b[0;34m\u001b[0m\u001b[0m\n",
            "\u001b[0;32mpandas/_libs/parsers.pyx\u001b[0m in \u001b[0;36mpandas._libs.parsers.TextReader.__cinit__\u001b[0;34m()\u001b[0m\n",
            "\u001b[0;32mpandas/_libs/parsers.pyx\u001b[0m in \u001b[0;36mpandas._libs.parsers.TextReader._setup_parser_source\u001b[0;34m()\u001b[0m\n",
            "\u001b[0;31mFileNotFoundError\u001b[0m: [Errno 2] File b'/gdrive/My Drive/colab/dart/\\xec\\xbd\\x94\\xec\\x8a\\xa4\\xed\\x94\\xbc\\xec\\x83\\x81\\xec\\x9e\\xa5\\xed\\x9a\\x8c\\xec\\x82\\xac.csv' does not exist: b'/gdrive/My Drive/colab/dart/\\xec\\xbd\\x94\\xec\\x8a\\xa4\\xed\\x94\\xbc\\xec\\x83\\x81\\xec\\x9e\\xa5\\xed\\x9a\\x8c\\xec\\x82\\xac.csv'"
          ]
        }
      ]
    },
    {
      "cell_type": "code",
      "metadata": {
        "id": "3b5nB7xxdGqD",
        "colab_type": "code",
        "colab": {}
      },
      "source": [
        "!cd gdrive/My\\ Drive/colab"
      ],
      "execution_count": 0,
      "outputs": []
    },
    {
      "cell_type": "code",
      "metadata": {
        "id": "gS52QYl3bU1o",
        "colab_type": "code",
        "colab": {
          "base_uri": "https://localhost:8080/",
          "height": 35
        },
        "outputId": "6b5d86de-99ca-4fce-da8c-5e1cfbb06842"
      },
      "source": [
        "!ls gdrive/My\\ Drive/colab/dart"
      ],
      "execution_count": 27,
      "outputs": [
        {
          "output_type": "stream",
          "text": [
            "코스피상장회사.csv  df_full.csv  full_df.csv  kospi200.csv\n"
          ],
          "name": "stdout"
        }
      ]
    },
    {
      "cell_type": "code",
      "metadata": {
        "id": "_qs-GUBga2kz",
        "colab_type": "code",
        "colab": {}
      },
      "source": [
        "book = pd.read_csv('gdrive/My Drive/colab/dart/kospi200.csv') #kospi200 기업 데이터 불러오기"
      ],
      "execution_count": 0,
      "outputs": []
    },
    {
      "cell_type": "code",
      "metadata": {
        "id": "emZHdKx0a2f_",
        "colab_type": "code",
        "colab": {}
      },
      "source": [
        "book1 = book[0:50]\n",
        "book2 = book[50:100]\n",
        "book3 = book[100:150]\n",
        "book4 = book[150:200]"
      ],
      "execution_count": 0,
      "outputs": []
    },
    {
      "cell_type": "code",
      "metadata": {
        "id": "lqgV7-Tthd6J",
        "colab_type": "code",
        "outputId": "71af67ed-b0c1-4148-e257-70568930cbec",
        "colab": {
          "base_uri": "https://localhost:8080/",
          "height": 161
        }
      },
      "source": [
        "df_1 = make_df(book1) #kospi200기업 part1을 저장 7nan"
      ],
      "execution_count": 0,
      "outputs": [
        {
          "output_type": "stream",
          "text": [
            "'NoneType' object has no attribute 'span'\n",
            "'NoneType' object has no attribute 'span'\n",
            "'NoneType' object has no attribute 'span'\n",
            "'NoneType' object has no attribute 'span'\n",
            "'NoneType' object has no attribute 'span'\n",
            "'NoneType' object has no attribute 'span'\n",
            "'NoneType' object has no attribute 'span'\n",
            "training Runtime: 13.93 Minutes\n"
          ],
          "name": "stdout"
        }
      ]
    },
    {
      "cell_type": "code",
      "metadata": {
        "id": "lSa8Du_blxSe",
        "colab_type": "code",
        "outputId": "13836c54-9293-4cd4-de36-6588520ec40c",
        "colab": {
          "base_uri": "https://localhost:8080/",
          "height": 143
        }
      },
      "source": [
        "df_2 = make_df(book2) #part2 :6nan"
      ],
      "execution_count": 0,
      "outputs": [
        {
          "output_type": "stream",
          "text": [
            "'NoneType' object has no attribute 'span'\n",
            "'NoneType' object has no attribute 'span'\n",
            "'NoneType' object has no attribute 'span'\n",
            "'NoneType' object has no attribute 'span'\n",
            "'NoneType' object has no attribute 'span'\n",
            "'NoneType' object has no attribute 'span'\n",
            "training Runtime: 13.32 Minutes\n"
          ],
          "name": "stdout"
        }
      ]
    },
    {
      "cell_type": "code",
      "metadata": {
        "id": "yzKoLYFRq46d",
        "colab_type": "code",
        "outputId": "df453b3b-c5e3-4bca-df74-1522fbea22af",
        "colab": {
          "base_uri": "https://localhost:8080/",
          "height": 233
        }
      },
      "source": [
        "df_3 = make_df(book3) #part3:6nan ,part4:4nan\n",
        "df_4 = make_df(book4)"
      ],
      "execution_count": 0,
      "outputs": [
        {
          "output_type": "stream",
          "text": [
            "'NoneType' object has no attribute 'span'\n",
            "'NoneType' object has no attribute 'span'\n",
            "'NoneType' object has no attribute 'span'\n",
            "'NoneType' object has no attribute 'span'\n",
            "'NoneType' object has no attribute 'span'\n",
            "'NoneType' object has no attribute 'span'\n",
            "training Runtime: 13.01 Minutes\n",
            "'NoneType' object has no attribute 'span'\n",
            "'NoneType' object has no attribute 'span'\n",
            "'NoneType' object has no attribute 'span'\n",
            "'NoneType' object has no attribute 'span'\n",
            "training Runtime: 12.83 Minutes\n"
          ],
          "name": "stdout"
        }
      ]
    },
    {
      "cell_type": "code",
      "metadata": {
        "id": "WDRs9JZDxVkE",
        "colab_type": "code",
        "colab": {}
      },
      "source": [
        "df_full = pd.concat([df_1,df_2,df_3,df_4],ignore_index=True)"
      ],
      "execution_count": 0,
      "outputs": []
    },
    {
      "cell_type": "code",
      "metadata": {
        "id": "o4GRuH8SyXEm",
        "colab_type": "code",
        "colab": {}
      },
      "source": [
        "df_full.to_csv('/gdrive/My Drive/colab/dart/full_df.csv') #csv파일 저장"
      ],
      "execution_count": 0,
      "outputs": []
    },
    {
      "cell_type": "code",
      "metadata": {
        "id": "eCmhup4Zz0V_",
        "colab_type": "code",
        "colab": {}
      },
      "source": [
        "full_df = pd.read_csv('gdrive/My Drive/colab/dart/full_df.csv') #test"
      ],
      "execution_count": 0,
      "outputs": []
    },
    {
      "cell_type": "code",
      "metadata": {
        "id": "B3ivfwE_05g1",
        "colab_type": "code",
        "colab": {}
      },
      "source": [
        ""
      ],
      "execution_count": 0,
      "outputs": []
    }
  ]
}