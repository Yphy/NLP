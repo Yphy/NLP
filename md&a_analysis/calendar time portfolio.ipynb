{
 "cells": [
  {
   "cell_type": "code",
   "execution_count": 1,
   "metadata": {},
   "outputs": [
    {
     "data": {
      "text/html": [
       "        <script type=\"text/javascript\">\n",
       "        window.PlotlyConfig = {MathJaxConfig: 'local'};\n",
       "        if (window.MathJax) {MathJax.Hub.Config({SVG: {font: \"STIX-Web\"}});}\n",
       "        if (typeof require !== 'undefined') {\n",
       "        require.undef(\"plotly\");\n",
       "        requirejs.config({\n",
       "            paths: {\n",
       "                'plotly': ['https://cdn.plot.ly/plotly-latest.min']\n",
       "            }\n",
       "        });\n",
       "        require(['plotly'], function(Plotly) {\n",
       "            window._Plotly = Plotly;\n",
       "        });\n",
       "        }\n",
       "        </script>\n",
       "        "
      ]
     },
     "metadata": {},
     "output_type": "display_data"
    }
   ],
   "source": [
    "import numpy as np\n",
    "import pandas as pd\n",
    "import plotly.graph_objs as go\n",
    "from chart_studio.plotly import plot, iplot\n",
    "import cufflinks as cf\n",
    "cf.go_offline(connected=True)"
   ]
  },
  {
   "cell_type": "code",
   "execution_count": 2,
   "metadata": {},
   "outputs": [],
   "source": [
    "themes = cf.getThemes() #테마목록\n",
    "\n",
    "cf.set_config_file(theme = 'pearl') #theme설정\n",
    "\n",
    "# layout = { 'font': { 'family': 'consolas', 'size': 15, 'color': 'black'  #layout설정\n",
    "#                    } \n",
    "#          }\n",
    "# layout['title'] = \"Title\" \n",
    "# #iplot 안에 layout = layout으로 "
   ]
  },
  {
   "cell_type": "code",
   "execution_count": 3,
   "metadata": {},
   "outputs": [],
   "source": [
    "price_df = pd.read_csv('./data/kospi/preprocessed/df_return.csv',index_col=0)\n",
    "df = pd.read_csv('./data/similarity/jaccard.csv',index_col=0)\n",
    "rm_df = pd.read_csv('./data/kospi/raw/rm_kospi200.csv',index_col=0)"
   ]
  },
  {
   "cell_type": "code",
   "execution_count": 4,
   "metadata": {},
   "outputs": [],
   "source": [
    "abs_return = price_df.values - rm_df['return'].values[:,np.newaxis]\n",
    "de_rm_df = pd.DataFrame(data=abs_return, index=price_df.index, columns=price_df.columns)"
   ]
  },
  {
   "cell_type": "code",
   "execution_count": 5,
   "metadata": {},
   "outputs": [
    {
     "data": {
      "text/html": [
       "<div>\n",
       "<style scoped>\n",
       "    .dataframe tbody tr th:only-of-type {\n",
       "        vertical-align: middle;\n",
       "    }\n",
       "\n",
       "    .dataframe tbody tr th {\n",
       "        vertical-align: top;\n",
       "    }\n",
       "\n",
       "    .dataframe thead th {\n",
       "        text-align: right;\n",
       "    }\n",
       "</style>\n",
       "<table border=\"1\" class=\"dataframe\">\n",
       "  <thead>\n",
       "    <tr style=\"text-align: right;\">\n",
       "      <th></th>\n",
       "      <th>삼양홀딩스</th>\n",
       "      <th>유한양행</th>\n",
       "      <th>CJ대한통운</th>\n",
       "      <th>두산</th>\n",
       "      <th>대림산업</th>\n",
       "      <th>한국테크놀로지그룹</th>\n",
       "      <th>기아차</th>\n",
       "      <th>동아쏘시오홀딩스</th>\n",
       "      <th>SK하이닉스</th>\n",
       "      <th>영풍</th>\n",
       "      <th>...</th>\n",
       "      <th>현대백화점</th>\n",
       "      <th>한국금융지주</th>\n",
       "      <th>GS</th>\n",
       "      <th>하나금융지주</th>\n",
       "      <th>아모레퍼시픽</th>\n",
       "      <th>LF</th>\n",
       "      <th>후성</th>\n",
       "      <th>SK이노베이션</th>\n",
       "      <th>CJ제일제당</th>\n",
       "      <th>KB금융</th>\n",
       "    </tr>\n",
       "  </thead>\n",
       "  <tbody>\n",
       "    <tr>\n",
       "      <th>20100104</th>\n",
       "      <td>-0.002808</td>\n",
       "      <td>-0.018529</td>\n",
       "      <td>-0.046101</td>\n",
       "      <td>-0.033509</td>\n",
       "      <td>0.017940</td>\n",
       "      <td>-0.024881</td>\n",
       "      <td>0.030106</td>\n",
       "      <td>0.031618</td>\n",
       "      <td>0.033737</td>\n",
       "      <td>-0.007300</td>\n",
       "      <td>...</td>\n",
       "      <td>-0.002856</td>\n",
       "      <td>0.015088</td>\n",
       "      <td>-0.008779</td>\n",
       "      <td>0.006378</td>\n",
       "      <td>0.001263</td>\n",
       "      <td>0.003794</td>\n",
       "      <td>-0.013965</td>\n",
       "      <td>-0.011555</td>\n",
       "      <td>-7.299270e-07</td>\n",
       "      <td>-0.012325</td>\n",
       "    </tr>\n",
       "    <tr>\n",
       "      <th>20100105</th>\n",
       "      <td>-0.002681</td>\n",
       "      <td>0.008590</td>\n",
       "      <td>0.001074</td>\n",
       "      <td>0.000753</td>\n",
       "      <td>-0.006470</td>\n",
       "      <td>-0.041025</td>\n",
       "      <td>-0.052380</td>\n",
       "      <td>-0.030805</td>\n",
       "      <td>-0.028212</td>\n",
       "      <td>-0.030484</td>\n",
       "      <td>...</td>\n",
       "      <td>-0.041339</td>\n",
       "      <td>0.013127</td>\n",
       "      <td>0.007353</td>\n",
       "      <td>0.019400</td>\n",
       "      <td>-0.025747</td>\n",
       "      <td>-0.036277</td>\n",
       "      <td>-0.003533</td>\n",
       "      <td>0.041370</td>\n",
       "      <td>6.571034e-02</td>\n",
       "      <td>-0.008876</td>\n",
       "    </tr>\n",
       "    <tr>\n",
       "      <th>20100106</th>\n",
       "      <td>-0.016060</td>\n",
       "      <td>0.003080</td>\n",
       "      <td>0.028553</td>\n",
       "      <td>0.046807</td>\n",
       "      <td>0.011906</td>\n",
       "      <td>-0.014452</td>\n",
       "      <td>0.001966</td>\n",
       "      <td>-0.035338</td>\n",
       "      <td>0.043180</td>\n",
       "      <td>-0.031849</td>\n",
       "      <td>...</td>\n",
       "      <td>-0.031360</td>\n",
       "      <td>-0.016883</td>\n",
       "      <td>0.002112</td>\n",
       "      <td>-0.008212</td>\n",
       "      <td>-0.068328</td>\n",
       "      <td>-0.016369</td>\n",
       "      <td>0.006104</td>\n",
       "      <td>-0.004097</td>\n",
       "      <td>-5.939443e-03</td>\n",
       "      <td>-0.011619</td>\n",
       "    </tr>\n",
       "    <tr>\n",
       "      <th>20100107</th>\n",
       "      <td>-0.000886</td>\n",
       "      <td>0.006572</td>\n",
       "      <td>0.018501</td>\n",
       "      <td>0.042569</td>\n",
       "      <td>0.012635</td>\n",
       "      <td>-0.010329</td>\n",
       "      <td>-0.030385</td>\n",
       "      <td>0.022925</td>\n",
       "      <td>0.008845</td>\n",
       "      <td>0.011231</td>\n",
       "      <td>...</td>\n",
       "      <td>0.019695</td>\n",
       "      <td>-0.005453</td>\n",
       "      <td>0.025174</td>\n",
       "      <td>0.001681</td>\n",
       "      <td>-0.007132</td>\n",
       "      <td>0.006732</td>\n",
       "      <td>0.022945</td>\n",
       "      <td>0.010857</td>\n",
       "      <td>3.617400e-03</td>\n",
       "      <td>0.002989</td>\n",
       "    </tr>\n",
       "    <tr>\n",
       "      <th>20100108</th>\n",
       "      <td>-0.008403</td>\n",
       "      <td>-0.014540</td>\n",
       "      <td>0.011568</td>\n",
       "      <td>0.058574</td>\n",
       "      <td>0.004365</td>\n",
       "      <td>0.002605</td>\n",
       "      <td>0.015008</td>\n",
       "      <td>-0.014007</td>\n",
       "      <td>0.004146</td>\n",
       "      <td>-0.009838</td>\n",
       "      <td>...</td>\n",
       "      <td>-0.029685</td>\n",
       "      <td>0.060864</td>\n",
       "      <td>-0.010435</td>\n",
       "      <td>-0.003111</td>\n",
       "      <td>-0.021566</td>\n",
       "      <td>0.003850</td>\n",
       "      <td>-0.001080</td>\n",
       "      <td>0.002130</td>\n",
       "      <td>-6.100041e-03</td>\n",
       "      <td>-0.004370</td>\n",
       "    </tr>\n",
       "  </tbody>\n",
       "</table>\n",
       "<p>5 rows × 113 columns</p>\n",
       "</div>"
      ],
      "text/plain": [
       "             삼양홀딩스      유한양행    CJ대한통운        두산      대림산업  한국테크놀로지그룹  \\\n",
       "20100104 -0.002808 -0.018529 -0.046101 -0.033509  0.017940  -0.024881   \n",
       "20100105 -0.002681  0.008590  0.001074  0.000753 -0.006470  -0.041025   \n",
       "20100106 -0.016060  0.003080  0.028553  0.046807  0.011906  -0.014452   \n",
       "20100107 -0.000886  0.006572  0.018501  0.042569  0.012635  -0.010329   \n",
       "20100108 -0.008403 -0.014540  0.011568  0.058574  0.004365   0.002605   \n",
       "\n",
       "               기아차  동아쏘시오홀딩스    SK하이닉스        영풍  ...     현대백화점    한국금융지주  \\\n",
       "20100104  0.030106  0.031618  0.033737 -0.007300  ... -0.002856  0.015088   \n",
       "20100105 -0.052380 -0.030805 -0.028212 -0.030484  ... -0.041339  0.013127   \n",
       "20100106  0.001966 -0.035338  0.043180 -0.031849  ... -0.031360 -0.016883   \n",
       "20100107 -0.030385  0.022925  0.008845  0.011231  ...  0.019695 -0.005453   \n",
       "20100108  0.015008 -0.014007  0.004146 -0.009838  ... -0.029685  0.060864   \n",
       "\n",
       "                GS    하나금융지주    아모레퍼시픽        LF        후성   SK이노베이션  \\\n",
       "20100104 -0.008779  0.006378  0.001263  0.003794 -0.013965 -0.011555   \n",
       "20100105  0.007353  0.019400 -0.025747 -0.036277 -0.003533  0.041370   \n",
       "20100106  0.002112 -0.008212 -0.068328 -0.016369  0.006104 -0.004097   \n",
       "20100107  0.025174  0.001681 -0.007132  0.006732  0.022945  0.010857   \n",
       "20100108 -0.010435 -0.003111 -0.021566  0.003850 -0.001080  0.002130   \n",
       "\n",
       "                CJ제일제당      KB금융  \n",
       "20100104 -7.299270e-07 -0.012325  \n",
       "20100105  6.571034e-02 -0.008876  \n",
       "20100106 -5.939443e-03 -0.011619  \n",
       "20100107  3.617400e-03  0.002989  \n",
       "20100108 -6.100041e-03 -0.004370  \n",
       "\n",
       "[5 rows x 113 columns]"
      ]
     },
     "execution_count": 5,
     "metadata": {},
     "output_type": "execute_result"
    }
   ],
   "source": [
    "de_rm_df.head() #kospi200 market return을 감해준 수익률 data"
   ]
  },
  {
   "cell_type": "markdown",
   "metadata": {},
   "source": [
    "2010년~2011 사이에는 비교할 동일기업 사업보고서 존재하지 않으므로 유사도가 존재하지않는다. 2011년부터 발행되며 filing월은 각자 다르다."
   ]
  },
  {
   "cell_type": "code",
   "execution_count": 10,
   "metadata": {},
   "outputs": [],
   "source": [
    "arr = df.values\n",
    "col_ls = df.columns.values\n",
    "finite_arr = ~np.isnan(arr)"
   ]
  },
  {
   "cell_type": "code",
   "execution_count": 11,
   "metadata": {},
   "outputs": [],
   "source": [
    "def converter(idx) :     \n",
    "    tmp_key = col_ls[finite_arr[idx]]\n",
    "    tmp_val = arr[idx][finite_arr[idx]]\n",
    "    tmp_dict = dict(zip(tmp_key,tmp_val))\n",
    "    return tmp_dict"
   ]
  },
  {
   "cell_type": "code",
   "execution_count": 15,
   "metadata": {
    "scrolled": true
   },
   "outputs": [
    {
     "name": "stdout",
     "output_type": "stream",
     "text": [
      "Wall time: 20.9 ms\n"
     ]
    }
   ],
   "source": [
    "%%time\n",
    "container = []\n",
    "dict_ = dict(zip(col_ls, [np.nan for _ in range(len(col_ls))]))\n",
    "idx_ls = []\n",
    "for idx in range(1, len(arr)) : \n",
    "    tmp_dict = converter(idx)\n",
    "    if len(tmp_dict) :\n",
    "        idx_ls.append(idx)\n",
    "    container.append(dict_.copy())\n",
    "    dict_.update(tmp_dict)\n",
    "container.append(dict_)\n",
    "\n",
    "assert len(container) == len(df)"
   ]
  },
  {
   "cell_type": "code",
   "execution_count": 16,
   "metadata": {},
   "outputs": [],
   "source": [
    "df_converter = lambda x : pd.DataFrame.from_dict(x,orient='index').T\n",
    "concat_df = pd.concat(map(df_converter, container),ignore_index=True)\n",
    "concat_df.index = df.index "
   ]
  },
  {
   "cell_type": "code",
   "execution_count": 17,
   "metadata": {
    "scrolled": true
   },
   "outputs": [
    {
     "name": "stderr",
     "output_type": "stream",
     "text": [
      "C:\\Users\\yphy0\\Anaconda3\\lib\\site-packages\\ipykernel_launcher.py:3: RuntimeWarning:\n",
      "\n",
      "invalid value encountered in sign\n",
      "\n"
     ]
    },
    {
     "data": {
      "text/plain": [
       "113"
      ]
     },
     "execution_count": 17,
     "metadata": {},
     "output_type": "execute_result"
    }
   ],
   "source": [
    "ls_ = [] #np.sign이용해 모든 기업에 대하여 총 바뀐 값이 9개(10년치) 인지 확인\n",
    "for i in concat_df.columns:\n",
    "    if len(concat_df[np.sign(concat_df).sum(1)==113].loc[:,i].unique()) == 9:\n",
    "        ls_.append(i)\n",
    "\n",
    "len(ls_)"
   ]
  },
  {
   "cell_type": "code",
   "execution_count": 18,
   "metadata": {},
   "outputs": [
    {
     "data": {
      "text/html": [
       "<div>\n",
       "<style scoped>\n",
       "    .dataframe tbody tr th:only-of-type {\n",
       "        vertical-align: middle;\n",
       "    }\n",
       "\n",
       "    .dataframe tbody tr th {\n",
       "        vertical-align: top;\n",
       "    }\n",
       "\n",
       "    .dataframe thead th {\n",
       "        text-align: right;\n",
       "    }\n",
       "</style>\n",
       "<table border=\"1\" class=\"dataframe\">\n",
       "  <thead>\n",
       "    <tr style=\"text-align: right;\">\n",
       "      <th></th>\n",
       "      <th>삼양홀딩스</th>\n",
       "      <th>유한양행</th>\n",
       "      <th>CJ대한통운</th>\n",
       "      <th>두산</th>\n",
       "      <th>대림산업</th>\n",
       "      <th>한국테크놀로지그룹</th>\n",
       "      <th>기아차</th>\n",
       "      <th>동아쏘시오홀딩스</th>\n",
       "      <th>SK하이닉스</th>\n",
       "      <th>영풍</th>\n",
       "      <th>...</th>\n",
       "      <th>현대백화점</th>\n",
       "      <th>한국금융지주</th>\n",
       "      <th>GS</th>\n",
       "      <th>하나금융지주</th>\n",
       "      <th>아모레퍼시픽</th>\n",
       "      <th>LF</th>\n",
       "      <th>후성</th>\n",
       "      <th>SK이노베이션</th>\n",
       "      <th>CJ제일제당</th>\n",
       "      <th>KB금융</th>\n",
       "    </tr>\n",
       "  </thead>\n",
       "  <tbody>\n",
       "    <tr>\n",
       "      <th>20100101</th>\n",
       "      <td>NaN</td>\n",
       "      <td>NaN</td>\n",
       "      <td>NaN</td>\n",
       "      <td>NaN</td>\n",
       "      <td>NaN</td>\n",
       "      <td>NaN</td>\n",
       "      <td>NaN</td>\n",
       "      <td>NaN</td>\n",
       "      <td>NaN</td>\n",
       "      <td>NaN</td>\n",
       "      <td>...</td>\n",
       "      <td>NaN</td>\n",
       "      <td>NaN</td>\n",
       "      <td>NaN</td>\n",
       "      <td>NaN</td>\n",
       "      <td>NaN</td>\n",
       "      <td>NaN</td>\n",
       "      <td>NaN</td>\n",
       "      <td>NaN</td>\n",
       "      <td>NaN</td>\n",
       "      <td>NaN</td>\n",
       "    </tr>\n",
       "    <tr>\n",
       "      <th>20100102</th>\n",
       "      <td>NaN</td>\n",
       "      <td>NaN</td>\n",
       "      <td>NaN</td>\n",
       "      <td>NaN</td>\n",
       "      <td>NaN</td>\n",
       "      <td>NaN</td>\n",
       "      <td>NaN</td>\n",
       "      <td>NaN</td>\n",
       "      <td>NaN</td>\n",
       "      <td>NaN</td>\n",
       "      <td>...</td>\n",
       "      <td>NaN</td>\n",
       "      <td>NaN</td>\n",
       "      <td>NaN</td>\n",
       "      <td>NaN</td>\n",
       "      <td>NaN</td>\n",
       "      <td>NaN</td>\n",
       "      <td>NaN</td>\n",
       "      <td>NaN</td>\n",
       "      <td>NaN</td>\n",
       "      <td>NaN</td>\n",
       "    </tr>\n",
       "    <tr>\n",
       "      <th>20100103</th>\n",
       "      <td>NaN</td>\n",
       "      <td>NaN</td>\n",
       "      <td>NaN</td>\n",
       "      <td>NaN</td>\n",
       "      <td>NaN</td>\n",
       "      <td>NaN</td>\n",
       "      <td>NaN</td>\n",
       "      <td>NaN</td>\n",
       "      <td>NaN</td>\n",
       "      <td>NaN</td>\n",
       "      <td>...</td>\n",
       "      <td>NaN</td>\n",
       "      <td>NaN</td>\n",
       "      <td>NaN</td>\n",
       "      <td>NaN</td>\n",
       "      <td>NaN</td>\n",
       "      <td>NaN</td>\n",
       "      <td>NaN</td>\n",
       "      <td>NaN</td>\n",
       "      <td>NaN</td>\n",
       "      <td>NaN</td>\n",
       "    </tr>\n",
       "    <tr>\n",
       "      <th>20100104</th>\n",
       "      <td>NaN</td>\n",
       "      <td>NaN</td>\n",
       "      <td>NaN</td>\n",
       "      <td>NaN</td>\n",
       "      <td>NaN</td>\n",
       "      <td>NaN</td>\n",
       "      <td>NaN</td>\n",
       "      <td>NaN</td>\n",
       "      <td>NaN</td>\n",
       "      <td>NaN</td>\n",
       "      <td>...</td>\n",
       "      <td>NaN</td>\n",
       "      <td>NaN</td>\n",
       "      <td>NaN</td>\n",
       "      <td>NaN</td>\n",
       "      <td>NaN</td>\n",
       "      <td>NaN</td>\n",
       "      <td>NaN</td>\n",
       "      <td>NaN</td>\n",
       "      <td>NaN</td>\n",
       "      <td>NaN</td>\n",
       "    </tr>\n",
       "    <tr>\n",
       "      <th>20100105</th>\n",
       "      <td>NaN</td>\n",
       "      <td>NaN</td>\n",
       "      <td>NaN</td>\n",
       "      <td>NaN</td>\n",
       "      <td>NaN</td>\n",
       "      <td>NaN</td>\n",
       "      <td>NaN</td>\n",
       "      <td>NaN</td>\n",
       "      <td>NaN</td>\n",
       "      <td>NaN</td>\n",
       "      <td>...</td>\n",
       "      <td>NaN</td>\n",
       "      <td>NaN</td>\n",
       "      <td>NaN</td>\n",
       "      <td>NaN</td>\n",
       "      <td>NaN</td>\n",
       "      <td>NaN</td>\n",
       "      <td>NaN</td>\n",
       "      <td>NaN</td>\n",
       "      <td>NaN</td>\n",
       "      <td>NaN</td>\n",
       "    </tr>\n",
       "    <tr>\n",
       "      <th>...</th>\n",
       "      <td>...</td>\n",
       "      <td>...</td>\n",
       "      <td>...</td>\n",
       "      <td>...</td>\n",
       "      <td>...</td>\n",
       "      <td>...</td>\n",
       "      <td>...</td>\n",
       "      <td>...</td>\n",
       "      <td>...</td>\n",
       "      <td>...</td>\n",
       "      <td>...</td>\n",
       "      <td>...</td>\n",
       "      <td>...</td>\n",
       "      <td>...</td>\n",
       "      <td>...</td>\n",
       "      <td>...</td>\n",
       "      <td>...</td>\n",
       "      <td>...</td>\n",
       "      <td>...</td>\n",
       "      <td>...</td>\n",
       "      <td>...</td>\n",
       "    </tr>\n",
       "    <tr>\n",
       "      <th>20191227</th>\n",
       "      <td>0.690635</td>\n",
       "      <td>0.532609</td>\n",
       "      <td>0.727488</td>\n",
       "      <td>0.679662</td>\n",
       "      <td>0.510638</td>\n",
       "      <td>0.625402</td>\n",
       "      <td>0.6787</td>\n",
       "      <td>0.738854</td>\n",
       "      <td>0.694118</td>\n",
       "      <td>0.811252</td>\n",
       "      <td>...</td>\n",
       "      <td>0.758364</td>\n",
       "      <td>0.564672</td>\n",
       "      <td>0.671296</td>\n",
       "      <td>0.77672</td>\n",
       "      <td>0.543662</td>\n",
       "      <td>0.870103</td>\n",
       "      <td>0.857909</td>\n",
       "      <td>0.810392</td>\n",
       "      <td>0.677365</td>\n",
       "      <td>0.821839</td>\n",
       "    </tr>\n",
       "    <tr>\n",
       "      <th>20191228</th>\n",
       "      <td>0.690635</td>\n",
       "      <td>0.532609</td>\n",
       "      <td>0.727488</td>\n",
       "      <td>0.679662</td>\n",
       "      <td>0.510638</td>\n",
       "      <td>0.625402</td>\n",
       "      <td>0.6787</td>\n",
       "      <td>0.738854</td>\n",
       "      <td>0.694118</td>\n",
       "      <td>0.811252</td>\n",
       "      <td>...</td>\n",
       "      <td>0.758364</td>\n",
       "      <td>0.564672</td>\n",
       "      <td>0.671296</td>\n",
       "      <td>0.77672</td>\n",
       "      <td>0.543662</td>\n",
       "      <td>0.870103</td>\n",
       "      <td>0.857909</td>\n",
       "      <td>0.810392</td>\n",
       "      <td>0.677365</td>\n",
       "      <td>0.821839</td>\n",
       "    </tr>\n",
       "    <tr>\n",
       "      <th>20191229</th>\n",
       "      <td>0.690635</td>\n",
       "      <td>0.532609</td>\n",
       "      <td>0.727488</td>\n",
       "      <td>0.679662</td>\n",
       "      <td>0.510638</td>\n",
       "      <td>0.625402</td>\n",
       "      <td>0.6787</td>\n",
       "      <td>0.738854</td>\n",
       "      <td>0.694118</td>\n",
       "      <td>0.811252</td>\n",
       "      <td>...</td>\n",
       "      <td>0.758364</td>\n",
       "      <td>0.564672</td>\n",
       "      <td>0.671296</td>\n",
       "      <td>0.77672</td>\n",
       "      <td>0.543662</td>\n",
       "      <td>0.870103</td>\n",
       "      <td>0.857909</td>\n",
       "      <td>0.810392</td>\n",
       "      <td>0.677365</td>\n",
       "      <td>0.821839</td>\n",
       "    </tr>\n",
       "    <tr>\n",
       "      <th>20191230</th>\n",
       "      <td>0.690635</td>\n",
       "      <td>0.532609</td>\n",
       "      <td>0.727488</td>\n",
       "      <td>0.679662</td>\n",
       "      <td>0.510638</td>\n",
       "      <td>0.625402</td>\n",
       "      <td>0.6787</td>\n",
       "      <td>0.738854</td>\n",
       "      <td>0.694118</td>\n",
       "      <td>0.811252</td>\n",
       "      <td>...</td>\n",
       "      <td>0.758364</td>\n",
       "      <td>0.564672</td>\n",
       "      <td>0.671296</td>\n",
       "      <td>0.77672</td>\n",
       "      <td>0.543662</td>\n",
       "      <td>0.870103</td>\n",
       "      <td>0.857909</td>\n",
       "      <td>0.810392</td>\n",
       "      <td>0.677365</td>\n",
       "      <td>0.821839</td>\n",
       "    </tr>\n",
       "    <tr>\n",
       "      <th>20191231</th>\n",
       "      <td>0.690635</td>\n",
       "      <td>0.532609</td>\n",
       "      <td>0.727488</td>\n",
       "      <td>0.679662</td>\n",
       "      <td>0.510638</td>\n",
       "      <td>0.625402</td>\n",
       "      <td>0.6787</td>\n",
       "      <td>0.738854</td>\n",
       "      <td>0.694118</td>\n",
       "      <td>0.811252</td>\n",
       "      <td>...</td>\n",
       "      <td>0.758364</td>\n",
       "      <td>0.564672</td>\n",
       "      <td>0.671296</td>\n",
       "      <td>0.77672</td>\n",
       "      <td>0.543662</td>\n",
       "      <td>0.870103</td>\n",
       "      <td>0.857909</td>\n",
       "      <td>0.810392</td>\n",
       "      <td>0.677365</td>\n",
       "      <td>0.821839</td>\n",
       "    </tr>\n",
       "  </tbody>\n",
       "</table>\n",
       "<p>3652 rows × 113 columns</p>\n",
       "</div>"
      ],
      "text/plain": [
       "             삼양홀딩스      유한양행    CJ대한통운        두산      대림산업  한국테크놀로지그룹     기아차  \\\n",
       "20100101       NaN       NaN       NaN       NaN       NaN        NaN     NaN   \n",
       "20100102       NaN       NaN       NaN       NaN       NaN        NaN     NaN   \n",
       "20100103       NaN       NaN       NaN       NaN       NaN        NaN     NaN   \n",
       "20100104       NaN       NaN       NaN       NaN       NaN        NaN     NaN   \n",
       "20100105       NaN       NaN       NaN       NaN       NaN        NaN     NaN   \n",
       "...            ...       ...       ...       ...       ...        ...     ...   \n",
       "20191227  0.690635  0.532609  0.727488  0.679662  0.510638   0.625402  0.6787   \n",
       "20191228  0.690635  0.532609  0.727488  0.679662  0.510638   0.625402  0.6787   \n",
       "20191229  0.690635  0.532609  0.727488  0.679662  0.510638   0.625402  0.6787   \n",
       "20191230  0.690635  0.532609  0.727488  0.679662  0.510638   0.625402  0.6787   \n",
       "20191231  0.690635  0.532609  0.727488  0.679662  0.510638   0.625402  0.6787   \n",
       "\n",
       "          동아쏘시오홀딩스    SK하이닉스        영풍  ...     현대백화점    한국금융지주        GS  \\\n",
       "20100101       NaN       NaN       NaN  ...       NaN       NaN       NaN   \n",
       "20100102       NaN       NaN       NaN  ...       NaN       NaN       NaN   \n",
       "20100103       NaN       NaN       NaN  ...       NaN       NaN       NaN   \n",
       "20100104       NaN       NaN       NaN  ...       NaN       NaN       NaN   \n",
       "20100105       NaN       NaN       NaN  ...       NaN       NaN       NaN   \n",
       "...            ...       ...       ...  ...       ...       ...       ...   \n",
       "20191227  0.738854  0.694118  0.811252  ...  0.758364  0.564672  0.671296   \n",
       "20191228  0.738854  0.694118  0.811252  ...  0.758364  0.564672  0.671296   \n",
       "20191229  0.738854  0.694118  0.811252  ...  0.758364  0.564672  0.671296   \n",
       "20191230  0.738854  0.694118  0.811252  ...  0.758364  0.564672  0.671296   \n",
       "20191231  0.738854  0.694118  0.811252  ...  0.758364  0.564672  0.671296   \n",
       "\n",
       "           하나금융지주    아모레퍼시픽        LF        후성   SK이노베이션    CJ제일제당      KB금융  \n",
       "20100101      NaN       NaN       NaN       NaN       NaN       NaN       NaN  \n",
       "20100102      NaN       NaN       NaN       NaN       NaN       NaN       NaN  \n",
       "20100103      NaN       NaN       NaN       NaN       NaN       NaN       NaN  \n",
       "20100104      NaN       NaN       NaN       NaN       NaN       NaN       NaN  \n",
       "20100105      NaN       NaN       NaN       NaN       NaN       NaN       NaN  \n",
       "...           ...       ...       ...       ...       ...       ...       ...  \n",
       "20191227  0.77672  0.543662  0.870103  0.857909  0.810392  0.677365  0.821839  \n",
       "20191228  0.77672  0.543662  0.870103  0.857909  0.810392  0.677365  0.821839  \n",
       "20191229  0.77672  0.543662  0.870103  0.857909  0.810392  0.677365  0.821839  \n",
       "20191230  0.77672  0.543662  0.870103  0.857909  0.810392  0.677365  0.821839  \n",
       "20191231  0.77672  0.543662  0.870103  0.857909  0.810392  0.677365  0.821839  \n",
       "\n",
       "[3652 rows x 113 columns]"
      ]
     },
     "execution_count": 18,
     "metadata": {},
     "output_type": "execute_result"
    }
   ],
   "source": [
    "concat_df"
   ]
  },
  {
   "cell_type": "markdown",
   "metadata": {},
   "source": [
    "'20110629'가 처음으로 113개 기업의 작년 기준 sim values가 생기는 달. 월별 수익률을 가져올 것므로 2011.07부터 포트폴리오를 구성하겠다"
   ]
  },
  {
   "cell_type": "code",
   "execution_count": 19,
   "metadata": {},
   "outputs": [
    {
     "data": {
      "text/html": [
       "<div>\n",
       "<style scoped>\n",
       "    .dataframe tbody tr th:only-of-type {\n",
       "        vertical-align: middle;\n",
       "    }\n",
       "\n",
       "    .dataframe tbody tr th {\n",
       "        vertical-align: top;\n",
       "    }\n",
       "\n",
       "    .dataframe thead th {\n",
       "        text-align: right;\n",
       "    }\n",
       "</style>\n",
       "<table border=\"1\" class=\"dataframe\">\n",
       "  <thead>\n",
       "    <tr style=\"text-align: right;\">\n",
       "      <th></th>\n",
       "      <th>삼양홀딩스</th>\n",
       "      <th>유한양행</th>\n",
       "      <th>CJ대한통운</th>\n",
       "      <th>두산</th>\n",
       "      <th>대림산업</th>\n",
       "      <th>한국테크놀로지그룹</th>\n",
       "      <th>기아차</th>\n",
       "      <th>동아쏘시오홀딩스</th>\n",
       "      <th>SK하이닉스</th>\n",
       "      <th>영풍</th>\n",
       "      <th>...</th>\n",
       "      <th>현대백화점</th>\n",
       "      <th>한국금융지주</th>\n",
       "      <th>GS</th>\n",
       "      <th>하나금융지주</th>\n",
       "      <th>아모레퍼시픽</th>\n",
       "      <th>LF</th>\n",
       "      <th>후성</th>\n",
       "      <th>SK이노베이션</th>\n",
       "      <th>CJ제일제당</th>\n",
       "      <th>KB금융</th>\n",
       "    </tr>\n",
       "  </thead>\n",
       "  <tbody>\n",
       "    <tr>\n",
       "      <th>20110701</th>\n",
       "      <td>0.482558</td>\n",
       "      <td>0.852459</td>\n",
       "      <td>0.615385</td>\n",
       "      <td>0.579749</td>\n",
       "      <td>0.630503</td>\n",
       "      <td>0.203113</td>\n",
       "      <td>0.705706</td>\n",
       "      <td>0.534641</td>\n",
       "      <td>0.75</td>\n",
       "      <td>0.5762</td>\n",
       "      <td>...</td>\n",
       "      <td>0.873362</td>\n",
       "      <td>0.663158</td>\n",
       "      <td>0.903475</td>\n",
       "      <td>0.462889</td>\n",
       "      <td>0.577154</td>\n",
       "      <td>0.713235</td>\n",
       "      <td>0.633452</td>\n",
       "      <td>0.574394</td>\n",
       "      <td>0.755193</td>\n",
       "      <td>0.71663</td>\n",
       "    </tr>\n",
       "    <tr>\n",
       "      <th>20110702</th>\n",
       "      <td>0.482558</td>\n",
       "      <td>0.852459</td>\n",
       "      <td>0.615385</td>\n",
       "      <td>0.579749</td>\n",
       "      <td>0.630503</td>\n",
       "      <td>0.203113</td>\n",
       "      <td>0.705706</td>\n",
       "      <td>0.534641</td>\n",
       "      <td>0.75</td>\n",
       "      <td>0.5762</td>\n",
       "      <td>...</td>\n",
       "      <td>0.873362</td>\n",
       "      <td>0.663158</td>\n",
       "      <td>0.903475</td>\n",
       "      <td>0.462889</td>\n",
       "      <td>0.577154</td>\n",
       "      <td>0.713235</td>\n",
       "      <td>0.633452</td>\n",
       "      <td>0.574394</td>\n",
       "      <td>0.755193</td>\n",
       "      <td>0.71663</td>\n",
       "    </tr>\n",
       "    <tr>\n",
       "      <th>20110703</th>\n",
       "      <td>0.482558</td>\n",
       "      <td>0.852459</td>\n",
       "      <td>0.615385</td>\n",
       "      <td>0.579749</td>\n",
       "      <td>0.630503</td>\n",
       "      <td>0.203113</td>\n",
       "      <td>0.705706</td>\n",
       "      <td>0.534641</td>\n",
       "      <td>0.75</td>\n",
       "      <td>0.5762</td>\n",
       "      <td>...</td>\n",
       "      <td>0.873362</td>\n",
       "      <td>0.663158</td>\n",
       "      <td>0.903475</td>\n",
       "      <td>0.462889</td>\n",
       "      <td>0.577154</td>\n",
       "      <td>0.713235</td>\n",
       "      <td>0.633452</td>\n",
       "      <td>0.574394</td>\n",
       "      <td>0.755193</td>\n",
       "      <td>0.71663</td>\n",
       "    </tr>\n",
       "    <tr>\n",
       "      <th>20110704</th>\n",
       "      <td>0.482558</td>\n",
       "      <td>0.852459</td>\n",
       "      <td>0.615385</td>\n",
       "      <td>0.579749</td>\n",
       "      <td>0.630503</td>\n",
       "      <td>0.203113</td>\n",
       "      <td>0.705706</td>\n",
       "      <td>0.534641</td>\n",
       "      <td>0.75</td>\n",
       "      <td>0.5762</td>\n",
       "      <td>...</td>\n",
       "      <td>0.873362</td>\n",
       "      <td>0.663158</td>\n",
       "      <td>0.903475</td>\n",
       "      <td>0.462889</td>\n",
       "      <td>0.577154</td>\n",
       "      <td>0.713235</td>\n",
       "      <td>0.633452</td>\n",
       "      <td>0.574394</td>\n",
       "      <td>0.755193</td>\n",
       "      <td>0.71663</td>\n",
       "    </tr>\n",
       "    <tr>\n",
       "      <th>20110705</th>\n",
       "      <td>0.482558</td>\n",
       "      <td>0.852459</td>\n",
       "      <td>0.615385</td>\n",
       "      <td>0.579749</td>\n",
       "      <td>0.630503</td>\n",
       "      <td>0.203113</td>\n",
       "      <td>0.705706</td>\n",
       "      <td>0.534641</td>\n",
       "      <td>0.75</td>\n",
       "      <td>0.5762</td>\n",
       "      <td>...</td>\n",
       "      <td>0.873362</td>\n",
       "      <td>0.663158</td>\n",
       "      <td>0.903475</td>\n",
       "      <td>0.462889</td>\n",
       "      <td>0.577154</td>\n",
       "      <td>0.713235</td>\n",
       "      <td>0.633452</td>\n",
       "      <td>0.574394</td>\n",
       "      <td>0.755193</td>\n",
       "      <td>0.71663</td>\n",
       "    </tr>\n",
       "  </tbody>\n",
       "</table>\n",
       "<p>5 rows × 113 columns</p>\n",
       "</div>"
      ],
      "text/plain": [
       "             삼양홀딩스      유한양행    CJ대한통운        두산      대림산업  한국테크놀로지그룹  \\\n",
       "20110701  0.482558  0.852459  0.615385  0.579749  0.630503   0.203113   \n",
       "20110702  0.482558  0.852459  0.615385  0.579749  0.630503   0.203113   \n",
       "20110703  0.482558  0.852459  0.615385  0.579749  0.630503   0.203113   \n",
       "20110704  0.482558  0.852459  0.615385  0.579749  0.630503   0.203113   \n",
       "20110705  0.482558  0.852459  0.615385  0.579749  0.630503   0.203113   \n",
       "\n",
       "               기아차  동아쏘시오홀딩스  SK하이닉스      영풍  ...     현대백화점    한국금융지주  \\\n",
       "20110701  0.705706  0.534641    0.75  0.5762  ...  0.873362  0.663158   \n",
       "20110702  0.705706  0.534641    0.75  0.5762  ...  0.873362  0.663158   \n",
       "20110703  0.705706  0.534641    0.75  0.5762  ...  0.873362  0.663158   \n",
       "20110704  0.705706  0.534641    0.75  0.5762  ...  0.873362  0.663158   \n",
       "20110705  0.705706  0.534641    0.75  0.5762  ...  0.873362  0.663158   \n",
       "\n",
       "                GS    하나금융지주    아모레퍼시픽        LF        후성   SK이노베이션  \\\n",
       "20110701  0.903475  0.462889  0.577154  0.713235  0.633452  0.574394   \n",
       "20110702  0.903475  0.462889  0.577154  0.713235  0.633452  0.574394   \n",
       "20110703  0.903475  0.462889  0.577154  0.713235  0.633452  0.574394   \n",
       "20110704  0.903475  0.462889  0.577154  0.713235  0.633452  0.574394   \n",
       "20110705  0.903475  0.462889  0.577154  0.713235  0.633452  0.574394   \n",
       "\n",
       "            CJ제일제당     KB금융  \n",
       "20110701  0.755193  0.71663  \n",
       "20110702  0.755193  0.71663  \n",
       "20110703  0.755193  0.71663  \n",
       "20110704  0.755193  0.71663  \n",
       "20110705  0.755193  0.71663  \n",
       "\n",
       "[5 rows x 113 columns]"
      ]
     },
     "execution_count": 19,
     "metadata": {},
     "output_type": "execute_result"
    }
   ],
   "source": [
    "df_ = concat_df.loc[20110701:,:].copy()\n",
    "price_df = price_df.loc[20110701:,:]\n",
    "df_.head()"
   ]
  },
  {
   "cell_type": "code",
   "execution_count": 20,
   "metadata": {},
   "outputs": [],
   "source": [
    "def get_q(df_, lower_bound, upper_bound) : #quntile 설정해주면 해당 quantile에 해당하는 boolean값 반환. cross-sectional 기준\n",
    "    low_q1_threshold = np.percentile(df_,lower_bound,1)\n",
    "    low_q1_thres_mat = np.repeat(low_q1_threshold[:,np.newaxis],df_.shape[1],1)\n",
    "\n",
    "    high_q1_threshold = np.percentile(df_,upper_bound,1)\n",
    "    high_q1_thres_mat = np.repeat(high_q1_threshold[:,np.newaxis],df_.shape[1],1)\n",
    "    \n",
    "    low_bool_mat = low_q1_thres_mat > df_\n",
    "    high_bool_mat1 = high_q1_thres_mat > df_\n",
    "    \n",
    "    low_bool_mat = low_q1_thres_mat > df_\n",
    "    high_bool_mat = high_q1_thres_mat > df_\n",
    "    \n",
    "    return np.bitwise_and(high_bool_mat,~low_bool_mat)"
   ]
  },
  {
   "cell_type": "code",
   "execution_count": 21,
   "metadata": {
    "scrolled": true
   },
   "outputs": [
    {
     "data": {
      "text/html": [
       "<div>\n",
       "<style scoped>\n",
       "    .dataframe tbody tr th:only-of-type {\n",
       "        vertical-align: middle;\n",
       "    }\n",
       "\n",
       "    .dataframe tbody tr th {\n",
       "        vertical-align: top;\n",
       "    }\n",
       "\n",
       "    .dataframe thead th {\n",
       "        text-align: right;\n",
       "    }\n",
       "</style>\n",
       "<table border=\"1\" class=\"dataframe\">\n",
       "  <thead>\n",
       "    <tr style=\"text-align: right;\">\n",
       "      <th></th>\n",
       "      <th>삼양홀딩스</th>\n",
       "      <th>유한양행</th>\n",
       "      <th>CJ대한통운</th>\n",
       "      <th>두산</th>\n",
       "      <th>대림산업</th>\n",
       "      <th>한국테크놀로지그룹</th>\n",
       "      <th>기아차</th>\n",
       "      <th>동아쏘시오홀딩스</th>\n",
       "      <th>SK하이닉스</th>\n",
       "      <th>영풍</th>\n",
       "      <th>...</th>\n",
       "      <th>현대백화점</th>\n",
       "      <th>한국금융지주</th>\n",
       "      <th>GS</th>\n",
       "      <th>하나금융지주</th>\n",
       "      <th>아모레퍼시픽</th>\n",
       "      <th>LF</th>\n",
       "      <th>후성</th>\n",
       "      <th>SK이노베이션</th>\n",
       "      <th>CJ제일제당</th>\n",
       "      <th>KB금융</th>\n",
       "    </tr>\n",
       "  </thead>\n",
       "  <tbody>\n",
       "    <tr>\n",
       "      <th>20110731</th>\n",
       "      <td>0.482558</td>\n",
       "      <td>0.852459</td>\n",
       "      <td>0.615385</td>\n",
       "      <td>0.579749</td>\n",
       "      <td>0.630503</td>\n",
       "      <td>0.203113</td>\n",
       "      <td>0.705706</td>\n",
       "      <td>0.534641</td>\n",
       "      <td>0.750000</td>\n",
       "      <td>0.576200</td>\n",
       "      <td>...</td>\n",
       "      <td>0.873362</td>\n",
       "      <td>0.663158</td>\n",
       "      <td>0.903475</td>\n",
       "      <td>0.462889</td>\n",
       "      <td>0.577154</td>\n",
       "      <td>0.713235</td>\n",
       "      <td>0.633452</td>\n",
       "      <td>0.574394</td>\n",
       "      <td>0.755193</td>\n",
       "      <td>0.716630</td>\n",
       "    </tr>\n",
       "    <tr>\n",
       "      <th>20110831</th>\n",
       "      <td>0.482558</td>\n",
       "      <td>0.852459</td>\n",
       "      <td>0.615385</td>\n",
       "      <td>0.579749</td>\n",
       "      <td>0.630503</td>\n",
       "      <td>0.203113</td>\n",
       "      <td>0.705706</td>\n",
       "      <td>0.534641</td>\n",
       "      <td>0.750000</td>\n",
       "      <td>0.576200</td>\n",
       "      <td>...</td>\n",
       "      <td>0.873362</td>\n",
       "      <td>0.663158</td>\n",
       "      <td>0.903475</td>\n",
       "      <td>0.462889</td>\n",
       "      <td>0.577154</td>\n",
       "      <td>0.713235</td>\n",
       "      <td>0.633452</td>\n",
       "      <td>0.574394</td>\n",
       "      <td>0.755193</td>\n",
       "      <td>0.716630</td>\n",
       "    </tr>\n",
       "    <tr>\n",
       "      <th>20110930</th>\n",
       "      <td>0.482558</td>\n",
       "      <td>0.852459</td>\n",
       "      <td>0.615385</td>\n",
       "      <td>0.579749</td>\n",
       "      <td>0.630503</td>\n",
       "      <td>0.203113</td>\n",
       "      <td>0.705706</td>\n",
       "      <td>0.534641</td>\n",
       "      <td>0.750000</td>\n",
       "      <td>0.576200</td>\n",
       "      <td>...</td>\n",
       "      <td>0.873362</td>\n",
       "      <td>0.663158</td>\n",
       "      <td>0.903475</td>\n",
       "      <td>0.462889</td>\n",
       "      <td>0.577154</td>\n",
       "      <td>0.713235</td>\n",
       "      <td>0.633452</td>\n",
       "      <td>0.574394</td>\n",
       "      <td>0.755193</td>\n",
       "      <td>0.716630</td>\n",
       "    </tr>\n",
       "    <tr>\n",
       "      <th>20111031</th>\n",
       "      <td>0.482558</td>\n",
       "      <td>0.852459</td>\n",
       "      <td>0.615385</td>\n",
       "      <td>0.579749</td>\n",
       "      <td>0.630503</td>\n",
       "      <td>0.203113</td>\n",
       "      <td>0.705706</td>\n",
       "      <td>0.534641</td>\n",
       "      <td>0.750000</td>\n",
       "      <td>0.576200</td>\n",
       "      <td>...</td>\n",
       "      <td>0.873362</td>\n",
       "      <td>0.663158</td>\n",
       "      <td>0.903475</td>\n",
       "      <td>0.462889</td>\n",
       "      <td>0.577154</td>\n",
       "      <td>0.713235</td>\n",
       "      <td>0.633452</td>\n",
       "      <td>0.574394</td>\n",
       "      <td>0.755193</td>\n",
       "      <td>0.716630</td>\n",
       "    </tr>\n",
       "    <tr>\n",
       "      <th>20111130</th>\n",
       "      <td>0.482558</td>\n",
       "      <td>0.852459</td>\n",
       "      <td>0.615385</td>\n",
       "      <td>0.579749</td>\n",
       "      <td>0.630503</td>\n",
       "      <td>0.203113</td>\n",
       "      <td>0.705706</td>\n",
       "      <td>0.534641</td>\n",
       "      <td>0.750000</td>\n",
       "      <td>0.576200</td>\n",
       "      <td>...</td>\n",
       "      <td>0.873362</td>\n",
       "      <td>0.663158</td>\n",
       "      <td>0.903475</td>\n",
       "      <td>0.462889</td>\n",
       "      <td>0.577154</td>\n",
       "      <td>0.713235</td>\n",
       "      <td>0.633452</td>\n",
       "      <td>0.574394</td>\n",
       "      <td>0.755193</td>\n",
       "      <td>0.716630</td>\n",
       "    </tr>\n",
       "    <tr>\n",
       "      <th>...</th>\n",
       "      <td>...</td>\n",
       "      <td>...</td>\n",
       "      <td>...</td>\n",
       "      <td>...</td>\n",
       "      <td>...</td>\n",
       "      <td>...</td>\n",
       "      <td>...</td>\n",
       "      <td>...</td>\n",
       "      <td>...</td>\n",
       "      <td>...</td>\n",
       "      <td>...</td>\n",
       "      <td>...</td>\n",
       "      <td>...</td>\n",
       "      <td>...</td>\n",
       "      <td>...</td>\n",
       "      <td>...</td>\n",
       "      <td>...</td>\n",
       "      <td>...</td>\n",
       "      <td>...</td>\n",
       "      <td>...</td>\n",
       "      <td>...</td>\n",
       "    </tr>\n",
       "    <tr>\n",
       "      <th>20190831</th>\n",
       "      <td>0.690635</td>\n",
       "      <td>0.532609</td>\n",
       "      <td>0.727488</td>\n",
       "      <td>0.679662</td>\n",
       "      <td>0.510638</td>\n",
       "      <td>0.625402</td>\n",
       "      <td>0.678700</td>\n",
       "      <td>0.738854</td>\n",
       "      <td>0.694118</td>\n",
       "      <td>0.811252</td>\n",
       "      <td>...</td>\n",
       "      <td>0.758364</td>\n",
       "      <td>0.564672</td>\n",
       "      <td>0.671296</td>\n",
       "      <td>0.776720</td>\n",
       "      <td>0.543662</td>\n",
       "      <td>0.870103</td>\n",
       "      <td>0.857909</td>\n",
       "      <td>0.810392</td>\n",
       "      <td>0.677365</td>\n",
       "      <td>0.821839</td>\n",
       "    </tr>\n",
       "    <tr>\n",
       "      <th>20190930</th>\n",
       "      <td>0.690635</td>\n",
       "      <td>0.532609</td>\n",
       "      <td>0.727488</td>\n",
       "      <td>0.679662</td>\n",
       "      <td>0.510638</td>\n",
       "      <td>0.625402</td>\n",
       "      <td>0.678700</td>\n",
       "      <td>0.738854</td>\n",
       "      <td>0.694118</td>\n",
       "      <td>0.811252</td>\n",
       "      <td>...</td>\n",
       "      <td>0.758364</td>\n",
       "      <td>0.564672</td>\n",
       "      <td>0.671296</td>\n",
       "      <td>0.776720</td>\n",
       "      <td>0.543662</td>\n",
       "      <td>0.870103</td>\n",
       "      <td>0.857909</td>\n",
       "      <td>0.810392</td>\n",
       "      <td>0.677365</td>\n",
       "      <td>0.821839</td>\n",
       "    </tr>\n",
       "    <tr>\n",
       "      <th>20191031</th>\n",
       "      <td>0.690635</td>\n",
       "      <td>0.532609</td>\n",
       "      <td>0.727488</td>\n",
       "      <td>0.679662</td>\n",
       "      <td>0.510638</td>\n",
       "      <td>0.625402</td>\n",
       "      <td>0.678700</td>\n",
       "      <td>0.738854</td>\n",
       "      <td>0.694118</td>\n",
       "      <td>0.811252</td>\n",
       "      <td>...</td>\n",
       "      <td>0.758364</td>\n",
       "      <td>0.564672</td>\n",
       "      <td>0.671296</td>\n",
       "      <td>0.776720</td>\n",
       "      <td>0.543662</td>\n",
       "      <td>0.870103</td>\n",
       "      <td>0.857909</td>\n",
       "      <td>0.810392</td>\n",
       "      <td>0.677365</td>\n",
       "      <td>0.821839</td>\n",
       "    </tr>\n",
       "    <tr>\n",
       "      <th>20191130</th>\n",
       "      <td>0.690635</td>\n",
       "      <td>0.532609</td>\n",
       "      <td>0.727488</td>\n",
       "      <td>0.679662</td>\n",
       "      <td>0.510638</td>\n",
       "      <td>0.625402</td>\n",
       "      <td>0.678700</td>\n",
       "      <td>0.738854</td>\n",
       "      <td>0.694118</td>\n",
       "      <td>0.811252</td>\n",
       "      <td>...</td>\n",
       "      <td>0.758364</td>\n",
       "      <td>0.564672</td>\n",
       "      <td>0.671296</td>\n",
       "      <td>0.776720</td>\n",
       "      <td>0.543662</td>\n",
       "      <td>0.870103</td>\n",
       "      <td>0.857909</td>\n",
       "      <td>0.810392</td>\n",
       "      <td>0.677365</td>\n",
       "      <td>0.821839</td>\n",
       "    </tr>\n",
       "    <tr>\n",
       "      <th>20191231</th>\n",
       "      <td>0.690635</td>\n",
       "      <td>0.532609</td>\n",
       "      <td>0.727488</td>\n",
       "      <td>0.679662</td>\n",
       "      <td>0.510638</td>\n",
       "      <td>0.625402</td>\n",
       "      <td>0.678700</td>\n",
       "      <td>0.738854</td>\n",
       "      <td>0.694118</td>\n",
       "      <td>0.811252</td>\n",
       "      <td>...</td>\n",
       "      <td>0.758364</td>\n",
       "      <td>0.564672</td>\n",
       "      <td>0.671296</td>\n",
       "      <td>0.776720</td>\n",
       "      <td>0.543662</td>\n",
       "      <td>0.870103</td>\n",
       "      <td>0.857909</td>\n",
       "      <td>0.810392</td>\n",
       "      <td>0.677365</td>\n",
       "      <td>0.821839</td>\n",
       "    </tr>\n",
       "  </tbody>\n",
       "</table>\n",
       "<p>102 rows × 113 columns</p>\n",
       "</div>"
      ],
      "text/plain": [
       "             삼양홀딩스      유한양행    CJ대한통운        두산      대림산업  한국테크놀로지그룹  \\\n",
       "20110731  0.482558  0.852459  0.615385  0.579749  0.630503   0.203113   \n",
       "20110831  0.482558  0.852459  0.615385  0.579749  0.630503   0.203113   \n",
       "20110930  0.482558  0.852459  0.615385  0.579749  0.630503   0.203113   \n",
       "20111031  0.482558  0.852459  0.615385  0.579749  0.630503   0.203113   \n",
       "20111130  0.482558  0.852459  0.615385  0.579749  0.630503   0.203113   \n",
       "...            ...       ...       ...       ...       ...        ...   \n",
       "20190831  0.690635  0.532609  0.727488  0.679662  0.510638   0.625402   \n",
       "20190930  0.690635  0.532609  0.727488  0.679662  0.510638   0.625402   \n",
       "20191031  0.690635  0.532609  0.727488  0.679662  0.510638   0.625402   \n",
       "20191130  0.690635  0.532609  0.727488  0.679662  0.510638   0.625402   \n",
       "20191231  0.690635  0.532609  0.727488  0.679662  0.510638   0.625402   \n",
       "\n",
       "               기아차  동아쏘시오홀딩스    SK하이닉스        영풍  ...     현대백화점    한국금융지주  \\\n",
       "20110731  0.705706  0.534641  0.750000  0.576200  ...  0.873362  0.663158   \n",
       "20110831  0.705706  0.534641  0.750000  0.576200  ...  0.873362  0.663158   \n",
       "20110930  0.705706  0.534641  0.750000  0.576200  ...  0.873362  0.663158   \n",
       "20111031  0.705706  0.534641  0.750000  0.576200  ...  0.873362  0.663158   \n",
       "20111130  0.705706  0.534641  0.750000  0.576200  ...  0.873362  0.663158   \n",
       "...            ...       ...       ...       ...  ...       ...       ...   \n",
       "20190831  0.678700  0.738854  0.694118  0.811252  ...  0.758364  0.564672   \n",
       "20190930  0.678700  0.738854  0.694118  0.811252  ...  0.758364  0.564672   \n",
       "20191031  0.678700  0.738854  0.694118  0.811252  ...  0.758364  0.564672   \n",
       "20191130  0.678700  0.738854  0.694118  0.811252  ...  0.758364  0.564672   \n",
       "20191231  0.678700  0.738854  0.694118  0.811252  ...  0.758364  0.564672   \n",
       "\n",
       "                GS    하나금융지주    아모레퍼시픽        LF        후성   SK이노베이션  \\\n",
       "20110731  0.903475  0.462889  0.577154  0.713235  0.633452  0.574394   \n",
       "20110831  0.903475  0.462889  0.577154  0.713235  0.633452  0.574394   \n",
       "20110930  0.903475  0.462889  0.577154  0.713235  0.633452  0.574394   \n",
       "20111031  0.903475  0.462889  0.577154  0.713235  0.633452  0.574394   \n",
       "20111130  0.903475  0.462889  0.577154  0.713235  0.633452  0.574394   \n",
       "...            ...       ...       ...       ...       ...       ...   \n",
       "20190831  0.671296  0.776720  0.543662  0.870103  0.857909  0.810392   \n",
       "20190930  0.671296  0.776720  0.543662  0.870103  0.857909  0.810392   \n",
       "20191031  0.671296  0.776720  0.543662  0.870103  0.857909  0.810392   \n",
       "20191130  0.671296  0.776720  0.543662  0.870103  0.857909  0.810392   \n",
       "20191231  0.671296  0.776720  0.543662  0.870103  0.857909  0.810392   \n",
       "\n",
       "            CJ제일제당      KB금융  \n",
       "20110731  0.755193  0.716630  \n",
       "20110831  0.755193  0.716630  \n",
       "20110930  0.755193  0.716630  \n",
       "20111031  0.755193  0.716630  \n",
       "20111130  0.755193  0.716630  \n",
       "...            ...       ...  \n",
       "20190831  0.677365  0.821839  \n",
       "20190930  0.677365  0.821839  \n",
       "20191031  0.677365  0.821839  \n",
       "20191130  0.677365  0.821839  \n",
       "20191231  0.677365  0.821839  \n",
       "\n",
       "[102 rows x 113 columns]"
      ]
     },
     "execution_count": 21,
     "metadata": {},
     "output_type": "execute_result"
    }
   ],
   "source": [
    "yyyymmdd_ls = list(map(lambda x : int(str(x)[:-2]), get_q(df_,20,40).index))\n",
    "idx_ls = []\n",
    "for i in range(len(yyyymmdd_ls)-1) : \n",
    "    if yyyymmdd_ls[i] != yyyymmdd_ls[i+1] : \n",
    "        idx_ls.append(i)\n",
    "idx_ls.append(-1) \n",
    "\n",
    "monthly_df = df_.loc[df_.index[idx_ls]] #월말 기준으로 앞의 concat_df에서 index만 수정해서 similarity sorting\n",
    "monthly_df"
   ]
  },
  {
   "cell_type": "code",
   "execution_count": 22,
   "metadata": {},
   "outputs": [],
   "source": [
    "def get_monthly_return(df): #월별 수익률 생성\n",
    "    ex_ls = ['0'+str(x) for x in np.arange(7,10)]+['10','11','12'] #201107~201112의 월별 수익률\n",
    "    month_ls = ['0'+str(x) for x in np.arange(1,10)]+['10','11','12'] #201201~201912 까지의 월별 수익률\n",
    "    year_ls = [str(x) for x in np.arange(2,10)]\n",
    "\n",
    "    ai = []\n",
    "    for i in ex_ls:\n",
    "        ai.append((1+df.loc['2011'+i+'01':'2011'+i+'31']).prod()-1)\n",
    "\n",
    "    ae = []\n",
    "    for i in year_ls:\n",
    "        for j in month_ls:\n",
    "            ae.append((1+df.loc['201'+i+j+'01':'201'+i+j+'31']).prod() -1)\n",
    "\n",
    "    month_return_ls = ai+ae\n",
    "    df_ = pd.DataFrame(month_return_ls,index=monthly_df.index)\n",
    "    return df_"
   ]
  },
  {
   "cell_type": "code",
   "execution_count": 54,
   "metadata": {},
   "outputs": [
    {
     "data": {
      "text/html": [
       "<div>\n",
       "<style scoped>\n",
       "    .dataframe tbody tr th:only-of-type {\n",
       "        vertical-align: middle;\n",
       "    }\n",
       "\n",
       "    .dataframe tbody tr th {\n",
       "        vertical-align: top;\n",
       "    }\n",
       "\n",
       "    .dataframe thead th {\n",
       "        text-align: right;\n",
       "    }\n",
       "</style>\n",
       "<table border=\"1\" class=\"dataframe\">\n",
       "  <thead>\n",
       "    <tr style=\"text-align: right;\">\n",
       "      <th></th>\n",
       "      <th>삼양홀딩스</th>\n",
       "      <th>유한양행</th>\n",
       "      <th>CJ대한통운</th>\n",
       "      <th>두산</th>\n",
       "      <th>대림산업</th>\n",
       "      <th>한국테크놀로지그룹</th>\n",
       "      <th>기아차</th>\n",
       "      <th>동아쏘시오홀딩스</th>\n",
       "      <th>SK하이닉스</th>\n",
       "      <th>영풍</th>\n",
       "      <th>...</th>\n",
       "      <th>현대백화점</th>\n",
       "      <th>한국금융지주</th>\n",
       "      <th>GS</th>\n",
       "      <th>하나금융지주</th>\n",
       "      <th>아모레퍼시픽</th>\n",
       "      <th>LF</th>\n",
       "      <th>후성</th>\n",
       "      <th>SK이노베이션</th>\n",
       "      <th>CJ제일제당</th>\n",
       "      <th>KB금융</th>\n",
       "    </tr>\n",
       "  </thead>\n",
       "  <tbody>\n",
       "    <tr>\n",
       "      <th>20110731</th>\n",
       "      <td>0.109527</td>\n",
       "      <td>8.518192e-02</td>\n",
       "      <td>-6.481481e-02</td>\n",
       "      <td>0.183998</td>\n",
       "      <td>-0.019455</td>\n",
       "      <td>-0.058166</td>\n",
       "      <td>0.070539</td>\n",
       "      <td>0.190727</td>\n",
       "      <td>-0.031936</td>\n",
       "      <td>0.136449</td>\n",
       "      <td>...</td>\n",
       "      <td>0.060519</td>\n",
       "      <td>0.155125</td>\n",
       "      <td>0.160051</td>\n",
       "      <td>0.108579</td>\n",
       "      <td>0.010098</td>\n",
       "      <td>0.121573</td>\n",
       "      <td>-0.066255</td>\n",
       "      <td>0.087282</td>\n",
       "      <td>0.299363</td>\n",
       "      <td>0.039604</td>\n",
       "    </tr>\n",
       "    <tr>\n",
       "      <th>20110831</th>\n",
       "      <td>-0.051503</td>\n",
       "      <td>-1.672363e-01</td>\n",
       "      <td>-1.277228e-01</td>\n",
       "      <td>-0.087834</td>\n",
       "      <td>-0.083333</td>\n",
       "      <td>-0.071126</td>\n",
       "      <td>-0.087855</td>\n",
       "      <td>-0.125665</td>\n",
       "      <td>-0.212371</td>\n",
       "      <td>-0.042763</td>\n",
       "      <td>...</td>\n",
       "      <td>-0.021739</td>\n",
       "      <td>-0.071942</td>\n",
       "      <td>-0.203091</td>\n",
       "      <td>-0.130593</td>\n",
       "      <td>-0.031667</td>\n",
       "      <td>0.038257</td>\n",
       "      <td>-0.105926</td>\n",
       "      <td>-0.224771</td>\n",
       "      <td>0.068627</td>\n",
       "      <td>-0.160000</td>\n",
       "    </tr>\n",
       "    <tr>\n",
       "      <th>20110930</th>\n",
       "      <td>-0.268778</td>\n",
       "      <td>-1.147603e-01</td>\n",
       "      <td>-2.429058e-01</td>\n",
       "      <td>0.007399</td>\n",
       "      <td>-0.164502</td>\n",
       "      <td>0.016318</td>\n",
       "      <td>0.018414</td>\n",
       "      <td>-0.088048</td>\n",
       "      <td>0.117801</td>\n",
       "      <td>-0.113402</td>\n",
       "      <td>...</td>\n",
       "      <td>-0.066667</td>\n",
       "      <td>-0.108527</td>\n",
       "      <td>-0.203601</td>\n",
       "      <td>-0.026426</td>\n",
       "      <td>0.012045</td>\n",
       "      <td>-0.171955</td>\n",
       "      <td>0.011094</td>\n",
       "      <td>-0.159763</td>\n",
       "      <td>-0.100917</td>\n",
       "      <td>-0.085034</td>\n",
       "    </tr>\n",
       "    <tr>\n",
       "      <th>20111031</th>\n",
       "      <td>0.001240</td>\n",
       "      <td>1.342738e-01</td>\n",
       "      <td>1.499250e-01</td>\n",
       "      <td>0.047802</td>\n",
       "      <td>0.015544</td>\n",
       "      <td>0.106208</td>\n",
       "      <td>0.005563</td>\n",
       "      <td>0.013309</td>\n",
       "      <td>0.070258</td>\n",
       "      <td>0.115310</td>\n",
       "      <td>...</td>\n",
       "      <td>-0.041667</td>\n",
       "      <td>0.085507</td>\n",
       "      <td>0.135652</td>\n",
       "      <td>0.152857</td>\n",
       "      <td>0.068027</td>\n",
       "      <td>0.114957</td>\n",
       "      <td>0.119848</td>\n",
       "      <td>0.200704</td>\n",
       "      <td>0.047619</td>\n",
       "      <td>0.075589</td>\n",
       "    </tr>\n",
       "    <tr>\n",
       "      <th>20111130</th>\n",
       "      <td>0.000000</td>\n",
       "      <td>2.220446e-16</td>\n",
       "      <td>-7.301173e-02</td>\n",
       "      <td>-0.017546</td>\n",
       "      <td>-0.021429</td>\n",
       "      <td>0.016723</td>\n",
       "      <td>-0.034578</td>\n",
       "      <td>0.030671</td>\n",
       "      <td>0.004376</td>\n",
       "      <td>-0.044309</td>\n",
       "      <td>...</td>\n",
       "      <td>0.006211</td>\n",
       "      <td>-0.010681</td>\n",
       "      <td>-0.111792</td>\n",
       "      <td>-0.021066</td>\n",
       "      <td>-0.113052</td>\n",
       "      <td>0.034368</td>\n",
       "      <td>-0.009798</td>\n",
       "      <td>-0.049853</td>\n",
       "      <td>-0.071429</td>\n",
       "      <td>-0.130184</td>\n",
       "    </tr>\n",
       "    <tr>\n",
       "      <th>...</th>\n",
       "      <td>...</td>\n",
       "      <td>...</td>\n",
       "      <td>...</td>\n",
       "      <td>...</td>\n",
       "      <td>...</td>\n",
       "      <td>...</td>\n",
       "      <td>...</td>\n",
       "      <td>...</td>\n",
       "      <td>...</td>\n",
       "      <td>...</td>\n",
       "      <td>...</td>\n",
       "      <td>...</td>\n",
       "      <td>...</td>\n",
       "      <td>...</td>\n",
       "      <td>...</td>\n",
       "      <td>...</td>\n",
       "      <td>...</td>\n",
       "      <td>...</td>\n",
       "      <td>...</td>\n",
       "      <td>...</td>\n",
       "      <td>...</td>\n",
       "    </tr>\n",
       "    <tr>\n",
       "      <th>20190831</th>\n",
       "      <td>-0.136298</td>\n",
       "      <td>6.004564e-02</td>\n",
       "      <td>4.379562e-02</td>\n",
       "      <td>-0.042860</td>\n",
       "      <td>-0.073934</td>\n",
       "      <td>-0.048387</td>\n",
       "      <td>-0.001143</td>\n",
       "      <td>0.005714</td>\n",
       "      <td>0.006502</td>\n",
       "      <td>-0.168390</td>\n",
       "      <td>...</td>\n",
       "      <td>0.052632</td>\n",
       "      <td>-0.029530</td>\n",
       "      <td>-0.045726</td>\n",
       "      <td>-0.064748</td>\n",
       "      <td>-0.071429</td>\n",
       "      <td>-0.212245</td>\n",
       "      <td>0.024775</td>\n",
       "      <td>-0.035088</td>\n",
       "      <td>-0.198246</td>\n",
       "      <td>-0.085253</td>\n",
       "    </tr>\n",
       "    <tr>\n",
       "      <th>20190930</th>\n",
       "      <td>-0.003322</td>\n",
       "      <td>-4.355861e-03</td>\n",
       "      <td>1.048951e-02</td>\n",
       "      <td>0.054732</td>\n",
       "      <td>0.064483</td>\n",
       "      <td>-0.030508</td>\n",
       "      <td>0.043478</td>\n",
       "      <td>-0.006818</td>\n",
       "      <td>0.062016</td>\n",
       "      <td>0.079929</td>\n",
       "      <td>...</td>\n",
       "      <td>0.001282</td>\n",
       "      <td>0.041494</td>\n",
       "      <td>0.047917</td>\n",
       "      <td>0.084615</td>\n",
       "      <td>0.080769</td>\n",
       "      <td>0.046632</td>\n",
       "      <td>-0.068132</td>\n",
       "      <td>0.006061</td>\n",
       "      <td>0.026258</td>\n",
       "      <td>0.075567</td>\n",
       "    </tr>\n",
       "    <tr>\n",
       "      <th>20191031</th>\n",
       "      <td>0.056667</td>\n",
       "      <td>-1.750424e-02</td>\n",
       "      <td>8.996540e-02</td>\n",
       "      <td>-0.068263</td>\n",
       "      <td>-0.125000</td>\n",
       "      <td>-0.069930</td>\n",
       "      <td>-0.066886</td>\n",
       "      <td>0.058352</td>\n",
       "      <td>-0.002433</td>\n",
       "      <td>0.001645</td>\n",
       "      <td>...</td>\n",
       "      <td>-0.053777</td>\n",
       "      <td>-0.099602</td>\n",
       "      <td>-0.012922</td>\n",
       "      <td>-0.043972</td>\n",
       "      <td>0.366548</td>\n",
       "      <td>-0.027228</td>\n",
       "      <td>-0.004717</td>\n",
       "      <td>-0.036145</td>\n",
       "      <td>-0.025586</td>\n",
       "      <td>-0.017564</td>\n",
       "    </tr>\n",
       "    <tr>\n",
       "      <th>20191130</th>\n",
       "      <td>0.037855</td>\n",
       "      <td>-3.786560e-02</td>\n",
       "      <td>2.220446e-16</td>\n",
       "      <td>-0.123393</td>\n",
       "      <td>-0.012088</td>\n",
       "      <td>0.078947</td>\n",
       "      <td>0.016451</td>\n",
       "      <td>0.108108</td>\n",
       "      <td>-0.013415</td>\n",
       "      <td>0.036125</td>\n",
       "      <td>...</td>\n",
       "      <td>0.125846</td>\n",
       "      <td>0.057522</td>\n",
       "      <td>-0.036254</td>\n",
       "      <td>0.060831</td>\n",
       "      <td>-0.015625</td>\n",
       "      <td>-0.089059</td>\n",
       "      <td>-0.072275</td>\n",
       "      <td>-0.084375</td>\n",
       "      <td>0.085339</td>\n",
       "      <td>0.097735</td>\n",
       "    </tr>\n",
       "    <tr>\n",
       "      <th>20191231</th>\n",
       "      <td>0.018237</td>\n",
       "      <td>1.437276e-01</td>\n",
       "      <td>-1.587302e-02</td>\n",
       "      <td>0.030792</td>\n",
       "      <td>0.006674</td>\n",
       "      <td>0.003484</td>\n",
       "      <td>0.024277</td>\n",
       "      <td>0.048780</td>\n",
       "      <td>0.163164</td>\n",
       "      <td>0.022187</td>\n",
       "      <td>...</td>\n",
       "      <td>-0.001202</td>\n",
       "      <td>0.009763</td>\n",
       "      <td>0.078370</td>\n",
       "      <td>0.032168</td>\n",
       "      <td>0.058201</td>\n",
       "      <td>0.033520</td>\n",
       "      <td>0.043423</td>\n",
       "      <td>0.023891</td>\n",
       "      <td>0.018145</td>\n",
       "      <td>0.034745</td>\n",
       "    </tr>\n",
       "  </tbody>\n",
       "</table>\n",
       "<p>102 rows × 113 columns</p>\n",
       "</div>"
      ],
      "text/plain": [
       "             삼양홀딩스          유한양행        CJ대한통운        두산      대림산업  한국테크놀로지그룹  \\\n",
       "20110731  0.109527  8.518192e-02 -6.481481e-02  0.183998 -0.019455  -0.058166   \n",
       "20110831 -0.051503 -1.672363e-01 -1.277228e-01 -0.087834 -0.083333  -0.071126   \n",
       "20110930 -0.268778 -1.147603e-01 -2.429058e-01  0.007399 -0.164502   0.016318   \n",
       "20111031  0.001240  1.342738e-01  1.499250e-01  0.047802  0.015544   0.106208   \n",
       "20111130  0.000000  2.220446e-16 -7.301173e-02 -0.017546 -0.021429   0.016723   \n",
       "...            ...           ...           ...       ...       ...        ...   \n",
       "20190831 -0.136298  6.004564e-02  4.379562e-02 -0.042860 -0.073934  -0.048387   \n",
       "20190930 -0.003322 -4.355861e-03  1.048951e-02  0.054732  0.064483  -0.030508   \n",
       "20191031  0.056667 -1.750424e-02  8.996540e-02 -0.068263 -0.125000  -0.069930   \n",
       "20191130  0.037855 -3.786560e-02  2.220446e-16 -0.123393 -0.012088   0.078947   \n",
       "20191231  0.018237  1.437276e-01 -1.587302e-02  0.030792  0.006674   0.003484   \n",
       "\n",
       "               기아차  동아쏘시오홀딩스    SK하이닉스        영풍  ...     현대백화점    한국금융지주  \\\n",
       "20110731  0.070539  0.190727 -0.031936  0.136449  ...  0.060519  0.155125   \n",
       "20110831 -0.087855 -0.125665 -0.212371 -0.042763  ... -0.021739 -0.071942   \n",
       "20110930  0.018414 -0.088048  0.117801 -0.113402  ... -0.066667 -0.108527   \n",
       "20111031  0.005563  0.013309  0.070258  0.115310  ... -0.041667  0.085507   \n",
       "20111130 -0.034578  0.030671  0.004376 -0.044309  ...  0.006211 -0.010681   \n",
       "...            ...       ...       ...       ...  ...       ...       ...   \n",
       "20190831 -0.001143  0.005714  0.006502 -0.168390  ...  0.052632 -0.029530   \n",
       "20190930  0.043478 -0.006818  0.062016  0.079929  ...  0.001282  0.041494   \n",
       "20191031 -0.066886  0.058352 -0.002433  0.001645  ... -0.053777 -0.099602   \n",
       "20191130  0.016451  0.108108 -0.013415  0.036125  ...  0.125846  0.057522   \n",
       "20191231  0.024277  0.048780  0.163164  0.022187  ... -0.001202  0.009763   \n",
       "\n",
       "                GS    하나금융지주    아모레퍼시픽        LF        후성   SK이노베이션  \\\n",
       "20110731  0.160051  0.108579  0.010098  0.121573 -0.066255  0.087282   \n",
       "20110831 -0.203091 -0.130593 -0.031667  0.038257 -0.105926 -0.224771   \n",
       "20110930 -0.203601 -0.026426  0.012045 -0.171955  0.011094 -0.159763   \n",
       "20111031  0.135652  0.152857  0.068027  0.114957  0.119848  0.200704   \n",
       "20111130 -0.111792 -0.021066 -0.113052  0.034368 -0.009798 -0.049853   \n",
       "...            ...       ...       ...       ...       ...       ...   \n",
       "20190831 -0.045726 -0.064748 -0.071429 -0.212245  0.024775 -0.035088   \n",
       "20190930  0.047917  0.084615  0.080769  0.046632 -0.068132  0.006061   \n",
       "20191031 -0.012922 -0.043972  0.366548 -0.027228 -0.004717 -0.036145   \n",
       "20191130 -0.036254  0.060831 -0.015625 -0.089059 -0.072275 -0.084375   \n",
       "20191231  0.078370  0.032168  0.058201  0.033520  0.043423  0.023891   \n",
       "\n",
       "            CJ제일제당      KB금융  \n",
       "20110731  0.299363  0.039604  \n",
       "20110831  0.068627 -0.160000  \n",
       "20110930 -0.100917 -0.085034  \n",
       "20111031  0.047619  0.075589  \n",
       "20111130 -0.071429 -0.130184  \n",
       "...            ...       ...  \n",
       "20190831 -0.198246 -0.085253  \n",
       "20190930  0.026258  0.075567  \n",
       "20191031 -0.025586 -0.017564  \n",
       "20191130  0.085339  0.097735  \n",
       "20191231  0.018145  0.034745  \n",
       "\n",
       "[102 rows x 113 columns]"
      ]
     },
     "execution_count": 54,
     "metadata": {},
     "output_type": "execute_result"
    }
   ],
   "source": [
    "month_return_df = get_monthly_return(price_df) \n",
    "month_return_df"
   ]
  },
  {
   "cell_type": "code",
   "execution_count": 24,
   "metadata": {},
   "outputs": [
    {
     "data": {
      "text/html": [
       "<div>\n",
       "<style scoped>\n",
       "    .dataframe tbody tr th:only-of-type {\n",
       "        vertical-align: middle;\n",
       "    }\n",
       "\n",
       "    .dataframe tbody tr th {\n",
       "        vertical-align: top;\n",
       "    }\n",
       "\n",
       "    .dataframe thead th {\n",
       "        text-align: right;\n",
       "    }\n",
       "</style>\n",
       "<table border=\"1\" class=\"dataframe\">\n",
       "  <thead>\n",
       "    <tr style=\"text-align: right;\">\n",
       "      <th></th>\n",
       "      <th>삼양홀딩스</th>\n",
       "      <th>유한양행</th>\n",
       "      <th>CJ대한통운</th>\n",
       "      <th>두산</th>\n",
       "      <th>대림산업</th>\n",
       "      <th>한국테크놀로지그룹</th>\n",
       "      <th>기아차</th>\n",
       "      <th>동아쏘시오홀딩스</th>\n",
       "      <th>SK하이닉스</th>\n",
       "      <th>영풍</th>\n",
       "      <th>...</th>\n",
       "      <th>현대백화점</th>\n",
       "      <th>한국금융지주</th>\n",
       "      <th>GS</th>\n",
       "      <th>하나금융지주</th>\n",
       "      <th>아모레퍼시픽</th>\n",
       "      <th>LF</th>\n",
       "      <th>후성</th>\n",
       "      <th>SK이노베이션</th>\n",
       "      <th>CJ제일제당</th>\n",
       "      <th>KB금융</th>\n",
       "    </tr>\n",
       "  </thead>\n",
       "  <tbody>\n",
       "    <tr>\n",
       "      <th>20110731</th>\n",
       "      <td>False</td>\n",
       "      <td>True</td>\n",
       "      <td>False</td>\n",
       "      <td>False</td>\n",
       "      <td>False</td>\n",
       "      <td>False</td>\n",
       "      <td>False</td>\n",
       "      <td>False</td>\n",
       "      <td>True</td>\n",
       "      <td>False</td>\n",
       "      <td>...</td>\n",
       "      <td>True</td>\n",
       "      <td>False</td>\n",
       "      <td>True</td>\n",
       "      <td>False</td>\n",
       "      <td>False</td>\n",
       "      <td>False</td>\n",
       "      <td>False</td>\n",
       "      <td>False</td>\n",
       "      <td>True</td>\n",
       "      <td>False</td>\n",
       "    </tr>\n",
       "    <tr>\n",
       "      <th>20110831</th>\n",
       "      <td>False</td>\n",
       "      <td>True</td>\n",
       "      <td>False</td>\n",
       "      <td>False</td>\n",
       "      <td>False</td>\n",
       "      <td>False</td>\n",
       "      <td>False</td>\n",
       "      <td>False</td>\n",
       "      <td>True</td>\n",
       "      <td>False</td>\n",
       "      <td>...</td>\n",
       "      <td>True</td>\n",
       "      <td>False</td>\n",
       "      <td>True</td>\n",
       "      <td>False</td>\n",
       "      <td>False</td>\n",
       "      <td>False</td>\n",
       "      <td>False</td>\n",
       "      <td>False</td>\n",
       "      <td>True</td>\n",
       "      <td>False</td>\n",
       "    </tr>\n",
       "    <tr>\n",
       "      <th>20110930</th>\n",
       "      <td>False</td>\n",
       "      <td>True</td>\n",
       "      <td>False</td>\n",
       "      <td>False</td>\n",
       "      <td>False</td>\n",
       "      <td>False</td>\n",
       "      <td>False</td>\n",
       "      <td>False</td>\n",
       "      <td>True</td>\n",
       "      <td>False</td>\n",
       "      <td>...</td>\n",
       "      <td>True</td>\n",
       "      <td>False</td>\n",
       "      <td>True</td>\n",
       "      <td>False</td>\n",
       "      <td>False</td>\n",
       "      <td>False</td>\n",
       "      <td>False</td>\n",
       "      <td>False</td>\n",
       "      <td>True</td>\n",
       "      <td>False</td>\n",
       "    </tr>\n",
       "    <tr>\n",
       "      <th>20111031</th>\n",
       "      <td>False</td>\n",
       "      <td>True</td>\n",
       "      <td>False</td>\n",
       "      <td>False</td>\n",
       "      <td>False</td>\n",
       "      <td>False</td>\n",
       "      <td>False</td>\n",
       "      <td>False</td>\n",
       "      <td>True</td>\n",
       "      <td>False</td>\n",
       "      <td>...</td>\n",
       "      <td>True</td>\n",
       "      <td>False</td>\n",
       "      <td>True</td>\n",
       "      <td>False</td>\n",
       "      <td>False</td>\n",
       "      <td>False</td>\n",
       "      <td>False</td>\n",
       "      <td>False</td>\n",
       "      <td>True</td>\n",
       "      <td>False</td>\n",
       "    </tr>\n",
       "    <tr>\n",
       "      <th>20111130</th>\n",
       "      <td>False</td>\n",
       "      <td>True</td>\n",
       "      <td>False</td>\n",
       "      <td>False</td>\n",
       "      <td>False</td>\n",
       "      <td>False</td>\n",
       "      <td>False</td>\n",
       "      <td>False</td>\n",
       "      <td>True</td>\n",
       "      <td>False</td>\n",
       "      <td>...</td>\n",
       "      <td>True</td>\n",
       "      <td>False</td>\n",
       "      <td>True</td>\n",
       "      <td>False</td>\n",
       "      <td>False</td>\n",
       "      <td>False</td>\n",
       "      <td>False</td>\n",
       "      <td>False</td>\n",
       "      <td>True</td>\n",
       "      <td>False</td>\n",
       "    </tr>\n",
       "    <tr>\n",
       "      <th>...</th>\n",
       "      <td>...</td>\n",
       "      <td>...</td>\n",
       "      <td>...</td>\n",
       "      <td>...</td>\n",
       "      <td>...</td>\n",
       "      <td>...</td>\n",
       "      <td>...</td>\n",
       "      <td>...</td>\n",
       "      <td>...</td>\n",
       "      <td>...</td>\n",
       "      <td>...</td>\n",
       "      <td>...</td>\n",
       "      <td>...</td>\n",
       "      <td>...</td>\n",
       "      <td>...</td>\n",
       "      <td>...</td>\n",
       "      <td>...</td>\n",
       "      <td>...</td>\n",
       "      <td>...</td>\n",
       "      <td>...</td>\n",
       "      <td>...</td>\n",
       "    </tr>\n",
       "    <tr>\n",
       "      <th>20190831</th>\n",
       "      <td>False</td>\n",
       "      <td>False</td>\n",
       "      <td>False</td>\n",
       "      <td>False</td>\n",
       "      <td>False</td>\n",
       "      <td>False</td>\n",
       "      <td>False</td>\n",
       "      <td>False</td>\n",
       "      <td>False</td>\n",
       "      <td>True</td>\n",
       "      <td>...</td>\n",
       "      <td>False</td>\n",
       "      <td>False</td>\n",
       "      <td>False</td>\n",
       "      <td>False</td>\n",
       "      <td>False</td>\n",
       "      <td>True</td>\n",
       "      <td>True</td>\n",
       "      <td>True</td>\n",
       "      <td>False</td>\n",
       "      <td>True</td>\n",
       "    </tr>\n",
       "    <tr>\n",
       "      <th>20190930</th>\n",
       "      <td>False</td>\n",
       "      <td>False</td>\n",
       "      <td>False</td>\n",
       "      <td>False</td>\n",
       "      <td>False</td>\n",
       "      <td>False</td>\n",
       "      <td>False</td>\n",
       "      <td>False</td>\n",
       "      <td>False</td>\n",
       "      <td>True</td>\n",
       "      <td>...</td>\n",
       "      <td>False</td>\n",
       "      <td>False</td>\n",
       "      <td>False</td>\n",
       "      <td>False</td>\n",
       "      <td>False</td>\n",
       "      <td>True</td>\n",
       "      <td>True</td>\n",
       "      <td>True</td>\n",
       "      <td>False</td>\n",
       "      <td>True</td>\n",
       "    </tr>\n",
       "    <tr>\n",
       "      <th>20191031</th>\n",
       "      <td>False</td>\n",
       "      <td>False</td>\n",
       "      <td>False</td>\n",
       "      <td>False</td>\n",
       "      <td>False</td>\n",
       "      <td>False</td>\n",
       "      <td>False</td>\n",
       "      <td>False</td>\n",
       "      <td>False</td>\n",
       "      <td>True</td>\n",
       "      <td>...</td>\n",
       "      <td>False</td>\n",
       "      <td>False</td>\n",
       "      <td>False</td>\n",
       "      <td>False</td>\n",
       "      <td>False</td>\n",
       "      <td>True</td>\n",
       "      <td>True</td>\n",
       "      <td>True</td>\n",
       "      <td>False</td>\n",
       "      <td>True</td>\n",
       "    </tr>\n",
       "    <tr>\n",
       "      <th>20191130</th>\n",
       "      <td>False</td>\n",
       "      <td>False</td>\n",
       "      <td>False</td>\n",
       "      <td>False</td>\n",
       "      <td>False</td>\n",
       "      <td>False</td>\n",
       "      <td>False</td>\n",
       "      <td>False</td>\n",
       "      <td>False</td>\n",
       "      <td>True</td>\n",
       "      <td>...</td>\n",
       "      <td>False</td>\n",
       "      <td>False</td>\n",
       "      <td>False</td>\n",
       "      <td>False</td>\n",
       "      <td>False</td>\n",
       "      <td>True</td>\n",
       "      <td>True</td>\n",
       "      <td>True</td>\n",
       "      <td>False</td>\n",
       "      <td>True</td>\n",
       "    </tr>\n",
       "    <tr>\n",
       "      <th>20191231</th>\n",
       "      <td>False</td>\n",
       "      <td>False</td>\n",
       "      <td>False</td>\n",
       "      <td>False</td>\n",
       "      <td>False</td>\n",
       "      <td>False</td>\n",
       "      <td>False</td>\n",
       "      <td>False</td>\n",
       "      <td>False</td>\n",
       "      <td>True</td>\n",
       "      <td>...</td>\n",
       "      <td>False</td>\n",
       "      <td>False</td>\n",
       "      <td>False</td>\n",
       "      <td>False</td>\n",
       "      <td>False</td>\n",
       "      <td>True</td>\n",
       "      <td>True</td>\n",
       "      <td>True</td>\n",
       "      <td>False</td>\n",
       "      <td>True</td>\n",
       "    </tr>\n",
       "  </tbody>\n",
       "</table>\n",
       "<p>102 rows × 113 columns</p>\n",
       "</div>"
      ],
      "text/plain": [
       "          삼양홀딩스   유한양행  CJ대한통운     두산   대림산업  한국테크놀로지그룹    기아차  동아쏘시오홀딩스  \\\n",
       "20110731  False   True   False  False  False      False  False     False   \n",
       "20110831  False   True   False  False  False      False  False     False   \n",
       "20110930  False   True   False  False  False      False  False     False   \n",
       "20111031  False   True   False  False  False      False  False     False   \n",
       "20111130  False   True   False  False  False      False  False     False   \n",
       "...         ...    ...     ...    ...    ...        ...    ...       ...   \n",
       "20190831  False  False   False  False  False      False  False     False   \n",
       "20190930  False  False   False  False  False      False  False     False   \n",
       "20191031  False  False   False  False  False      False  False     False   \n",
       "20191130  False  False   False  False  False      False  False     False   \n",
       "20191231  False  False   False  False  False      False  False     False   \n",
       "\n",
       "          SK하이닉스     영풍  ...  현대백화점  한국금융지주     GS  하나금융지주  아모레퍼시픽     LF  \\\n",
       "20110731    True  False  ...   True   False   True   False   False  False   \n",
       "20110831    True  False  ...   True   False   True   False   False  False   \n",
       "20110930    True  False  ...   True   False   True   False   False  False   \n",
       "20111031    True  False  ...   True   False   True   False   False  False   \n",
       "20111130    True  False  ...   True   False   True   False   False  False   \n",
       "...          ...    ...  ...    ...     ...    ...     ...     ...    ...   \n",
       "20190831   False   True  ...  False   False  False   False   False   True   \n",
       "20190930   False   True  ...  False   False  False   False   False   True   \n",
       "20191031   False   True  ...  False   False  False   False   False   True   \n",
       "20191130   False   True  ...  False   False  False   False   False   True   \n",
       "20191231   False   True  ...  False   False  False   False   False   True   \n",
       "\n",
       "             후성  SK이노베이션  CJ제일제당   KB금융  \n",
       "20110731  False    False    True  False  \n",
       "20110831  False    False    True  False  \n",
       "20110930  False    False    True  False  \n",
       "20111031  False    False    True  False  \n",
       "20111130  False    False    True  False  \n",
       "...         ...      ...     ...    ...  \n",
       "20190831   True     True   False   True  \n",
       "20190930   True     True   False   True  \n",
       "20191031   True     True   False   True  \n",
       "20191130   True     True   False   True  \n",
       "20191231   True     True   False   True  \n",
       "\n",
       "[102 rows x 113 columns]"
      ]
     },
     "execution_count": 24,
     "metadata": {},
     "output_type": "execute_result"
    }
   ],
   "source": [
    "get_q(monthly_df,80,100) #Q5 boolean "
   ]
  },
  {
   "cell_type": "code",
   "execution_count": 25,
   "metadata": {},
   "outputs": [
    {
     "data": {
      "text/plain": [
       "0.0021510993424200767"
      ]
     },
     "execution_count": 25,
     "metadata": {},
     "output_type": "execute_result"
    }
   ],
   "source": [
    "np.nanmean(month_return_df[get_q(monthly_df,0,20)])"
   ]
  },
  {
   "cell_type": "code",
   "execution_count": 27,
   "metadata": {},
   "outputs": [
    {
     "data": {
      "text/html": [
       "<div>\n",
       "<style scoped>\n",
       "    .dataframe tbody tr th:only-of-type {\n",
       "        vertical-align: middle;\n",
       "    }\n",
       "\n",
       "    .dataframe tbody tr th {\n",
       "        vertical-align: top;\n",
       "    }\n",
       "\n",
       "    .dataframe thead th {\n",
       "        text-align: right;\n",
       "    }\n",
       "</style>\n",
       "<table border=\"1\" class=\"dataframe\">\n",
       "  <thead>\n",
       "    <tr style=\"text-align: right;\">\n",
       "      <th></th>\n",
       "      <th>returns</th>\n",
       "    </tr>\n",
       "  </thead>\n",
       "  <tbody>\n",
       "    <tr>\n",
       "      <th>Q1</th>\n",
       "      <td>0.002151</td>\n",
       "    </tr>\n",
       "    <tr>\n",
       "      <th>Q2</th>\n",
       "      <td>0.002903</td>\n",
       "    </tr>\n",
       "    <tr>\n",
       "      <th>Q3</th>\n",
       "      <td>0.003663</td>\n",
       "    </tr>\n",
       "    <tr>\n",
       "      <th>Q4</th>\n",
       "      <td>-0.000203</td>\n",
       "    </tr>\n",
       "    <tr>\n",
       "      <th>Q5</th>\n",
       "      <td>0.001781</td>\n",
       "    </tr>\n",
       "  </tbody>\n",
       "</table>\n",
       "</div>"
      ],
      "text/plain": [
       "     returns\n",
       "Q1  0.002151\n",
       "Q2  0.002903\n",
       "Q3  0.003663\n",
       "Q4 -0.000203\n",
       "Q5  0.001781"
      ]
     },
     "execution_count": 27,
     "metadata": {},
     "output_type": "execute_result"
    }
   ],
   "source": [
    "values = []\n",
    "for i in range(0,100,20) : \n",
    "    values.append(np.nanmean(month_return_df[get_q(monthly_df,i,i+20)]))\n",
    "\n",
    "calendar_df = pd.DataFrame(values,index=['Q1','Q2','Q3','Q4','Q5'],columns=['returns'])\n",
    "calendar_df"
   ]
  },
  {
   "cell_type": "code",
   "execution_count": 55,
   "metadata": {},
   "outputs": [
    {
     "data": {
      "application/vnd.plotly.v1+json": {
       "config": {
        "linkText": "Export to plot.ly",
        "plotlyServerURL": "https://plot.ly",
        "showLink": true
       },
       "data": [
        {
         "line": {
          "color": "rgba(255, 153, 51, 1.0)",
          "dash": "solid",
          "shape": "linear",
          "width": 1.3
         },
         "mode": "lines",
         "name": "returns",
         "text": "",
         "type": "scatter",
         "x": [
          "Q1",
          "Q2",
          "Q3",
          "Q4",
          "Q5"
         ],
         "y": [
          0.0021510993424200767,
          0.00290292516965481,
          0.0036627586572790653,
          -0.00020279591026276062,
          0.0017807177331383005
         ]
        }
       ],
       "layout": {
        "legend": {
         "bgcolor": "#F5F6F9",
         "font": {
          "color": "#4D5663"
         }
        },
        "paper_bgcolor": "#F5F6F9",
        "plot_bgcolor": "#F5F6F9",
        "template": {
         "data": {
          "bar": [
           {
            "error_x": {
             "color": "#2a3f5f"
            },
            "error_y": {
             "color": "#2a3f5f"
            },
            "marker": {
             "line": {
              "color": "#E5ECF6",
              "width": 0.5
             }
            },
            "type": "bar"
           }
          ],
          "barpolar": [
           {
            "marker": {
             "line": {
              "color": "#E5ECF6",
              "width": 0.5
             }
            },
            "type": "barpolar"
           }
          ],
          "carpet": [
           {
            "aaxis": {
             "endlinecolor": "#2a3f5f",
             "gridcolor": "white",
             "linecolor": "white",
             "minorgridcolor": "white",
             "startlinecolor": "#2a3f5f"
            },
            "baxis": {
             "endlinecolor": "#2a3f5f",
             "gridcolor": "white",
             "linecolor": "white",
             "minorgridcolor": "white",
             "startlinecolor": "#2a3f5f"
            },
            "type": "carpet"
           }
          ],
          "choropleth": [
           {
            "colorbar": {
             "outlinewidth": 0,
             "ticks": ""
            },
            "type": "choropleth"
           }
          ],
          "contour": [
           {
            "colorbar": {
             "outlinewidth": 0,
             "ticks": ""
            },
            "colorscale": [
             [
              0,
              "#0d0887"
             ],
             [
              0.1111111111111111,
              "#46039f"
             ],
             [
              0.2222222222222222,
              "#7201a8"
             ],
             [
              0.3333333333333333,
              "#9c179e"
             ],
             [
              0.4444444444444444,
              "#bd3786"
             ],
             [
              0.5555555555555556,
              "#d8576b"
             ],
             [
              0.6666666666666666,
              "#ed7953"
             ],
             [
              0.7777777777777778,
              "#fb9f3a"
             ],
             [
              0.8888888888888888,
              "#fdca26"
             ],
             [
              1,
              "#f0f921"
             ]
            ],
            "type": "contour"
           }
          ],
          "contourcarpet": [
           {
            "colorbar": {
             "outlinewidth": 0,
             "ticks": ""
            },
            "type": "contourcarpet"
           }
          ],
          "heatmap": [
           {
            "colorbar": {
             "outlinewidth": 0,
             "ticks": ""
            },
            "colorscale": [
             [
              0,
              "#0d0887"
             ],
             [
              0.1111111111111111,
              "#46039f"
             ],
             [
              0.2222222222222222,
              "#7201a8"
             ],
             [
              0.3333333333333333,
              "#9c179e"
             ],
             [
              0.4444444444444444,
              "#bd3786"
             ],
             [
              0.5555555555555556,
              "#d8576b"
             ],
             [
              0.6666666666666666,
              "#ed7953"
             ],
             [
              0.7777777777777778,
              "#fb9f3a"
             ],
             [
              0.8888888888888888,
              "#fdca26"
             ],
             [
              1,
              "#f0f921"
             ]
            ],
            "type": "heatmap"
           }
          ],
          "heatmapgl": [
           {
            "colorbar": {
             "outlinewidth": 0,
             "ticks": ""
            },
            "colorscale": [
             [
              0,
              "#0d0887"
             ],
             [
              0.1111111111111111,
              "#46039f"
             ],
             [
              0.2222222222222222,
              "#7201a8"
             ],
             [
              0.3333333333333333,
              "#9c179e"
             ],
             [
              0.4444444444444444,
              "#bd3786"
             ],
             [
              0.5555555555555556,
              "#d8576b"
             ],
             [
              0.6666666666666666,
              "#ed7953"
             ],
             [
              0.7777777777777778,
              "#fb9f3a"
             ],
             [
              0.8888888888888888,
              "#fdca26"
             ],
             [
              1,
              "#f0f921"
             ]
            ],
            "type": "heatmapgl"
           }
          ],
          "histogram": [
           {
            "marker": {
             "colorbar": {
              "outlinewidth": 0,
              "ticks": ""
             }
            },
            "type": "histogram"
           }
          ],
          "histogram2d": [
           {
            "colorbar": {
             "outlinewidth": 0,
             "ticks": ""
            },
            "colorscale": [
             [
              0,
              "#0d0887"
             ],
             [
              0.1111111111111111,
              "#46039f"
             ],
             [
              0.2222222222222222,
              "#7201a8"
             ],
             [
              0.3333333333333333,
              "#9c179e"
             ],
             [
              0.4444444444444444,
              "#bd3786"
             ],
             [
              0.5555555555555556,
              "#d8576b"
             ],
             [
              0.6666666666666666,
              "#ed7953"
             ],
             [
              0.7777777777777778,
              "#fb9f3a"
             ],
             [
              0.8888888888888888,
              "#fdca26"
             ],
             [
              1,
              "#f0f921"
             ]
            ],
            "type": "histogram2d"
           }
          ],
          "histogram2dcontour": [
           {
            "colorbar": {
             "outlinewidth": 0,
             "ticks": ""
            },
            "colorscale": [
             [
              0,
              "#0d0887"
             ],
             [
              0.1111111111111111,
              "#46039f"
             ],
             [
              0.2222222222222222,
              "#7201a8"
             ],
             [
              0.3333333333333333,
              "#9c179e"
             ],
             [
              0.4444444444444444,
              "#bd3786"
             ],
             [
              0.5555555555555556,
              "#d8576b"
             ],
             [
              0.6666666666666666,
              "#ed7953"
             ],
             [
              0.7777777777777778,
              "#fb9f3a"
             ],
             [
              0.8888888888888888,
              "#fdca26"
             ],
             [
              1,
              "#f0f921"
             ]
            ],
            "type": "histogram2dcontour"
           }
          ],
          "mesh3d": [
           {
            "colorbar": {
             "outlinewidth": 0,
             "ticks": ""
            },
            "type": "mesh3d"
           }
          ],
          "parcoords": [
           {
            "line": {
             "colorbar": {
              "outlinewidth": 0,
              "ticks": ""
             }
            },
            "type": "parcoords"
           }
          ],
          "pie": [
           {
            "automargin": true,
            "type": "pie"
           }
          ],
          "scatter": [
           {
            "marker": {
             "colorbar": {
              "outlinewidth": 0,
              "ticks": ""
             }
            },
            "type": "scatter"
           }
          ],
          "scatter3d": [
           {
            "line": {
             "colorbar": {
              "outlinewidth": 0,
              "ticks": ""
             }
            },
            "marker": {
             "colorbar": {
              "outlinewidth": 0,
              "ticks": ""
             }
            },
            "type": "scatter3d"
           }
          ],
          "scattercarpet": [
           {
            "marker": {
             "colorbar": {
              "outlinewidth": 0,
              "ticks": ""
             }
            },
            "type": "scattercarpet"
           }
          ],
          "scattergeo": [
           {
            "marker": {
             "colorbar": {
              "outlinewidth": 0,
              "ticks": ""
             }
            },
            "type": "scattergeo"
           }
          ],
          "scattergl": [
           {
            "marker": {
             "colorbar": {
              "outlinewidth": 0,
              "ticks": ""
             }
            },
            "type": "scattergl"
           }
          ],
          "scattermapbox": [
           {
            "marker": {
             "colorbar": {
              "outlinewidth": 0,
              "ticks": ""
             }
            },
            "type": "scattermapbox"
           }
          ],
          "scatterpolar": [
           {
            "marker": {
             "colorbar": {
              "outlinewidth": 0,
              "ticks": ""
             }
            },
            "type": "scatterpolar"
           }
          ],
          "scatterpolargl": [
           {
            "marker": {
             "colorbar": {
              "outlinewidth": 0,
              "ticks": ""
             }
            },
            "type": "scatterpolargl"
           }
          ],
          "scatterternary": [
           {
            "marker": {
             "colorbar": {
              "outlinewidth": 0,
              "ticks": ""
             }
            },
            "type": "scatterternary"
           }
          ],
          "surface": [
           {
            "colorbar": {
             "outlinewidth": 0,
             "ticks": ""
            },
            "colorscale": [
             [
              0,
              "#0d0887"
             ],
             [
              0.1111111111111111,
              "#46039f"
             ],
             [
              0.2222222222222222,
              "#7201a8"
             ],
             [
              0.3333333333333333,
              "#9c179e"
             ],
             [
              0.4444444444444444,
              "#bd3786"
             ],
             [
              0.5555555555555556,
              "#d8576b"
             ],
             [
              0.6666666666666666,
              "#ed7953"
             ],
             [
              0.7777777777777778,
              "#fb9f3a"
             ],
             [
              0.8888888888888888,
              "#fdca26"
             ],
             [
              1,
              "#f0f921"
             ]
            ],
            "type": "surface"
           }
          ],
          "table": [
           {
            "cells": {
             "fill": {
              "color": "#EBF0F8"
             },
             "line": {
              "color": "white"
             }
            },
            "header": {
             "fill": {
              "color": "#C8D4E3"
             },
             "line": {
              "color": "white"
             }
            },
            "type": "table"
           }
          ]
         },
         "layout": {
          "annotationdefaults": {
           "arrowcolor": "#2a3f5f",
           "arrowhead": 0,
           "arrowwidth": 1
          },
          "coloraxis": {
           "colorbar": {
            "outlinewidth": 0,
            "ticks": ""
           }
          },
          "colorscale": {
           "diverging": [
            [
             0,
             "#8e0152"
            ],
            [
             0.1,
             "#c51b7d"
            ],
            [
             0.2,
             "#de77ae"
            ],
            [
             0.3,
             "#f1b6da"
            ],
            [
             0.4,
             "#fde0ef"
            ],
            [
             0.5,
             "#f7f7f7"
            ],
            [
             0.6,
             "#e6f5d0"
            ],
            [
             0.7,
             "#b8e186"
            ],
            [
             0.8,
             "#7fbc41"
            ],
            [
             0.9,
             "#4d9221"
            ],
            [
             1,
             "#276419"
            ]
           ],
           "sequential": [
            [
             0,
             "#0d0887"
            ],
            [
             0.1111111111111111,
             "#46039f"
            ],
            [
             0.2222222222222222,
             "#7201a8"
            ],
            [
             0.3333333333333333,
             "#9c179e"
            ],
            [
             0.4444444444444444,
             "#bd3786"
            ],
            [
             0.5555555555555556,
             "#d8576b"
            ],
            [
             0.6666666666666666,
             "#ed7953"
            ],
            [
             0.7777777777777778,
             "#fb9f3a"
            ],
            [
             0.8888888888888888,
             "#fdca26"
            ],
            [
             1,
             "#f0f921"
            ]
           ],
           "sequentialminus": [
            [
             0,
             "#0d0887"
            ],
            [
             0.1111111111111111,
             "#46039f"
            ],
            [
             0.2222222222222222,
             "#7201a8"
            ],
            [
             0.3333333333333333,
             "#9c179e"
            ],
            [
             0.4444444444444444,
             "#bd3786"
            ],
            [
             0.5555555555555556,
             "#d8576b"
            ],
            [
             0.6666666666666666,
             "#ed7953"
            ],
            [
             0.7777777777777778,
             "#fb9f3a"
            ],
            [
             0.8888888888888888,
             "#fdca26"
            ],
            [
             1,
             "#f0f921"
            ]
           ]
          },
          "colorway": [
           "#636efa",
           "#EF553B",
           "#00cc96",
           "#ab63fa",
           "#FFA15A",
           "#19d3f3",
           "#FF6692",
           "#B6E880",
           "#FF97FF",
           "#FECB52"
          ],
          "font": {
           "color": "#2a3f5f"
          },
          "geo": {
           "bgcolor": "white",
           "lakecolor": "white",
           "landcolor": "#E5ECF6",
           "showlakes": true,
           "showland": true,
           "subunitcolor": "white"
          },
          "hoverlabel": {
           "align": "left"
          },
          "hovermode": "closest",
          "mapbox": {
           "style": "light"
          },
          "paper_bgcolor": "white",
          "plot_bgcolor": "#E5ECF6",
          "polar": {
           "angularaxis": {
            "gridcolor": "white",
            "linecolor": "white",
            "ticks": ""
           },
           "bgcolor": "#E5ECF6",
           "radialaxis": {
            "gridcolor": "white",
            "linecolor": "white",
            "ticks": ""
           }
          },
          "scene": {
           "xaxis": {
            "backgroundcolor": "#E5ECF6",
            "gridcolor": "white",
            "gridwidth": 2,
            "linecolor": "white",
            "showbackground": true,
            "ticks": "",
            "zerolinecolor": "white"
           },
           "yaxis": {
            "backgroundcolor": "#E5ECF6",
            "gridcolor": "white",
            "gridwidth": 2,
            "linecolor": "white",
            "showbackground": true,
            "ticks": "",
            "zerolinecolor": "white"
           },
           "zaxis": {
            "backgroundcolor": "#E5ECF6",
            "gridcolor": "white",
            "gridwidth": 2,
            "linecolor": "white",
            "showbackground": true,
            "ticks": "",
            "zerolinecolor": "white"
           }
          },
          "shapedefaults": {
           "line": {
            "color": "#2a3f5f"
           }
          },
          "ternary": {
           "aaxis": {
            "gridcolor": "white",
            "linecolor": "white",
            "ticks": ""
           },
           "baxis": {
            "gridcolor": "white",
            "linecolor": "white",
            "ticks": ""
           },
           "bgcolor": "#E5ECF6",
           "caxis": {
            "gridcolor": "white",
            "linecolor": "white",
            "ticks": ""
           }
          },
          "title": {
           "x": 0.05
          },
          "xaxis": {
           "automargin": true,
           "gridcolor": "white",
           "linecolor": "white",
           "ticks": "",
           "title": {
            "standoff": 15
           },
           "zerolinecolor": "white",
           "zerolinewidth": 2
          },
          "yaxis": {
           "automargin": true,
           "gridcolor": "white",
           "linecolor": "white",
           "ticks": "",
           "title": {
            "standoff": 15
           },
           "zerolinecolor": "white",
           "zerolinewidth": 2
          }
         }
        },
        "title": {
         "font": {
          "color": "#4D5663"
         }
        },
        "xaxis": {
         "gridcolor": "#E1E5ED",
         "showgrid": true,
         "tickfont": {
          "color": "#4D5663"
         },
         "title": {
          "font": {
           "color": "#4D5663"
          },
          "text": ""
         },
         "zerolinecolor": "#E1E5ED"
        },
        "yaxis": {
         "gridcolor": "#E1E5ED",
         "showgrid": true,
         "tickfont": {
          "color": "#4D5663"
         },
         "title": {
          "font": {
           "color": "#4D5663"
          },
          "text": ""
         },
         "zerolinecolor": "#E1E5ED"
        }
       }
      },
      "text/html": [
       "<div>\n",
       "        \n",
       "        \n",
       "            <div id=\"be742cdf-00d4-4553-92b6-ca6a2445217f\" class=\"plotly-graph-div\" style=\"height:525px; width:100%;\"></div>\n",
       "            <script type=\"text/javascript\">\n",
       "                require([\"plotly\"], function(Plotly) {\n",
       "                    window.PLOTLYENV=window.PLOTLYENV || {};\n",
       "                    window.PLOTLYENV.BASE_URL='https://plot.ly';\n",
       "                    \n",
       "                if (document.getElementById(\"be742cdf-00d4-4553-92b6-ca6a2445217f\")) {\n",
       "                    Plotly.newPlot(\n",
       "                        'be742cdf-00d4-4553-92b6-ca6a2445217f',\n",
       "                        [{\"line\": {\"color\": \"rgba(255, 153, 51, 1.0)\", \"dash\": \"solid\", \"shape\": \"linear\", \"width\": 1.3}, \"mode\": \"lines\", \"name\": \"returns\", \"text\": \"\", \"type\": \"scatter\", \"x\": [\"Q1\", \"Q2\", \"Q3\", \"Q4\", \"Q5\"], \"y\": [0.0021510993424200767, 0.00290292516965481, 0.0036627586572790653, -0.00020279591026276062, 0.0017807177331383005]}],\n",
       "                        {\"legend\": {\"bgcolor\": \"#F5F6F9\", \"font\": {\"color\": \"#4D5663\"}}, \"paper_bgcolor\": \"#F5F6F9\", \"plot_bgcolor\": \"#F5F6F9\", \"template\": {\"data\": {\"bar\": [{\"error_x\": {\"color\": \"#2a3f5f\"}, \"error_y\": {\"color\": \"#2a3f5f\"}, \"marker\": {\"line\": {\"color\": \"#E5ECF6\", \"width\": 0.5}}, \"type\": \"bar\"}], \"barpolar\": [{\"marker\": {\"line\": {\"color\": \"#E5ECF6\", \"width\": 0.5}}, \"type\": \"barpolar\"}], \"carpet\": [{\"aaxis\": {\"endlinecolor\": \"#2a3f5f\", \"gridcolor\": \"white\", \"linecolor\": \"white\", \"minorgridcolor\": \"white\", \"startlinecolor\": \"#2a3f5f\"}, \"baxis\": {\"endlinecolor\": \"#2a3f5f\", \"gridcolor\": \"white\", \"linecolor\": \"white\", \"minorgridcolor\": \"white\", \"startlinecolor\": \"#2a3f5f\"}, \"type\": \"carpet\"}], \"choropleth\": [{\"colorbar\": {\"outlinewidth\": 0, \"ticks\": \"\"}, \"type\": \"choropleth\"}], \"contour\": [{\"colorbar\": {\"outlinewidth\": 0, \"ticks\": \"\"}, \"colorscale\": [[0.0, \"#0d0887\"], [0.1111111111111111, \"#46039f\"], [0.2222222222222222, \"#7201a8\"], [0.3333333333333333, \"#9c179e\"], [0.4444444444444444, \"#bd3786\"], [0.5555555555555556, \"#d8576b\"], [0.6666666666666666, \"#ed7953\"], [0.7777777777777778, \"#fb9f3a\"], [0.8888888888888888, \"#fdca26\"], [1.0, \"#f0f921\"]], \"type\": \"contour\"}], \"contourcarpet\": [{\"colorbar\": {\"outlinewidth\": 0, \"ticks\": \"\"}, \"type\": \"contourcarpet\"}], \"heatmap\": [{\"colorbar\": {\"outlinewidth\": 0, \"ticks\": \"\"}, \"colorscale\": [[0.0, \"#0d0887\"], [0.1111111111111111, \"#46039f\"], [0.2222222222222222, \"#7201a8\"], [0.3333333333333333, \"#9c179e\"], [0.4444444444444444, \"#bd3786\"], [0.5555555555555556, \"#d8576b\"], [0.6666666666666666, \"#ed7953\"], [0.7777777777777778, \"#fb9f3a\"], [0.8888888888888888, \"#fdca26\"], [1.0, \"#f0f921\"]], \"type\": \"heatmap\"}], \"heatmapgl\": [{\"colorbar\": {\"outlinewidth\": 0, \"ticks\": \"\"}, \"colorscale\": [[0.0, \"#0d0887\"], [0.1111111111111111, \"#46039f\"], [0.2222222222222222, \"#7201a8\"], [0.3333333333333333, \"#9c179e\"], [0.4444444444444444, \"#bd3786\"], [0.5555555555555556, \"#d8576b\"], [0.6666666666666666, \"#ed7953\"], [0.7777777777777778, \"#fb9f3a\"], [0.8888888888888888, \"#fdca26\"], [1.0, \"#f0f921\"]], \"type\": \"heatmapgl\"}], \"histogram\": [{\"marker\": {\"colorbar\": {\"outlinewidth\": 0, \"ticks\": \"\"}}, \"type\": \"histogram\"}], \"histogram2d\": [{\"colorbar\": {\"outlinewidth\": 0, \"ticks\": \"\"}, \"colorscale\": [[0.0, \"#0d0887\"], [0.1111111111111111, \"#46039f\"], [0.2222222222222222, \"#7201a8\"], [0.3333333333333333, \"#9c179e\"], [0.4444444444444444, \"#bd3786\"], [0.5555555555555556, \"#d8576b\"], [0.6666666666666666, \"#ed7953\"], [0.7777777777777778, \"#fb9f3a\"], [0.8888888888888888, \"#fdca26\"], [1.0, \"#f0f921\"]], \"type\": \"histogram2d\"}], \"histogram2dcontour\": [{\"colorbar\": {\"outlinewidth\": 0, \"ticks\": \"\"}, \"colorscale\": [[0.0, \"#0d0887\"], [0.1111111111111111, \"#46039f\"], [0.2222222222222222, \"#7201a8\"], [0.3333333333333333, \"#9c179e\"], [0.4444444444444444, \"#bd3786\"], [0.5555555555555556, \"#d8576b\"], [0.6666666666666666, \"#ed7953\"], [0.7777777777777778, \"#fb9f3a\"], [0.8888888888888888, \"#fdca26\"], [1.0, \"#f0f921\"]], \"type\": \"histogram2dcontour\"}], \"mesh3d\": [{\"colorbar\": {\"outlinewidth\": 0, \"ticks\": \"\"}, \"type\": \"mesh3d\"}], \"parcoords\": [{\"line\": {\"colorbar\": {\"outlinewidth\": 0, \"ticks\": \"\"}}, \"type\": \"parcoords\"}], \"pie\": [{\"automargin\": true, \"type\": \"pie\"}], \"scatter\": [{\"marker\": {\"colorbar\": {\"outlinewidth\": 0, \"ticks\": \"\"}}, \"type\": \"scatter\"}], \"scatter3d\": [{\"line\": {\"colorbar\": {\"outlinewidth\": 0, \"ticks\": \"\"}}, \"marker\": {\"colorbar\": {\"outlinewidth\": 0, \"ticks\": \"\"}}, \"type\": \"scatter3d\"}], \"scattercarpet\": [{\"marker\": {\"colorbar\": {\"outlinewidth\": 0, \"ticks\": \"\"}}, \"type\": \"scattercarpet\"}], \"scattergeo\": [{\"marker\": {\"colorbar\": {\"outlinewidth\": 0, \"ticks\": \"\"}}, \"type\": \"scattergeo\"}], \"scattergl\": [{\"marker\": {\"colorbar\": {\"outlinewidth\": 0, \"ticks\": \"\"}}, \"type\": \"scattergl\"}], \"scattermapbox\": [{\"marker\": {\"colorbar\": {\"outlinewidth\": 0, \"ticks\": \"\"}}, \"type\": \"scattermapbox\"}], \"scatterpolar\": [{\"marker\": {\"colorbar\": {\"outlinewidth\": 0, \"ticks\": \"\"}}, \"type\": \"scatterpolar\"}], \"scatterpolargl\": [{\"marker\": {\"colorbar\": {\"outlinewidth\": 0, \"ticks\": \"\"}}, \"type\": \"scatterpolargl\"}], \"scatterternary\": [{\"marker\": {\"colorbar\": {\"outlinewidth\": 0, \"ticks\": \"\"}}, \"type\": \"scatterternary\"}], \"surface\": [{\"colorbar\": {\"outlinewidth\": 0, \"ticks\": \"\"}, \"colorscale\": [[0.0, \"#0d0887\"], [0.1111111111111111, \"#46039f\"], [0.2222222222222222, \"#7201a8\"], [0.3333333333333333, \"#9c179e\"], [0.4444444444444444, \"#bd3786\"], [0.5555555555555556, \"#d8576b\"], [0.6666666666666666, \"#ed7953\"], [0.7777777777777778, \"#fb9f3a\"], [0.8888888888888888, \"#fdca26\"], [1.0, \"#f0f921\"]], \"type\": \"surface\"}], \"table\": [{\"cells\": {\"fill\": {\"color\": \"#EBF0F8\"}, \"line\": {\"color\": \"white\"}}, \"header\": {\"fill\": {\"color\": \"#C8D4E3\"}, \"line\": {\"color\": \"white\"}}, \"type\": \"table\"}]}, \"layout\": {\"annotationdefaults\": {\"arrowcolor\": \"#2a3f5f\", \"arrowhead\": 0, \"arrowwidth\": 1}, \"coloraxis\": {\"colorbar\": {\"outlinewidth\": 0, \"ticks\": \"\"}}, \"colorscale\": {\"diverging\": [[0, \"#8e0152\"], [0.1, \"#c51b7d\"], [0.2, \"#de77ae\"], [0.3, \"#f1b6da\"], [0.4, \"#fde0ef\"], [0.5, \"#f7f7f7\"], [0.6, \"#e6f5d0\"], [0.7, \"#b8e186\"], [0.8, \"#7fbc41\"], [0.9, \"#4d9221\"], [1, \"#276419\"]], \"sequential\": [[0.0, \"#0d0887\"], [0.1111111111111111, \"#46039f\"], [0.2222222222222222, \"#7201a8\"], [0.3333333333333333, \"#9c179e\"], [0.4444444444444444, \"#bd3786\"], [0.5555555555555556, \"#d8576b\"], [0.6666666666666666, \"#ed7953\"], [0.7777777777777778, \"#fb9f3a\"], [0.8888888888888888, \"#fdca26\"], [1.0, \"#f0f921\"]], \"sequentialminus\": [[0.0, \"#0d0887\"], [0.1111111111111111, \"#46039f\"], [0.2222222222222222, \"#7201a8\"], [0.3333333333333333, \"#9c179e\"], [0.4444444444444444, \"#bd3786\"], [0.5555555555555556, \"#d8576b\"], [0.6666666666666666, \"#ed7953\"], [0.7777777777777778, \"#fb9f3a\"], [0.8888888888888888, \"#fdca26\"], [1.0, \"#f0f921\"]]}, \"colorway\": [\"#636efa\", \"#EF553B\", \"#00cc96\", \"#ab63fa\", \"#FFA15A\", \"#19d3f3\", \"#FF6692\", \"#B6E880\", \"#FF97FF\", \"#FECB52\"], \"font\": {\"color\": \"#2a3f5f\"}, \"geo\": {\"bgcolor\": \"white\", \"lakecolor\": \"white\", \"landcolor\": \"#E5ECF6\", \"showlakes\": true, \"showland\": true, \"subunitcolor\": \"white\"}, \"hoverlabel\": {\"align\": \"left\"}, \"hovermode\": \"closest\", \"mapbox\": {\"style\": \"light\"}, \"paper_bgcolor\": \"white\", \"plot_bgcolor\": \"#E5ECF6\", \"polar\": {\"angularaxis\": {\"gridcolor\": \"white\", \"linecolor\": \"white\", \"ticks\": \"\"}, \"bgcolor\": \"#E5ECF6\", \"radialaxis\": {\"gridcolor\": \"white\", \"linecolor\": \"white\", \"ticks\": \"\"}}, \"scene\": {\"xaxis\": {\"backgroundcolor\": \"#E5ECF6\", \"gridcolor\": \"white\", \"gridwidth\": 2, \"linecolor\": \"white\", \"showbackground\": true, \"ticks\": \"\", \"zerolinecolor\": \"white\"}, \"yaxis\": {\"backgroundcolor\": \"#E5ECF6\", \"gridcolor\": \"white\", \"gridwidth\": 2, \"linecolor\": \"white\", \"showbackground\": true, \"ticks\": \"\", \"zerolinecolor\": \"white\"}, \"zaxis\": {\"backgroundcolor\": \"#E5ECF6\", \"gridcolor\": \"white\", \"gridwidth\": 2, \"linecolor\": \"white\", \"showbackground\": true, \"ticks\": \"\", \"zerolinecolor\": \"white\"}}, \"shapedefaults\": {\"line\": {\"color\": \"#2a3f5f\"}}, \"ternary\": {\"aaxis\": {\"gridcolor\": \"white\", \"linecolor\": \"white\", \"ticks\": \"\"}, \"baxis\": {\"gridcolor\": \"white\", \"linecolor\": \"white\", \"ticks\": \"\"}, \"bgcolor\": \"#E5ECF6\", \"caxis\": {\"gridcolor\": \"white\", \"linecolor\": \"white\", \"ticks\": \"\"}}, \"title\": {\"x\": 0.05}, \"xaxis\": {\"automargin\": true, \"gridcolor\": \"white\", \"linecolor\": \"white\", \"ticks\": \"\", \"title\": {\"standoff\": 15}, \"zerolinecolor\": \"white\", \"zerolinewidth\": 2}, \"yaxis\": {\"automargin\": true, \"gridcolor\": \"white\", \"linecolor\": \"white\", \"ticks\": \"\", \"title\": {\"standoff\": 15}, \"zerolinecolor\": \"white\", \"zerolinewidth\": 2}}}, \"title\": {\"font\": {\"color\": \"#4D5663\"}}, \"xaxis\": {\"gridcolor\": \"#E1E5ED\", \"showgrid\": true, \"tickfont\": {\"color\": \"#4D5663\"}, \"title\": {\"font\": {\"color\": \"#4D5663\"}, \"text\": \"\"}, \"zerolinecolor\": \"#E1E5ED\"}, \"yaxis\": {\"gridcolor\": \"#E1E5ED\", \"showgrid\": true, \"tickfont\": {\"color\": \"#4D5663\"}, \"title\": {\"font\": {\"color\": \"#4D5663\"}, \"text\": \"\"}, \"zerolinecolor\": \"#E1E5ED\"}},\n",
       "                        {\"showLink\": true, \"linkText\": \"Export to plot.ly\", \"plotlyServerURL\": \"https://plot.ly\", \"responsive\": true}\n",
       "                    ).then(function(){\n",
       "                            \n",
       "var gd = document.getElementById('be742cdf-00d4-4553-92b6-ca6a2445217f');\n",
       "var x = new MutationObserver(function (mutations, observer) {{\n",
       "        var display = window.getComputedStyle(gd).display;\n",
       "        if (!display || display === 'none') {{\n",
       "            console.log([gd, 'removed!']);\n",
       "            Plotly.purge(gd);\n",
       "            observer.disconnect();\n",
       "        }}\n",
       "}});\n",
       "\n",
       "// Listen for the removal of the full notebook cells\n",
       "var notebookContainer = gd.closest('#notebook-container');\n",
       "if (notebookContainer) {{\n",
       "    x.observe(notebookContainer, {childList: true});\n",
       "}}\n",
       "\n",
       "// Listen for the clearing of the current output cell\n",
       "var outputEl = gd.closest('.output');\n",
       "if (outputEl) {{\n",
       "    x.observe(outputEl, {childList: true});\n",
       "}}\n",
       "\n",
       "                        })\n",
       "                };\n",
       "                });\n",
       "            </script>\n",
       "        </div>"
      ]
     },
     "metadata": {},
     "output_type": "display_data"
    }
   ],
   "source": [
    "calendar_df.iplot(kind='line')"
   ]
  },
  {
   "cell_type": "code",
   "execution_count": 56,
   "metadata": {},
   "outputs": [
    {
     "data": {
      "text/html": [
       "<div>\n",
       "<style scoped>\n",
       "    .dataframe tbody tr th:only-of-type {\n",
       "        vertical-align: middle;\n",
       "    }\n",
       "\n",
       "    .dataframe tbody tr th {\n",
       "        vertical-align: top;\n",
       "    }\n",
       "\n",
       "    .dataframe thead th {\n",
       "        text-align: right;\n",
       "    }\n",
       "</style>\n",
       "<table border=\"1\" class=\"dataframe\">\n",
       "  <thead>\n",
       "    <tr style=\"text-align: right;\">\n",
       "      <th></th>\n",
       "      <th>삼양홀딩스</th>\n",
       "      <th>유한양행</th>\n",
       "      <th>CJ대한통운</th>\n",
       "      <th>두산</th>\n",
       "      <th>대림산업</th>\n",
       "      <th>한국테크놀로지그룹</th>\n",
       "      <th>기아차</th>\n",
       "      <th>동아쏘시오홀딩스</th>\n",
       "      <th>SK하이닉스</th>\n",
       "      <th>영풍</th>\n",
       "      <th>...</th>\n",
       "      <th>현대백화점</th>\n",
       "      <th>한국금융지주</th>\n",
       "      <th>GS</th>\n",
       "      <th>하나금융지주</th>\n",
       "      <th>아모레퍼시픽</th>\n",
       "      <th>LF</th>\n",
       "      <th>후성</th>\n",
       "      <th>SK이노베이션</th>\n",
       "      <th>CJ제일제당</th>\n",
       "      <th>KB금융</th>\n",
       "    </tr>\n",
       "  </thead>\n",
       "  <tbody>\n",
       "    <tr>\n",
       "      <th>20100104</th>\n",
       "      <td>-0.002808</td>\n",
       "      <td>-0.018529</td>\n",
       "      <td>-0.046101</td>\n",
       "      <td>-0.033509</td>\n",
       "      <td>0.017940</td>\n",
       "      <td>-0.024881</td>\n",
       "      <td>0.030106</td>\n",
       "      <td>0.031618</td>\n",
       "      <td>0.033737</td>\n",
       "      <td>-0.007300</td>\n",
       "      <td>...</td>\n",
       "      <td>-0.002856</td>\n",
       "      <td>0.015088</td>\n",
       "      <td>-0.008779</td>\n",
       "      <td>0.006378</td>\n",
       "      <td>0.001263</td>\n",
       "      <td>0.003794</td>\n",
       "      <td>-0.013965</td>\n",
       "      <td>-0.011555</td>\n",
       "      <td>-7.299270e-07</td>\n",
       "      <td>-0.012325</td>\n",
       "    </tr>\n",
       "    <tr>\n",
       "      <th>20100105</th>\n",
       "      <td>-0.002681</td>\n",
       "      <td>0.008590</td>\n",
       "      <td>0.001074</td>\n",
       "      <td>0.000753</td>\n",
       "      <td>-0.006470</td>\n",
       "      <td>-0.041025</td>\n",
       "      <td>-0.052380</td>\n",
       "      <td>-0.030805</td>\n",
       "      <td>-0.028212</td>\n",
       "      <td>-0.030484</td>\n",
       "      <td>...</td>\n",
       "      <td>-0.041339</td>\n",
       "      <td>0.013127</td>\n",
       "      <td>0.007353</td>\n",
       "      <td>0.019400</td>\n",
       "      <td>-0.025747</td>\n",
       "      <td>-0.036277</td>\n",
       "      <td>-0.003533</td>\n",
       "      <td>0.041370</td>\n",
       "      <td>6.571034e-02</td>\n",
       "      <td>-0.008876</td>\n",
       "    </tr>\n",
       "    <tr>\n",
       "      <th>20100106</th>\n",
       "      <td>-0.016060</td>\n",
       "      <td>0.003080</td>\n",
       "      <td>0.028553</td>\n",
       "      <td>0.046807</td>\n",
       "      <td>0.011906</td>\n",
       "      <td>-0.014452</td>\n",
       "      <td>0.001966</td>\n",
       "      <td>-0.035338</td>\n",
       "      <td>0.043180</td>\n",
       "      <td>-0.031849</td>\n",
       "      <td>...</td>\n",
       "      <td>-0.031360</td>\n",
       "      <td>-0.016883</td>\n",
       "      <td>0.002112</td>\n",
       "      <td>-0.008212</td>\n",
       "      <td>-0.068328</td>\n",
       "      <td>-0.016369</td>\n",
       "      <td>0.006104</td>\n",
       "      <td>-0.004097</td>\n",
       "      <td>-5.939443e-03</td>\n",
       "      <td>-0.011619</td>\n",
       "    </tr>\n",
       "    <tr>\n",
       "      <th>20100107</th>\n",
       "      <td>-0.000886</td>\n",
       "      <td>0.006572</td>\n",
       "      <td>0.018501</td>\n",
       "      <td>0.042569</td>\n",
       "      <td>0.012635</td>\n",
       "      <td>-0.010329</td>\n",
       "      <td>-0.030385</td>\n",
       "      <td>0.022925</td>\n",
       "      <td>0.008845</td>\n",
       "      <td>0.011231</td>\n",
       "      <td>...</td>\n",
       "      <td>0.019695</td>\n",
       "      <td>-0.005453</td>\n",
       "      <td>0.025174</td>\n",
       "      <td>0.001681</td>\n",
       "      <td>-0.007132</td>\n",
       "      <td>0.006732</td>\n",
       "      <td>0.022945</td>\n",
       "      <td>0.010857</td>\n",
       "      <td>3.617400e-03</td>\n",
       "      <td>0.002989</td>\n",
       "    </tr>\n",
       "    <tr>\n",
       "      <th>20100108</th>\n",
       "      <td>-0.008403</td>\n",
       "      <td>-0.014540</td>\n",
       "      <td>0.011568</td>\n",
       "      <td>0.058574</td>\n",
       "      <td>0.004365</td>\n",
       "      <td>0.002605</td>\n",
       "      <td>0.015008</td>\n",
       "      <td>-0.014007</td>\n",
       "      <td>0.004146</td>\n",
       "      <td>-0.009838</td>\n",
       "      <td>...</td>\n",
       "      <td>-0.029685</td>\n",
       "      <td>0.060864</td>\n",
       "      <td>-0.010435</td>\n",
       "      <td>-0.003111</td>\n",
       "      <td>-0.021566</td>\n",
       "      <td>0.003850</td>\n",
       "      <td>-0.001080</td>\n",
       "      <td>0.002130</td>\n",
       "      <td>-6.100041e-03</td>\n",
       "      <td>-0.004370</td>\n",
       "    </tr>\n",
       "    <tr>\n",
       "      <th>...</th>\n",
       "      <td>...</td>\n",
       "      <td>...</td>\n",
       "      <td>...</td>\n",
       "      <td>...</td>\n",
       "      <td>...</td>\n",
       "      <td>...</td>\n",
       "      <td>...</td>\n",
       "      <td>...</td>\n",
       "      <td>...</td>\n",
       "      <td>...</td>\n",
       "      <td>...</td>\n",
       "      <td>...</td>\n",
       "      <td>...</td>\n",
       "      <td>...</td>\n",
       "      <td>...</td>\n",
       "      <td>...</td>\n",
       "      <td>...</td>\n",
       "      <td>...</td>\n",
       "      <td>...</td>\n",
       "      <td>...</td>\n",
       "      <td>...</td>\n",
       "    </tr>\n",
       "    <tr>\n",
       "      <th>20191223</th>\n",
       "      <td>0.010850</td>\n",
       "      <td>0.009773</td>\n",
       "      <td>-0.011539</td>\n",
       "      <td>0.008582</td>\n",
       "      <td>0.001490</td>\n",
       "      <td>-0.008927</td>\n",
       "      <td>0.002609</td>\n",
       "      <td>0.015574</td>\n",
       "      <td>-0.002721</td>\n",
       "      <td>-0.001695</td>\n",
       "      <td>...</td>\n",
       "      <td>0.000278</td>\n",
       "      <td>0.008377</td>\n",
       "      <td>0.007193</td>\n",
       "      <td>0.005381</td>\n",
       "      <td>-0.023324</td>\n",
       "      <td>-0.001257</td>\n",
       "      <td>-0.025570</td>\n",
       "      <td>0.001490</td>\n",
       "      <td>9.771533e-03</td>\n",
       "      <td>0.018819</td>\n",
       "    </tr>\n",
       "    <tr>\n",
       "      <th>20191224</th>\n",
       "      <td>0.022137</td>\n",
       "      <td>0.000521</td>\n",
       "      <td>-0.003220</td>\n",
       "      <td>0.006681</td>\n",
       "      <td>0.000131</td>\n",
       "      <td>0.006681</td>\n",
       "      <td>0.005564</td>\n",
       "      <td>0.011311</td>\n",
       "      <td>-0.001776</td>\n",
       "      <td>0.027448</td>\n",
       "      <td>...</td>\n",
       "      <td>-0.001814</td>\n",
       "      <td>0.005313</td>\n",
       "      <td>0.012352</td>\n",
       "      <td>-0.004947</td>\n",
       "      <td>0.014314</td>\n",
       "      <td>0.020455</td>\n",
       "      <td>0.020587</td>\n",
       "      <td>0.009938</td>\n",
       "      <td>5.207457e-04</td>\n",
       "      <td>-0.002337</td>\n",
       "    </tr>\n",
       "    <tr>\n",
       "      <th>20191226</th>\n",
       "      <td>0.008216</td>\n",
       "      <td>0.012567</td>\n",
       "      <td>-0.003960</td>\n",
       "      <td>0.010124</td>\n",
       "      <td>-0.006158</td>\n",
       "      <td>0.010075</td>\n",
       "      <td>0.004988</td>\n",
       "      <td>0.000648</td>\n",
       "      <td>0.006701</td>\n",
       "      <td>-0.016480</td>\n",
       "      <td>...</td>\n",
       "      <td>-0.002736</td>\n",
       "      <td>-0.001221</td>\n",
       "      <td>-0.003960</td>\n",
       "      <td>0.006497</td>\n",
       "      <td>-0.011536</td>\n",
       "      <td>0.009627</td>\n",
       "      <td>-0.010195</td>\n",
       "      <td>0.002533</td>\n",
       "      <td>1.718354e-04</td>\n",
       "      <td>-0.004972</td>\n",
       "    </tr>\n",
       "    <tr>\n",
       "      <th>20191227</th>\n",
       "      <td>-0.006884</td>\n",
       "      <td>0.000370</td>\n",
       "      <td>0.026123</td>\n",
       "      <td>-0.027488</td>\n",
       "      <td>-0.025903</td>\n",
       "      <td>-0.024638</td>\n",
       "      <td>-0.020506</td>\n",
       "      <td>-0.026813</td>\n",
       "      <td>0.008781</td>\n",
       "      <td>-0.008631</td>\n",
       "      <td>...</td>\n",
       "      <td>-0.005099</td>\n",
       "      <td>-0.014806</td>\n",
       "      <td>-0.022674</td>\n",
       "      <td>-0.033631</td>\n",
       "      <td>-0.011510</td>\n",
       "      <td>-0.028005</td>\n",
       "      <td>0.013689</td>\n",
       "      <td>-0.029683</td>\n",
       "      <td>2.492982e-02</td>\n",
       "      <td>-0.031205</td>\n",
       "    </tr>\n",
       "    <tr>\n",
       "      <th>20191230</th>\n",
       "      <td>0.015402</td>\n",
       "      <td>0.004844</td>\n",
       "      <td>0.008080</td>\n",
       "      <td>0.004844</td>\n",
       "      <td>0.023988</td>\n",
       "      <td>0.022512</td>\n",
       "      <td>0.003717</td>\n",
       "      <td>0.014234</td>\n",
       "      <td>-0.014947</td>\n",
       "      <td>0.031914</td>\n",
       "      <td>...</td>\n",
       "      <td>0.021980</td>\n",
       "      <td>0.004844</td>\n",
       "      <td>-0.006650</td>\n",
       "      <td>-0.011156</td>\n",
       "      <td>0.030485</td>\n",
       "      <td>0.021328</td>\n",
       "      <td>0.012242</td>\n",
       "      <td>-0.001778</td>\n",
       "      <td>1.484417e-02</td>\n",
       "      <td>-0.003480</td>\n",
       "    </tr>\n",
       "  </tbody>\n",
       "</table>\n",
       "<p>2466 rows × 113 columns</p>\n",
       "</div>"
      ],
      "text/plain": [
       "             삼양홀딩스      유한양행    CJ대한통운        두산      대림산업  한국테크놀로지그룹  \\\n",
       "20100104 -0.002808 -0.018529 -0.046101 -0.033509  0.017940  -0.024881   \n",
       "20100105 -0.002681  0.008590  0.001074  0.000753 -0.006470  -0.041025   \n",
       "20100106 -0.016060  0.003080  0.028553  0.046807  0.011906  -0.014452   \n",
       "20100107 -0.000886  0.006572  0.018501  0.042569  0.012635  -0.010329   \n",
       "20100108 -0.008403 -0.014540  0.011568  0.058574  0.004365   0.002605   \n",
       "...            ...       ...       ...       ...       ...        ...   \n",
       "20191223  0.010850  0.009773 -0.011539  0.008582  0.001490  -0.008927   \n",
       "20191224  0.022137  0.000521 -0.003220  0.006681  0.000131   0.006681   \n",
       "20191226  0.008216  0.012567 -0.003960  0.010124 -0.006158   0.010075   \n",
       "20191227 -0.006884  0.000370  0.026123 -0.027488 -0.025903  -0.024638   \n",
       "20191230  0.015402  0.004844  0.008080  0.004844  0.023988   0.022512   \n",
       "\n",
       "               기아차  동아쏘시오홀딩스    SK하이닉스        영풍  ...     현대백화점    한국금융지주  \\\n",
       "20100104  0.030106  0.031618  0.033737 -0.007300  ... -0.002856  0.015088   \n",
       "20100105 -0.052380 -0.030805 -0.028212 -0.030484  ... -0.041339  0.013127   \n",
       "20100106  0.001966 -0.035338  0.043180 -0.031849  ... -0.031360 -0.016883   \n",
       "20100107 -0.030385  0.022925  0.008845  0.011231  ...  0.019695 -0.005453   \n",
       "20100108  0.015008 -0.014007  0.004146 -0.009838  ... -0.029685  0.060864   \n",
       "...            ...       ...       ...       ...  ...       ...       ...   \n",
       "20191223  0.002609  0.015574 -0.002721 -0.001695  ...  0.000278  0.008377   \n",
       "20191224  0.005564  0.011311 -0.001776  0.027448  ... -0.001814  0.005313   \n",
       "20191226  0.004988  0.000648  0.006701 -0.016480  ... -0.002736 -0.001221   \n",
       "20191227 -0.020506 -0.026813  0.008781 -0.008631  ... -0.005099 -0.014806   \n",
       "20191230  0.003717  0.014234 -0.014947  0.031914  ...  0.021980  0.004844   \n",
       "\n",
       "                GS    하나금융지주    아모레퍼시픽        LF        후성   SK이노베이션  \\\n",
       "20100104 -0.008779  0.006378  0.001263  0.003794 -0.013965 -0.011555   \n",
       "20100105  0.007353  0.019400 -0.025747 -0.036277 -0.003533  0.041370   \n",
       "20100106  0.002112 -0.008212 -0.068328 -0.016369  0.006104 -0.004097   \n",
       "20100107  0.025174  0.001681 -0.007132  0.006732  0.022945  0.010857   \n",
       "20100108 -0.010435 -0.003111 -0.021566  0.003850 -0.001080  0.002130   \n",
       "...            ...       ...       ...       ...       ...       ...   \n",
       "20191223  0.007193  0.005381 -0.023324 -0.001257 -0.025570  0.001490   \n",
       "20191224  0.012352 -0.004947  0.014314  0.020455  0.020587  0.009938   \n",
       "20191226 -0.003960  0.006497 -0.011536  0.009627 -0.010195  0.002533   \n",
       "20191227 -0.022674 -0.033631 -0.011510 -0.028005  0.013689 -0.029683   \n",
       "20191230 -0.006650 -0.011156  0.030485  0.021328  0.012242 -0.001778   \n",
       "\n",
       "                CJ제일제당      KB금융  \n",
       "20100104 -7.299270e-07 -0.012325  \n",
       "20100105  6.571034e-02 -0.008876  \n",
       "20100106 -5.939443e-03 -0.011619  \n",
       "20100107  3.617400e-03  0.002989  \n",
       "20100108 -6.100041e-03 -0.004370  \n",
       "...                ...       ...  \n",
       "20191223  9.771533e-03  0.018819  \n",
       "20191224  5.207457e-04 -0.002337  \n",
       "20191226  1.718354e-04 -0.004972  \n",
       "20191227  2.492982e-02 -0.031205  \n",
       "20191230  1.484417e-02 -0.003480  \n",
       "\n",
       "[2466 rows x 113 columns]"
      ]
     },
     "execution_count": 56,
     "metadata": {},
     "output_type": "execute_result"
    }
   ],
   "source": [
    "de_rm_df"
   ]
  },
  {
   "cell_type": "markdown",
   "metadata": {},
   "source": [
    "## Figure 7 Event time Returns"
   ]
  },
  {
   "cell_type": "markdown",
   "metadata": {},
   "source": [
    "This figure plots the weighted average cumulative abnormal return for the top (highest similarity) and\n",
    "bottom (lowest similarity) quintile portfolios.\n",
    "\n",
    "naive하게 3월말에 포트폴리오를 확정해서 추이를 살펴본다고 해보자. 실제로 월별 변경내용을 확인하면 대부분이 3월, 간혹 4월 존재\n",
    "\n",
    "2011년 6월에 최종수치변경되므로 2012년 3월말부터 해본다"
   ]
  },
  {
   "cell_type": "code",
   "execution_count": 30,
   "metadata": {},
   "outputs": [
    {
     "data": {
      "text/html": [
       "<div>\n",
       "<style scoped>\n",
       "    .dataframe tbody tr th:only-of-type {\n",
       "        vertical-align: middle;\n",
       "    }\n",
       "\n",
       "    .dataframe tbody tr th {\n",
       "        vertical-align: top;\n",
       "    }\n",
       "\n",
       "    .dataframe thead th {\n",
       "        text-align: right;\n",
       "    }\n",
       "</style>\n",
       "<table border=\"1\" class=\"dataframe\">\n",
       "  <thead>\n",
       "    <tr style=\"text-align: right;\">\n",
       "      <th></th>\n",
       "      <th>삼양홀딩스</th>\n",
       "      <th>유한양행</th>\n",
       "      <th>CJ대한통운</th>\n",
       "      <th>두산</th>\n",
       "      <th>대림산업</th>\n",
       "      <th>한국테크놀로지그룹</th>\n",
       "      <th>기아차</th>\n",
       "      <th>동아쏘시오홀딩스</th>\n",
       "      <th>SK하이닉스</th>\n",
       "      <th>영풍</th>\n",
       "      <th>...</th>\n",
       "      <th>현대백화점</th>\n",
       "      <th>한국금융지주</th>\n",
       "      <th>GS</th>\n",
       "      <th>하나금융지주</th>\n",
       "      <th>아모레퍼시픽</th>\n",
       "      <th>LF</th>\n",
       "      <th>후성</th>\n",
       "      <th>SK이노베이션</th>\n",
       "      <th>CJ제일제당</th>\n",
       "      <th>KB금융</th>\n",
       "    </tr>\n",
       "  </thead>\n",
       "  <tbody>\n",
       "    <tr>\n",
       "      <th>20110731</th>\n",
       "      <td>NaN</td>\n",
       "      <td>NaN</td>\n",
       "      <td>NaN</td>\n",
       "      <td>NaN</td>\n",
       "      <td>NaN</td>\n",
       "      <td>NaN</td>\n",
       "      <td>NaN</td>\n",
       "      <td>NaN</td>\n",
       "      <td>NaN</td>\n",
       "      <td>NaN</td>\n",
       "      <td>...</td>\n",
       "      <td>NaN</td>\n",
       "      <td>NaN</td>\n",
       "      <td>NaN</td>\n",
       "      <td>NaN</td>\n",
       "      <td>NaN</td>\n",
       "      <td>NaN</td>\n",
       "      <td>NaN</td>\n",
       "      <td>NaN</td>\n",
       "      <td>NaN</td>\n",
       "      <td>NaN</td>\n",
       "    </tr>\n",
       "    <tr>\n",
       "      <th>20110831</th>\n",
       "      <td>0.0</td>\n",
       "      <td>0.0</td>\n",
       "      <td>0.0</td>\n",
       "      <td>0.0</td>\n",
       "      <td>0.0</td>\n",
       "      <td>0.0</td>\n",
       "      <td>0.0</td>\n",
       "      <td>0.0</td>\n",
       "      <td>0.0</td>\n",
       "      <td>0.0</td>\n",
       "      <td>...</td>\n",
       "      <td>0.0</td>\n",
       "      <td>0.0</td>\n",
       "      <td>0.0</td>\n",
       "      <td>0.0</td>\n",
       "      <td>0.0</td>\n",
       "      <td>0.0</td>\n",
       "      <td>0.0</td>\n",
       "      <td>0.0</td>\n",
       "      <td>0.0</td>\n",
       "      <td>0.0</td>\n",
       "    </tr>\n",
       "    <tr>\n",
       "      <th>20110930</th>\n",
       "      <td>0.0</td>\n",
       "      <td>0.0</td>\n",
       "      <td>0.0</td>\n",
       "      <td>0.0</td>\n",
       "      <td>0.0</td>\n",
       "      <td>0.0</td>\n",
       "      <td>0.0</td>\n",
       "      <td>0.0</td>\n",
       "      <td>0.0</td>\n",
       "      <td>0.0</td>\n",
       "      <td>...</td>\n",
       "      <td>0.0</td>\n",
       "      <td>0.0</td>\n",
       "      <td>0.0</td>\n",
       "      <td>0.0</td>\n",
       "      <td>0.0</td>\n",
       "      <td>0.0</td>\n",
       "      <td>0.0</td>\n",
       "      <td>0.0</td>\n",
       "      <td>0.0</td>\n",
       "      <td>0.0</td>\n",
       "    </tr>\n",
       "    <tr>\n",
       "      <th>20111031</th>\n",
       "      <td>0.0</td>\n",
       "      <td>0.0</td>\n",
       "      <td>0.0</td>\n",
       "      <td>0.0</td>\n",
       "      <td>0.0</td>\n",
       "      <td>0.0</td>\n",
       "      <td>0.0</td>\n",
       "      <td>0.0</td>\n",
       "      <td>0.0</td>\n",
       "      <td>0.0</td>\n",
       "      <td>...</td>\n",
       "      <td>0.0</td>\n",
       "      <td>0.0</td>\n",
       "      <td>0.0</td>\n",
       "      <td>0.0</td>\n",
       "      <td>0.0</td>\n",
       "      <td>0.0</td>\n",
       "      <td>0.0</td>\n",
       "      <td>0.0</td>\n",
       "      <td>0.0</td>\n",
       "      <td>0.0</td>\n",
       "    </tr>\n",
       "    <tr>\n",
       "      <th>20111130</th>\n",
       "      <td>0.0</td>\n",
       "      <td>0.0</td>\n",
       "      <td>0.0</td>\n",
       "      <td>0.0</td>\n",
       "      <td>0.0</td>\n",
       "      <td>0.0</td>\n",
       "      <td>0.0</td>\n",
       "      <td>0.0</td>\n",
       "      <td>0.0</td>\n",
       "      <td>0.0</td>\n",
       "      <td>...</td>\n",
       "      <td>0.0</td>\n",
       "      <td>0.0</td>\n",
       "      <td>0.0</td>\n",
       "      <td>0.0</td>\n",
       "      <td>0.0</td>\n",
       "      <td>0.0</td>\n",
       "      <td>0.0</td>\n",
       "      <td>0.0</td>\n",
       "      <td>0.0</td>\n",
       "      <td>0.0</td>\n",
       "    </tr>\n",
       "  </tbody>\n",
       "</table>\n",
       "<p>5 rows × 113 columns</p>\n",
       "</div>"
      ],
      "text/plain": [
       "          삼양홀딩스  유한양행  CJ대한통운   두산  대림산업  한국테크놀로지그룹  기아차  동아쏘시오홀딩스  SK하이닉스  \\\n",
       "20110731    NaN   NaN     NaN  NaN   NaN        NaN  NaN       NaN     NaN   \n",
       "20110831    0.0   0.0     0.0  0.0   0.0        0.0  0.0       0.0     0.0   \n",
       "20110930    0.0   0.0     0.0  0.0   0.0        0.0  0.0       0.0     0.0   \n",
       "20111031    0.0   0.0     0.0  0.0   0.0        0.0  0.0       0.0     0.0   \n",
       "20111130    0.0   0.0     0.0  0.0   0.0        0.0  0.0       0.0     0.0   \n",
       "\n",
       "           영풍  ...  현대백화점  한국금융지주   GS  하나금융지주  아모레퍼시픽   LF   후성  SK이노베이션  \\\n",
       "20110731  NaN  ...    NaN     NaN  NaN     NaN     NaN  NaN  NaN      NaN   \n",
       "20110831  0.0  ...    0.0     0.0  0.0     0.0     0.0  0.0  0.0      0.0   \n",
       "20110930  0.0  ...    0.0     0.0  0.0     0.0     0.0  0.0  0.0      0.0   \n",
       "20111031  0.0  ...    0.0     0.0  0.0     0.0     0.0  0.0  0.0      0.0   \n",
       "20111130  0.0  ...    0.0     0.0  0.0     0.0     0.0  0.0  0.0      0.0   \n",
       "\n",
       "          CJ제일제당  KB금융  \n",
       "20110731     NaN   NaN  \n",
       "20110831     0.0   0.0  \n",
       "20110930     0.0   0.0  \n",
       "20111031     0.0   0.0  \n",
       "20111130     0.0   0.0  \n",
       "\n",
       "[5 rows x 113 columns]"
      ]
     },
     "execution_count": 30,
     "metadata": {},
     "output_type": "execute_result"
    }
   ],
   "source": [
    "monthly_df.loc[20150131:,:].diff()\n",
    "monthly_df.head().diff()"
   ]
  },
  {
   "cell_type": "code",
   "execution_count": 60,
   "metadata": {},
   "outputs": [
    {
     "data": {
      "text/html": [
       "<div>\n",
       "<style scoped>\n",
       "    .dataframe tbody tr th:only-of-type {\n",
       "        vertical-align: middle;\n",
       "    }\n",
       "\n",
       "    .dataframe tbody tr th {\n",
       "        vertical-align: top;\n",
       "    }\n",
       "\n",
       "    .dataframe thead th {\n",
       "        text-align: right;\n",
       "    }\n",
       "</style>\n",
       "<table border=\"1\" class=\"dataframe\">\n",
       "  <thead>\n",
       "    <tr style=\"text-align: right;\">\n",
       "      <th></th>\n",
       "      <th>삼양홀딩스</th>\n",
       "      <th>유한양행</th>\n",
       "      <th>CJ대한통운</th>\n",
       "      <th>두산</th>\n",
       "      <th>대림산업</th>\n",
       "      <th>한국테크놀로지그룹</th>\n",
       "      <th>기아차</th>\n",
       "      <th>동아쏘시오홀딩스</th>\n",
       "      <th>SK하이닉스</th>\n",
       "      <th>영풍</th>\n",
       "      <th>...</th>\n",
       "      <th>현대백화점</th>\n",
       "      <th>한국금융지주</th>\n",
       "      <th>GS</th>\n",
       "      <th>하나금융지주</th>\n",
       "      <th>아모레퍼시픽</th>\n",
       "      <th>LF</th>\n",
       "      <th>후성</th>\n",
       "      <th>SK이노베이션</th>\n",
       "      <th>CJ제일제당</th>\n",
       "      <th>KB금융</th>\n",
       "    </tr>\n",
       "  </thead>\n",
       "  <tbody>\n",
       "    <tr>\n",
       "      <th>20100104</th>\n",
       "      <td>-0.002808</td>\n",
       "      <td>-0.018529</td>\n",
       "      <td>-0.046101</td>\n",
       "      <td>-0.033509</td>\n",
       "      <td>0.017940</td>\n",
       "      <td>-0.024881</td>\n",
       "      <td>0.030106</td>\n",
       "      <td>0.031618</td>\n",
       "      <td>0.033737</td>\n",
       "      <td>-0.007300</td>\n",
       "      <td>...</td>\n",
       "      <td>-0.002856</td>\n",
       "      <td>0.015088</td>\n",
       "      <td>-0.008779</td>\n",
       "      <td>0.006378</td>\n",
       "      <td>0.001263</td>\n",
       "      <td>0.003794</td>\n",
       "      <td>-0.013965</td>\n",
       "      <td>-0.011555</td>\n",
       "      <td>-7.299270e-07</td>\n",
       "      <td>-0.012325</td>\n",
       "    </tr>\n",
       "    <tr>\n",
       "      <th>20100105</th>\n",
       "      <td>-0.002681</td>\n",
       "      <td>0.008590</td>\n",
       "      <td>0.001074</td>\n",
       "      <td>0.000753</td>\n",
       "      <td>-0.006470</td>\n",
       "      <td>-0.041025</td>\n",
       "      <td>-0.052380</td>\n",
       "      <td>-0.030805</td>\n",
       "      <td>-0.028212</td>\n",
       "      <td>-0.030484</td>\n",
       "      <td>...</td>\n",
       "      <td>-0.041339</td>\n",
       "      <td>0.013127</td>\n",
       "      <td>0.007353</td>\n",
       "      <td>0.019400</td>\n",
       "      <td>-0.025747</td>\n",
       "      <td>-0.036277</td>\n",
       "      <td>-0.003533</td>\n",
       "      <td>0.041370</td>\n",
       "      <td>6.571034e-02</td>\n",
       "      <td>-0.008876</td>\n",
       "    </tr>\n",
       "    <tr>\n",
       "      <th>20100106</th>\n",
       "      <td>-0.016060</td>\n",
       "      <td>0.003080</td>\n",
       "      <td>0.028553</td>\n",
       "      <td>0.046807</td>\n",
       "      <td>0.011906</td>\n",
       "      <td>-0.014452</td>\n",
       "      <td>0.001966</td>\n",
       "      <td>-0.035338</td>\n",
       "      <td>0.043180</td>\n",
       "      <td>-0.031849</td>\n",
       "      <td>...</td>\n",
       "      <td>-0.031360</td>\n",
       "      <td>-0.016883</td>\n",
       "      <td>0.002112</td>\n",
       "      <td>-0.008212</td>\n",
       "      <td>-0.068328</td>\n",
       "      <td>-0.016369</td>\n",
       "      <td>0.006104</td>\n",
       "      <td>-0.004097</td>\n",
       "      <td>-5.939443e-03</td>\n",
       "      <td>-0.011619</td>\n",
       "    </tr>\n",
       "    <tr>\n",
       "      <th>20100107</th>\n",
       "      <td>-0.000886</td>\n",
       "      <td>0.006572</td>\n",
       "      <td>0.018501</td>\n",
       "      <td>0.042569</td>\n",
       "      <td>0.012635</td>\n",
       "      <td>-0.010329</td>\n",
       "      <td>-0.030385</td>\n",
       "      <td>0.022925</td>\n",
       "      <td>0.008845</td>\n",
       "      <td>0.011231</td>\n",
       "      <td>...</td>\n",
       "      <td>0.019695</td>\n",
       "      <td>-0.005453</td>\n",
       "      <td>0.025174</td>\n",
       "      <td>0.001681</td>\n",
       "      <td>-0.007132</td>\n",
       "      <td>0.006732</td>\n",
       "      <td>0.022945</td>\n",
       "      <td>0.010857</td>\n",
       "      <td>3.617400e-03</td>\n",
       "      <td>0.002989</td>\n",
       "    </tr>\n",
       "    <tr>\n",
       "      <th>20100108</th>\n",
       "      <td>-0.008403</td>\n",
       "      <td>-0.014540</td>\n",
       "      <td>0.011568</td>\n",
       "      <td>0.058574</td>\n",
       "      <td>0.004365</td>\n",
       "      <td>0.002605</td>\n",
       "      <td>0.015008</td>\n",
       "      <td>-0.014007</td>\n",
       "      <td>0.004146</td>\n",
       "      <td>-0.009838</td>\n",
       "      <td>...</td>\n",
       "      <td>-0.029685</td>\n",
       "      <td>0.060864</td>\n",
       "      <td>-0.010435</td>\n",
       "      <td>-0.003111</td>\n",
       "      <td>-0.021566</td>\n",
       "      <td>0.003850</td>\n",
       "      <td>-0.001080</td>\n",
       "      <td>0.002130</td>\n",
       "      <td>-6.100041e-03</td>\n",
       "      <td>-0.004370</td>\n",
       "    </tr>\n",
       "  </tbody>\n",
       "</table>\n",
       "<p>5 rows × 113 columns</p>\n",
       "</div>"
      ],
      "text/plain": [
       "             삼양홀딩스      유한양행    CJ대한통운        두산      대림산업  한국테크놀로지그룹  \\\n",
       "20100104 -0.002808 -0.018529 -0.046101 -0.033509  0.017940  -0.024881   \n",
       "20100105 -0.002681  0.008590  0.001074  0.000753 -0.006470  -0.041025   \n",
       "20100106 -0.016060  0.003080  0.028553  0.046807  0.011906  -0.014452   \n",
       "20100107 -0.000886  0.006572  0.018501  0.042569  0.012635  -0.010329   \n",
       "20100108 -0.008403 -0.014540  0.011568  0.058574  0.004365   0.002605   \n",
       "\n",
       "               기아차  동아쏘시오홀딩스    SK하이닉스        영풍  ...     현대백화점    한국금융지주  \\\n",
       "20100104  0.030106  0.031618  0.033737 -0.007300  ... -0.002856  0.015088   \n",
       "20100105 -0.052380 -0.030805 -0.028212 -0.030484  ... -0.041339  0.013127   \n",
       "20100106  0.001966 -0.035338  0.043180 -0.031849  ... -0.031360 -0.016883   \n",
       "20100107 -0.030385  0.022925  0.008845  0.011231  ...  0.019695 -0.005453   \n",
       "20100108  0.015008 -0.014007  0.004146 -0.009838  ... -0.029685  0.060864   \n",
       "\n",
       "                GS    하나금융지주    아모레퍼시픽        LF        후성   SK이노베이션  \\\n",
       "20100104 -0.008779  0.006378  0.001263  0.003794 -0.013965 -0.011555   \n",
       "20100105  0.007353  0.019400 -0.025747 -0.036277 -0.003533  0.041370   \n",
       "20100106  0.002112 -0.008212 -0.068328 -0.016369  0.006104 -0.004097   \n",
       "20100107  0.025174  0.001681 -0.007132  0.006732  0.022945  0.010857   \n",
       "20100108 -0.010435 -0.003111 -0.021566  0.003850 -0.001080  0.002130   \n",
       "\n",
       "                CJ제일제당      KB금융  \n",
       "20100104 -7.299270e-07 -0.012325  \n",
       "20100105  6.571034e-02 -0.008876  \n",
       "20100106 -5.939443e-03 -0.011619  \n",
       "20100107  3.617400e-03  0.002989  \n",
       "20100108 -6.100041e-03 -0.004370  \n",
       "\n",
       "[5 rows x 113 columns]"
      ]
     },
     "execution_count": 60,
     "metadata": {},
     "output_type": "execute_result"
    }
   ],
   "source": [
    "de_rm_df.head()"
   ]
  },
  {
   "cell_type": "code",
   "execution_count": 33,
   "metadata": {},
   "outputs": [],
   "source": [
    "values = []\n",
    "for i in range(0,100,20) : \n",
    "    values.append(np.nanmean(month_abnormal_df[get_q(monthly_df,i,i+20)]))"
   ]
  },
  {
   "cell_type": "code",
   "execution_count": 38,
   "metadata": {},
   "outputs": [],
   "source": [
    "def get_event_returns(df,holding_period):\n",
    "    iloc_ls = [i for i in range(8,102,12)] \n",
    "    values_ls = []\n",
    "    for i in iloc_ls:\n",
    "        values_ls.append((1+month_abnormal_df.iloc[i:i+holding_period,:]).prod()-1) #8년치 수익률저장\n",
    "\n",
    "    values = []\n",
    "    for idx, i in enumerate(iloc_ls):\n",
    "        for j in range(0,100,20): #Q1~Q5\n",
    "            display(values_ls[idx])\n",
    "            values.append(values_ls[idx][get_q(monthly_df,j,j+20).iloc[i,:]].mean()) #(2012~2019) x (Q1~Q5) 의 40개\n",
    "\n",
    "    result = [values[i * 5:(i + 1) * 5] for i in range((len(values) + 5 - 1) // 5 )] #8년치 Q1~Q5를 5쿼터씩 리스트로 생성\n",
    "\n",
    "    q_1 = np.mean([result[i][0] for i in range(0,len(result))])\n",
    "    q_2 = np.mean([result[i][1] for i in range(0,len(result))])\n",
    "    q_3 = np.mean([result[i][2] for i in range(0,len(result))])\n",
    "    q_4 = np.mean([result[i][3] for i in range(0,len(result))])\n",
    "    q_5 =np.mean([result[i][4] for i in range(0,len(result))])\n",
    "\n",
    "    return(q_1,q_5)\n",
    "    "
   ]
  },
  {
   "cell_type": "code",
   "execution_count": 40,
   "metadata": {},
   "outputs": [
    {
     "data": {
      "text/plain": [
       "삼양홀딩스      0.011856\n",
       "유한양행      -0.011105\n",
       "CJ대한통운    -0.022885\n",
       "두산        -0.118193\n",
       "대림산업      -0.024651\n",
       "             ...   \n",
       "LF        -0.048361\n",
       "후성        -0.011646\n",
       "SK이노베이션   -0.106076\n",
       "CJ제일제당     0.046697\n",
       "KB금융       0.005831\n",
       "Length: 113, dtype: float64"
      ]
     },
     "metadata": {},
     "output_type": "display_data"
    },
    {
     "data": {
      "text/plain": [
       "삼양홀딩스      0.011856\n",
       "유한양행      -0.011105\n",
       "CJ대한통운    -0.022885\n",
       "두산        -0.118193\n",
       "대림산업      -0.024651\n",
       "             ...   \n",
       "LF        -0.048361\n",
       "후성        -0.011646\n",
       "SK이노베이션   -0.106076\n",
       "CJ제일제당     0.046697\n",
       "KB금융       0.005831\n",
       "Length: 113, dtype: float64"
      ]
     },
     "metadata": {},
     "output_type": "display_data"
    },
    {
     "data": {
      "text/plain": [
       "삼양홀딩스      0.011856\n",
       "유한양행      -0.011105\n",
       "CJ대한통운    -0.022885\n",
       "두산        -0.118193\n",
       "대림산업      -0.024651\n",
       "             ...   \n",
       "LF        -0.048361\n",
       "후성        -0.011646\n",
       "SK이노베이션   -0.106076\n",
       "CJ제일제당     0.046697\n",
       "KB금융       0.005831\n",
       "Length: 113, dtype: float64"
      ]
     },
     "metadata": {},
     "output_type": "display_data"
    },
    {
     "data": {
      "text/plain": [
       "삼양홀딩스      0.011856\n",
       "유한양행      -0.011105\n",
       "CJ대한통운    -0.022885\n",
       "두산        -0.118193\n",
       "대림산업      -0.024651\n",
       "             ...   \n",
       "LF        -0.048361\n",
       "후성        -0.011646\n",
       "SK이노베이션   -0.106076\n",
       "CJ제일제당     0.046697\n",
       "KB금융       0.005831\n",
       "Length: 113, dtype: float64"
      ]
     },
     "metadata": {},
     "output_type": "display_data"
    },
    {
     "data": {
      "text/plain": [
       "삼양홀딩스      0.011856\n",
       "유한양행      -0.011105\n",
       "CJ대한통운    -0.022885\n",
       "두산        -0.118193\n",
       "대림산업      -0.024651\n",
       "             ...   \n",
       "LF        -0.048361\n",
       "후성        -0.011646\n",
       "SK이노베이션   -0.106076\n",
       "CJ제일제당     0.046697\n",
       "KB금융       0.005831\n",
       "Length: 113, dtype: float64"
      ]
     },
     "metadata": {},
     "output_type": "display_data"
    },
    {
     "data": {
      "text/plain": [
       "삼양홀딩스      0.036163\n",
       "유한양행       0.087898\n",
       "CJ대한통운    -0.129782\n",
       "두산         0.021194\n",
       "대림산업      -0.034781\n",
       "             ...   \n",
       "LF         0.051422\n",
       "후성         0.024376\n",
       "SK이노베이션   -0.073958\n",
       "CJ제일제당    -0.082607\n",
       "KB금융      -0.034001\n",
       "Length: 113, dtype: float64"
      ]
     },
     "metadata": {},
     "output_type": "display_data"
    },
    {
     "data": {
      "text/plain": [
       "삼양홀딩스      0.036163\n",
       "유한양행       0.087898\n",
       "CJ대한통운    -0.129782\n",
       "두산         0.021194\n",
       "대림산업      -0.034781\n",
       "             ...   \n",
       "LF         0.051422\n",
       "후성         0.024376\n",
       "SK이노베이션   -0.073958\n",
       "CJ제일제당    -0.082607\n",
       "KB금융      -0.034001\n",
       "Length: 113, dtype: float64"
      ]
     },
     "metadata": {},
     "output_type": "display_data"
    },
    {
     "data": {
      "text/plain": [
       "삼양홀딩스      0.036163\n",
       "유한양행       0.087898\n",
       "CJ대한통운    -0.129782\n",
       "두산         0.021194\n",
       "대림산업      -0.034781\n",
       "             ...   \n",
       "LF         0.051422\n",
       "후성         0.024376\n",
       "SK이노베이션   -0.073958\n",
       "CJ제일제당    -0.082607\n",
       "KB금융      -0.034001\n",
       "Length: 113, dtype: float64"
      ]
     },
     "metadata": {},
     "output_type": "display_data"
    },
    {
     "data": {
      "text/plain": [
       "삼양홀딩스      0.036163\n",
       "유한양행       0.087898\n",
       "CJ대한통운    -0.129782\n",
       "두산         0.021194\n",
       "대림산업      -0.034781\n",
       "             ...   \n",
       "LF         0.051422\n",
       "후성         0.024376\n",
       "SK이노베이션   -0.073958\n",
       "CJ제일제당    -0.082607\n",
       "KB금융      -0.034001\n",
       "Length: 113, dtype: float64"
      ]
     },
     "metadata": {},
     "output_type": "display_data"
    },
    {
     "data": {
      "text/plain": [
       "삼양홀딩스      0.036163\n",
       "유한양행       0.087898\n",
       "CJ대한통운    -0.129782\n",
       "두산         0.021194\n",
       "대림산업      -0.034781\n",
       "             ...   \n",
       "LF         0.051422\n",
       "후성         0.024376\n",
       "SK이노베이션   -0.073958\n",
       "CJ제일제당    -0.082607\n",
       "KB금융      -0.034001\n",
       "Length: 113, dtype: float64"
      ]
     },
     "metadata": {},
     "output_type": "display_data"
    },
    {
     "data": {
      "text/plain": [
       "삼양홀딩스     -0.024703\n",
       "유한양행      -0.080936\n",
       "CJ대한통운    -0.057793\n",
       "두산         0.004411\n",
       "대림산업      -0.014551\n",
       "             ...   \n",
       "LF         0.005720\n",
       "후성         0.101763\n",
       "SK이노베이션   -0.085291\n",
       "CJ제일제당     0.047005\n",
       "KB금융      -0.064678\n",
       "Length: 113, dtype: float64"
      ]
     },
     "metadata": {},
     "output_type": "display_data"
    },
    {
     "data": {
      "text/plain": [
       "삼양홀딩스     -0.024703\n",
       "유한양행      -0.080936\n",
       "CJ대한통운    -0.057793\n",
       "두산         0.004411\n",
       "대림산업      -0.014551\n",
       "             ...   \n",
       "LF         0.005720\n",
       "후성         0.101763\n",
       "SK이노베이션   -0.085291\n",
       "CJ제일제당     0.047005\n",
       "KB금융      -0.064678\n",
       "Length: 113, dtype: float64"
      ]
     },
     "metadata": {},
     "output_type": "display_data"
    },
    {
     "data": {
      "text/plain": [
       "삼양홀딩스     -0.024703\n",
       "유한양행      -0.080936\n",
       "CJ대한통운    -0.057793\n",
       "두산         0.004411\n",
       "대림산업      -0.014551\n",
       "             ...   \n",
       "LF         0.005720\n",
       "후성         0.101763\n",
       "SK이노베이션   -0.085291\n",
       "CJ제일제당     0.047005\n",
       "KB금융      -0.064678\n",
       "Length: 113, dtype: float64"
      ]
     },
     "metadata": {},
     "output_type": "display_data"
    },
    {
     "data": {
      "text/plain": [
       "삼양홀딩스     -0.024703\n",
       "유한양행      -0.080936\n",
       "CJ대한통운    -0.057793\n",
       "두산         0.004411\n",
       "대림산업      -0.014551\n",
       "             ...   \n",
       "LF         0.005720\n",
       "후성         0.101763\n",
       "SK이노베이션   -0.085291\n",
       "CJ제일제당     0.047005\n",
       "KB금융      -0.064678\n",
       "Length: 113, dtype: float64"
      ]
     },
     "metadata": {},
     "output_type": "display_data"
    },
    {
     "data": {
      "text/plain": [
       "삼양홀딩스     -0.024703\n",
       "유한양행      -0.080936\n",
       "CJ대한통운    -0.057793\n",
       "두산         0.004411\n",
       "대림산업      -0.014551\n",
       "             ...   \n",
       "LF         0.005720\n",
       "후성         0.101763\n",
       "SK이노베이션   -0.085291\n",
       "CJ제일제당     0.047005\n",
       "KB금융      -0.064678\n",
       "Length: 113, dtype: float64"
      ]
     },
     "metadata": {},
     "output_type": "display_data"
    },
    {
     "data": {
      "text/plain": [
       "삼양홀딩스     -0.005819\n",
       "유한양행       0.068401\n",
       "CJ대한통운     0.051827\n",
       "두산        -0.046840\n",
       "대림산업      -0.025354\n",
       "             ...   \n",
       "LF        -0.017437\n",
       "후성         0.068226\n",
       "SK이노베이션   -0.099733\n",
       "CJ제일제당     0.032191\n",
       "KB금융      -0.016687\n",
       "Length: 113, dtype: float64"
      ]
     },
     "metadata": {},
     "output_type": "display_data"
    },
    {
     "data": {
      "text/plain": [
       "삼양홀딩스     -0.005819\n",
       "유한양행       0.068401\n",
       "CJ대한통운     0.051827\n",
       "두산        -0.046840\n",
       "대림산업      -0.025354\n",
       "             ...   \n",
       "LF        -0.017437\n",
       "후성         0.068226\n",
       "SK이노베이션   -0.099733\n",
       "CJ제일제당     0.032191\n",
       "KB금융      -0.016687\n",
       "Length: 113, dtype: float64"
      ]
     },
     "metadata": {},
     "output_type": "display_data"
    },
    {
     "data": {
      "text/plain": [
       "삼양홀딩스     -0.005819\n",
       "유한양행       0.068401\n",
       "CJ대한통운     0.051827\n",
       "두산        -0.046840\n",
       "대림산업      -0.025354\n",
       "             ...   \n",
       "LF        -0.017437\n",
       "후성         0.068226\n",
       "SK이노베이션   -0.099733\n",
       "CJ제일제당     0.032191\n",
       "KB금융      -0.016687\n",
       "Length: 113, dtype: float64"
      ]
     },
     "metadata": {},
     "output_type": "display_data"
    },
    {
     "data": {
      "text/plain": [
       "삼양홀딩스     -0.005819\n",
       "유한양행       0.068401\n",
       "CJ대한통운     0.051827\n",
       "두산        -0.046840\n",
       "대림산업      -0.025354\n",
       "             ...   \n",
       "LF        -0.017437\n",
       "후성         0.068226\n",
       "SK이노베이션   -0.099733\n",
       "CJ제일제당     0.032191\n",
       "KB금융      -0.016687\n",
       "Length: 113, dtype: float64"
      ]
     },
     "metadata": {},
     "output_type": "display_data"
    },
    {
     "data": {
      "text/plain": [
       "삼양홀딩스     -0.005819\n",
       "유한양행       0.068401\n",
       "CJ대한통운     0.051827\n",
       "두산        -0.046840\n",
       "대림산업      -0.025354\n",
       "             ...   \n",
       "LF        -0.017437\n",
       "후성         0.068226\n",
       "SK이노베이션   -0.099733\n",
       "CJ제일제당     0.032191\n",
       "KB금융      -0.016687\n",
       "Length: 113, dtype: float64"
      ]
     },
     "metadata": {},
     "output_type": "display_data"
    },
    {
     "data": {
      "text/plain": [
       "삼양홀딩스     -0.151016\n",
       "유한양행       0.035651\n",
       "CJ대한통운    -0.072865\n",
       "두산         0.120619\n",
       "대림산업       0.079781\n",
       "             ...   \n",
       "LF        -0.014063\n",
       "후성        -0.053229\n",
       "SK이노베이션    0.132855\n",
       "CJ제일제당    -0.084379\n",
       "KB금융       0.023419\n",
       "Length: 113, dtype: float64"
      ]
     },
     "metadata": {},
     "output_type": "display_data"
    },
    {
     "data": {
      "text/plain": [
       "삼양홀딩스     -0.151016\n",
       "유한양행       0.035651\n",
       "CJ대한통운    -0.072865\n",
       "두산         0.120619\n",
       "대림산업       0.079781\n",
       "             ...   \n",
       "LF        -0.014063\n",
       "후성        -0.053229\n",
       "SK이노베이션    0.132855\n",
       "CJ제일제당    -0.084379\n",
       "KB금융       0.023419\n",
       "Length: 113, dtype: float64"
      ]
     },
     "metadata": {},
     "output_type": "display_data"
    },
    {
     "data": {
      "text/plain": [
       "삼양홀딩스     -0.151016\n",
       "유한양행       0.035651\n",
       "CJ대한통운    -0.072865\n",
       "두산         0.120619\n",
       "대림산업       0.079781\n",
       "             ...   \n",
       "LF        -0.014063\n",
       "후성        -0.053229\n",
       "SK이노베이션    0.132855\n",
       "CJ제일제당    -0.084379\n",
       "KB금융       0.023419\n",
       "Length: 113, dtype: float64"
      ]
     },
     "metadata": {},
     "output_type": "display_data"
    },
    {
     "data": {
      "text/plain": [
       "삼양홀딩스     -0.151016\n",
       "유한양행       0.035651\n",
       "CJ대한통운    -0.072865\n",
       "두산         0.120619\n",
       "대림산업       0.079781\n",
       "             ...   \n",
       "LF        -0.014063\n",
       "후성        -0.053229\n",
       "SK이노베이션    0.132855\n",
       "CJ제일제당    -0.084379\n",
       "KB금융       0.023419\n",
       "Length: 113, dtype: float64"
      ]
     },
     "metadata": {},
     "output_type": "display_data"
    },
    {
     "data": {
      "text/plain": [
       "삼양홀딩스     -0.151016\n",
       "유한양행       0.035651\n",
       "CJ대한통운    -0.072865\n",
       "두산         0.120619\n",
       "대림산업       0.079781\n",
       "             ...   \n",
       "LF        -0.014063\n",
       "후성        -0.053229\n",
       "SK이노베이션    0.132855\n",
       "CJ제일제당    -0.084379\n",
       "KB금융       0.023419\n",
       "Length: 113, dtype: float64"
      ]
     },
     "metadata": {},
     "output_type": "display_data"
    },
    {
     "data": {
      "text/plain": [
       "삼양홀딩스      0.056214\n",
       "유한양행      -0.045243\n",
       "CJ대한통운    -0.071383\n",
       "두산        -0.047783\n",
       "대림산업      -0.069139\n",
       "             ...   \n",
       "LF         0.020191\n",
       "후성         0.041769\n",
       "SK이노베이션    0.037736\n",
       "CJ제일제당    -0.068594\n",
       "KB금융       0.005970\n",
       "Length: 113, dtype: float64"
      ]
     },
     "metadata": {},
     "output_type": "display_data"
    },
    {
     "data": {
      "text/plain": [
       "삼양홀딩스      0.056214\n",
       "유한양행      -0.045243\n",
       "CJ대한통운    -0.071383\n",
       "두산        -0.047783\n",
       "대림산업      -0.069139\n",
       "             ...   \n",
       "LF         0.020191\n",
       "후성         0.041769\n",
       "SK이노베이션    0.037736\n",
       "CJ제일제당    -0.068594\n",
       "KB금융       0.005970\n",
       "Length: 113, dtype: float64"
      ]
     },
     "metadata": {},
     "output_type": "display_data"
    },
    {
     "data": {
      "text/plain": [
       "삼양홀딩스      0.056214\n",
       "유한양행      -0.045243\n",
       "CJ대한통운    -0.071383\n",
       "두산        -0.047783\n",
       "대림산업      -0.069139\n",
       "             ...   \n",
       "LF         0.020191\n",
       "후성         0.041769\n",
       "SK이노베이션    0.037736\n",
       "CJ제일제당    -0.068594\n",
       "KB금융       0.005970\n",
       "Length: 113, dtype: float64"
      ]
     },
     "metadata": {},
     "output_type": "display_data"
    },
    {
     "data": {
      "text/plain": [
       "삼양홀딩스      0.056214\n",
       "유한양행      -0.045243\n",
       "CJ대한통운    -0.071383\n",
       "두산        -0.047783\n",
       "대림산업      -0.069139\n",
       "             ...   \n",
       "LF         0.020191\n",
       "후성         0.041769\n",
       "SK이노베이션    0.037736\n",
       "CJ제일제당    -0.068594\n",
       "KB금융       0.005970\n",
       "Length: 113, dtype: float64"
      ]
     },
     "metadata": {},
     "output_type": "display_data"
    },
    {
     "data": {
      "text/plain": [
       "삼양홀딩스      0.056214\n",
       "유한양행      -0.045243\n",
       "CJ대한통운    -0.071383\n",
       "두산        -0.047783\n",
       "대림산업      -0.069139\n",
       "             ...   \n",
       "LF         0.020191\n",
       "후성         0.041769\n",
       "SK이노베이션    0.037736\n",
       "CJ제일제당    -0.068594\n",
       "KB금융       0.005970\n",
       "Length: 113, dtype: float64"
      ]
     },
     "metadata": {},
     "output_type": "display_data"
    },
    {
     "data": {
      "text/plain": [
       "삼양홀딩스     -0.126515\n",
       "유한양행       0.060948\n",
       "CJ대한통운     0.031101\n",
       "두산         0.059352\n",
       "대림산업      -0.003484\n",
       "             ...   \n",
       "LF        -0.051020\n",
       "후성         0.073271\n",
       "SK이노베이션    0.018863\n",
       "CJ제일제당    -0.054422\n",
       "KB금융      -0.057263\n",
       "Length: 113, dtype: float64"
      ]
     },
     "metadata": {},
     "output_type": "display_data"
    },
    {
     "data": {
      "text/plain": [
       "삼양홀딩스     -0.126515\n",
       "유한양행       0.060948\n",
       "CJ대한통운     0.031101\n",
       "두산         0.059352\n",
       "대림산업      -0.003484\n",
       "             ...   \n",
       "LF        -0.051020\n",
       "후성         0.073271\n",
       "SK이노베이션    0.018863\n",
       "CJ제일제당    -0.054422\n",
       "KB금융      -0.057263\n",
       "Length: 113, dtype: float64"
      ]
     },
     "metadata": {},
     "output_type": "display_data"
    },
    {
     "data": {
      "text/plain": [
       "삼양홀딩스     -0.126515\n",
       "유한양행       0.060948\n",
       "CJ대한통운     0.031101\n",
       "두산         0.059352\n",
       "대림산업      -0.003484\n",
       "             ...   \n",
       "LF        -0.051020\n",
       "후성         0.073271\n",
       "SK이노베이션    0.018863\n",
       "CJ제일제당    -0.054422\n",
       "KB금융      -0.057263\n",
       "Length: 113, dtype: float64"
      ]
     },
     "metadata": {},
     "output_type": "display_data"
    },
    {
     "data": {
      "text/plain": [
       "삼양홀딩스     -0.126515\n",
       "유한양행       0.060948\n",
       "CJ대한통운     0.031101\n",
       "두산         0.059352\n",
       "대림산업      -0.003484\n",
       "             ...   \n",
       "LF        -0.051020\n",
       "후성         0.073271\n",
       "SK이노베이션    0.018863\n",
       "CJ제일제당    -0.054422\n",
       "KB금융      -0.057263\n",
       "Length: 113, dtype: float64"
      ]
     },
     "metadata": {},
     "output_type": "display_data"
    },
    {
     "data": {
      "text/plain": [
       "삼양홀딩스     -0.126515\n",
       "유한양행       0.060948\n",
       "CJ대한통운     0.031101\n",
       "두산         0.059352\n",
       "대림산업      -0.003484\n",
       "             ...   \n",
       "LF        -0.051020\n",
       "후성         0.073271\n",
       "SK이노베이션    0.018863\n",
       "CJ제일제당    -0.054422\n",
       "KB금융      -0.057263\n",
       "Length: 113, dtype: float64"
      ]
     },
     "metadata": {},
     "output_type": "display_data"
    },
    {
     "data": {
      "text/plain": [
       "삼양홀딩스      0.004098\n",
       "유한양행      -0.055643\n",
       "CJ대한통운    -0.105863\n",
       "두산        -0.022110\n",
       "대림산업       0.056898\n",
       "             ...   \n",
       "LF         0.010209\n",
       "후성        -0.059366\n",
       "SK이노베이션   -0.020598\n",
       "CJ제일제당     0.028851\n",
       "KB금융      -0.030979\n",
       "Length: 113, dtype: float64"
      ]
     },
     "metadata": {},
     "output_type": "display_data"
    },
    {
     "data": {
      "text/plain": [
       "삼양홀딩스      0.004098\n",
       "유한양행      -0.055643\n",
       "CJ대한통운    -0.105863\n",
       "두산        -0.022110\n",
       "대림산업       0.056898\n",
       "             ...   \n",
       "LF         0.010209\n",
       "후성        -0.059366\n",
       "SK이노베이션   -0.020598\n",
       "CJ제일제당     0.028851\n",
       "KB금융      -0.030979\n",
       "Length: 113, dtype: float64"
      ]
     },
     "metadata": {},
     "output_type": "display_data"
    },
    {
     "data": {
      "text/plain": [
       "삼양홀딩스      0.004098\n",
       "유한양행      -0.055643\n",
       "CJ대한통운    -0.105863\n",
       "두산        -0.022110\n",
       "대림산업       0.056898\n",
       "             ...   \n",
       "LF         0.010209\n",
       "후성        -0.059366\n",
       "SK이노베이션   -0.020598\n",
       "CJ제일제당     0.028851\n",
       "KB금융      -0.030979\n",
       "Length: 113, dtype: float64"
      ]
     },
     "metadata": {},
     "output_type": "display_data"
    },
    {
     "data": {
      "text/plain": [
       "삼양홀딩스      0.004098\n",
       "유한양행      -0.055643\n",
       "CJ대한통운    -0.105863\n",
       "두산        -0.022110\n",
       "대림산업       0.056898\n",
       "             ...   \n",
       "LF         0.010209\n",
       "후성        -0.059366\n",
       "SK이노베이션   -0.020598\n",
       "CJ제일제당     0.028851\n",
       "KB금융      -0.030979\n",
       "Length: 113, dtype: float64"
      ]
     },
     "metadata": {},
     "output_type": "display_data"
    },
    {
     "data": {
      "text/plain": [
       "삼양홀딩스      0.004098\n",
       "유한양행      -0.055643\n",
       "CJ대한통운    -0.105863\n",
       "두산        -0.022110\n",
       "대림산업       0.056898\n",
       "             ...   \n",
       "LF         0.010209\n",
       "후성        -0.059366\n",
       "SK이노베이션   -0.020598\n",
       "CJ제일제당     0.028851\n",
       "KB금융      -0.030979\n",
       "Length: 113, dtype: float64"
      ]
     },
     "metadata": {},
     "output_type": "display_data"
    },
    {
     "data": {
      "text/plain": [
       "삼양홀딩스     -0.174210\n",
       "유한양행      -0.105028\n",
       "CJ대한통운    -0.039195\n",
       "두산        -0.187501\n",
       "대림산업      -0.155622\n",
       "             ...   \n",
       "LF        -0.097543\n",
       "후성        -0.110280\n",
       "SK이노베이션   -0.139943\n",
       "CJ제일제당     0.173055\n",
       "KB금융      -0.056075\n",
       "Length: 113, dtype: float64"
      ]
     },
     "metadata": {},
     "output_type": "display_data"
    },
    {
     "data": {
      "text/plain": [
       "삼양홀딩스     -0.174210\n",
       "유한양행      -0.105028\n",
       "CJ대한통운    -0.039195\n",
       "두산        -0.187501\n",
       "대림산업      -0.155622\n",
       "             ...   \n",
       "LF        -0.097543\n",
       "후성        -0.110280\n",
       "SK이노베이션   -0.139943\n",
       "CJ제일제당     0.173055\n",
       "KB금융      -0.056075\n",
       "Length: 113, dtype: float64"
      ]
     },
     "metadata": {},
     "output_type": "display_data"
    },
    {
     "data": {
      "text/plain": [
       "삼양홀딩스     -0.174210\n",
       "유한양행      -0.105028\n",
       "CJ대한통운    -0.039195\n",
       "두산        -0.187501\n",
       "대림산업      -0.155622\n",
       "             ...   \n",
       "LF        -0.097543\n",
       "후성        -0.110280\n",
       "SK이노베이션   -0.139943\n",
       "CJ제일제당     0.173055\n",
       "KB금융      -0.056075\n",
       "Length: 113, dtype: float64"
      ]
     },
     "metadata": {},
     "output_type": "display_data"
    },
    {
     "data": {
      "text/plain": [
       "삼양홀딩스     -0.174210\n",
       "유한양행      -0.105028\n",
       "CJ대한통운    -0.039195\n",
       "두산        -0.187501\n",
       "대림산업      -0.155622\n",
       "             ...   \n",
       "LF        -0.097543\n",
       "후성        -0.110280\n",
       "SK이노베이션   -0.139943\n",
       "CJ제일제당     0.173055\n",
       "KB금융      -0.056075\n",
       "Length: 113, dtype: float64"
      ]
     },
     "metadata": {},
     "output_type": "display_data"
    },
    {
     "data": {
      "text/plain": [
       "삼양홀딩스     -0.174210\n",
       "유한양행      -0.105028\n",
       "CJ대한통운    -0.039195\n",
       "두산        -0.187501\n",
       "대림산업      -0.155622\n",
       "             ...   \n",
       "LF        -0.097543\n",
       "후성        -0.110280\n",
       "SK이노베이션   -0.139943\n",
       "CJ제일제당     0.173055\n",
       "KB금융      -0.056075\n",
       "Length: 113, dtype: float64"
      ]
     },
     "metadata": {},
     "output_type": "display_data"
    },
    {
     "data": {
      "text/plain": [
       "삼양홀딩스      0.410844\n",
       "유한양행       0.229636\n",
       "CJ대한통운    -0.032943\n",
       "두산        -0.001536\n",
       "대림산업      -0.164968\n",
       "             ...   \n",
       "LF         0.110831\n",
       "후성         0.006127\n",
       "SK이노베이션   -0.115986\n",
       "CJ제일제당    -0.117697\n",
       "KB금융      -0.044826\n",
       "Length: 113, dtype: float64"
      ]
     },
     "metadata": {},
     "output_type": "display_data"
    },
    {
     "data": {
      "text/plain": [
       "삼양홀딩스      0.410844\n",
       "유한양행       0.229636\n",
       "CJ대한통운    -0.032943\n",
       "두산        -0.001536\n",
       "대림산업      -0.164968\n",
       "             ...   \n",
       "LF         0.110831\n",
       "후성         0.006127\n",
       "SK이노베이션   -0.115986\n",
       "CJ제일제당    -0.117697\n",
       "KB금융      -0.044826\n",
       "Length: 113, dtype: float64"
      ]
     },
     "metadata": {},
     "output_type": "display_data"
    },
    {
     "data": {
      "text/plain": [
       "삼양홀딩스      0.410844\n",
       "유한양행       0.229636\n",
       "CJ대한통운    -0.032943\n",
       "두산        -0.001536\n",
       "대림산업      -0.164968\n",
       "             ...   \n",
       "LF         0.110831\n",
       "후성         0.006127\n",
       "SK이노베이션   -0.115986\n",
       "CJ제일제당    -0.117697\n",
       "KB금융      -0.044826\n",
       "Length: 113, dtype: float64"
      ]
     },
     "metadata": {},
     "output_type": "display_data"
    },
    {
     "data": {
      "text/plain": [
       "삼양홀딩스      0.410844\n",
       "유한양행       0.229636\n",
       "CJ대한통운    -0.032943\n",
       "두산        -0.001536\n",
       "대림산업      -0.164968\n",
       "             ...   \n",
       "LF         0.110831\n",
       "후성         0.006127\n",
       "SK이노베이션   -0.115986\n",
       "CJ제일제당    -0.117697\n",
       "KB금융      -0.044826\n",
       "Length: 113, dtype: float64"
      ]
     },
     "metadata": {},
     "output_type": "display_data"
    },
    {
     "data": {
      "text/plain": [
       "삼양홀딩스      0.410844\n",
       "유한양행       0.229636\n",
       "CJ대한통운    -0.032943\n",
       "두산        -0.001536\n",
       "대림산업      -0.164968\n",
       "             ...   \n",
       "LF         0.110831\n",
       "후성         0.006127\n",
       "SK이노베이션   -0.115986\n",
       "CJ제일제당    -0.117697\n",
       "KB금융      -0.044826\n",
       "Length: 113, dtype: float64"
      ]
     },
     "metadata": {},
     "output_type": "display_data"
    },
    {
     "data": {
      "text/plain": [
       "삼양홀딩스     -0.006037\n",
       "유한양행      -0.071101\n",
       "CJ대한통운    -0.081296\n",
       "두산        -0.024977\n",
       "대림산업      -0.033889\n",
       "             ...   \n",
       "LF        -0.023271\n",
       "후성        -0.054781\n",
       "SK이노베이션   -0.105414\n",
       "CJ제일제당     0.142936\n",
       "KB금융      -0.106515\n",
       "Length: 113, dtype: float64"
      ]
     },
     "metadata": {},
     "output_type": "display_data"
    },
    {
     "data": {
      "text/plain": [
       "삼양홀딩스     -0.006037\n",
       "유한양행      -0.071101\n",
       "CJ대한통운    -0.081296\n",
       "두산        -0.024977\n",
       "대림산업      -0.033889\n",
       "             ...   \n",
       "LF        -0.023271\n",
       "후성        -0.054781\n",
       "SK이노베이션   -0.105414\n",
       "CJ제일제당     0.142936\n",
       "KB금융      -0.106515\n",
       "Length: 113, dtype: float64"
      ]
     },
     "metadata": {},
     "output_type": "display_data"
    },
    {
     "data": {
      "text/plain": [
       "삼양홀딩스     -0.006037\n",
       "유한양행      -0.071101\n",
       "CJ대한통운    -0.081296\n",
       "두산        -0.024977\n",
       "대림산업      -0.033889\n",
       "             ...   \n",
       "LF        -0.023271\n",
       "후성        -0.054781\n",
       "SK이노베이션   -0.105414\n",
       "CJ제일제당     0.142936\n",
       "KB금융      -0.106515\n",
       "Length: 113, dtype: float64"
      ]
     },
     "metadata": {},
     "output_type": "display_data"
    },
    {
     "data": {
      "text/plain": [
       "삼양홀딩스     -0.006037\n",
       "유한양행      -0.071101\n",
       "CJ대한통운    -0.081296\n",
       "두산        -0.024977\n",
       "대림산업      -0.033889\n",
       "             ...   \n",
       "LF        -0.023271\n",
       "후성        -0.054781\n",
       "SK이노베이션   -0.105414\n",
       "CJ제일제당     0.142936\n",
       "KB금융      -0.106515\n",
       "Length: 113, dtype: float64"
      ]
     },
     "metadata": {},
     "output_type": "display_data"
    },
    {
     "data": {
      "text/plain": [
       "삼양홀딩스     -0.006037\n",
       "유한양행      -0.071101\n",
       "CJ대한통운    -0.081296\n",
       "두산        -0.024977\n",
       "대림산업      -0.033889\n",
       "             ...   \n",
       "LF        -0.023271\n",
       "후성        -0.054781\n",
       "SK이노베이션   -0.105414\n",
       "CJ제일제당     0.142936\n",
       "KB금융      -0.106515\n",
       "Length: 113, dtype: float64"
      ]
     },
     "metadata": {},
     "output_type": "display_data"
    },
    {
     "data": {
      "text/plain": [
       "삼양홀딩스      0.065471\n",
       "유한양행       0.272931\n",
       "CJ대한통운     0.064271\n",
       "두산        -0.015667\n",
       "대림산업       0.209274\n",
       "             ...   \n",
       "LF         0.055706\n",
       "후성         0.259241\n",
       "SK이노베이션    0.075509\n",
       "CJ제일제당     0.103508\n",
       "KB금융      -0.009874\n",
       "Length: 113, dtype: float64"
      ]
     },
     "metadata": {},
     "output_type": "display_data"
    },
    {
     "data": {
      "text/plain": [
       "삼양홀딩스      0.065471\n",
       "유한양행       0.272931\n",
       "CJ대한통운     0.064271\n",
       "두산        -0.015667\n",
       "대림산업       0.209274\n",
       "             ...   \n",
       "LF         0.055706\n",
       "후성         0.259241\n",
       "SK이노베이션    0.075509\n",
       "CJ제일제당     0.103508\n",
       "KB금융      -0.009874\n",
       "Length: 113, dtype: float64"
      ]
     },
     "metadata": {},
     "output_type": "display_data"
    },
    {
     "data": {
      "text/plain": [
       "삼양홀딩스      0.065471\n",
       "유한양행       0.272931\n",
       "CJ대한통운     0.064271\n",
       "두산        -0.015667\n",
       "대림산업       0.209274\n",
       "             ...   \n",
       "LF         0.055706\n",
       "후성         0.259241\n",
       "SK이노베이션    0.075509\n",
       "CJ제일제당     0.103508\n",
       "KB금융      -0.009874\n",
       "Length: 113, dtype: float64"
      ]
     },
     "metadata": {},
     "output_type": "display_data"
    },
    {
     "data": {
      "text/plain": [
       "삼양홀딩스      0.065471\n",
       "유한양행       0.272931\n",
       "CJ대한통운     0.064271\n",
       "두산        -0.015667\n",
       "대림산업       0.209274\n",
       "             ...   \n",
       "LF         0.055706\n",
       "후성         0.259241\n",
       "SK이노베이션    0.075509\n",
       "CJ제일제당     0.103508\n",
       "KB금융      -0.009874\n",
       "Length: 113, dtype: float64"
      ]
     },
     "metadata": {},
     "output_type": "display_data"
    },
    {
     "data": {
      "text/plain": [
       "삼양홀딩스      0.065471\n",
       "유한양행       0.272931\n",
       "CJ대한통운     0.064271\n",
       "두산        -0.015667\n",
       "대림산업       0.209274\n",
       "             ...   \n",
       "LF         0.055706\n",
       "후성         0.259241\n",
       "SK이노베이션    0.075509\n",
       "CJ제일제당     0.103508\n",
       "KB금융      -0.009874\n",
       "Length: 113, dtype: float64"
      ]
     },
     "metadata": {},
     "output_type": "display_data"
    },
    {
     "data": {
      "text/plain": [
       "삼양홀딩스     -0.119877\n",
       "유한양행       0.080065\n",
       "CJ대한통운    -0.049087\n",
       "두산         0.367691\n",
       "대림산업       0.081212\n",
       "             ...   \n",
       "LF        -0.017478\n",
       "후성         0.273654\n",
       "SK이노베이션    0.023840\n",
       "CJ제일제당     0.002939\n",
       "KB금융       0.120972\n",
       "Length: 113, dtype: float64"
      ]
     },
     "metadata": {},
     "output_type": "display_data"
    },
    {
     "data": {
      "text/plain": [
       "삼양홀딩스     -0.119877\n",
       "유한양행       0.080065\n",
       "CJ대한통운    -0.049087\n",
       "두산         0.367691\n",
       "대림산업       0.081212\n",
       "             ...   \n",
       "LF        -0.017478\n",
       "후성         0.273654\n",
       "SK이노베이션    0.023840\n",
       "CJ제일제당     0.002939\n",
       "KB금융       0.120972\n",
       "Length: 113, dtype: float64"
      ]
     },
     "metadata": {},
     "output_type": "display_data"
    },
    {
     "data": {
      "text/plain": [
       "삼양홀딩스     -0.119877\n",
       "유한양행       0.080065\n",
       "CJ대한통운    -0.049087\n",
       "두산         0.367691\n",
       "대림산업       0.081212\n",
       "             ...   \n",
       "LF        -0.017478\n",
       "후성         0.273654\n",
       "SK이노베이션    0.023840\n",
       "CJ제일제당     0.002939\n",
       "KB금융       0.120972\n",
       "Length: 113, dtype: float64"
      ]
     },
     "metadata": {},
     "output_type": "display_data"
    },
    {
     "data": {
      "text/plain": [
       "삼양홀딩스     -0.119877\n",
       "유한양행       0.080065\n",
       "CJ대한통운    -0.049087\n",
       "두산         0.367691\n",
       "대림산업       0.081212\n",
       "             ...   \n",
       "LF        -0.017478\n",
       "후성         0.273654\n",
       "SK이노베이션    0.023840\n",
       "CJ제일제당     0.002939\n",
       "KB금융       0.120972\n",
       "Length: 113, dtype: float64"
      ]
     },
     "metadata": {},
     "output_type": "display_data"
    },
    {
     "data": {
      "text/plain": [
       "삼양홀딩스     -0.119877\n",
       "유한양행       0.080065\n",
       "CJ대한통운    -0.049087\n",
       "두산         0.367691\n",
       "대림산업       0.081212\n",
       "             ...   \n",
       "LF        -0.017478\n",
       "후성         0.273654\n",
       "SK이노베이션    0.023840\n",
       "CJ제일제당     0.002939\n",
       "KB금융       0.120972\n",
       "Length: 113, dtype: float64"
      ]
     },
     "metadata": {},
     "output_type": "display_data"
    },
    {
     "data": {
      "text/plain": [
       "삼양홀딩스      0.057081\n",
       "유한양행      -0.027307\n",
       "CJ대한통운    -0.092515\n",
       "두산        -0.044146\n",
       "대림산업      -0.097276\n",
       "             ...   \n",
       "LF         0.109850\n",
       "후성         0.009363\n",
       "SK이노베이션    0.041637\n",
       "CJ제일제당    -0.121158\n",
       "KB금융       0.005360\n",
       "Length: 113, dtype: float64"
      ]
     },
     "metadata": {},
     "output_type": "display_data"
    },
    {
     "data": {
      "text/plain": [
       "삼양홀딩스      0.057081\n",
       "유한양행      -0.027307\n",
       "CJ대한통운    -0.092515\n",
       "두산        -0.044146\n",
       "대림산업      -0.097276\n",
       "             ...   \n",
       "LF         0.109850\n",
       "후성         0.009363\n",
       "SK이노베이션    0.041637\n",
       "CJ제일제당    -0.121158\n",
       "KB금융       0.005360\n",
       "Length: 113, dtype: float64"
      ]
     },
     "metadata": {},
     "output_type": "display_data"
    },
    {
     "data": {
      "text/plain": [
       "삼양홀딩스      0.057081\n",
       "유한양행      -0.027307\n",
       "CJ대한통운    -0.092515\n",
       "두산        -0.044146\n",
       "대림산업      -0.097276\n",
       "             ...   \n",
       "LF         0.109850\n",
       "후성         0.009363\n",
       "SK이노베이션    0.041637\n",
       "CJ제일제당    -0.121158\n",
       "KB금융       0.005360\n",
       "Length: 113, dtype: float64"
      ]
     },
     "metadata": {},
     "output_type": "display_data"
    },
    {
     "data": {
      "text/plain": [
       "삼양홀딩스      0.057081\n",
       "유한양행      -0.027307\n",
       "CJ대한통운    -0.092515\n",
       "두산        -0.044146\n",
       "대림산업      -0.097276\n",
       "             ...   \n",
       "LF         0.109850\n",
       "후성         0.009363\n",
       "SK이노베이션    0.041637\n",
       "CJ제일제당    -0.121158\n",
       "KB금융       0.005360\n",
       "Length: 113, dtype: float64"
      ]
     },
     "metadata": {},
     "output_type": "display_data"
    },
    {
     "data": {
      "text/plain": [
       "삼양홀딩스      0.057081\n",
       "유한양행      -0.027307\n",
       "CJ대한통운    -0.092515\n",
       "두산        -0.044146\n",
       "대림산업      -0.097276\n",
       "             ...   \n",
       "LF         0.109850\n",
       "후성         0.009363\n",
       "SK이노베이션    0.041637\n",
       "CJ제일제당    -0.121158\n",
       "KB금융       0.005360\n",
       "Length: 113, dtype: float64"
      ]
     },
     "metadata": {},
     "output_type": "display_data"
    },
    {
     "data": {
      "text/plain": [
       "삼양홀딩스     -0.038083\n",
       "유한양행       0.062870\n",
       "CJ대한통운     0.141197\n",
       "두산         0.170658\n",
       "대림산업       0.120159\n",
       "             ...   \n",
       "LF        -0.066520\n",
       "후성        -0.031559\n",
       "SK이노베이션   -0.078035\n",
       "CJ제일제당    -0.020556\n",
       "KB금융      -0.076573\n",
       "Length: 113, dtype: float64"
      ]
     },
     "metadata": {},
     "output_type": "display_data"
    },
    {
     "data": {
      "text/plain": [
       "삼양홀딩스     -0.038083\n",
       "유한양행       0.062870\n",
       "CJ대한통운     0.141197\n",
       "두산         0.170658\n",
       "대림산업       0.120159\n",
       "             ...   \n",
       "LF        -0.066520\n",
       "후성        -0.031559\n",
       "SK이노베이션   -0.078035\n",
       "CJ제일제당    -0.020556\n",
       "KB금융      -0.076573\n",
       "Length: 113, dtype: float64"
      ]
     },
     "metadata": {},
     "output_type": "display_data"
    },
    {
     "data": {
      "text/plain": [
       "삼양홀딩스     -0.038083\n",
       "유한양행       0.062870\n",
       "CJ대한통운     0.141197\n",
       "두산         0.170658\n",
       "대림산업       0.120159\n",
       "             ...   \n",
       "LF        -0.066520\n",
       "후성        -0.031559\n",
       "SK이노베이션   -0.078035\n",
       "CJ제일제당    -0.020556\n",
       "KB금융      -0.076573\n",
       "Length: 113, dtype: float64"
      ]
     },
     "metadata": {},
     "output_type": "display_data"
    },
    {
     "data": {
      "text/plain": [
       "삼양홀딩스     -0.038083\n",
       "유한양행       0.062870\n",
       "CJ대한통운     0.141197\n",
       "두산         0.170658\n",
       "대림산업       0.120159\n",
       "             ...   \n",
       "LF        -0.066520\n",
       "후성        -0.031559\n",
       "SK이노베이션   -0.078035\n",
       "CJ제일제당    -0.020556\n",
       "KB금융      -0.076573\n",
       "Length: 113, dtype: float64"
      ]
     },
     "metadata": {},
     "output_type": "display_data"
    },
    {
     "data": {
      "text/plain": [
       "삼양홀딩스     -0.038083\n",
       "유한양행       0.062870\n",
       "CJ대한통운     0.141197\n",
       "두산         0.170658\n",
       "대림산업       0.120159\n",
       "             ...   \n",
       "LF        -0.066520\n",
       "후성        -0.031559\n",
       "SK이노베이션   -0.078035\n",
       "CJ제일제당    -0.020556\n",
       "KB금융      -0.076573\n",
       "Length: 113, dtype: float64"
      ]
     },
     "metadata": {},
     "output_type": "display_data"
    },
    {
     "data": {
      "text/plain": [
       "삼양홀딩스     -0.050720\n",
       "유한양행      -0.063059\n",
       "CJ대한통운    -0.174693\n",
       "두산         0.050022\n",
       "대림산업       0.030056\n",
       "             ...   \n",
       "LF        -0.023699\n",
       "후성        -0.018529\n",
       "SK이노베이션   -0.034114\n",
       "CJ제일제당    -0.027193\n",
       "KB금융       0.038586\n",
       "Length: 113, dtype: float64"
      ]
     },
     "metadata": {},
     "output_type": "display_data"
    },
    {
     "data": {
      "text/plain": [
       "삼양홀딩스     -0.050720\n",
       "유한양행      -0.063059\n",
       "CJ대한통운    -0.174693\n",
       "두산         0.050022\n",
       "대림산업       0.030056\n",
       "             ...   \n",
       "LF        -0.023699\n",
       "후성        -0.018529\n",
       "SK이노베이션   -0.034114\n",
       "CJ제일제당    -0.027193\n",
       "KB금융       0.038586\n",
       "Length: 113, dtype: float64"
      ]
     },
     "metadata": {},
     "output_type": "display_data"
    },
    {
     "data": {
      "text/plain": [
       "삼양홀딩스     -0.050720\n",
       "유한양행      -0.063059\n",
       "CJ대한통운    -0.174693\n",
       "두산         0.050022\n",
       "대림산업       0.030056\n",
       "             ...   \n",
       "LF        -0.023699\n",
       "후성        -0.018529\n",
       "SK이노베이션   -0.034114\n",
       "CJ제일제당    -0.027193\n",
       "KB금융       0.038586\n",
       "Length: 113, dtype: float64"
      ]
     },
     "metadata": {},
     "output_type": "display_data"
    },
    {
     "data": {
      "text/plain": [
       "삼양홀딩스     -0.050720\n",
       "유한양행      -0.063059\n",
       "CJ대한통운    -0.174693\n",
       "두산         0.050022\n",
       "대림산업       0.030056\n",
       "             ...   \n",
       "LF        -0.023699\n",
       "후성        -0.018529\n",
       "SK이노베이션   -0.034114\n",
       "CJ제일제당    -0.027193\n",
       "KB금융       0.038586\n",
       "Length: 113, dtype: float64"
      ]
     },
     "metadata": {},
     "output_type": "display_data"
    },
    {
     "data": {
      "text/plain": [
       "삼양홀딩스     -0.050720\n",
       "유한양행      -0.063059\n",
       "CJ대한통운    -0.174693\n",
       "두산         0.050022\n",
       "대림산업       0.030056\n",
       "             ...   \n",
       "LF        -0.023699\n",
       "후성        -0.018529\n",
       "SK이노베이션   -0.034114\n",
       "CJ제일제당    -0.027193\n",
       "KB금융       0.038586\n",
       "Length: 113, dtype: float64"
      ]
     },
     "metadata": {},
     "output_type": "display_data"
    },
    {
     "data": {
      "text/plain": [
       "삼양홀딩스     -0.218517\n",
       "유한양행       0.051556\n",
       "CJ대한통운    -0.167601\n",
       "두산        -0.203016\n",
       "대림산업      -0.130732\n",
       "             ...   \n",
       "LF        -0.178182\n",
       "후성        -0.143039\n",
       "SK이노베이션   -0.173199\n",
       "CJ제일제당     0.138018\n",
       "KB금융      -0.020734\n",
       "Length: 113, dtype: float64"
      ]
     },
     "metadata": {},
     "output_type": "display_data"
    },
    {
     "data": {
      "text/plain": [
       "삼양홀딩스     -0.218517\n",
       "유한양행       0.051556\n",
       "CJ대한통운    -0.167601\n",
       "두산        -0.203016\n",
       "대림산업      -0.130732\n",
       "             ...   \n",
       "LF        -0.178182\n",
       "후성        -0.143039\n",
       "SK이노베이션   -0.173199\n",
       "CJ제일제당     0.138018\n",
       "KB금융      -0.020734\n",
       "Length: 113, dtype: float64"
      ]
     },
     "metadata": {},
     "output_type": "display_data"
    },
    {
     "data": {
      "text/plain": [
       "삼양홀딩스     -0.218517\n",
       "유한양행       0.051556\n",
       "CJ대한통운    -0.167601\n",
       "두산        -0.203016\n",
       "대림산업      -0.130732\n",
       "             ...   \n",
       "LF        -0.178182\n",
       "후성        -0.143039\n",
       "SK이노베이션   -0.173199\n",
       "CJ제일제당     0.138018\n",
       "KB금융      -0.020734\n",
       "Length: 113, dtype: float64"
      ]
     },
     "metadata": {},
     "output_type": "display_data"
    },
    {
     "data": {
      "text/plain": [
       "삼양홀딩스     -0.218517\n",
       "유한양행       0.051556\n",
       "CJ대한통운    -0.167601\n",
       "두산        -0.203016\n",
       "대림산업      -0.130732\n",
       "             ...   \n",
       "LF        -0.178182\n",
       "후성        -0.143039\n",
       "SK이노베이션   -0.173199\n",
       "CJ제일제당     0.138018\n",
       "KB금융      -0.020734\n",
       "Length: 113, dtype: float64"
      ]
     },
     "metadata": {},
     "output_type": "display_data"
    },
    {
     "data": {
      "text/plain": [
       "삼양홀딩스     -0.218517\n",
       "유한양행       0.051556\n",
       "CJ대한통운    -0.167601\n",
       "두산        -0.203016\n",
       "대림산업      -0.130732\n",
       "             ...   \n",
       "LF        -0.178182\n",
       "후성        -0.143039\n",
       "SK이노베이션   -0.173199\n",
       "CJ제일제당     0.138018\n",
       "KB금융      -0.020734\n",
       "Length: 113, dtype: float64"
      ]
     },
     "metadata": {},
     "output_type": "display_data"
    },
    {
     "data": {
      "text/plain": [
       "삼양홀딩스      0.295406\n",
       "유한양행       0.061944\n",
       "CJ대한통운    -0.081747\n",
       "두산         0.126724\n",
       "대림산업       0.008751\n",
       "             ...   \n",
       "LF         0.075938\n",
       "후성         0.043459\n",
       "SK이노베이션   -0.138456\n",
       "CJ제일제당    -0.217053\n",
       "KB금융      -0.041395\n",
       "Length: 113, dtype: float64"
      ]
     },
     "metadata": {},
     "output_type": "display_data"
    },
    {
     "data": {
      "text/plain": [
       "삼양홀딩스      0.295406\n",
       "유한양행       0.061944\n",
       "CJ대한통운    -0.081747\n",
       "두산         0.126724\n",
       "대림산업       0.008751\n",
       "             ...   \n",
       "LF         0.075938\n",
       "후성         0.043459\n",
       "SK이노베이션   -0.138456\n",
       "CJ제일제당    -0.217053\n",
       "KB금융      -0.041395\n",
       "Length: 113, dtype: float64"
      ]
     },
     "metadata": {},
     "output_type": "display_data"
    },
    {
     "data": {
      "text/plain": [
       "삼양홀딩스      0.295406\n",
       "유한양행       0.061944\n",
       "CJ대한통운    -0.081747\n",
       "두산         0.126724\n",
       "대림산업       0.008751\n",
       "             ...   \n",
       "LF         0.075938\n",
       "후성         0.043459\n",
       "SK이노베이션   -0.138456\n",
       "CJ제일제당    -0.217053\n",
       "KB금융      -0.041395\n",
       "Length: 113, dtype: float64"
      ]
     },
     "metadata": {},
     "output_type": "display_data"
    },
    {
     "data": {
      "text/plain": [
       "삼양홀딩스      0.295406\n",
       "유한양행       0.061944\n",
       "CJ대한통운    -0.081747\n",
       "두산         0.126724\n",
       "대림산업       0.008751\n",
       "             ...   \n",
       "LF         0.075938\n",
       "후성         0.043459\n",
       "SK이노베이션   -0.138456\n",
       "CJ제일제당    -0.217053\n",
       "KB금융      -0.041395\n",
       "Length: 113, dtype: float64"
      ]
     },
     "metadata": {},
     "output_type": "display_data"
    },
    {
     "data": {
      "text/plain": [
       "삼양홀딩스      0.295406\n",
       "유한양행       0.061944\n",
       "CJ대한통운    -0.081747\n",
       "두산         0.126724\n",
       "대림산업       0.008751\n",
       "             ...   \n",
       "LF         0.075938\n",
       "후성         0.043459\n",
       "SK이노베이션   -0.138456\n",
       "CJ제일제당    -0.217053\n",
       "KB금융      -0.041395\n",
       "Length: 113, dtype: float64"
      ]
     },
     "metadata": {},
     "output_type": "display_data"
    },
    {
     "data": {
      "text/plain": [
       "삼양홀딩스     -0.018493\n",
       "유한양행      -0.113518\n",
       "CJ대한통운    -0.059998\n",
       "두산        -0.081823\n",
       "대림산업      -0.090241\n",
       "             ...   \n",
       "LF        -0.022325\n",
       "후성        -0.100627\n",
       "SK이노베이션   -0.206795\n",
       "CJ제일제당     0.194817\n",
       "KB금융      -0.133225\n",
       "Length: 113, dtype: float64"
      ]
     },
     "metadata": {},
     "output_type": "display_data"
    },
    {
     "data": {
      "text/plain": [
       "삼양홀딩스     -0.018493\n",
       "유한양행      -0.113518\n",
       "CJ대한통운    -0.059998\n",
       "두산        -0.081823\n",
       "대림산업      -0.090241\n",
       "             ...   \n",
       "LF        -0.022325\n",
       "후성        -0.100627\n",
       "SK이노베이션   -0.206795\n",
       "CJ제일제당     0.194817\n",
       "KB금융      -0.133225\n",
       "Length: 113, dtype: float64"
      ]
     },
     "metadata": {},
     "output_type": "display_data"
    },
    {
     "data": {
      "text/plain": [
       "삼양홀딩스     -0.018493\n",
       "유한양행      -0.113518\n",
       "CJ대한통운    -0.059998\n",
       "두산        -0.081823\n",
       "대림산업      -0.090241\n",
       "             ...   \n",
       "LF        -0.022325\n",
       "후성        -0.100627\n",
       "SK이노베이션   -0.206795\n",
       "CJ제일제당     0.194817\n",
       "KB금융      -0.133225\n",
       "Length: 113, dtype: float64"
      ]
     },
     "metadata": {},
     "output_type": "display_data"
    },
    {
     "data": {
      "text/plain": [
       "삼양홀딩스     -0.018493\n",
       "유한양행      -0.113518\n",
       "CJ대한통운    -0.059998\n",
       "두산        -0.081823\n",
       "대림산업      -0.090241\n",
       "             ...   \n",
       "LF        -0.022325\n",
       "후성        -0.100627\n",
       "SK이노베이션   -0.206795\n",
       "CJ제일제당     0.194817\n",
       "KB금융      -0.133225\n",
       "Length: 113, dtype: float64"
      ]
     },
     "metadata": {},
     "output_type": "display_data"
    },
    {
     "data": {
      "text/plain": [
       "삼양홀딩스     -0.018493\n",
       "유한양행      -0.113518\n",
       "CJ대한통운    -0.059998\n",
       "두산        -0.081823\n",
       "대림산업      -0.090241\n",
       "             ...   \n",
       "LF        -0.022325\n",
       "후성        -0.100627\n",
       "SK이노베이션   -0.206795\n",
       "CJ제일제당     0.194817\n",
       "KB금융      -0.133225\n",
       "Length: 113, dtype: float64"
      ]
     },
     "metadata": {},
     "output_type": "display_data"
    },
    {
     "data": {
      "text/plain": [
       "삼양홀딩스      0.155522\n",
       "유한양행       0.505971\n",
       "CJ대한통운    -0.000352\n",
       "두산        -0.073729\n",
       "대림산업       0.167337\n",
       "             ...   \n",
       "LF        -0.046081\n",
       "후성         0.240670\n",
       "SK이노베이션    0.050445\n",
       "CJ제일제당     0.104130\n",
       "KB금융      -0.003877\n",
       "Length: 113, dtype: float64"
      ]
     },
     "metadata": {},
     "output_type": "display_data"
    },
    {
     "data": {
      "text/plain": [
       "삼양홀딩스      0.155522\n",
       "유한양행       0.505971\n",
       "CJ대한통운    -0.000352\n",
       "두산        -0.073729\n",
       "대림산업       0.167337\n",
       "             ...   \n",
       "LF        -0.046081\n",
       "후성         0.240670\n",
       "SK이노베이션    0.050445\n",
       "CJ제일제당     0.104130\n",
       "KB금융      -0.003877\n",
       "Length: 113, dtype: float64"
      ]
     },
     "metadata": {},
     "output_type": "display_data"
    },
    {
     "data": {
      "text/plain": [
       "삼양홀딩스      0.155522\n",
       "유한양행       0.505971\n",
       "CJ대한통운    -0.000352\n",
       "두산        -0.073729\n",
       "대림산업       0.167337\n",
       "             ...   \n",
       "LF        -0.046081\n",
       "후성         0.240670\n",
       "SK이노베이션    0.050445\n",
       "CJ제일제당     0.104130\n",
       "KB금융      -0.003877\n",
       "Length: 113, dtype: float64"
      ]
     },
     "metadata": {},
     "output_type": "display_data"
    },
    {
     "data": {
      "text/plain": [
       "삼양홀딩스      0.155522\n",
       "유한양행       0.505971\n",
       "CJ대한통운    -0.000352\n",
       "두산        -0.073729\n",
       "대림산업       0.167337\n",
       "             ...   \n",
       "LF        -0.046081\n",
       "후성         0.240670\n",
       "SK이노베이션    0.050445\n",
       "CJ제일제당     0.104130\n",
       "KB금융      -0.003877\n",
       "Length: 113, dtype: float64"
      ]
     },
     "metadata": {},
     "output_type": "display_data"
    },
    {
     "data": {
      "text/plain": [
       "삼양홀딩스      0.155522\n",
       "유한양행       0.505971\n",
       "CJ대한통운    -0.000352\n",
       "두산        -0.073729\n",
       "대림산업       0.167337\n",
       "             ...   \n",
       "LF        -0.046081\n",
       "후성         0.240670\n",
       "SK이노베이션    0.050445\n",
       "CJ제일제당     0.104130\n",
       "KB금융      -0.003877\n",
       "Length: 113, dtype: float64"
      ]
     },
     "metadata": {},
     "output_type": "display_data"
    },
    {
     "data": {
      "text/plain": [
       "삼양홀딩스     -0.200414\n",
       "유한양행       0.180596\n",
       "CJ대한통운     0.052747\n",
       "두산         0.243908\n",
       "대림산업      -0.024219\n",
       "             ...   \n",
       "LF        -0.078284\n",
       "후성         0.377465\n",
       "SK이노베이션    0.087474\n",
       "CJ제일제당     0.015866\n",
       "KB금융       0.105759\n",
       "Length: 113, dtype: float64"
      ]
     },
     "metadata": {},
     "output_type": "display_data"
    },
    {
     "data": {
      "text/plain": [
       "삼양홀딩스     -0.200414\n",
       "유한양행       0.180596\n",
       "CJ대한통운     0.052747\n",
       "두산         0.243908\n",
       "대림산업      -0.024219\n",
       "             ...   \n",
       "LF        -0.078284\n",
       "후성         0.377465\n",
       "SK이노베이션    0.087474\n",
       "CJ제일제당     0.015866\n",
       "KB금융       0.105759\n",
       "Length: 113, dtype: float64"
      ]
     },
     "metadata": {},
     "output_type": "display_data"
    },
    {
     "data": {
      "text/plain": [
       "삼양홀딩스     -0.200414\n",
       "유한양행       0.180596\n",
       "CJ대한통운     0.052747\n",
       "두산         0.243908\n",
       "대림산업      -0.024219\n",
       "             ...   \n",
       "LF        -0.078284\n",
       "후성         0.377465\n",
       "SK이노베이션    0.087474\n",
       "CJ제일제당     0.015866\n",
       "KB금융       0.105759\n",
       "Length: 113, dtype: float64"
      ]
     },
     "metadata": {},
     "output_type": "display_data"
    },
    {
     "data": {
      "text/plain": [
       "삼양홀딩스     -0.200414\n",
       "유한양행       0.180596\n",
       "CJ대한통운     0.052747\n",
       "두산         0.243908\n",
       "대림산업      -0.024219\n",
       "             ...   \n",
       "LF        -0.078284\n",
       "후성         0.377465\n",
       "SK이노베이션    0.087474\n",
       "CJ제일제당     0.015866\n",
       "KB금융       0.105759\n",
       "Length: 113, dtype: float64"
      ]
     },
     "metadata": {},
     "output_type": "display_data"
    },
    {
     "data": {
      "text/plain": [
       "삼양홀딩스     -0.200414\n",
       "유한양행       0.180596\n",
       "CJ대한통운     0.052747\n",
       "두산         0.243908\n",
       "대림산업      -0.024219\n",
       "             ...   \n",
       "LF        -0.078284\n",
       "후성         0.377465\n",
       "SK이노베이션    0.087474\n",
       "CJ제일제당     0.015866\n",
       "KB금융       0.105759\n",
       "Length: 113, dtype: float64"
      ]
     },
     "metadata": {},
     "output_type": "display_data"
    },
    {
     "data": {
      "text/plain": [
       "삼양홀딩스      0.051074\n",
       "유한양행      -0.012086\n",
       "CJ대한통운    -0.011008\n",
       "두산         0.087621\n",
       "대림산업      -0.021349\n",
       "             ...   \n",
       "LF         0.253116\n",
       "후성         0.120223\n",
       "SK이노베이션   -0.030435\n",
       "CJ제일제당    -0.073259\n",
       "KB금융       0.014387\n",
       "Length: 113, dtype: float64"
      ]
     },
     "metadata": {},
     "output_type": "display_data"
    },
    {
     "data": {
      "text/plain": [
       "삼양홀딩스      0.051074\n",
       "유한양행      -0.012086\n",
       "CJ대한통운    -0.011008\n",
       "두산         0.087621\n",
       "대림산업      -0.021349\n",
       "             ...   \n",
       "LF         0.253116\n",
       "후성         0.120223\n",
       "SK이노베이션   -0.030435\n",
       "CJ제일제당    -0.073259\n",
       "KB금융       0.014387\n",
       "Length: 113, dtype: float64"
      ]
     },
     "metadata": {},
     "output_type": "display_data"
    },
    {
     "data": {
      "text/plain": [
       "삼양홀딩스      0.051074\n",
       "유한양행      -0.012086\n",
       "CJ대한통운    -0.011008\n",
       "두산         0.087621\n",
       "대림산업      -0.021349\n",
       "             ...   \n",
       "LF         0.253116\n",
       "후성         0.120223\n",
       "SK이노베이션   -0.030435\n",
       "CJ제일제당    -0.073259\n",
       "KB금융       0.014387\n",
       "Length: 113, dtype: float64"
      ]
     },
     "metadata": {},
     "output_type": "display_data"
    },
    {
     "data": {
      "text/plain": [
       "삼양홀딩스      0.051074\n",
       "유한양행      -0.012086\n",
       "CJ대한통운    -0.011008\n",
       "두산         0.087621\n",
       "대림산업      -0.021349\n",
       "             ...   \n",
       "LF         0.253116\n",
       "후성         0.120223\n",
       "SK이노베이션   -0.030435\n",
       "CJ제일제당    -0.073259\n",
       "KB금융       0.014387\n",
       "Length: 113, dtype: float64"
      ]
     },
     "metadata": {},
     "output_type": "display_data"
    },
    {
     "data": {
      "text/plain": [
       "삼양홀딩스      0.051074\n",
       "유한양행      -0.012086\n",
       "CJ대한통운    -0.011008\n",
       "두산         0.087621\n",
       "대림산업      -0.021349\n",
       "             ...   \n",
       "LF         0.253116\n",
       "후성         0.120223\n",
       "SK이노베이션   -0.030435\n",
       "CJ제일제당    -0.073259\n",
       "KB금융       0.014387\n",
       "Length: 113, dtype: float64"
      ]
     },
     "metadata": {},
     "output_type": "display_data"
    },
    {
     "data": {
      "text/plain": [
       "삼양홀딩스      0.031912\n",
       "유한양행       0.148736\n",
       "CJ대한통운     0.135221\n",
       "두산         0.051708\n",
       "대림산업       0.138082\n",
       "             ...   \n",
       "LF        -0.006933\n",
       "후성        -0.006704\n",
       "SK이노베이션    0.005831\n",
       "CJ제일제당     0.041557\n",
       "KB금융      -0.186580\n",
       "Length: 113, dtype: float64"
      ]
     },
     "metadata": {},
     "output_type": "display_data"
    },
    {
     "data": {
      "text/plain": [
       "삼양홀딩스      0.031912\n",
       "유한양행       0.148736\n",
       "CJ대한통운     0.135221\n",
       "두산         0.051708\n",
       "대림산업       0.138082\n",
       "             ...   \n",
       "LF        -0.006933\n",
       "후성        -0.006704\n",
       "SK이노베이션    0.005831\n",
       "CJ제일제당     0.041557\n",
       "KB금융      -0.186580\n",
       "Length: 113, dtype: float64"
      ]
     },
     "metadata": {},
     "output_type": "display_data"
    },
    {
     "data": {
      "text/plain": [
       "삼양홀딩스      0.031912\n",
       "유한양행       0.148736\n",
       "CJ대한통운     0.135221\n",
       "두산         0.051708\n",
       "대림산업       0.138082\n",
       "             ...   \n",
       "LF        -0.006933\n",
       "후성        -0.006704\n",
       "SK이노베이션    0.005831\n",
       "CJ제일제당     0.041557\n",
       "KB금융      -0.186580\n",
       "Length: 113, dtype: float64"
      ]
     },
     "metadata": {},
     "output_type": "display_data"
    },
    {
     "data": {
      "text/plain": [
       "삼양홀딩스      0.031912\n",
       "유한양행       0.148736\n",
       "CJ대한통운     0.135221\n",
       "두산         0.051708\n",
       "대림산업       0.138082\n",
       "             ...   \n",
       "LF        -0.006933\n",
       "후성        -0.006704\n",
       "SK이노베이션    0.005831\n",
       "CJ제일제당     0.041557\n",
       "KB금융      -0.186580\n",
       "Length: 113, dtype: float64"
      ]
     },
     "metadata": {},
     "output_type": "display_data"
    },
    {
     "data": {
      "text/plain": [
       "삼양홀딩스      0.031912\n",
       "유한양행       0.148736\n",
       "CJ대한통운     0.135221\n",
       "두산         0.051708\n",
       "대림산업       0.138082\n",
       "             ...   \n",
       "LF        -0.006933\n",
       "후성        -0.006704\n",
       "SK이노베이션    0.005831\n",
       "CJ제일제당     0.041557\n",
       "KB금융      -0.186580\n",
       "Length: 113, dtype: float64"
      ]
     },
     "metadata": {},
     "output_type": "display_data"
    },
    {
     "data": {
      "text/plain": [
       "삼양홀딩스     -0.077689\n",
       "유한양행       0.019803\n",
       "CJ대한통운    -0.097797\n",
       "두산         0.037189\n",
       "대림산업       0.188897\n",
       "             ...   \n",
       "LF        -0.081464\n",
       "후성        -0.048907\n",
       "SK이노베이션   -0.056779\n",
       "CJ제일제당    -0.065915\n",
       "KB금융       0.061767\n",
       "Length: 113, dtype: float64"
      ]
     },
     "metadata": {},
     "output_type": "display_data"
    },
    {
     "data": {
      "text/plain": [
       "삼양홀딩스     -0.077689\n",
       "유한양행       0.019803\n",
       "CJ대한통운    -0.097797\n",
       "두산         0.037189\n",
       "대림산업       0.188897\n",
       "             ...   \n",
       "LF        -0.081464\n",
       "후성        -0.048907\n",
       "SK이노베이션   -0.056779\n",
       "CJ제일제당    -0.065915\n",
       "KB금융       0.061767\n",
       "Length: 113, dtype: float64"
      ]
     },
     "metadata": {},
     "output_type": "display_data"
    },
    {
     "data": {
      "text/plain": [
       "삼양홀딩스     -0.077689\n",
       "유한양행       0.019803\n",
       "CJ대한통운    -0.097797\n",
       "두산         0.037189\n",
       "대림산업       0.188897\n",
       "             ...   \n",
       "LF        -0.081464\n",
       "후성        -0.048907\n",
       "SK이노베이션   -0.056779\n",
       "CJ제일제당    -0.065915\n",
       "KB금융       0.061767\n",
       "Length: 113, dtype: float64"
      ]
     },
     "metadata": {},
     "output_type": "display_data"
    },
    {
     "data": {
      "text/plain": [
       "삼양홀딩스     -0.077689\n",
       "유한양행       0.019803\n",
       "CJ대한통운    -0.097797\n",
       "두산         0.037189\n",
       "대림산업       0.188897\n",
       "             ...   \n",
       "LF        -0.081464\n",
       "후성        -0.048907\n",
       "SK이노베이션   -0.056779\n",
       "CJ제일제당    -0.065915\n",
       "KB금융       0.061767\n",
       "Length: 113, dtype: float64"
      ]
     },
     "metadata": {},
     "output_type": "display_data"
    },
    {
     "data": {
      "text/plain": [
       "삼양홀딩스     -0.077689\n",
       "유한양행       0.019803\n",
       "CJ대한통운    -0.097797\n",
       "두산         0.037189\n",
       "대림산업       0.188897\n",
       "             ...   \n",
       "LF        -0.081464\n",
       "후성        -0.048907\n",
       "SK이노베이션   -0.056779\n",
       "CJ제일제당    -0.065915\n",
       "KB금융       0.061767\n",
       "Length: 113, dtype: float64"
      ]
     },
     "metadata": {},
     "output_type": "display_data"
    },
    {
     "data": {
      "text/plain": [
       "삼양홀딩스     -0.280418\n",
       "유한양행       0.208250\n",
       "CJ대한통운     0.035545\n",
       "두산        -0.178406\n",
       "대림산업      -0.214125\n",
       "             ...   \n",
       "LF        -0.263302\n",
       "후성        -0.183640\n",
       "SK이노베이션   -0.185299\n",
       "CJ제일제당     0.095888\n",
       "KB금융      -0.023086\n",
       "Length: 113, dtype: float64"
      ]
     },
     "metadata": {},
     "output_type": "display_data"
    },
    {
     "data": {
      "text/plain": [
       "삼양홀딩스     -0.280418\n",
       "유한양행       0.208250\n",
       "CJ대한통운     0.035545\n",
       "두산        -0.178406\n",
       "대림산업      -0.214125\n",
       "             ...   \n",
       "LF        -0.263302\n",
       "후성        -0.183640\n",
       "SK이노베이션   -0.185299\n",
       "CJ제일제당     0.095888\n",
       "KB금융      -0.023086\n",
       "Length: 113, dtype: float64"
      ]
     },
     "metadata": {},
     "output_type": "display_data"
    },
    {
     "data": {
      "text/plain": [
       "삼양홀딩스     -0.280418\n",
       "유한양행       0.208250\n",
       "CJ대한통운     0.035545\n",
       "두산        -0.178406\n",
       "대림산업      -0.214125\n",
       "             ...   \n",
       "LF        -0.263302\n",
       "후성        -0.183640\n",
       "SK이노베이션   -0.185299\n",
       "CJ제일제당     0.095888\n",
       "KB금융      -0.023086\n",
       "Length: 113, dtype: float64"
      ]
     },
     "metadata": {},
     "output_type": "display_data"
    },
    {
     "data": {
      "text/plain": [
       "삼양홀딩스     -0.280418\n",
       "유한양행       0.208250\n",
       "CJ대한통운     0.035545\n",
       "두산        -0.178406\n",
       "대림산업      -0.214125\n",
       "             ...   \n",
       "LF        -0.263302\n",
       "후성        -0.183640\n",
       "SK이노베이션   -0.185299\n",
       "CJ제일제당     0.095888\n",
       "KB금융      -0.023086\n",
       "Length: 113, dtype: float64"
      ]
     },
     "metadata": {},
     "output_type": "display_data"
    },
    {
     "data": {
      "text/plain": [
       "삼양홀딩스     -0.280418\n",
       "유한양행       0.208250\n",
       "CJ대한통운     0.035545\n",
       "두산        -0.178406\n",
       "대림산업      -0.214125\n",
       "             ...   \n",
       "LF        -0.263302\n",
       "후성        -0.183640\n",
       "SK이노베이션   -0.185299\n",
       "CJ제일제당     0.095888\n",
       "KB금융      -0.023086\n",
       "Length: 113, dtype: float64"
      ]
     },
     "metadata": {},
     "output_type": "display_data"
    },
    {
     "data": {
      "text/plain": [
       "삼양홀딩스      0.376663\n",
       "유한양행       0.134099\n",
       "CJ대한통운    -0.083119\n",
       "두산         0.099514\n",
       "대림산업      -0.005429\n",
       "             ...   \n",
       "LF         0.045143\n",
       "후성        -0.079085\n",
       "SK이노베이션   -0.157691\n",
       "CJ제일제당    -0.259062\n",
       "KB금융      -0.044002\n",
       "Length: 113, dtype: float64"
      ]
     },
     "metadata": {},
     "output_type": "display_data"
    },
    {
     "data": {
      "text/plain": [
       "삼양홀딩스      0.376663\n",
       "유한양행       0.134099\n",
       "CJ대한통운    -0.083119\n",
       "두산         0.099514\n",
       "대림산업      -0.005429\n",
       "             ...   \n",
       "LF         0.045143\n",
       "후성        -0.079085\n",
       "SK이노베이션   -0.157691\n",
       "CJ제일제당    -0.259062\n",
       "KB금융      -0.044002\n",
       "Length: 113, dtype: float64"
      ]
     },
     "metadata": {},
     "output_type": "display_data"
    },
    {
     "data": {
      "text/plain": [
       "삼양홀딩스      0.376663\n",
       "유한양행       0.134099\n",
       "CJ대한통운    -0.083119\n",
       "두산         0.099514\n",
       "대림산업      -0.005429\n",
       "             ...   \n",
       "LF         0.045143\n",
       "후성        -0.079085\n",
       "SK이노베이션   -0.157691\n",
       "CJ제일제당    -0.259062\n",
       "KB금융      -0.044002\n",
       "Length: 113, dtype: float64"
      ]
     },
     "metadata": {},
     "output_type": "display_data"
    },
    {
     "data": {
      "text/plain": [
       "삼양홀딩스      0.376663\n",
       "유한양행       0.134099\n",
       "CJ대한통운    -0.083119\n",
       "두산         0.099514\n",
       "대림산업      -0.005429\n",
       "             ...   \n",
       "LF         0.045143\n",
       "후성        -0.079085\n",
       "SK이노베이션   -0.157691\n",
       "CJ제일제당    -0.259062\n",
       "KB금융      -0.044002\n",
       "Length: 113, dtype: float64"
      ]
     },
     "metadata": {},
     "output_type": "display_data"
    },
    {
     "data": {
      "text/plain": [
       "삼양홀딩스      0.376663\n",
       "유한양행       0.134099\n",
       "CJ대한통운    -0.083119\n",
       "두산         0.099514\n",
       "대림산업      -0.005429\n",
       "             ...   \n",
       "LF         0.045143\n",
       "후성        -0.079085\n",
       "SK이노베이션   -0.157691\n",
       "CJ제일제당    -0.259062\n",
       "KB금융      -0.044002\n",
       "Length: 113, dtype: float64"
      ]
     },
     "metadata": {},
     "output_type": "display_data"
    },
    {
     "data": {
      "text/plain": [
       "삼양홀딩스     -0.076813\n",
       "유한양행      -0.093758\n",
       "CJ대한통운    -0.004369\n",
       "두산        -0.101972\n",
       "대림산업      -0.050759\n",
       "             ...   \n",
       "LF        -0.012453\n",
       "후성        -0.057790\n",
       "SK이노베이션   -0.160619\n",
       "CJ제일제당     0.243608\n",
       "KB금융      -0.124339\n",
       "Length: 113, dtype: float64"
      ]
     },
     "metadata": {},
     "output_type": "display_data"
    },
    {
     "data": {
      "text/plain": [
       "삼양홀딩스     -0.076813\n",
       "유한양행      -0.093758\n",
       "CJ대한통운    -0.004369\n",
       "두산        -0.101972\n",
       "대림산업      -0.050759\n",
       "             ...   \n",
       "LF        -0.012453\n",
       "후성        -0.057790\n",
       "SK이노베이션   -0.160619\n",
       "CJ제일제당     0.243608\n",
       "KB금융      -0.124339\n",
       "Length: 113, dtype: float64"
      ]
     },
     "metadata": {},
     "output_type": "display_data"
    },
    {
     "data": {
      "text/plain": [
       "삼양홀딩스     -0.076813\n",
       "유한양행      -0.093758\n",
       "CJ대한통운    -0.004369\n",
       "두산        -0.101972\n",
       "대림산업      -0.050759\n",
       "             ...   \n",
       "LF        -0.012453\n",
       "후성        -0.057790\n",
       "SK이노베이션   -0.160619\n",
       "CJ제일제당     0.243608\n",
       "KB금융      -0.124339\n",
       "Length: 113, dtype: float64"
      ]
     },
     "metadata": {},
     "output_type": "display_data"
    },
    {
     "data": {
      "text/plain": [
       "삼양홀딩스     -0.076813\n",
       "유한양행      -0.093758\n",
       "CJ대한통운    -0.004369\n",
       "두산        -0.101972\n",
       "대림산업      -0.050759\n",
       "             ...   \n",
       "LF        -0.012453\n",
       "후성        -0.057790\n",
       "SK이노베이션   -0.160619\n",
       "CJ제일제당     0.243608\n",
       "KB금융      -0.124339\n",
       "Length: 113, dtype: float64"
      ]
     },
     "metadata": {},
     "output_type": "display_data"
    },
    {
     "data": {
      "text/plain": [
       "삼양홀딩스     -0.076813\n",
       "유한양행      -0.093758\n",
       "CJ대한통운    -0.004369\n",
       "두산        -0.101972\n",
       "대림산업      -0.050759\n",
       "             ...   \n",
       "LF        -0.012453\n",
       "후성        -0.057790\n",
       "SK이노베이션   -0.160619\n",
       "CJ제일제당     0.243608\n",
       "KB금융      -0.124339\n",
       "Length: 113, dtype: float64"
      ]
     },
     "metadata": {},
     "output_type": "display_data"
    },
    {
     "data": {
      "text/plain": [
       "삼양홀딩스      1.565724\n",
       "유한양행       0.589613\n",
       "CJ대한통운     0.063766\n",
       "두산        -0.089972\n",
       "대림산업       0.262641\n",
       "             ...   \n",
       "LF        -0.042112\n",
       "후성         0.417300\n",
       "SK이노베이션    0.175608\n",
       "CJ제일제당     0.225385\n",
       "KB금융      -0.057323\n",
       "Length: 113, dtype: float64"
      ]
     },
     "metadata": {},
     "output_type": "display_data"
    },
    {
     "data": {
      "text/plain": [
       "삼양홀딩스      1.565724\n",
       "유한양행       0.589613\n",
       "CJ대한통운     0.063766\n",
       "두산        -0.089972\n",
       "대림산업       0.262641\n",
       "             ...   \n",
       "LF        -0.042112\n",
       "후성         0.417300\n",
       "SK이노베이션    0.175608\n",
       "CJ제일제당     0.225385\n",
       "KB금융      -0.057323\n",
       "Length: 113, dtype: float64"
      ]
     },
     "metadata": {},
     "output_type": "display_data"
    },
    {
     "data": {
      "text/plain": [
       "삼양홀딩스      1.565724\n",
       "유한양행       0.589613\n",
       "CJ대한통운     0.063766\n",
       "두산        -0.089972\n",
       "대림산업       0.262641\n",
       "             ...   \n",
       "LF        -0.042112\n",
       "후성         0.417300\n",
       "SK이노베이션    0.175608\n",
       "CJ제일제당     0.225385\n",
       "KB금융      -0.057323\n",
       "Length: 113, dtype: float64"
      ]
     },
     "metadata": {},
     "output_type": "display_data"
    },
    {
     "data": {
      "text/plain": [
       "삼양홀딩스      1.565724\n",
       "유한양행       0.589613\n",
       "CJ대한통운     0.063766\n",
       "두산        -0.089972\n",
       "대림산업       0.262641\n",
       "             ...   \n",
       "LF        -0.042112\n",
       "후성         0.417300\n",
       "SK이노베이션    0.175608\n",
       "CJ제일제당     0.225385\n",
       "KB금융      -0.057323\n",
       "Length: 113, dtype: float64"
      ]
     },
     "metadata": {},
     "output_type": "display_data"
    },
    {
     "data": {
      "text/plain": [
       "삼양홀딩스      1.565724\n",
       "유한양행       0.589613\n",
       "CJ대한통운     0.063766\n",
       "두산        -0.089972\n",
       "대림산업       0.262641\n",
       "             ...   \n",
       "LF        -0.042112\n",
       "후성         0.417300\n",
       "SK이노베이션    0.175608\n",
       "CJ제일제당     0.225385\n",
       "KB금융      -0.057323\n",
       "Length: 113, dtype: float64"
      ]
     },
     "metadata": {},
     "output_type": "display_data"
    },
    {
     "data": {
      "text/plain": [
       "삼양홀딩스     -0.204675\n",
       "유한양행       0.136520\n",
       "CJ대한통운     0.065163\n",
       "두산         0.192380\n",
       "대림산업      -0.087830\n",
       "             ...   \n",
       "LF        -0.189229\n",
       "후성         0.366109\n",
       "SK이노베이션   -0.066870\n",
       "CJ제일제당     0.029156\n",
       "KB금융       0.055359\n",
       "Length: 113, dtype: float64"
      ]
     },
     "metadata": {},
     "output_type": "display_data"
    },
    {
     "data": {
      "text/plain": [
       "삼양홀딩스     -0.204675\n",
       "유한양행       0.136520\n",
       "CJ대한통운     0.065163\n",
       "두산         0.192380\n",
       "대림산업      -0.087830\n",
       "             ...   \n",
       "LF        -0.189229\n",
       "후성         0.366109\n",
       "SK이노베이션   -0.066870\n",
       "CJ제일제당     0.029156\n",
       "KB금융       0.055359\n",
       "Length: 113, dtype: float64"
      ]
     },
     "metadata": {},
     "output_type": "display_data"
    },
    {
     "data": {
      "text/plain": [
       "삼양홀딩스     -0.204675\n",
       "유한양행       0.136520\n",
       "CJ대한통운     0.065163\n",
       "두산         0.192380\n",
       "대림산업      -0.087830\n",
       "             ...   \n",
       "LF        -0.189229\n",
       "후성         0.366109\n",
       "SK이노베이션   -0.066870\n",
       "CJ제일제당     0.029156\n",
       "KB금융       0.055359\n",
       "Length: 113, dtype: float64"
      ]
     },
     "metadata": {},
     "output_type": "display_data"
    },
    {
     "data": {
      "text/plain": [
       "삼양홀딩스     -0.204675\n",
       "유한양행       0.136520\n",
       "CJ대한통운     0.065163\n",
       "두산         0.192380\n",
       "대림산업      -0.087830\n",
       "             ...   \n",
       "LF        -0.189229\n",
       "후성         0.366109\n",
       "SK이노베이션   -0.066870\n",
       "CJ제일제당     0.029156\n",
       "KB금융       0.055359\n",
       "Length: 113, dtype: float64"
      ]
     },
     "metadata": {},
     "output_type": "display_data"
    },
    {
     "data": {
      "text/plain": [
       "삼양홀딩스     -0.204675\n",
       "유한양행       0.136520\n",
       "CJ대한통운     0.065163\n",
       "두산         0.192380\n",
       "대림산업      -0.087830\n",
       "             ...   \n",
       "LF        -0.189229\n",
       "후성         0.366109\n",
       "SK이노베이션   -0.066870\n",
       "CJ제일제당     0.029156\n",
       "KB금융       0.055359\n",
       "Length: 113, dtype: float64"
      ]
     },
     "metadata": {},
     "output_type": "display_data"
    },
    {
     "data": {
      "text/plain": [
       "삼양홀딩스     -0.058230\n",
       "유한양행      -0.050466\n",
       "CJ대한통운    -0.093973\n",
       "두산         0.077426\n",
       "대림산업      -0.079533\n",
       "             ...   \n",
       "LF         0.227806\n",
       "후성         0.352309\n",
       "SK이노베이션   -0.111962\n",
       "CJ제일제당    -0.142305\n",
       "KB금융       0.066968\n",
       "Length: 113, dtype: float64"
      ]
     },
     "metadata": {},
     "output_type": "display_data"
    },
    {
     "data": {
      "text/plain": [
       "삼양홀딩스     -0.058230\n",
       "유한양행      -0.050466\n",
       "CJ대한통운    -0.093973\n",
       "두산         0.077426\n",
       "대림산업      -0.079533\n",
       "             ...   \n",
       "LF         0.227806\n",
       "후성         0.352309\n",
       "SK이노베이션   -0.111962\n",
       "CJ제일제당    -0.142305\n",
       "KB금융       0.066968\n",
       "Length: 113, dtype: float64"
      ]
     },
     "metadata": {},
     "output_type": "display_data"
    },
    {
     "data": {
      "text/plain": [
       "삼양홀딩스     -0.058230\n",
       "유한양행      -0.050466\n",
       "CJ대한통운    -0.093973\n",
       "두산         0.077426\n",
       "대림산업      -0.079533\n",
       "             ...   \n",
       "LF         0.227806\n",
       "후성         0.352309\n",
       "SK이노베이션   -0.111962\n",
       "CJ제일제당    -0.142305\n",
       "KB금융       0.066968\n",
       "Length: 113, dtype: float64"
      ]
     },
     "metadata": {},
     "output_type": "display_data"
    },
    {
     "data": {
      "text/plain": [
       "삼양홀딩스     -0.058230\n",
       "유한양행      -0.050466\n",
       "CJ대한통운    -0.093973\n",
       "두산         0.077426\n",
       "대림산업      -0.079533\n",
       "             ...   \n",
       "LF         0.227806\n",
       "후성         0.352309\n",
       "SK이노베이션   -0.111962\n",
       "CJ제일제당    -0.142305\n",
       "KB금융       0.066968\n",
       "Length: 113, dtype: float64"
      ]
     },
     "metadata": {},
     "output_type": "display_data"
    },
    {
     "data": {
      "text/plain": [
       "삼양홀딩스     -0.058230\n",
       "유한양행      -0.050466\n",
       "CJ대한통운    -0.093973\n",
       "두산         0.077426\n",
       "대림산업      -0.079533\n",
       "             ...   \n",
       "LF         0.227806\n",
       "후성         0.352309\n",
       "SK이노베이션   -0.111962\n",
       "CJ제일제당    -0.142305\n",
       "KB금융       0.066968\n",
       "Length: 113, dtype: float64"
      ]
     },
     "metadata": {},
     "output_type": "display_data"
    },
    {
     "data": {
      "text/plain": [
       "삼양홀딩스      0.112799\n",
       "유한양행       0.089182\n",
       "CJ대한통운     0.323488\n",
       "두산         0.085513\n",
       "대림산업       0.076021\n",
       "             ...   \n",
       "LF         0.003048\n",
       "후성         0.142707\n",
       "SK이노베이션    0.022773\n",
       "CJ제일제당     0.087093\n",
       "KB금융      -0.139220\n",
       "Length: 113, dtype: float64"
      ]
     },
     "metadata": {},
     "output_type": "display_data"
    },
    {
     "data": {
      "text/plain": [
       "삼양홀딩스      0.112799\n",
       "유한양행       0.089182\n",
       "CJ대한통운     0.323488\n",
       "두산         0.085513\n",
       "대림산업       0.076021\n",
       "             ...   \n",
       "LF         0.003048\n",
       "후성         0.142707\n",
       "SK이노베이션    0.022773\n",
       "CJ제일제당     0.087093\n",
       "KB금융      -0.139220\n",
       "Length: 113, dtype: float64"
      ]
     },
     "metadata": {},
     "output_type": "display_data"
    },
    {
     "data": {
      "text/plain": [
       "삼양홀딩스      0.112799\n",
       "유한양행       0.089182\n",
       "CJ대한통운     0.323488\n",
       "두산         0.085513\n",
       "대림산업       0.076021\n",
       "             ...   \n",
       "LF         0.003048\n",
       "후성         0.142707\n",
       "SK이노베이션    0.022773\n",
       "CJ제일제당     0.087093\n",
       "KB금융      -0.139220\n",
       "Length: 113, dtype: float64"
      ]
     },
     "metadata": {},
     "output_type": "display_data"
    },
    {
     "data": {
      "text/plain": [
       "삼양홀딩스      0.112799\n",
       "유한양행       0.089182\n",
       "CJ대한통운     0.323488\n",
       "두산         0.085513\n",
       "대림산업       0.076021\n",
       "             ...   \n",
       "LF         0.003048\n",
       "후성         0.142707\n",
       "SK이노베이션    0.022773\n",
       "CJ제일제당     0.087093\n",
       "KB금융      -0.139220\n",
       "Length: 113, dtype: float64"
      ]
     },
     "metadata": {},
     "output_type": "display_data"
    },
    {
     "data": {
      "text/plain": [
       "삼양홀딩스      0.112799\n",
       "유한양행       0.089182\n",
       "CJ대한통운     0.323488\n",
       "두산         0.085513\n",
       "대림산업       0.076021\n",
       "             ...   \n",
       "LF         0.003048\n",
       "후성         0.142707\n",
       "SK이노베이션    0.022773\n",
       "CJ제일제당     0.087093\n",
       "KB금융      -0.139220\n",
       "Length: 113, dtype: float64"
      ]
     },
     "metadata": {},
     "output_type": "display_data"
    },
    {
     "data": {
      "text/plain": [
       "삼양홀딩스     -0.107157\n",
       "유한양행      -0.042222\n",
       "CJ대한통운    -0.277299\n",
       "두산         0.055806\n",
       "대림산업       0.256542\n",
       "             ...   \n",
       "LF        -0.074878\n",
       "후성        -0.146460\n",
       "SK이노베이션   -0.136148\n",
       "CJ제일제당    -0.059994\n",
       "KB금융       0.056973\n",
       "Length: 113, dtype: float64"
      ]
     },
     "metadata": {},
     "output_type": "display_data"
    },
    {
     "data": {
      "text/plain": [
       "삼양홀딩스     -0.107157\n",
       "유한양행      -0.042222\n",
       "CJ대한통운    -0.277299\n",
       "두산         0.055806\n",
       "대림산업       0.256542\n",
       "             ...   \n",
       "LF        -0.074878\n",
       "후성        -0.146460\n",
       "SK이노베이션   -0.136148\n",
       "CJ제일제당    -0.059994\n",
       "KB금융       0.056973\n",
       "Length: 113, dtype: float64"
      ]
     },
     "metadata": {},
     "output_type": "display_data"
    },
    {
     "data": {
      "text/plain": [
       "삼양홀딩스     -0.107157\n",
       "유한양행      -0.042222\n",
       "CJ대한통운    -0.277299\n",
       "두산         0.055806\n",
       "대림산업       0.256542\n",
       "             ...   \n",
       "LF        -0.074878\n",
       "후성        -0.146460\n",
       "SK이노베이션   -0.136148\n",
       "CJ제일제당    -0.059994\n",
       "KB금융       0.056973\n",
       "Length: 113, dtype: float64"
      ]
     },
     "metadata": {},
     "output_type": "display_data"
    },
    {
     "data": {
      "text/plain": [
       "삼양홀딩스     -0.107157\n",
       "유한양행      -0.042222\n",
       "CJ대한통운    -0.277299\n",
       "두산         0.055806\n",
       "대림산업       0.256542\n",
       "             ...   \n",
       "LF        -0.074878\n",
       "후성        -0.146460\n",
       "SK이노베이션   -0.136148\n",
       "CJ제일제당    -0.059994\n",
       "KB금융       0.056973\n",
       "Length: 113, dtype: float64"
      ]
     },
     "metadata": {},
     "output_type": "display_data"
    },
    {
     "data": {
      "text/plain": [
       "삼양홀딩스     -0.107157\n",
       "유한양행      -0.042222\n",
       "CJ대한통운    -0.277299\n",
       "두산         0.055806\n",
       "대림산업       0.256542\n",
       "             ...   \n",
       "LF        -0.074878\n",
       "후성        -0.146460\n",
       "SK이노베이션   -0.136148\n",
       "CJ제일제당    -0.059994\n",
       "KB금융       0.056973\n",
       "Length: 113, dtype: float64"
      ]
     },
     "metadata": {},
     "output_type": "display_data"
    },
    {
     "data": {
      "text/plain": [
       "삼양홀딩스     -0.217851\n",
       "유한양행       0.095358\n",
       "CJ대한통운     0.104702\n",
       "두산        -0.176458\n",
       "대림산업      -0.251565\n",
       "             ...   \n",
       "LF        -0.320126\n",
       "후성        -0.302992\n",
       "SK이노베이션   -0.099523\n",
       "CJ제일제당    -0.086382\n",
       "KB금융      -0.063053\n",
       "Length: 113, dtype: float64"
      ]
     },
     "metadata": {},
     "output_type": "display_data"
    },
    {
     "data": {
      "text/plain": [
       "삼양홀딩스     -0.217851\n",
       "유한양행       0.095358\n",
       "CJ대한통운     0.104702\n",
       "두산        -0.176458\n",
       "대림산업      -0.251565\n",
       "             ...   \n",
       "LF        -0.320126\n",
       "후성        -0.302992\n",
       "SK이노베이션   -0.099523\n",
       "CJ제일제당    -0.086382\n",
       "KB금융      -0.063053\n",
       "Length: 113, dtype: float64"
      ]
     },
     "metadata": {},
     "output_type": "display_data"
    },
    {
     "data": {
      "text/plain": [
       "삼양홀딩스     -0.217851\n",
       "유한양행       0.095358\n",
       "CJ대한통운     0.104702\n",
       "두산        -0.176458\n",
       "대림산업      -0.251565\n",
       "             ...   \n",
       "LF        -0.320126\n",
       "후성        -0.302992\n",
       "SK이노베이션   -0.099523\n",
       "CJ제일제당    -0.086382\n",
       "KB금융      -0.063053\n",
       "Length: 113, dtype: float64"
      ]
     },
     "metadata": {},
     "output_type": "display_data"
    },
    {
     "data": {
      "text/plain": [
       "삼양홀딩스     -0.217851\n",
       "유한양행       0.095358\n",
       "CJ대한통운     0.104702\n",
       "두산        -0.176458\n",
       "대림산업      -0.251565\n",
       "             ...   \n",
       "LF        -0.320126\n",
       "후성        -0.302992\n",
       "SK이노베이션   -0.099523\n",
       "CJ제일제당    -0.086382\n",
       "KB금융      -0.063053\n",
       "Length: 113, dtype: float64"
      ]
     },
     "metadata": {},
     "output_type": "display_data"
    },
    {
     "data": {
      "text/plain": [
       "삼양홀딩스     -0.217851\n",
       "유한양행       0.095358\n",
       "CJ대한통운     0.104702\n",
       "두산        -0.176458\n",
       "대림산업      -0.251565\n",
       "             ...   \n",
       "LF        -0.320126\n",
       "후성        -0.302992\n",
       "SK이노베이션   -0.099523\n",
       "CJ제일제당    -0.086382\n",
       "KB금융      -0.063053\n",
       "Length: 113, dtype: float64"
      ]
     },
     "metadata": {},
     "output_type": "display_data"
    },
    {
     "data": {
      "text/plain": [
       "삼양홀딩스      0.328070\n",
       "유한양행       0.264432\n",
       "CJ대한통운    -0.077740\n",
       "두산         0.191391\n",
       "대림산업      -0.002175\n",
       "             ...   \n",
       "LF        -0.004998\n",
       "후성         0.070217\n",
       "SK이노베이션   -0.077280\n",
       "CJ제일제당    -0.208663\n",
       "KB금융      -0.028397\n",
       "Length: 113, dtype: float64"
      ]
     },
     "metadata": {},
     "output_type": "display_data"
    },
    {
     "data": {
      "text/plain": [
       "삼양홀딩스      0.328070\n",
       "유한양행       0.264432\n",
       "CJ대한통운    -0.077740\n",
       "두산         0.191391\n",
       "대림산업      -0.002175\n",
       "             ...   \n",
       "LF        -0.004998\n",
       "후성         0.070217\n",
       "SK이노베이션   -0.077280\n",
       "CJ제일제당    -0.208663\n",
       "KB금융      -0.028397\n",
       "Length: 113, dtype: float64"
      ]
     },
     "metadata": {},
     "output_type": "display_data"
    },
    {
     "data": {
      "text/plain": [
       "삼양홀딩스      0.328070\n",
       "유한양행       0.264432\n",
       "CJ대한통운    -0.077740\n",
       "두산         0.191391\n",
       "대림산업      -0.002175\n",
       "             ...   \n",
       "LF        -0.004998\n",
       "후성         0.070217\n",
       "SK이노베이션   -0.077280\n",
       "CJ제일제당    -0.208663\n",
       "KB금융      -0.028397\n",
       "Length: 113, dtype: float64"
      ]
     },
     "metadata": {},
     "output_type": "display_data"
    },
    {
     "data": {
      "text/plain": [
       "삼양홀딩스      0.328070\n",
       "유한양행       0.264432\n",
       "CJ대한통운    -0.077740\n",
       "두산         0.191391\n",
       "대림산업      -0.002175\n",
       "             ...   \n",
       "LF        -0.004998\n",
       "후성         0.070217\n",
       "SK이노베이션   -0.077280\n",
       "CJ제일제당    -0.208663\n",
       "KB금융      -0.028397\n",
       "Length: 113, dtype: float64"
      ]
     },
     "metadata": {},
     "output_type": "display_data"
    },
    {
     "data": {
      "text/plain": [
       "삼양홀딩스      0.328070\n",
       "유한양행       0.264432\n",
       "CJ대한통운    -0.077740\n",
       "두산         0.191391\n",
       "대림산업      -0.002175\n",
       "             ...   \n",
       "LF        -0.004998\n",
       "후성         0.070217\n",
       "SK이노베이션   -0.077280\n",
       "CJ제일제당    -0.208663\n",
       "KB금융      -0.028397\n",
       "Length: 113, dtype: float64"
      ]
     },
     "metadata": {},
     "output_type": "display_data"
    },
    {
     "data": {
      "text/plain": [
       "삼양홀딩스      0.002998\n",
       "유한양행      -0.144180\n",
       "CJ대한통운     0.079989\n",
       "두산        -0.143832\n",
       "대림산업       0.010340\n",
       "             ...   \n",
       "LF        -0.001601\n",
       "후성        -0.133683\n",
       "SK이노베이션   -0.257558\n",
       "CJ제일제당     0.160055\n",
       "KB금융      -0.033556\n",
       "Length: 113, dtype: float64"
      ]
     },
     "metadata": {},
     "output_type": "display_data"
    },
    {
     "data": {
      "text/plain": [
       "삼양홀딩스      0.002998\n",
       "유한양행      -0.144180\n",
       "CJ대한통운     0.079989\n",
       "두산        -0.143832\n",
       "대림산업       0.010340\n",
       "             ...   \n",
       "LF        -0.001601\n",
       "후성        -0.133683\n",
       "SK이노베이션   -0.257558\n",
       "CJ제일제당     0.160055\n",
       "KB금융      -0.033556\n",
       "Length: 113, dtype: float64"
      ]
     },
     "metadata": {},
     "output_type": "display_data"
    },
    {
     "data": {
      "text/plain": [
       "삼양홀딩스      0.002998\n",
       "유한양행      -0.144180\n",
       "CJ대한통운     0.079989\n",
       "두산        -0.143832\n",
       "대림산업       0.010340\n",
       "             ...   \n",
       "LF        -0.001601\n",
       "후성        -0.133683\n",
       "SK이노베이션   -0.257558\n",
       "CJ제일제당     0.160055\n",
       "KB금융      -0.033556\n",
       "Length: 113, dtype: float64"
      ]
     },
     "metadata": {},
     "output_type": "display_data"
    },
    {
     "data": {
      "text/plain": [
       "삼양홀딩스      0.002998\n",
       "유한양행      -0.144180\n",
       "CJ대한통운     0.079989\n",
       "두산        -0.143832\n",
       "대림산업       0.010340\n",
       "             ...   \n",
       "LF        -0.001601\n",
       "후성        -0.133683\n",
       "SK이노베이션   -0.257558\n",
       "CJ제일제당     0.160055\n",
       "KB금융      -0.033556\n",
       "Length: 113, dtype: float64"
      ]
     },
     "metadata": {},
     "output_type": "display_data"
    },
    {
     "data": {
      "text/plain": [
       "삼양홀딩스      0.002998\n",
       "유한양행      -0.144180\n",
       "CJ대한통운     0.079989\n",
       "두산        -0.143832\n",
       "대림산업       0.010340\n",
       "             ...   \n",
       "LF        -0.001601\n",
       "후성        -0.133683\n",
       "SK이노베이션   -0.257558\n",
       "CJ제일제당     0.160055\n",
       "KB금융      -0.033556\n",
       "Length: 113, dtype: float64"
      ]
     },
     "metadata": {},
     "output_type": "display_data"
    },
    {
     "data": {
      "text/plain": [
       "삼양홀딩스      1.168555\n",
       "유한양행       0.620002\n",
       "CJ대한통운    -0.029191\n",
       "두산        -0.116088\n",
       "대림산업       0.184532\n",
       "             ...   \n",
       "LF         0.140139\n",
       "후성         0.418077\n",
       "SK이노베이션   -0.009122\n",
       "CJ제일제당     0.176923\n",
       "KB금융      -0.029928\n",
       "Length: 113, dtype: float64"
      ]
     },
     "metadata": {},
     "output_type": "display_data"
    },
    {
     "data": {
      "text/plain": [
       "삼양홀딩스      1.168555\n",
       "유한양행       0.620002\n",
       "CJ대한통운    -0.029191\n",
       "두산        -0.116088\n",
       "대림산업       0.184532\n",
       "             ...   \n",
       "LF         0.140139\n",
       "후성         0.418077\n",
       "SK이노베이션   -0.009122\n",
       "CJ제일제당     0.176923\n",
       "KB금융      -0.029928\n",
       "Length: 113, dtype: float64"
      ]
     },
     "metadata": {},
     "output_type": "display_data"
    },
    {
     "data": {
      "text/plain": [
       "삼양홀딩스      1.168555\n",
       "유한양행       0.620002\n",
       "CJ대한통운    -0.029191\n",
       "두산        -0.116088\n",
       "대림산업       0.184532\n",
       "             ...   \n",
       "LF         0.140139\n",
       "후성         0.418077\n",
       "SK이노베이션   -0.009122\n",
       "CJ제일제당     0.176923\n",
       "KB금융      -0.029928\n",
       "Length: 113, dtype: float64"
      ]
     },
     "metadata": {},
     "output_type": "display_data"
    },
    {
     "data": {
      "text/plain": [
       "삼양홀딩스      1.168555\n",
       "유한양행       0.620002\n",
       "CJ대한통운    -0.029191\n",
       "두산        -0.116088\n",
       "대림산업       0.184532\n",
       "             ...   \n",
       "LF         0.140139\n",
       "후성         0.418077\n",
       "SK이노베이션   -0.009122\n",
       "CJ제일제당     0.176923\n",
       "KB금융      -0.029928\n",
       "Length: 113, dtype: float64"
      ]
     },
     "metadata": {},
     "output_type": "display_data"
    },
    {
     "data": {
      "text/plain": [
       "삼양홀딩스      1.168555\n",
       "유한양행       0.620002\n",
       "CJ대한통운    -0.029191\n",
       "두산        -0.116088\n",
       "대림산업       0.184532\n",
       "             ...   \n",
       "LF         0.140139\n",
       "후성         0.418077\n",
       "SK이노베이션   -0.009122\n",
       "CJ제일제당     0.176923\n",
       "KB금융      -0.029928\n",
       "Length: 113, dtype: float64"
      ]
     },
     "metadata": {},
     "output_type": "display_data"
    },
    {
     "data": {
      "text/plain": [
       "삼양홀딩스     -0.365264\n",
       "유한양행       0.102717\n",
       "CJ대한통운    -0.044064\n",
       "두산         0.398653\n",
       "대림산업      -0.021121\n",
       "             ...   \n",
       "LF        -0.224055\n",
       "후성         0.643811\n",
       "SK이노베이션   -0.058520\n",
       "CJ제일제당     0.010638\n",
       "KB금융       0.106317\n",
       "Length: 113, dtype: float64"
      ]
     },
     "metadata": {},
     "output_type": "display_data"
    },
    {
     "data": {
      "text/plain": [
       "삼양홀딩스     -0.365264\n",
       "유한양행       0.102717\n",
       "CJ대한통운    -0.044064\n",
       "두산         0.398653\n",
       "대림산업      -0.021121\n",
       "             ...   \n",
       "LF        -0.224055\n",
       "후성         0.643811\n",
       "SK이노베이션   -0.058520\n",
       "CJ제일제당     0.010638\n",
       "KB금융       0.106317\n",
       "Length: 113, dtype: float64"
      ]
     },
     "metadata": {},
     "output_type": "display_data"
    },
    {
     "data": {
      "text/plain": [
       "삼양홀딩스     -0.365264\n",
       "유한양행       0.102717\n",
       "CJ대한통운    -0.044064\n",
       "두산         0.398653\n",
       "대림산업      -0.021121\n",
       "             ...   \n",
       "LF        -0.224055\n",
       "후성         0.643811\n",
       "SK이노베이션   -0.058520\n",
       "CJ제일제당     0.010638\n",
       "KB금융       0.106317\n",
       "Length: 113, dtype: float64"
      ]
     },
     "metadata": {},
     "output_type": "display_data"
    },
    {
     "data": {
      "text/plain": [
       "삼양홀딩스     -0.365264\n",
       "유한양행       0.102717\n",
       "CJ대한통운    -0.044064\n",
       "두산         0.398653\n",
       "대림산업      -0.021121\n",
       "             ...   \n",
       "LF        -0.224055\n",
       "후성         0.643811\n",
       "SK이노베이션   -0.058520\n",
       "CJ제일제당     0.010638\n",
       "KB금융       0.106317\n",
       "Length: 113, dtype: float64"
      ]
     },
     "metadata": {},
     "output_type": "display_data"
    },
    {
     "data": {
      "text/plain": [
       "삼양홀딩스     -0.365264\n",
       "유한양행       0.102717\n",
       "CJ대한통운    -0.044064\n",
       "두산         0.398653\n",
       "대림산업      -0.021121\n",
       "             ...   \n",
       "LF        -0.224055\n",
       "후성         0.643811\n",
       "SK이노베이션   -0.058520\n",
       "CJ제일제당     0.010638\n",
       "KB금융       0.106317\n",
       "Length: 113, dtype: float64"
      ]
     },
     "metadata": {},
     "output_type": "display_data"
    },
    {
     "data": {
      "text/plain": [
       "삼양홀딩스     -0.125275\n",
       "유한양행      -0.094943\n",
       "CJ대한통운    -0.073134\n",
       "두산         0.058270\n",
       "대림산업      -0.060550\n",
       "             ...   \n",
       "LF         0.270498\n",
       "후성         0.398416\n",
       "SK이노베이션   -0.020476\n",
       "CJ제일제당    -0.130694\n",
       "KB금융       0.088380\n",
       "Length: 113, dtype: float64"
      ]
     },
     "metadata": {},
     "output_type": "display_data"
    },
    {
     "data": {
      "text/plain": [
       "삼양홀딩스     -0.125275\n",
       "유한양행      -0.094943\n",
       "CJ대한통운    -0.073134\n",
       "두산         0.058270\n",
       "대림산업      -0.060550\n",
       "             ...   \n",
       "LF         0.270498\n",
       "후성         0.398416\n",
       "SK이노베이션   -0.020476\n",
       "CJ제일제당    -0.130694\n",
       "KB금융       0.088380\n",
       "Length: 113, dtype: float64"
      ]
     },
     "metadata": {},
     "output_type": "display_data"
    },
    {
     "data": {
      "text/plain": [
       "삼양홀딩스     -0.125275\n",
       "유한양행      -0.094943\n",
       "CJ대한통운    -0.073134\n",
       "두산         0.058270\n",
       "대림산업      -0.060550\n",
       "             ...   \n",
       "LF         0.270498\n",
       "후성         0.398416\n",
       "SK이노베이션   -0.020476\n",
       "CJ제일제당    -0.130694\n",
       "KB금융       0.088380\n",
       "Length: 113, dtype: float64"
      ]
     },
     "metadata": {},
     "output_type": "display_data"
    },
    {
     "data": {
      "text/plain": [
       "삼양홀딩스     -0.125275\n",
       "유한양행      -0.094943\n",
       "CJ대한통운    -0.073134\n",
       "두산         0.058270\n",
       "대림산업      -0.060550\n",
       "             ...   \n",
       "LF         0.270498\n",
       "후성         0.398416\n",
       "SK이노베이션   -0.020476\n",
       "CJ제일제당    -0.130694\n",
       "KB금융       0.088380\n",
       "Length: 113, dtype: float64"
      ]
     },
     "metadata": {},
     "output_type": "display_data"
    },
    {
     "data": {
      "text/plain": [
       "삼양홀딩스     -0.125275\n",
       "유한양행      -0.094943\n",
       "CJ대한통운    -0.073134\n",
       "두산         0.058270\n",
       "대림산업      -0.060550\n",
       "             ...   \n",
       "LF         0.270498\n",
       "후성         0.398416\n",
       "SK이노베이션   -0.020476\n",
       "CJ제일제당    -0.130694\n",
       "KB금융       0.088380\n",
       "Length: 113, dtype: float64"
      ]
     },
     "metadata": {},
     "output_type": "display_data"
    },
    {
     "data": {
      "text/plain": [
       "삼양홀딩스      0.073541\n",
       "유한양행       0.125408\n",
       "CJ대한통운     0.198441\n",
       "두산         0.093441\n",
       "대림산업       0.111320\n",
       "             ...   \n",
       "LF        -0.011919\n",
       "후성         0.296470\n",
       "SK이노베이션    0.013096\n",
       "CJ제일제당     0.049916\n",
       "KB금융      -0.119736\n",
       "Length: 113, dtype: float64"
      ]
     },
     "metadata": {},
     "output_type": "display_data"
    },
    {
     "data": {
      "text/plain": [
       "삼양홀딩스      0.073541\n",
       "유한양행       0.125408\n",
       "CJ대한통운     0.198441\n",
       "두산         0.093441\n",
       "대림산업       0.111320\n",
       "             ...   \n",
       "LF        -0.011919\n",
       "후성         0.296470\n",
       "SK이노베이션    0.013096\n",
       "CJ제일제당     0.049916\n",
       "KB금융      -0.119736\n",
       "Length: 113, dtype: float64"
      ]
     },
     "metadata": {},
     "output_type": "display_data"
    },
    {
     "data": {
      "text/plain": [
       "삼양홀딩스      0.073541\n",
       "유한양행       0.125408\n",
       "CJ대한통운     0.198441\n",
       "두산         0.093441\n",
       "대림산업       0.111320\n",
       "             ...   \n",
       "LF        -0.011919\n",
       "후성         0.296470\n",
       "SK이노베이션    0.013096\n",
       "CJ제일제당     0.049916\n",
       "KB금융      -0.119736\n",
       "Length: 113, dtype: float64"
      ]
     },
     "metadata": {},
     "output_type": "display_data"
    },
    {
     "data": {
      "text/plain": [
       "삼양홀딩스      0.073541\n",
       "유한양행       0.125408\n",
       "CJ대한통운     0.198441\n",
       "두산         0.093441\n",
       "대림산업       0.111320\n",
       "             ...   \n",
       "LF        -0.011919\n",
       "후성         0.296470\n",
       "SK이노베이션    0.013096\n",
       "CJ제일제당     0.049916\n",
       "KB금융      -0.119736\n",
       "Length: 113, dtype: float64"
      ]
     },
     "metadata": {},
     "output_type": "display_data"
    },
    {
     "data": {
      "text/plain": [
       "삼양홀딩스      0.073541\n",
       "유한양행       0.125408\n",
       "CJ대한통운     0.198441\n",
       "두산         0.093441\n",
       "대림산업       0.111320\n",
       "             ...   \n",
       "LF        -0.011919\n",
       "후성         0.296470\n",
       "SK이노베이션    0.013096\n",
       "CJ제일제당     0.049916\n",
       "KB금융      -0.119736\n",
       "Length: 113, dtype: float64"
      ]
     },
     "metadata": {},
     "output_type": "display_data"
    },
    {
     "data": {
      "text/plain": [
       "삼양홀딩스     -0.120366\n",
       "유한양행      -0.116694\n",
       "CJ대한통운    -0.233772\n",
       "두산         0.148417\n",
       "대림산업       0.202193\n",
       "             ...   \n",
       "LF         0.026391\n",
       "후성         0.160765\n",
       "SK이노베이션   -0.031665\n",
       "CJ제일제당    -0.060926\n",
       "KB금융       0.041961\n",
       "Length: 113, dtype: float64"
      ]
     },
     "metadata": {},
     "output_type": "display_data"
    },
    {
     "data": {
      "text/plain": [
       "삼양홀딩스     -0.120366\n",
       "유한양행      -0.116694\n",
       "CJ대한통운    -0.233772\n",
       "두산         0.148417\n",
       "대림산업       0.202193\n",
       "             ...   \n",
       "LF         0.026391\n",
       "후성         0.160765\n",
       "SK이노베이션   -0.031665\n",
       "CJ제일제당    -0.060926\n",
       "KB금융       0.041961\n",
       "Length: 113, dtype: float64"
      ]
     },
     "metadata": {},
     "output_type": "display_data"
    },
    {
     "data": {
      "text/plain": [
       "삼양홀딩스     -0.120366\n",
       "유한양행      -0.116694\n",
       "CJ대한통운    -0.233772\n",
       "두산         0.148417\n",
       "대림산업       0.202193\n",
       "             ...   \n",
       "LF         0.026391\n",
       "후성         0.160765\n",
       "SK이노베이션   -0.031665\n",
       "CJ제일제당    -0.060926\n",
       "KB금융       0.041961\n",
       "Length: 113, dtype: float64"
      ]
     },
     "metadata": {},
     "output_type": "display_data"
    },
    {
     "data": {
      "text/plain": [
       "삼양홀딩스     -0.120366\n",
       "유한양행      -0.116694\n",
       "CJ대한통운    -0.233772\n",
       "두산         0.148417\n",
       "대림산업       0.202193\n",
       "             ...   \n",
       "LF         0.026391\n",
       "후성         0.160765\n",
       "SK이노베이션   -0.031665\n",
       "CJ제일제당    -0.060926\n",
       "KB금융       0.041961\n",
       "Length: 113, dtype: float64"
      ]
     },
     "metadata": {},
     "output_type": "display_data"
    },
    {
     "data": {
      "text/plain": [
       "삼양홀딩스     -0.120366\n",
       "유한양행      -0.116694\n",
       "CJ대한통운    -0.233772\n",
       "두산         0.148417\n",
       "대림산업       0.202193\n",
       "             ...   \n",
       "LF         0.026391\n",
       "후성         0.160765\n",
       "SK이노베이션   -0.031665\n",
       "CJ제일제당    -0.060926\n",
       "KB금융       0.041961\n",
       "Length: 113, dtype: float64"
      ]
     },
     "metadata": {},
     "output_type": "display_data"
    },
    {
     "data": {
      "text/plain": [
       "삼양홀딩스     -0.184211\n",
       "유한양행       0.179804\n",
       "CJ대한통운     0.212174\n",
       "두산        -0.160103\n",
       "대림산업      -0.242342\n",
       "             ...   \n",
       "LF        -0.166380\n",
       "후성        -0.041538\n",
       "SK이노베이션   -0.054713\n",
       "CJ제일제당     0.003076\n",
       "KB금융      -0.048899\n",
       "Length: 113, dtype: float64"
      ]
     },
     "metadata": {},
     "output_type": "display_data"
    },
    {
     "data": {
      "text/plain": [
       "삼양홀딩스     -0.184211\n",
       "유한양행       0.179804\n",
       "CJ대한통운     0.212174\n",
       "두산        -0.160103\n",
       "대림산업      -0.242342\n",
       "             ...   \n",
       "LF        -0.166380\n",
       "후성        -0.041538\n",
       "SK이노베이션   -0.054713\n",
       "CJ제일제당     0.003076\n",
       "KB금융      -0.048899\n",
       "Length: 113, dtype: float64"
      ]
     },
     "metadata": {},
     "output_type": "display_data"
    },
    {
     "data": {
      "text/plain": [
       "삼양홀딩스     -0.184211\n",
       "유한양행       0.179804\n",
       "CJ대한통운     0.212174\n",
       "두산        -0.160103\n",
       "대림산업      -0.242342\n",
       "             ...   \n",
       "LF        -0.166380\n",
       "후성        -0.041538\n",
       "SK이노베이션   -0.054713\n",
       "CJ제일제당     0.003076\n",
       "KB금융      -0.048899\n",
       "Length: 113, dtype: float64"
      ]
     },
     "metadata": {},
     "output_type": "display_data"
    },
    {
     "data": {
      "text/plain": [
       "삼양홀딩스     -0.184211\n",
       "유한양행       0.179804\n",
       "CJ대한통운     0.212174\n",
       "두산        -0.160103\n",
       "대림산업      -0.242342\n",
       "             ...   \n",
       "LF        -0.166380\n",
       "후성        -0.041538\n",
       "SK이노베이션   -0.054713\n",
       "CJ제일제당     0.003076\n",
       "KB금융      -0.048899\n",
       "Length: 113, dtype: float64"
      ]
     },
     "metadata": {},
     "output_type": "display_data"
    },
    {
     "data": {
      "text/plain": [
       "삼양홀딩스     -0.184211\n",
       "유한양행       0.179804\n",
       "CJ대한통운     0.212174\n",
       "두산        -0.160103\n",
       "대림산업      -0.242342\n",
       "             ...   \n",
       "LF        -0.166380\n",
       "후성        -0.041538\n",
       "SK이노베이션   -0.054713\n",
       "CJ제일제당     0.003076\n",
       "KB금융      -0.048899\n",
       "Length: 113, dtype: float64"
      ]
     },
     "metadata": {},
     "output_type": "display_data"
    },
    {
     "data": {
      "text/plain": [
       "삼양홀딩스      0.299537\n",
       "유한양행       0.158499\n",
       "CJ대한통운    -0.066266\n",
       "두산         0.139362\n",
       "대림산업      -0.034167\n",
       "             ...   \n",
       "LF        -0.081468\n",
       "후성        -0.039566\n",
       "SK이노베이션   -0.162790\n",
       "CJ제일제당    -0.300114\n",
       "KB금융      -0.040676\n",
       "Length: 113, dtype: float64"
      ]
     },
     "metadata": {},
     "output_type": "display_data"
    },
    {
     "data": {
      "text/plain": [
       "삼양홀딩스      0.299537\n",
       "유한양행       0.158499\n",
       "CJ대한통운    -0.066266\n",
       "두산         0.139362\n",
       "대림산업      -0.034167\n",
       "             ...   \n",
       "LF        -0.081468\n",
       "후성        -0.039566\n",
       "SK이노베이션   -0.162790\n",
       "CJ제일제당    -0.300114\n",
       "KB금융      -0.040676\n",
       "Length: 113, dtype: float64"
      ]
     },
     "metadata": {},
     "output_type": "display_data"
    },
    {
     "data": {
      "text/plain": [
       "삼양홀딩스      0.299537\n",
       "유한양행       0.158499\n",
       "CJ대한통운    -0.066266\n",
       "두산         0.139362\n",
       "대림산업      -0.034167\n",
       "             ...   \n",
       "LF        -0.081468\n",
       "후성        -0.039566\n",
       "SK이노베이션   -0.162790\n",
       "CJ제일제당    -0.300114\n",
       "KB금융      -0.040676\n",
       "Length: 113, dtype: float64"
      ]
     },
     "metadata": {},
     "output_type": "display_data"
    },
    {
     "data": {
      "text/plain": [
       "삼양홀딩스      0.299537\n",
       "유한양행       0.158499\n",
       "CJ대한통운    -0.066266\n",
       "두산         0.139362\n",
       "대림산업      -0.034167\n",
       "             ...   \n",
       "LF        -0.081468\n",
       "후성        -0.039566\n",
       "SK이노베이션   -0.162790\n",
       "CJ제일제당    -0.300114\n",
       "KB금융      -0.040676\n",
       "Length: 113, dtype: float64"
      ]
     },
     "metadata": {},
     "output_type": "display_data"
    },
    {
     "data": {
      "text/plain": [
       "삼양홀딩스      0.299537\n",
       "유한양행       0.158499\n",
       "CJ대한통운    -0.066266\n",
       "두산         0.139362\n",
       "대림산업      -0.034167\n",
       "             ...   \n",
       "LF        -0.081468\n",
       "후성        -0.039566\n",
       "SK이노베이션   -0.162790\n",
       "CJ제일제당    -0.300114\n",
       "KB금융      -0.040676\n",
       "Length: 113, dtype: float64"
      ]
     },
     "metadata": {},
     "output_type": "display_data"
    },
    {
     "data": {
      "text/plain": [
       "삼양홀딩스      0.107406\n",
       "유한양행      -0.150537\n",
       "CJ대한통운     0.258667\n",
       "두산        -0.151100\n",
       "대림산업      -0.035322\n",
       "             ...   \n",
       "LF         0.068275\n",
       "후성        -0.153794\n",
       "SK이노베이션   -0.314739\n",
       "CJ제일제당     0.337442\n",
       "KB금융       0.014953\n",
       "Length: 113, dtype: float64"
      ]
     },
     "metadata": {},
     "output_type": "display_data"
    },
    {
     "data": {
      "text/plain": [
       "삼양홀딩스      0.107406\n",
       "유한양행      -0.150537\n",
       "CJ대한통운     0.258667\n",
       "두산        -0.151100\n",
       "대림산업      -0.035322\n",
       "             ...   \n",
       "LF         0.068275\n",
       "후성        -0.153794\n",
       "SK이노베이션   -0.314739\n",
       "CJ제일제당     0.337442\n",
       "KB금융       0.014953\n",
       "Length: 113, dtype: float64"
      ]
     },
     "metadata": {},
     "output_type": "display_data"
    },
    {
     "data": {
      "text/plain": [
       "삼양홀딩스      0.107406\n",
       "유한양행      -0.150537\n",
       "CJ대한통운     0.258667\n",
       "두산        -0.151100\n",
       "대림산업      -0.035322\n",
       "             ...   \n",
       "LF         0.068275\n",
       "후성        -0.153794\n",
       "SK이노베이션   -0.314739\n",
       "CJ제일제당     0.337442\n",
       "KB금융       0.014953\n",
       "Length: 113, dtype: float64"
      ]
     },
     "metadata": {},
     "output_type": "display_data"
    },
    {
     "data": {
      "text/plain": [
       "삼양홀딩스      0.107406\n",
       "유한양행      -0.150537\n",
       "CJ대한통운     0.258667\n",
       "두산        -0.151100\n",
       "대림산업      -0.035322\n",
       "             ...   \n",
       "LF         0.068275\n",
       "후성        -0.153794\n",
       "SK이노베이션   -0.314739\n",
       "CJ제일제당     0.337442\n",
       "KB금융       0.014953\n",
       "Length: 113, dtype: float64"
      ]
     },
     "metadata": {},
     "output_type": "display_data"
    },
    {
     "data": {
      "text/plain": [
       "삼양홀딩스      0.107406\n",
       "유한양행      -0.150537\n",
       "CJ대한통운     0.258667\n",
       "두산        -0.151100\n",
       "대림산업      -0.035322\n",
       "             ...   \n",
       "LF         0.068275\n",
       "후성        -0.153794\n",
       "SK이노베이션   -0.314739\n",
       "CJ제일제당     0.337442\n",
       "KB금융       0.014953\n",
       "Length: 113, dtype: float64"
      ]
     },
     "metadata": {},
     "output_type": "display_data"
    },
    {
     "data": {
      "text/plain": [
       "삼양홀딩스      1.127634\n",
       "유한양행       0.569849\n",
       "CJ대한통운     0.056714\n",
       "두산        -0.067741\n",
       "대림산업       0.126247\n",
       "             ...   \n",
       "LF         0.116587\n",
       "후성         0.371464\n",
       "SK이노베이션    0.045463\n",
       "CJ제일제당     0.180346\n",
       "KB금융      -0.010129\n",
       "Length: 113, dtype: float64"
      ]
     },
     "metadata": {},
     "output_type": "display_data"
    },
    {
     "data": {
      "text/plain": [
       "삼양홀딩스      1.127634\n",
       "유한양행       0.569849\n",
       "CJ대한통운     0.056714\n",
       "두산        -0.067741\n",
       "대림산업       0.126247\n",
       "             ...   \n",
       "LF         0.116587\n",
       "후성         0.371464\n",
       "SK이노베이션    0.045463\n",
       "CJ제일제당     0.180346\n",
       "KB금융      -0.010129\n",
       "Length: 113, dtype: float64"
      ]
     },
     "metadata": {},
     "output_type": "display_data"
    },
    {
     "data": {
      "text/plain": [
       "삼양홀딩스      1.127634\n",
       "유한양행       0.569849\n",
       "CJ대한통운     0.056714\n",
       "두산        -0.067741\n",
       "대림산업       0.126247\n",
       "             ...   \n",
       "LF         0.116587\n",
       "후성         0.371464\n",
       "SK이노베이션    0.045463\n",
       "CJ제일제당     0.180346\n",
       "KB금융      -0.010129\n",
       "Length: 113, dtype: float64"
      ]
     },
     "metadata": {},
     "output_type": "display_data"
    },
    {
     "data": {
      "text/plain": [
       "삼양홀딩스      1.127634\n",
       "유한양행       0.569849\n",
       "CJ대한통운     0.056714\n",
       "두산        -0.067741\n",
       "대림산업       0.126247\n",
       "             ...   \n",
       "LF         0.116587\n",
       "후성         0.371464\n",
       "SK이노베이션    0.045463\n",
       "CJ제일제당     0.180346\n",
       "KB금융      -0.010129\n",
       "Length: 113, dtype: float64"
      ]
     },
     "metadata": {},
     "output_type": "display_data"
    },
    {
     "data": {
      "text/plain": [
       "삼양홀딩스      1.127634\n",
       "유한양행       0.569849\n",
       "CJ대한통운     0.056714\n",
       "두산        -0.067741\n",
       "대림산업       0.126247\n",
       "             ...   \n",
       "LF         0.116587\n",
       "후성         0.371464\n",
       "SK이노베이션    0.045463\n",
       "CJ제일제당     0.180346\n",
       "KB금융      -0.010129\n",
       "Length: 113, dtype: float64"
      ]
     },
     "metadata": {},
     "output_type": "display_data"
    },
    {
     "data": {
      "text/plain": [
       "삼양홀딩스     -0.382042\n",
       "유한양행       0.016709\n",
       "CJ대한통운    -0.062788\n",
       "두산         0.444035\n",
       "대림산업      -0.075080\n",
       "             ...   \n",
       "LF        -0.206436\n",
       "후성         0.453767\n",
       "SK이노베이션   -0.081413\n",
       "CJ제일제당    -0.021186\n",
       "KB금융       0.197160\n",
       "Length: 113, dtype: float64"
      ]
     },
     "metadata": {},
     "output_type": "display_data"
    },
    {
     "data": {
      "text/plain": [
       "삼양홀딩스     -0.382042\n",
       "유한양행       0.016709\n",
       "CJ대한통운    -0.062788\n",
       "두산         0.444035\n",
       "대림산업      -0.075080\n",
       "             ...   \n",
       "LF        -0.206436\n",
       "후성         0.453767\n",
       "SK이노베이션   -0.081413\n",
       "CJ제일제당    -0.021186\n",
       "KB금융       0.197160\n",
       "Length: 113, dtype: float64"
      ]
     },
     "metadata": {},
     "output_type": "display_data"
    },
    {
     "data": {
      "text/plain": [
       "삼양홀딩스     -0.382042\n",
       "유한양행       0.016709\n",
       "CJ대한통운    -0.062788\n",
       "두산         0.444035\n",
       "대림산업      -0.075080\n",
       "             ...   \n",
       "LF        -0.206436\n",
       "후성         0.453767\n",
       "SK이노베이션   -0.081413\n",
       "CJ제일제당    -0.021186\n",
       "KB금융       0.197160\n",
       "Length: 113, dtype: float64"
      ]
     },
     "metadata": {},
     "output_type": "display_data"
    },
    {
     "data": {
      "text/plain": [
       "삼양홀딩스     -0.382042\n",
       "유한양행       0.016709\n",
       "CJ대한통운    -0.062788\n",
       "두산         0.444035\n",
       "대림산업      -0.075080\n",
       "             ...   \n",
       "LF        -0.206436\n",
       "후성         0.453767\n",
       "SK이노베이션   -0.081413\n",
       "CJ제일제당    -0.021186\n",
       "KB금융       0.197160\n",
       "Length: 113, dtype: float64"
      ]
     },
     "metadata": {},
     "output_type": "display_data"
    },
    {
     "data": {
      "text/plain": [
       "삼양홀딩스     -0.382042\n",
       "유한양행       0.016709\n",
       "CJ대한통운    -0.062788\n",
       "두산         0.444035\n",
       "대림산업      -0.075080\n",
       "             ...   \n",
       "LF        -0.206436\n",
       "후성         0.453767\n",
       "SK이노베이션   -0.081413\n",
       "CJ제일제당    -0.021186\n",
       "KB금융       0.197160\n",
       "Length: 113, dtype: float64"
      ]
     },
     "metadata": {},
     "output_type": "display_data"
    },
    {
     "data": {
      "text/plain": [
       "삼양홀딩스     -0.171235\n",
       "유한양행      -0.117597\n",
       "CJ대한통운    -0.143326\n",
       "두산         0.170575\n",
       "대림산업      -0.124482\n",
       "             ...   \n",
       "LF         0.202121\n",
       "후성         0.453206\n",
       "SK이노베이션    0.067182\n",
       "CJ제일제당    -0.131570\n",
       "KB금융       0.036013\n",
       "Length: 113, dtype: float64"
      ]
     },
     "metadata": {},
     "output_type": "display_data"
    },
    {
     "data": {
      "text/plain": [
       "삼양홀딩스     -0.171235\n",
       "유한양행      -0.117597\n",
       "CJ대한통운    -0.143326\n",
       "두산         0.170575\n",
       "대림산업      -0.124482\n",
       "             ...   \n",
       "LF         0.202121\n",
       "후성         0.453206\n",
       "SK이노베이션    0.067182\n",
       "CJ제일제당    -0.131570\n",
       "KB금융       0.036013\n",
       "Length: 113, dtype: float64"
      ]
     },
     "metadata": {},
     "output_type": "display_data"
    },
    {
     "data": {
      "text/plain": [
       "삼양홀딩스     -0.171235\n",
       "유한양행      -0.117597\n",
       "CJ대한통운    -0.143326\n",
       "두산         0.170575\n",
       "대림산업      -0.124482\n",
       "             ...   \n",
       "LF         0.202121\n",
       "후성         0.453206\n",
       "SK이노베이션    0.067182\n",
       "CJ제일제당    -0.131570\n",
       "KB금융       0.036013\n",
       "Length: 113, dtype: float64"
      ]
     },
     "metadata": {},
     "output_type": "display_data"
    },
    {
     "data": {
      "text/plain": [
       "삼양홀딩스     -0.171235\n",
       "유한양행      -0.117597\n",
       "CJ대한통운    -0.143326\n",
       "두산         0.170575\n",
       "대림산업      -0.124482\n",
       "             ...   \n",
       "LF         0.202121\n",
       "후성         0.453206\n",
       "SK이노베이션    0.067182\n",
       "CJ제일제당    -0.131570\n",
       "KB금융       0.036013\n",
       "Length: 113, dtype: float64"
      ]
     },
     "metadata": {},
     "output_type": "display_data"
    },
    {
     "data": {
      "text/plain": [
       "삼양홀딩스     -0.171235\n",
       "유한양행      -0.117597\n",
       "CJ대한통운    -0.143326\n",
       "두산         0.170575\n",
       "대림산업      -0.124482\n",
       "             ...   \n",
       "LF         0.202121\n",
       "후성         0.453206\n",
       "SK이노베이션    0.067182\n",
       "CJ제일제당    -0.131570\n",
       "KB금융       0.036013\n",
       "Length: 113, dtype: float64"
      ]
     },
     "metadata": {},
     "output_type": "display_data"
    },
    {
     "data": {
      "text/plain": [
       "삼양홀딩스     -0.048561\n",
       "유한양행       0.195341\n",
       "CJ대한통운     0.211868\n",
       "두산         0.218593\n",
       "대림산업       0.149585\n",
       "             ...   \n",
       "LF        -0.053671\n",
       "후성         0.282764\n",
       "SK이노베이션   -0.024507\n",
       "CJ제일제당     0.053588\n",
       "KB금융      -0.158594\n",
       "Length: 113, dtype: float64"
      ]
     },
     "metadata": {},
     "output_type": "display_data"
    },
    {
     "data": {
      "text/plain": [
       "삼양홀딩스     -0.048561\n",
       "유한양행       0.195341\n",
       "CJ대한통운     0.211868\n",
       "두산         0.218593\n",
       "대림산업       0.149585\n",
       "             ...   \n",
       "LF        -0.053671\n",
       "후성         0.282764\n",
       "SK이노베이션   -0.024507\n",
       "CJ제일제당     0.053588\n",
       "KB금융      -0.158594\n",
       "Length: 113, dtype: float64"
      ]
     },
     "metadata": {},
     "output_type": "display_data"
    },
    {
     "data": {
      "text/plain": [
       "삼양홀딩스     -0.048561\n",
       "유한양행       0.195341\n",
       "CJ대한통운     0.211868\n",
       "두산         0.218593\n",
       "대림산업       0.149585\n",
       "             ...   \n",
       "LF        -0.053671\n",
       "후성         0.282764\n",
       "SK이노베이션   -0.024507\n",
       "CJ제일제당     0.053588\n",
       "KB금융      -0.158594\n",
       "Length: 113, dtype: float64"
      ]
     },
     "metadata": {},
     "output_type": "display_data"
    },
    {
     "data": {
      "text/plain": [
       "삼양홀딩스     -0.048561\n",
       "유한양행       0.195341\n",
       "CJ대한통운     0.211868\n",
       "두산         0.218593\n",
       "대림산업       0.149585\n",
       "             ...   \n",
       "LF        -0.053671\n",
       "후성         0.282764\n",
       "SK이노베이션   -0.024507\n",
       "CJ제일제당     0.053588\n",
       "KB금융      -0.158594\n",
       "Length: 113, dtype: float64"
      ]
     },
     "metadata": {},
     "output_type": "display_data"
    },
    {
     "data": {
      "text/plain": [
       "삼양홀딩스     -0.048561\n",
       "유한양행       0.195341\n",
       "CJ대한통운     0.211868\n",
       "두산         0.218593\n",
       "대림산업       0.149585\n",
       "             ...   \n",
       "LF        -0.053671\n",
       "후성         0.282764\n",
       "SK이노베이션   -0.024507\n",
       "CJ제일제당     0.053588\n",
       "KB금융      -0.158594\n",
       "Length: 113, dtype: float64"
      ]
     },
     "metadata": {},
     "output_type": "display_data"
    },
    {
     "data": {
      "text/plain": [
       "삼양홀딩스     -0.218105\n",
       "유한양행      -0.036368\n",
       "CJ대한통운    -0.177859\n",
       "두산         0.130818\n",
       "대림산업       0.145981\n",
       "             ...   \n",
       "LF        -0.168597\n",
       "후성         0.219435\n",
       "SK이노베이션   -0.038362\n",
       "CJ제일제당    -0.226307\n",
       "KB금융      -0.019757\n",
       "Length: 113, dtype: float64"
      ]
     },
     "metadata": {},
     "output_type": "display_data"
    },
    {
     "data": {
      "text/plain": [
       "삼양홀딩스     -0.218105\n",
       "유한양행      -0.036368\n",
       "CJ대한통운    -0.177859\n",
       "두산         0.130818\n",
       "대림산업       0.145981\n",
       "             ...   \n",
       "LF        -0.168597\n",
       "후성         0.219435\n",
       "SK이노베이션   -0.038362\n",
       "CJ제일제당    -0.226307\n",
       "KB금융      -0.019757\n",
       "Length: 113, dtype: float64"
      ]
     },
     "metadata": {},
     "output_type": "display_data"
    },
    {
     "data": {
      "text/plain": [
       "삼양홀딩스     -0.218105\n",
       "유한양행      -0.036368\n",
       "CJ대한통운    -0.177859\n",
       "두산         0.130818\n",
       "대림산업       0.145981\n",
       "             ...   \n",
       "LF        -0.168597\n",
       "후성         0.219435\n",
       "SK이노베이션   -0.038362\n",
       "CJ제일제당    -0.226307\n",
       "KB금융      -0.019757\n",
       "Length: 113, dtype: float64"
      ]
     },
     "metadata": {},
     "output_type": "display_data"
    },
    {
     "data": {
      "text/plain": [
       "삼양홀딩스     -0.218105\n",
       "유한양행      -0.036368\n",
       "CJ대한통운    -0.177859\n",
       "두산         0.130818\n",
       "대림산업       0.145981\n",
       "             ...   \n",
       "LF        -0.168597\n",
       "후성         0.219435\n",
       "SK이노베이션   -0.038362\n",
       "CJ제일제당    -0.226307\n",
       "KB금융      -0.019757\n",
       "Length: 113, dtype: float64"
      ]
     },
     "metadata": {},
     "output_type": "display_data"
    },
    {
     "data": {
      "text/plain": [
       "삼양홀딩스     -0.218105\n",
       "유한양행      -0.036368\n",
       "CJ대한통운    -0.177859\n",
       "두산         0.130818\n",
       "대림산업       0.145981\n",
       "             ...   \n",
       "LF        -0.168597\n",
       "후성         0.219435\n",
       "SK이노베이션   -0.038362\n",
       "CJ제일제당    -0.226307\n",
       "KB금융      -0.019757\n",
       "Length: 113, dtype: float64"
      ]
     },
     "metadata": {},
     "output_type": "display_data"
    },
    {
     "data": {
      "text/plain": [
       "삼양홀딩스     -0.088737\n",
       "유한양행       0.284064\n",
       "CJ대한통운     0.197606\n",
       "두산        -0.186044\n",
       "대림산업      -0.225003\n",
       "             ...   \n",
       "LF        -0.254760\n",
       "후성        -0.051042\n",
       "SK이노베이션   -0.069405\n",
       "CJ제일제당    -0.039889\n",
       "KB금융      -0.018637\n",
       "Length: 113, dtype: float64"
      ]
     },
     "metadata": {},
     "output_type": "display_data"
    },
    {
     "data": {
      "text/plain": [
       "삼양홀딩스     -0.088737\n",
       "유한양행       0.284064\n",
       "CJ대한통운     0.197606\n",
       "두산        -0.186044\n",
       "대림산업      -0.225003\n",
       "             ...   \n",
       "LF        -0.254760\n",
       "후성        -0.051042\n",
       "SK이노베이션   -0.069405\n",
       "CJ제일제당    -0.039889\n",
       "KB금융      -0.018637\n",
       "Length: 113, dtype: float64"
      ]
     },
     "metadata": {},
     "output_type": "display_data"
    },
    {
     "data": {
      "text/plain": [
       "삼양홀딩스     -0.088737\n",
       "유한양행       0.284064\n",
       "CJ대한통운     0.197606\n",
       "두산        -0.186044\n",
       "대림산업      -0.225003\n",
       "             ...   \n",
       "LF        -0.254760\n",
       "후성        -0.051042\n",
       "SK이노베이션   -0.069405\n",
       "CJ제일제당    -0.039889\n",
       "KB금융      -0.018637\n",
       "Length: 113, dtype: float64"
      ]
     },
     "metadata": {},
     "output_type": "display_data"
    },
    {
     "data": {
      "text/plain": [
       "삼양홀딩스     -0.088737\n",
       "유한양행       0.284064\n",
       "CJ대한통운     0.197606\n",
       "두산        -0.186044\n",
       "대림산업      -0.225003\n",
       "             ...   \n",
       "LF        -0.254760\n",
       "후성        -0.051042\n",
       "SK이노베이션   -0.069405\n",
       "CJ제일제당    -0.039889\n",
       "KB금융      -0.018637\n",
       "Length: 113, dtype: float64"
      ]
     },
     "metadata": {},
     "output_type": "display_data"
    },
    {
     "data": {
      "text/plain": [
       "삼양홀딩스     -0.088737\n",
       "유한양행       0.284064\n",
       "CJ대한통운     0.197606\n",
       "두산        -0.186044\n",
       "대림산업      -0.225003\n",
       "             ...   \n",
       "LF        -0.254760\n",
       "후성        -0.051042\n",
       "SK이노베이션   -0.069405\n",
       "CJ제일제당    -0.039889\n",
       "KB금융      -0.018637\n",
       "Length: 113, dtype: float64"
      ]
     },
     "metadata": {},
     "output_type": "display_data"
    },
    {
     "data": {
      "text/plain": [
       "삼양홀딩스      0.310626\n",
       "유한양행       0.117212\n",
       "CJ대한통운    -0.142047\n",
       "두산         0.197229\n",
       "대림산업       0.033093\n",
       "             ...   \n",
       "LF         0.035121\n",
       "후성        -0.022785\n",
       "SK이노베이션   -0.157259\n",
       "CJ제일제당    -0.266403\n",
       "KB금융      -0.024898\n",
       "Length: 113, dtype: float64"
      ]
     },
     "metadata": {},
     "output_type": "display_data"
    },
    {
     "data": {
      "text/plain": [
       "삼양홀딩스      0.310626\n",
       "유한양행       0.117212\n",
       "CJ대한통운    -0.142047\n",
       "두산         0.197229\n",
       "대림산업       0.033093\n",
       "             ...   \n",
       "LF         0.035121\n",
       "후성        -0.022785\n",
       "SK이노베이션   -0.157259\n",
       "CJ제일제당    -0.266403\n",
       "KB금융      -0.024898\n",
       "Length: 113, dtype: float64"
      ]
     },
     "metadata": {},
     "output_type": "display_data"
    },
    {
     "data": {
      "text/plain": [
       "삼양홀딩스      0.310626\n",
       "유한양행       0.117212\n",
       "CJ대한통운    -0.142047\n",
       "두산         0.197229\n",
       "대림산업       0.033093\n",
       "             ...   \n",
       "LF         0.035121\n",
       "후성        -0.022785\n",
       "SK이노베이션   -0.157259\n",
       "CJ제일제당    -0.266403\n",
       "KB금융      -0.024898\n",
       "Length: 113, dtype: float64"
      ]
     },
     "metadata": {},
     "output_type": "display_data"
    },
    {
     "data": {
      "text/plain": [
       "삼양홀딩스      0.310626\n",
       "유한양행       0.117212\n",
       "CJ대한통운    -0.142047\n",
       "두산         0.197229\n",
       "대림산업       0.033093\n",
       "             ...   \n",
       "LF         0.035121\n",
       "후성        -0.022785\n",
       "SK이노베이션   -0.157259\n",
       "CJ제일제당    -0.266403\n",
       "KB금융      -0.024898\n",
       "Length: 113, dtype: float64"
      ]
     },
     "metadata": {},
     "output_type": "display_data"
    },
    {
     "data": {
      "text/plain": [
       "삼양홀딩스      0.310626\n",
       "유한양행       0.117212\n",
       "CJ대한통운    -0.142047\n",
       "두산         0.197229\n",
       "대림산업       0.033093\n",
       "             ...   \n",
       "LF         0.035121\n",
       "후성        -0.022785\n",
       "SK이노베이션   -0.157259\n",
       "CJ제일제당    -0.266403\n",
       "KB금융      -0.024898\n",
       "Length: 113, dtype: float64"
      ]
     },
     "metadata": {},
     "output_type": "display_data"
    },
    {
     "data": {
      "text/plain": [
       "삼양홀딩스      0.190684\n",
       "유한양행      -0.056223\n",
       "CJ대한통운     0.400643\n",
       "두산        -0.245994\n",
       "대림산업      -0.138580\n",
       "             ...   \n",
       "LF         0.266855\n",
       "후성        -0.184086\n",
       "SK이노베이션   -0.389325\n",
       "CJ제일제당     0.416642\n",
       "KB금융      -0.026632\n",
       "Length: 113, dtype: float64"
      ]
     },
     "metadata": {},
     "output_type": "display_data"
    },
    {
     "data": {
      "text/plain": [
       "삼양홀딩스      0.190684\n",
       "유한양행      -0.056223\n",
       "CJ대한통운     0.400643\n",
       "두산        -0.245994\n",
       "대림산업      -0.138580\n",
       "             ...   \n",
       "LF         0.266855\n",
       "후성        -0.184086\n",
       "SK이노베이션   -0.389325\n",
       "CJ제일제당     0.416642\n",
       "KB금융      -0.026632\n",
       "Length: 113, dtype: float64"
      ]
     },
     "metadata": {},
     "output_type": "display_data"
    },
    {
     "data": {
      "text/plain": [
       "삼양홀딩스      0.190684\n",
       "유한양행      -0.056223\n",
       "CJ대한통운     0.400643\n",
       "두산        -0.245994\n",
       "대림산업      -0.138580\n",
       "             ...   \n",
       "LF         0.266855\n",
       "후성        -0.184086\n",
       "SK이노베이션   -0.389325\n",
       "CJ제일제당     0.416642\n",
       "KB금융      -0.026632\n",
       "Length: 113, dtype: float64"
      ]
     },
     "metadata": {},
     "output_type": "display_data"
    },
    {
     "data": {
      "text/plain": [
       "삼양홀딩스      0.190684\n",
       "유한양행      -0.056223\n",
       "CJ대한통운     0.400643\n",
       "두산        -0.245994\n",
       "대림산업      -0.138580\n",
       "             ...   \n",
       "LF         0.266855\n",
       "후성        -0.184086\n",
       "SK이노베이션   -0.389325\n",
       "CJ제일제당     0.416642\n",
       "KB금융      -0.026632\n",
       "Length: 113, dtype: float64"
      ]
     },
     "metadata": {},
     "output_type": "display_data"
    },
    {
     "data": {
      "text/plain": [
       "삼양홀딩스      0.190684\n",
       "유한양행      -0.056223\n",
       "CJ대한통운     0.400643\n",
       "두산        -0.245994\n",
       "대림산업      -0.138580\n",
       "             ...   \n",
       "LF         0.266855\n",
       "후성        -0.184086\n",
       "SK이노베이션   -0.389325\n",
       "CJ제일제당     0.416642\n",
       "KB금융      -0.026632\n",
       "Length: 113, dtype: float64"
      ]
     },
     "metadata": {},
     "output_type": "display_data"
    },
    {
     "data": {
      "text/plain": [
       "삼양홀딩스      0.594852\n",
       "유한양행       0.511289\n",
       "CJ대한통운     0.164378\n",
       "두산        -0.010880\n",
       "대림산업       0.105035\n",
       "             ...   \n",
       "LF         0.098019\n",
       "후성         0.381879\n",
       "SK이노베이션    0.009516\n",
       "CJ제일제당     0.125176\n",
       "KB금융      -0.042241\n",
       "Length: 113, dtype: float64"
      ]
     },
     "metadata": {},
     "output_type": "display_data"
    },
    {
     "data": {
      "text/plain": [
       "삼양홀딩스      0.594852\n",
       "유한양행       0.511289\n",
       "CJ대한통운     0.164378\n",
       "두산        -0.010880\n",
       "대림산업       0.105035\n",
       "             ...   \n",
       "LF         0.098019\n",
       "후성         0.381879\n",
       "SK이노베이션    0.009516\n",
       "CJ제일제당     0.125176\n",
       "KB금융      -0.042241\n",
       "Length: 113, dtype: float64"
      ]
     },
     "metadata": {},
     "output_type": "display_data"
    },
    {
     "data": {
      "text/plain": [
       "삼양홀딩스      0.594852\n",
       "유한양행       0.511289\n",
       "CJ대한통운     0.164378\n",
       "두산        -0.010880\n",
       "대림산업       0.105035\n",
       "             ...   \n",
       "LF         0.098019\n",
       "후성         0.381879\n",
       "SK이노베이션    0.009516\n",
       "CJ제일제당     0.125176\n",
       "KB금융      -0.042241\n",
       "Length: 113, dtype: float64"
      ]
     },
     "metadata": {},
     "output_type": "display_data"
    },
    {
     "data": {
      "text/plain": [
       "삼양홀딩스      0.594852\n",
       "유한양행       0.511289\n",
       "CJ대한통운     0.164378\n",
       "두산        -0.010880\n",
       "대림산업       0.105035\n",
       "             ...   \n",
       "LF         0.098019\n",
       "후성         0.381879\n",
       "SK이노베이션    0.009516\n",
       "CJ제일제당     0.125176\n",
       "KB금융      -0.042241\n",
       "Length: 113, dtype: float64"
      ]
     },
     "metadata": {},
     "output_type": "display_data"
    },
    {
     "data": {
      "text/plain": [
       "삼양홀딩스      0.594852\n",
       "유한양행       0.511289\n",
       "CJ대한통운     0.164378\n",
       "두산        -0.010880\n",
       "대림산업       0.105035\n",
       "             ...   \n",
       "LF         0.098019\n",
       "후성         0.381879\n",
       "SK이노베이션    0.009516\n",
       "CJ제일제당     0.125176\n",
       "KB금융      -0.042241\n",
       "Length: 113, dtype: float64"
      ]
     },
     "metadata": {},
     "output_type": "display_data"
    },
    {
     "data": {
      "text/plain": [
       "삼양홀딩스     -0.304464\n",
       "유한양행      -0.025329\n",
       "CJ대한통운     0.001123\n",
       "두산         0.226967\n",
       "대림산업      -0.057324\n",
       "             ...   \n",
       "LF        -0.196642\n",
       "후성         0.582057\n",
       "SK이노베이션    0.016107\n",
       "CJ제일제당    -0.090848\n",
       "KB금융       0.160459\n",
       "Length: 113, dtype: float64"
      ]
     },
     "metadata": {},
     "output_type": "display_data"
    },
    {
     "data": {
      "text/plain": [
       "삼양홀딩스     -0.304464\n",
       "유한양행      -0.025329\n",
       "CJ대한통운     0.001123\n",
       "두산         0.226967\n",
       "대림산업      -0.057324\n",
       "             ...   \n",
       "LF        -0.196642\n",
       "후성         0.582057\n",
       "SK이노베이션    0.016107\n",
       "CJ제일제당    -0.090848\n",
       "KB금융       0.160459\n",
       "Length: 113, dtype: float64"
      ]
     },
     "metadata": {},
     "output_type": "display_data"
    },
    {
     "data": {
      "text/plain": [
       "삼양홀딩스     -0.304464\n",
       "유한양행      -0.025329\n",
       "CJ대한통운     0.001123\n",
       "두산         0.226967\n",
       "대림산업      -0.057324\n",
       "             ...   \n",
       "LF        -0.196642\n",
       "후성         0.582057\n",
       "SK이노베이션    0.016107\n",
       "CJ제일제당    -0.090848\n",
       "KB금융       0.160459\n",
       "Length: 113, dtype: float64"
      ]
     },
     "metadata": {},
     "output_type": "display_data"
    },
    {
     "data": {
      "text/plain": [
       "삼양홀딩스     -0.304464\n",
       "유한양행      -0.025329\n",
       "CJ대한통운     0.001123\n",
       "두산         0.226967\n",
       "대림산업      -0.057324\n",
       "             ...   \n",
       "LF        -0.196642\n",
       "후성         0.582057\n",
       "SK이노베이션    0.016107\n",
       "CJ제일제당    -0.090848\n",
       "KB금융       0.160459\n",
       "Length: 113, dtype: float64"
      ]
     },
     "metadata": {},
     "output_type": "display_data"
    },
    {
     "data": {
      "text/plain": [
       "삼양홀딩스     -0.304464\n",
       "유한양행      -0.025329\n",
       "CJ대한통운     0.001123\n",
       "두산         0.226967\n",
       "대림산업      -0.057324\n",
       "             ...   \n",
       "LF        -0.196642\n",
       "후성         0.582057\n",
       "SK이노베이션    0.016107\n",
       "CJ제일제당    -0.090848\n",
       "KB금융       0.160459\n",
       "Length: 113, dtype: float64"
      ]
     },
     "metadata": {},
     "output_type": "display_data"
    },
    {
     "data": {
      "text/plain": [
       "삼양홀딩스     -0.332265\n",
       "유한양행      -0.214143\n",
       "CJ대한통운    -0.192769\n",
       "두산         0.265410\n",
       "대림산업      -0.185359\n",
       "             ...   \n",
       "LF         0.032248\n",
       "후성         0.284580\n",
       "SK이노베이션    0.097728\n",
       "CJ제일제당    -0.172506\n",
       "KB금융       0.022973\n",
       "Length: 113, dtype: float64"
      ]
     },
     "metadata": {},
     "output_type": "display_data"
    },
    {
     "data": {
      "text/plain": [
       "삼양홀딩스     -0.332265\n",
       "유한양행      -0.214143\n",
       "CJ대한통운    -0.192769\n",
       "두산         0.265410\n",
       "대림산업      -0.185359\n",
       "             ...   \n",
       "LF         0.032248\n",
       "후성         0.284580\n",
       "SK이노베이션    0.097728\n",
       "CJ제일제당    -0.172506\n",
       "KB금융       0.022973\n",
       "Length: 113, dtype: float64"
      ]
     },
     "metadata": {},
     "output_type": "display_data"
    },
    {
     "data": {
      "text/plain": [
       "삼양홀딩스     -0.332265\n",
       "유한양행      -0.214143\n",
       "CJ대한통운    -0.192769\n",
       "두산         0.265410\n",
       "대림산업      -0.185359\n",
       "             ...   \n",
       "LF         0.032248\n",
       "후성         0.284580\n",
       "SK이노베이션    0.097728\n",
       "CJ제일제당    -0.172506\n",
       "KB금융       0.022973\n",
       "Length: 113, dtype: float64"
      ]
     },
     "metadata": {},
     "output_type": "display_data"
    },
    {
     "data": {
      "text/plain": [
       "삼양홀딩스     -0.332265\n",
       "유한양행      -0.214143\n",
       "CJ대한통운    -0.192769\n",
       "두산         0.265410\n",
       "대림산업      -0.185359\n",
       "             ...   \n",
       "LF         0.032248\n",
       "후성         0.284580\n",
       "SK이노베이션    0.097728\n",
       "CJ제일제당    -0.172506\n",
       "KB금융       0.022973\n",
       "Length: 113, dtype: float64"
      ]
     },
     "metadata": {},
     "output_type": "display_data"
    },
    {
     "data": {
      "text/plain": [
       "삼양홀딩스     -0.332265\n",
       "유한양행      -0.214143\n",
       "CJ대한통운    -0.192769\n",
       "두산         0.265410\n",
       "대림산업      -0.185359\n",
       "             ...   \n",
       "LF         0.032248\n",
       "후성         0.284580\n",
       "SK이노베이션    0.097728\n",
       "CJ제일제당    -0.172506\n",
       "KB금융       0.022973\n",
       "Length: 113, dtype: float64"
      ]
     },
     "metadata": {},
     "output_type": "display_data"
    },
    {
     "data": {
      "text/plain": [
       "삼양홀딩스     -0.055450\n",
       "유한양행       0.209997\n",
       "CJ대한통운     0.239431\n",
       "두산         0.417408\n",
       "대림산업       0.157282\n",
       "             ...   \n",
       "LF        -0.073687\n",
       "후성         0.175739\n",
       "SK이노베이션    0.084445\n",
       "CJ제일제당     0.023380\n",
       "KB금융      -0.119581\n",
       "Length: 113, dtype: float64"
      ]
     },
     "metadata": {},
     "output_type": "display_data"
    },
    {
     "data": {
      "text/plain": [
       "삼양홀딩스     -0.055450\n",
       "유한양행       0.209997\n",
       "CJ대한통운     0.239431\n",
       "두산         0.417408\n",
       "대림산업       0.157282\n",
       "             ...   \n",
       "LF        -0.073687\n",
       "후성         0.175739\n",
       "SK이노베이션    0.084445\n",
       "CJ제일제당     0.023380\n",
       "KB금융      -0.119581\n",
       "Length: 113, dtype: float64"
      ]
     },
     "metadata": {},
     "output_type": "display_data"
    },
    {
     "data": {
      "text/plain": [
       "삼양홀딩스     -0.055450\n",
       "유한양행       0.209997\n",
       "CJ대한통운     0.239431\n",
       "두산         0.417408\n",
       "대림산업       0.157282\n",
       "             ...   \n",
       "LF        -0.073687\n",
       "후성         0.175739\n",
       "SK이노베이션    0.084445\n",
       "CJ제일제당     0.023380\n",
       "KB금융      -0.119581\n",
       "Length: 113, dtype: float64"
      ]
     },
     "metadata": {},
     "output_type": "display_data"
    },
    {
     "data": {
      "text/plain": [
       "삼양홀딩스     -0.055450\n",
       "유한양행       0.209997\n",
       "CJ대한통운     0.239431\n",
       "두산         0.417408\n",
       "대림산업       0.157282\n",
       "             ...   \n",
       "LF        -0.073687\n",
       "후성         0.175739\n",
       "SK이노베이션    0.084445\n",
       "CJ제일제당     0.023380\n",
       "KB금융      -0.119581\n",
       "Length: 113, dtype: float64"
      ]
     },
     "metadata": {},
     "output_type": "display_data"
    },
    {
     "data": {
      "text/plain": [
       "삼양홀딩스     -0.055450\n",
       "유한양행       0.209997\n",
       "CJ대한통운     0.239431\n",
       "두산         0.417408\n",
       "대림산업       0.157282\n",
       "             ...   \n",
       "LF        -0.073687\n",
       "후성         0.175739\n",
       "SK이노베이션    0.084445\n",
       "CJ제일제당     0.023380\n",
       "KB금융      -0.119581\n",
       "Length: 113, dtype: float64"
      ]
     },
     "metadata": {},
     "output_type": "display_data"
    },
    {
     "data": {
      "text/plain": [
       "삼양홀딩스     -0.262337\n",
       "유한양행      -0.092020\n",
       "CJ대한통운    -0.213895\n",
       "두산         0.129476\n",
       "대림산업       0.153953\n",
       "             ...   \n",
       "LF        -0.176555\n",
       "후성         0.075339\n",
       "SK이노베이션   -0.084229\n",
       "CJ제일제당    -0.248513\n",
       "KB금융      -0.001247\n",
       "Length: 113, dtype: float64"
      ]
     },
     "metadata": {},
     "output_type": "display_data"
    },
    {
     "data": {
      "text/plain": [
       "삼양홀딩스     -0.262337\n",
       "유한양행      -0.092020\n",
       "CJ대한통운    -0.213895\n",
       "두산         0.129476\n",
       "대림산업       0.153953\n",
       "             ...   \n",
       "LF        -0.176555\n",
       "후성         0.075339\n",
       "SK이노베이션   -0.084229\n",
       "CJ제일제당    -0.248513\n",
       "KB금융      -0.001247\n",
       "Length: 113, dtype: float64"
      ]
     },
     "metadata": {},
     "output_type": "display_data"
    },
    {
     "data": {
      "text/plain": [
       "삼양홀딩스     -0.262337\n",
       "유한양행      -0.092020\n",
       "CJ대한통운    -0.213895\n",
       "두산         0.129476\n",
       "대림산업       0.153953\n",
       "             ...   \n",
       "LF        -0.176555\n",
       "후성         0.075339\n",
       "SK이노베이션   -0.084229\n",
       "CJ제일제당    -0.248513\n",
       "KB금융      -0.001247\n",
       "Length: 113, dtype: float64"
      ]
     },
     "metadata": {},
     "output_type": "display_data"
    },
    {
     "data": {
      "text/plain": [
       "삼양홀딩스     -0.262337\n",
       "유한양행      -0.092020\n",
       "CJ대한통운    -0.213895\n",
       "두산         0.129476\n",
       "대림산업       0.153953\n",
       "             ...   \n",
       "LF        -0.176555\n",
       "후성         0.075339\n",
       "SK이노베이션   -0.084229\n",
       "CJ제일제당    -0.248513\n",
       "KB금융      -0.001247\n",
       "Length: 113, dtype: float64"
      ]
     },
     "metadata": {},
     "output_type": "display_data"
    },
    {
     "data": {
      "text/plain": [
       "삼양홀딩스     -0.262337\n",
       "유한양행      -0.092020\n",
       "CJ대한통운    -0.213895\n",
       "두산         0.129476\n",
       "대림산업       0.153953\n",
       "             ...   \n",
       "LF        -0.176555\n",
       "후성         0.075339\n",
       "SK이노베이션   -0.084229\n",
       "CJ제일제당    -0.248513\n",
       "KB금융      -0.001247\n",
       "Length: 113, dtype: float64"
      ]
     },
     "metadata": {},
     "output_type": "display_data"
    },
    {
     "data": {
      "text/plain": [
       "삼양홀딩스      0.032978\n",
       "유한양행       0.657733\n",
       "CJ대한통운     0.469052\n",
       "두산        -0.217093\n",
       "대림산업      -0.348561\n",
       "             ...   \n",
       "LF        -0.234915\n",
       "후성        -0.221623\n",
       "SK이노베이션   -0.070063\n",
       "CJ제일제당     0.120312\n",
       "KB금융      -0.037996\n",
       "Length: 113, dtype: float64"
      ]
     },
     "metadata": {},
     "output_type": "display_data"
    },
    {
     "data": {
      "text/plain": [
       "삼양홀딩스      0.032978\n",
       "유한양행       0.657733\n",
       "CJ대한통운     0.469052\n",
       "두산        -0.217093\n",
       "대림산업      -0.348561\n",
       "             ...   \n",
       "LF        -0.234915\n",
       "후성        -0.221623\n",
       "SK이노베이션   -0.070063\n",
       "CJ제일제당     0.120312\n",
       "KB금융      -0.037996\n",
       "Length: 113, dtype: float64"
      ]
     },
     "metadata": {},
     "output_type": "display_data"
    },
    {
     "data": {
      "text/plain": [
       "삼양홀딩스      0.032978\n",
       "유한양행       0.657733\n",
       "CJ대한통운     0.469052\n",
       "두산        -0.217093\n",
       "대림산업      -0.348561\n",
       "             ...   \n",
       "LF        -0.234915\n",
       "후성        -0.221623\n",
       "SK이노베이션   -0.070063\n",
       "CJ제일제당     0.120312\n",
       "KB금융      -0.037996\n",
       "Length: 113, dtype: float64"
      ]
     },
     "metadata": {},
     "output_type": "display_data"
    },
    {
     "data": {
      "text/plain": [
       "삼양홀딩스      0.032978\n",
       "유한양행       0.657733\n",
       "CJ대한통운     0.469052\n",
       "두산        -0.217093\n",
       "대림산업      -0.348561\n",
       "             ...   \n",
       "LF        -0.234915\n",
       "후성        -0.221623\n",
       "SK이노베이션   -0.070063\n",
       "CJ제일제당     0.120312\n",
       "KB금융      -0.037996\n",
       "Length: 113, dtype: float64"
      ]
     },
     "metadata": {},
     "output_type": "display_data"
    },
    {
     "data": {
      "text/plain": [
       "삼양홀딩스      0.032978\n",
       "유한양행       0.657733\n",
       "CJ대한통운     0.469052\n",
       "두산        -0.217093\n",
       "대림산업      -0.348561\n",
       "             ...   \n",
       "LF        -0.234915\n",
       "후성        -0.221623\n",
       "SK이노베이션   -0.070063\n",
       "CJ제일제당     0.120312\n",
       "KB금융      -0.037996\n",
       "Length: 113, dtype: float64"
      ]
     },
     "metadata": {},
     "output_type": "display_data"
    },
    {
     "data": {
      "text/plain": [
       "삼양홀딩스      0.273166\n",
       "유한양행       0.041111\n",
       "CJ대한통운    -0.196182\n",
       "두산         0.100931\n",
       "대림산업       0.026142\n",
       "             ...   \n",
       "LF         0.088523\n",
       "후성        -0.145047\n",
       "SK이노베이션   -0.158966\n",
       "CJ제일제당    -0.332998\n",
       "KB금융       0.065557\n",
       "Length: 113, dtype: float64"
      ]
     },
     "metadata": {},
     "output_type": "display_data"
    },
    {
     "data": {
      "text/plain": [
       "삼양홀딩스      0.273166\n",
       "유한양행       0.041111\n",
       "CJ대한통운    -0.196182\n",
       "두산         0.100931\n",
       "대림산업       0.026142\n",
       "             ...   \n",
       "LF         0.088523\n",
       "후성        -0.145047\n",
       "SK이노베이션   -0.158966\n",
       "CJ제일제당    -0.332998\n",
       "KB금융       0.065557\n",
       "Length: 113, dtype: float64"
      ]
     },
     "metadata": {},
     "output_type": "display_data"
    },
    {
     "data": {
      "text/plain": [
       "삼양홀딩스      0.273166\n",
       "유한양행       0.041111\n",
       "CJ대한통운    -0.196182\n",
       "두산         0.100931\n",
       "대림산업       0.026142\n",
       "             ...   \n",
       "LF         0.088523\n",
       "후성        -0.145047\n",
       "SK이노베이션   -0.158966\n",
       "CJ제일제당    -0.332998\n",
       "KB금융       0.065557\n",
       "Length: 113, dtype: float64"
      ]
     },
     "metadata": {},
     "output_type": "display_data"
    },
    {
     "data": {
      "text/plain": [
       "삼양홀딩스      0.273166\n",
       "유한양행       0.041111\n",
       "CJ대한통운    -0.196182\n",
       "두산         0.100931\n",
       "대림산업       0.026142\n",
       "             ...   \n",
       "LF         0.088523\n",
       "후성        -0.145047\n",
       "SK이노베이션   -0.158966\n",
       "CJ제일제당    -0.332998\n",
       "KB금융       0.065557\n",
       "Length: 113, dtype: float64"
      ]
     },
     "metadata": {},
     "output_type": "display_data"
    },
    {
     "data": {
      "text/plain": [
       "삼양홀딩스      0.273166\n",
       "유한양행       0.041111\n",
       "CJ대한통운    -0.196182\n",
       "두산         0.100931\n",
       "대림산업       0.026142\n",
       "             ...   \n",
       "LF         0.088523\n",
       "후성        -0.145047\n",
       "SK이노베이션   -0.158966\n",
       "CJ제일제당    -0.332998\n",
       "KB금융       0.065557\n",
       "Length: 113, dtype: float64"
      ]
     },
     "metadata": {},
     "output_type": "display_data"
    },
    {
     "data": {
      "text/plain": [
       "삼양홀딩스      0.245967\n",
       "유한양행      -0.083866\n",
       "CJ대한통운     0.652642\n",
       "두산        -0.172145\n",
       "대림산업      -0.169385\n",
       "             ...   \n",
       "LF         0.247510\n",
       "후성        -0.288053\n",
       "SK이노베이션   -0.323411\n",
       "CJ제일제당     0.462798\n",
       "KB금융       0.087557\n",
       "Length: 113, dtype: float64"
      ]
     },
     "metadata": {},
     "output_type": "display_data"
    },
    {
     "data": {
      "text/plain": [
       "삼양홀딩스      0.245967\n",
       "유한양행      -0.083866\n",
       "CJ대한통운     0.652642\n",
       "두산        -0.172145\n",
       "대림산업      -0.169385\n",
       "             ...   \n",
       "LF         0.247510\n",
       "후성        -0.288053\n",
       "SK이노베이션   -0.323411\n",
       "CJ제일제당     0.462798\n",
       "KB금융       0.087557\n",
       "Length: 113, dtype: float64"
      ]
     },
     "metadata": {},
     "output_type": "display_data"
    },
    {
     "data": {
      "text/plain": [
       "삼양홀딩스      0.245967\n",
       "유한양행      -0.083866\n",
       "CJ대한통운     0.652642\n",
       "두산        -0.172145\n",
       "대림산업      -0.169385\n",
       "             ...   \n",
       "LF         0.247510\n",
       "후성        -0.288053\n",
       "SK이노베이션   -0.323411\n",
       "CJ제일제당     0.462798\n",
       "KB금융       0.087557\n",
       "Length: 113, dtype: float64"
      ]
     },
     "metadata": {},
     "output_type": "display_data"
    },
    {
     "data": {
      "text/plain": [
       "삼양홀딩스      0.245967\n",
       "유한양행      -0.083866\n",
       "CJ대한통운     0.652642\n",
       "두산        -0.172145\n",
       "대림산업      -0.169385\n",
       "             ...   \n",
       "LF         0.247510\n",
       "후성        -0.288053\n",
       "SK이노베이션   -0.323411\n",
       "CJ제일제당     0.462798\n",
       "KB금융       0.087557\n",
       "Length: 113, dtype: float64"
      ]
     },
     "metadata": {},
     "output_type": "display_data"
    },
    {
     "data": {
      "text/plain": [
       "삼양홀딩스      0.245967\n",
       "유한양행      -0.083866\n",
       "CJ대한통운     0.652642\n",
       "두산        -0.172145\n",
       "대림산업      -0.169385\n",
       "             ...   \n",
       "LF         0.247510\n",
       "후성        -0.288053\n",
       "SK이노베이션   -0.323411\n",
       "CJ제일제당     0.462798\n",
       "KB금융       0.087557\n",
       "Length: 113, dtype: float64"
      ]
     },
     "metadata": {},
     "output_type": "display_data"
    },
    {
     "data": {
      "text/plain": [
       "삼양홀딩스      0.795854\n",
       "유한양행       0.665354\n",
       "CJ대한통운     0.079589\n",
       "두산        -0.065591\n",
       "대림산업       0.169909\n",
       "             ...   \n",
       "LF         0.006723\n",
       "후성         0.411218\n",
       "SK이노베이션    0.160174\n",
       "CJ제일제당    -0.018342\n",
       "KB금융      -0.068127\n",
       "Length: 113, dtype: float64"
      ]
     },
     "metadata": {},
     "output_type": "display_data"
    },
    {
     "data": {
      "text/plain": [
       "삼양홀딩스      0.795854\n",
       "유한양행       0.665354\n",
       "CJ대한통운     0.079589\n",
       "두산        -0.065591\n",
       "대림산업       0.169909\n",
       "             ...   \n",
       "LF         0.006723\n",
       "후성         0.411218\n",
       "SK이노베이션    0.160174\n",
       "CJ제일제당    -0.018342\n",
       "KB금융      -0.068127\n",
       "Length: 113, dtype: float64"
      ]
     },
     "metadata": {},
     "output_type": "display_data"
    },
    {
     "data": {
      "text/plain": [
       "삼양홀딩스      0.795854\n",
       "유한양행       0.665354\n",
       "CJ대한통운     0.079589\n",
       "두산        -0.065591\n",
       "대림산업       0.169909\n",
       "             ...   \n",
       "LF         0.006723\n",
       "후성         0.411218\n",
       "SK이노베이션    0.160174\n",
       "CJ제일제당    -0.018342\n",
       "KB금융      -0.068127\n",
       "Length: 113, dtype: float64"
      ]
     },
     "metadata": {},
     "output_type": "display_data"
    },
    {
     "data": {
      "text/plain": [
       "삼양홀딩스      0.795854\n",
       "유한양행       0.665354\n",
       "CJ대한통운     0.079589\n",
       "두산        -0.065591\n",
       "대림산업       0.169909\n",
       "             ...   \n",
       "LF         0.006723\n",
       "후성         0.411218\n",
       "SK이노베이션    0.160174\n",
       "CJ제일제당    -0.018342\n",
       "KB금융      -0.068127\n",
       "Length: 113, dtype: float64"
      ]
     },
     "metadata": {},
     "output_type": "display_data"
    },
    {
     "data": {
      "text/plain": [
       "삼양홀딩스      0.795854\n",
       "유한양행       0.665354\n",
       "CJ대한통운     0.079589\n",
       "두산        -0.065591\n",
       "대림산업       0.169909\n",
       "             ...   \n",
       "LF         0.006723\n",
       "후성         0.411218\n",
       "SK이노베이션    0.160174\n",
       "CJ제일제당    -0.018342\n",
       "KB금융      -0.068127\n",
       "Length: 113, dtype: float64"
      ]
     },
     "metadata": {},
     "output_type": "display_data"
    },
    {
     "data": {
      "text/plain": [
       "삼양홀딩스     -0.354958\n",
       "유한양행      -0.258243\n",
       "CJ대한통운    -0.060984\n",
       "두산         0.253177\n",
       "대림산업      -0.065517\n",
       "             ...   \n",
       "LF        -0.209244\n",
       "후성         0.619096\n",
       "SK이노베이션   -0.041784\n",
       "CJ제일제당    -0.119499\n",
       "KB금융       0.304705\n",
       "Length: 113, dtype: float64"
      ]
     },
     "metadata": {},
     "output_type": "display_data"
    },
    {
     "data": {
      "text/plain": [
       "삼양홀딩스     -0.354958\n",
       "유한양행      -0.258243\n",
       "CJ대한통운    -0.060984\n",
       "두산         0.253177\n",
       "대림산업      -0.065517\n",
       "             ...   \n",
       "LF        -0.209244\n",
       "후성         0.619096\n",
       "SK이노베이션   -0.041784\n",
       "CJ제일제당    -0.119499\n",
       "KB금융       0.304705\n",
       "Length: 113, dtype: float64"
      ]
     },
     "metadata": {},
     "output_type": "display_data"
    },
    {
     "data": {
      "text/plain": [
       "삼양홀딩스     -0.354958\n",
       "유한양행      -0.258243\n",
       "CJ대한통운    -0.060984\n",
       "두산         0.253177\n",
       "대림산업      -0.065517\n",
       "             ...   \n",
       "LF        -0.209244\n",
       "후성         0.619096\n",
       "SK이노베이션   -0.041784\n",
       "CJ제일제당    -0.119499\n",
       "KB금융       0.304705\n",
       "Length: 113, dtype: float64"
      ]
     },
     "metadata": {},
     "output_type": "display_data"
    },
    {
     "data": {
      "text/plain": [
       "삼양홀딩스     -0.354958\n",
       "유한양행      -0.258243\n",
       "CJ대한통운    -0.060984\n",
       "두산         0.253177\n",
       "대림산업      -0.065517\n",
       "             ...   \n",
       "LF        -0.209244\n",
       "후성         0.619096\n",
       "SK이노베이션   -0.041784\n",
       "CJ제일제당    -0.119499\n",
       "KB금융       0.304705\n",
       "Length: 113, dtype: float64"
      ]
     },
     "metadata": {},
     "output_type": "display_data"
    },
    {
     "data": {
      "text/plain": [
       "삼양홀딩스     -0.354958\n",
       "유한양행      -0.258243\n",
       "CJ대한통운    -0.060984\n",
       "두산         0.253177\n",
       "대림산업      -0.065517\n",
       "             ...   \n",
       "LF        -0.209244\n",
       "후성         0.619096\n",
       "SK이노베이션   -0.041784\n",
       "CJ제일제당    -0.119499\n",
       "KB금융       0.304705\n",
       "Length: 113, dtype: float64"
      ]
     },
     "metadata": {},
     "output_type": "display_data"
    },
    {
     "data": {
      "text/plain": [
       "삼양홀딩스     -0.353658\n",
       "유한양행      -0.264831\n",
       "CJ대한통운    -0.265669\n",
       "두산         0.130502\n",
       "대림산업      -0.196379\n",
       "             ...   \n",
       "LF        -0.016536\n",
       "후성         0.070710\n",
       "SK이노베이션    0.071756\n",
       "CJ제일제당    -0.190592\n",
       "KB금융       0.009410\n",
       "Length: 113, dtype: float64"
      ]
     },
     "metadata": {},
     "output_type": "display_data"
    },
    {
     "data": {
      "text/plain": [
       "삼양홀딩스     -0.353658\n",
       "유한양행      -0.264831\n",
       "CJ대한통운    -0.265669\n",
       "두산         0.130502\n",
       "대림산업      -0.196379\n",
       "             ...   \n",
       "LF        -0.016536\n",
       "후성         0.070710\n",
       "SK이노베이션    0.071756\n",
       "CJ제일제당    -0.190592\n",
       "KB금융       0.009410\n",
       "Length: 113, dtype: float64"
      ]
     },
     "metadata": {},
     "output_type": "display_data"
    },
    {
     "data": {
      "text/plain": [
       "삼양홀딩스     -0.353658\n",
       "유한양행      -0.264831\n",
       "CJ대한통운    -0.265669\n",
       "두산         0.130502\n",
       "대림산업      -0.196379\n",
       "             ...   \n",
       "LF        -0.016536\n",
       "후성         0.070710\n",
       "SK이노베이션    0.071756\n",
       "CJ제일제당    -0.190592\n",
       "KB금융       0.009410\n",
       "Length: 113, dtype: float64"
      ]
     },
     "metadata": {},
     "output_type": "display_data"
    },
    {
     "data": {
      "text/plain": [
       "삼양홀딩스     -0.353658\n",
       "유한양행      -0.264831\n",
       "CJ대한통운    -0.265669\n",
       "두산         0.130502\n",
       "대림산업      -0.196379\n",
       "             ...   \n",
       "LF        -0.016536\n",
       "후성         0.070710\n",
       "SK이노베이션    0.071756\n",
       "CJ제일제당    -0.190592\n",
       "KB금융       0.009410\n",
       "Length: 113, dtype: float64"
      ]
     },
     "metadata": {},
     "output_type": "display_data"
    },
    {
     "data": {
      "text/plain": [
       "삼양홀딩스     -0.353658\n",
       "유한양행      -0.264831\n",
       "CJ대한통운    -0.265669\n",
       "두산         0.130502\n",
       "대림산업      -0.196379\n",
       "             ...   \n",
       "LF        -0.016536\n",
       "후성         0.070710\n",
       "SK이노베이션    0.071756\n",
       "CJ제일제당    -0.190592\n",
       "KB금융       0.009410\n",
       "Length: 113, dtype: float64"
      ]
     },
     "metadata": {},
     "output_type": "display_data"
    },
    {
     "data": {
      "text/plain": [
       "삼양홀딩스     -0.086106\n",
       "유한양행      -0.049463\n",
       "CJ대한통운     0.416369\n",
       "두산         0.410218\n",
       "대림산업       0.212434\n",
       "             ...   \n",
       "LF        -0.115452\n",
       "후성         0.100101\n",
       "SK이노베이션    0.225038\n",
       "CJ제일제당     0.129904\n",
       "KB금융      -0.125347\n",
       "Length: 113, dtype: float64"
      ]
     },
     "metadata": {},
     "output_type": "display_data"
    },
    {
     "data": {
      "text/plain": [
       "삼양홀딩스     -0.086106\n",
       "유한양행      -0.049463\n",
       "CJ대한통운     0.416369\n",
       "두산         0.410218\n",
       "대림산업       0.212434\n",
       "             ...   \n",
       "LF        -0.115452\n",
       "후성         0.100101\n",
       "SK이노베이션    0.225038\n",
       "CJ제일제당     0.129904\n",
       "KB금융      -0.125347\n",
       "Length: 113, dtype: float64"
      ]
     },
     "metadata": {},
     "output_type": "display_data"
    },
    {
     "data": {
      "text/plain": [
       "삼양홀딩스     -0.086106\n",
       "유한양행      -0.049463\n",
       "CJ대한통운     0.416369\n",
       "두산         0.410218\n",
       "대림산업       0.212434\n",
       "             ...   \n",
       "LF        -0.115452\n",
       "후성         0.100101\n",
       "SK이노베이션    0.225038\n",
       "CJ제일제당     0.129904\n",
       "KB금융      -0.125347\n",
       "Length: 113, dtype: float64"
      ]
     },
     "metadata": {},
     "output_type": "display_data"
    },
    {
     "data": {
      "text/plain": [
       "삼양홀딩스     -0.086106\n",
       "유한양행      -0.049463\n",
       "CJ대한통운     0.416369\n",
       "두산         0.410218\n",
       "대림산업       0.212434\n",
       "             ...   \n",
       "LF        -0.115452\n",
       "후성         0.100101\n",
       "SK이노베이션    0.225038\n",
       "CJ제일제당     0.129904\n",
       "KB금융      -0.125347\n",
       "Length: 113, dtype: float64"
      ]
     },
     "metadata": {},
     "output_type": "display_data"
    },
    {
     "data": {
      "text/plain": [
       "삼양홀딩스     -0.086106\n",
       "유한양행      -0.049463\n",
       "CJ대한통운     0.416369\n",
       "두산         0.410218\n",
       "대림산업       0.212434\n",
       "             ...   \n",
       "LF        -0.115452\n",
       "후성         0.100101\n",
       "SK이노베이션    0.225038\n",
       "CJ제일제당     0.129904\n",
       "KB금융      -0.125347\n",
       "Length: 113, dtype: float64"
      ]
     },
     "metadata": {},
     "output_type": "display_data"
    },
    {
     "data": {
      "text/plain": [
       "삼양홀딩스     -0.226532\n",
       "유한양행      -0.115609\n",
       "CJ대한통운    -0.151114\n",
       "두산         0.042918\n",
       "대림산업       0.001580\n",
       "             ...   \n",
       "LF        -0.206043\n",
       "후성         0.061338\n",
       "SK이노베이션   -0.124458\n",
       "CJ제일제당    -0.273268\n",
       "KB금융      -0.026819\n",
       "Length: 113, dtype: float64"
      ]
     },
     "metadata": {},
     "output_type": "display_data"
    },
    {
     "data": {
      "text/plain": [
       "삼양홀딩스     -0.226532\n",
       "유한양행      -0.115609\n",
       "CJ대한통운    -0.151114\n",
       "두산         0.042918\n",
       "대림산업       0.001580\n",
       "             ...   \n",
       "LF        -0.206043\n",
       "후성         0.061338\n",
       "SK이노베이션   -0.124458\n",
       "CJ제일제당    -0.273268\n",
       "KB금융      -0.026819\n",
       "Length: 113, dtype: float64"
      ]
     },
     "metadata": {},
     "output_type": "display_data"
    },
    {
     "data": {
      "text/plain": [
       "삼양홀딩스     -0.226532\n",
       "유한양행      -0.115609\n",
       "CJ대한통운    -0.151114\n",
       "두산         0.042918\n",
       "대림산업       0.001580\n",
       "             ...   \n",
       "LF        -0.206043\n",
       "후성         0.061338\n",
       "SK이노베이션   -0.124458\n",
       "CJ제일제당    -0.273268\n",
       "KB금융      -0.026819\n",
       "Length: 113, dtype: float64"
      ]
     },
     "metadata": {},
     "output_type": "display_data"
    },
    {
     "data": {
      "text/plain": [
       "삼양홀딩스     -0.226532\n",
       "유한양행      -0.115609\n",
       "CJ대한통운    -0.151114\n",
       "두산         0.042918\n",
       "대림산업       0.001580\n",
       "             ...   \n",
       "LF        -0.206043\n",
       "후성         0.061338\n",
       "SK이노베이션   -0.124458\n",
       "CJ제일제당    -0.273268\n",
       "KB금융      -0.026819\n",
       "Length: 113, dtype: float64"
      ]
     },
     "metadata": {},
     "output_type": "display_data"
    },
    {
     "data": {
      "text/plain": [
       "삼양홀딩스     -0.226532\n",
       "유한양행      -0.115609\n",
       "CJ대한통운    -0.151114\n",
       "두산         0.042918\n",
       "대림산업       0.001580\n",
       "             ...   \n",
       "LF        -0.206043\n",
       "후성         0.061338\n",
       "SK이노베이션   -0.124458\n",
       "CJ제일제당    -0.273268\n",
       "KB금융      -0.026819\n",
       "Length: 113, dtype: float64"
      ]
     },
     "metadata": {},
     "output_type": "display_data"
    },
    {
     "data": {
      "text/plain": [
       "삼양홀딩스      0.044344\n",
       "유한양행       0.463533\n",
       "CJ대한통운     0.410776\n",
       "두산        -0.226510\n",
       "대림산업      -0.331530\n",
       "             ...   \n",
       "LF        -0.255445\n",
       "후성        -0.243989\n",
       "SK이노베이션   -0.055950\n",
       "CJ제일제당     0.080663\n",
       "KB금융      -0.090032\n",
       "Length: 113, dtype: float64"
      ]
     },
     "metadata": {},
     "output_type": "display_data"
    },
    {
     "data": {
      "text/plain": [
       "삼양홀딩스      0.044344\n",
       "유한양행       0.463533\n",
       "CJ대한통운     0.410776\n",
       "두산        -0.226510\n",
       "대림산업      -0.331530\n",
       "             ...   \n",
       "LF        -0.255445\n",
       "후성        -0.243989\n",
       "SK이노베이션   -0.055950\n",
       "CJ제일제당     0.080663\n",
       "KB금융      -0.090032\n",
       "Length: 113, dtype: float64"
      ]
     },
     "metadata": {},
     "output_type": "display_data"
    },
    {
     "data": {
      "text/plain": [
       "삼양홀딩스      0.044344\n",
       "유한양행       0.463533\n",
       "CJ대한통운     0.410776\n",
       "두산        -0.226510\n",
       "대림산업      -0.331530\n",
       "             ...   \n",
       "LF        -0.255445\n",
       "후성        -0.243989\n",
       "SK이노베이션   -0.055950\n",
       "CJ제일제당     0.080663\n",
       "KB금융      -0.090032\n",
       "Length: 113, dtype: float64"
      ]
     },
     "metadata": {},
     "output_type": "display_data"
    },
    {
     "data": {
      "text/plain": [
       "삼양홀딩스      0.044344\n",
       "유한양행       0.463533\n",
       "CJ대한통운     0.410776\n",
       "두산        -0.226510\n",
       "대림산업      -0.331530\n",
       "             ...   \n",
       "LF        -0.255445\n",
       "후성        -0.243989\n",
       "SK이노베이션   -0.055950\n",
       "CJ제일제당     0.080663\n",
       "KB금융      -0.090032\n",
       "Length: 113, dtype: float64"
      ]
     },
     "metadata": {},
     "output_type": "display_data"
    },
    {
     "data": {
      "text/plain": [
       "삼양홀딩스      0.044344\n",
       "유한양행       0.463533\n",
       "CJ대한통운     0.410776\n",
       "두산        -0.226510\n",
       "대림산업      -0.331530\n",
       "             ...   \n",
       "LF        -0.255445\n",
       "후성        -0.243989\n",
       "SK이노베이션   -0.055950\n",
       "CJ제일제당     0.080663\n",
       "KB금융      -0.090032\n",
       "Length: 113, dtype: float64"
      ]
     },
     "metadata": {},
     "output_type": "display_data"
    },
    {
     "data": {
      "text/plain": [
       "삼양홀딩스      0.231648\n",
       "유한양행       0.036072\n",
       "CJ대한통운    -0.208419\n",
       "두산         0.044668\n",
       "대림산업       0.038204\n",
       "             ...   \n",
       "LF         0.138861\n",
       "후성        -0.202611\n",
       "SK이노베이션   -0.195287\n",
       "CJ제일제당    -0.338843\n",
       "KB금융      -0.002790\n",
       "Length: 113, dtype: float64"
      ]
     },
     "metadata": {},
     "output_type": "display_data"
    },
    {
     "data": {
      "text/plain": [
       "삼양홀딩스      0.231648\n",
       "유한양행       0.036072\n",
       "CJ대한통운    -0.208419\n",
       "두산         0.044668\n",
       "대림산업       0.038204\n",
       "             ...   \n",
       "LF         0.138861\n",
       "후성        -0.202611\n",
       "SK이노베이션   -0.195287\n",
       "CJ제일제당    -0.338843\n",
       "KB금융      -0.002790\n",
       "Length: 113, dtype: float64"
      ]
     },
     "metadata": {},
     "output_type": "display_data"
    },
    {
     "data": {
      "text/plain": [
       "삼양홀딩스      0.231648\n",
       "유한양행       0.036072\n",
       "CJ대한통운    -0.208419\n",
       "두산         0.044668\n",
       "대림산업       0.038204\n",
       "             ...   \n",
       "LF         0.138861\n",
       "후성        -0.202611\n",
       "SK이노베이션   -0.195287\n",
       "CJ제일제당    -0.338843\n",
       "KB금융      -0.002790\n",
       "Length: 113, dtype: float64"
      ]
     },
     "metadata": {},
     "output_type": "display_data"
    },
    {
     "data": {
      "text/plain": [
       "삼양홀딩스      0.231648\n",
       "유한양행       0.036072\n",
       "CJ대한통운    -0.208419\n",
       "두산         0.044668\n",
       "대림산업       0.038204\n",
       "             ...   \n",
       "LF         0.138861\n",
       "후성        -0.202611\n",
       "SK이노베이션   -0.195287\n",
       "CJ제일제당    -0.338843\n",
       "KB금융      -0.002790\n",
       "Length: 113, dtype: float64"
      ]
     },
     "metadata": {},
     "output_type": "display_data"
    },
    {
     "data": {
      "text/plain": [
       "삼양홀딩스      0.231648\n",
       "유한양행       0.036072\n",
       "CJ대한통운    -0.208419\n",
       "두산         0.044668\n",
       "대림산업       0.038204\n",
       "             ...   \n",
       "LF         0.138861\n",
       "후성        -0.202611\n",
       "SK이노베이션   -0.195287\n",
       "CJ제일제당    -0.338843\n",
       "KB금융      -0.002790\n",
       "Length: 113, dtype: float64"
      ]
     },
     "metadata": {},
     "output_type": "display_data"
    },
    {
     "data": {
      "text/plain": [
       "삼양홀딩스      0.225223\n",
       "유한양행      -0.109099\n",
       "CJ대한통운     0.658962\n",
       "두산        -0.149254\n",
       "대림산업      -0.218668\n",
       "             ...   \n",
       "LF         0.170753\n",
       "후성        -0.091407\n",
       "SK이노베이션   -0.345103\n",
       "CJ제일제당     0.302966\n",
       "KB금융      -0.006191\n",
       "Length: 113, dtype: float64"
      ]
     },
     "metadata": {},
     "output_type": "display_data"
    },
    {
     "data": {
      "text/plain": [
       "삼양홀딩스      0.225223\n",
       "유한양행      -0.109099\n",
       "CJ대한통운     0.658962\n",
       "두산        -0.149254\n",
       "대림산업      -0.218668\n",
       "             ...   \n",
       "LF         0.170753\n",
       "후성        -0.091407\n",
       "SK이노베이션   -0.345103\n",
       "CJ제일제당     0.302966\n",
       "KB금융      -0.006191\n",
       "Length: 113, dtype: float64"
      ]
     },
     "metadata": {},
     "output_type": "display_data"
    },
    {
     "data": {
      "text/plain": [
       "삼양홀딩스      0.225223\n",
       "유한양행      -0.109099\n",
       "CJ대한통운     0.658962\n",
       "두산        -0.149254\n",
       "대림산업      -0.218668\n",
       "             ...   \n",
       "LF         0.170753\n",
       "후성        -0.091407\n",
       "SK이노베이션   -0.345103\n",
       "CJ제일제당     0.302966\n",
       "KB금융      -0.006191\n",
       "Length: 113, dtype: float64"
      ]
     },
     "metadata": {},
     "output_type": "display_data"
    },
    {
     "data": {
      "text/plain": [
       "삼양홀딩스      0.225223\n",
       "유한양행      -0.109099\n",
       "CJ대한통운     0.658962\n",
       "두산        -0.149254\n",
       "대림산업      -0.218668\n",
       "             ...   \n",
       "LF         0.170753\n",
       "후성        -0.091407\n",
       "SK이노베이션   -0.345103\n",
       "CJ제일제당     0.302966\n",
       "KB금융      -0.006191\n",
       "Length: 113, dtype: float64"
      ]
     },
     "metadata": {},
     "output_type": "display_data"
    },
    {
     "data": {
      "text/plain": [
       "삼양홀딩스      0.225223\n",
       "유한양행      -0.109099\n",
       "CJ대한통운     0.658962\n",
       "두산        -0.149254\n",
       "대림산업      -0.218668\n",
       "             ...   \n",
       "LF         0.170753\n",
       "후성        -0.091407\n",
       "SK이노베이션   -0.345103\n",
       "CJ제일제당     0.302966\n",
       "KB금융      -0.006191\n",
       "Length: 113, dtype: float64"
      ]
     },
     "metadata": {},
     "output_type": "display_data"
    },
    {
     "data": {
      "text/plain": [
       "삼양홀딩스      0.821299\n",
       "유한양행       0.663626\n",
       "CJ대한통운     0.086503\n",
       "두산        -0.101046\n",
       "대림산업       0.153590\n",
       "             ...   \n",
       "LF        -0.058597\n",
       "후성         0.527122\n",
       "SK이노베이션    0.274979\n",
       "CJ제일제당     0.032575\n",
       "KB금융      -0.071934\n",
       "Length: 113, dtype: float64"
      ]
     },
     "metadata": {},
     "output_type": "display_data"
    },
    {
     "data": {
      "text/plain": [
       "삼양홀딩스      0.821299\n",
       "유한양행       0.663626\n",
       "CJ대한통운     0.086503\n",
       "두산        -0.101046\n",
       "대림산업       0.153590\n",
       "             ...   \n",
       "LF        -0.058597\n",
       "후성         0.527122\n",
       "SK이노베이션    0.274979\n",
       "CJ제일제당     0.032575\n",
       "KB금융      -0.071934\n",
       "Length: 113, dtype: float64"
      ]
     },
     "metadata": {},
     "output_type": "display_data"
    },
    {
     "data": {
      "text/plain": [
       "삼양홀딩스      0.821299\n",
       "유한양행       0.663626\n",
       "CJ대한통운     0.086503\n",
       "두산        -0.101046\n",
       "대림산업       0.153590\n",
       "             ...   \n",
       "LF        -0.058597\n",
       "후성         0.527122\n",
       "SK이노베이션    0.274979\n",
       "CJ제일제당     0.032575\n",
       "KB금융      -0.071934\n",
       "Length: 113, dtype: float64"
      ]
     },
     "metadata": {},
     "output_type": "display_data"
    },
    {
     "data": {
      "text/plain": [
       "삼양홀딩스      0.821299\n",
       "유한양행       0.663626\n",
       "CJ대한통운     0.086503\n",
       "두산        -0.101046\n",
       "대림산업       0.153590\n",
       "             ...   \n",
       "LF        -0.058597\n",
       "후성         0.527122\n",
       "SK이노베이션    0.274979\n",
       "CJ제일제당     0.032575\n",
       "KB금융      -0.071934\n",
       "Length: 113, dtype: float64"
      ]
     },
     "metadata": {},
     "output_type": "display_data"
    },
    {
     "data": {
      "text/plain": [
       "삼양홀딩스      0.821299\n",
       "유한양행       0.663626\n",
       "CJ대한통운     0.086503\n",
       "두산        -0.101046\n",
       "대림산업       0.153590\n",
       "             ...   \n",
       "LF        -0.058597\n",
       "후성         0.527122\n",
       "SK이노베이션    0.274979\n",
       "CJ제일제당     0.032575\n",
       "KB금융      -0.071934\n",
       "Length: 113, dtype: float64"
      ]
     },
     "metadata": {},
     "output_type": "display_data"
    },
    {
     "data": {
      "text/plain": [
       "삼양홀딩스     -0.364062\n",
       "유한양행      -0.298801\n",
       "CJ대한통운    -0.135356\n",
       "두산         0.360480\n",
       "대림산업      -0.119288\n",
       "             ...   \n",
       "LF        -0.190340\n",
       "후성         0.482427\n",
       "SK이노베이션   -0.029128\n",
       "CJ제일제당    -0.026505\n",
       "KB금융       0.306436\n",
       "Length: 113, dtype: float64"
      ]
     },
     "metadata": {},
     "output_type": "display_data"
    },
    {
     "data": {
      "text/plain": [
       "삼양홀딩스     -0.364062\n",
       "유한양행      -0.298801\n",
       "CJ대한통운    -0.135356\n",
       "두산         0.360480\n",
       "대림산업      -0.119288\n",
       "             ...   \n",
       "LF        -0.190340\n",
       "후성         0.482427\n",
       "SK이노베이션   -0.029128\n",
       "CJ제일제당    -0.026505\n",
       "KB금융       0.306436\n",
       "Length: 113, dtype: float64"
      ]
     },
     "metadata": {},
     "output_type": "display_data"
    },
    {
     "data": {
      "text/plain": [
       "삼양홀딩스     -0.364062\n",
       "유한양행      -0.298801\n",
       "CJ대한통운    -0.135356\n",
       "두산         0.360480\n",
       "대림산업      -0.119288\n",
       "             ...   \n",
       "LF        -0.190340\n",
       "후성         0.482427\n",
       "SK이노베이션   -0.029128\n",
       "CJ제일제당    -0.026505\n",
       "KB금융       0.306436\n",
       "Length: 113, dtype: float64"
      ]
     },
     "metadata": {},
     "output_type": "display_data"
    },
    {
     "data": {
      "text/plain": [
       "삼양홀딩스     -0.364062\n",
       "유한양행      -0.298801\n",
       "CJ대한통운    -0.135356\n",
       "두산         0.360480\n",
       "대림산업      -0.119288\n",
       "             ...   \n",
       "LF        -0.190340\n",
       "후성         0.482427\n",
       "SK이노베이션   -0.029128\n",
       "CJ제일제당    -0.026505\n",
       "KB금융       0.306436\n",
       "Length: 113, dtype: float64"
      ]
     },
     "metadata": {},
     "output_type": "display_data"
    },
    {
     "data": {
      "text/plain": [
       "삼양홀딩스     -0.364062\n",
       "유한양행      -0.298801\n",
       "CJ대한통운    -0.135356\n",
       "두산         0.360480\n",
       "대림산업      -0.119288\n",
       "             ...   \n",
       "LF        -0.190340\n",
       "후성         0.482427\n",
       "SK이노베이션   -0.029128\n",
       "CJ제일제당    -0.026505\n",
       "KB금융       0.306436\n",
       "Length: 113, dtype: float64"
      ]
     },
     "metadata": {},
     "output_type": "display_data"
    },
    {
     "data": {
      "text/plain": [
       "삼양홀딩스     -0.249614\n",
       "유한양행      -0.187561\n",
       "CJ대한통운    -0.271727\n",
       "두산         0.090459\n",
       "대림산업      -0.183178\n",
       "             ...   \n",
       "LF         0.197530\n",
       "후성         0.250493\n",
       "SK이노베이션    0.107204\n",
       "CJ제일제당    -0.091574\n",
       "KB금융       0.060709\n",
       "Length: 113, dtype: float64"
      ]
     },
     "metadata": {},
     "output_type": "display_data"
    },
    {
     "data": {
      "text/plain": [
       "삼양홀딩스     -0.249614\n",
       "유한양행      -0.187561\n",
       "CJ대한통운    -0.271727\n",
       "두산         0.090459\n",
       "대림산업      -0.183178\n",
       "             ...   \n",
       "LF         0.197530\n",
       "후성         0.250493\n",
       "SK이노베이션    0.107204\n",
       "CJ제일제당    -0.091574\n",
       "KB금융       0.060709\n",
       "Length: 113, dtype: float64"
      ]
     },
     "metadata": {},
     "output_type": "display_data"
    },
    {
     "data": {
      "text/plain": [
       "삼양홀딩스     -0.249614\n",
       "유한양행      -0.187561\n",
       "CJ대한통운    -0.271727\n",
       "두산         0.090459\n",
       "대림산업      -0.183178\n",
       "             ...   \n",
       "LF         0.197530\n",
       "후성         0.250493\n",
       "SK이노베이션    0.107204\n",
       "CJ제일제당    -0.091574\n",
       "KB금융       0.060709\n",
       "Length: 113, dtype: float64"
      ]
     },
     "metadata": {},
     "output_type": "display_data"
    },
    {
     "data": {
      "text/plain": [
       "삼양홀딩스     -0.249614\n",
       "유한양행      -0.187561\n",
       "CJ대한통운    -0.271727\n",
       "두산         0.090459\n",
       "대림산업      -0.183178\n",
       "             ...   \n",
       "LF         0.197530\n",
       "후성         0.250493\n",
       "SK이노베이션    0.107204\n",
       "CJ제일제당    -0.091574\n",
       "KB금융       0.060709\n",
       "Length: 113, dtype: float64"
      ]
     },
     "metadata": {},
     "output_type": "display_data"
    },
    {
     "data": {
      "text/plain": [
       "삼양홀딩스     -0.249614\n",
       "유한양행      -0.187561\n",
       "CJ대한통운    -0.271727\n",
       "두산         0.090459\n",
       "대림산업      -0.183178\n",
       "             ...   \n",
       "LF         0.197530\n",
       "후성         0.250493\n",
       "SK이노베이션    0.107204\n",
       "CJ제일제당    -0.091574\n",
       "KB금융       0.060709\n",
       "Length: 113, dtype: float64"
      ]
     },
     "metadata": {},
     "output_type": "display_data"
    },
    {
     "data": {
      "text/plain": [
       "삼양홀딩스     -0.099607\n",
       "유한양행       0.255013\n",
       "CJ대한통운     0.381303\n",
       "두산         0.394751\n",
       "대림산업       0.472660\n",
       "             ...   \n",
       "LF        -0.050738\n",
       "후성         0.008195\n",
       "SK이노베이션    0.095922\n",
       "CJ제일제당     0.139446\n",
       "KB금융      -0.152864\n",
       "Length: 113, dtype: float64"
      ]
     },
     "metadata": {},
     "output_type": "display_data"
    },
    {
     "data": {
      "text/plain": [
       "삼양홀딩스     -0.099607\n",
       "유한양행       0.255013\n",
       "CJ대한통운     0.381303\n",
       "두산         0.394751\n",
       "대림산업       0.472660\n",
       "             ...   \n",
       "LF        -0.050738\n",
       "후성         0.008195\n",
       "SK이노베이션    0.095922\n",
       "CJ제일제당     0.139446\n",
       "KB금융      -0.152864\n",
       "Length: 113, dtype: float64"
      ]
     },
     "metadata": {},
     "output_type": "display_data"
    },
    {
     "data": {
      "text/plain": [
       "삼양홀딩스     -0.099607\n",
       "유한양행       0.255013\n",
       "CJ대한통운     0.381303\n",
       "두산         0.394751\n",
       "대림산업       0.472660\n",
       "             ...   \n",
       "LF        -0.050738\n",
       "후성         0.008195\n",
       "SK이노베이션    0.095922\n",
       "CJ제일제당     0.139446\n",
       "KB금융      -0.152864\n",
       "Length: 113, dtype: float64"
      ]
     },
     "metadata": {},
     "output_type": "display_data"
    },
    {
     "data": {
      "text/plain": [
       "삼양홀딩스     -0.099607\n",
       "유한양행       0.255013\n",
       "CJ대한통운     0.381303\n",
       "두산         0.394751\n",
       "대림산업       0.472660\n",
       "             ...   \n",
       "LF        -0.050738\n",
       "후성         0.008195\n",
       "SK이노베이션    0.095922\n",
       "CJ제일제당     0.139446\n",
       "KB금융      -0.152864\n",
       "Length: 113, dtype: float64"
      ]
     },
     "metadata": {},
     "output_type": "display_data"
    },
    {
     "data": {
      "text/plain": [
       "삼양홀딩스     -0.099607\n",
       "유한양행       0.255013\n",
       "CJ대한통운     0.381303\n",
       "두산         0.394751\n",
       "대림산업       0.472660\n",
       "             ...   \n",
       "LF        -0.050738\n",
       "후성         0.008195\n",
       "SK이노베이션    0.095922\n",
       "CJ제일제당     0.139446\n",
       "KB금융      -0.152864\n",
       "Length: 113, dtype: float64"
      ]
     },
     "metadata": {},
     "output_type": "display_data"
    },
    {
     "data": {
      "text/plain": [
       "삼양홀딩스     -0.199869\n",
       "유한양행      -0.153026\n",
       "CJ대한통운    -0.154329\n",
       "두산        -0.090133\n",
       "대림산업      -0.013475\n",
       "             ...   \n",
       "LF        -0.280074\n",
       "후성        -0.018574\n",
       "SK이노베이션   -0.201794\n",
       "CJ제일제당    -0.213555\n",
       "KB금융       0.063501\n",
       "Length: 113, dtype: float64"
      ]
     },
     "metadata": {},
     "output_type": "display_data"
    },
    {
     "data": {
      "text/plain": [
       "삼양홀딩스     -0.199869\n",
       "유한양행      -0.153026\n",
       "CJ대한통운    -0.154329\n",
       "두산        -0.090133\n",
       "대림산업      -0.013475\n",
       "             ...   \n",
       "LF        -0.280074\n",
       "후성        -0.018574\n",
       "SK이노베이션   -0.201794\n",
       "CJ제일제당    -0.213555\n",
       "KB금융       0.063501\n",
       "Length: 113, dtype: float64"
      ]
     },
     "metadata": {},
     "output_type": "display_data"
    },
    {
     "data": {
      "text/plain": [
       "삼양홀딩스     -0.199869\n",
       "유한양행      -0.153026\n",
       "CJ대한통운    -0.154329\n",
       "두산        -0.090133\n",
       "대림산업      -0.013475\n",
       "             ...   \n",
       "LF        -0.280074\n",
       "후성        -0.018574\n",
       "SK이노베이션   -0.201794\n",
       "CJ제일제당    -0.213555\n",
       "KB금융       0.063501\n",
       "Length: 113, dtype: float64"
      ]
     },
     "metadata": {},
     "output_type": "display_data"
    },
    {
     "data": {
      "text/plain": [
       "삼양홀딩스     -0.199869\n",
       "유한양행      -0.153026\n",
       "CJ대한통운    -0.154329\n",
       "두산        -0.090133\n",
       "대림산업      -0.013475\n",
       "             ...   \n",
       "LF        -0.280074\n",
       "후성        -0.018574\n",
       "SK이노베이션   -0.201794\n",
       "CJ제일제당    -0.213555\n",
       "KB금융       0.063501\n",
       "Length: 113, dtype: float64"
      ]
     },
     "metadata": {},
     "output_type": "display_data"
    },
    {
     "data": {
      "text/plain": [
       "삼양홀딩스     -0.199869\n",
       "유한양행      -0.153026\n",
       "CJ대한통운    -0.154329\n",
       "두산        -0.090133\n",
       "대림산업      -0.013475\n",
       "             ...   \n",
       "LF        -0.280074\n",
       "후성        -0.018574\n",
       "SK이노베이션   -0.201794\n",
       "CJ제일제당    -0.213555\n",
       "KB금융       0.063501\n",
       "Length: 113, dtype: float64"
      ]
     },
     "metadata": {},
     "output_type": "display_data"
    },
    {
     "data": {
      "text/plain": [
       "삼양홀딩스     -0.029897\n",
       "유한양행       0.439283\n",
       "CJ대한통운     0.229693\n",
       "두산        -0.255801\n",
       "대림산업      -0.290105\n",
       "             ...   \n",
       "LF        -0.254067\n",
       "후성        -0.298818\n",
       "SK이노베이션   -0.043817\n",
       "CJ제일제당     0.099322\n",
       "KB금융      -0.067858\n",
       "Length: 113, dtype: float64"
      ]
     },
     "metadata": {},
     "output_type": "display_data"
    },
    {
     "data": {
      "text/plain": [
       "삼양홀딩스     -0.029897\n",
       "유한양행       0.439283\n",
       "CJ대한통운     0.229693\n",
       "두산        -0.255801\n",
       "대림산업      -0.290105\n",
       "             ...   \n",
       "LF        -0.254067\n",
       "후성        -0.298818\n",
       "SK이노베이션   -0.043817\n",
       "CJ제일제당     0.099322\n",
       "KB금융      -0.067858\n",
       "Length: 113, dtype: float64"
      ]
     },
     "metadata": {},
     "output_type": "display_data"
    },
    {
     "data": {
      "text/plain": [
       "삼양홀딩스     -0.029897\n",
       "유한양행       0.439283\n",
       "CJ대한통운     0.229693\n",
       "두산        -0.255801\n",
       "대림산업      -0.290105\n",
       "             ...   \n",
       "LF        -0.254067\n",
       "후성        -0.298818\n",
       "SK이노베이션   -0.043817\n",
       "CJ제일제당     0.099322\n",
       "KB금융      -0.067858\n",
       "Length: 113, dtype: float64"
      ]
     },
     "metadata": {},
     "output_type": "display_data"
    },
    {
     "data": {
      "text/plain": [
       "삼양홀딩스     -0.029897\n",
       "유한양행       0.439283\n",
       "CJ대한통운     0.229693\n",
       "두산        -0.255801\n",
       "대림산업      -0.290105\n",
       "             ...   \n",
       "LF        -0.254067\n",
       "후성        -0.298818\n",
       "SK이노베이션   -0.043817\n",
       "CJ제일제당     0.099322\n",
       "KB금융      -0.067858\n",
       "Length: 113, dtype: float64"
      ]
     },
     "metadata": {},
     "output_type": "display_data"
    },
    {
     "data": {
      "text/plain": [
       "삼양홀딩스     -0.029897\n",
       "유한양행       0.439283\n",
       "CJ대한통운     0.229693\n",
       "두산        -0.255801\n",
       "대림산업      -0.290105\n",
       "             ...   \n",
       "LF        -0.254067\n",
       "후성        -0.298818\n",
       "SK이노베이션   -0.043817\n",
       "CJ제일제당     0.099322\n",
       "KB금융      -0.067858\n",
       "Length: 113, dtype: float64"
      ]
     },
     "metadata": {},
     "output_type": "display_data"
    },
    {
     "data": {
      "text/plain": [
       "삼양홀딩스      0.083675\n",
       "유한양행       0.051502\n",
       "CJ대한통운    -0.120395\n",
       "두산         0.093125\n",
       "대림산업      -0.008148\n",
       "             ...   \n",
       "LF         0.139385\n",
       "후성        -0.285582\n",
       "SK이노베이션   -0.193553\n",
       "CJ제일제당    -0.276096\n",
       "KB금융       0.082811\n",
       "Length: 113, dtype: float64"
      ]
     },
     "metadata": {},
     "output_type": "display_data"
    },
    {
     "data": {
      "text/plain": [
       "삼양홀딩스      0.083675\n",
       "유한양행       0.051502\n",
       "CJ대한통운    -0.120395\n",
       "두산         0.093125\n",
       "대림산업      -0.008148\n",
       "             ...   \n",
       "LF         0.139385\n",
       "후성        -0.285582\n",
       "SK이노베이션   -0.193553\n",
       "CJ제일제당    -0.276096\n",
       "KB금융       0.082811\n",
       "Length: 113, dtype: float64"
      ]
     },
     "metadata": {},
     "output_type": "display_data"
    },
    {
     "data": {
      "text/plain": [
       "삼양홀딩스      0.083675\n",
       "유한양행       0.051502\n",
       "CJ대한통운    -0.120395\n",
       "두산         0.093125\n",
       "대림산업      -0.008148\n",
       "             ...   \n",
       "LF         0.139385\n",
       "후성        -0.285582\n",
       "SK이노베이션   -0.193553\n",
       "CJ제일제당    -0.276096\n",
       "KB금융       0.082811\n",
       "Length: 113, dtype: float64"
      ]
     },
     "metadata": {},
     "output_type": "display_data"
    },
    {
     "data": {
      "text/plain": [
       "삼양홀딩스      0.083675\n",
       "유한양행       0.051502\n",
       "CJ대한통운    -0.120395\n",
       "두산         0.093125\n",
       "대림산업      -0.008148\n",
       "             ...   \n",
       "LF         0.139385\n",
       "후성        -0.285582\n",
       "SK이노베이션   -0.193553\n",
       "CJ제일제당    -0.276096\n",
       "KB금융       0.082811\n",
       "Length: 113, dtype: float64"
      ]
     },
     "metadata": {},
     "output_type": "display_data"
    },
    {
     "data": {
      "text/plain": [
       "삼양홀딩스      0.083675\n",
       "유한양행       0.051502\n",
       "CJ대한통운    -0.120395\n",
       "두산         0.093125\n",
       "대림산업      -0.008148\n",
       "             ...   \n",
       "LF         0.139385\n",
       "후성        -0.285582\n",
       "SK이노베이션   -0.193553\n",
       "CJ제일제당    -0.276096\n",
       "KB금융       0.082811\n",
       "Length: 113, dtype: float64"
      ]
     },
     "metadata": {},
     "output_type": "display_data"
    },
    {
     "data": {
      "text/plain": [
       "삼양홀딩스      0.285713\n",
       "유한양행      -0.098491\n",
       "CJ대한통운     0.718493\n",
       "두산        -0.206464\n",
       "대림산업      -0.208493\n",
       "             ...   \n",
       "LF         0.137170\n",
       "후성        -0.066352\n",
       "SK이노베이션   -0.323434\n",
       "CJ제일제당     0.174875\n",
       "KB금융      -0.039592\n",
       "Length: 113, dtype: float64"
      ]
     },
     "metadata": {},
     "output_type": "display_data"
    },
    {
     "data": {
      "text/plain": [
       "삼양홀딩스      0.285713\n",
       "유한양행      -0.098491\n",
       "CJ대한통운     0.718493\n",
       "두산        -0.206464\n",
       "대림산업      -0.208493\n",
       "             ...   \n",
       "LF         0.137170\n",
       "후성        -0.066352\n",
       "SK이노베이션   -0.323434\n",
       "CJ제일제당     0.174875\n",
       "KB금융      -0.039592\n",
       "Length: 113, dtype: float64"
      ]
     },
     "metadata": {},
     "output_type": "display_data"
    },
    {
     "data": {
      "text/plain": [
       "삼양홀딩스      0.285713\n",
       "유한양행      -0.098491\n",
       "CJ대한통운     0.718493\n",
       "두산        -0.206464\n",
       "대림산업      -0.208493\n",
       "             ...   \n",
       "LF         0.137170\n",
       "후성        -0.066352\n",
       "SK이노베이션   -0.323434\n",
       "CJ제일제당     0.174875\n",
       "KB금융      -0.039592\n",
       "Length: 113, dtype: float64"
      ]
     },
     "metadata": {},
     "output_type": "display_data"
    },
    {
     "data": {
      "text/plain": [
       "삼양홀딩스      0.285713\n",
       "유한양행      -0.098491\n",
       "CJ대한통운     0.718493\n",
       "두산        -0.206464\n",
       "대림산업      -0.208493\n",
       "             ...   \n",
       "LF         0.137170\n",
       "후성        -0.066352\n",
       "SK이노베이션   -0.323434\n",
       "CJ제일제당     0.174875\n",
       "KB금융      -0.039592\n",
       "Length: 113, dtype: float64"
      ]
     },
     "metadata": {},
     "output_type": "display_data"
    },
    {
     "data": {
      "text/plain": [
       "삼양홀딩스      0.285713\n",
       "유한양행      -0.098491\n",
       "CJ대한통운     0.718493\n",
       "두산        -0.206464\n",
       "대림산업      -0.208493\n",
       "             ...   \n",
       "LF         0.137170\n",
       "후성        -0.066352\n",
       "SK이노베이션   -0.323434\n",
       "CJ제일제당     0.174875\n",
       "KB금융      -0.039592\n",
       "Length: 113, dtype: float64"
      ]
     },
     "metadata": {},
     "output_type": "display_data"
    },
    {
     "data": {
      "text/plain": [
       "삼양홀딩스      0.850335\n",
       "유한양행       0.661358\n",
       "CJ대한통운     0.093967\n",
       "두산        -0.222213\n",
       "대림산업       0.090488\n",
       "             ...   \n",
       "LF        -0.110097\n",
       "후성         0.878371\n",
       "SK이노베이션    0.322847\n",
       "CJ제일제당     0.098285\n",
       "KB금융      -0.113552\n",
       "Length: 113, dtype: float64"
      ]
     },
     "metadata": {},
     "output_type": "display_data"
    },
    {
     "data": {
      "text/plain": [
       "삼양홀딩스      0.850335\n",
       "유한양행       0.661358\n",
       "CJ대한통운     0.093967\n",
       "두산        -0.222213\n",
       "대림산업       0.090488\n",
       "             ...   \n",
       "LF        -0.110097\n",
       "후성         0.878371\n",
       "SK이노베이션    0.322847\n",
       "CJ제일제당     0.098285\n",
       "KB금융      -0.113552\n",
       "Length: 113, dtype: float64"
      ]
     },
     "metadata": {},
     "output_type": "display_data"
    },
    {
     "data": {
      "text/plain": [
       "삼양홀딩스      0.850335\n",
       "유한양행       0.661358\n",
       "CJ대한통운     0.093967\n",
       "두산        -0.222213\n",
       "대림산업       0.090488\n",
       "             ...   \n",
       "LF        -0.110097\n",
       "후성         0.878371\n",
       "SK이노베이션    0.322847\n",
       "CJ제일제당     0.098285\n",
       "KB금융      -0.113552\n",
       "Length: 113, dtype: float64"
      ]
     },
     "metadata": {},
     "output_type": "display_data"
    },
    {
     "data": {
      "text/plain": [
       "삼양홀딩스      0.850335\n",
       "유한양행       0.661358\n",
       "CJ대한통운     0.093967\n",
       "두산        -0.222213\n",
       "대림산업       0.090488\n",
       "             ...   \n",
       "LF        -0.110097\n",
       "후성         0.878371\n",
       "SK이노베이션    0.322847\n",
       "CJ제일제당     0.098285\n",
       "KB금융      -0.113552\n",
       "Length: 113, dtype: float64"
      ]
     },
     "metadata": {},
     "output_type": "display_data"
    },
    {
     "data": {
      "text/plain": [
       "삼양홀딩스      0.850335\n",
       "유한양행       0.661358\n",
       "CJ대한통운     0.093967\n",
       "두산        -0.222213\n",
       "대림산업       0.090488\n",
       "             ...   \n",
       "LF        -0.110097\n",
       "후성         0.878371\n",
       "SK이노베이션    0.322847\n",
       "CJ제일제당     0.098285\n",
       "KB금융      -0.113552\n",
       "Length: 113, dtype: float64"
      ]
     },
     "metadata": {},
     "output_type": "display_data"
    },
    {
     "data": {
      "text/plain": [
       "삼양홀딩스     -0.393677\n",
       "유한양행      -0.274944\n",
       "CJ대한통운    -0.177846\n",
       "두산         0.263461\n",
       "대림산업      -0.017987\n",
       "             ...   \n",
       "LF        -0.228202\n",
       "후성         0.502862\n",
       "SK이노베이션   -0.087917\n",
       "CJ제일제당    -0.113838\n",
       "KB금융       0.299374\n",
       "Length: 113, dtype: float64"
      ]
     },
     "metadata": {},
     "output_type": "display_data"
    },
    {
     "data": {
      "text/plain": [
       "삼양홀딩스     -0.393677\n",
       "유한양행      -0.274944\n",
       "CJ대한통운    -0.177846\n",
       "두산         0.263461\n",
       "대림산업      -0.017987\n",
       "             ...   \n",
       "LF        -0.228202\n",
       "후성         0.502862\n",
       "SK이노베이션   -0.087917\n",
       "CJ제일제당    -0.113838\n",
       "KB금융       0.299374\n",
       "Length: 113, dtype: float64"
      ]
     },
     "metadata": {},
     "output_type": "display_data"
    },
    {
     "data": {
      "text/plain": [
       "삼양홀딩스     -0.393677\n",
       "유한양행      -0.274944\n",
       "CJ대한통운    -0.177846\n",
       "두산         0.263461\n",
       "대림산업      -0.017987\n",
       "             ...   \n",
       "LF        -0.228202\n",
       "후성         0.502862\n",
       "SK이노베이션   -0.087917\n",
       "CJ제일제당    -0.113838\n",
       "KB금융       0.299374\n",
       "Length: 113, dtype: float64"
      ]
     },
     "metadata": {},
     "output_type": "display_data"
    },
    {
     "data": {
      "text/plain": [
       "삼양홀딩스     -0.393677\n",
       "유한양행      -0.274944\n",
       "CJ대한통운    -0.177846\n",
       "두산         0.263461\n",
       "대림산업      -0.017987\n",
       "             ...   \n",
       "LF        -0.228202\n",
       "후성         0.502862\n",
       "SK이노베이션   -0.087917\n",
       "CJ제일제당    -0.113838\n",
       "KB금융       0.299374\n",
       "Length: 113, dtype: float64"
      ]
     },
     "metadata": {},
     "output_type": "display_data"
    },
    {
     "data": {
      "text/plain": [
       "삼양홀딩스     -0.393677\n",
       "유한양행      -0.274944\n",
       "CJ대한통운    -0.177846\n",
       "두산         0.263461\n",
       "대림산업      -0.017987\n",
       "             ...   \n",
       "LF        -0.228202\n",
       "후성         0.502862\n",
       "SK이노베이션   -0.087917\n",
       "CJ제일제당    -0.113838\n",
       "KB금융       0.299374\n",
       "Length: 113, dtype: float64"
      ]
     },
     "metadata": {},
     "output_type": "display_data"
    },
    {
     "data": {
      "text/plain": [
       "삼양홀딩스     -0.106112\n",
       "유한양행      -0.155251\n",
       "CJ대한통운    -0.328549\n",
       "두산        -0.022125\n",
       "대림산업      -0.184690\n",
       "             ...   \n",
       "LF         0.222376\n",
       "후성         0.252805\n",
       "SK이노베이션    0.097578\n",
       "CJ제일제당    -0.169611\n",
       "KB금융       0.124113\n",
       "Length: 113, dtype: float64"
      ]
     },
     "metadata": {},
     "output_type": "display_data"
    },
    {
     "data": {
      "text/plain": [
       "삼양홀딩스     -0.106112\n",
       "유한양행      -0.155251\n",
       "CJ대한통운    -0.328549\n",
       "두산        -0.022125\n",
       "대림산업      -0.184690\n",
       "             ...   \n",
       "LF         0.222376\n",
       "후성         0.252805\n",
       "SK이노베이션    0.097578\n",
       "CJ제일제당    -0.169611\n",
       "KB금융       0.124113\n",
       "Length: 113, dtype: float64"
      ]
     },
     "metadata": {},
     "output_type": "display_data"
    },
    {
     "data": {
      "text/plain": [
       "삼양홀딩스     -0.106112\n",
       "유한양행      -0.155251\n",
       "CJ대한통운    -0.328549\n",
       "두산        -0.022125\n",
       "대림산업      -0.184690\n",
       "             ...   \n",
       "LF         0.222376\n",
       "후성         0.252805\n",
       "SK이노베이션    0.097578\n",
       "CJ제일제당    -0.169611\n",
       "KB금융       0.124113\n",
       "Length: 113, dtype: float64"
      ]
     },
     "metadata": {},
     "output_type": "display_data"
    },
    {
     "data": {
      "text/plain": [
       "삼양홀딩스     -0.106112\n",
       "유한양행      -0.155251\n",
       "CJ대한통운    -0.328549\n",
       "두산        -0.022125\n",
       "대림산업      -0.184690\n",
       "             ...   \n",
       "LF         0.222376\n",
       "후성         0.252805\n",
       "SK이노베이션    0.097578\n",
       "CJ제일제당    -0.169611\n",
       "KB금융       0.124113\n",
       "Length: 113, dtype: float64"
      ]
     },
     "metadata": {},
     "output_type": "display_data"
    },
    {
     "data": {
      "text/plain": [
       "삼양홀딩스     -0.106112\n",
       "유한양행      -0.155251\n",
       "CJ대한통운    -0.328549\n",
       "두산        -0.022125\n",
       "대림산업      -0.184690\n",
       "             ...   \n",
       "LF         0.222376\n",
       "후성         0.252805\n",
       "SK이노베이션    0.097578\n",
       "CJ제일제당    -0.169611\n",
       "KB금융       0.124113\n",
       "Length: 113, dtype: float64"
      ]
     },
     "metadata": {},
     "output_type": "display_data"
    },
    {
     "data": {
      "text/plain": [
       "삼양홀딩스     -0.163935\n",
       "유한양행       0.220719\n",
       "CJ대한통운     0.500541\n",
       "두산         0.325047\n",
       "대림산업       0.647533\n",
       "             ...   \n",
       "LF         0.011149\n",
       "후성        -0.054612\n",
       "SK이노베이션    0.036965\n",
       "CJ제일제당     0.159362\n",
       "KB금융      -0.136453\n",
       "Length: 113, dtype: float64"
      ]
     },
     "metadata": {},
     "output_type": "display_data"
    },
    {
     "data": {
      "text/plain": [
       "삼양홀딩스     -0.163935\n",
       "유한양행       0.220719\n",
       "CJ대한통운     0.500541\n",
       "두산         0.325047\n",
       "대림산업       0.647533\n",
       "             ...   \n",
       "LF         0.011149\n",
       "후성        -0.054612\n",
       "SK이노베이션    0.036965\n",
       "CJ제일제당     0.159362\n",
       "KB금융      -0.136453\n",
       "Length: 113, dtype: float64"
      ]
     },
     "metadata": {},
     "output_type": "display_data"
    },
    {
     "data": {
      "text/plain": [
       "삼양홀딩스     -0.163935\n",
       "유한양행       0.220719\n",
       "CJ대한통운     0.500541\n",
       "두산         0.325047\n",
       "대림산업       0.647533\n",
       "             ...   \n",
       "LF         0.011149\n",
       "후성        -0.054612\n",
       "SK이노베이션    0.036965\n",
       "CJ제일제당     0.159362\n",
       "KB금융      -0.136453\n",
       "Length: 113, dtype: float64"
      ]
     },
     "metadata": {},
     "output_type": "display_data"
    },
    {
     "data": {
      "text/plain": [
       "삼양홀딩스     -0.163935\n",
       "유한양행       0.220719\n",
       "CJ대한통운     0.500541\n",
       "두산         0.325047\n",
       "대림산업       0.647533\n",
       "             ...   \n",
       "LF         0.011149\n",
       "후성        -0.054612\n",
       "SK이노베이션    0.036965\n",
       "CJ제일제당     0.159362\n",
       "KB금융      -0.136453\n",
       "Length: 113, dtype: float64"
      ]
     },
     "metadata": {},
     "output_type": "display_data"
    },
    {
     "data": {
      "text/plain": [
       "삼양홀딩스     -0.163935\n",
       "유한양행       0.220719\n",
       "CJ대한통운     0.500541\n",
       "두산         0.325047\n",
       "대림산업       0.647533\n",
       "             ...   \n",
       "LF         0.011149\n",
       "후성        -0.054612\n",
       "SK이노베이션    0.036965\n",
       "CJ제일제당     0.159362\n",
       "KB금융      -0.136453\n",
       "Length: 113, dtype: float64"
      ]
     },
     "metadata": {},
     "output_type": "display_data"
    },
    {
     "data": {
      "text/plain": [
       "삼양홀딩스     -0.233463\n",
       "유한양행      -0.087414\n",
       "CJ대한통운    -0.216561\n",
       "두산        -0.117309\n",
       "대림산업      -0.065318\n",
       "             ...   \n",
       "LF        -0.299988\n",
       "후성        -0.035100\n",
       "SK이노베이션   -0.230418\n",
       "CJ제일제당    -0.245889\n",
       "KB금융       0.035936\n",
       "Length: 113, dtype: float64"
      ]
     },
     "metadata": {},
     "output_type": "display_data"
    },
    {
     "data": {
      "text/plain": [
       "삼양홀딩스     -0.233463\n",
       "유한양행      -0.087414\n",
       "CJ대한통운    -0.216561\n",
       "두산        -0.117309\n",
       "대림산업      -0.065318\n",
       "             ...   \n",
       "LF        -0.299988\n",
       "후성        -0.035100\n",
       "SK이노베이션   -0.230418\n",
       "CJ제일제당    -0.245889\n",
       "KB금융       0.035936\n",
       "Length: 113, dtype: float64"
      ]
     },
     "metadata": {},
     "output_type": "display_data"
    },
    {
     "data": {
      "text/plain": [
       "삼양홀딩스     -0.233463\n",
       "유한양행      -0.087414\n",
       "CJ대한통운    -0.216561\n",
       "두산        -0.117309\n",
       "대림산업      -0.065318\n",
       "             ...   \n",
       "LF        -0.299988\n",
       "후성        -0.035100\n",
       "SK이노베이션   -0.230418\n",
       "CJ제일제당    -0.245889\n",
       "KB금융       0.035936\n",
       "Length: 113, dtype: float64"
      ]
     },
     "metadata": {},
     "output_type": "display_data"
    },
    {
     "data": {
      "text/plain": [
       "삼양홀딩스     -0.233463\n",
       "유한양행      -0.087414\n",
       "CJ대한통운    -0.216561\n",
       "두산        -0.117309\n",
       "대림산업      -0.065318\n",
       "             ...   \n",
       "LF        -0.299988\n",
       "후성        -0.035100\n",
       "SK이노베이션   -0.230418\n",
       "CJ제일제당    -0.245889\n",
       "KB금융       0.035936\n",
       "Length: 113, dtype: float64"
      ]
     },
     "metadata": {},
     "output_type": "display_data"
    },
    {
     "data": {
      "text/plain": [
       "삼양홀딩스     -0.233463\n",
       "유한양행      -0.087414\n",
       "CJ대한통운    -0.216561\n",
       "두산        -0.117309\n",
       "대림산업      -0.065318\n",
       "             ...   \n",
       "LF        -0.299988\n",
       "후성        -0.035100\n",
       "SK이노베이션   -0.230418\n",
       "CJ제일제당    -0.245889\n",
       "KB금융       0.035936\n",
       "Length: 113, dtype: float64"
      ]
     },
     "metadata": {},
     "output_type": "display_data"
    },
    {
     "data": {
      "text/plain": [
       "삼양홀딩스     -0.053043\n",
       "유한양행       0.560373\n",
       "CJ대한통운     0.501286\n",
       "두산        -0.241979\n",
       "대림산업      -0.226665\n",
       "             ...   \n",
       "LF        -0.307919\n",
       "후성        -0.296662\n",
       "SK이노베이션   -0.036967\n",
       "CJ제일제당     0.172171\n",
       "KB금융      -0.022009\n",
       "Length: 113, dtype: float64"
      ]
     },
     "metadata": {},
     "output_type": "display_data"
    },
    {
     "data": {
      "text/plain": [
       "삼양홀딩스     -0.053043\n",
       "유한양행       0.560373\n",
       "CJ대한통운     0.501286\n",
       "두산        -0.241979\n",
       "대림산업      -0.226665\n",
       "             ...   \n",
       "LF        -0.307919\n",
       "후성        -0.296662\n",
       "SK이노베이션   -0.036967\n",
       "CJ제일제당     0.172171\n",
       "KB금융      -0.022009\n",
       "Length: 113, dtype: float64"
      ]
     },
     "metadata": {},
     "output_type": "display_data"
    },
    {
     "data": {
      "text/plain": [
       "삼양홀딩스     -0.053043\n",
       "유한양행       0.560373\n",
       "CJ대한통운     0.501286\n",
       "두산        -0.241979\n",
       "대림산업      -0.226665\n",
       "             ...   \n",
       "LF        -0.307919\n",
       "후성        -0.296662\n",
       "SK이노베이션   -0.036967\n",
       "CJ제일제당     0.172171\n",
       "KB금융      -0.022009\n",
       "Length: 113, dtype: float64"
      ]
     },
     "metadata": {},
     "output_type": "display_data"
    },
    {
     "data": {
      "text/plain": [
       "삼양홀딩스     -0.053043\n",
       "유한양행       0.560373\n",
       "CJ대한통운     0.501286\n",
       "두산        -0.241979\n",
       "대림산업      -0.226665\n",
       "             ...   \n",
       "LF        -0.307919\n",
       "후성        -0.296662\n",
       "SK이노베이션   -0.036967\n",
       "CJ제일제당     0.172171\n",
       "KB금융      -0.022009\n",
       "Length: 113, dtype: float64"
      ]
     },
     "metadata": {},
     "output_type": "display_data"
    },
    {
     "data": {
      "text/plain": [
       "삼양홀딩스     -0.053043\n",
       "유한양행       0.560373\n",
       "CJ대한통운     0.501286\n",
       "두산        -0.241979\n",
       "대림산업      -0.226665\n",
       "             ...   \n",
       "LF        -0.307919\n",
       "후성        -0.296662\n",
       "SK이노베이션   -0.036967\n",
       "CJ제일제당     0.172171\n",
       "KB금융      -0.022009\n",
       "Length: 113, dtype: float64"
      ]
     },
     "metadata": {},
     "output_type": "display_data"
    },
    {
     "data": {
      "text/plain": [
       "삼양홀딩스      0.041510\n",
       "유한양행       0.146497\n",
       "CJ대한통운    -0.017116\n",
       "두산         0.118849\n",
       "대림산업      -0.088965\n",
       "             ...   \n",
       "LF         0.034870\n",
       "후성        -0.240570\n",
       "SK이노베이션   -0.244415\n",
       "CJ제일제당    -0.275856\n",
       "KB금융      -0.003726\n",
       "Length: 113, dtype: float64"
      ]
     },
     "metadata": {},
     "output_type": "display_data"
    },
    {
     "data": {
      "text/plain": [
       "삼양홀딩스      0.041510\n",
       "유한양행       0.146497\n",
       "CJ대한통운    -0.017116\n",
       "두산         0.118849\n",
       "대림산업      -0.088965\n",
       "             ...   \n",
       "LF         0.034870\n",
       "후성        -0.240570\n",
       "SK이노베이션   -0.244415\n",
       "CJ제일제당    -0.275856\n",
       "KB금융      -0.003726\n",
       "Length: 113, dtype: float64"
      ]
     },
     "metadata": {},
     "output_type": "display_data"
    },
    {
     "data": {
      "text/plain": [
       "삼양홀딩스      0.041510\n",
       "유한양행       0.146497\n",
       "CJ대한통운    -0.017116\n",
       "두산         0.118849\n",
       "대림산업      -0.088965\n",
       "             ...   \n",
       "LF         0.034870\n",
       "후성        -0.240570\n",
       "SK이노베이션   -0.244415\n",
       "CJ제일제당    -0.275856\n",
       "KB금융      -0.003726\n",
       "Length: 113, dtype: float64"
      ]
     },
     "metadata": {},
     "output_type": "display_data"
    },
    {
     "data": {
      "text/plain": [
       "삼양홀딩스      0.041510\n",
       "유한양행       0.146497\n",
       "CJ대한통운    -0.017116\n",
       "두산         0.118849\n",
       "대림산업      -0.088965\n",
       "             ...   \n",
       "LF         0.034870\n",
       "후성        -0.240570\n",
       "SK이노베이션   -0.244415\n",
       "CJ제일제당    -0.275856\n",
       "KB금융      -0.003726\n",
       "Length: 113, dtype: float64"
      ]
     },
     "metadata": {},
     "output_type": "display_data"
    },
    {
     "data": {
      "text/plain": [
       "삼양홀딩스      0.041510\n",
       "유한양행       0.146497\n",
       "CJ대한통운    -0.017116\n",
       "두산         0.118849\n",
       "대림산업      -0.088965\n",
       "             ...   \n",
       "LF         0.034870\n",
       "후성        -0.240570\n",
       "SK이노베이션   -0.244415\n",
       "CJ제일제당    -0.275856\n",
       "KB금융      -0.003726\n",
       "Length: 113, dtype: float64"
      ]
     },
     "metadata": {},
     "output_type": "display_data"
    },
    {
     "data": {
      "text/plain": [
       "삼양홀딩스      0.323217\n",
       "유한양행      -0.112638\n",
       "CJ대한통운     0.638289\n",
       "두산        -0.221242\n",
       "대림산업      -0.353268\n",
       "             ...   \n",
       "LF         0.168088\n",
       "후성        -0.130204\n",
       "SK이노베이션   -0.271381\n",
       "CJ제일제당     0.316886\n",
       "KB금융      -0.045284\n",
       "Length: 113, dtype: float64"
      ]
     },
     "metadata": {},
     "output_type": "display_data"
    },
    {
     "data": {
      "text/plain": [
       "삼양홀딩스      0.323217\n",
       "유한양행      -0.112638\n",
       "CJ대한통운     0.638289\n",
       "두산        -0.221242\n",
       "대림산업      -0.353268\n",
       "             ...   \n",
       "LF         0.168088\n",
       "후성        -0.130204\n",
       "SK이노베이션   -0.271381\n",
       "CJ제일제당     0.316886\n",
       "KB금융      -0.045284\n",
       "Length: 113, dtype: float64"
      ]
     },
     "metadata": {},
     "output_type": "display_data"
    },
    {
     "data": {
      "text/plain": [
       "삼양홀딩스      0.323217\n",
       "유한양행      -0.112638\n",
       "CJ대한통운     0.638289\n",
       "두산        -0.221242\n",
       "대림산업      -0.353268\n",
       "             ...   \n",
       "LF         0.168088\n",
       "후성        -0.130204\n",
       "SK이노베이션   -0.271381\n",
       "CJ제일제당     0.316886\n",
       "KB금융      -0.045284\n",
       "Length: 113, dtype: float64"
      ]
     },
     "metadata": {},
     "output_type": "display_data"
    },
    {
     "data": {
      "text/plain": [
       "삼양홀딩스      0.323217\n",
       "유한양행      -0.112638\n",
       "CJ대한통운     0.638289\n",
       "두산        -0.221242\n",
       "대림산업      -0.353268\n",
       "             ...   \n",
       "LF         0.168088\n",
       "후성        -0.130204\n",
       "SK이노베이션   -0.271381\n",
       "CJ제일제당     0.316886\n",
       "KB금융      -0.045284\n",
       "Length: 113, dtype: float64"
      ]
     },
     "metadata": {},
     "output_type": "display_data"
    },
    {
     "data": {
      "text/plain": [
       "삼양홀딩스      0.323217\n",
       "유한양행      -0.112638\n",
       "CJ대한통운     0.638289\n",
       "두산        -0.221242\n",
       "대림산업      -0.353268\n",
       "             ...   \n",
       "LF         0.168088\n",
       "후성        -0.130204\n",
       "SK이노베이션   -0.271381\n",
       "CJ제일제당     0.316886\n",
       "KB금융      -0.045284\n",
       "Length: 113, dtype: float64"
      ]
     },
     "metadata": {},
     "output_type": "display_data"
    },
    {
     "data": {
      "text/plain": [
       "삼양홀딩스      1.112531\n",
       "유한양행       1.096153\n",
       "CJ대한통운     0.305660\n",
       "두산        -0.301864\n",
       "대림산업       0.315184\n",
       "             ...   \n",
       "LF        -0.114262\n",
       "후성         0.536010\n",
       "SK이노베이션    0.379446\n",
       "CJ제일제당     0.236804\n",
       "KB금융      -0.153034\n",
       "Length: 113, dtype: float64"
      ]
     },
     "metadata": {},
     "output_type": "display_data"
    },
    {
     "data": {
      "text/plain": [
       "삼양홀딩스      1.112531\n",
       "유한양행       1.096153\n",
       "CJ대한통운     0.305660\n",
       "두산        -0.301864\n",
       "대림산업       0.315184\n",
       "             ...   \n",
       "LF        -0.114262\n",
       "후성         0.536010\n",
       "SK이노베이션    0.379446\n",
       "CJ제일제당     0.236804\n",
       "KB금융      -0.153034\n",
       "Length: 113, dtype: float64"
      ]
     },
     "metadata": {},
     "output_type": "display_data"
    },
    {
     "data": {
      "text/plain": [
       "삼양홀딩스      1.112531\n",
       "유한양행       1.096153\n",
       "CJ대한통운     0.305660\n",
       "두산        -0.301864\n",
       "대림산업       0.315184\n",
       "             ...   \n",
       "LF        -0.114262\n",
       "후성         0.536010\n",
       "SK이노베이션    0.379446\n",
       "CJ제일제당     0.236804\n",
       "KB금융      -0.153034\n",
       "Length: 113, dtype: float64"
      ]
     },
     "metadata": {},
     "output_type": "display_data"
    },
    {
     "data": {
      "text/plain": [
       "삼양홀딩스      1.112531\n",
       "유한양행       1.096153\n",
       "CJ대한통운     0.305660\n",
       "두산        -0.301864\n",
       "대림산업       0.315184\n",
       "             ...   \n",
       "LF        -0.114262\n",
       "후성         0.536010\n",
       "SK이노베이션    0.379446\n",
       "CJ제일제당     0.236804\n",
       "KB금융      -0.153034\n",
       "Length: 113, dtype: float64"
      ]
     },
     "metadata": {},
     "output_type": "display_data"
    },
    {
     "data": {
      "text/plain": [
       "삼양홀딩스      1.112531\n",
       "유한양행       1.096153\n",
       "CJ대한통운     0.305660\n",
       "두산        -0.301864\n",
       "대림산업       0.315184\n",
       "             ...   \n",
       "LF        -0.114262\n",
       "후성         0.536010\n",
       "SK이노베이션    0.379446\n",
       "CJ제일제당     0.236804\n",
       "KB금융      -0.153034\n",
       "Length: 113, dtype: float64"
      ]
     },
     "metadata": {},
     "output_type": "display_data"
    },
    {
     "data": {
      "text/plain": [
       "삼양홀딩스     -0.496354\n",
       "유한양행      -0.336368\n",
       "CJ대한통운    -0.275047\n",
       "두산         0.224860\n",
       "대림산업      -0.082930\n",
       "             ...   \n",
       "LF        -0.257479\n",
       "후성         0.453206\n",
       "SK이노베이션   -0.051451\n",
       "CJ제일제당    -0.148937\n",
       "KB금융       0.383757\n",
       "Length: 113, dtype: float64"
      ]
     },
     "metadata": {},
     "output_type": "display_data"
    },
    {
     "data": {
      "text/plain": [
       "삼양홀딩스     -0.496354\n",
       "유한양행      -0.336368\n",
       "CJ대한통운    -0.275047\n",
       "두산         0.224860\n",
       "대림산업      -0.082930\n",
       "             ...   \n",
       "LF        -0.257479\n",
       "후성         0.453206\n",
       "SK이노베이션   -0.051451\n",
       "CJ제일제당    -0.148937\n",
       "KB금융       0.383757\n",
       "Length: 113, dtype: float64"
      ]
     },
     "metadata": {},
     "output_type": "display_data"
    },
    {
     "data": {
      "text/plain": [
       "삼양홀딩스     -0.496354\n",
       "유한양행      -0.336368\n",
       "CJ대한통운    -0.275047\n",
       "두산         0.224860\n",
       "대림산업      -0.082930\n",
       "             ...   \n",
       "LF        -0.257479\n",
       "후성         0.453206\n",
       "SK이노베이션   -0.051451\n",
       "CJ제일제당    -0.148937\n",
       "KB금융       0.383757\n",
       "Length: 113, dtype: float64"
      ]
     },
     "metadata": {},
     "output_type": "display_data"
    },
    {
     "data": {
      "text/plain": [
       "삼양홀딩스     -0.496354\n",
       "유한양행      -0.336368\n",
       "CJ대한통운    -0.275047\n",
       "두산         0.224860\n",
       "대림산업      -0.082930\n",
       "             ...   \n",
       "LF        -0.257479\n",
       "후성         0.453206\n",
       "SK이노베이션   -0.051451\n",
       "CJ제일제당    -0.148937\n",
       "KB금융       0.383757\n",
       "Length: 113, dtype: float64"
      ]
     },
     "metadata": {},
     "output_type": "display_data"
    },
    {
     "data": {
      "text/plain": [
       "삼양홀딩스     -0.496354\n",
       "유한양행      -0.336368\n",
       "CJ대한통운    -0.275047\n",
       "두산         0.224860\n",
       "대림산업      -0.082930\n",
       "             ...   \n",
       "LF        -0.257479\n",
       "후성         0.453206\n",
       "SK이노베이션   -0.051451\n",
       "CJ제일제당    -0.148937\n",
       "KB금융       0.383757\n",
       "Length: 113, dtype: float64"
      ]
     },
     "metadata": {},
     "output_type": "display_data"
    },
    {
     "data": {
      "text/plain": [
       "삼양홀딩스     -0.134655\n",
       "유한양행      -0.125149\n",
       "CJ대한통운    -0.323687\n",
       "두산        -0.003134\n",
       "대림산업      -0.218008\n",
       "             ...   \n",
       "LF         0.302547\n",
       "후성         0.300280\n",
       "SK이노베이션    0.068594\n",
       "CJ제일제당    -0.209067\n",
       "KB금융       0.162192\n",
       "Length: 113, dtype: float64"
      ]
     },
     "metadata": {},
     "output_type": "display_data"
    },
    {
     "data": {
      "text/plain": [
       "삼양홀딩스     -0.134655\n",
       "유한양행      -0.125149\n",
       "CJ대한통운    -0.323687\n",
       "두산        -0.003134\n",
       "대림산업      -0.218008\n",
       "             ...   \n",
       "LF         0.302547\n",
       "후성         0.300280\n",
       "SK이노베이션    0.068594\n",
       "CJ제일제당    -0.209067\n",
       "KB금융       0.162192\n",
       "Length: 113, dtype: float64"
      ]
     },
     "metadata": {},
     "output_type": "display_data"
    },
    {
     "data": {
      "text/plain": [
       "삼양홀딩스     -0.134655\n",
       "유한양행      -0.125149\n",
       "CJ대한통운    -0.323687\n",
       "두산        -0.003134\n",
       "대림산업      -0.218008\n",
       "             ...   \n",
       "LF         0.302547\n",
       "후성         0.300280\n",
       "SK이노베이션    0.068594\n",
       "CJ제일제당    -0.209067\n",
       "KB금융       0.162192\n",
       "Length: 113, dtype: float64"
      ]
     },
     "metadata": {},
     "output_type": "display_data"
    },
    {
     "data": {
      "text/plain": [
       "삼양홀딩스     -0.134655\n",
       "유한양행      -0.125149\n",
       "CJ대한통운    -0.323687\n",
       "두산        -0.003134\n",
       "대림산업      -0.218008\n",
       "             ...   \n",
       "LF         0.302547\n",
       "후성         0.300280\n",
       "SK이노베이션    0.068594\n",
       "CJ제일제당    -0.209067\n",
       "KB금융       0.162192\n",
       "Length: 113, dtype: float64"
      ]
     },
     "metadata": {},
     "output_type": "display_data"
    },
    {
     "data": {
      "text/plain": [
       "삼양홀딩스     -0.134655\n",
       "유한양행      -0.125149\n",
       "CJ대한통운    -0.323687\n",
       "두산        -0.003134\n",
       "대림산업      -0.218008\n",
       "             ...   \n",
       "LF         0.302547\n",
       "후성         0.300280\n",
       "SK이노베이션    0.068594\n",
       "CJ제일제당    -0.209067\n",
       "KB금융       0.162192\n",
       "Length: 113, dtype: float64"
      ]
     },
     "metadata": {},
     "output_type": "display_data"
    },
    {
     "data": {
      "text/plain": [
       "삼양홀딩스     -0.188636\n",
       "유한양행       0.300829\n",
       "CJ대한통운     0.381197\n",
       "두산         0.280150\n",
       "대림산업       0.569529\n",
       "             ...   \n",
       "LF        -0.083496\n",
       "후성        -0.032276\n",
       "SK이노베이션   -0.001777\n",
       "CJ제일제당     0.098272\n",
       "KB금융      -0.182849\n",
       "Length: 113, dtype: float64"
      ]
     },
     "metadata": {},
     "output_type": "display_data"
    },
    {
     "data": {
      "text/plain": [
       "삼양홀딩스     -0.188636\n",
       "유한양행       0.300829\n",
       "CJ대한통운     0.381197\n",
       "두산         0.280150\n",
       "대림산업       0.569529\n",
       "             ...   \n",
       "LF        -0.083496\n",
       "후성        -0.032276\n",
       "SK이노베이션   -0.001777\n",
       "CJ제일제당     0.098272\n",
       "KB금융      -0.182849\n",
       "Length: 113, dtype: float64"
      ]
     },
     "metadata": {},
     "output_type": "display_data"
    },
    {
     "data": {
      "text/plain": [
       "삼양홀딩스     -0.188636\n",
       "유한양행       0.300829\n",
       "CJ대한통운     0.381197\n",
       "두산         0.280150\n",
       "대림산업       0.569529\n",
       "             ...   \n",
       "LF        -0.083496\n",
       "후성        -0.032276\n",
       "SK이노베이션   -0.001777\n",
       "CJ제일제당     0.098272\n",
       "KB금융      -0.182849\n",
       "Length: 113, dtype: float64"
      ]
     },
     "metadata": {},
     "output_type": "display_data"
    },
    {
     "data": {
      "text/plain": [
       "삼양홀딩스     -0.188636\n",
       "유한양행       0.300829\n",
       "CJ대한통운     0.381197\n",
       "두산         0.280150\n",
       "대림산업       0.569529\n",
       "             ...   \n",
       "LF        -0.083496\n",
       "후성        -0.032276\n",
       "SK이노베이션   -0.001777\n",
       "CJ제일제당     0.098272\n",
       "KB금융      -0.182849\n",
       "Length: 113, dtype: float64"
      ]
     },
     "metadata": {},
     "output_type": "display_data"
    },
    {
     "data": {
      "text/plain": [
       "삼양홀딩스     -0.188636\n",
       "유한양행       0.300829\n",
       "CJ대한통운     0.381197\n",
       "두산         0.280150\n",
       "대림산업       0.569529\n",
       "             ...   \n",
       "LF        -0.083496\n",
       "후성        -0.032276\n",
       "SK이노베이션   -0.001777\n",
       "CJ제일제당     0.098272\n",
       "KB금융      -0.182849\n",
       "Length: 113, dtype: float64"
      ]
     },
     "metadata": {},
     "output_type": "display_data"
    },
    {
     "data": {
      "text/plain": [
       "삼양홀딩스     -0.233463\n",
       "유한양행      -0.087414\n",
       "CJ대한통운    -0.216561\n",
       "두산        -0.117309\n",
       "대림산업      -0.065318\n",
       "             ...   \n",
       "LF        -0.299988\n",
       "후성        -0.035100\n",
       "SK이노베이션   -0.230418\n",
       "CJ제일제당    -0.245889\n",
       "KB금융       0.035936\n",
       "Length: 113, dtype: float64"
      ]
     },
     "metadata": {},
     "output_type": "display_data"
    },
    {
     "data": {
      "text/plain": [
       "삼양홀딩스     -0.233463\n",
       "유한양행      -0.087414\n",
       "CJ대한통운    -0.216561\n",
       "두산        -0.117309\n",
       "대림산업      -0.065318\n",
       "             ...   \n",
       "LF        -0.299988\n",
       "후성        -0.035100\n",
       "SK이노베이션   -0.230418\n",
       "CJ제일제당    -0.245889\n",
       "KB금융       0.035936\n",
       "Length: 113, dtype: float64"
      ]
     },
     "metadata": {},
     "output_type": "display_data"
    },
    {
     "data": {
      "text/plain": [
       "삼양홀딩스     -0.233463\n",
       "유한양행      -0.087414\n",
       "CJ대한통운    -0.216561\n",
       "두산        -0.117309\n",
       "대림산업      -0.065318\n",
       "             ...   \n",
       "LF        -0.299988\n",
       "후성        -0.035100\n",
       "SK이노베이션   -0.230418\n",
       "CJ제일제당    -0.245889\n",
       "KB금융       0.035936\n",
       "Length: 113, dtype: float64"
      ]
     },
     "metadata": {},
     "output_type": "display_data"
    },
    {
     "data": {
      "text/plain": [
       "삼양홀딩스     -0.233463\n",
       "유한양행      -0.087414\n",
       "CJ대한통운    -0.216561\n",
       "두산        -0.117309\n",
       "대림산업      -0.065318\n",
       "             ...   \n",
       "LF        -0.299988\n",
       "후성        -0.035100\n",
       "SK이노베이션   -0.230418\n",
       "CJ제일제당    -0.245889\n",
       "KB금융       0.035936\n",
       "Length: 113, dtype: float64"
      ]
     },
     "metadata": {},
     "output_type": "display_data"
    },
    {
     "data": {
      "text/plain": [
       "삼양홀딩스     -0.233463\n",
       "유한양행      -0.087414\n",
       "CJ대한통운    -0.216561\n",
       "두산        -0.117309\n",
       "대림산업      -0.065318\n",
       "             ...   \n",
       "LF        -0.299988\n",
       "후성        -0.035100\n",
       "SK이노베이션   -0.230418\n",
       "CJ제일제당    -0.245889\n",
       "KB금융       0.035936\n",
       "Length: 113, dtype: float64"
      ]
     },
     "metadata": {},
     "output_type": "display_data"
    }
   ],
   "source": [
    "ls = [get_event_returns(month_abnormal_df,i) for i in range(1,11+1)]"
   ]
  },
  {
   "cell_type": "code",
   "execution_count": 41,
   "metadata": {},
   "outputs": [
    {
     "data": {
      "text/plain": [
       "[(0.0019825508113308896, -0.005666672110517132),\n",
       " (0.011018855572727242, 0.009810245711390744),\n",
       " (0.01380182364358497, 0.0010867654164891877),\n",
       " (0.008343881012831613, 0.0013520473261310444),\n",
       " (0.005053705494621558, 0.009143353278284236),\n",
       " (0.0047506217324005204, 0.0001572303320464749),\n",
       " (0.012338720574706275, 0.0021728111431510294),\n",
       " (-0.01010902073007411, -0.016547857862935587),\n",
       " (-0.0008995229571131351, -0.012371983838754382),\n",
       " (-0.0043796855047439215, -0.0014164545086230718),\n",
       " (0.010963304691267023, -0.009766265914959563)]"
      ]
     },
     "execution_count": 41,
     "metadata": {},
     "output_type": "execute_result"
    }
   ],
   "source": [
    "ls"
   ]
  },
  {
   "cell_type": "code",
   "execution_count": 42,
   "metadata": {},
   "outputs": [
    {
     "data": {
      "application/vnd.plotly.v1+json": {
       "config": {
        "linkText": "Export to plot.ly",
        "plotlyServerURL": "https://plot.ly",
        "showLink": true
       },
       "data": [
        {
         "line": {
          "color": "rgba(255, 153, 51, 1.0)",
          "dash": "solid",
          "shape": "linear",
          "width": 1.3
         },
         "mode": "lines",
         "name": "Q1",
         "text": "",
         "type": "scatter",
         "x": [
          0,
          1,
          2,
          3,
          4,
          5,
          6,
          7,
          8,
          9,
          10
         ],
         "y": [
          0.0019825508113308896,
          0.011018855572727242,
          0.01380182364358497,
          0.008343881012831613,
          0.005053705494621558,
          0.0047506217324005204,
          0.012338720574706275,
          -0.01010902073007411,
          -0.0008995229571131351,
          -0.0043796855047439215,
          0.010963304691267023
         ]
        },
        {
         "line": {
          "color": "rgba(55, 128, 191, 1.0)",
          "dash": "solid",
          "shape": "linear",
          "width": 1.3
         },
         "mode": "lines",
         "name": "Q5",
         "text": "",
         "type": "scatter",
         "x": [
          0,
          1,
          2,
          3,
          4,
          5,
          6,
          7,
          8,
          9,
          10
         ],
         "y": [
          -0.005666672110517132,
          0.009810245711390744,
          0.0010867654164891877,
          0.0013520473261310444,
          0.009143353278284236,
          0.0001572303320464749,
          0.0021728111431510294,
          -0.016547857862935587,
          -0.012371983838754382,
          -0.0014164545086230718,
          -0.009766265914959563
         ]
        }
       ],
       "layout": {
        "legend": {
         "bgcolor": "#F5F6F9",
         "font": {
          "color": "#4D5663"
         }
        },
        "paper_bgcolor": "#F5F6F9",
        "plot_bgcolor": "#F5F6F9",
        "template": {
         "data": {
          "bar": [
           {
            "error_x": {
             "color": "#2a3f5f"
            },
            "error_y": {
             "color": "#2a3f5f"
            },
            "marker": {
             "line": {
              "color": "#E5ECF6",
              "width": 0.5
             }
            },
            "type": "bar"
           }
          ],
          "barpolar": [
           {
            "marker": {
             "line": {
              "color": "#E5ECF6",
              "width": 0.5
             }
            },
            "type": "barpolar"
           }
          ],
          "carpet": [
           {
            "aaxis": {
             "endlinecolor": "#2a3f5f",
             "gridcolor": "white",
             "linecolor": "white",
             "minorgridcolor": "white",
             "startlinecolor": "#2a3f5f"
            },
            "baxis": {
             "endlinecolor": "#2a3f5f",
             "gridcolor": "white",
             "linecolor": "white",
             "minorgridcolor": "white",
             "startlinecolor": "#2a3f5f"
            },
            "type": "carpet"
           }
          ],
          "choropleth": [
           {
            "colorbar": {
             "outlinewidth": 0,
             "ticks": ""
            },
            "type": "choropleth"
           }
          ],
          "contour": [
           {
            "colorbar": {
             "outlinewidth": 0,
             "ticks": ""
            },
            "colorscale": [
             [
              0,
              "#0d0887"
             ],
             [
              0.1111111111111111,
              "#46039f"
             ],
             [
              0.2222222222222222,
              "#7201a8"
             ],
             [
              0.3333333333333333,
              "#9c179e"
             ],
             [
              0.4444444444444444,
              "#bd3786"
             ],
             [
              0.5555555555555556,
              "#d8576b"
             ],
             [
              0.6666666666666666,
              "#ed7953"
             ],
             [
              0.7777777777777778,
              "#fb9f3a"
             ],
             [
              0.8888888888888888,
              "#fdca26"
             ],
             [
              1,
              "#f0f921"
             ]
            ],
            "type": "contour"
           }
          ],
          "contourcarpet": [
           {
            "colorbar": {
             "outlinewidth": 0,
             "ticks": ""
            },
            "type": "contourcarpet"
           }
          ],
          "heatmap": [
           {
            "colorbar": {
             "outlinewidth": 0,
             "ticks": ""
            },
            "colorscale": [
             [
              0,
              "#0d0887"
             ],
             [
              0.1111111111111111,
              "#46039f"
             ],
             [
              0.2222222222222222,
              "#7201a8"
             ],
             [
              0.3333333333333333,
              "#9c179e"
             ],
             [
              0.4444444444444444,
              "#bd3786"
             ],
             [
              0.5555555555555556,
              "#d8576b"
             ],
             [
              0.6666666666666666,
              "#ed7953"
             ],
             [
              0.7777777777777778,
              "#fb9f3a"
             ],
             [
              0.8888888888888888,
              "#fdca26"
             ],
             [
              1,
              "#f0f921"
             ]
            ],
            "type": "heatmap"
           }
          ],
          "heatmapgl": [
           {
            "colorbar": {
             "outlinewidth": 0,
             "ticks": ""
            },
            "colorscale": [
             [
              0,
              "#0d0887"
             ],
             [
              0.1111111111111111,
              "#46039f"
             ],
             [
              0.2222222222222222,
              "#7201a8"
             ],
             [
              0.3333333333333333,
              "#9c179e"
             ],
             [
              0.4444444444444444,
              "#bd3786"
             ],
             [
              0.5555555555555556,
              "#d8576b"
             ],
             [
              0.6666666666666666,
              "#ed7953"
             ],
             [
              0.7777777777777778,
              "#fb9f3a"
             ],
             [
              0.8888888888888888,
              "#fdca26"
             ],
             [
              1,
              "#f0f921"
             ]
            ],
            "type": "heatmapgl"
           }
          ],
          "histogram": [
           {
            "marker": {
             "colorbar": {
              "outlinewidth": 0,
              "ticks": ""
             }
            },
            "type": "histogram"
           }
          ],
          "histogram2d": [
           {
            "colorbar": {
             "outlinewidth": 0,
             "ticks": ""
            },
            "colorscale": [
             [
              0,
              "#0d0887"
             ],
             [
              0.1111111111111111,
              "#46039f"
             ],
             [
              0.2222222222222222,
              "#7201a8"
             ],
             [
              0.3333333333333333,
              "#9c179e"
             ],
             [
              0.4444444444444444,
              "#bd3786"
             ],
             [
              0.5555555555555556,
              "#d8576b"
             ],
             [
              0.6666666666666666,
              "#ed7953"
             ],
             [
              0.7777777777777778,
              "#fb9f3a"
             ],
             [
              0.8888888888888888,
              "#fdca26"
             ],
             [
              1,
              "#f0f921"
             ]
            ],
            "type": "histogram2d"
           }
          ],
          "histogram2dcontour": [
           {
            "colorbar": {
             "outlinewidth": 0,
             "ticks": ""
            },
            "colorscale": [
             [
              0,
              "#0d0887"
             ],
             [
              0.1111111111111111,
              "#46039f"
             ],
             [
              0.2222222222222222,
              "#7201a8"
             ],
             [
              0.3333333333333333,
              "#9c179e"
             ],
             [
              0.4444444444444444,
              "#bd3786"
             ],
             [
              0.5555555555555556,
              "#d8576b"
             ],
             [
              0.6666666666666666,
              "#ed7953"
             ],
             [
              0.7777777777777778,
              "#fb9f3a"
             ],
             [
              0.8888888888888888,
              "#fdca26"
             ],
             [
              1,
              "#f0f921"
             ]
            ],
            "type": "histogram2dcontour"
           }
          ],
          "mesh3d": [
           {
            "colorbar": {
             "outlinewidth": 0,
             "ticks": ""
            },
            "type": "mesh3d"
           }
          ],
          "parcoords": [
           {
            "line": {
             "colorbar": {
              "outlinewidth": 0,
              "ticks": ""
             }
            },
            "type": "parcoords"
           }
          ],
          "pie": [
           {
            "automargin": true,
            "type": "pie"
           }
          ],
          "scatter": [
           {
            "marker": {
             "colorbar": {
              "outlinewidth": 0,
              "ticks": ""
             }
            },
            "type": "scatter"
           }
          ],
          "scatter3d": [
           {
            "line": {
             "colorbar": {
              "outlinewidth": 0,
              "ticks": ""
             }
            },
            "marker": {
             "colorbar": {
              "outlinewidth": 0,
              "ticks": ""
             }
            },
            "type": "scatter3d"
           }
          ],
          "scattercarpet": [
           {
            "marker": {
             "colorbar": {
              "outlinewidth": 0,
              "ticks": ""
             }
            },
            "type": "scattercarpet"
           }
          ],
          "scattergeo": [
           {
            "marker": {
             "colorbar": {
              "outlinewidth": 0,
              "ticks": ""
             }
            },
            "type": "scattergeo"
           }
          ],
          "scattergl": [
           {
            "marker": {
             "colorbar": {
              "outlinewidth": 0,
              "ticks": ""
             }
            },
            "type": "scattergl"
           }
          ],
          "scattermapbox": [
           {
            "marker": {
             "colorbar": {
              "outlinewidth": 0,
              "ticks": ""
             }
            },
            "type": "scattermapbox"
           }
          ],
          "scatterpolar": [
           {
            "marker": {
             "colorbar": {
              "outlinewidth": 0,
              "ticks": ""
             }
            },
            "type": "scatterpolar"
           }
          ],
          "scatterpolargl": [
           {
            "marker": {
             "colorbar": {
              "outlinewidth": 0,
              "ticks": ""
             }
            },
            "type": "scatterpolargl"
           }
          ],
          "scatterternary": [
           {
            "marker": {
             "colorbar": {
              "outlinewidth": 0,
              "ticks": ""
             }
            },
            "type": "scatterternary"
           }
          ],
          "surface": [
           {
            "colorbar": {
             "outlinewidth": 0,
             "ticks": ""
            },
            "colorscale": [
             [
              0,
              "#0d0887"
             ],
             [
              0.1111111111111111,
              "#46039f"
             ],
             [
              0.2222222222222222,
              "#7201a8"
             ],
             [
              0.3333333333333333,
              "#9c179e"
             ],
             [
              0.4444444444444444,
              "#bd3786"
             ],
             [
              0.5555555555555556,
              "#d8576b"
             ],
             [
              0.6666666666666666,
              "#ed7953"
             ],
             [
              0.7777777777777778,
              "#fb9f3a"
             ],
             [
              0.8888888888888888,
              "#fdca26"
             ],
             [
              1,
              "#f0f921"
             ]
            ],
            "type": "surface"
           }
          ],
          "table": [
           {
            "cells": {
             "fill": {
              "color": "#EBF0F8"
             },
             "line": {
              "color": "white"
             }
            },
            "header": {
             "fill": {
              "color": "#C8D4E3"
             },
             "line": {
              "color": "white"
             }
            },
            "type": "table"
           }
          ]
         },
         "layout": {
          "annotationdefaults": {
           "arrowcolor": "#2a3f5f",
           "arrowhead": 0,
           "arrowwidth": 1
          },
          "coloraxis": {
           "colorbar": {
            "outlinewidth": 0,
            "ticks": ""
           }
          },
          "colorscale": {
           "diverging": [
            [
             0,
             "#8e0152"
            ],
            [
             0.1,
             "#c51b7d"
            ],
            [
             0.2,
             "#de77ae"
            ],
            [
             0.3,
             "#f1b6da"
            ],
            [
             0.4,
             "#fde0ef"
            ],
            [
             0.5,
             "#f7f7f7"
            ],
            [
             0.6,
             "#e6f5d0"
            ],
            [
             0.7,
             "#b8e186"
            ],
            [
             0.8,
             "#7fbc41"
            ],
            [
             0.9,
             "#4d9221"
            ],
            [
             1,
             "#276419"
            ]
           ],
           "sequential": [
            [
             0,
             "#0d0887"
            ],
            [
             0.1111111111111111,
             "#46039f"
            ],
            [
             0.2222222222222222,
             "#7201a8"
            ],
            [
             0.3333333333333333,
             "#9c179e"
            ],
            [
             0.4444444444444444,
             "#bd3786"
            ],
            [
             0.5555555555555556,
             "#d8576b"
            ],
            [
             0.6666666666666666,
             "#ed7953"
            ],
            [
             0.7777777777777778,
             "#fb9f3a"
            ],
            [
             0.8888888888888888,
             "#fdca26"
            ],
            [
             1,
             "#f0f921"
            ]
           ],
           "sequentialminus": [
            [
             0,
             "#0d0887"
            ],
            [
             0.1111111111111111,
             "#46039f"
            ],
            [
             0.2222222222222222,
             "#7201a8"
            ],
            [
             0.3333333333333333,
             "#9c179e"
            ],
            [
             0.4444444444444444,
             "#bd3786"
            ],
            [
             0.5555555555555556,
             "#d8576b"
            ],
            [
             0.6666666666666666,
             "#ed7953"
            ],
            [
             0.7777777777777778,
             "#fb9f3a"
            ],
            [
             0.8888888888888888,
             "#fdca26"
            ],
            [
             1,
             "#f0f921"
            ]
           ]
          },
          "colorway": [
           "#636efa",
           "#EF553B",
           "#00cc96",
           "#ab63fa",
           "#FFA15A",
           "#19d3f3",
           "#FF6692",
           "#B6E880",
           "#FF97FF",
           "#FECB52"
          ],
          "font": {
           "color": "#2a3f5f"
          },
          "geo": {
           "bgcolor": "white",
           "lakecolor": "white",
           "landcolor": "#E5ECF6",
           "showlakes": true,
           "showland": true,
           "subunitcolor": "white"
          },
          "hoverlabel": {
           "align": "left"
          },
          "hovermode": "closest",
          "mapbox": {
           "style": "light"
          },
          "paper_bgcolor": "white",
          "plot_bgcolor": "#E5ECF6",
          "polar": {
           "angularaxis": {
            "gridcolor": "white",
            "linecolor": "white",
            "ticks": ""
           },
           "bgcolor": "#E5ECF6",
           "radialaxis": {
            "gridcolor": "white",
            "linecolor": "white",
            "ticks": ""
           }
          },
          "scene": {
           "xaxis": {
            "backgroundcolor": "#E5ECF6",
            "gridcolor": "white",
            "gridwidth": 2,
            "linecolor": "white",
            "showbackground": true,
            "ticks": "",
            "zerolinecolor": "white"
           },
           "yaxis": {
            "backgroundcolor": "#E5ECF6",
            "gridcolor": "white",
            "gridwidth": 2,
            "linecolor": "white",
            "showbackground": true,
            "ticks": "",
            "zerolinecolor": "white"
           },
           "zaxis": {
            "backgroundcolor": "#E5ECF6",
            "gridcolor": "white",
            "gridwidth": 2,
            "linecolor": "white",
            "showbackground": true,
            "ticks": "",
            "zerolinecolor": "white"
           }
          },
          "shapedefaults": {
           "line": {
            "color": "#2a3f5f"
           }
          },
          "ternary": {
           "aaxis": {
            "gridcolor": "white",
            "linecolor": "white",
            "ticks": ""
           },
           "baxis": {
            "gridcolor": "white",
            "linecolor": "white",
            "ticks": ""
           },
           "bgcolor": "#E5ECF6",
           "caxis": {
            "gridcolor": "white",
            "linecolor": "white",
            "ticks": ""
           }
          },
          "title": {
           "x": 0.05
          },
          "xaxis": {
           "automargin": true,
           "gridcolor": "white",
           "linecolor": "white",
           "ticks": "",
           "title": {
            "standoff": 15
           },
           "zerolinecolor": "white",
           "zerolinewidth": 2
          },
          "yaxis": {
           "automargin": true,
           "gridcolor": "white",
           "linecolor": "white",
           "ticks": "",
           "title": {
            "standoff": 15
           },
           "zerolinecolor": "white",
           "zerolinewidth": 2
          }
         }
        },
        "title": {
         "font": {
          "color": "#4D5663"
         }
        },
        "xaxis": {
         "gridcolor": "#E1E5ED",
         "showgrid": true,
         "tickfont": {
          "color": "#4D5663"
         },
         "title": {
          "font": {
           "color": "#4D5663"
          },
          "text": ""
         },
         "zerolinecolor": "#E1E5ED"
        },
        "yaxis": {
         "gridcolor": "#E1E5ED",
         "showgrid": true,
         "tickfont": {
          "color": "#4D5663"
         },
         "title": {
          "font": {
           "color": "#4D5663"
          },
          "text": ""
         },
         "zerolinecolor": "#E1E5ED"
        }
       }
      },
      "text/html": [
       "<div>\n",
       "        \n",
       "        \n",
       "            <div id=\"82f5f1e5-6aa8-4884-b1f7-57726b70f6e6\" class=\"plotly-graph-div\" style=\"height:525px; width:100%;\"></div>\n",
       "            <script type=\"text/javascript\">\n",
       "                require([\"plotly\"], function(Plotly) {\n",
       "                    window.PLOTLYENV=window.PLOTLYENV || {};\n",
       "                    window.PLOTLYENV.BASE_URL='https://plot.ly';\n",
       "                    \n",
       "                if (document.getElementById(\"82f5f1e5-6aa8-4884-b1f7-57726b70f6e6\")) {\n",
       "                    Plotly.newPlot(\n",
       "                        '82f5f1e5-6aa8-4884-b1f7-57726b70f6e6',\n",
       "                        [{\"line\": {\"color\": \"rgba(255, 153, 51, 1.0)\", \"dash\": \"solid\", \"shape\": \"linear\", \"width\": 1.3}, \"mode\": \"lines\", \"name\": \"Q1\", \"text\": \"\", \"type\": \"scatter\", \"x\": [0, 1, 2, 3, 4, 5, 6, 7, 8, 9, 10], \"y\": [0.0019825508113308896, 0.011018855572727242, 0.01380182364358497, 0.008343881012831613, 0.005053705494621558, 0.0047506217324005204, 0.012338720574706275, -0.01010902073007411, -0.0008995229571131351, -0.0043796855047439215, 0.010963304691267023]}, {\"line\": {\"color\": \"rgba(55, 128, 191, 1.0)\", \"dash\": \"solid\", \"shape\": \"linear\", \"width\": 1.3}, \"mode\": \"lines\", \"name\": \"Q5\", \"text\": \"\", \"type\": \"scatter\", \"x\": [0, 1, 2, 3, 4, 5, 6, 7, 8, 9, 10], \"y\": [-0.005666672110517132, 0.009810245711390744, 0.0010867654164891877, 0.0013520473261310444, 0.009143353278284236, 0.0001572303320464749, 0.0021728111431510294, -0.016547857862935587, -0.012371983838754382, -0.0014164545086230718, -0.009766265914959563]}],\n",
       "                        {\"legend\": {\"bgcolor\": \"#F5F6F9\", \"font\": {\"color\": \"#4D5663\"}}, \"paper_bgcolor\": \"#F5F6F9\", \"plot_bgcolor\": \"#F5F6F9\", \"template\": {\"data\": {\"bar\": [{\"error_x\": {\"color\": \"#2a3f5f\"}, \"error_y\": {\"color\": \"#2a3f5f\"}, \"marker\": {\"line\": {\"color\": \"#E5ECF6\", \"width\": 0.5}}, \"type\": \"bar\"}], \"barpolar\": [{\"marker\": {\"line\": {\"color\": \"#E5ECF6\", \"width\": 0.5}}, \"type\": \"barpolar\"}], \"carpet\": [{\"aaxis\": {\"endlinecolor\": \"#2a3f5f\", \"gridcolor\": \"white\", \"linecolor\": \"white\", \"minorgridcolor\": \"white\", \"startlinecolor\": \"#2a3f5f\"}, \"baxis\": {\"endlinecolor\": \"#2a3f5f\", \"gridcolor\": \"white\", \"linecolor\": \"white\", \"minorgridcolor\": \"white\", \"startlinecolor\": \"#2a3f5f\"}, \"type\": \"carpet\"}], \"choropleth\": [{\"colorbar\": {\"outlinewidth\": 0, \"ticks\": \"\"}, \"type\": \"choropleth\"}], \"contour\": [{\"colorbar\": {\"outlinewidth\": 0, \"ticks\": \"\"}, \"colorscale\": [[0.0, \"#0d0887\"], [0.1111111111111111, \"#46039f\"], [0.2222222222222222, \"#7201a8\"], [0.3333333333333333, \"#9c179e\"], [0.4444444444444444, \"#bd3786\"], [0.5555555555555556, \"#d8576b\"], [0.6666666666666666, \"#ed7953\"], [0.7777777777777778, \"#fb9f3a\"], [0.8888888888888888, \"#fdca26\"], [1.0, \"#f0f921\"]], \"type\": \"contour\"}], \"contourcarpet\": [{\"colorbar\": {\"outlinewidth\": 0, \"ticks\": \"\"}, \"type\": \"contourcarpet\"}], \"heatmap\": [{\"colorbar\": {\"outlinewidth\": 0, \"ticks\": \"\"}, \"colorscale\": [[0.0, \"#0d0887\"], [0.1111111111111111, \"#46039f\"], [0.2222222222222222, \"#7201a8\"], [0.3333333333333333, \"#9c179e\"], [0.4444444444444444, \"#bd3786\"], [0.5555555555555556, \"#d8576b\"], [0.6666666666666666, \"#ed7953\"], [0.7777777777777778, \"#fb9f3a\"], [0.8888888888888888, \"#fdca26\"], [1.0, \"#f0f921\"]], \"type\": \"heatmap\"}], \"heatmapgl\": [{\"colorbar\": {\"outlinewidth\": 0, \"ticks\": \"\"}, \"colorscale\": [[0.0, \"#0d0887\"], [0.1111111111111111, \"#46039f\"], [0.2222222222222222, \"#7201a8\"], [0.3333333333333333, \"#9c179e\"], [0.4444444444444444, \"#bd3786\"], [0.5555555555555556, \"#d8576b\"], [0.6666666666666666, \"#ed7953\"], [0.7777777777777778, \"#fb9f3a\"], [0.8888888888888888, \"#fdca26\"], [1.0, \"#f0f921\"]], \"type\": \"heatmapgl\"}], \"histogram\": [{\"marker\": {\"colorbar\": {\"outlinewidth\": 0, \"ticks\": \"\"}}, \"type\": \"histogram\"}], \"histogram2d\": [{\"colorbar\": {\"outlinewidth\": 0, \"ticks\": \"\"}, \"colorscale\": [[0.0, \"#0d0887\"], [0.1111111111111111, \"#46039f\"], [0.2222222222222222, \"#7201a8\"], [0.3333333333333333, \"#9c179e\"], [0.4444444444444444, \"#bd3786\"], [0.5555555555555556, \"#d8576b\"], [0.6666666666666666, \"#ed7953\"], [0.7777777777777778, \"#fb9f3a\"], [0.8888888888888888, \"#fdca26\"], [1.0, \"#f0f921\"]], \"type\": \"histogram2d\"}], \"histogram2dcontour\": [{\"colorbar\": {\"outlinewidth\": 0, \"ticks\": \"\"}, \"colorscale\": [[0.0, \"#0d0887\"], [0.1111111111111111, \"#46039f\"], [0.2222222222222222, \"#7201a8\"], [0.3333333333333333, \"#9c179e\"], [0.4444444444444444, \"#bd3786\"], [0.5555555555555556, \"#d8576b\"], [0.6666666666666666, \"#ed7953\"], [0.7777777777777778, \"#fb9f3a\"], [0.8888888888888888, \"#fdca26\"], [1.0, \"#f0f921\"]], \"type\": \"histogram2dcontour\"}], \"mesh3d\": [{\"colorbar\": {\"outlinewidth\": 0, \"ticks\": \"\"}, \"type\": \"mesh3d\"}], \"parcoords\": [{\"line\": {\"colorbar\": {\"outlinewidth\": 0, \"ticks\": \"\"}}, \"type\": \"parcoords\"}], \"pie\": [{\"automargin\": true, \"type\": \"pie\"}], \"scatter\": [{\"marker\": {\"colorbar\": {\"outlinewidth\": 0, \"ticks\": \"\"}}, \"type\": \"scatter\"}], \"scatter3d\": [{\"line\": {\"colorbar\": {\"outlinewidth\": 0, \"ticks\": \"\"}}, \"marker\": {\"colorbar\": {\"outlinewidth\": 0, \"ticks\": \"\"}}, \"type\": \"scatter3d\"}], \"scattercarpet\": [{\"marker\": {\"colorbar\": {\"outlinewidth\": 0, \"ticks\": \"\"}}, \"type\": \"scattercarpet\"}], \"scattergeo\": [{\"marker\": {\"colorbar\": {\"outlinewidth\": 0, \"ticks\": \"\"}}, \"type\": \"scattergeo\"}], \"scattergl\": [{\"marker\": {\"colorbar\": {\"outlinewidth\": 0, \"ticks\": \"\"}}, \"type\": \"scattergl\"}], \"scattermapbox\": [{\"marker\": {\"colorbar\": {\"outlinewidth\": 0, \"ticks\": \"\"}}, \"type\": \"scattermapbox\"}], \"scatterpolar\": [{\"marker\": {\"colorbar\": {\"outlinewidth\": 0, \"ticks\": \"\"}}, \"type\": \"scatterpolar\"}], \"scatterpolargl\": [{\"marker\": {\"colorbar\": {\"outlinewidth\": 0, \"ticks\": \"\"}}, \"type\": \"scatterpolargl\"}], \"scatterternary\": [{\"marker\": {\"colorbar\": {\"outlinewidth\": 0, \"ticks\": \"\"}}, \"type\": \"scatterternary\"}], \"surface\": [{\"colorbar\": {\"outlinewidth\": 0, \"ticks\": \"\"}, \"colorscale\": [[0.0, \"#0d0887\"], [0.1111111111111111, \"#46039f\"], [0.2222222222222222, \"#7201a8\"], [0.3333333333333333, \"#9c179e\"], [0.4444444444444444, \"#bd3786\"], [0.5555555555555556, \"#d8576b\"], [0.6666666666666666, \"#ed7953\"], [0.7777777777777778, \"#fb9f3a\"], [0.8888888888888888, \"#fdca26\"], [1.0, \"#f0f921\"]], \"type\": \"surface\"}], \"table\": [{\"cells\": {\"fill\": {\"color\": \"#EBF0F8\"}, \"line\": {\"color\": \"white\"}}, \"header\": {\"fill\": {\"color\": \"#C8D4E3\"}, \"line\": {\"color\": \"white\"}}, \"type\": \"table\"}]}, \"layout\": {\"annotationdefaults\": {\"arrowcolor\": \"#2a3f5f\", \"arrowhead\": 0, \"arrowwidth\": 1}, \"coloraxis\": {\"colorbar\": {\"outlinewidth\": 0, \"ticks\": \"\"}}, \"colorscale\": {\"diverging\": [[0, \"#8e0152\"], [0.1, \"#c51b7d\"], [0.2, \"#de77ae\"], [0.3, \"#f1b6da\"], [0.4, \"#fde0ef\"], [0.5, \"#f7f7f7\"], [0.6, \"#e6f5d0\"], [0.7, \"#b8e186\"], [0.8, \"#7fbc41\"], [0.9, \"#4d9221\"], [1, \"#276419\"]], \"sequential\": [[0.0, \"#0d0887\"], [0.1111111111111111, \"#46039f\"], [0.2222222222222222, \"#7201a8\"], [0.3333333333333333, \"#9c179e\"], [0.4444444444444444, \"#bd3786\"], [0.5555555555555556, \"#d8576b\"], [0.6666666666666666, \"#ed7953\"], [0.7777777777777778, \"#fb9f3a\"], [0.8888888888888888, \"#fdca26\"], [1.0, \"#f0f921\"]], \"sequentialminus\": [[0.0, \"#0d0887\"], [0.1111111111111111, \"#46039f\"], [0.2222222222222222, \"#7201a8\"], [0.3333333333333333, \"#9c179e\"], [0.4444444444444444, \"#bd3786\"], [0.5555555555555556, \"#d8576b\"], [0.6666666666666666, \"#ed7953\"], [0.7777777777777778, \"#fb9f3a\"], [0.8888888888888888, \"#fdca26\"], [1.0, \"#f0f921\"]]}, \"colorway\": [\"#636efa\", \"#EF553B\", \"#00cc96\", \"#ab63fa\", \"#FFA15A\", \"#19d3f3\", \"#FF6692\", \"#B6E880\", \"#FF97FF\", \"#FECB52\"], \"font\": {\"color\": \"#2a3f5f\"}, \"geo\": {\"bgcolor\": \"white\", \"lakecolor\": \"white\", \"landcolor\": \"#E5ECF6\", \"showlakes\": true, \"showland\": true, \"subunitcolor\": \"white\"}, \"hoverlabel\": {\"align\": \"left\"}, \"hovermode\": \"closest\", \"mapbox\": {\"style\": \"light\"}, \"paper_bgcolor\": \"white\", \"plot_bgcolor\": \"#E5ECF6\", \"polar\": {\"angularaxis\": {\"gridcolor\": \"white\", \"linecolor\": \"white\", \"ticks\": \"\"}, \"bgcolor\": \"#E5ECF6\", \"radialaxis\": {\"gridcolor\": \"white\", \"linecolor\": \"white\", \"ticks\": \"\"}}, \"scene\": {\"xaxis\": {\"backgroundcolor\": \"#E5ECF6\", \"gridcolor\": \"white\", \"gridwidth\": 2, \"linecolor\": \"white\", \"showbackground\": true, \"ticks\": \"\", \"zerolinecolor\": \"white\"}, \"yaxis\": {\"backgroundcolor\": \"#E5ECF6\", \"gridcolor\": \"white\", \"gridwidth\": 2, \"linecolor\": \"white\", \"showbackground\": true, \"ticks\": \"\", \"zerolinecolor\": \"white\"}, \"zaxis\": {\"backgroundcolor\": \"#E5ECF6\", \"gridcolor\": \"white\", \"gridwidth\": 2, \"linecolor\": \"white\", \"showbackground\": true, \"ticks\": \"\", \"zerolinecolor\": \"white\"}}, \"shapedefaults\": {\"line\": {\"color\": \"#2a3f5f\"}}, \"ternary\": {\"aaxis\": {\"gridcolor\": \"white\", \"linecolor\": \"white\", \"ticks\": \"\"}, \"baxis\": {\"gridcolor\": \"white\", \"linecolor\": \"white\", \"ticks\": \"\"}, \"bgcolor\": \"#E5ECF6\", \"caxis\": {\"gridcolor\": \"white\", \"linecolor\": \"white\", \"ticks\": \"\"}}, \"title\": {\"x\": 0.05}, \"xaxis\": {\"automargin\": true, \"gridcolor\": \"white\", \"linecolor\": \"white\", \"ticks\": \"\", \"title\": {\"standoff\": 15}, \"zerolinecolor\": \"white\", \"zerolinewidth\": 2}, \"yaxis\": {\"automargin\": true, \"gridcolor\": \"white\", \"linecolor\": \"white\", \"ticks\": \"\", \"title\": {\"standoff\": 15}, \"zerolinecolor\": \"white\", \"zerolinewidth\": 2}}}, \"title\": {\"font\": {\"color\": \"#4D5663\"}}, \"xaxis\": {\"gridcolor\": \"#E1E5ED\", \"showgrid\": true, \"tickfont\": {\"color\": \"#4D5663\"}, \"title\": {\"font\": {\"color\": \"#4D5663\"}, \"text\": \"\"}, \"zerolinecolor\": \"#E1E5ED\"}, \"yaxis\": {\"gridcolor\": \"#E1E5ED\", \"showgrid\": true, \"tickfont\": {\"color\": \"#4D5663\"}, \"title\": {\"font\": {\"color\": \"#4D5663\"}, \"text\": \"\"}, \"zerolinecolor\": \"#E1E5ED\"}},\n",
       "                        {\"showLink\": true, \"linkText\": \"Export to plot.ly\", \"plotlyServerURL\": \"https://plot.ly\", \"responsive\": true}\n",
       "                    ).then(function(){\n",
       "                            \n",
       "var gd = document.getElementById('82f5f1e5-6aa8-4884-b1f7-57726b70f6e6');\n",
       "var x = new MutationObserver(function (mutations, observer) {{\n",
       "        var display = window.getComputedStyle(gd).display;\n",
       "        if (!display || display === 'none') {{\n",
       "            console.log([gd, 'removed!']);\n",
       "            Plotly.purge(gd);\n",
       "            observer.disconnect();\n",
       "        }}\n",
       "}});\n",
       "\n",
       "// Listen for the removal of the full notebook cells\n",
       "var notebookContainer = gd.closest('#notebook-container');\n",
       "if (notebookContainer) {{\n",
       "    x.observe(notebookContainer, {childList: true});\n",
       "}}\n",
       "\n",
       "// Listen for the clearing of the current output cell\n",
       "var outputEl = gd.closest('.output');\n",
       "if (outputEl) {{\n",
       "    x.observe(outputEl, {childList: true});\n",
       "}}\n",
       "\n",
       "                        })\n",
       "                };\n",
       "                });\n",
       "            </script>\n",
       "        </div>"
      ]
     },
     "metadata": {},
     "output_type": "display_data"
    }
   ],
   "source": [
    "q1 = [i[0] for i in ls]\n",
    "q5= [i[1] for i in ls]\n",
    "dd = pd.DataFrame([q1,q5]).T\n",
    "dd.columns = ['Q1','Q5']\n",
    "dd.iplot()"
   ]
  },
  {
   "cell_type": "code",
   "execution_count": 43,
   "metadata": {},
   "outputs": [],
   "source": [
    "result = [values[i * 5:(i + 1) * 5] for i in range((len(values) + 5 - 1) // 5 )] #8년치 Q1~Q5를 5쿼터씩 리스트로 생성\n",
    "\n",
    "q_1 = np.mean([result[i][0] for i in range(0,len(result))])\n",
    "q_2 = np.mean([result[i][1] for i in range(0,len(result))])\n",
    "q_3 = np.mean([result[i][2] for i in range(0,len(result))])\n",
    "q_4 = np.mean([result[i][3] for i in range(0,len(result))])\n",
    "q_5 =np.mean([result[i][4] for i in range(0,len(result))])"
   ]
  },
  {
   "cell_type": "code",
   "execution_count": null,
   "metadata": {},
   "outputs": [],
   "source": [
    "de"
   ]
  },
  {
   "cell_type": "code",
   "execution_count": 113,
   "metadata": {},
   "outputs": [
    {
     "name": "stdout",
     "output_type": "stream",
     "text": [
      "20100330\n",
      "20110330\n",
      "20120330\n",
      "20150330\n",
      "20160330\n",
      "20170330\n",
      "20180330\n"
     ]
    }
   ],
   "source": [
    "g=[]\n",
    "for idx,i in enumerate(de_rm_df.index):\n",
    "    if str(i)[5:] == '330':\n",
    "        print(i)"
   ]
  },
  {
   "cell_type": "code",
   "execution_count": 302,
   "metadata": {},
   "outputs": [
    {
     "data": {
      "text/plain": [
       "((1926, 113), (1926, 113))"
      ]
     },
     "execution_count": 302,
     "metadata": {},
     "output_type": "execute_result"
    }
   ],
   "source": [
    "ret_df = de_rm_df.loc[20120300:].copy()\n",
    "sim_df = concat_df.loc[ret_df.index].copy()\n",
    "\n",
    "ret_df.shape, sim_df.shape"
   ]
  },
  {
   "cell_type": "code",
   "execution_count": 303,
   "metadata": {},
   "outputs": [
    {
     "data": {
      "text/html": [
       "<div>\n",
       "<style scoped>\n",
       "    .dataframe tbody tr th:only-of-type {\n",
       "        vertical-align: middle;\n",
       "    }\n",
       "\n",
       "    .dataframe tbody tr th {\n",
       "        vertical-align: top;\n",
       "    }\n",
       "\n",
       "    .dataframe thead th {\n",
       "        text-align: right;\n",
       "    }\n",
       "</style>\n",
       "<table border=\"1\" class=\"dataframe\">\n",
       "  <thead>\n",
       "    <tr style=\"text-align: right;\">\n",
       "      <th></th>\n",
       "      <th>삼양홀딩스</th>\n",
       "      <th>유한양행</th>\n",
       "      <th>CJ대한통운</th>\n",
       "      <th>두산</th>\n",
       "      <th>대림산업</th>\n",
       "      <th>한국테크놀로지그룹</th>\n",
       "      <th>기아차</th>\n",
       "      <th>동아쏘시오홀딩스</th>\n",
       "      <th>SK하이닉스</th>\n",
       "      <th>영풍</th>\n",
       "      <th>...</th>\n",
       "      <th>현대백화점</th>\n",
       "      <th>한국금융지주</th>\n",
       "      <th>GS</th>\n",
       "      <th>하나금융지주</th>\n",
       "      <th>아모레퍼시픽</th>\n",
       "      <th>LF</th>\n",
       "      <th>후성</th>\n",
       "      <th>SK이노베이션</th>\n",
       "      <th>CJ제일제당</th>\n",
       "      <th>KB금융</th>\n",
       "    </tr>\n",
       "  </thead>\n",
       "  <tbody>\n",
       "    <tr>\n",
       "      <th>20120302</th>\n",
       "      <td>0.017876</td>\n",
       "      <td>0.007172</td>\n",
       "      <td>0.026851</td>\n",
       "      <td>-0.001198</td>\n",
       "      <td>0.002770</td>\n",
       "      <td>-0.002376</td>\n",
       "      <td>0.012946</td>\n",
       "      <td>-0.003554</td>\n",
       "      <td>0.007080</td>\n",
       "      <td>0.048763</td>\n",
       "      <td>...</td>\n",
       "      <td>0.001796</td>\n",
       "      <td>0.014272</td>\n",
       "      <td>0.011186</td>\n",
       "      <td>-0.012605</td>\n",
       "      <td>-0.008993</td>\n",
       "      <td>0.015469</td>\n",
       "      <td>0.013098</td>\n",
       "      <td>0.001497</td>\n",
       "      <td>0.037682</td>\n",
       "      <td>0.004870</td>\n",
       "    </tr>\n",
       "    <tr>\n",
       "      <th>20120305</th>\n",
       "      <td>-0.009958</td>\n",
       "      <td>-0.014797</td>\n",
       "      <td>0.006537</td>\n",
       "      <td>0.001348</td>\n",
       "      <td>-0.037335</td>\n",
       "      <td>0.003112</td>\n",
       "      <td>0.008701</td>\n",
       "      <td>-0.001699</td>\n",
       "      <td>-0.003041</td>\n",
       "      <td>-0.021131</td>\n",
       "      <td>...</td>\n",
       "      <td>0.030991</td>\n",
       "      <td>0.018800</td>\n",
       "      <td>-0.003666</td>\n",
       "      <td>0.012659</td>\n",
       "      <td>0.036621</td>\n",
       "      <td>-0.019179</td>\n",
       "      <td>0.004486</td>\n",
       "      <td>-0.019475</td>\n",
       "      <td>0.028059</td>\n",
       "      <td>-0.001967</td>\n",
       "    </tr>\n",
       "    <tr>\n",
       "      <th>20120306</th>\n",
       "      <td>0.012634</td>\n",
       "      <td>0.007177</td>\n",
       "      <td>-0.019014</td>\n",
       "      <td>-0.004583</td>\n",
       "      <td>0.007177</td>\n",
       "      <td>0.036588</td>\n",
       "      <td>0.012763</td>\n",
       "      <td>0.021502</td>\n",
       "      <td>-0.014454</td>\n",
       "      <td>-0.012010</td>\n",
       "      <td>...</td>\n",
       "      <td>0.001329</td>\n",
       "      <td>-0.020871</td>\n",
       "      <td>-0.006777</td>\n",
       "      <td>0.025079</td>\n",
       "      <td>0.018657</td>\n",
       "      <td>-0.018155</td>\n",
       "      <td>-0.014085</td>\n",
       "      <td>-0.009444</td>\n",
       "      <td>-0.026647</td>\n",
       "      <td>-0.005033</td>\n",
       "    </tr>\n",
       "    <tr>\n",
       "      <th>20120307</th>\n",
       "      <td>0.000013</td>\n",
       "      <td>-0.007514</td>\n",
       "      <td>0.002176</td>\n",
       "      <td>-0.002395</td>\n",
       "      <td>0.005362</td>\n",
       "      <td>-0.021368</td>\n",
       "      <td>-0.004378</td>\n",
       "      <td>-0.012836</td>\n",
       "      <td>-0.000693</td>\n",
       "      <td>-0.031177</td>\n",
       "      <td>...</td>\n",
       "      <td>0.012452</td>\n",
       "      <td>-0.024895</td>\n",
       "      <td>0.001649</td>\n",
       "      <td>-0.006821</td>\n",
       "      <td>0.013294</td>\n",
       "      <td>0.052828</td>\n",
       "      <td>0.010989</td>\n",
       "      <td>-0.013024</td>\n",
       "      <td>0.000379</td>\n",
       "      <td>0.007039</td>\n",
       "    </tr>\n",
       "    <tr>\n",
       "      <th>20120308</th>\n",
       "      <td>-0.010972</td>\n",
       "      <td>-0.031247</td>\n",
       "      <td>-0.007139</td>\n",
       "      <td>-0.003577</td>\n",
       "      <td>0.007064</td>\n",
       "      <td>-0.014318</td>\n",
       "      <td>0.011524</td>\n",
       "      <td>-0.005995</td>\n",
       "      <td>0.012734</td>\n",
       "      <td>-0.071593</td>\n",
       "      <td>...</td>\n",
       "      <td>-0.000805</td>\n",
       "      <td>0.024880</td>\n",
       "      <td>0.007830</td>\n",
       "      <td>0.028712</td>\n",
       "      <td>-0.013372</td>\n",
       "      <td>-0.029769</td>\n",
       "      <td>-0.022735</td>\n",
       "      <td>0.004807</td>\n",
       "      <td>-0.017283</td>\n",
       "      <td>0.011463</td>\n",
       "    </tr>\n",
       "    <tr>\n",
       "      <th>...</th>\n",
       "      <td>...</td>\n",
       "      <td>...</td>\n",
       "      <td>...</td>\n",
       "      <td>...</td>\n",
       "      <td>...</td>\n",
       "      <td>...</td>\n",
       "      <td>...</td>\n",
       "      <td>...</td>\n",
       "      <td>...</td>\n",
       "      <td>...</td>\n",
       "      <td>...</td>\n",
       "      <td>...</td>\n",
       "      <td>...</td>\n",
       "      <td>...</td>\n",
       "      <td>...</td>\n",
       "      <td>...</td>\n",
       "      <td>...</td>\n",
       "      <td>...</td>\n",
       "      <td>...</td>\n",
       "      <td>...</td>\n",
       "      <td>...</td>\n",
       "    </tr>\n",
       "    <tr>\n",
       "      <th>20191223</th>\n",
       "      <td>0.010850</td>\n",
       "      <td>0.009773</td>\n",
       "      <td>-0.011539</td>\n",
       "      <td>0.008582</td>\n",
       "      <td>0.001490</td>\n",
       "      <td>-0.008927</td>\n",
       "      <td>0.002609</td>\n",
       "      <td>0.015574</td>\n",
       "      <td>-0.002721</td>\n",
       "      <td>-0.001695</td>\n",
       "      <td>...</td>\n",
       "      <td>0.000278</td>\n",
       "      <td>0.008377</td>\n",
       "      <td>0.007193</td>\n",
       "      <td>0.005381</td>\n",
       "      <td>-0.023324</td>\n",
       "      <td>-0.001257</td>\n",
       "      <td>-0.025570</td>\n",
       "      <td>0.001490</td>\n",
       "      <td>0.009772</td>\n",
       "      <td>0.018819</td>\n",
       "    </tr>\n",
       "    <tr>\n",
       "      <th>20191224</th>\n",
       "      <td>0.022137</td>\n",
       "      <td>0.000521</td>\n",
       "      <td>-0.003220</td>\n",
       "      <td>0.006681</td>\n",
       "      <td>0.000131</td>\n",
       "      <td>0.006681</td>\n",
       "      <td>0.005564</td>\n",
       "      <td>0.011311</td>\n",
       "      <td>-0.001776</td>\n",
       "      <td>0.027448</td>\n",
       "      <td>...</td>\n",
       "      <td>-0.001814</td>\n",
       "      <td>0.005313</td>\n",
       "      <td>0.012352</td>\n",
       "      <td>-0.004947</td>\n",
       "      <td>0.014314</td>\n",
       "      <td>0.020455</td>\n",
       "      <td>0.020587</td>\n",
       "      <td>0.009938</td>\n",
       "      <td>0.000521</td>\n",
       "      <td>-0.002337</td>\n",
       "    </tr>\n",
       "    <tr>\n",
       "      <th>20191226</th>\n",
       "      <td>0.008216</td>\n",
       "      <td>0.012567</td>\n",
       "      <td>-0.003960</td>\n",
       "      <td>0.010124</td>\n",
       "      <td>-0.006158</td>\n",
       "      <td>0.010075</td>\n",
       "      <td>0.004988</td>\n",
       "      <td>0.000648</td>\n",
       "      <td>0.006701</td>\n",
       "      <td>-0.016480</td>\n",
       "      <td>...</td>\n",
       "      <td>-0.002736</td>\n",
       "      <td>-0.001221</td>\n",
       "      <td>-0.003960</td>\n",
       "      <td>0.006497</td>\n",
       "      <td>-0.011536</td>\n",
       "      <td>0.009627</td>\n",
       "      <td>-0.010195</td>\n",
       "      <td>0.002533</td>\n",
       "      <td>0.000172</td>\n",
       "      <td>-0.004972</td>\n",
       "    </tr>\n",
       "    <tr>\n",
       "      <th>20191227</th>\n",
       "      <td>-0.006884</td>\n",
       "      <td>0.000370</td>\n",
       "      <td>0.026123</td>\n",
       "      <td>-0.027488</td>\n",
       "      <td>-0.025903</td>\n",
       "      <td>-0.024638</td>\n",
       "      <td>-0.020506</td>\n",
       "      <td>-0.026813</td>\n",
       "      <td>0.008781</td>\n",
       "      <td>-0.008631</td>\n",
       "      <td>...</td>\n",
       "      <td>-0.005099</td>\n",
       "      <td>-0.014806</td>\n",
       "      <td>-0.022674</td>\n",
       "      <td>-0.033631</td>\n",
       "      <td>-0.011510</td>\n",
       "      <td>-0.028005</td>\n",
       "      <td>0.013689</td>\n",
       "      <td>-0.029683</td>\n",
       "      <td>0.024930</td>\n",
       "      <td>-0.031205</td>\n",
       "    </tr>\n",
       "    <tr>\n",
       "      <th>20191230</th>\n",
       "      <td>0.015402</td>\n",
       "      <td>0.004844</td>\n",
       "      <td>0.008080</td>\n",
       "      <td>0.004844</td>\n",
       "      <td>0.023988</td>\n",
       "      <td>0.022512</td>\n",
       "      <td>0.003717</td>\n",
       "      <td>0.014234</td>\n",
       "      <td>-0.014947</td>\n",
       "      <td>0.031914</td>\n",
       "      <td>...</td>\n",
       "      <td>0.021980</td>\n",
       "      <td>0.004844</td>\n",
       "      <td>-0.006650</td>\n",
       "      <td>-0.011156</td>\n",
       "      <td>0.030485</td>\n",
       "      <td>0.021328</td>\n",
       "      <td>0.012242</td>\n",
       "      <td>-0.001778</td>\n",
       "      <td>0.014844</td>\n",
       "      <td>-0.003480</td>\n",
       "    </tr>\n",
       "  </tbody>\n",
       "</table>\n",
       "<p>1926 rows × 113 columns</p>\n",
       "</div>"
      ],
      "text/plain": [
       "             삼양홀딩스      유한양행    CJ대한통운        두산      대림산업  한국테크놀로지그룹  \\\n",
       "20120302  0.017876  0.007172  0.026851 -0.001198  0.002770  -0.002376   \n",
       "20120305 -0.009958 -0.014797  0.006537  0.001348 -0.037335   0.003112   \n",
       "20120306  0.012634  0.007177 -0.019014 -0.004583  0.007177   0.036588   \n",
       "20120307  0.000013 -0.007514  0.002176 -0.002395  0.005362  -0.021368   \n",
       "20120308 -0.010972 -0.031247 -0.007139 -0.003577  0.007064  -0.014318   \n",
       "...            ...       ...       ...       ...       ...        ...   \n",
       "20191223  0.010850  0.009773 -0.011539  0.008582  0.001490  -0.008927   \n",
       "20191224  0.022137  0.000521 -0.003220  0.006681  0.000131   0.006681   \n",
       "20191226  0.008216  0.012567 -0.003960  0.010124 -0.006158   0.010075   \n",
       "20191227 -0.006884  0.000370  0.026123 -0.027488 -0.025903  -0.024638   \n",
       "20191230  0.015402  0.004844  0.008080  0.004844  0.023988   0.022512   \n",
       "\n",
       "               기아차  동아쏘시오홀딩스    SK하이닉스        영풍  ...     현대백화점    한국금융지주  \\\n",
       "20120302  0.012946 -0.003554  0.007080  0.048763  ...  0.001796  0.014272   \n",
       "20120305  0.008701 -0.001699 -0.003041 -0.021131  ...  0.030991  0.018800   \n",
       "20120306  0.012763  0.021502 -0.014454 -0.012010  ...  0.001329 -0.020871   \n",
       "20120307 -0.004378 -0.012836 -0.000693 -0.031177  ...  0.012452 -0.024895   \n",
       "20120308  0.011524 -0.005995  0.012734 -0.071593  ... -0.000805  0.024880   \n",
       "...            ...       ...       ...       ...  ...       ...       ...   \n",
       "20191223  0.002609  0.015574 -0.002721 -0.001695  ...  0.000278  0.008377   \n",
       "20191224  0.005564  0.011311 -0.001776  0.027448  ... -0.001814  0.005313   \n",
       "20191226  0.004988  0.000648  0.006701 -0.016480  ... -0.002736 -0.001221   \n",
       "20191227 -0.020506 -0.026813  0.008781 -0.008631  ... -0.005099 -0.014806   \n",
       "20191230  0.003717  0.014234 -0.014947  0.031914  ...  0.021980  0.004844   \n",
       "\n",
       "                GS    하나금융지주    아모레퍼시픽        LF        후성   SK이노베이션  \\\n",
       "20120302  0.011186 -0.012605 -0.008993  0.015469  0.013098  0.001497   \n",
       "20120305 -0.003666  0.012659  0.036621 -0.019179  0.004486 -0.019475   \n",
       "20120306 -0.006777  0.025079  0.018657 -0.018155 -0.014085 -0.009444   \n",
       "20120307  0.001649 -0.006821  0.013294  0.052828  0.010989 -0.013024   \n",
       "20120308  0.007830  0.028712 -0.013372 -0.029769 -0.022735  0.004807   \n",
       "...            ...       ...       ...       ...       ...       ...   \n",
       "20191223  0.007193  0.005381 -0.023324 -0.001257 -0.025570  0.001490   \n",
       "20191224  0.012352 -0.004947  0.014314  0.020455  0.020587  0.009938   \n",
       "20191226 -0.003960  0.006497 -0.011536  0.009627 -0.010195  0.002533   \n",
       "20191227 -0.022674 -0.033631 -0.011510 -0.028005  0.013689 -0.029683   \n",
       "20191230 -0.006650 -0.011156  0.030485  0.021328  0.012242 -0.001778   \n",
       "\n",
       "            CJ제일제당      KB금융  \n",
       "20120302  0.037682  0.004870  \n",
       "20120305  0.028059 -0.001967  \n",
       "20120306 -0.026647 -0.005033  \n",
       "20120307  0.000379  0.007039  \n",
       "20120308 -0.017283  0.011463  \n",
       "...            ...       ...  \n",
       "20191223  0.009772  0.018819  \n",
       "20191224  0.000521 -0.002337  \n",
       "20191226  0.000172 -0.004972  \n",
       "20191227  0.024930 -0.031205  \n",
       "20191230  0.014844 -0.003480  \n",
       "\n",
       "[1926 rows x 113 columns]"
      ]
     },
     "execution_count": 303,
     "metadata": {},
     "output_type": "execute_result"
    }
   ],
   "source": [
    "ret_df"
   ]
  },
  {
   "cell_type": "code",
   "execution_count": 304,
   "metadata": {},
   "outputs": [
    {
     "data": {
      "text/plain": [
       "(94, 113)"
      ]
     },
     "execution_count": 304,
     "metadata": {},
     "output_type": "execute_result"
    }
   ],
   "source": [
    "yyyymmdd_ls = [str(i)[:-2] for i in sim_df.index]\n",
    "idx_ls = []\n",
    "for idx in range(0,len(yyyymmdd_ls)-1) : \n",
    "    if yyyymmdd_ls[idx] != yyyymmdd_ls[idx+1] : \n",
    "        idx_ls.append(idx)\n",
    "idx_ls.append(-1)\n",
    "\n",
    "monthly_sim_df = sim_df.iloc[idx_ls]\n",
    "monthly_sim_df.shape"
   ]
  },
  {
   "cell_type": "code",
   "execution_count": 518,
   "metadata": {},
   "outputs": [],
   "source": [
    "def get_q_returns(days):\n",
    "    march_idx =[ x for x in range(0,94,12)] #3월에 해당되는 idx 추출\n",
    "    monthly_sim_df.iloc[march_idx,:]\n",
    "    q1_march_values = [get_q(monthly_sim_df,0,20).iloc[x,:].values for x in march_idx] #3월말 값들의 Q1 여부 8년치\n",
    "    q2_march_values = [get_q(monthly_sim_df,20,40).iloc[x,:].values for x in march_idx] #3월말 값들의 Q2 여부 8년치\n",
    "    q3_march_values = [get_q(monthly_sim_df,40,60).iloc[x,:].values for x in march_idx] #3월말 값들의 Q3 여부 8년치\n",
    "    q4_march_values = [get_q(monthly_sim_df,60,80).iloc[x,:].values for x in march_idx] #3월말 값들의 Q4 여부 8년치\n",
    "    q5_march_values = [get_q(monthly_sim_df,80,100).iloc[x,:].values for x in march_idx] #3월말 값들의 Q5 여부 8년치\n",
    "    \n",
    "    re_march_idx = [idx_ls[i] for i in range(0,len(idx_ls),12)] #return_df 의 3월말 idx값들 8년치\n",
    "\n",
    "    q1 = np.mean([((1+ret_df.iloc[i:i+days,:].cumsum())-1).iloc[-1,:][q1_march_values[idx]].mean() for idx,i in enumerate(re_march_idx)])\n",
    "    q2 = np.mean([((1+ret_df.iloc[i:i+days,:].cumsum())-1).iloc[-1,:][q2_march_values[idx]].mean() for idx,i in enumerate(re_march_idx)])\n",
    "    q3 = np.mean([((1+ret_df.iloc[i:i+days,:].cumsum())-1).iloc[-1,:][q3_march_values[idx]].mean() for idx,i in enumerate(re_march_idx)])\n",
    "    q4 = np.mean([((1+ret_df.iloc[i:i+days,:].cumsum())-1).iloc[-1,:][q4_march_values[idx]].mean() for idx,i in enumerate(re_march_idx)])\n",
    "    q5 = np.mean([((1+ret_df.iloc[i:i+days,:].cumsum())-1).iloc[-1,:][q5_march_values[idx]].mean() for idx,i in enumerate(re_march_idx)])\n",
    "        \n",
    "    df_ = pd.DataFrame([q1,q5],index=['Q1','Q5'])\n",
    "    \n",
    "    return df_"
   ]
  },
  {
   "cell_type": "code",
   "execution_count": 534,
   "metadata": {},
   "outputs": [
    {
     "data": {
      "text/html": [
       "<div>\n",
       "<style scoped>\n",
       "    .dataframe tbody tr th:only-of-type {\n",
       "        vertical-align: middle;\n",
       "    }\n",
       "\n",
       "    .dataframe tbody tr th {\n",
       "        vertical-align: top;\n",
       "    }\n",
       "\n",
       "    .dataframe thead th {\n",
       "        text-align: right;\n",
       "    }\n",
       "</style>\n",
       "<table border=\"1\" class=\"dataframe\">\n",
       "  <thead>\n",
       "    <tr style=\"text-align: right;\">\n",
       "      <th></th>\n",
       "      <th>Q1</th>\n",
       "      <th>Q5</th>\n",
       "    </tr>\n",
       "  </thead>\n",
       "  <tbody>\n",
       "    <tr>\n",
       "      <th>1m</th>\n",
       "      <td>0.011513</td>\n",
       "      <td>0.015792</td>\n",
       "    </tr>\n",
       "    <tr>\n",
       "      <th>2m</th>\n",
       "      <td>0.014704</td>\n",
       "      <td>0.016976</td>\n",
       "    </tr>\n",
       "    <tr>\n",
       "      <th>3m</th>\n",
       "      <td>0.011720</td>\n",
       "      <td>0.014317</td>\n",
       "    </tr>\n",
       "    <tr>\n",
       "      <th>4m</th>\n",
       "      <td>0.014312</td>\n",
       "      <td>0.020536</td>\n",
       "    </tr>\n",
       "    <tr>\n",
       "      <th>5m</th>\n",
       "      <td>0.009526</td>\n",
       "      <td>0.015260</td>\n",
       "    </tr>\n",
       "    <tr>\n",
       "      <th>6m</th>\n",
       "      <td>0.012450</td>\n",
       "      <td>0.012493</td>\n",
       "    </tr>\n",
       "  </tbody>\n",
       "</table>\n",
       "</div>"
      ],
      "text/plain": [
       "          Q1        Q5\n",
       "1m  0.011513  0.015792\n",
       "2m  0.014704  0.016976\n",
       "3m  0.011720  0.014317\n",
       "4m  0.014312  0.020536\n",
       "5m  0.009526  0.015260\n",
       "6m  0.012450  0.012493"
      ]
     },
     "execution_count": 534,
     "metadata": {},
     "output_type": "execute_result"
    }
   ],
   "source": [
    "six_month_df"
   ]
  },
  {
   "cell_type": "code",
   "execution_count": 565,
   "metadata": {},
   "outputs": [],
   "source": [
    "ee = pd.DataFrame([0,0],index=['Q1','Q5'])\n",
    "six_month_df = pd.concat([get_q_returns(i) for i in range(20,140,20)],axis=1)\n",
    "six_month_df = pd.concat([ee,six_month_df],axis=1).T\n",
    "six_month_df.index = ['0','1','2','3','4','5','6']"
   ]
  },
  {
   "cell_type": "code",
   "execution_count": 568,
   "metadata": {},
   "outputs": [
    {
     "data": {
      "application/vnd.plotly.v1+json": {
       "config": {
        "linkText": "Export to plot.ly",
        "plotlyServerURL": "https://plot.ly",
        "showLink": true
       },
       "data": [
        {
         "line": {
          "color": "rgba(255, 153, 51, 1.0)",
          "dash": "solid",
          "shape": "linear",
          "width": 1.3
         },
         "mode": "lines",
         "name": "Q1",
         "text": "",
         "type": "scatter",
         "x": [
          "0",
          "1",
          "2",
          "3",
          "4",
          "5",
          "6"
         ],
         "y": [
          0,
          0.011513297001814483,
          0.014704341164592214,
          0.011719909600583039,
          0.014312015873791384,
          0.009526252370849395,
          0.01244967777305106
         ]
        },
        {
         "line": {
          "color": "rgba(55, 128, 191, 1.0)",
          "dash": "solid",
          "shape": "linear",
          "width": 1.3
         },
         "mode": "lines",
         "name": "Q5",
         "text": "",
         "type": "scatter",
         "x": [
          "0",
          "1",
          "2",
          "3",
          "4",
          "5",
          "6"
         ],
         "y": [
          0,
          0.015791505675862454,
          0.01697626917620862,
          0.01431665375596543,
          0.020536038615578046,
          0.015259650654883973,
          0.012493199583749875
         ]
        }
       ],
       "layout": {
        "legend": {
         "bgcolor": "#F5F6F9",
         "font": {
          "color": "#4D5663"
         }
        },
        "paper_bgcolor": "#F5F6F9",
        "plot_bgcolor": "#F5F6F9",
        "template": {
         "data": {
          "bar": [
           {
            "error_x": {
             "color": "#2a3f5f"
            },
            "error_y": {
             "color": "#2a3f5f"
            },
            "marker": {
             "line": {
              "color": "#E5ECF6",
              "width": 0.5
             }
            },
            "type": "bar"
           }
          ],
          "barpolar": [
           {
            "marker": {
             "line": {
              "color": "#E5ECF6",
              "width": 0.5
             }
            },
            "type": "barpolar"
           }
          ],
          "carpet": [
           {
            "aaxis": {
             "endlinecolor": "#2a3f5f",
             "gridcolor": "white",
             "linecolor": "white",
             "minorgridcolor": "white",
             "startlinecolor": "#2a3f5f"
            },
            "baxis": {
             "endlinecolor": "#2a3f5f",
             "gridcolor": "white",
             "linecolor": "white",
             "minorgridcolor": "white",
             "startlinecolor": "#2a3f5f"
            },
            "type": "carpet"
           }
          ],
          "choropleth": [
           {
            "colorbar": {
             "outlinewidth": 0,
             "ticks": ""
            },
            "type": "choropleth"
           }
          ],
          "contour": [
           {
            "colorbar": {
             "outlinewidth": 0,
             "ticks": ""
            },
            "colorscale": [
             [
              0,
              "#0d0887"
             ],
             [
              0.1111111111111111,
              "#46039f"
             ],
             [
              0.2222222222222222,
              "#7201a8"
             ],
             [
              0.3333333333333333,
              "#9c179e"
             ],
             [
              0.4444444444444444,
              "#bd3786"
             ],
             [
              0.5555555555555556,
              "#d8576b"
             ],
             [
              0.6666666666666666,
              "#ed7953"
             ],
             [
              0.7777777777777778,
              "#fb9f3a"
             ],
             [
              0.8888888888888888,
              "#fdca26"
             ],
             [
              1,
              "#f0f921"
             ]
            ],
            "type": "contour"
           }
          ],
          "contourcarpet": [
           {
            "colorbar": {
             "outlinewidth": 0,
             "ticks": ""
            },
            "type": "contourcarpet"
           }
          ],
          "heatmap": [
           {
            "colorbar": {
             "outlinewidth": 0,
             "ticks": ""
            },
            "colorscale": [
             [
              0,
              "#0d0887"
             ],
             [
              0.1111111111111111,
              "#46039f"
             ],
             [
              0.2222222222222222,
              "#7201a8"
             ],
             [
              0.3333333333333333,
              "#9c179e"
             ],
             [
              0.4444444444444444,
              "#bd3786"
             ],
             [
              0.5555555555555556,
              "#d8576b"
             ],
             [
              0.6666666666666666,
              "#ed7953"
             ],
             [
              0.7777777777777778,
              "#fb9f3a"
             ],
             [
              0.8888888888888888,
              "#fdca26"
             ],
             [
              1,
              "#f0f921"
             ]
            ],
            "type": "heatmap"
           }
          ],
          "heatmapgl": [
           {
            "colorbar": {
             "outlinewidth": 0,
             "ticks": ""
            },
            "colorscale": [
             [
              0,
              "#0d0887"
             ],
             [
              0.1111111111111111,
              "#46039f"
             ],
             [
              0.2222222222222222,
              "#7201a8"
             ],
             [
              0.3333333333333333,
              "#9c179e"
             ],
             [
              0.4444444444444444,
              "#bd3786"
             ],
             [
              0.5555555555555556,
              "#d8576b"
             ],
             [
              0.6666666666666666,
              "#ed7953"
             ],
             [
              0.7777777777777778,
              "#fb9f3a"
             ],
             [
              0.8888888888888888,
              "#fdca26"
             ],
             [
              1,
              "#f0f921"
             ]
            ],
            "type": "heatmapgl"
           }
          ],
          "histogram": [
           {
            "marker": {
             "colorbar": {
              "outlinewidth": 0,
              "ticks": ""
             }
            },
            "type": "histogram"
           }
          ],
          "histogram2d": [
           {
            "colorbar": {
             "outlinewidth": 0,
             "ticks": ""
            },
            "colorscale": [
             [
              0,
              "#0d0887"
             ],
             [
              0.1111111111111111,
              "#46039f"
             ],
             [
              0.2222222222222222,
              "#7201a8"
             ],
             [
              0.3333333333333333,
              "#9c179e"
             ],
             [
              0.4444444444444444,
              "#bd3786"
             ],
             [
              0.5555555555555556,
              "#d8576b"
             ],
             [
              0.6666666666666666,
              "#ed7953"
             ],
             [
              0.7777777777777778,
              "#fb9f3a"
             ],
             [
              0.8888888888888888,
              "#fdca26"
             ],
             [
              1,
              "#f0f921"
             ]
            ],
            "type": "histogram2d"
           }
          ],
          "histogram2dcontour": [
           {
            "colorbar": {
             "outlinewidth": 0,
             "ticks": ""
            },
            "colorscale": [
             [
              0,
              "#0d0887"
             ],
             [
              0.1111111111111111,
              "#46039f"
             ],
             [
              0.2222222222222222,
              "#7201a8"
             ],
             [
              0.3333333333333333,
              "#9c179e"
             ],
             [
              0.4444444444444444,
              "#bd3786"
             ],
             [
              0.5555555555555556,
              "#d8576b"
             ],
             [
              0.6666666666666666,
              "#ed7953"
             ],
             [
              0.7777777777777778,
              "#fb9f3a"
             ],
             [
              0.8888888888888888,
              "#fdca26"
             ],
             [
              1,
              "#f0f921"
             ]
            ],
            "type": "histogram2dcontour"
           }
          ],
          "mesh3d": [
           {
            "colorbar": {
             "outlinewidth": 0,
             "ticks": ""
            },
            "type": "mesh3d"
           }
          ],
          "parcoords": [
           {
            "line": {
             "colorbar": {
              "outlinewidth": 0,
              "ticks": ""
             }
            },
            "type": "parcoords"
           }
          ],
          "pie": [
           {
            "automargin": true,
            "type": "pie"
           }
          ],
          "scatter": [
           {
            "marker": {
             "colorbar": {
              "outlinewidth": 0,
              "ticks": ""
             }
            },
            "type": "scatter"
           }
          ],
          "scatter3d": [
           {
            "line": {
             "colorbar": {
              "outlinewidth": 0,
              "ticks": ""
             }
            },
            "marker": {
             "colorbar": {
              "outlinewidth": 0,
              "ticks": ""
             }
            },
            "type": "scatter3d"
           }
          ],
          "scattercarpet": [
           {
            "marker": {
             "colorbar": {
              "outlinewidth": 0,
              "ticks": ""
             }
            },
            "type": "scattercarpet"
           }
          ],
          "scattergeo": [
           {
            "marker": {
             "colorbar": {
              "outlinewidth": 0,
              "ticks": ""
             }
            },
            "type": "scattergeo"
           }
          ],
          "scattergl": [
           {
            "marker": {
             "colorbar": {
              "outlinewidth": 0,
              "ticks": ""
             }
            },
            "type": "scattergl"
           }
          ],
          "scattermapbox": [
           {
            "marker": {
             "colorbar": {
              "outlinewidth": 0,
              "ticks": ""
             }
            },
            "type": "scattermapbox"
           }
          ],
          "scatterpolar": [
           {
            "marker": {
             "colorbar": {
              "outlinewidth": 0,
              "ticks": ""
             }
            },
            "type": "scatterpolar"
           }
          ],
          "scatterpolargl": [
           {
            "marker": {
             "colorbar": {
              "outlinewidth": 0,
              "ticks": ""
             }
            },
            "type": "scatterpolargl"
           }
          ],
          "scatterternary": [
           {
            "marker": {
             "colorbar": {
              "outlinewidth": 0,
              "ticks": ""
             }
            },
            "type": "scatterternary"
           }
          ],
          "surface": [
           {
            "colorbar": {
             "outlinewidth": 0,
             "ticks": ""
            },
            "colorscale": [
             [
              0,
              "#0d0887"
             ],
             [
              0.1111111111111111,
              "#46039f"
             ],
             [
              0.2222222222222222,
              "#7201a8"
             ],
             [
              0.3333333333333333,
              "#9c179e"
             ],
             [
              0.4444444444444444,
              "#bd3786"
             ],
             [
              0.5555555555555556,
              "#d8576b"
             ],
             [
              0.6666666666666666,
              "#ed7953"
             ],
             [
              0.7777777777777778,
              "#fb9f3a"
             ],
             [
              0.8888888888888888,
              "#fdca26"
             ],
             [
              1,
              "#f0f921"
             ]
            ],
            "type": "surface"
           }
          ],
          "table": [
           {
            "cells": {
             "fill": {
              "color": "#EBF0F8"
             },
             "line": {
              "color": "white"
             }
            },
            "header": {
             "fill": {
              "color": "#C8D4E3"
             },
             "line": {
              "color": "white"
             }
            },
            "type": "table"
           }
          ]
         },
         "layout": {
          "annotationdefaults": {
           "arrowcolor": "#2a3f5f",
           "arrowhead": 0,
           "arrowwidth": 1
          },
          "coloraxis": {
           "colorbar": {
            "outlinewidth": 0,
            "ticks": ""
           }
          },
          "colorscale": {
           "diverging": [
            [
             0,
             "#8e0152"
            ],
            [
             0.1,
             "#c51b7d"
            ],
            [
             0.2,
             "#de77ae"
            ],
            [
             0.3,
             "#f1b6da"
            ],
            [
             0.4,
             "#fde0ef"
            ],
            [
             0.5,
             "#f7f7f7"
            ],
            [
             0.6,
             "#e6f5d0"
            ],
            [
             0.7,
             "#b8e186"
            ],
            [
             0.8,
             "#7fbc41"
            ],
            [
             0.9,
             "#4d9221"
            ],
            [
             1,
             "#276419"
            ]
           ],
           "sequential": [
            [
             0,
             "#0d0887"
            ],
            [
             0.1111111111111111,
             "#46039f"
            ],
            [
             0.2222222222222222,
             "#7201a8"
            ],
            [
             0.3333333333333333,
             "#9c179e"
            ],
            [
             0.4444444444444444,
             "#bd3786"
            ],
            [
             0.5555555555555556,
             "#d8576b"
            ],
            [
             0.6666666666666666,
             "#ed7953"
            ],
            [
             0.7777777777777778,
             "#fb9f3a"
            ],
            [
             0.8888888888888888,
             "#fdca26"
            ],
            [
             1,
             "#f0f921"
            ]
           ],
           "sequentialminus": [
            [
             0,
             "#0d0887"
            ],
            [
             0.1111111111111111,
             "#46039f"
            ],
            [
             0.2222222222222222,
             "#7201a8"
            ],
            [
             0.3333333333333333,
             "#9c179e"
            ],
            [
             0.4444444444444444,
             "#bd3786"
            ],
            [
             0.5555555555555556,
             "#d8576b"
            ],
            [
             0.6666666666666666,
             "#ed7953"
            ],
            [
             0.7777777777777778,
             "#fb9f3a"
            ],
            [
             0.8888888888888888,
             "#fdca26"
            ],
            [
             1,
             "#f0f921"
            ]
           ]
          },
          "colorway": [
           "#636efa",
           "#EF553B",
           "#00cc96",
           "#ab63fa",
           "#FFA15A",
           "#19d3f3",
           "#FF6692",
           "#B6E880",
           "#FF97FF",
           "#FECB52"
          ],
          "font": {
           "color": "#2a3f5f"
          },
          "geo": {
           "bgcolor": "white",
           "lakecolor": "white",
           "landcolor": "#E5ECF6",
           "showlakes": true,
           "showland": true,
           "subunitcolor": "white"
          },
          "hoverlabel": {
           "align": "left"
          },
          "hovermode": "closest",
          "mapbox": {
           "style": "light"
          },
          "paper_bgcolor": "white",
          "plot_bgcolor": "#E5ECF6",
          "polar": {
           "angularaxis": {
            "gridcolor": "white",
            "linecolor": "white",
            "ticks": ""
           },
           "bgcolor": "#E5ECF6",
           "radialaxis": {
            "gridcolor": "white",
            "linecolor": "white",
            "ticks": ""
           }
          },
          "scene": {
           "xaxis": {
            "backgroundcolor": "#E5ECF6",
            "gridcolor": "white",
            "gridwidth": 2,
            "linecolor": "white",
            "showbackground": true,
            "ticks": "",
            "zerolinecolor": "white"
           },
           "yaxis": {
            "backgroundcolor": "#E5ECF6",
            "gridcolor": "white",
            "gridwidth": 2,
            "linecolor": "white",
            "showbackground": true,
            "ticks": "",
            "zerolinecolor": "white"
           },
           "zaxis": {
            "backgroundcolor": "#E5ECF6",
            "gridcolor": "white",
            "gridwidth": 2,
            "linecolor": "white",
            "showbackground": true,
            "ticks": "",
            "zerolinecolor": "white"
           }
          },
          "shapedefaults": {
           "line": {
            "color": "#2a3f5f"
           }
          },
          "ternary": {
           "aaxis": {
            "gridcolor": "white",
            "linecolor": "white",
            "ticks": ""
           },
           "baxis": {
            "gridcolor": "white",
            "linecolor": "white",
            "ticks": ""
           },
           "bgcolor": "#E5ECF6",
           "caxis": {
            "gridcolor": "white",
            "linecolor": "white",
            "ticks": ""
           }
          },
          "title": {
           "x": 0.05
          },
          "xaxis": {
           "automargin": true,
           "gridcolor": "white",
           "linecolor": "white",
           "ticks": "",
           "title": {
            "standoff": 15
           },
           "zerolinecolor": "white",
           "zerolinewidth": 2
          },
          "yaxis": {
           "automargin": true,
           "gridcolor": "white",
           "linecolor": "white",
           "ticks": "",
           "title": {
            "standoff": 15
           },
           "zerolinecolor": "white",
           "zerolinewidth": 2
          }
         }
        },
        "title": {
         "font": {
          "color": "#4D5663"
         },
         "text": "CAR for holding periods"
        },
        "xaxis": {
         "gridcolor": "#E1E5ED",
         "showgrid": true,
         "tickfont": {
          "color": "#4D5663"
         },
         "title": {
          "font": {
           "color": "#4D5663"
          },
          "text": "Month"
         },
         "zerolinecolor": "#E1E5ED"
        },
        "yaxis": {
         "gridcolor": "#E1E5ED",
         "showgrid": true,
         "tickfont": {
          "color": "#4D5663"
         },
         "title": {
          "font": {
           "color": "#4D5663"
          },
          "text": "CAR"
         },
         "zerolinecolor": "#E1E5ED"
        }
       }
      },
      "text/html": [
       "<div>\n",
       "        \n",
       "        \n",
       "            <div id=\"75c19911-f8fc-49a7-b36c-312be7c8752e\" class=\"plotly-graph-div\" style=\"height:525px; width:100%;\"></div>\n",
       "            <script type=\"text/javascript\">\n",
       "                require([\"plotly\"], function(Plotly) {\n",
       "                    window.PLOTLYENV=window.PLOTLYENV || {};\n",
       "                    window.PLOTLYENV.BASE_URL='https://plot.ly';\n",
       "                    \n",
       "                if (document.getElementById(\"75c19911-f8fc-49a7-b36c-312be7c8752e\")) {\n",
       "                    Plotly.newPlot(\n",
       "                        '75c19911-f8fc-49a7-b36c-312be7c8752e',\n",
       "                        [{\"line\": {\"color\": \"rgba(255, 153, 51, 1.0)\", \"dash\": \"solid\", \"shape\": \"linear\", \"width\": 1.3}, \"mode\": \"lines\", \"name\": \"Q1\", \"text\": \"\", \"type\": \"scatter\", \"x\": [\"0\", \"1\", \"2\", \"3\", \"4\", \"5\", \"6\"], \"y\": [0.0, 0.011513297001814483, 0.014704341164592214, 0.011719909600583039, 0.014312015873791384, 0.009526252370849395, 0.01244967777305106]}, {\"line\": {\"color\": \"rgba(55, 128, 191, 1.0)\", \"dash\": \"solid\", \"shape\": \"linear\", \"width\": 1.3}, \"mode\": \"lines\", \"name\": \"Q5\", \"text\": \"\", \"type\": \"scatter\", \"x\": [\"0\", \"1\", \"2\", \"3\", \"4\", \"5\", \"6\"], \"y\": [0.0, 0.015791505675862454, 0.01697626917620862, 0.01431665375596543, 0.020536038615578046, 0.015259650654883973, 0.012493199583749875]}],\n",
       "                        {\"legend\": {\"bgcolor\": \"#F5F6F9\", \"font\": {\"color\": \"#4D5663\"}}, \"paper_bgcolor\": \"#F5F6F9\", \"plot_bgcolor\": \"#F5F6F9\", \"template\": {\"data\": {\"bar\": [{\"error_x\": {\"color\": \"#2a3f5f\"}, \"error_y\": {\"color\": \"#2a3f5f\"}, \"marker\": {\"line\": {\"color\": \"#E5ECF6\", \"width\": 0.5}}, \"type\": \"bar\"}], \"barpolar\": [{\"marker\": {\"line\": {\"color\": \"#E5ECF6\", \"width\": 0.5}}, \"type\": \"barpolar\"}], \"carpet\": [{\"aaxis\": {\"endlinecolor\": \"#2a3f5f\", \"gridcolor\": \"white\", \"linecolor\": \"white\", \"minorgridcolor\": \"white\", \"startlinecolor\": \"#2a3f5f\"}, \"baxis\": {\"endlinecolor\": \"#2a3f5f\", \"gridcolor\": \"white\", \"linecolor\": \"white\", \"minorgridcolor\": \"white\", \"startlinecolor\": \"#2a3f5f\"}, \"type\": \"carpet\"}], \"choropleth\": [{\"colorbar\": {\"outlinewidth\": 0, \"ticks\": \"\"}, \"type\": \"choropleth\"}], \"contour\": [{\"colorbar\": {\"outlinewidth\": 0, \"ticks\": \"\"}, \"colorscale\": [[0.0, \"#0d0887\"], [0.1111111111111111, \"#46039f\"], [0.2222222222222222, \"#7201a8\"], [0.3333333333333333, \"#9c179e\"], [0.4444444444444444, \"#bd3786\"], [0.5555555555555556, \"#d8576b\"], [0.6666666666666666, \"#ed7953\"], [0.7777777777777778, \"#fb9f3a\"], [0.8888888888888888, \"#fdca26\"], [1.0, \"#f0f921\"]], \"type\": \"contour\"}], \"contourcarpet\": [{\"colorbar\": {\"outlinewidth\": 0, \"ticks\": \"\"}, \"type\": \"contourcarpet\"}], \"heatmap\": [{\"colorbar\": {\"outlinewidth\": 0, \"ticks\": \"\"}, \"colorscale\": [[0.0, \"#0d0887\"], [0.1111111111111111, \"#46039f\"], [0.2222222222222222, \"#7201a8\"], [0.3333333333333333, \"#9c179e\"], [0.4444444444444444, \"#bd3786\"], [0.5555555555555556, \"#d8576b\"], [0.6666666666666666, \"#ed7953\"], [0.7777777777777778, \"#fb9f3a\"], [0.8888888888888888, \"#fdca26\"], [1.0, \"#f0f921\"]], \"type\": \"heatmap\"}], \"heatmapgl\": [{\"colorbar\": {\"outlinewidth\": 0, \"ticks\": \"\"}, \"colorscale\": [[0.0, \"#0d0887\"], [0.1111111111111111, \"#46039f\"], [0.2222222222222222, \"#7201a8\"], [0.3333333333333333, \"#9c179e\"], [0.4444444444444444, \"#bd3786\"], [0.5555555555555556, \"#d8576b\"], [0.6666666666666666, \"#ed7953\"], [0.7777777777777778, \"#fb9f3a\"], [0.8888888888888888, \"#fdca26\"], [1.0, \"#f0f921\"]], \"type\": \"heatmapgl\"}], \"histogram\": [{\"marker\": {\"colorbar\": {\"outlinewidth\": 0, \"ticks\": \"\"}}, \"type\": \"histogram\"}], \"histogram2d\": [{\"colorbar\": {\"outlinewidth\": 0, \"ticks\": \"\"}, \"colorscale\": [[0.0, \"#0d0887\"], [0.1111111111111111, \"#46039f\"], [0.2222222222222222, \"#7201a8\"], [0.3333333333333333, \"#9c179e\"], [0.4444444444444444, \"#bd3786\"], [0.5555555555555556, \"#d8576b\"], [0.6666666666666666, \"#ed7953\"], [0.7777777777777778, \"#fb9f3a\"], [0.8888888888888888, \"#fdca26\"], [1.0, \"#f0f921\"]], \"type\": \"histogram2d\"}], \"histogram2dcontour\": [{\"colorbar\": {\"outlinewidth\": 0, \"ticks\": \"\"}, \"colorscale\": [[0.0, \"#0d0887\"], [0.1111111111111111, \"#46039f\"], [0.2222222222222222, \"#7201a8\"], [0.3333333333333333, \"#9c179e\"], [0.4444444444444444, \"#bd3786\"], [0.5555555555555556, \"#d8576b\"], [0.6666666666666666, \"#ed7953\"], [0.7777777777777778, \"#fb9f3a\"], [0.8888888888888888, \"#fdca26\"], [1.0, \"#f0f921\"]], \"type\": \"histogram2dcontour\"}], \"mesh3d\": [{\"colorbar\": {\"outlinewidth\": 0, \"ticks\": \"\"}, \"type\": \"mesh3d\"}], \"parcoords\": [{\"line\": {\"colorbar\": {\"outlinewidth\": 0, \"ticks\": \"\"}}, \"type\": \"parcoords\"}], \"pie\": [{\"automargin\": true, \"type\": \"pie\"}], \"scatter\": [{\"marker\": {\"colorbar\": {\"outlinewidth\": 0, \"ticks\": \"\"}}, \"type\": \"scatter\"}], \"scatter3d\": [{\"line\": {\"colorbar\": {\"outlinewidth\": 0, \"ticks\": \"\"}}, \"marker\": {\"colorbar\": {\"outlinewidth\": 0, \"ticks\": \"\"}}, \"type\": \"scatter3d\"}], \"scattercarpet\": [{\"marker\": {\"colorbar\": {\"outlinewidth\": 0, \"ticks\": \"\"}}, \"type\": \"scattercarpet\"}], \"scattergeo\": [{\"marker\": {\"colorbar\": {\"outlinewidth\": 0, \"ticks\": \"\"}}, \"type\": \"scattergeo\"}], \"scattergl\": [{\"marker\": {\"colorbar\": {\"outlinewidth\": 0, \"ticks\": \"\"}}, \"type\": \"scattergl\"}], \"scattermapbox\": [{\"marker\": {\"colorbar\": {\"outlinewidth\": 0, \"ticks\": \"\"}}, \"type\": \"scattermapbox\"}], \"scatterpolar\": [{\"marker\": {\"colorbar\": {\"outlinewidth\": 0, \"ticks\": \"\"}}, \"type\": \"scatterpolar\"}], \"scatterpolargl\": [{\"marker\": {\"colorbar\": {\"outlinewidth\": 0, \"ticks\": \"\"}}, \"type\": \"scatterpolargl\"}], \"scatterternary\": [{\"marker\": {\"colorbar\": {\"outlinewidth\": 0, \"ticks\": \"\"}}, \"type\": \"scatterternary\"}], \"surface\": [{\"colorbar\": {\"outlinewidth\": 0, \"ticks\": \"\"}, \"colorscale\": [[0.0, \"#0d0887\"], [0.1111111111111111, \"#46039f\"], [0.2222222222222222, \"#7201a8\"], [0.3333333333333333, \"#9c179e\"], [0.4444444444444444, \"#bd3786\"], [0.5555555555555556, \"#d8576b\"], [0.6666666666666666, \"#ed7953\"], [0.7777777777777778, \"#fb9f3a\"], [0.8888888888888888, \"#fdca26\"], [1.0, \"#f0f921\"]], \"type\": \"surface\"}], \"table\": [{\"cells\": {\"fill\": {\"color\": \"#EBF0F8\"}, \"line\": {\"color\": \"white\"}}, \"header\": {\"fill\": {\"color\": \"#C8D4E3\"}, \"line\": {\"color\": \"white\"}}, \"type\": \"table\"}]}, \"layout\": {\"annotationdefaults\": {\"arrowcolor\": \"#2a3f5f\", \"arrowhead\": 0, \"arrowwidth\": 1}, \"coloraxis\": {\"colorbar\": {\"outlinewidth\": 0, \"ticks\": \"\"}}, \"colorscale\": {\"diverging\": [[0, \"#8e0152\"], [0.1, \"#c51b7d\"], [0.2, \"#de77ae\"], [0.3, \"#f1b6da\"], [0.4, \"#fde0ef\"], [0.5, \"#f7f7f7\"], [0.6, \"#e6f5d0\"], [0.7, \"#b8e186\"], [0.8, \"#7fbc41\"], [0.9, \"#4d9221\"], [1, \"#276419\"]], \"sequential\": [[0.0, \"#0d0887\"], [0.1111111111111111, \"#46039f\"], [0.2222222222222222, \"#7201a8\"], [0.3333333333333333, \"#9c179e\"], [0.4444444444444444, \"#bd3786\"], [0.5555555555555556, \"#d8576b\"], [0.6666666666666666, \"#ed7953\"], [0.7777777777777778, \"#fb9f3a\"], [0.8888888888888888, \"#fdca26\"], [1.0, \"#f0f921\"]], \"sequentialminus\": [[0.0, \"#0d0887\"], [0.1111111111111111, \"#46039f\"], [0.2222222222222222, \"#7201a8\"], [0.3333333333333333, \"#9c179e\"], [0.4444444444444444, \"#bd3786\"], [0.5555555555555556, \"#d8576b\"], [0.6666666666666666, \"#ed7953\"], [0.7777777777777778, \"#fb9f3a\"], [0.8888888888888888, \"#fdca26\"], [1.0, \"#f0f921\"]]}, \"colorway\": [\"#636efa\", \"#EF553B\", \"#00cc96\", \"#ab63fa\", \"#FFA15A\", \"#19d3f3\", \"#FF6692\", \"#B6E880\", \"#FF97FF\", \"#FECB52\"], \"font\": {\"color\": \"#2a3f5f\"}, \"geo\": {\"bgcolor\": \"white\", \"lakecolor\": \"white\", \"landcolor\": \"#E5ECF6\", \"showlakes\": true, \"showland\": true, \"subunitcolor\": \"white\"}, \"hoverlabel\": {\"align\": \"left\"}, \"hovermode\": \"closest\", \"mapbox\": {\"style\": \"light\"}, \"paper_bgcolor\": \"white\", \"plot_bgcolor\": \"#E5ECF6\", \"polar\": {\"angularaxis\": {\"gridcolor\": \"white\", \"linecolor\": \"white\", \"ticks\": \"\"}, \"bgcolor\": \"#E5ECF6\", \"radialaxis\": {\"gridcolor\": \"white\", \"linecolor\": \"white\", \"ticks\": \"\"}}, \"scene\": {\"xaxis\": {\"backgroundcolor\": \"#E5ECF6\", \"gridcolor\": \"white\", \"gridwidth\": 2, \"linecolor\": \"white\", \"showbackground\": true, \"ticks\": \"\", \"zerolinecolor\": \"white\"}, \"yaxis\": {\"backgroundcolor\": \"#E5ECF6\", \"gridcolor\": \"white\", \"gridwidth\": 2, \"linecolor\": \"white\", \"showbackground\": true, \"ticks\": \"\", \"zerolinecolor\": \"white\"}, \"zaxis\": {\"backgroundcolor\": \"#E5ECF6\", \"gridcolor\": \"white\", \"gridwidth\": 2, \"linecolor\": \"white\", \"showbackground\": true, \"ticks\": \"\", \"zerolinecolor\": \"white\"}}, \"shapedefaults\": {\"line\": {\"color\": \"#2a3f5f\"}}, \"ternary\": {\"aaxis\": {\"gridcolor\": \"white\", \"linecolor\": \"white\", \"ticks\": \"\"}, \"baxis\": {\"gridcolor\": \"white\", \"linecolor\": \"white\", \"ticks\": \"\"}, \"bgcolor\": \"#E5ECF6\", \"caxis\": {\"gridcolor\": \"white\", \"linecolor\": \"white\", \"ticks\": \"\"}}, \"title\": {\"x\": 0.05}, \"xaxis\": {\"automargin\": true, \"gridcolor\": \"white\", \"linecolor\": \"white\", \"ticks\": \"\", \"title\": {\"standoff\": 15}, \"zerolinecolor\": \"white\", \"zerolinewidth\": 2}, \"yaxis\": {\"automargin\": true, \"gridcolor\": \"white\", \"linecolor\": \"white\", \"ticks\": \"\", \"title\": {\"standoff\": 15}, \"zerolinecolor\": \"white\", \"zerolinewidth\": 2}}}, \"title\": {\"font\": {\"color\": \"#4D5663\"}, \"text\": \"CAR for holding periods\"}, \"xaxis\": {\"gridcolor\": \"#E1E5ED\", \"showgrid\": true, \"tickfont\": {\"color\": \"#4D5663\"}, \"title\": {\"font\": {\"color\": \"#4D5663\"}, \"text\": \"Month\"}, \"zerolinecolor\": \"#E1E5ED\"}, \"yaxis\": {\"gridcolor\": \"#E1E5ED\", \"showgrid\": true, \"tickfont\": {\"color\": \"#4D5663\"}, \"title\": {\"font\": {\"color\": \"#4D5663\"}, \"text\": \"CAR\"}, \"zerolinecolor\": \"#E1E5ED\"}},\n",
       "                        {\"showLink\": true, \"linkText\": \"Export to plot.ly\", \"plotlyServerURL\": \"https://plot.ly\", \"responsive\": true}\n",
       "                    ).then(function(){\n",
       "                            \n",
       "var gd = document.getElementById('75c19911-f8fc-49a7-b36c-312be7c8752e');\n",
       "var x = new MutationObserver(function (mutations, observer) {{\n",
       "        var display = window.getComputedStyle(gd).display;\n",
       "        if (!display || display === 'none') {{\n",
       "            console.log([gd, 'removed!']);\n",
       "            Plotly.purge(gd);\n",
       "            observer.disconnect();\n",
       "        }}\n",
       "}});\n",
       "\n",
       "// Listen for the removal of the full notebook cells\n",
       "var notebookContainer = gd.closest('#notebook-container');\n",
       "if (notebookContainer) {{\n",
       "    x.observe(notebookContainer, {childList: true});\n",
       "}}\n",
       "\n",
       "// Listen for the clearing of the current output cell\n",
       "var outputEl = gd.closest('.output');\n",
       "if (outputEl) {{\n",
       "    x.observe(outputEl, {childList: true});\n",
       "}}\n",
       "\n",
       "                        })\n",
       "                };\n",
       "                });\n",
       "            </script>\n",
       "        </div>"
      ]
     },
     "metadata": {},
     "output_type": "display_data"
    }
   ],
   "source": [
    "six_month_df.iplot(kind='line',title = 'CAR for holding periods' ,xTitle='Month', yTitle = 'CAR')"
   ]
  },
  {
   "cell_type": "code",
   "execution_count": null,
   "metadata": {},
   "outputs": [],
   "source": [
    "\n"
   ]
  }
 ],
 "metadata": {
  "kernelspec": {
   "display_name": "Python 3",
   "language": "python",
   "name": "python3"
  },
  "language_info": {
   "codemirror_mode": {
    "name": "ipython",
    "version": 3
   },
   "file_extension": ".py",
   "mimetype": "text/x-python",
   "name": "python",
   "nbconvert_exporter": "python",
   "pygments_lexer": "ipython3",
   "version": "3.7.3"
  }
 },
 "nbformat": 4,
 "nbformat_minor": 4
}
