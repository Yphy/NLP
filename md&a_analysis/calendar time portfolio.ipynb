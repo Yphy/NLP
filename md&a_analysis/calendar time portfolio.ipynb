{
 "cells": [
  {
   "cell_type": "code",
   "execution_count": 1,
   "metadata": {},
   "outputs": [
    {
     "data": {
      "text/html": [
       "        <script type=\"text/javascript\">\n",
       "        window.PlotlyConfig = {MathJaxConfig: 'local'};\n",
       "        if (window.MathJax) {MathJax.Hub.Config({SVG: {font: \"STIX-Web\"}});}\n",
       "        if (typeof require !== 'undefined') {\n",
       "        require.undef(\"plotly\");\n",
       "        requirejs.config({\n",
       "            paths: {\n",
       "                'plotly': ['https://cdn.plot.ly/plotly-latest.min']\n",
       "            }\n",
       "        });\n",
       "        require(['plotly'], function(Plotly) {\n",
       "            window._Plotly = Plotly;\n",
       "        });\n",
       "        }\n",
       "        </script>\n",
       "        "
      ]
     },
     "metadata": {},
     "output_type": "display_data"
    }
   ],
   "source": [
    "import numpy as np\n",
    "import pandas as pd\n",
    "import plotly.graph_objs as go\n",
    "from chart_studio.plotly import plot, iplot\n",
    "import cufflinks as cf\n",
    "cf.go_offline(connected=True)"
   ]
  },
  {
   "cell_type": "code",
   "execution_count": 120,
   "metadata": {},
   "outputs": [],
   "source": [
    "themes = cf.getThemes() #테마목록\n",
    "\n",
    "cf.set_config_file(theme = 'pearl') #theme설정\n",
    "\n",
    "layout = { 'font': { 'family': 'consolas', 'size': 15, 'color': 'black'  #layout설정\n",
    "                   } \n",
    "         }\n",
    "layout['title'] = \"Title\" \n",
    "#iplot 안에 layout = layout으로 "
   ]
  },
  {
   "cell_type": "code",
   "execution_count": 57,
   "metadata": {},
   "outputs": [],
   "source": [
    "price_df = pd.read_csv('./data/kospi/preprocessed/df_return.csv',index_col=0)\n",
    "df = pd.read_csv('./data/similarity/jaccard.csv',index_col=0)\n",
    "rm_df = pd.read_csv('./data/kospi/raw/rm_kospi200.csv',index_col=0)"
   ]
  },
  {
   "cell_type": "code",
   "execution_count": 4,
   "metadata": {},
   "outputs": [],
   "source": [
    "abs_return = price_df.values - rm_df['return'].values[:,np.newaxis]\n",
    "de_rm_df = pd.DataFrame(data=abs_return, index=price_df.index, columns=price_df.columns)"
   ]
  },
  {
   "cell_type": "code",
   "execution_count": 5,
   "metadata": {},
   "outputs": [
    {
     "data": {
      "text/html": [
       "<div>\n",
       "<style scoped>\n",
       "    .dataframe tbody tr th:only-of-type {\n",
       "        vertical-align: middle;\n",
       "    }\n",
       "\n",
       "    .dataframe tbody tr th {\n",
       "        vertical-align: top;\n",
       "    }\n",
       "\n",
       "    .dataframe thead th {\n",
       "        text-align: right;\n",
       "    }\n",
       "</style>\n",
       "<table border=\"1\" class=\"dataframe\">\n",
       "  <thead>\n",
       "    <tr style=\"text-align: right;\">\n",
       "      <th></th>\n",
       "      <th>삼양홀딩스</th>\n",
       "      <th>유한양행</th>\n",
       "      <th>CJ대한통운</th>\n",
       "      <th>두산</th>\n",
       "      <th>대림산업</th>\n",
       "      <th>한국테크놀로지그룹</th>\n",
       "      <th>기아차</th>\n",
       "      <th>동아쏘시오홀딩스</th>\n",
       "      <th>SK하이닉스</th>\n",
       "      <th>영풍</th>\n",
       "      <th>...</th>\n",
       "      <th>현대백화점</th>\n",
       "      <th>한국금융지주</th>\n",
       "      <th>GS</th>\n",
       "      <th>하나금융지주</th>\n",
       "      <th>아모레퍼시픽</th>\n",
       "      <th>LF</th>\n",
       "      <th>후성</th>\n",
       "      <th>SK이노베이션</th>\n",
       "      <th>CJ제일제당</th>\n",
       "      <th>KB금융</th>\n",
       "    </tr>\n",
       "  </thead>\n",
       "  <tbody>\n",
       "    <tr>\n",
       "      <th>20100104</th>\n",
       "      <td>-0.002808</td>\n",
       "      <td>-0.018529</td>\n",
       "      <td>-0.046101</td>\n",
       "      <td>-0.033509</td>\n",
       "      <td>0.017940</td>\n",
       "      <td>-0.024881</td>\n",
       "      <td>0.030106</td>\n",
       "      <td>0.031618</td>\n",
       "      <td>0.033737</td>\n",
       "      <td>-0.007300</td>\n",
       "      <td>...</td>\n",
       "      <td>-0.002856</td>\n",
       "      <td>0.015088</td>\n",
       "      <td>-0.008779</td>\n",
       "      <td>0.006378</td>\n",
       "      <td>0.001263</td>\n",
       "      <td>0.003794</td>\n",
       "      <td>-0.013965</td>\n",
       "      <td>-0.011555</td>\n",
       "      <td>-7.299270e-07</td>\n",
       "      <td>-0.012325</td>\n",
       "    </tr>\n",
       "    <tr>\n",
       "      <th>20100105</th>\n",
       "      <td>-0.002681</td>\n",
       "      <td>0.008590</td>\n",
       "      <td>0.001074</td>\n",
       "      <td>0.000753</td>\n",
       "      <td>-0.006470</td>\n",
       "      <td>-0.041025</td>\n",
       "      <td>-0.052380</td>\n",
       "      <td>-0.030805</td>\n",
       "      <td>-0.028212</td>\n",
       "      <td>-0.030484</td>\n",
       "      <td>...</td>\n",
       "      <td>-0.041339</td>\n",
       "      <td>0.013127</td>\n",
       "      <td>0.007353</td>\n",
       "      <td>0.019400</td>\n",
       "      <td>-0.025747</td>\n",
       "      <td>-0.036277</td>\n",
       "      <td>-0.003533</td>\n",
       "      <td>0.041370</td>\n",
       "      <td>6.571034e-02</td>\n",
       "      <td>-0.008876</td>\n",
       "    </tr>\n",
       "    <tr>\n",
       "      <th>20100106</th>\n",
       "      <td>-0.016060</td>\n",
       "      <td>0.003080</td>\n",
       "      <td>0.028553</td>\n",
       "      <td>0.046807</td>\n",
       "      <td>0.011906</td>\n",
       "      <td>-0.014452</td>\n",
       "      <td>0.001966</td>\n",
       "      <td>-0.035338</td>\n",
       "      <td>0.043180</td>\n",
       "      <td>-0.031849</td>\n",
       "      <td>...</td>\n",
       "      <td>-0.031360</td>\n",
       "      <td>-0.016883</td>\n",
       "      <td>0.002112</td>\n",
       "      <td>-0.008212</td>\n",
       "      <td>-0.068328</td>\n",
       "      <td>-0.016369</td>\n",
       "      <td>0.006104</td>\n",
       "      <td>-0.004097</td>\n",
       "      <td>-5.939443e-03</td>\n",
       "      <td>-0.011619</td>\n",
       "    </tr>\n",
       "    <tr>\n",
       "      <th>20100107</th>\n",
       "      <td>-0.000886</td>\n",
       "      <td>0.006572</td>\n",
       "      <td>0.018501</td>\n",
       "      <td>0.042569</td>\n",
       "      <td>0.012635</td>\n",
       "      <td>-0.010329</td>\n",
       "      <td>-0.030385</td>\n",
       "      <td>0.022925</td>\n",
       "      <td>0.008845</td>\n",
       "      <td>0.011231</td>\n",
       "      <td>...</td>\n",
       "      <td>0.019695</td>\n",
       "      <td>-0.005453</td>\n",
       "      <td>0.025174</td>\n",
       "      <td>0.001681</td>\n",
       "      <td>-0.007132</td>\n",
       "      <td>0.006732</td>\n",
       "      <td>0.022945</td>\n",
       "      <td>0.010857</td>\n",
       "      <td>3.617400e-03</td>\n",
       "      <td>0.002989</td>\n",
       "    </tr>\n",
       "    <tr>\n",
       "      <th>20100108</th>\n",
       "      <td>-0.008403</td>\n",
       "      <td>-0.014540</td>\n",
       "      <td>0.011568</td>\n",
       "      <td>0.058574</td>\n",
       "      <td>0.004365</td>\n",
       "      <td>0.002605</td>\n",
       "      <td>0.015008</td>\n",
       "      <td>-0.014007</td>\n",
       "      <td>0.004146</td>\n",
       "      <td>-0.009838</td>\n",
       "      <td>...</td>\n",
       "      <td>-0.029685</td>\n",
       "      <td>0.060864</td>\n",
       "      <td>-0.010435</td>\n",
       "      <td>-0.003111</td>\n",
       "      <td>-0.021566</td>\n",
       "      <td>0.003850</td>\n",
       "      <td>-0.001080</td>\n",
       "      <td>0.002130</td>\n",
       "      <td>-6.100041e-03</td>\n",
       "      <td>-0.004370</td>\n",
       "    </tr>\n",
       "  </tbody>\n",
       "</table>\n",
       "<p>5 rows × 113 columns</p>\n",
       "</div>"
      ],
      "text/plain": [
       "             삼양홀딩스      유한양행    CJ대한통운        두산      대림산업  한국테크놀로지그룹  \\\n",
       "20100104 -0.002808 -0.018529 -0.046101 -0.033509  0.017940  -0.024881   \n",
       "20100105 -0.002681  0.008590  0.001074  0.000753 -0.006470  -0.041025   \n",
       "20100106 -0.016060  0.003080  0.028553  0.046807  0.011906  -0.014452   \n",
       "20100107 -0.000886  0.006572  0.018501  0.042569  0.012635  -0.010329   \n",
       "20100108 -0.008403 -0.014540  0.011568  0.058574  0.004365   0.002605   \n",
       "\n",
       "               기아차  동아쏘시오홀딩스    SK하이닉스        영풍  ...     현대백화점    한국금융지주  \\\n",
       "20100104  0.030106  0.031618  0.033737 -0.007300  ... -0.002856  0.015088   \n",
       "20100105 -0.052380 -0.030805 -0.028212 -0.030484  ... -0.041339  0.013127   \n",
       "20100106  0.001966 -0.035338  0.043180 -0.031849  ... -0.031360 -0.016883   \n",
       "20100107 -0.030385  0.022925  0.008845  0.011231  ...  0.019695 -0.005453   \n",
       "20100108  0.015008 -0.014007  0.004146 -0.009838  ... -0.029685  0.060864   \n",
       "\n",
       "                GS    하나금융지주    아모레퍼시픽        LF        후성   SK이노베이션  \\\n",
       "20100104 -0.008779  0.006378  0.001263  0.003794 -0.013965 -0.011555   \n",
       "20100105  0.007353  0.019400 -0.025747 -0.036277 -0.003533  0.041370   \n",
       "20100106  0.002112 -0.008212 -0.068328 -0.016369  0.006104 -0.004097   \n",
       "20100107  0.025174  0.001681 -0.007132  0.006732  0.022945  0.010857   \n",
       "20100108 -0.010435 -0.003111 -0.021566  0.003850 -0.001080  0.002130   \n",
       "\n",
       "                CJ제일제당      KB금융  \n",
       "20100104 -7.299270e-07 -0.012325  \n",
       "20100105  6.571034e-02 -0.008876  \n",
       "20100106 -5.939443e-03 -0.011619  \n",
       "20100107  3.617400e-03  0.002989  \n",
       "20100108 -6.100041e-03 -0.004370  \n",
       "\n",
       "[5 rows x 113 columns]"
      ]
     },
     "execution_count": 5,
     "metadata": {},
     "output_type": "execute_result"
    }
   ],
   "source": [
    "de_rm_df.head() #kospi200 market return을 감해준 수익률 data"
   ]
  },
  {
   "cell_type": "markdown",
   "metadata": {},
   "source": [
    "2010년~2011 사이에는 비교할 동일기업 사업보고서 존재하지 않으므로 유사도가 존재하지않는다. 2011년부터 발행되며 filing월은 각자 다르다."
   ]
  },
  {
   "cell_type": "code",
   "execution_count": 6,
   "metadata": {},
   "outputs": [],
   "source": [
    "arr = df.values\n",
    "col_ls = df.columns.values\n",
    "finite_arr = ~np.isnan(arr)"
   ]
  },
  {
   "cell_type": "code",
   "execution_count": 7,
   "metadata": {},
   "outputs": [],
   "source": [
    "def converter(idx) :     \n",
    "    tmp_key = col_ls[finite_arr[idx]]\n",
    "    tmp_val = arr[idx][finite_arr[idx]]\n",
    "    tmp_dict = dict(zip(tmp_key,tmp_val))\n",
    "    return tmp_dict"
   ]
  },
  {
   "cell_type": "code",
   "execution_count": 8,
   "metadata": {
    "scrolled": true
   },
   "outputs": [
    {
     "name": "stdout",
     "output_type": "stream",
     "text": [
      "Wall time: 35.9 ms\n"
     ]
    }
   ],
   "source": [
    "%%time\n",
    "container = []\n",
    "dict_ = dict(zip(col_ls, [np.nan for _ in range(len(col_ls))]))\n",
    "idx_ls = []\n",
    "for idx in range(1, len(arr)) : \n",
    "    tmp_dict = converter(idx)\n",
    "    if len(tmp_dict) :\n",
    "        idx_ls.append(idx)\n",
    "    container.append(dict_.copy())\n",
    "    dict_.update(tmp_dict)\n",
    "container.append(dict_)\n",
    "\n",
    "assert len(container) == len(df)"
   ]
  },
  {
   "cell_type": "code",
   "execution_count": 9,
   "metadata": {},
   "outputs": [],
   "source": [
    "df_converter = lambda x : pd.DataFrame.from_dict(x,orient='index').T\n",
    "concat_df = pd.concat(map(df_converter, container),ignore_index=True)\n",
    "concat_df.index = df.index "
   ]
  },
  {
   "cell_type": "code",
   "execution_count": 10,
   "metadata": {
    "scrolled": true
   },
   "outputs": [
    {
     "name": "stderr",
     "output_type": "stream",
     "text": [
      "C:\\Users\\yphy0\\anaconda3\\lib\\site-packages\\ipykernel_launcher.py:3: RuntimeWarning:\n",
      "\n",
      "invalid value encountered in sign\n",
      "\n"
     ]
    },
    {
     "data": {
      "text/plain": [
       "113"
      ]
     },
     "execution_count": 10,
     "metadata": {},
     "output_type": "execute_result"
    }
   ],
   "source": [
    "ls_ = [] #np.sign이용해 모든 기업에 대하여 총 바뀐 값이 9개(10년치) 인지 확인\n",
    "for i in concat_df.columns:\n",
    "    if len(concat_df[np.sign(concat_df).sum(1)==113].loc[:,i].unique()) == 9:\n",
    "        ls_.append(i)\n",
    "\n",
    "len(ls_)"
   ]
  },
  {
   "cell_type": "code",
   "execution_count": 11,
   "metadata": {},
   "outputs": [
    {
     "data": {
      "text/html": [
       "<div>\n",
       "<style scoped>\n",
       "    .dataframe tbody tr th:only-of-type {\n",
       "        vertical-align: middle;\n",
       "    }\n",
       "\n",
       "    .dataframe tbody tr th {\n",
       "        vertical-align: top;\n",
       "    }\n",
       "\n",
       "    .dataframe thead th {\n",
       "        text-align: right;\n",
       "    }\n",
       "</style>\n",
       "<table border=\"1\" class=\"dataframe\">\n",
       "  <thead>\n",
       "    <tr style=\"text-align: right;\">\n",
       "      <th></th>\n",
       "      <th>삼양홀딩스</th>\n",
       "      <th>유한양행</th>\n",
       "      <th>CJ대한통운</th>\n",
       "      <th>두산</th>\n",
       "      <th>대림산업</th>\n",
       "      <th>한국테크놀로지그룹</th>\n",
       "      <th>기아차</th>\n",
       "      <th>동아쏘시오홀딩스</th>\n",
       "      <th>SK하이닉스</th>\n",
       "      <th>영풍</th>\n",
       "      <th>...</th>\n",
       "      <th>현대백화점</th>\n",
       "      <th>한국금융지주</th>\n",
       "      <th>GS</th>\n",
       "      <th>하나금융지주</th>\n",
       "      <th>아모레퍼시픽</th>\n",
       "      <th>LF</th>\n",
       "      <th>후성</th>\n",
       "      <th>SK이노베이션</th>\n",
       "      <th>CJ제일제당</th>\n",
       "      <th>KB금융</th>\n",
       "    </tr>\n",
       "  </thead>\n",
       "  <tbody>\n",
       "    <tr>\n",
       "      <th>20100101</th>\n",
       "      <td>NaN</td>\n",
       "      <td>NaN</td>\n",
       "      <td>NaN</td>\n",
       "      <td>NaN</td>\n",
       "      <td>NaN</td>\n",
       "      <td>NaN</td>\n",
       "      <td>NaN</td>\n",
       "      <td>NaN</td>\n",
       "      <td>NaN</td>\n",
       "      <td>NaN</td>\n",
       "      <td>...</td>\n",
       "      <td>NaN</td>\n",
       "      <td>NaN</td>\n",
       "      <td>NaN</td>\n",
       "      <td>NaN</td>\n",
       "      <td>NaN</td>\n",
       "      <td>NaN</td>\n",
       "      <td>NaN</td>\n",
       "      <td>NaN</td>\n",
       "      <td>NaN</td>\n",
       "      <td>NaN</td>\n",
       "    </tr>\n",
       "    <tr>\n",
       "      <th>20100102</th>\n",
       "      <td>NaN</td>\n",
       "      <td>NaN</td>\n",
       "      <td>NaN</td>\n",
       "      <td>NaN</td>\n",
       "      <td>NaN</td>\n",
       "      <td>NaN</td>\n",
       "      <td>NaN</td>\n",
       "      <td>NaN</td>\n",
       "      <td>NaN</td>\n",
       "      <td>NaN</td>\n",
       "      <td>...</td>\n",
       "      <td>NaN</td>\n",
       "      <td>NaN</td>\n",
       "      <td>NaN</td>\n",
       "      <td>NaN</td>\n",
       "      <td>NaN</td>\n",
       "      <td>NaN</td>\n",
       "      <td>NaN</td>\n",
       "      <td>NaN</td>\n",
       "      <td>NaN</td>\n",
       "      <td>NaN</td>\n",
       "    </tr>\n",
       "    <tr>\n",
       "      <th>20100103</th>\n",
       "      <td>NaN</td>\n",
       "      <td>NaN</td>\n",
       "      <td>NaN</td>\n",
       "      <td>NaN</td>\n",
       "      <td>NaN</td>\n",
       "      <td>NaN</td>\n",
       "      <td>NaN</td>\n",
       "      <td>NaN</td>\n",
       "      <td>NaN</td>\n",
       "      <td>NaN</td>\n",
       "      <td>...</td>\n",
       "      <td>NaN</td>\n",
       "      <td>NaN</td>\n",
       "      <td>NaN</td>\n",
       "      <td>NaN</td>\n",
       "      <td>NaN</td>\n",
       "      <td>NaN</td>\n",
       "      <td>NaN</td>\n",
       "      <td>NaN</td>\n",
       "      <td>NaN</td>\n",
       "      <td>NaN</td>\n",
       "    </tr>\n",
       "    <tr>\n",
       "      <th>20100104</th>\n",
       "      <td>NaN</td>\n",
       "      <td>NaN</td>\n",
       "      <td>NaN</td>\n",
       "      <td>NaN</td>\n",
       "      <td>NaN</td>\n",
       "      <td>NaN</td>\n",
       "      <td>NaN</td>\n",
       "      <td>NaN</td>\n",
       "      <td>NaN</td>\n",
       "      <td>NaN</td>\n",
       "      <td>...</td>\n",
       "      <td>NaN</td>\n",
       "      <td>NaN</td>\n",
       "      <td>NaN</td>\n",
       "      <td>NaN</td>\n",
       "      <td>NaN</td>\n",
       "      <td>NaN</td>\n",
       "      <td>NaN</td>\n",
       "      <td>NaN</td>\n",
       "      <td>NaN</td>\n",
       "      <td>NaN</td>\n",
       "    </tr>\n",
       "    <tr>\n",
       "      <th>20100105</th>\n",
       "      <td>NaN</td>\n",
       "      <td>NaN</td>\n",
       "      <td>NaN</td>\n",
       "      <td>NaN</td>\n",
       "      <td>NaN</td>\n",
       "      <td>NaN</td>\n",
       "      <td>NaN</td>\n",
       "      <td>NaN</td>\n",
       "      <td>NaN</td>\n",
       "      <td>NaN</td>\n",
       "      <td>...</td>\n",
       "      <td>NaN</td>\n",
       "      <td>NaN</td>\n",
       "      <td>NaN</td>\n",
       "      <td>NaN</td>\n",
       "      <td>NaN</td>\n",
       "      <td>NaN</td>\n",
       "      <td>NaN</td>\n",
       "      <td>NaN</td>\n",
       "      <td>NaN</td>\n",
       "      <td>NaN</td>\n",
       "    </tr>\n",
       "    <tr>\n",
       "      <th>...</th>\n",
       "      <td>...</td>\n",
       "      <td>...</td>\n",
       "      <td>...</td>\n",
       "      <td>...</td>\n",
       "      <td>...</td>\n",
       "      <td>...</td>\n",
       "      <td>...</td>\n",
       "      <td>...</td>\n",
       "      <td>...</td>\n",
       "      <td>...</td>\n",
       "      <td>...</td>\n",
       "      <td>...</td>\n",
       "      <td>...</td>\n",
       "      <td>...</td>\n",
       "      <td>...</td>\n",
       "      <td>...</td>\n",
       "      <td>...</td>\n",
       "      <td>...</td>\n",
       "      <td>...</td>\n",
       "      <td>...</td>\n",
       "      <td>...</td>\n",
       "    </tr>\n",
       "    <tr>\n",
       "      <th>20191227</th>\n",
       "      <td>0.690635</td>\n",
       "      <td>0.532609</td>\n",
       "      <td>0.727488</td>\n",
       "      <td>0.679662</td>\n",
       "      <td>0.510638</td>\n",
       "      <td>0.625402</td>\n",
       "      <td>0.6787</td>\n",
       "      <td>0.738854</td>\n",
       "      <td>0.694118</td>\n",
       "      <td>0.811252</td>\n",
       "      <td>...</td>\n",
       "      <td>0.758364</td>\n",
       "      <td>0.564672</td>\n",
       "      <td>0.671296</td>\n",
       "      <td>0.77672</td>\n",
       "      <td>0.543662</td>\n",
       "      <td>0.870103</td>\n",
       "      <td>0.857909</td>\n",
       "      <td>0.810392</td>\n",
       "      <td>0.677365</td>\n",
       "      <td>0.821839</td>\n",
       "    </tr>\n",
       "    <tr>\n",
       "      <th>20191228</th>\n",
       "      <td>0.690635</td>\n",
       "      <td>0.532609</td>\n",
       "      <td>0.727488</td>\n",
       "      <td>0.679662</td>\n",
       "      <td>0.510638</td>\n",
       "      <td>0.625402</td>\n",
       "      <td>0.6787</td>\n",
       "      <td>0.738854</td>\n",
       "      <td>0.694118</td>\n",
       "      <td>0.811252</td>\n",
       "      <td>...</td>\n",
       "      <td>0.758364</td>\n",
       "      <td>0.564672</td>\n",
       "      <td>0.671296</td>\n",
       "      <td>0.77672</td>\n",
       "      <td>0.543662</td>\n",
       "      <td>0.870103</td>\n",
       "      <td>0.857909</td>\n",
       "      <td>0.810392</td>\n",
       "      <td>0.677365</td>\n",
       "      <td>0.821839</td>\n",
       "    </tr>\n",
       "    <tr>\n",
       "      <th>20191229</th>\n",
       "      <td>0.690635</td>\n",
       "      <td>0.532609</td>\n",
       "      <td>0.727488</td>\n",
       "      <td>0.679662</td>\n",
       "      <td>0.510638</td>\n",
       "      <td>0.625402</td>\n",
       "      <td>0.6787</td>\n",
       "      <td>0.738854</td>\n",
       "      <td>0.694118</td>\n",
       "      <td>0.811252</td>\n",
       "      <td>...</td>\n",
       "      <td>0.758364</td>\n",
       "      <td>0.564672</td>\n",
       "      <td>0.671296</td>\n",
       "      <td>0.77672</td>\n",
       "      <td>0.543662</td>\n",
       "      <td>0.870103</td>\n",
       "      <td>0.857909</td>\n",
       "      <td>0.810392</td>\n",
       "      <td>0.677365</td>\n",
       "      <td>0.821839</td>\n",
       "    </tr>\n",
       "    <tr>\n",
       "      <th>20191230</th>\n",
       "      <td>0.690635</td>\n",
       "      <td>0.532609</td>\n",
       "      <td>0.727488</td>\n",
       "      <td>0.679662</td>\n",
       "      <td>0.510638</td>\n",
       "      <td>0.625402</td>\n",
       "      <td>0.6787</td>\n",
       "      <td>0.738854</td>\n",
       "      <td>0.694118</td>\n",
       "      <td>0.811252</td>\n",
       "      <td>...</td>\n",
       "      <td>0.758364</td>\n",
       "      <td>0.564672</td>\n",
       "      <td>0.671296</td>\n",
       "      <td>0.77672</td>\n",
       "      <td>0.543662</td>\n",
       "      <td>0.870103</td>\n",
       "      <td>0.857909</td>\n",
       "      <td>0.810392</td>\n",
       "      <td>0.677365</td>\n",
       "      <td>0.821839</td>\n",
       "    </tr>\n",
       "    <tr>\n",
       "      <th>20191231</th>\n",
       "      <td>0.690635</td>\n",
       "      <td>0.532609</td>\n",
       "      <td>0.727488</td>\n",
       "      <td>0.679662</td>\n",
       "      <td>0.510638</td>\n",
       "      <td>0.625402</td>\n",
       "      <td>0.6787</td>\n",
       "      <td>0.738854</td>\n",
       "      <td>0.694118</td>\n",
       "      <td>0.811252</td>\n",
       "      <td>...</td>\n",
       "      <td>0.758364</td>\n",
       "      <td>0.564672</td>\n",
       "      <td>0.671296</td>\n",
       "      <td>0.77672</td>\n",
       "      <td>0.543662</td>\n",
       "      <td>0.870103</td>\n",
       "      <td>0.857909</td>\n",
       "      <td>0.810392</td>\n",
       "      <td>0.677365</td>\n",
       "      <td>0.821839</td>\n",
       "    </tr>\n",
       "  </tbody>\n",
       "</table>\n",
       "<p>3652 rows × 113 columns</p>\n",
       "</div>"
      ],
      "text/plain": [
       "             삼양홀딩스      유한양행    CJ대한통운        두산      대림산업  한국테크놀로지그룹     기아차  \\\n",
       "20100101       NaN       NaN       NaN       NaN       NaN        NaN     NaN   \n",
       "20100102       NaN       NaN       NaN       NaN       NaN        NaN     NaN   \n",
       "20100103       NaN       NaN       NaN       NaN       NaN        NaN     NaN   \n",
       "20100104       NaN       NaN       NaN       NaN       NaN        NaN     NaN   \n",
       "20100105       NaN       NaN       NaN       NaN       NaN        NaN     NaN   \n",
       "...            ...       ...       ...       ...       ...        ...     ...   \n",
       "20191227  0.690635  0.532609  0.727488  0.679662  0.510638   0.625402  0.6787   \n",
       "20191228  0.690635  0.532609  0.727488  0.679662  0.510638   0.625402  0.6787   \n",
       "20191229  0.690635  0.532609  0.727488  0.679662  0.510638   0.625402  0.6787   \n",
       "20191230  0.690635  0.532609  0.727488  0.679662  0.510638   0.625402  0.6787   \n",
       "20191231  0.690635  0.532609  0.727488  0.679662  0.510638   0.625402  0.6787   \n",
       "\n",
       "          동아쏘시오홀딩스    SK하이닉스        영풍  ...     현대백화점    한국금융지주        GS  \\\n",
       "20100101       NaN       NaN       NaN  ...       NaN       NaN       NaN   \n",
       "20100102       NaN       NaN       NaN  ...       NaN       NaN       NaN   \n",
       "20100103       NaN       NaN       NaN  ...       NaN       NaN       NaN   \n",
       "20100104       NaN       NaN       NaN  ...       NaN       NaN       NaN   \n",
       "20100105       NaN       NaN       NaN  ...       NaN       NaN       NaN   \n",
       "...            ...       ...       ...  ...       ...       ...       ...   \n",
       "20191227  0.738854  0.694118  0.811252  ...  0.758364  0.564672  0.671296   \n",
       "20191228  0.738854  0.694118  0.811252  ...  0.758364  0.564672  0.671296   \n",
       "20191229  0.738854  0.694118  0.811252  ...  0.758364  0.564672  0.671296   \n",
       "20191230  0.738854  0.694118  0.811252  ...  0.758364  0.564672  0.671296   \n",
       "20191231  0.738854  0.694118  0.811252  ...  0.758364  0.564672  0.671296   \n",
       "\n",
       "           하나금융지주    아모레퍼시픽        LF        후성   SK이노베이션    CJ제일제당      KB금융  \n",
       "20100101      NaN       NaN       NaN       NaN       NaN       NaN       NaN  \n",
       "20100102      NaN       NaN       NaN       NaN       NaN       NaN       NaN  \n",
       "20100103      NaN       NaN       NaN       NaN       NaN       NaN       NaN  \n",
       "20100104      NaN       NaN       NaN       NaN       NaN       NaN       NaN  \n",
       "20100105      NaN       NaN       NaN       NaN       NaN       NaN       NaN  \n",
       "...           ...       ...       ...       ...       ...       ...       ...  \n",
       "20191227  0.77672  0.543662  0.870103  0.857909  0.810392  0.677365  0.821839  \n",
       "20191228  0.77672  0.543662  0.870103  0.857909  0.810392  0.677365  0.821839  \n",
       "20191229  0.77672  0.543662  0.870103  0.857909  0.810392  0.677365  0.821839  \n",
       "20191230  0.77672  0.543662  0.870103  0.857909  0.810392  0.677365  0.821839  \n",
       "20191231  0.77672  0.543662  0.870103  0.857909  0.810392  0.677365  0.821839  \n",
       "\n",
       "[3652 rows x 113 columns]"
      ]
     },
     "execution_count": 11,
     "metadata": {},
     "output_type": "execute_result"
    }
   ],
   "source": [
    "concat_df"
   ]
  },
  {
   "cell_type": "markdown",
   "metadata": {},
   "source": [
    "'20110629'가 처음으로 113개 기업의 작년 기준 sim values가 생기는 달. 월별 수익률을 가져올 것므로 2011.07부터 포트폴리오를 구성하겠다"
   ]
  },
  {
   "cell_type": "code",
   "execution_count": 58,
   "metadata": {},
   "outputs": [
    {
     "data": {
      "text/html": [
       "<div>\n",
       "<style scoped>\n",
       "    .dataframe tbody tr th:only-of-type {\n",
       "        vertical-align: middle;\n",
       "    }\n",
       "\n",
       "    .dataframe tbody tr th {\n",
       "        vertical-align: top;\n",
       "    }\n",
       "\n",
       "    .dataframe thead th {\n",
       "        text-align: right;\n",
       "    }\n",
       "</style>\n",
       "<table border=\"1\" class=\"dataframe\">\n",
       "  <thead>\n",
       "    <tr style=\"text-align: right;\">\n",
       "      <th></th>\n",
       "      <th>삼양홀딩스</th>\n",
       "      <th>유한양행</th>\n",
       "      <th>CJ대한통운</th>\n",
       "      <th>두산</th>\n",
       "      <th>대림산업</th>\n",
       "      <th>한국테크놀로지그룹</th>\n",
       "      <th>기아차</th>\n",
       "      <th>동아쏘시오홀딩스</th>\n",
       "      <th>SK하이닉스</th>\n",
       "      <th>영풍</th>\n",
       "      <th>...</th>\n",
       "      <th>현대백화점</th>\n",
       "      <th>한국금융지주</th>\n",
       "      <th>GS</th>\n",
       "      <th>하나금융지주</th>\n",
       "      <th>아모레퍼시픽</th>\n",
       "      <th>LF</th>\n",
       "      <th>후성</th>\n",
       "      <th>SK이노베이션</th>\n",
       "      <th>CJ제일제당</th>\n",
       "      <th>KB금융</th>\n",
       "    </tr>\n",
       "  </thead>\n",
       "  <tbody>\n",
       "    <tr>\n",
       "      <th>20110601</th>\n",
       "      <td>0.482558</td>\n",
       "      <td>0.852459</td>\n",
       "      <td>0.615385</td>\n",
       "      <td>0.579749</td>\n",
       "      <td>0.630503</td>\n",
       "      <td>0.203113</td>\n",
       "      <td>0.705706</td>\n",
       "      <td>0.534641</td>\n",
       "      <td>0.75</td>\n",
       "      <td>0.5762</td>\n",
       "      <td>...</td>\n",
       "      <td>0.873362</td>\n",
       "      <td>NaN</td>\n",
       "      <td>0.903475</td>\n",
       "      <td>0.462889</td>\n",
       "      <td>0.577154</td>\n",
       "      <td>0.713235</td>\n",
       "      <td>0.633452</td>\n",
       "      <td>0.574394</td>\n",
       "      <td>0.755193</td>\n",
       "      <td>0.71663</td>\n",
       "    </tr>\n",
       "    <tr>\n",
       "      <th>20110602</th>\n",
       "      <td>0.482558</td>\n",
       "      <td>0.852459</td>\n",
       "      <td>0.615385</td>\n",
       "      <td>0.579749</td>\n",
       "      <td>0.630503</td>\n",
       "      <td>0.203113</td>\n",
       "      <td>0.705706</td>\n",
       "      <td>0.534641</td>\n",
       "      <td>0.75</td>\n",
       "      <td>0.5762</td>\n",
       "      <td>...</td>\n",
       "      <td>0.873362</td>\n",
       "      <td>NaN</td>\n",
       "      <td>0.903475</td>\n",
       "      <td>0.462889</td>\n",
       "      <td>0.577154</td>\n",
       "      <td>0.713235</td>\n",
       "      <td>0.633452</td>\n",
       "      <td>0.574394</td>\n",
       "      <td>0.755193</td>\n",
       "      <td>0.71663</td>\n",
       "    </tr>\n",
       "    <tr>\n",
       "      <th>20110603</th>\n",
       "      <td>0.482558</td>\n",
       "      <td>0.852459</td>\n",
       "      <td>0.615385</td>\n",
       "      <td>0.579749</td>\n",
       "      <td>0.630503</td>\n",
       "      <td>0.203113</td>\n",
       "      <td>0.705706</td>\n",
       "      <td>0.534641</td>\n",
       "      <td>0.75</td>\n",
       "      <td>0.5762</td>\n",
       "      <td>...</td>\n",
       "      <td>0.873362</td>\n",
       "      <td>NaN</td>\n",
       "      <td>0.903475</td>\n",
       "      <td>0.462889</td>\n",
       "      <td>0.577154</td>\n",
       "      <td>0.713235</td>\n",
       "      <td>0.633452</td>\n",
       "      <td>0.574394</td>\n",
       "      <td>0.755193</td>\n",
       "      <td>0.71663</td>\n",
       "    </tr>\n",
       "    <tr>\n",
       "      <th>20110604</th>\n",
       "      <td>0.482558</td>\n",
       "      <td>0.852459</td>\n",
       "      <td>0.615385</td>\n",
       "      <td>0.579749</td>\n",
       "      <td>0.630503</td>\n",
       "      <td>0.203113</td>\n",
       "      <td>0.705706</td>\n",
       "      <td>0.534641</td>\n",
       "      <td>0.75</td>\n",
       "      <td>0.5762</td>\n",
       "      <td>...</td>\n",
       "      <td>0.873362</td>\n",
       "      <td>NaN</td>\n",
       "      <td>0.903475</td>\n",
       "      <td>0.462889</td>\n",
       "      <td>0.577154</td>\n",
       "      <td>0.713235</td>\n",
       "      <td>0.633452</td>\n",
       "      <td>0.574394</td>\n",
       "      <td>0.755193</td>\n",
       "      <td>0.71663</td>\n",
       "    </tr>\n",
       "    <tr>\n",
       "      <th>20110605</th>\n",
       "      <td>0.482558</td>\n",
       "      <td>0.852459</td>\n",
       "      <td>0.615385</td>\n",
       "      <td>0.579749</td>\n",
       "      <td>0.630503</td>\n",
       "      <td>0.203113</td>\n",
       "      <td>0.705706</td>\n",
       "      <td>0.534641</td>\n",
       "      <td>0.75</td>\n",
       "      <td>0.5762</td>\n",
       "      <td>...</td>\n",
       "      <td>0.873362</td>\n",
       "      <td>NaN</td>\n",
       "      <td>0.903475</td>\n",
       "      <td>0.462889</td>\n",
       "      <td>0.577154</td>\n",
       "      <td>0.713235</td>\n",
       "      <td>0.633452</td>\n",
       "      <td>0.574394</td>\n",
       "      <td>0.755193</td>\n",
       "      <td>0.71663</td>\n",
       "    </tr>\n",
       "  </tbody>\n",
       "</table>\n",
       "<p>5 rows × 113 columns</p>\n",
       "</div>"
      ],
      "text/plain": [
       "             삼양홀딩스      유한양행    CJ대한통운        두산      대림산업  한국테크놀로지그룹  \\\n",
       "20110601  0.482558  0.852459  0.615385  0.579749  0.630503   0.203113   \n",
       "20110602  0.482558  0.852459  0.615385  0.579749  0.630503   0.203113   \n",
       "20110603  0.482558  0.852459  0.615385  0.579749  0.630503   0.203113   \n",
       "20110604  0.482558  0.852459  0.615385  0.579749  0.630503   0.203113   \n",
       "20110605  0.482558  0.852459  0.615385  0.579749  0.630503   0.203113   \n",
       "\n",
       "               기아차  동아쏘시오홀딩스  SK하이닉스      영풍  ...     현대백화점  한국금융지주        GS  \\\n",
       "20110601  0.705706  0.534641    0.75  0.5762  ...  0.873362     NaN  0.903475   \n",
       "20110602  0.705706  0.534641    0.75  0.5762  ...  0.873362     NaN  0.903475   \n",
       "20110603  0.705706  0.534641    0.75  0.5762  ...  0.873362     NaN  0.903475   \n",
       "20110604  0.705706  0.534641    0.75  0.5762  ...  0.873362     NaN  0.903475   \n",
       "20110605  0.705706  0.534641    0.75  0.5762  ...  0.873362     NaN  0.903475   \n",
       "\n",
       "            하나금융지주    아모레퍼시픽        LF        후성   SK이노베이션    CJ제일제당     KB금융  \n",
       "20110601  0.462889  0.577154  0.713235  0.633452  0.574394  0.755193  0.71663  \n",
       "20110602  0.462889  0.577154  0.713235  0.633452  0.574394  0.755193  0.71663  \n",
       "20110603  0.462889  0.577154  0.713235  0.633452  0.574394  0.755193  0.71663  \n",
       "20110604  0.462889  0.577154  0.713235  0.633452  0.574394  0.755193  0.71663  \n",
       "20110605  0.462889  0.577154  0.713235  0.633452  0.574394  0.755193  0.71663  \n",
       "\n",
       "[5 rows x 113 columns]"
      ]
     },
     "execution_count": 58,
     "metadata": {},
     "output_type": "execute_result"
    }
   ],
   "source": [
    "df_ = concat_df.loc[20110601:,:].copy()\n",
    "price_df = price_df.loc[20110601:,:]\n",
    "df_.head()"
   ]
  },
  {
   "cell_type": "code",
   "execution_count": 44,
   "metadata": {},
   "outputs": [],
   "source": [
    "def get_q(df_, lower_bound, upper_bound) : #quntile 설정해주면 해당 quantile에 해당하는 boolean값 반환. cross-sectional 기준\n",
    "    low_q1_threshold = np.percentile(df_,lower_bound,1)\n",
    "    low_q1_thres_mat = np.repeat(low_q1_threshold[:,np.newaxis],df_.shape[1],1)\n",
    "\n",
    "    high_q1_threshold = np.percentile(df_,upper_bound,1)\n",
    "    high_q1_thres_mat = np.repeat(high_q1_threshold[:,np.newaxis],df_.shape[1],1)\n",
    "    \n",
    "    low_bool_mat = low_q1_thres_mat > df_\n",
    "    high_bool_mat1 = high_q1_thres_mat > df_\n",
    "    \n",
    "    low_bool_mat = low_q1_thres_mat > df_\n",
    "    high_bool_mat = high_q1_thres_mat > df_\n",
    "    \n",
    "    return np.bitwise_and(high_bool_mat,~low_bool_mat)"
   ]
  },
  {
   "cell_type": "code",
   "execution_count": 77,
   "metadata": {
    "scrolled": true
   },
   "outputs": [
    {
     "data": {
      "text/html": [
       "<div>\n",
       "<style scoped>\n",
       "    .dataframe tbody tr th:only-of-type {\n",
       "        vertical-align: middle;\n",
       "    }\n",
       "\n",
       "    .dataframe tbody tr th {\n",
       "        vertical-align: top;\n",
       "    }\n",
       "\n",
       "    .dataframe thead th {\n",
       "        text-align: right;\n",
       "    }\n",
       "</style>\n",
       "<table border=\"1\" class=\"dataframe\">\n",
       "  <thead>\n",
       "    <tr style=\"text-align: right;\">\n",
       "      <th></th>\n",
       "      <th>삼양홀딩스</th>\n",
       "      <th>유한양행</th>\n",
       "      <th>CJ대한통운</th>\n",
       "      <th>두산</th>\n",
       "      <th>대림산업</th>\n",
       "      <th>한국테크놀로지그룹</th>\n",
       "      <th>기아차</th>\n",
       "      <th>동아쏘시오홀딩스</th>\n",
       "      <th>SK하이닉스</th>\n",
       "      <th>영풍</th>\n",
       "      <th>...</th>\n",
       "      <th>현대백화점</th>\n",
       "      <th>한국금융지주</th>\n",
       "      <th>GS</th>\n",
       "      <th>하나금융지주</th>\n",
       "      <th>아모레퍼시픽</th>\n",
       "      <th>LF</th>\n",
       "      <th>후성</th>\n",
       "      <th>SK이노베이션</th>\n",
       "      <th>CJ제일제당</th>\n",
       "      <th>KB금융</th>\n",
       "    </tr>\n",
       "  </thead>\n",
       "  <tbody>\n",
       "    <tr>\n",
       "      <th>20110630</th>\n",
       "      <td>0.482558</td>\n",
       "      <td>0.852459</td>\n",
       "      <td>0.615385</td>\n",
       "      <td>0.579749</td>\n",
       "      <td>0.630503</td>\n",
       "      <td>0.203113</td>\n",
       "      <td>0.705706</td>\n",
       "      <td>0.534641</td>\n",
       "      <td>0.750000</td>\n",
       "      <td>0.576200</td>\n",
       "      <td>...</td>\n",
       "      <td>0.873362</td>\n",
       "      <td>0.663158</td>\n",
       "      <td>0.903475</td>\n",
       "      <td>0.462889</td>\n",
       "      <td>0.577154</td>\n",
       "      <td>0.713235</td>\n",
       "      <td>0.633452</td>\n",
       "      <td>0.574394</td>\n",
       "      <td>0.755193</td>\n",
       "      <td>0.716630</td>\n",
       "    </tr>\n",
       "    <tr>\n",
       "      <th>20110731</th>\n",
       "      <td>0.482558</td>\n",
       "      <td>0.852459</td>\n",
       "      <td>0.615385</td>\n",
       "      <td>0.579749</td>\n",
       "      <td>0.630503</td>\n",
       "      <td>0.203113</td>\n",
       "      <td>0.705706</td>\n",
       "      <td>0.534641</td>\n",
       "      <td>0.750000</td>\n",
       "      <td>0.576200</td>\n",
       "      <td>...</td>\n",
       "      <td>0.873362</td>\n",
       "      <td>0.663158</td>\n",
       "      <td>0.903475</td>\n",
       "      <td>0.462889</td>\n",
       "      <td>0.577154</td>\n",
       "      <td>0.713235</td>\n",
       "      <td>0.633452</td>\n",
       "      <td>0.574394</td>\n",
       "      <td>0.755193</td>\n",
       "      <td>0.716630</td>\n",
       "    </tr>\n",
       "    <tr>\n",
       "      <th>20110831</th>\n",
       "      <td>0.482558</td>\n",
       "      <td>0.852459</td>\n",
       "      <td>0.615385</td>\n",
       "      <td>0.579749</td>\n",
       "      <td>0.630503</td>\n",
       "      <td>0.203113</td>\n",
       "      <td>0.705706</td>\n",
       "      <td>0.534641</td>\n",
       "      <td>0.750000</td>\n",
       "      <td>0.576200</td>\n",
       "      <td>...</td>\n",
       "      <td>0.873362</td>\n",
       "      <td>0.663158</td>\n",
       "      <td>0.903475</td>\n",
       "      <td>0.462889</td>\n",
       "      <td>0.577154</td>\n",
       "      <td>0.713235</td>\n",
       "      <td>0.633452</td>\n",
       "      <td>0.574394</td>\n",
       "      <td>0.755193</td>\n",
       "      <td>0.716630</td>\n",
       "    </tr>\n",
       "    <tr>\n",
       "      <th>20110930</th>\n",
       "      <td>0.482558</td>\n",
       "      <td>0.852459</td>\n",
       "      <td>0.615385</td>\n",
       "      <td>0.579749</td>\n",
       "      <td>0.630503</td>\n",
       "      <td>0.203113</td>\n",
       "      <td>0.705706</td>\n",
       "      <td>0.534641</td>\n",
       "      <td>0.750000</td>\n",
       "      <td>0.576200</td>\n",
       "      <td>...</td>\n",
       "      <td>0.873362</td>\n",
       "      <td>0.663158</td>\n",
       "      <td>0.903475</td>\n",
       "      <td>0.462889</td>\n",
       "      <td>0.577154</td>\n",
       "      <td>0.713235</td>\n",
       "      <td>0.633452</td>\n",
       "      <td>0.574394</td>\n",
       "      <td>0.755193</td>\n",
       "      <td>0.716630</td>\n",
       "    </tr>\n",
       "    <tr>\n",
       "      <th>20111031</th>\n",
       "      <td>0.482558</td>\n",
       "      <td>0.852459</td>\n",
       "      <td>0.615385</td>\n",
       "      <td>0.579749</td>\n",
       "      <td>0.630503</td>\n",
       "      <td>0.203113</td>\n",
       "      <td>0.705706</td>\n",
       "      <td>0.534641</td>\n",
       "      <td>0.750000</td>\n",
       "      <td>0.576200</td>\n",
       "      <td>...</td>\n",
       "      <td>0.873362</td>\n",
       "      <td>0.663158</td>\n",
       "      <td>0.903475</td>\n",
       "      <td>0.462889</td>\n",
       "      <td>0.577154</td>\n",
       "      <td>0.713235</td>\n",
       "      <td>0.633452</td>\n",
       "      <td>0.574394</td>\n",
       "      <td>0.755193</td>\n",
       "      <td>0.716630</td>\n",
       "    </tr>\n",
       "    <tr>\n",
       "      <th>...</th>\n",
       "      <td>...</td>\n",
       "      <td>...</td>\n",
       "      <td>...</td>\n",
       "      <td>...</td>\n",
       "      <td>...</td>\n",
       "      <td>...</td>\n",
       "      <td>...</td>\n",
       "      <td>...</td>\n",
       "      <td>...</td>\n",
       "      <td>...</td>\n",
       "      <td>...</td>\n",
       "      <td>...</td>\n",
       "      <td>...</td>\n",
       "      <td>...</td>\n",
       "      <td>...</td>\n",
       "      <td>...</td>\n",
       "      <td>...</td>\n",
       "      <td>...</td>\n",
       "      <td>...</td>\n",
       "      <td>...</td>\n",
       "      <td>...</td>\n",
       "    </tr>\n",
       "    <tr>\n",
       "      <th>20190831</th>\n",
       "      <td>0.690635</td>\n",
       "      <td>0.532609</td>\n",
       "      <td>0.727488</td>\n",
       "      <td>0.679662</td>\n",
       "      <td>0.510638</td>\n",
       "      <td>0.625402</td>\n",
       "      <td>0.678700</td>\n",
       "      <td>0.738854</td>\n",
       "      <td>0.694118</td>\n",
       "      <td>0.811252</td>\n",
       "      <td>...</td>\n",
       "      <td>0.758364</td>\n",
       "      <td>0.564672</td>\n",
       "      <td>0.671296</td>\n",
       "      <td>0.776720</td>\n",
       "      <td>0.543662</td>\n",
       "      <td>0.870103</td>\n",
       "      <td>0.857909</td>\n",
       "      <td>0.810392</td>\n",
       "      <td>0.677365</td>\n",
       "      <td>0.821839</td>\n",
       "    </tr>\n",
       "    <tr>\n",
       "      <th>20190930</th>\n",
       "      <td>0.690635</td>\n",
       "      <td>0.532609</td>\n",
       "      <td>0.727488</td>\n",
       "      <td>0.679662</td>\n",
       "      <td>0.510638</td>\n",
       "      <td>0.625402</td>\n",
       "      <td>0.678700</td>\n",
       "      <td>0.738854</td>\n",
       "      <td>0.694118</td>\n",
       "      <td>0.811252</td>\n",
       "      <td>...</td>\n",
       "      <td>0.758364</td>\n",
       "      <td>0.564672</td>\n",
       "      <td>0.671296</td>\n",
       "      <td>0.776720</td>\n",
       "      <td>0.543662</td>\n",
       "      <td>0.870103</td>\n",
       "      <td>0.857909</td>\n",
       "      <td>0.810392</td>\n",
       "      <td>0.677365</td>\n",
       "      <td>0.821839</td>\n",
       "    </tr>\n",
       "    <tr>\n",
       "      <th>20191031</th>\n",
       "      <td>0.690635</td>\n",
       "      <td>0.532609</td>\n",
       "      <td>0.727488</td>\n",
       "      <td>0.679662</td>\n",
       "      <td>0.510638</td>\n",
       "      <td>0.625402</td>\n",
       "      <td>0.678700</td>\n",
       "      <td>0.738854</td>\n",
       "      <td>0.694118</td>\n",
       "      <td>0.811252</td>\n",
       "      <td>...</td>\n",
       "      <td>0.758364</td>\n",
       "      <td>0.564672</td>\n",
       "      <td>0.671296</td>\n",
       "      <td>0.776720</td>\n",
       "      <td>0.543662</td>\n",
       "      <td>0.870103</td>\n",
       "      <td>0.857909</td>\n",
       "      <td>0.810392</td>\n",
       "      <td>0.677365</td>\n",
       "      <td>0.821839</td>\n",
       "    </tr>\n",
       "    <tr>\n",
       "      <th>20191130</th>\n",
       "      <td>0.690635</td>\n",
       "      <td>0.532609</td>\n",
       "      <td>0.727488</td>\n",
       "      <td>0.679662</td>\n",
       "      <td>0.510638</td>\n",
       "      <td>0.625402</td>\n",
       "      <td>0.678700</td>\n",
       "      <td>0.738854</td>\n",
       "      <td>0.694118</td>\n",
       "      <td>0.811252</td>\n",
       "      <td>...</td>\n",
       "      <td>0.758364</td>\n",
       "      <td>0.564672</td>\n",
       "      <td>0.671296</td>\n",
       "      <td>0.776720</td>\n",
       "      <td>0.543662</td>\n",
       "      <td>0.870103</td>\n",
       "      <td>0.857909</td>\n",
       "      <td>0.810392</td>\n",
       "      <td>0.677365</td>\n",
       "      <td>0.821839</td>\n",
       "    </tr>\n",
       "    <tr>\n",
       "      <th>20191231</th>\n",
       "      <td>0.690635</td>\n",
       "      <td>0.532609</td>\n",
       "      <td>0.727488</td>\n",
       "      <td>0.679662</td>\n",
       "      <td>0.510638</td>\n",
       "      <td>0.625402</td>\n",
       "      <td>0.678700</td>\n",
       "      <td>0.738854</td>\n",
       "      <td>0.694118</td>\n",
       "      <td>0.811252</td>\n",
       "      <td>...</td>\n",
       "      <td>0.758364</td>\n",
       "      <td>0.564672</td>\n",
       "      <td>0.671296</td>\n",
       "      <td>0.776720</td>\n",
       "      <td>0.543662</td>\n",
       "      <td>0.870103</td>\n",
       "      <td>0.857909</td>\n",
       "      <td>0.810392</td>\n",
       "      <td>0.677365</td>\n",
       "      <td>0.821839</td>\n",
       "    </tr>\n",
       "  </tbody>\n",
       "</table>\n",
       "<p>103 rows × 113 columns</p>\n",
       "</div>"
      ],
      "text/plain": [
       "             삼양홀딩스      유한양행    CJ대한통운        두산      대림산업  한국테크놀로지그룹  \\\n",
       "20110630  0.482558  0.852459  0.615385  0.579749  0.630503   0.203113   \n",
       "20110731  0.482558  0.852459  0.615385  0.579749  0.630503   0.203113   \n",
       "20110831  0.482558  0.852459  0.615385  0.579749  0.630503   0.203113   \n",
       "20110930  0.482558  0.852459  0.615385  0.579749  0.630503   0.203113   \n",
       "20111031  0.482558  0.852459  0.615385  0.579749  0.630503   0.203113   \n",
       "...            ...       ...       ...       ...       ...        ...   \n",
       "20190831  0.690635  0.532609  0.727488  0.679662  0.510638   0.625402   \n",
       "20190930  0.690635  0.532609  0.727488  0.679662  0.510638   0.625402   \n",
       "20191031  0.690635  0.532609  0.727488  0.679662  0.510638   0.625402   \n",
       "20191130  0.690635  0.532609  0.727488  0.679662  0.510638   0.625402   \n",
       "20191231  0.690635  0.532609  0.727488  0.679662  0.510638   0.625402   \n",
       "\n",
       "               기아차  동아쏘시오홀딩스    SK하이닉스        영풍  ...     현대백화점    한국금융지주  \\\n",
       "20110630  0.705706  0.534641  0.750000  0.576200  ...  0.873362  0.663158   \n",
       "20110731  0.705706  0.534641  0.750000  0.576200  ...  0.873362  0.663158   \n",
       "20110831  0.705706  0.534641  0.750000  0.576200  ...  0.873362  0.663158   \n",
       "20110930  0.705706  0.534641  0.750000  0.576200  ...  0.873362  0.663158   \n",
       "20111031  0.705706  0.534641  0.750000  0.576200  ...  0.873362  0.663158   \n",
       "...            ...       ...       ...       ...  ...       ...       ...   \n",
       "20190831  0.678700  0.738854  0.694118  0.811252  ...  0.758364  0.564672   \n",
       "20190930  0.678700  0.738854  0.694118  0.811252  ...  0.758364  0.564672   \n",
       "20191031  0.678700  0.738854  0.694118  0.811252  ...  0.758364  0.564672   \n",
       "20191130  0.678700  0.738854  0.694118  0.811252  ...  0.758364  0.564672   \n",
       "20191231  0.678700  0.738854  0.694118  0.811252  ...  0.758364  0.564672   \n",
       "\n",
       "                GS    하나금융지주    아모레퍼시픽        LF        후성   SK이노베이션  \\\n",
       "20110630  0.903475  0.462889  0.577154  0.713235  0.633452  0.574394   \n",
       "20110731  0.903475  0.462889  0.577154  0.713235  0.633452  0.574394   \n",
       "20110831  0.903475  0.462889  0.577154  0.713235  0.633452  0.574394   \n",
       "20110930  0.903475  0.462889  0.577154  0.713235  0.633452  0.574394   \n",
       "20111031  0.903475  0.462889  0.577154  0.713235  0.633452  0.574394   \n",
       "...            ...       ...       ...       ...       ...       ...   \n",
       "20190831  0.671296  0.776720  0.543662  0.870103  0.857909  0.810392   \n",
       "20190930  0.671296  0.776720  0.543662  0.870103  0.857909  0.810392   \n",
       "20191031  0.671296  0.776720  0.543662  0.870103  0.857909  0.810392   \n",
       "20191130  0.671296  0.776720  0.543662  0.870103  0.857909  0.810392   \n",
       "20191231  0.671296  0.776720  0.543662  0.870103  0.857909  0.810392   \n",
       "\n",
       "            CJ제일제당      KB금융  \n",
       "20110630  0.755193  0.716630  \n",
       "20110731  0.755193  0.716630  \n",
       "20110831  0.755193  0.716630  \n",
       "20110930  0.755193  0.716630  \n",
       "20111031  0.755193  0.716630  \n",
       "...            ...       ...  \n",
       "20190831  0.677365  0.821839  \n",
       "20190930  0.677365  0.821839  \n",
       "20191031  0.677365  0.821839  \n",
       "20191130  0.677365  0.821839  \n",
       "20191231  0.677365  0.821839  \n",
       "\n",
       "[103 rows x 113 columns]"
      ]
     },
     "execution_count": 77,
     "metadata": {},
     "output_type": "execute_result"
    }
   ],
   "source": [
    "yyyymmdd_ls = list(map(lambda x : int(str(x)[:-2]), get_q(df_,20,40).index))\n",
    "idx_ls = []\n",
    "for i in range(len(yyyymmdd_ls)-1) : \n",
    "    if yyyymmdd_ls[i] != yyyymmdd_ls[i+1] : \n",
    "        idx_ls.append(i)\n",
    "idx_ls.append(-1) \n",
    "\n",
    "monthly_df = df_.loc[df_.index[idx_ls]] #월말 기준으로 앞의 concat_df에서 index만 수정해서 similarity sorting\n",
    "monthly_df"
   ]
  },
  {
   "cell_type": "code",
   "execution_count": 82,
   "metadata": {},
   "outputs": [
    {
     "data": {
      "text/html": [
       "<div>\n",
       "<style scoped>\n",
       "    .dataframe tbody tr th:only-of-type {\n",
       "        vertical-align: middle;\n",
       "    }\n",
       "\n",
       "    .dataframe tbody tr th {\n",
       "        vertical-align: top;\n",
       "    }\n",
       "\n",
       "    .dataframe thead th {\n",
       "        text-align: right;\n",
       "    }\n",
       "</style>\n",
       "<table border=\"1\" class=\"dataframe\">\n",
       "  <thead>\n",
       "    <tr style=\"text-align: right;\">\n",
       "      <th></th>\n",
       "      <th>삼양홀딩스</th>\n",
       "      <th>유한양행</th>\n",
       "      <th>CJ대한통운</th>\n",
       "      <th>두산</th>\n",
       "      <th>대림산업</th>\n",
       "      <th>한국테크놀로지그룹</th>\n",
       "      <th>기아차</th>\n",
       "      <th>동아쏘시오홀딩스</th>\n",
       "      <th>SK하이닉스</th>\n",
       "      <th>영풍</th>\n",
       "      <th>...</th>\n",
       "      <th>현대백화점</th>\n",
       "      <th>한국금융지주</th>\n",
       "      <th>GS</th>\n",
       "      <th>하나금융지주</th>\n",
       "      <th>아모레퍼시픽</th>\n",
       "      <th>LF</th>\n",
       "      <th>후성</th>\n",
       "      <th>SK이노베이션</th>\n",
       "      <th>CJ제일제당</th>\n",
       "      <th>KB금융</th>\n",
       "    </tr>\n",
       "  </thead>\n",
       "  <tbody>\n",
       "    <tr>\n",
       "      <th>20110630</th>\n",
       "      <td>True</td>\n",
       "      <td>False</td>\n",
       "      <td>False</td>\n",
       "      <td>False</td>\n",
       "      <td>False</td>\n",
       "      <td>True</td>\n",
       "      <td>False</td>\n",
       "      <td>False</td>\n",
       "      <td>False</td>\n",
       "      <td>False</td>\n",
       "      <td>...</td>\n",
       "      <td>False</td>\n",
       "      <td>False</td>\n",
       "      <td>False</td>\n",
       "      <td>True</td>\n",
       "      <td>False</td>\n",
       "      <td>False</td>\n",
       "      <td>False</td>\n",
       "      <td>False</td>\n",
       "      <td>False</td>\n",
       "      <td>False</td>\n",
       "    </tr>\n",
       "    <tr>\n",
       "      <th>20110731</th>\n",
       "      <td>True</td>\n",
       "      <td>False</td>\n",
       "      <td>False</td>\n",
       "      <td>False</td>\n",
       "      <td>False</td>\n",
       "      <td>True</td>\n",
       "      <td>False</td>\n",
       "      <td>False</td>\n",
       "      <td>False</td>\n",
       "      <td>False</td>\n",
       "      <td>...</td>\n",
       "      <td>False</td>\n",
       "      <td>False</td>\n",
       "      <td>False</td>\n",
       "      <td>True</td>\n",
       "      <td>False</td>\n",
       "      <td>False</td>\n",
       "      <td>False</td>\n",
       "      <td>False</td>\n",
       "      <td>False</td>\n",
       "      <td>False</td>\n",
       "    </tr>\n",
       "    <tr>\n",
       "      <th>20110831</th>\n",
       "      <td>True</td>\n",
       "      <td>False</td>\n",
       "      <td>False</td>\n",
       "      <td>False</td>\n",
       "      <td>False</td>\n",
       "      <td>True</td>\n",
       "      <td>False</td>\n",
       "      <td>False</td>\n",
       "      <td>False</td>\n",
       "      <td>False</td>\n",
       "      <td>...</td>\n",
       "      <td>False</td>\n",
       "      <td>False</td>\n",
       "      <td>False</td>\n",
       "      <td>True</td>\n",
       "      <td>False</td>\n",
       "      <td>False</td>\n",
       "      <td>False</td>\n",
       "      <td>False</td>\n",
       "      <td>False</td>\n",
       "      <td>False</td>\n",
       "    </tr>\n",
       "    <tr>\n",
       "      <th>20110930</th>\n",
       "      <td>True</td>\n",
       "      <td>False</td>\n",
       "      <td>False</td>\n",
       "      <td>False</td>\n",
       "      <td>False</td>\n",
       "      <td>True</td>\n",
       "      <td>False</td>\n",
       "      <td>False</td>\n",
       "      <td>False</td>\n",
       "      <td>False</td>\n",
       "      <td>...</td>\n",
       "      <td>False</td>\n",
       "      <td>False</td>\n",
       "      <td>False</td>\n",
       "      <td>True</td>\n",
       "      <td>False</td>\n",
       "      <td>False</td>\n",
       "      <td>False</td>\n",
       "      <td>False</td>\n",
       "      <td>False</td>\n",
       "      <td>False</td>\n",
       "    </tr>\n",
       "    <tr>\n",
       "      <th>20111031</th>\n",
       "      <td>True</td>\n",
       "      <td>False</td>\n",
       "      <td>False</td>\n",
       "      <td>False</td>\n",
       "      <td>False</td>\n",
       "      <td>True</td>\n",
       "      <td>False</td>\n",
       "      <td>False</td>\n",
       "      <td>False</td>\n",
       "      <td>False</td>\n",
       "      <td>...</td>\n",
       "      <td>False</td>\n",
       "      <td>False</td>\n",
       "      <td>False</td>\n",
       "      <td>True</td>\n",
       "      <td>False</td>\n",
       "      <td>False</td>\n",
       "      <td>False</td>\n",
       "      <td>False</td>\n",
       "      <td>False</td>\n",
       "      <td>False</td>\n",
       "    </tr>\n",
       "    <tr>\n",
       "      <th>...</th>\n",
       "      <td>...</td>\n",
       "      <td>...</td>\n",
       "      <td>...</td>\n",
       "      <td>...</td>\n",
       "      <td>...</td>\n",
       "      <td>...</td>\n",
       "      <td>...</td>\n",
       "      <td>...</td>\n",
       "      <td>...</td>\n",
       "      <td>...</td>\n",
       "      <td>...</td>\n",
       "      <td>...</td>\n",
       "      <td>...</td>\n",
       "      <td>...</td>\n",
       "      <td>...</td>\n",
       "      <td>...</td>\n",
       "      <td>...</td>\n",
       "      <td>...</td>\n",
       "      <td>...</td>\n",
       "      <td>...</td>\n",
       "      <td>...</td>\n",
       "    </tr>\n",
       "    <tr>\n",
       "      <th>20190831</th>\n",
       "      <td>False</td>\n",
       "      <td>True</td>\n",
       "      <td>False</td>\n",
       "      <td>False</td>\n",
       "      <td>True</td>\n",
       "      <td>False</td>\n",
       "      <td>False</td>\n",
       "      <td>False</td>\n",
       "      <td>False</td>\n",
       "      <td>False</td>\n",
       "      <td>...</td>\n",
       "      <td>False</td>\n",
       "      <td>False</td>\n",
       "      <td>False</td>\n",
       "      <td>False</td>\n",
       "      <td>True</td>\n",
       "      <td>False</td>\n",
       "      <td>False</td>\n",
       "      <td>False</td>\n",
       "      <td>False</td>\n",
       "      <td>False</td>\n",
       "    </tr>\n",
       "    <tr>\n",
       "      <th>20190930</th>\n",
       "      <td>False</td>\n",
       "      <td>True</td>\n",
       "      <td>False</td>\n",
       "      <td>False</td>\n",
       "      <td>True</td>\n",
       "      <td>False</td>\n",
       "      <td>False</td>\n",
       "      <td>False</td>\n",
       "      <td>False</td>\n",
       "      <td>False</td>\n",
       "      <td>...</td>\n",
       "      <td>False</td>\n",
       "      <td>False</td>\n",
       "      <td>False</td>\n",
       "      <td>False</td>\n",
       "      <td>True</td>\n",
       "      <td>False</td>\n",
       "      <td>False</td>\n",
       "      <td>False</td>\n",
       "      <td>False</td>\n",
       "      <td>False</td>\n",
       "    </tr>\n",
       "    <tr>\n",
       "      <th>20191031</th>\n",
       "      <td>False</td>\n",
       "      <td>True</td>\n",
       "      <td>False</td>\n",
       "      <td>False</td>\n",
       "      <td>True</td>\n",
       "      <td>False</td>\n",
       "      <td>False</td>\n",
       "      <td>False</td>\n",
       "      <td>False</td>\n",
       "      <td>False</td>\n",
       "      <td>...</td>\n",
       "      <td>False</td>\n",
       "      <td>False</td>\n",
       "      <td>False</td>\n",
       "      <td>False</td>\n",
       "      <td>True</td>\n",
       "      <td>False</td>\n",
       "      <td>False</td>\n",
       "      <td>False</td>\n",
       "      <td>False</td>\n",
       "      <td>False</td>\n",
       "    </tr>\n",
       "    <tr>\n",
       "      <th>20191130</th>\n",
       "      <td>False</td>\n",
       "      <td>True</td>\n",
       "      <td>False</td>\n",
       "      <td>False</td>\n",
       "      <td>True</td>\n",
       "      <td>False</td>\n",
       "      <td>False</td>\n",
       "      <td>False</td>\n",
       "      <td>False</td>\n",
       "      <td>False</td>\n",
       "      <td>...</td>\n",
       "      <td>False</td>\n",
       "      <td>False</td>\n",
       "      <td>False</td>\n",
       "      <td>False</td>\n",
       "      <td>True</td>\n",
       "      <td>False</td>\n",
       "      <td>False</td>\n",
       "      <td>False</td>\n",
       "      <td>False</td>\n",
       "      <td>False</td>\n",
       "    </tr>\n",
       "    <tr>\n",
       "      <th>20191231</th>\n",
       "      <td>False</td>\n",
       "      <td>True</td>\n",
       "      <td>False</td>\n",
       "      <td>False</td>\n",
       "      <td>True</td>\n",
       "      <td>False</td>\n",
       "      <td>False</td>\n",
       "      <td>False</td>\n",
       "      <td>False</td>\n",
       "      <td>False</td>\n",
       "      <td>...</td>\n",
       "      <td>False</td>\n",
       "      <td>False</td>\n",
       "      <td>False</td>\n",
       "      <td>False</td>\n",
       "      <td>True</td>\n",
       "      <td>False</td>\n",
       "      <td>False</td>\n",
       "      <td>False</td>\n",
       "      <td>False</td>\n",
       "      <td>False</td>\n",
       "    </tr>\n",
       "  </tbody>\n",
       "</table>\n",
       "<p>103 rows × 113 columns</p>\n",
       "</div>"
      ],
      "text/plain": [
       "          삼양홀딩스   유한양행  CJ대한통운     두산   대림산업  한국테크놀로지그룹    기아차  동아쏘시오홀딩스  \\\n",
       "20110630   True  False   False  False  False       True  False     False   \n",
       "20110731   True  False   False  False  False       True  False     False   \n",
       "20110831   True  False   False  False  False       True  False     False   \n",
       "20110930   True  False   False  False  False       True  False     False   \n",
       "20111031   True  False   False  False  False       True  False     False   \n",
       "...         ...    ...     ...    ...    ...        ...    ...       ...   \n",
       "20190831  False   True   False  False   True      False  False     False   \n",
       "20190930  False   True   False  False   True      False  False     False   \n",
       "20191031  False   True   False  False   True      False  False     False   \n",
       "20191130  False   True   False  False   True      False  False     False   \n",
       "20191231  False   True   False  False   True      False  False     False   \n",
       "\n",
       "          SK하이닉스     영풍  ...  현대백화점  한국금융지주     GS  하나금융지주  아모레퍼시픽     LF  \\\n",
       "20110630   False  False  ...  False   False  False    True   False  False   \n",
       "20110731   False  False  ...  False   False  False    True   False  False   \n",
       "20110831   False  False  ...  False   False  False    True   False  False   \n",
       "20110930   False  False  ...  False   False  False    True   False  False   \n",
       "20111031   False  False  ...  False   False  False    True   False  False   \n",
       "...          ...    ...  ...    ...     ...    ...     ...     ...    ...   \n",
       "20190831   False  False  ...  False   False  False   False    True  False   \n",
       "20190930   False  False  ...  False   False  False   False    True  False   \n",
       "20191031   False  False  ...  False   False  False   False    True  False   \n",
       "20191130   False  False  ...  False   False  False   False    True  False   \n",
       "20191231   False  False  ...  False   False  False   False    True  False   \n",
       "\n",
       "             후성  SK이노베이션  CJ제일제당   KB금융  \n",
       "20110630  False    False   False  False  \n",
       "20110731  False    False   False  False  \n",
       "20110831  False    False   False  False  \n",
       "20110930  False    False   False  False  \n",
       "20111031  False    False   False  False  \n",
       "...         ...      ...     ...    ...  \n",
       "20190831  False    False   False  False  \n",
       "20190930  False    False   False  False  \n",
       "20191031  False    False   False  False  \n",
       "20191130  False    False   False  False  \n",
       "20191231  False    False   False  False  \n",
       "\n",
       "[103 rows x 113 columns]"
      ]
     },
     "execution_count": 82,
     "metadata": {},
     "output_type": "execute_result"
    }
   ],
   "source": [
    "get_q(monthly_df,0,20) #하위20% Q1"
   ]
  },
  {
   "cell_type": "code",
   "execution_count": 114,
   "metadata": {},
   "outputs": [],
   "source": [
    "def get_monthly_return(df): #월별 수익률 생성\n",
    "    ex_ls = ['0'+str(x) for x in np.arange(6,10)]+['10','11','12'] #201107~201112의 월별 수익률\n",
    "    month_ls = ['0'+str(x) for x in np.arange(1,10)]+['10','11','12'] #201201~201912 까지의 월별 수익률\n",
    "    year_ls = [str(x) for x in np.arange(2,10)]\n",
    "\n",
    "    ai = []\n",
    "    for i in ex_ls:\n",
    "        ai.append(((1+df.loc['2011'+i+'01':'2011'+i+'31'].cumsum())-1).iloc[-1,:])\n",
    "\n",
    "    ae = []\n",
    "    for i in year_ls:\n",
    "        for j in month_ls:\n",
    "            ae.append(((1+df.loc['201'+i+j+'01':'201'+i+j+'31'].cumsum())-1).iloc[-1,:])\n",
    "\n",
    "    month_return_ls = ai+ae\n",
    "    df_ = pd.DataFrame(month_return_ls,index=monthly_df.index)\n",
    "    return df_"
   ]
  },
  {
   "cell_type": "code",
   "execution_count": 115,
   "metadata": {},
   "outputs": [
    {
     "data": {
      "text/html": [
       "<div>\n",
       "<style scoped>\n",
       "    .dataframe tbody tr th:only-of-type {\n",
       "        vertical-align: middle;\n",
       "    }\n",
       "\n",
       "    .dataframe tbody tr th {\n",
       "        vertical-align: top;\n",
       "    }\n",
       "\n",
       "    .dataframe thead th {\n",
       "        text-align: right;\n",
       "    }\n",
       "</style>\n",
       "<table border=\"1\" class=\"dataframe\">\n",
       "  <thead>\n",
       "    <tr style=\"text-align: right;\">\n",
       "      <th></th>\n",
       "      <th>삼양홀딩스</th>\n",
       "      <th>유한양행</th>\n",
       "      <th>CJ대한통운</th>\n",
       "      <th>두산</th>\n",
       "      <th>대림산업</th>\n",
       "      <th>한국테크놀로지그룹</th>\n",
       "      <th>기아차</th>\n",
       "      <th>동아쏘시오홀딩스</th>\n",
       "      <th>SK하이닉스</th>\n",
       "      <th>영풍</th>\n",
       "      <th>...</th>\n",
       "      <th>현대백화점</th>\n",
       "      <th>한국금융지주</th>\n",
       "      <th>GS</th>\n",
       "      <th>하나금융지주</th>\n",
       "      <th>아모레퍼시픽</th>\n",
       "      <th>LF</th>\n",
       "      <th>후성</th>\n",
       "      <th>SK이노베이션</th>\n",
       "      <th>CJ제일제당</th>\n",
       "      <th>KB금융</th>\n",
       "    </tr>\n",
       "  </thead>\n",
       "  <tbody>\n",
       "    <tr>\n",
       "      <th>20110630</th>\n",
       "      <td>0.103806</td>\n",
       "      <td>0.004024</td>\n",
       "      <td>0.180799</td>\n",
       "      <td>0.034704</td>\n",
       "      <td>0.199729</td>\n",
       "      <td>0.020427</td>\n",
       "      <td>-0.041932</td>\n",
       "      <td>0.088801</td>\n",
       "      <td>-0.171367</td>\n",
       "      <td>0.247431</td>\n",
       "      <td>...</td>\n",
       "      <td>-0.043421</td>\n",
       "      <td>0.069927</td>\n",
       "      <td>-0.166204</td>\n",
       "      <td>-0.033132</td>\n",
       "      <td>-0.076853</td>\n",
       "      <td>0.092939</td>\n",
       "      <td>0.062829</td>\n",
       "      <td>-0.142584</td>\n",
       "      <td>-0.013983</td>\n",
       "      <td>-0.014728</td>\n",
       "    </tr>\n",
       "    <tr>\n",
       "      <th>20110731</th>\n",
       "      <td>0.111764</td>\n",
       "      <td>0.084310</td>\n",
       "      <td>-0.062630</td>\n",
       "      <td>0.174144</td>\n",
       "      <td>-0.014504</td>\n",
       "      <td>-0.050212</td>\n",
       "      <td>0.071586</td>\n",
       "      <td>0.180061</td>\n",
       "      <td>-0.022605</td>\n",
       "      <td>0.135530</td>\n",
       "      <td>...</td>\n",
       "      <td>0.065051</td>\n",
       "      <td>0.154811</td>\n",
       "      <td>0.154669</td>\n",
       "      <td>0.105748</td>\n",
       "      <td>0.011865</td>\n",
       "      <td>0.122021</td>\n",
       "      <td>-0.054634</td>\n",
       "      <td>0.089424</td>\n",
       "      <td>0.272317</td>\n",
       "      <td>0.041611</td>\n",
       "    </tr>\n",
       "    <tr>\n",
       "      <th>20110831</th>\n",
       "      <td>-0.023770</td>\n",
       "      <td>-0.176797</td>\n",
       "      <td>-0.102365</td>\n",
       "      <td>-0.081481</td>\n",
       "      <td>-0.066652</td>\n",
       "      <td>-0.058263</td>\n",
       "      <td>-0.075527</td>\n",
       "      <td>-0.124534</td>\n",
       "      <td>-0.198561</td>\n",
       "      <td>-0.032852</td>\n",
       "      <td>...</td>\n",
       "      <td>-0.003631</td>\n",
       "      <td>-0.054661</td>\n",
       "      <td>-0.200471</td>\n",
       "      <td>-0.131494</td>\n",
       "      <td>-0.023418</td>\n",
       "      <td>0.058530</td>\n",
       "      <td>-0.081739</td>\n",
       "      <td>-0.217186</td>\n",
       "      <td>0.090342</td>\n",
       "      <td>-0.160052</td>\n",
       "    </tr>\n",
       "    <tr>\n",
       "      <th>20110930</th>\n",
       "      <td>-0.284986</td>\n",
       "      <td>-0.115891</td>\n",
       "      <td>-0.263683</td>\n",
       "      <td>0.015583</td>\n",
       "      <td>-0.160870</td>\n",
       "      <td>0.032038</td>\n",
       "      <td>0.025864</td>\n",
       "      <td>-0.085326</td>\n",
       "      <td>0.136493</td>\n",
       "      <td>-0.116738</td>\n",
       "      <td>...</td>\n",
       "      <td>-0.062928</td>\n",
       "      <td>-0.089272</td>\n",
       "      <td>-0.199234</td>\n",
       "      <td>-0.007552</td>\n",
       "      <td>0.016587</td>\n",
       "      <td>-0.179228</td>\n",
       "      <td>0.031275</td>\n",
       "      <td>-0.146282</td>\n",
       "      <td>-0.095174</td>\n",
       "      <td>-0.071086</td>\n",
       "    </tr>\n",
       "    <tr>\n",
       "      <th>20111031</th>\n",
       "      <td>0.009951</td>\n",
       "      <td>0.132412</td>\n",
       "      <td>0.152718</td>\n",
       "      <td>0.055183</td>\n",
       "      <td>0.059732</td>\n",
       "      <td>0.110500</td>\n",
       "      <td>0.010240</td>\n",
       "      <td>0.017024</td>\n",
       "      <td>0.078694</td>\n",
       "      <td>0.119523</td>\n",
       "      <td>...</td>\n",
       "      <td>-0.032565</td>\n",
       "      <td>0.096774</td>\n",
       "      <td>0.153019</td>\n",
       "      <td>0.153345</td>\n",
       "      <td>0.072039</td>\n",
       "      <td>0.124213</td>\n",
       "      <td>0.129406</td>\n",
       "      <td>0.203845</td>\n",
       "      <td>0.059447</td>\n",
       "      <td>0.081809</td>\n",
       "    </tr>\n",
       "    <tr>\n",
       "      <th>...</th>\n",
       "      <td>...</td>\n",
       "      <td>...</td>\n",
       "      <td>...</td>\n",
       "      <td>...</td>\n",
       "      <td>...</td>\n",
       "      <td>...</td>\n",
       "      <td>...</td>\n",
       "      <td>...</td>\n",
       "      <td>...</td>\n",
       "      <td>...</td>\n",
       "      <td>...</td>\n",
       "      <td>...</td>\n",
       "      <td>...</td>\n",
       "      <td>...</td>\n",
       "      <td>...</td>\n",
       "      <td>...</td>\n",
       "      <td>...</td>\n",
       "      <td>...</td>\n",
       "      <td>...</td>\n",
       "      <td>...</td>\n",
       "      <td>...</td>\n",
       "    </tr>\n",
       "    <tr>\n",
       "      <th>20190831</th>\n",
       "      <td>-0.141414</td>\n",
       "      <td>0.062482</td>\n",
       "      <td>0.046252</td>\n",
       "      <td>-0.038968</td>\n",
       "      <td>-0.069214</td>\n",
       "      <td>-0.044964</td>\n",
       "      <td>0.001047</td>\n",
       "      <td>0.011912</td>\n",
       "      <td>0.011845</td>\n",
       "      <td>-0.181568</td>\n",
       "      <td>...</td>\n",
       "      <td>0.056197</td>\n",
       "      <td>-0.026011</td>\n",
       "      <td>-0.044425</td>\n",
       "      <td>-0.064838</td>\n",
       "      <td>-0.067782</td>\n",
       "      <td>-0.231559</td>\n",
       "      <td>0.065627</td>\n",
       "      <td>-0.031136</td>\n",
       "      <td>-0.213769</td>\n",
       "      <td>-0.087012</td>\n",
       "    </tr>\n",
       "    <tr>\n",
       "      <th>20190930</th>\n",
       "      <td>-0.001840</td>\n",
       "      <td>-0.000974</td>\n",
       "      <td>0.013099</td>\n",
       "      <td>0.057130</td>\n",
       "      <td>0.064143</td>\n",
       "      <td>-0.029537</td>\n",
       "      <td>0.044761</td>\n",
       "      <td>-0.006013</td>\n",
       "      <td>0.064199</td>\n",
       "      <td>0.078375</td>\n",
       "      <td>...</td>\n",
       "      <td>0.003982</td>\n",
       "      <td>0.045340</td>\n",
       "      <td>0.048114</td>\n",
       "      <td>0.083650</td>\n",
       "      <td>0.084530</td>\n",
       "      <td>0.046451</td>\n",
       "      <td>-0.067381</td>\n",
       "      <td>0.007214</td>\n",
       "      <td>0.028214</td>\n",
       "      <td>0.076039</td>\n",
       "    </tr>\n",
       "    <tr>\n",
       "      <th>20191031</th>\n",
       "      <td>0.057988</td>\n",
       "      <td>-0.015329</td>\n",
       "      <td>0.089003</td>\n",
       "      <td>-0.068750</td>\n",
       "      <td>-0.129644</td>\n",
       "      <td>-0.069983</td>\n",
       "      <td>-0.065638</td>\n",
       "      <td>0.060040</td>\n",
       "      <td>0.001434</td>\n",
       "      <td>0.006056</td>\n",
       "      <td>...</td>\n",
       "      <td>-0.052979</td>\n",
       "      <td>-0.103521</td>\n",
       "      <td>-0.011765</td>\n",
       "      <td>-0.040930</td>\n",
       "      <td>0.326547</td>\n",
       "      <td>-0.025394</td>\n",
       "      <td>-0.000148</td>\n",
       "      <td>-0.033758</td>\n",
       "      <td>-0.022953</td>\n",
       "      <td>-0.015932</td>\n",
       "    </tr>\n",
       "    <tr>\n",
       "      <th>20191130</th>\n",
       "      <td>0.040022</td>\n",
       "      <td>-0.037617</td>\n",
       "      <td>0.002135</td>\n",
       "      <td>-0.129621</td>\n",
       "      <td>-0.008971</td>\n",
       "      <td>0.077477</td>\n",
       "      <td>0.017733</td>\n",
       "      <td>0.105401</td>\n",
       "      <td>-0.011266</td>\n",
       "      <td>0.038094</td>\n",
       "      <td>...</td>\n",
       "      <td>0.122820</td>\n",
       "      <td>0.058856</td>\n",
       "      <td>-0.035753</td>\n",
       "      <td>0.060408</td>\n",
       "      <td>-0.009068</td>\n",
       "      <td>-0.090361</td>\n",
       "      <td>-0.069094</td>\n",
       "      <td>-0.086988</td>\n",
       "      <td>0.087864</td>\n",
       "      <td>0.094650</td>\n",
       "    </tr>\n",
       "    <tr>\n",
       "      <th>20191231</th>\n",
       "      <td>0.019615</td>\n",
       "      <td>0.135924</td>\n",
       "      <td>-0.013989</td>\n",
       "      <td>0.033177</td>\n",
       "      <td>0.008188</td>\n",
       "      <td>0.005086</td>\n",
       "      <td>0.025056</td>\n",
       "      <td>0.049906</td>\n",
       "      <td>0.155478</td>\n",
       "      <td>0.025162</td>\n",
       "      <td>...</td>\n",
       "      <td>-0.000093</td>\n",
       "      <td>0.011743</td>\n",
       "      <td>0.076519</td>\n",
       "      <td>0.033922</td>\n",
       "      <td>0.059201</td>\n",
       "      <td>0.035697</td>\n",
       "      <td>0.045863</td>\n",
       "      <td>0.024988</td>\n",
       "      <td>0.021397</td>\n",
       "      <td>0.036672</td>\n",
       "    </tr>\n",
       "  </tbody>\n",
       "</table>\n",
       "<p>103 rows × 113 columns</p>\n",
       "</div>"
      ],
      "text/plain": [
       "             삼양홀딩스      유한양행    CJ대한통운        두산      대림산업  한국테크놀로지그룹  \\\n",
       "20110630  0.103806  0.004024  0.180799  0.034704  0.199729   0.020427   \n",
       "20110731  0.111764  0.084310 -0.062630  0.174144 -0.014504  -0.050212   \n",
       "20110831 -0.023770 -0.176797 -0.102365 -0.081481 -0.066652  -0.058263   \n",
       "20110930 -0.284986 -0.115891 -0.263683  0.015583 -0.160870   0.032038   \n",
       "20111031  0.009951  0.132412  0.152718  0.055183  0.059732   0.110500   \n",
       "...            ...       ...       ...       ...       ...        ...   \n",
       "20190831 -0.141414  0.062482  0.046252 -0.038968 -0.069214  -0.044964   \n",
       "20190930 -0.001840 -0.000974  0.013099  0.057130  0.064143  -0.029537   \n",
       "20191031  0.057988 -0.015329  0.089003 -0.068750 -0.129644  -0.069983   \n",
       "20191130  0.040022 -0.037617  0.002135 -0.129621 -0.008971   0.077477   \n",
       "20191231  0.019615  0.135924 -0.013989  0.033177  0.008188   0.005086   \n",
       "\n",
       "               기아차  동아쏘시오홀딩스    SK하이닉스        영풍  ...     현대백화점    한국금융지주  \\\n",
       "20110630 -0.041932  0.088801 -0.171367  0.247431  ... -0.043421  0.069927   \n",
       "20110731  0.071586  0.180061 -0.022605  0.135530  ...  0.065051  0.154811   \n",
       "20110831 -0.075527 -0.124534 -0.198561 -0.032852  ... -0.003631 -0.054661   \n",
       "20110930  0.025864 -0.085326  0.136493 -0.116738  ... -0.062928 -0.089272   \n",
       "20111031  0.010240  0.017024  0.078694  0.119523  ... -0.032565  0.096774   \n",
       "...            ...       ...       ...       ...  ...       ...       ...   \n",
       "20190831  0.001047  0.011912  0.011845 -0.181568  ...  0.056197 -0.026011   \n",
       "20190930  0.044761 -0.006013  0.064199  0.078375  ...  0.003982  0.045340   \n",
       "20191031 -0.065638  0.060040  0.001434  0.006056  ... -0.052979 -0.103521   \n",
       "20191130  0.017733  0.105401 -0.011266  0.038094  ...  0.122820  0.058856   \n",
       "20191231  0.025056  0.049906  0.155478  0.025162  ... -0.000093  0.011743   \n",
       "\n",
       "                GS    하나금융지주    아모레퍼시픽        LF        후성   SK이노베이션  \\\n",
       "20110630 -0.166204 -0.033132 -0.076853  0.092939  0.062829 -0.142584   \n",
       "20110731  0.154669  0.105748  0.011865  0.122021 -0.054634  0.089424   \n",
       "20110831 -0.200471 -0.131494 -0.023418  0.058530 -0.081739 -0.217186   \n",
       "20110930 -0.199234 -0.007552  0.016587 -0.179228  0.031275 -0.146282   \n",
       "20111031  0.153019  0.153345  0.072039  0.124213  0.129406  0.203845   \n",
       "...            ...       ...       ...       ...       ...       ...   \n",
       "20190831 -0.044425 -0.064838 -0.067782 -0.231559  0.065627 -0.031136   \n",
       "20190930  0.048114  0.083650  0.084530  0.046451 -0.067381  0.007214   \n",
       "20191031 -0.011765 -0.040930  0.326547 -0.025394 -0.000148 -0.033758   \n",
       "20191130 -0.035753  0.060408 -0.009068 -0.090361 -0.069094 -0.086988   \n",
       "20191231  0.076519  0.033922  0.059201  0.035697  0.045863  0.024988   \n",
       "\n",
       "            CJ제일제당      KB금융  \n",
       "20110630 -0.013983 -0.014728  \n",
       "20110731  0.272317  0.041611  \n",
       "20110831  0.090342 -0.160052  \n",
       "20110930 -0.095174 -0.071086  \n",
       "20111031  0.059447  0.081809  \n",
       "...            ...       ...  \n",
       "20190831 -0.213769 -0.087012  \n",
       "20190930  0.028214  0.076039  \n",
       "20191031 -0.022953 -0.015932  \n",
       "20191130  0.087864  0.094650  \n",
       "20191231  0.021397  0.036672  \n",
       "\n",
       "[103 rows x 113 columns]"
      ]
     },
     "execution_count": 115,
     "metadata": {},
     "output_type": "execute_result"
    }
   ],
   "source": [
    "month_return_df = get_monthly_return(price_df) \n",
    "month_return_df"
   ]
  },
  {
   "cell_type": "code",
   "execution_count": 118,
   "metadata": {},
   "outputs": [
    {
     "data": {
      "text/html": [
       "<div>\n",
       "<style scoped>\n",
       "    .dataframe tbody tr th:only-of-type {\n",
       "        vertical-align: middle;\n",
       "    }\n",
       "\n",
       "    .dataframe tbody tr th {\n",
       "        vertical-align: top;\n",
       "    }\n",
       "\n",
       "    .dataframe thead th {\n",
       "        text-align: right;\n",
       "    }\n",
       "</style>\n",
       "<table border=\"1\" class=\"dataframe\">\n",
       "  <thead>\n",
       "    <tr style=\"text-align: right;\">\n",
       "      <th></th>\n",
       "      <th>returns</th>\n",
       "    </tr>\n",
       "  </thead>\n",
       "  <tbody>\n",
       "    <tr>\n",
       "      <th>Q1</th>\n",
       "      <td>0.003005</td>\n",
       "    </tr>\n",
       "    <tr>\n",
       "      <th>Q2</th>\n",
       "      <td>0.003979</td>\n",
       "    </tr>\n",
       "    <tr>\n",
       "      <th>Q3</th>\n",
       "      <td>0.004676</td>\n",
       "    </tr>\n",
       "    <tr>\n",
       "      <th>Q4</th>\n",
       "      <td>0.000506</td>\n",
       "    </tr>\n",
       "    <tr>\n",
       "      <th>Q5</th>\n",
       "      <td>0.002777</td>\n",
       "    </tr>\n",
       "  </tbody>\n",
       "</table>\n",
       "</div>"
      ],
      "text/plain": [
       "     returns\n",
       "Q1  0.003005\n",
       "Q2  0.003979\n",
       "Q3  0.004676\n",
       "Q4  0.000506\n",
       "Q5  0.002777"
      ]
     },
     "execution_count": 118,
     "metadata": {},
     "output_type": "execute_result"
    }
   ],
   "source": [
    "values = []\n",
    "for i in range(0,100,20) : \n",
    "    values.append(np.nanmean(month_return_df[get_q(monthly_df,i,i+20)]))\n",
    "\n",
    "calendar_df = pd.DataFrame(values,index=['Q1','Q2','Q3','Q4','Q5'],columns=['returns'])\n",
    "calendar_df"
   ]
  },
  {
   "cell_type": "code",
   "execution_count": 119,
   "metadata": {},
   "outputs": [
    {
     "data": {
      "application/vnd.plotly.v1+json": {
       "config": {
        "linkText": "Export to plot.ly",
        "plotlyServerURL": "https://plot.ly",
        "showLink": true
       },
       "data": [
        {
         "marker": {
          "color": "rgba(255, 153, 51, 0.6)",
          "line": {
           "color": "rgba(255, 153, 51, 1.0)",
           "width": 1
          }
         },
         "name": "returns",
         "orientation": "v",
         "text": "",
         "type": "bar",
         "x": [
          "Q1",
          "Q2",
          "Q3",
          "Q4",
          "Q5"
         ],
         "y": [
          0.003005229736908611,
          0.003978796912286638,
          0.004675672262377931,
          0.0005062195544998123,
          0.0027766008787603103
         ]
        }
       ],
       "layout": {
        "legend": {
         "bgcolor": "#F5F6F9",
         "font": {
          "color": "#4D5663"
         }
        },
        "paper_bgcolor": "#F5F6F9",
        "plot_bgcolor": "#F5F6F9",
        "template": {
         "data": {
          "bar": [
           {
            "error_x": {
             "color": "#2a3f5f"
            },
            "error_y": {
             "color": "#2a3f5f"
            },
            "marker": {
             "line": {
              "color": "#E5ECF6",
              "width": 0.5
             }
            },
            "type": "bar"
           }
          ],
          "barpolar": [
           {
            "marker": {
             "line": {
              "color": "#E5ECF6",
              "width": 0.5
             }
            },
            "type": "barpolar"
           }
          ],
          "carpet": [
           {
            "aaxis": {
             "endlinecolor": "#2a3f5f",
             "gridcolor": "white",
             "linecolor": "white",
             "minorgridcolor": "white",
             "startlinecolor": "#2a3f5f"
            },
            "baxis": {
             "endlinecolor": "#2a3f5f",
             "gridcolor": "white",
             "linecolor": "white",
             "minorgridcolor": "white",
             "startlinecolor": "#2a3f5f"
            },
            "type": "carpet"
           }
          ],
          "choropleth": [
           {
            "colorbar": {
             "outlinewidth": 0,
             "ticks": ""
            },
            "type": "choropleth"
           }
          ],
          "contour": [
           {
            "colorbar": {
             "outlinewidth": 0,
             "ticks": ""
            },
            "colorscale": [
             [
              0,
              "#0d0887"
             ],
             [
              0.1111111111111111,
              "#46039f"
             ],
             [
              0.2222222222222222,
              "#7201a8"
             ],
             [
              0.3333333333333333,
              "#9c179e"
             ],
             [
              0.4444444444444444,
              "#bd3786"
             ],
             [
              0.5555555555555556,
              "#d8576b"
             ],
             [
              0.6666666666666666,
              "#ed7953"
             ],
             [
              0.7777777777777778,
              "#fb9f3a"
             ],
             [
              0.8888888888888888,
              "#fdca26"
             ],
             [
              1,
              "#f0f921"
             ]
            ],
            "type": "contour"
           }
          ],
          "contourcarpet": [
           {
            "colorbar": {
             "outlinewidth": 0,
             "ticks": ""
            },
            "type": "contourcarpet"
           }
          ],
          "heatmap": [
           {
            "colorbar": {
             "outlinewidth": 0,
             "ticks": ""
            },
            "colorscale": [
             [
              0,
              "#0d0887"
             ],
             [
              0.1111111111111111,
              "#46039f"
             ],
             [
              0.2222222222222222,
              "#7201a8"
             ],
             [
              0.3333333333333333,
              "#9c179e"
             ],
             [
              0.4444444444444444,
              "#bd3786"
             ],
             [
              0.5555555555555556,
              "#d8576b"
             ],
             [
              0.6666666666666666,
              "#ed7953"
             ],
             [
              0.7777777777777778,
              "#fb9f3a"
             ],
             [
              0.8888888888888888,
              "#fdca26"
             ],
             [
              1,
              "#f0f921"
             ]
            ],
            "type": "heatmap"
           }
          ],
          "heatmapgl": [
           {
            "colorbar": {
             "outlinewidth": 0,
             "ticks": ""
            },
            "colorscale": [
             [
              0,
              "#0d0887"
             ],
             [
              0.1111111111111111,
              "#46039f"
             ],
             [
              0.2222222222222222,
              "#7201a8"
             ],
             [
              0.3333333333333333,
              "#9c179e"
             ],
             [
              0.4444444444444444,
              "#bd3786"
             ],
             [
              0.5555555555555556,
              "#d8576b"
             ],
             [
              0.6666666666666666,
              "#ed7953"
             ],
             [
              0.7777777777777778,
              "#fb9f3a"
             ],
             [
              0.8888888888888888,
              "#fdca26"
             ],
             [
              1,
              "#f0f921"
             ]
            ],
            "type": "heatmapgl"
           }
          ],
          "histogram": [
           {
            "marker": {
             "colorbar": {
              "outlinewidth": 0,
              "ticks": ""
             }
            },
            "type": "histogram"
           }
          ],
          "histogram2d": [
           {
            "colorbar": {
             "outlinewidth": 0,
             "ticks": ""
            },
            "colorscale": [
             [
              0,
              "#0d0887"
             ],
             [
              0.1111111111111111,
              "#46039f"
             ],
             [
              0.2222222222222222,
              "#7201a8"
             ],
             [
              0.3333333333333333,
              "#9c179e"
             ],
             [
              0.4444444444444444,
              "#bd3786"
             ],
             [
              0.5555555555555556,
              "#d8576b"
             ],
             [
              0.6666666666666666,
              "#ed7953"
             ],
             [
              0.7777777777777778,
              "#fb9f3a"
             ],
             [
              0.8888888888888888,
              "#fdca26"
             ],
             [
              1,
              "#f0f921"
             ]
            ],
            "type": "histogram2d"
           }
          ],
          "histogram2dcontour": [
           {
            "colorbar": {
             "outlinewidth": 0,
             "ticks": ""
            },
            "colorscale": [
             [
              0,
              "#0d0887"
             ],
             [
              0.1111111111111111,
              "#46039f"
             ],
             [
              0.2222222222222222,
              "#7201a8"
             ],
             [
              0.3333333333333333,
              "#9c179e"
             ],
             [
              0.4444444444444444,
              "#bd3786"
             ],
             [
              0.5555555555555556,
              "#d8576b"
             ],
             [
              0.6666666666666666,
              "#ed7953"
             ],
             [
              0.7777777777777778,
              "#fb9f3a"
             ],
             [
              0.8888888888888888,
              "#fdca26"
             ],
             [
              1,
              "#f0f921"
             ]
            ],
            "type": "histogram2dcontour"
           }
          ],
          "mesh3d": [
           {
            "colorbar": {
             "outlinewidth": 0,
             "ticks": ""
            },
            "type": "mesh3d"
           }
          ],
          "parcoords": [
           {
            "line": {
             "colorbar": {
              "outlinewidth": 0,
              "ticks": ""
             }
            },
            "type": "parcoords"
           }
          ],
          "pie": [
           {
            "automargin": true,
            "type": "pie"
           }
          ],
          "scatter": [
           {
            "marker": {
             "colorbar": {
              "outlinewidth": 0,
              "ticks": ""
             }
            },
            "type": "scatter"
           }
          ],
          "scatter3d": [
           {
            "line": {
             "colorbar": {
              "outlinewidth": 0,
              "ticks": ""
             }
            },
            "marker": {
             "colorbar": {
              "outlinewidth": 0,
              "ticks": ""
             }
            },
            "type": "scatter3d"
           }
          ],
          "scattercarpet": [
           {
            "marker": {
             "colorbar": {
              "outlinewidth": 0,
              "ticks": ""
             }
            },
            "type": "scattercarpet"
           }
          ],
          "scattergeo": [
           {
            "marker": {
             "colorbar": {
              "outlinewidth": 0,
              "ticks": ""
             }
            },
            "type": "scattergeo"
           }
          ],
          "scattergl": [
           {
            "marker": {
             "colorbar": {
              "outlinewidth": 0,
              "ticks": ""
             }
            },
            "type": "scattergl"
           }
          ],
          "scattermapbox": [
           {
            "marker": {
             "colorbar": {
              "outlinewidth": 0,
              "ticks": ""
             }
            },
            "type": "scattermapbox"
           }
          ],
          "scatterpolar": [
           {
            "marker": {
             "colorbar": {
              "outlinewidth": 0,
              "ticks": ""
             }
            },
            "type": "scatterpolar"
           }
          ],
          "scatterpolargl": [
           {
            "marker": {
             "colorbar": {
              "outlinewidth": 0,
              "ticks": ""
             }
            },
            "type": "scatterpolargl"
           }
          ],
          "scatterternary": [
           {
            "marker": {
             "colorbar": {
              "outlinewidth": 0,
              "ticks": ""
             }
            },
            "type": "scatterternary"
           }
          ],
          "surface": [
           {
            "colorbar": {
             "outlinewidth": 0,
             "ticks": ""
            },
            "colorscale": [
             [
              0,
              "#0d0887"
             ],
             [
              0.1111111111111111,
              "#46039f"
             ],
             [
              0.2222222222222222,
              "#7201a8"
             ],
             [
              0.3333333333333333,
              "#9c179e"
             ],
             [
              0.4444444444444444,
              "#bd3786"
             ],
             [
              0.5555555555555556,
              "#d8576b"
             ],
             [
              0.6666666666666666,
              "#ed7953"
             ],
             [
              0.7777777777777778,
              "#fb9f3a"
             ],
             [
              0.8888888888888888,
              "#fdca26"
             ],
             [
              1,
              "#f0f921"
             ]
            ],
            "type": "surface"
           }
          ],
          "table": [
           {
            "cells": {
             "fill": {
              "color": "#EBF0F8"
             },
             "line": {
              "color": "white"
             }
            },
            "header": {
             "fill": {
              "color": "#C8D4E3"
             },
             "line": {
              "color": "white"
             }
            },
            "type": "table"
           }
          ]
         },
         "layout": {
          "annotationdefaults": {
           "arrowcolor": "#2a3f5f",
           "arrowhead": 0,
           "arrowwidth": 1
          },
          "coloraxis": {
           "colorbar": {
            "outlinewidth": 0,
            "ticks": ""
           }
          },
          "colorscale": {
           "diverging": [
            [
             0,
             "#8e0152"
            ],
            [
             0.1,
             "#c51b7d"
            ],
            [
             0.2,
             "#de77ae"
            ],
            [
             0.3,
             "#f1b6da"
            ],
            [
             0.4,
             "#fde0ef"
            ],
            [
             0.5,
             "#f7f7f7"
            ],
            [
             0.6,
             "#e6f5d0"
            ],
            [
             0.7,
             "#b8e186"
            ],
            [
             0.8,
             "#7fbc41"
            ],
            [
             0.9,
             "#4d9221"
            ],
            [
             1,
             "#276419"
            ]
           ],
           "sequential": [
            [
             0,
             "#0d0887"
            ],
            [
             0.1111111111111111,
             "#46039f"
            ],
            [
             0.2222222222222222,
             "#7201a8"
            ],
            [
             0.3333333333333333,
             "#9c179e"
            ],
            [
             0.4444444444444444,
             "#bd3786"
            ],
            [
             0.5555555555555556,
             "#d8576b"
            ],
            [
             0.6666666666666666,
             "#ed7953"
            ],
            [
             0.7777777777777778,
             "#fb9f3a"
            ],
            [
             0.8888888888888888,
             "#fdca26"
            ],
            [
             1,
             "#f0f921"
            ]
           ],
           "sequentialminus": [
            [
             0,
             "#0d0887"
            ],
            [
             0.1111111111111111,
             "#46039f"
            ],
            [
             0.2222222222222222,
             "#7201a8"
            ],
            [
             0.3333333333333333,
             "#9c179e"
            ],
            [
             0.4444444444444444,
             "#bd3786"
            ],
            [
             0.5555555555555556,
             "#d8576b"
            ],
            [
             0.6666666666666666,
             "#ed7953"
            ],
            [
             0.7777777777777778,
             "#fb9f3a"
            ],
            [
             0.8888888888888888,
             "#fdca26"
            ],
            [
             1,
             "#f0f921"
            ]
           ]
          },
          "colorway": [
           "#636efa",
           "#EF553B",
           "#00cc96",
           "#ab63fa",
           "#FFA15A",
           "#19d3f3",
           "#FF6692",
           "#B6E880",
           "#FF97FF",
           "#FECB52"
          ],
          "font": {
           "color": "#2a3f5f"
          },
          "geo": {
           "bgcolor": "white",
           "lakecolor": "white",
           "landcolor": "#E5ECF6",
           "showlakes": true,
           "showland": true,
           "subunitcolor": "white"
          },
          "hoverlabel": {
           "align": "left"
          },
          "hovermode": "closest",
          "mapbox": {
           "style": "light"
          },
          "paper_bgcolor": "white",
          "plot_bgcolor": "#E5ECF6",
          "polar": {
           "angularaxis": {
            "gridcolor": "white",
            "linecolor": "white",
            "ticks": ""
           },
           "bgcolor": "#E5ECF6",
           "radialaxis": {
            "gridcolor": "white",
            "linecolor": "white",
            "ticks": ""
           }
          },
          "scene": {
           "xaxis": {
            "backgroundcolor": "#E5ECF6",
            "gridcolor": "white",
            "gridwidth": 2,
            "linecolor": "white",
            "showbackground": true,
            "ticks": "",
            "zerolinecolor": "white"
           },
           "yaxis": {
            "backgroundcolor": "#E5ECF6",
            "gridcolor": "white",
            "gridwidth": 2,
            "linecolor": "white",
            "showbackground": true,
            "ticks": "",
            "zerolinecolor": "white"
           },
           "zaxis": {
            "backgroundcolor": "#E5ECF6",
            "gridcolor": "white",
            "gridwidth": 2,
            "linecolor": "white",
            "showbackground": true,
            "ticks": "",
            "zerolinecolor": "white"
           }
          },
          "shapedefaults": {
           "line": {
            "color": "#2a3f5f"
           }
          },
          "ternary": {
           "aaxis": {
            "gridcolor": "white",
            "linecolor": "white",
            "ticks": ""
           },
           "baxis": {
            "gridcolor": "white",
            "linecolor": "white",
            "ticks": ""
           },
           "bgcolor": "#E5ECF6",
           "caxis": {
            "gridcolor": "white",
            "linecolor": "white",
            "ticks": ""
           }
          },
          "title": {
           "x": 0.05
          },
          "xaxis": {
           "automargin": true,
           "gridcolor": "white",
           "linecolor": "white",
           "ticks": "",
           "title": {
            "standoff": 15
           },
           "zerolinecolor": "white",
           "zerolinewidth": 2
          },
          "yaxis": {
           "automargin": true,
           "gridcolor": "white",
           "linecolor": "white",
           "ticks": "",
           "title": {
            "standoff": 15
           },
           "zerolinecolor": "white",
           "zerolinewidth": 2
          }
         }
        },
        "title": {
         "font": {
          "color": "#4D5663"
         }
        },
        "xaxis": {
         "gridcolor": "#E1E5ED",
         "showgrid": true,
         "tickfont": {
          "color": "#4D5663"
         },
         "title": {
          "font": {
           "color": "#4D5663"
          },
          "text": ""
         },
         "zerolinecolor": "#E1E5ED"
        },
        "yaxis": {
         "gridcolor": "#E1E5ED",
         "showgrid": true,
         "tickfont": {
          "color": "#4D5663"
         },
         "title": {
          "font": {
           "color": "#4D5663"
          },
          "text": ""
         },
         "zerolinecolor": "#E1E5ED"
        }
       }
      },
      "text/html": [
       "<div>\n",
       "        \n",
       "        \n",
       "            <div id=\"6ce989a1-1ab0-448e-994c-96b373349375\" class=\"plotly-graph-div\" style=\"height:525px; width:100%;\"></div>\n",
       "            <script type=\"text/javascript\">\n",
       "                require([\"plotly\"], function(Plotly) {\n",
       "                    window.PLOTLYENV=window.PLOTLYENV || {};\n",
       "                    window.PLOTLYENV.BASE_URL='https://plot.ly';\n",
       "                    \n",
       "                if (document.getElementById(\"6ce989a1-1ab0-448e-994c-96b373349375\")) {\n",
       "                    Plotly.newPlot(\n",
       "                        '6ce989a1-1ab0-448e-994c-96b373349375',\n",
       "                        [{\"marker\": {\"color\": \"rgba(255, 153, 51, 0.6)\", \"line\": {\"color\": \"rgba(255, 153, 51, 1.0)\", \"width\": 1}}, \"name\": \"returns\", \"orientation\": \"v\", \"text\": \"\", \"type\": \"bar\", \"x\": [\"Q1\", \"Q2\", \"Q3\", \"Q4\", \"Q5\"], \"y\": [0.003005229736908611, 0.003978796912286638, 0.004675672262377931, 0.0005062195544998123, 0.0027766008787603103]}],\n",
       "                        {\"legend\": {\"bgcolor\": \"#F5F6F9\", \"font\": {\"color\": \"#4D5663\"}}, \"paper_bgcolor\": \"#F5F6F9\", \"plot_bgcolor\": \"#F5F6F9\", \"template\": {\"data\": {\"bar\": [{\"error_x\": {\"color\": \"#2a3f5f\"}, \"error_y\": {\"color\": \"#2a3f5f\"}, \"marker\": {\"line\": {\"color\": \"#E5ECF6\", \"width\": 0.5}}, \"type\": \"bar\"}], \"barpolar\": [{\"marker\": {\"line\": {\"color\": \"#E5ECF6\", \"width\": 0.5}}, \"type\": \"barpolar\"}], \"carpet\": [{\"aaxis\": {\"endlinecolor\": \"#2a3f5f\", \"gridcolor\": \"white\", \"linecolor\": \"white\", \"minorgridcolor\": \"white\", \"startlinecolor\": \"#2a3f5f\"}, \"baxis\": {\"endlinecolor\": \"#2a3f5f\", \"gridcolor\": \"white\", \"linecolor\": \"white\", \"minorgridcolor\": \"white\", \"startlinecolor\": \"#2a3f5f\"}, \"type\": \"carpet\"}], \"choropleth\": [{\"colorbar\": {\"outlinewidth\": 0, \"ticks\": \"\"}, \"type\": \"choropleth\"}], \"contour\": [{\"colorbar\": {\"outlinewidth\": 0, \"ticks\": \"\"}, \"colorscale\": [[0.0, \"#0d0887\"], [0.1111111111111111, \"#46039f\"], [0.2222222222222222, \"#7201a8\"], [0.3333333333333333, \"#9c179e\"], [0.4444444444444444, \"#bd3786\"], [0.5555555555555556, \"#d8576b\"], [0.6666666666666666, \"#ed7953\"], [0.7777777777777778, \"#fb9f3a\"], [0.8888888888888888, \"#fdca26\"], [1.0, \"#f0f921\"]], \"type\": \"contour\"}], \"contourcarpet\": [{\"colorbar\": {\"outlinewidth\": 0, \"ticks\": \"\"}, \"type\": \"contourcarpet\"}], \"heatmap\": [{\"colorbar\": {\"outlinewidth\": 0, \"ticks\": \"\"}, \"colorscale\": [[0.0, \"#0d0887\"], [0.1111111111111111, \"#46039f\"], [0.2222222222222222, \"#7201a8\"], [0.3333333333333333, \"#9c179e\"], [0.4444444444444444, \"#bd3786\"], [0.5555555555555556, \"#d8576b\"], [0.6666666666666666, \"#ed7953\"], [0.7777777777777778, \"#fb9f3a\"], [0.8888888888888888, \"#fdca26\"], [1.0, \"#f0f921\"]], \"type\": \"heatmap\"}], \"heatmapgl\": [{\"colorbar\": {\"outlinewidth\": 0, \"ticks\": \"\"}, \"colorscale\": [[0.0, \"#0d0887\"], [0.1111111111111111, \"#46039f\"], [0.2222222222222222, \"#7201a8\"], [0.3333333333333333, \"#9c179e\"], [0.4444444444444444, \"#bd3786\"], [0.5555555555555556, \"#d8576b\"], [0.6666666666666666, \"#ed7953\"], [0.7777777777777778, \"#fb9f3a\"], [0.8888888888888888, \"#fdca26\"], [1.0, \"#f0f921\"]], \"type\": \"heatmapgl\"}], \"histogram\": [{\"marker\": {\"colorbar\": {\"outlinewidth\": 0, \"ticks\": \"\"}}, \"type\": \"histogram\"}], \"histogram2d\": [{\"colorbar\": {\"outlinewidth\": 0, \"ticks\": \"\"}, \"colorscale\": [[0.0, \"#0d0887\"], [0.1111111111111111, \"#46039f\"], [0.2222222222222222, \"#7201a8\"], [0.3333333333333333, \"#9c179e\"], [0.4444444444444444, \"#bd3786\"], [0.5555555555555556, \"#d8576b\"], [0.6666666666666666, \"#ed7953\"], [0.7777777777777778, \"#fb9f3a\"], [0.8888888888888888, \"#fdca26\"], [1.0, \"#f0f921\"]], \"type\": \"histogram2d\"}], \"histogram2dcontour\": [{\"colorbar\": {\"outlinewidth\": 0, \"ticks\": \"\"}, \"colorscale\": [[0.0, \"#0d0887\"], [0.1111111111111111, \"#46039f\"], [0.2222222222222222, \"#7201a8\"], [0.3333333333333333, \"#9c179e\"], [0.4444444444444444, \"#bd3786\"], [0.5555555555555556, \"#d8576b\"], [0.6666666666666666, \"#ed7953\"], [0.7777777777777778, \"#fb9f3a\"], [0.8888888888888888, \"#fdca26\"], [1.0, \"#f0f921\"]], \"type\": \"histogram2dcontour\"}], \"mesh3d\": [{\"colorbar\": {\"outlinewidth\": 0, \"ticks\": \"\"}, \"type\": \"mesh3d\"}], \"parcoords\": [{\"line\": {\"colorbar\": {\"outlinewidth\": 0, \"ticks\": \"\"}}, \"type\": \"parcoords\"}], \"pie\": [{\"automargin\": true, \"type\": \"pie\"}], \"scatter\": [{\"marker\": {\"colorbar\": {\"outlinewidth\": 0, \"ticks\": \"\"}}, \"type\": \"scatter\"}], \"scatter3d\": [{\"line\": {\"colorbar\": {\"outlinewidth\": 0, \"ticks\": \"\"}}, \"marker\": {\"colorbar\": {\"outlinewidth\": 0, \"ticks\": \"\"}}, \"type\": \"scatter3d\"}], \"scattercarpet\": [{\"marker\": {\"colorbar\": {\"outlinewidth\": 0, \"ticks\": \"\"}}, \"type\": \"scattercarpet\"}], \"scattergeo\": [{\"marker\": {\"colorbar\": {\"outlinewidth\": 0, \"ticks\": \"\"}}, \"type\": \"scattergeo\"}], \"scattergl\": [{\"marker\": {\"colorbar\": {\"outlinewidth\": 0, \"ticks\": \"\"}}, \"type\": \"scattergl\"}], \"scattermapbox\": [{\"marker\": {\"colorbar\": {\"outlinewidth\": 0, \"ticks\": \"\"}}, \"type\": \"scattermapbox\"}], \"scatterpolar\": [{\"marker\": {\"colorbar\": {\"outlinewidth\": 0, \"ticks\": \"\"}}, \"type\": \"scatterpolar\"}], \"scatterpolargl\": [{\"marker\": {\"colorbar\": {\"outlinewidth\": 0, \"ticks\": \"\"}}, \"type\": \"scatterpolargl\"}], \"scatterternary\": [{\"marker\": {\"colorbar\": {\"outlinewidth\": 0, \"ticks\": \"\"}}, \"type\": \"scatterternary\"}], \"surface\": [{\"colorbar\": {\"outlinewidth\": 0, \"ticks\": \"\"}, \"colorscale\": [[0.0, \"#0d0887\"], [0.1111111111111111, \"#46039f\"], [0.2222222222222222, \"#7201a8\"], [0.3333333333333333, \"#9c179e\"], [0.4444444444444444, \"#bd3786\"], [0.5555555555555556, \"#d8576b\"], [0.6666666666666666, \"#ed7953\"], [0.7777777777777778, \"#fb9f3a\"], [0.8888888888888888, \"#fdca26\"], [1.0, \"#f0f921\"]], \"type\": \"surface\"}], \"table\": [{\"cells\": {\"fill\": {\"color\": \"#EBF0F8\"}, \"line\": {\"color\": \"white\"}}, \"header\": {\"fill\": {\"color\": \"#C8D4E3\"}, \"line\": {\"color\": \"white\"}}, \"type\": \"table\"}]}, \"layout\": {\"annotationdefaults\": {\"arrowcolor\": \"#2a3f5f\", \"arrowhead\": 0, \"arrowwidth\": 1}, \"coloraxis\": {\"colorbar\": {\"outlinewidth\": 0, \"ticks\": \"\"}}, \"colorscale\": {\"diverging\": [[0, \"#8e0152\"], [0.1, \"#c51b7d\"], [0.2, \"#de77ae\"], [0.3, \"#f1b6da\"], [0.4, \"#fde0ef\"], [0.5, \"#f7f7f7\"], [0.6, \"#e6f5d0\"], [0.7, \"#b8e186\"], [0.8, \"#7fbc41\"], [0.9, \"#4d9221\"], [1, \"#276419\"]], \"sequential\": [[0.0, \"#0d0887\"], [0.1111111111111111, \"#46039f\"], [0.2222222222222222, \"#7201a8\"], [0.3333333333333333, \"#9c179e\"], [0.4444444444444444, \"#bd3786\"], [0.5555555555555556, \"#d8576b\"], [0.6666666666666666, \"#ed7953\"], [0.7777777777777778, \"#fb9f3a\"], [0.8888888888888888, \"#fdca26\"], [1.0, \"#f0f921\"]], \"sequentialminus\": [[0.0, \"#0d0887\"], [0.1111111111111111, \"#46039f\"], [0.2222222222222222, \"#7201a8\"], [0.3333333333333333, \"#9c179e\"], [0.4444444444444444, \"#bd3786\"], [0.5555555555555556, \"#d8576b\"], [0.6666666666666666, \"#ed7953\"], [0.7777777777777778, \"#fb9f3a\"], [0.8888888888888888, \"#fdca26\"], [1.0, \"#f0f921\"]]}, \"colorway\": [\"#636efa\", \"#EF553B\", \"#00cc96\", \"#ab63fa\", \"#FFA15A\", \"#19d3f3\", \"#FF6692\", \"#B6E880\", \"#FF97FF\", \"#FECB52\"], \"font\": {\"color\": \"#2a3f5f\"}, \"geo\": {\"bgcolor\": \"white\", \"lakecolor\": \"white\", \"landcolor\": \"#E5ECF6\", \"showlakes\": true, \"showland\": true, \"subunitcolor\": \"white\"}, \"hoverlabel\": {\"align\": \"left\"}, \"hovermode\": \"closest\", \"mapbox\": {\"style\": \"light\"}, \"paper_bgcolor\": \"white\", \"plot_bgcolor\": \"#E5ECF6\", \"polar\": {\"angularaxis\": {\"gridcolor\": \"white\", \"linecolor\": \"white\", \"ticks\": \"\"}, \"bgcolor\": \"#E5ECF6\", \"radialaxis\": {\"gridcolor\": \"white\", \"linecolor\": \"white\", \"ticks\": \"\"}}, \"scene\": {\"xaxis\": {\"backgroundcolor\": \"#E5ECF6\", \"gridcolor\": \"white\", \"gridwidth\": 2, \"linecolor\": \"white\", \"showbackground\": true, \"ticks\": \"\", \"zerolinecolor\": \"white\"}, \"yaxis\": {\"backgroundcolor\": \"#E5ECF6\", \"gridcolor\": \"white\", \"gridwidth\": 2, \"linecolor\": \"white\", \"showbackground\": true, \"ticks\": \"\", \"zerolinecolor\": \"white\"}, \"zaxis\": {\"backgroundcolor\": \"#E5ECF6\", \"gridcolor\": \"white\", \"gridwidth\": 2, \"linecolor\": \"white\", \"showbackground\": true, \"ticks\": \"\", \"zerolinecolor\": \"white\"}}, \"shapedefaults\": {\"line\": {\"color\": \"#2a3f5f\"}}, \"ternary\": {\"aaxis\": {\"gridcolor\": \"white\", \"linecolor\": \"white\", \"ticks\": \"\"}, \"baxis\": {\"gridcolor\": \"white\", \"linecolor\": \"white\", \"ticks\": \"\"}, \"bgcolor\": \"#E5ECF6\", \"caxis\": {\"gridcolor\": \"white\", \"linecolor\": \"white\", \"ticks\": \"\"}}, \"title\": {\"x\": 0.05}, \"xaxis\": {\"automargin\": true, \"gridcolor\": \"white\", \"linecolor\": \"white\", \"ticks\": \"\", \"title\": {\"standoff\": 15}, \"zerolinecolor\": \"white\", \"zerolinewidth\": 2}, \"yaxis\": {\"automargin\": true, \"gridcolor\": \"white\", \"linecolor\": \"white\", \"ticks\": \"\", \"title\": {\"standoff\": 15}, \"zerolinecolor\": \"white\", \"zerolinewidth\": 2}}}, \"title\": {\"font\": {\"color\": \"#4D5663\"}}, \"xaxis\": {\"gridcolor\": \"#E1E5ED\", \"showgrid\": true, \"tickfont\": {\"color\": \"#4D5663\"}, \"title\": {\"font\": {\"color\": \"#4D5663\"}, \"text\": \"\"}, \"zerolinecolor\": \"#E1E5ED\"}, \"yaxis\": {\"gridcolor\": \"#E1E5ED\", \"showgrid\": true, \"tickfont\": {\"color\": \"#4D5663\"}, \"title\": {\"font\": {\"color\": \"#4D5663\"}, \"text\": \"\"}, \"zerolinecolor\": \"#E1E5ED\"}},\n",
       "                        {\"showLink\": true, \"linkText\": \"Export to plot.ly\", \"plotlyServerURL\": \"https://plot.ly\", \"responsive\": true}\n",
       "                    ).then(function(){\n",
       "                            \n",
       "var gd = document.getElementById('6ce989a1-1ab0-448e-994c-96b373349375');\n",
       "var x = new MutationObserver(function (mutations, observer) {{\n",
       "        var display = window.getComputedStyle(gd).display;\n",
       "        if (!display || display === 'none') {{\n",
       "            console.log([gd, 'removed!']);\n",
       "            Plotly.purge(gd);\n",
       "            observer.disconnect();\n",
       "        }}\n",
       "}});\n",
       "\n",
       "// Listen for the removal of the full notebook cells\n",
       "var notebookContainer = gd.closest('#notebook-container');\n",
       "if (notebookContainer) {{\n",
       "    x.observe(notebookContainer, {childList: true});\n",
       "}}\n",
       "\n",
       "// Listen for the clearing of the current output cell\n",
       "var outputEl = gd.closest('.output');\n",
       "if (outputEl) {{\n",
       "    x.observe(outputEl, {childList: true});\n",
       "}}\n",
       "\n",
       "                        })\n",
       "                };\n",
       "                });\n",
       "            </script>\n",
       "        </div>"
      ]
     },
     "metadata": {},
     "output_type": "display_data"
    }
   ],
   "source": [
    "calendar_df.iplot(kind='bar')"
   ]
  },
  {
   "cell_type": "code",
   "execution_count": 21,
   "metadata": {},
   "outputs": [
    {
     "data": {
      "text/html": [
       "<div>\n",
       "<style scoped>\n",
       "    .dataframe tbody tr th:only-of-type {\n",
       "        vertical-align: middle;\n",
       "    }\n",
       "\n",
       "    .dataframe tbody tr th {\n",
       "        vertical-align: top;\n",
       "    }\n",
       "\n",
       "    .dataframe thead th {\n",
       "        text-align: right;\n",
       "    }\n",
       "</style>\n",
       "<table border=\"1\" class=\"dataframe\">\n",
       "  <thead>\n",
       "    <tr style=\"text-align: right;\">\n",
       "      <th></th>\n",
       "      <th>삼양홀딩스</th>\n",
       "      <th>유한양행</th>\n",
       "      <th>CJ대한통운</th>\n",
       "      <th>두산</th>\n",
       "      <th>대림산업</th>\n",
       "      <th>한국테크놀로지그룹</th>\n",
       "      <th>기아차</th>\n",
       "      <th>동아쏘시오홀딩스</th>\n",
       "      <th>SK하이닉스</th>\n",
       "      <th>영풍</th>\n",
       "      <th>...</th>\n",
       "      <th>현대백화점</th>\n",
       "      <th>한국금융지주</th>\n",
       "      <th>GS</th>\n",
       "      <th>하나금융지주</th>\n",
       "      <th>아모레퍼시픽</th>\n",
       "      <th>LF</th>\n",
       "      <th>후성</th>\n",
       "      <th>SK이노베이션</th>\n",
       "      <th>CJ제일제당</th>\n",
       "      <th>KB금융</th>\n",
       "    </tr>\n",
       "  </thead>\n",
       "  <tbody>\n",
       "    <tr>\n",
       "      <th>20100104</th>\n",
       "      <td>-0.002808</td>\n",
       "      <td>-0.018529</td>\n",
       "      <td>-0.046101</td>\n",
       "      <td>-0.033509</td>\n",
       "      <td>0.017940</td>\n",
       "      <td>-0.024881</td>\n",
       "      <td>0.030106</td>\n",
       "      <td>0.031618</td>\n",
       "      <td>0.033737</td>\n",
       "      <td>-0.007300</td>\n",
       "      <td>...</td>\n",
       "      <td>-0.002856</td>\n",
       "      <td>0.015088</td>\n",
       "      <td>-0.008779</td>\n",
       "      <td>0.006378</td>\n",
       "      <td>0.001263</td>\n",
       "      <td>0.003794</td>\n",
       "      <td>-0.013965</td>\n",
       "      <td>-0.011555</td>\n",
       "      <td>-7.299270e-07</td>\n",
       "      <td>-0.012325</td>\n",
       "    </tr>\n",
       "    <tr>\n",
       "      <th>20100105</th>\n",
       "      <td>-0.002681</td>\n",
       "      <td>0.008590</td>\n",
       "      <td>0.001074</td>\n",
       "      <td>0.000753</td>\n",
       "      <td>-0.006470</td>\n",
       "      <td>-0.041025</td>\n",
       "      <td>-0.052380</td>\n",
       "      <td>-0.030805</td>\n",
       "      <td>-0.028212</td>\n",
       "      <td>-0.030484</td>\n",
       "      <td>...</td>\n",
       "      <td>-0.041339</td>\n",
       "      <td>0.013127</td>\n",
       "      <td>0.007353</td>\n",
       "      <td>0.019400</td>\n",
       "      <td>-0.025747</td>\n",
       "      <td>-0.036277</td>\n",
       "      <td>-0.003533</td>\n",
       "      <td>0.041370</td>\n",
       "      <td>6.571034e-02</td>\n",
       "      <td>-0.008876</td>\n",
       "    </tr>\n",
       "    <tr>\n",
       "      <th>20100106</th>\n",
       "      <td>-0.016060</td>\n",
       "      <td>0.003080</td>\n",
       "      <td>0.028553</td>\n",
       "      <td>0.046807</td>\n",
       "      <td>0.011906</td>\n",
       "      <td>-0.014452</td>\n",
       "      <td>0.001966</td>\n",
       "      <td>-0.035338</td>\n",
       "      <td>0.043180</td>\n",
       "      <td>-0.031849</td>\n",
       "      <td>...</td>\n",
       "      <td>-0.031360</td>\n",
       "      <td>-0.016883</td>\n",
       "      <td>0.002112</td>\n",
       "      <td>-0.008212</td>\n",
       "      <td>-0.068328</td>\n",
       "      <td>-0.016369</td>\n",
       "      <td>0.006104</td>\n",
       "      <td>-0.004097</td>\n",
       "      <td>-5.939443e-03</td>\n",
       "      <td>-0.011619</td>\n",
       "    </tr>\n",
       "    <tr>\n",
       "      <th>20100107</th>\n",
       "      <td>-0.000886</td>\n",
       "      <td>0.006572</td>\n",
       "      <td>0.018501</td>\n",
       "      <td>0.042569</td>\n",
       "      <td>0.012635</td>\n",
       "      <td>-0.010329</td>\n",
       "      <td>-0.030385</td>\n",
       "      <td>0.022925</td>\n",
       "      <td>0.008845</td>\n",
       "      <td>0.011231</td>\n",
       "      <td>...</td>\n",
       "      <td>0.019695</td>\n",
       "      <td>-0.005453</td>\n",
       "      <td>0.025174</td>\n",
       "      <td>0.001681</td>\n",
       "      <td>-0.007132</td>\n",
       "      <td>0.006732</td>\n",
       "      <td>0.022945</td>\n",
       "      <td>0.010857</td>\n",
       "      <td>3.617400e-03</td>\n",
       "      <td>0.002989</td>\n",
       "    </tr>\n",
       "    <tr>\n",
       "      <th>20100108</th>\n",
       "      <td>-0.008403</td>\n",
       "      <td>-0.014540</td>\n",
       "      <td>0.011568</td>\n",
       "      <td>0.058574</td>\n",
       "      <td>0.004365</td>\n",
       "      <td>0.002605</td>\n",
       "      <td>0.015008</td>\n",
       "      <td>-0.014007</td>\n",
       "      <td>0.004146</td>\n",
       "      <td>-0.009838</td>\n",
       "      <td>...</td>\n",
       "      <td>-0.029685</td>\n",
       "      <td>0.060864</td>\n",
       "      <td>-0.010435</td>\n",
       "      <td>-0.003111</td>\n",
       "      <td>-0.021566</td>\n",
       "      <td>0.003850</td>\n",
       "      <td>-0.001080</td>\n",
       "      <td>0.002130</td>\n",
       "      <td>-6.100041e-03</td>\n",
       "      <td>-0.004370</td>\n",
       "    </tr>\n",
       "    <tr>\n",
       "      <th>...</th>\n",
       "      <td>...</td>\n",
       "      <td>...</td>\n",
       "      <td>...</td>\n",
       "      <td>...</td>\n",
       "      <td>...</td>\n",
       "      <td>...</td>\n",
       "      <td>...</td>\n",
       "      <td>...</td>\n",
       "      <td>...</td>\n",
       "      <td>...</td>\n",
       "      <td>...</td>\n",
       "      <td>...</td>\n",
       "      <td>...</td>\n",
       "      <td>...</td>\n",
       "      <td>...</td>\n",
       "      <td>...</td>\n",
       "      <td>...</td>\n",
       "      <td>...</td>\n",
       "      <td>...</td>\n",
       "      <td>...</td>\n",
       "      <td>...</td>\n",
       "    </tr>\n",
       "    <tr>\n",
       "      <th>20191223</th>\n",
       "      <td>0.010850</td>\n",
       "      <td>0.009773</td>\n",
       "      <td>-0.011539</td>\n",
       "      <td>0.008582</td>\n",
       "      <td>0.001490</td>\n",
       "      <td>-0.008927</td>\n",
       "      <td>0.002609</td>\n",
       "      <td>0.015574</td>\n",
       "      <td>-0.002721</td>\n",
       "      <td>-0.001695</td>\n",
       "      <td>...</td>\n",
       "      <td>0.000278</td>\n",
       "      <td>0.008377</td>\n",
       "      <td>0.007193</td>\n",
       "      <td>0.005381</td>\n",
       "      <td>-0.023324</td>\n",
       "      <td>-0.001257</td>\n",
       "      <td>-0.025570</td>\n",
       "      <td>0.001490</td>\n",
       "      <td>9.771533e-03</td>\n",
       "      <td>0.018819</td>\n",
       "    </tr>\n",
       "    <tr>\n",
       "      <th>20191224</th>\n",
       "      <td>0.022137</td>\n",
       "      <td>0.000521</td>\n",
       "      <td>-0.003220</td>\n",
       "      <td>0.006681</td>\n",
       "      <td>0.000131</td>\n",
       "      <td>0.006681</td>\n",
       "      <td>0.005564</td>\n",
       "      <td>0.011311</td>\n",
       "      <td>-0.001776</td>\n",
       "      <td>0.027448</td>\n",
       "      <td>...</td>\n",
       "      <td>-0.001814</td>\n",
       "      <td>0.005313</td>\n",
       "      <td>0.012352</td>\n",
       "      <td>-0.004947</td>\n",
       "      <td>0.014314</td>\n",
       "      <td>0.020455</td>\n",
       "      <td>0.020587</td>\n",
       "      <td>0.009938</td>\n",
       "      <td>5.207457e-04</td>\n",
       "      <td>-0.002337</td>\n",
       "    </tr>\n",
       "    <tr>\n",
       "      <th>20191226</th>\n",
       "      <td>0.008216</td>\n",
       "      <td>0.012567</td>\n",
       "      <td>-0.003960</td>\n",
       "      <td>0.010124</td>\n",
       "      <td>-0.006158</td>\n",
       "      <td>0.010075</td>\n",
       "      <td>0.004988</td>\n",
       "      <td>0.000648</td>\n",
       "      <td>0.006701</td>\n",
       "      <td>-0.016480</td>\n",
       "      <td>...</td>\n",
       "      <td>-0.002736</td>\n",
       "      <td>-0.001221</td>\n",
       "      <td>-0.003960</td>\n",
       "      <td>0.006497</td>\n",
       "      <td>-0.011536</td>\n",
       "      <td>0.009627</td>\n",
       "      <td>-0.010195</td>\n",
       "      <td>0.002533</td>\n",
       "      <td>1.718354e-04</td>\n",
       "      <td>-0.004972</td>\n",
       "    </tr>\n",
       "    <tr>\n",
       "      <th>20191227</th>\n",
       "      <td>-0.006884</td>\n",
       "      <td>0.000370</td>\n",
       "      <td>0.026123</td>\n",
       "      <td>-0.027488</td>\n",
       "      <td>-0.025903</td>\n",
       "      <td>-0.024638</td>\n",
       "      <td>-0.020506</td>\n",
       "      <td>-0.026813</td>\n",
       "      <td>0.008781</td>\n",
       "      <td>-0.008631</td>\n",
       "      <td>...</td>\n",
       "      <td>-0.005099</td>\n",
       "      <td>-0.014806</td>\n",
       "      <td>-0.022674</td>\n",
       "      <td>-0.033631</td>\n",
       "      <td>-0.011510</td>\n",
       "      <td>-0.028005</td>\n",
       "      <td>0.013689</td>\n",
       "      <td>-0.029683</td>\n",
       "      <td>2.492982e-02</td>\n",
       "      <td>-0.031205</td>\n",
       "    </tr>\n",
       "    <tr>\n",
       "      <th>20191230</th>\n",
       "      <td>0.015402</td>\n",
       "      <td>0.004844</td>\n",
       "      <td>0.008080</td>\n",
       "      <td>0.004844</td>\n",
       "      <td>0.023988</td>\n",
       "      <td>0.022512</td>\n",
       "      <td>0.003717</td>\n",
       "      <td>0.014234</td>\n",
       "      <td>-0.014947</td>\n",
       "      <td>0.031914</td>\n",
       "      <td>...</td>\n",
       "      <td>0.021980</td>\n",
       "      <td>0.004844</td>\n",
       "      <td>-0.006650</td>\n",
       "      <td>-0.011156</td>\n",
       "      <td>0.030485</td>\n",
       "      <td>0.021328</td>\n",
       "      <td>0.012242</td>\n",
       "      <td>-0.001778</td>\n",
       "      <td>1.484417e-02</td>\n",
       "      <td>-0.003480</td>\n",
       "    </tr>\n",
       "  </tbody>\n",
       "</table>\n",
       "<p>2466 rows × 113 columns</p>\n",
       "</div>"
      ],
      "text/plain": [
       "             삼양홀딩스      유한양행    CJ대한통운        두산      대림산업  한국테크놀로지그룹  \\\n",
       "20100104 -0.002808 -0.018529 -0.046101 -0.033509  0.017940  -0.024881   \n",
       "20100105 -0.002681  0.008590  0.001074  0.000753 -0.006470  -0.041025   \n",
       "20100106 -0.016060  0.003080  0.028553  0.046807  0.011906  -0.014452   \n",
       "20100107 -0.000886  0.006572  0.018501  0.042569  0.012635  -0.010329   \n",
       "20100108 -0.008403 -0.014540  0.011568  0.058574  0.004365   0.002605   \n",
       "...            ...       ...       ...       ...       ...        ...   \n",
       "20191223  0.010850  0.009773 -0.011539  0.008582  0.001490  -0.008927   \n",
       "20191224  0.022137  0.000521 -0.003220  0.006681  0.000131   0.006681   \n",
       "20191226  0.008216  0.012567 -0.003960  0.010124 -0.006158   0.010075   \n",
       "20191227 -0.006884  0.000370  0.026123 -0.027488 -0.025903  -0.024638   \n",
       "20191230  0.015402  0.004844  0.008080  0.004844  0.023988   0.022512   \n",
       "\n",
       "               기아차  동아쏘시오홀딩스    SK하이닉스        영풍  ...     현대백화점    한국금융지주  \\\n",
       "20100104  0.030106  0.031618  0.033737 -0.007300  ... -0.002856  0.015088   \n",
       "20100105 -0.052380 -0.030805 -0.028212 -0.030484  ... -0.041339  0.013127   \n",
       "20100106  0.001966 -0.035338  0.043180 -0.031849  ... -0.031360 -0.016883   \n",
       "20100107 -0.030385  0.022925  0.008845  0.011231  ...  0.019695 -0.005453   \n",
       "20100108  0.015008 -0.014007  0.004146 -0.009838  ... -0.029685  0.060864   \n",
       "...            ...       ...       ...       ...  ...       ...       ...   \n",
       "20191223  0.002609  0.015574 -0.002721 -0.001695  ...  0.000278  0.008377   \n",
       "20191224  0.005564  0.011311 -0.001776  0.027448  ... -0.001814  0.005313   \n",
       "20191226  0.004988  0.000648  0.006701 -0.016480  ... -0.002736 -0.001221   \n",
       "20191227 -0.020506 -0.026813  0.008781 -0.008631  ... -0.005099 -0.014806   \n",
       "20191230  0.003717  0.014234 -0.014947  0.031914  ...  0.021980  0.004844   \n",
       "\n",
       "                GS    하나금융지주    아모레퍼시픽        LF        후성   SK이노베이션  \\\n",
       "20100104 -0.008779  0.006378  0.001263  0.003794 -0.013965 -0.011555   \n",
       "20100105  0.007353  0.019400 -0.025747 -0.036277 -0.003533  0.041370   \n",
       "20100106  0.002112 -0.008212 -0.068328 -0.016369  0.006104 -0.004097   \n",
       "20100107  0.025174  0.001681 -0.007132  0.006732  0.022945  0.010857   \n",
       "20100108 -0.010435 -0.003111 -0.021566  0.003850 -0.001080  0.002130   \n",
       "...            ...       ...       ...       ...       ...       ...   \n",
       "20191223  0.007193  0.005381 -0.023324 -0.001257 -0.025570  0.001490   \n",
       "20191224  0.012352 -0.004947  0.014314  0.020455  0.020587  0.009938   \n",
       "20191226 -0.003960  0.006497 -0.011536  0.009627 -0.010195  0.002533   \n",
       "20191227 -0.022674 -0.033631 -0.011510 -0.028005  0.013689 -0.029683   \n",
       "20191230 -0.006650 -0.011156  0.030485  0.021328  0.012242 -0.001778   \n",
       "\n",
       "                CJ제일제당      KB금융  \n",
       "20100104 -7.299270e-07 -0.012325  \n",
       "20100105  6.571034e-02 -0.008876  \n",
       "20100106 -5.939443e-03 -0.011619  \n",
       "20100107  3.617400e-03  0.002989  \n",
       "20100108 -6.100041e-03 -0.004370  \n",
       "...                ...       ...  \n",
       "20191223  9.771533e-03  0.018819  \n",
       "20191224  5.207457e-04 -0.002337  \n",
       "20191226  1.718354e-04 -0.004972  \n",
       "20191227  2.492982e-02 -0.031205  \n",
       "20191230  1.484417e-02 -0.003480  \n",
       "\n",
       "[2466 rows x 113 columns]"
      ]
     },
     "execution_count": 21,
     "metadata": {},
     "output_type": "execute_result"
    }
   ],
   "source": [
    "de_rm_df"
   ]
  },
  {
   "cell_type": "markdown",
   "metadata": {},
   "source": [
    "## Figure 7 Event time Returns"
   ]
  },
  {
   "cell_type": "markdown",
   "metadata": {},
   "source": [
    "This figure plots the weighted average cumulative abnormal return for the top (highest similarity) and\n",
    "bottom (lowest similarity) quintile portfolios.\n",
    "\n",
    "naive하게 3월말에 포트폴리오를 확정해서 추이를 살펴본다고 해보자. 실제로 월별 변경내용을 확인하면 대부분이 3월, 간혹 4월 존재\n",
    "\n",
    "2011년 6월에 최종수치변경되므로 2012년 3월말부터 해본다"
   ]
  },
  {
   "cell_type": "code",
   "execution_count": 22,
   "metadata": {},
   "outputs": [
    {
     "data": {
      "text/html": [
       "<div>\n",
       "<style scoped>\n",
       "    .dataframe tbody tr th:only-of-type {\n",
       "        vertical-align: middle;\n",
       "    }\n",
       "\n",
       "    .dataframe tbody tr th {\n",
       "        vertical-align: top;\n",
       "    }\n",
       "\n",
       "    .dataframe thead th {\n",
       "        text-align: right;\n",
       "    }\n",
       "</style>\n",
       "<table border=\"1\" class=\"dataframe\">\n",
       "  <thead>\n",
       "    <tr style=\"text-align: right;\">\n",
       "      <th></th>\n",
       "      <th>삼양홀딩스</th>\n",
       "      <th>유한양행</th>\n",
       "      <th>CJ대한통운</th>\n",
       "      <th>두산</th>\n",
       "      <th>대림산업</th>\n",
       "      <th>한국테크놀로지그룹</th>\n",
       "      <th>기아차</th>\n",
       "      <th>동아쏘시오홀딩스</th>\n",
       "      <th>SK하이닉스</th>\n",
       "      <th>영풍</th>\n",
       "      <th>...</th>\n",
       "      <th>현대백화점</th>\n",
       "      <th>한국금융지주</th>\n",
       "      <th>GS</th>\n",
       "      <th>하나금융지주</th>\n",
       "      <th>아모레퍼시픽</th>\n",
       "      <th>LF</th>\n",
       "      <th>후성</th>\n",
       "      <th>SK이노베이션</th>\n",
       "      <th>CJ제일제당</th>\n",
       "      <th>KB금융</th>\n",
       "    </tr>\n",
       "  </thead>\n",
       "  <tbody>\n",
       "    <tr>\n",
       "      <th>20110731</th>\n",
       "      <td>NaN</td>\n",
       "      <td>NaN</td>\n",
       "      <td>NaN</td>\n",
       "      <td>NaN</td>\n",
       "      <td>NaN</td>\n",
       "      <td>NaN</td>\n",
       "      <td>NaN</td>\n",
       "      <td>NaN</td>\n",
       "      <td>NaN</td>\n",
       "      <td>NaN</td>\n",
       "      <td>...</td>\n",
       "      <td>NaN</td>\n",
       "      <td>NaN</td>\n",
       "      <td>NaN</td>\n",
       "      <td>NaN</td>\n",
       "      <td>NaN</td>\n",
       "      <td>NaN</td>\n",
       "      <td>NaN</td>\n",
       "      <td>NaN</td>\n",
       "      <td>NaN</td>\n",
       "      <td>NaN</td>\n",
       "    </tr>\n",
       "    <tr>\n",
       "      <th>20110831</th>\n",
       "      <td>0.0</td>\n",
       "      <td>0.0</td>\n",
       "      <td>0.0</td>\n",
       "      <td>0.0</td>\n",
       "      <td>0.0</td>\n",
       "      <td>0.0</td>\n",
       "      <td>0.0</td>\n",
       "      <td>0.0</td>\n",
       "      <td>0.0</td>\n",
       "      <td>0.0</td>\n",
       "      <td>...</td>\n",
       "      <td>0.0</td>\n",
       "      <td>0.0</td>\n",
       "      <td>0.0</td>\n",
       "      <td>0.0</td>\n",
       "      <td>0.0</td>\n",
       "      <td>0.0</td>\n",
       "      <td>0.0</td>\n",
       "      <td>0.0</td>\n",
       "      <td>0.0</td>\n",
       "      <td>0.0</td>\n",
       "    </tr>\n",
       "    <tr>\n",
       "      <th>20110930</th>\n",
       "      <td>0.0</td>\n",
       "      <td>0.0</td>\n",
       "      <td>0.0</td>\n",
       "      <td>0.0</td>\n",
       "      <td>0.0</td>\n",
       "      <td>0.0</td>\n",
       "      <td>0.0</td>\n",
       "      <td>0.0</td>\n",
       "      <td>0.0</td>\n",
       "      <td>0.0</td>\n",
       "      <td>...</td>\n",
       "      <td>0.0</td>\n",
       "      <td>0.0</td>\n",
       "      <td>0.0</td>\n",
       "      <td>0.0</td>\n",
       "      <td>0.0</td>\n",
       "      <td>0.0</td>\n",
       "      <td>0.0</td>\n",
       "      <td>0.0</td>\n",
       "      <td>0.0</td>\n",
       "      <td>0.0</td>\n",
       "    </tr>\n",
       "    <tr>\n",
       "      <th>20111031</th>\n",
       "      <td>0.0</td>\n",
       "      <td>0.0</td>\n",
       "      <td>0.0</td>\n",
       "      <td>0.0</td>\n",
       "      <td>0.0</td>\n",
       "      <td>0.0</td>\n",
       "      <td>0.0</td>\n",
       "      <td>0.0</td>\n",
       "      <td>0.0</td>\n",
       "      <td>0.0</td>\n",
       "      <td>...</td>\n",
       "      <td>0.0</td>\n",
       "      <td>0.0</td>\n",
       "      <td>0.0</td>\n",
       "      <td>0.0</td>\n",
       "      <td>0.0</td>\n",
       "      <td>0.0</td>\n",
       "      <td>0.0</td>\n",
       "      <td>0.0</td>\n",
       "      <td>0.0</td>\n",
       "      <td>0.0</td>\n",
       "    </tr>\n",
       "    <tr>\n",
       "      <th>20111130</th>\n",
       "      <td>0.0</td>\n",
       "      <td>0.0</td>\n",
       "      <td>0.0</td>\n",
       "      <td>0.0</td>\n",
       "      <td>0.0</td>\n",
       "      <td>0.0</td>\n",
       "      <td>0.0</td>\n",
       "      <td>0.0</td>\n",
       "      <td>0.0</td>\n",
       "      <td>0.0</td>\n",
       "      <td>...</td>\n",
       "      <td>0.0</td>\n",
       "      <td>0.0</td>\n",
       "      <td>0.0</td>\n",
       "      <td>0.0</td>\n",
       "      <td>0.0</td>\n",
       "      <td>0.0</td>\n",
       "      <td>0.0</td>\n",
       "      <td>0.0</td>\n",
       "      <td>0.0</td>\n",
       "      <td>0.0</td>\n",
       "    </tr>\n",
       "  </tbody>\n",
       "</table>\n",
       "<p>5 rows × 113 columns</p>\n",
       "</div>"
      ],
      "text/plain": [
       "          삼양홀딩스  유한양행  CJ대한통운   두산  대림산업  한국테크놀로지그룹  기아차  동아쏘시오홀딩스  SK하이닉스  \\\n",
       "20110731    NaN   NaN     NaN  NaN   NaN        NaN  NaN       NaN     NaN   \n",
       "20110831    0.0   0.0     0.0  0.0   0.0        0.0  0.0       0.0     0.0   \n",
       "20110930    0.0   0.0     0.0  0.0   0.0        0.0  0.0       0.0     0.0   \n",
       "20111031    0.0   0.0     0.0  0.0   0.0        0.0  0.0       0.0     0.0   \n",
       "20111130    0.0   0.0     0.0  0.0   0.0        0.0  0.0       0.0     0.0   \n",
       "\n",
       "           영풍  ...  현대백화점  한국금융지주   GS  하나금융지주  아모레퍼시픽   LF   후성  SK이노베이션  \\\n",
       "20110731  NaN  ...    NaN     NaN  NaN     NaN     NaN  NaN  NaN      NaN   \n",
       "20110831  0.0  ...    0.0     0.0  0.0     0.0     0.0  0.0  0.0      0.0   \n",
       "20110930  0.0  ...    0.0     0.0  0.0     0.0     0.0  0.0  0.0      0.0   \n",
       "20111031  0.0  ...    0.0     0.0  0.0     0.0     0.0  0.0  0.0      0.0   \n",
       "20111130  0.0  ...    0.0     0.0  0.0     0.0     0.0  0.0  0.0      0.0   \n",
       "\n",
       "          CJ제일제당  KB금융  \n",
       "20110731     NaN   NaN  \n",
       "20110831     0.0   0.0  \n",
       "20110930     0.0   0.0  \n",
       "20111031     0.0   0.0  \n",
       "20111130     0.0   0.0  \n",
       "\n",
       "[5 rows x 113 columns]"
      ]
     },
     "execution_count": 22,
     "metadata": {},
     "output_type": "execute_result"
    }
   ],
   "source": [
    "monthly_df.loc[20150131:,:].diff()\n",
    "monthly_df.head().diff()"
   ]
  },
  {
   "cell_type": "code",
   "execution_count": 23,
   "metadata": {},
   "outputs": [
    {
     "data": {
      "text/html": [
       "<div>\n",
       "<style scoped>\n",
       "    .dataframe tbody tr th:only-of-type {\n",
       "        vertical-align: middle;\n",
       "    }\n",
       "\n",
       "    .dataframe tbody tr th {\n",
       "        vertical-align: top;\n",
       "    }\n",
       "\n",
       "    .dataframe thead th {\n",
       "        text-align: right;\n",
       "    }\n",
       "</style>\n",
       "<table border=\"1\" class=\"dataframe\">\n",
       "  <thead>\n",
       "    <tr style=\"text-align: right;\">\n",
       "      <th></th>\n",
       "      <th>삼양홀딩스</th>\n",
       "      <th>유한양행</th>\n",
       "      <th>CJ대한통운</th>\n",
       "      <th>두산</th>\n",
       "      <th>대림산업</th>\n",
       "      <th>한국테크놀로지그룹</th>\n",
       "      <th>기아차</th>\n",
       "      <th>동아쏘시오홀딩스</th>\n",
       "      <th>SK하이닉스</th>\n",
       "      <th>영풍</th>\n",
       "      <th>...</th>\n",
       "      <th>현대백화점</th>\n",
       "      <th>한국금융지주</th>\n",
       "      <th>GS</th>\n",
       "      <th>하나금융지주</th>\n",
       "      <th>아모레퍼시픽</th>\n",
       "      <th>LF</th>\n",
       "      <th>후성</th>\n",
       "      <th>SK이노베이션</th>\n",
       "      <th>CJ제일제당</th>\n",
       "      <th>KB금융</th>\n",
       "    </tr>\n",
       "  </thead>\n",
       "  <tbody>\n",
       "    <tr>\n",
       "      <th>20100104</th>\n",
       "      <td>-0.002808</td>\n",
       "      <td>-0.018529</td>\n",
       "      <td>-0.046101</td>\n",
       "      <td>-0.033509</td>\n",
       "      <td>0.017940</td>\n",
       "      <td>-0.024881</td>\n",
       "      <td>0.030106</td>\n",
       "      <td>0.031618</td>\n",
       "      <td>0.033737</td>\n",
       "      <td>-0.007300</td>\n",
       "      <td>...</td>\n",
       "      <td>-0.002856</td>\n",
       "      <td>0.015088</td>\n",
       "      <td>-0.008779</td>\n",
       "      <td>0.006378</td>\n",
       "      <td>0.001263</td>\n",
       "      <td>0.003794</td>\n",
       "      <td>-0.013965</td>\n",
       "      <td>-0.011555</td>\n",
       "      <td>-7.299270e-07</td>\n",
       "      <td>-0.012325</td>\n",
       "    </tr>\n",
       "    <tr>\n",
       "      <th>20100105</th>\n",
       "      <td>-0.002681</td>\n",
       "      <td>0.008590</td>\n",
       "      <td>0.001074</td>\n",
       "      <td>0.000753</td>\n",
       "      <td>-0.006470</td>\n",
       "      <td>-0.041025</td>\n",
       "      <td>-0.052380</td>\n",
       "      <td>-0.030805</td>\n",
       "      <td>-0.028212</td>\n",
       "      <td>-0.030484</td>\n",
       "      <td>...</td>\n",
       "      <td>-0.041339</td>\n",
       "      <td>0.013127</td>\n",
       "      <td>0.007353</td>\n",
       "      <td>0.019400</td>\n",
       "      <td>-0.025747</td>\n",
       "      <td>-0.036277</td>\n",
       "      <td>-0.003533</td>\n",
       "      <td>0.041370</td>\n",
       "      <td>6.571034e-02</td>\n",
       "      <td>-0.008876</td>\n",
       "    </tr>\n",
       "    <tr>\n",
       "      <th>20100106</th>\n",
       "      <td>-0.016060</td>\n",
       "      <td>0.003080</td>\n",
       "      <td>0.028553</td>\n",
       "      <td>0.046807</td>\n",
       "      <td>0.011906</td>\n",
       "      <td>-0.014452</td>\n",
       "      <td>0.001966</td>\n",
       "      <td>-0.035338</td>\n",
       "      <td>0.043180</td>\n",
       "      <td>-0.031849</td>\n",
       "      <td>...</td>\n",
       "      <td>-0.031360</td>\n",
       "      <td>-0.016883</td>\n",
       "      <td>0.002112</td>\n",
       "      <td>-0.008212</td>\n",
       "      <td>-0.068328</td>\n",
       "      <td>-0.016369</td>\n",
       "      <td>0.006104</td>\n",
       "      <td>-0.004097</td>\n",
       "      <td>-5.939443e-03</td>\n",
       "      <td>-0.011619</td>\n",
       "    </tr>\n",
       "    <tr>\n",
       "      <th>20100107</th>\n",
       "      <td>-0.000886</td>\n",
       "      <td>0.006572</td>\n",
       "      <td>0.018501</td>\n",
       "      <td>0.042569</td>\n",
       "      <td>0.012635</td>\n",
       "      <td>-0.010329</td>\n",
       "      <td>-0.030385</td>\n",
       "      <td>0.022925</td>\n",
       "      <td>0.008845</td>\n",
       "      <td>0.011231</td>\n",
       "      <td>...</td>\n",
       "      <td>0.019695</td>\n",
       "      <td>-0.005453</td>\n",
       "      <td>0.025174</td>\n",
       "      <td>0.001681</td>\n",
       "      <td>-0.007132</td>\n",
       "      <td>0.006732</td>\n",
       "      <td>0.022945</td>\n",
       "      <td>0.010857</td>\n",
       "      <td>3.617400e-03</td>\n",
       "      <td>0.002989</td>\n",
       "    </tr>\n",
       "    <tr>\n",
       "      <th>20100108</th>\n",
       "      <td>-0.008403</td>\n",
       "      <td>-0.014540</td>\n",
       "      <td>0.011568</td>\n",
       "      <td>0.058574</td>\n",
       "      <td>0.004365</td>\n",
       "      <td>0.002605</td>\n",
       "      <td>0.015008</td>\n",
       "      <td>-0.014007</td>\n",
       "      <td>0.004146</td>\n",
       "      <td>-0.009838</td>\n",
       "      <td>...</td>\n",
       "      <td>-0.029685</td>\n",
       "      <td>0.060864</td>\n",
       "      <td>-0.010435</td>\n",
       "      <td>-0.003111</td>\n",
       "      <td>-0.021566</td>\n",
       "      <td>0.003850</td>\n",
       "      <td>-0.001080</td>\n",
       "      <td>0.002130</td>\n",
       "      <td>-6.100041e-03</td>\n",
       "      <td>-0.004370</td>\n",
       "    </tr>\n",
       "  </tbody>\n",
       "</table>\n",
       "<p>5 rows × 113 columns</p>\n",
       "</div>"
      ],
      "text/plain": [
       "             삼양홀딩스      유한양행    CJ대한통운        두산      대림산업  한국테크놀로지그룹  \\\n",
       "20100104 -0.002808 -0.018529 -0.046101 -0.033509  0.017940  -0.024881   \n",
       "20100105 -0.002681  0.008590  0.001074  0.000753 -0.006470  -0.041025   \n",
       "20100106 -0.016060  0.003080  0.028553  0.046807  0.011906  -0.014452   \n",
       "20100107 -0.000886  0.006572  0.018501  0.042569  0.012635  -0.010329   \n",
       "20100108 -0.008403 -0.014540  0.011568  0.058574  0.004365   0.002605   \n",
       "\n",
       "               기아차  동아쏘시오홀딩스    SK하이닉스        영풍  ...     현대백화점    한국금융지주  \\\n",
       "20100104  0.030106  0.031618  0.033737 -0.007300  ... -0.002856  0.015088   \n",
       "20100105 -0.052380 -0.030805 -0.028212 -0.030484  ... -0.041339  0.013127   \n",
       "20100106  0.001966 -0.035338  0.043180 -0.031849  ... -0.031360 -0.016883   \n",
       "20100107 -0.030385  0.022925  0.008845  0.011231  ...  0.019695 -0.005453   \n",
       "20100108  0.015008 -0.014007  0.004146 -0.009838  ... -0.029685  0.060864   \n",
       "\n",
       "                GS    하나금융지주    아모레퍼시픽        LF        후성   SK이노베이션  \\\n",
       "20100104 -0.008779  0.006378  0.001263  0.003794 -0.013965 -0.011555   \n",
       "20100105  0.007353  0.019400 -0.025747 -0.036277 -0.003533  0.041370   \n",
       "20100106  0.002112 -0.008212 -0.068328 -0.016369  0.006104 -0.004097   \n",
       "20100107  0.025174  0.001681 -0.007132  0.006732  0.022945  0.010857   \n",
       "20100108 -0.010435 -0.003111 -0.021566  0.003850 -0.001080  0.002130   \n",
       "\n",
       "                CJ제일제당      KB금융  \n",
       "20100104 -7.299270e-07 -0.012325  \n",
       "20100105  6.571034e-02 -0.008876  \n",
       "20100106 -5.939443e-03 -0.011619  \n",
       "20100107  3.617400e-03  0.002989  \n",
       "20100108 -6.100041e-03 -0.004370  \n",
       "\n",
       "[5 rows x 113 columns]"
      ]
     },
     "execution_count": 23,
     "metadata": {},
     "output_type": "execute_result"
    }
   ],
   "source": [
    "de_rm_df.head()"
   ]
  },
  {
   "cell_type": "code",
   "execution_count": 27,
   "metadata": {},
   "outputs": [
    {
     "data": {
      "text/plain": [
       "((1926, 113), (1926, 113))"
      ]
     },
     "execution_count": 27,
     "metadata": {},
     "output_type": "execute_result"
    }
   ],
   "source": [
    "ret_df = de_rm_df.loc[20120300:].copy()\n",
    "sim_df = concat_df.loc[ret_df.index].copy()\n",
    "\n",
    "ret_df.shape, sim_df.shape"
   ]
  },
  {
   "cell_type": "code",
   "execution_count": 28,
   "metadata": {},
   "outputs": [
    {
     "data": {
      "text/html": [
       "<div>\n",
       "<style scoped>\n",
       "    .dataframe tbody tr th:only-of-type {\n",
       "        vertical-align: middle;\n",
       "    }\n",
       "\n",
       "    .dataframe tbody tr th {\n",
       "        vertical-align: top;\n",
       "    }\n",
       "\n",
       "    .dataframe thead th {\n",
       "        text-align: right;\n",
       "    }\n",
       "</style>\n",
       "<table border=\"1\" class=\"dataframe\">\n",
       "  <thead>\n",
       "    <tr style=\"text-align: right;\">\n",
       "      <th></th>\n",
       "      <th>삼양홀딩스</th>\n",
       "      <th>유한양행</th>\n",
       "      <th>CJ대한통운</th>\n",
       "      <th>두산</th>\n",
       "      <th>대림산업</th>\n",
       "      <th>한국테크놀로지그룹</th>\n",
       "      <th>기아차</th>\n",
       "      <th>동아쏘시오홀딩스</th>\n",
       "      <th>SK하이닉스</th>\n",
       "      <th>영풍</th>\n",
       "      <th>...</th>\n",
       "      <th>현대백화점</th>\n",
       "      <th>한국금융지주</th>\n",
       "      <th>GS</th>\n",
       "      <th>하나금융지주</th>\n",
       "      <th>아모레퍼시픽</th>\n",
       "      <th>LF</th>\n",
       "      <th>후성</th>\n",
       "      <th>SK이노베이션</th>\n",
       "      <th>CJ제일제당</th>\n",
       "      <th>KB금융</th>\n",
       "    </tr>\n",
       "  </thead>\n",
       "  <tbody>\n",
       "    <tr>\n",
       "      <th>20120302</th>\n",
       "      <td>0.017876</td>\n",
       "      <td>0.007172</td>\n",
       "      <td>0.026851</td>\n",
       "      <td>-0.001198</td>\n",
       "      <td>0.002770</td>\n",
       "      <td>-0.002376</td>\n",
       "      <td>0.012946</td>\n",
       "      <td>-0.003554</td>\n",
       "      <td>0.007080</td>\n",
       "      <td>0.048763</td>\n",
       "      <td>...</td>\n",
       "      <td>0.001796</td>\n",
       "      <td>0.014272</td>\n",
       "      <td>0.011186</td>\n",
       "      <td>-0.012605</td>\n",
       "      <td>-0.008993</td>\n",
       "      <td>0.015469</td>\n",
       "      <td>0.013098</td>\n",
       "      <td>0.001497</td>\n",
       "      <td>0.037682</td>\n",
       "      <td>0.004870</td>\n",
       "    </tr>\n",
       "    <tr>\n",
       "      <th>20120305</th>\n",
       "      <td>-0.009958</td>\n",
       "      <td>-0.014797</td>\n",
       "      <td>0.006537</td>\n",
       "      <td>0.001348</td>\n",
       "      <td>-0.037335</td>\n",
       "      <td>0.003112</td>\n",
       "      <td>0.008701</td>\n",
       "      <td>-0.001699</td>\n",
       "      <td>-0.003041</td>\n",
       "      <td>-0.021131</td>\n",
       "      <td>...</td>\n",
       "      <td>0.030991</td>\n",
       "      <td>0.018800</td>\n",
       "      <td>-0.003666</td>\n",
       "      <td>0.012659</td>\n",
       "      <td>0.036621</td>\n",
       "      <td>-0.019179</td>\n",
       "      <td>0.004486</td>\n",
       "      <td>-0.019475</td>\n",
       "      <td>0.028059</td>\n",
       "      <td>-0.001967</td>\n",
       "    </tr>\n",
       "    <tr>\n",
       "      <th>20120306</th>\n",
       "      <td>0.012634</td>\n",
       "      <td>0.007177</td>\n",
       "      <td>-0.019014</td>\n",
       "      <td>-0.004583</td>\n",
       "      <td>0.007177</td>\n",
       "      <td>0.036588</td>\n",
       "      <td>0.012763</td>\n",
       "      <td>0.021502</td>\n",
       "      <td>-0.014454</td>\n",
       "      <td>-0.012010</td>\n",
       "      <td>...</td>\n",
       "      <td>0.001329</td>\n",
       "      <td>-0.020871</td>\n",
       "      <td>-0.006777</td>\n",
       "      <td>0.025079</td>\n",
       "      <td>0.018657</td>\n",
       "      <td>-0.018155</td>\n",
       "      <td>-0.014085</td>\n",
       "      <td>-0.009444</td>\n",
       "      <td>-0.026647</td>\n",
       "      <td>-0.005033</td>\n",
       "    </tr>\n",
       "    <tr>\n",
       "      <th>20120307</th>\n",
       "      <td>0.000013</td>\n",
       "      <td>-0.007514</td>\n",
       "      <td>0.002176</td>\n",
       "      <td>-0.002395</td>\n",
       "      <td>0.005362</td>\n",
       "      <td>-0.021368</td>\n",
       "      <td>-0.004378</td>\n",
       "      <td>-0.012836</td>\n",
       "      <td>-0.000693</td>\n",
       "      <td>-0.031177</td>\n",
       "      <td>...</td>\n",
       "      <td>0.012452</td>\n",
       "      <td>-0.024895</td>\n",
       "      <td>0.001649</td>\n",
       "      <td>-0.006821</td>\n",
       "      <td>0.013294</td>\n",
       "      <td>0.052828</td>\n",
       "      <td>0.010989</td>\n",
       "      <td>-0.013024</td>\n",
       "      <td>0.000379</td>\n",
       "      <td>0.007039</td>\n",
       "    </tr>\n",
       "    <tr>\n",
       "      <th>20120308</th>\n",
       "      <td>-0.010972</td>\n",
       "      <td>-0.031247</td>\n",
       "      <td>-0.007139</td>\n",
       "      <td>-0.003577</td>\n",
       "      <td>0.007064</td>\n",
       "      <td>-0.014318</td>\n",
       "      <td>0.011524</td>\n",
       "      <td>-0.005995</td>\n",
       "      <td>0.012734</td>\n",
       "      <td>-0.071593</td>\n",
       "      <td>...</td>\n",
       "      <td>-0.000805</td>\n",
       "      <td>0.024880</td>\n",
       "      <td>0.007830</td>\n",
       "      <td>0.028712</td>\n",
       "      <td>-0.013372</td>\n",
       "      <td>-0.029769</td>\n",
       "      <td>-0.022735</td>\n",
       "      <td>0.004807</td>\n",
       "      <td>-0.017283</td>\n",
       "      <td>0.011463</td>\n",
       "    </tr>\n",
       "    <tr>\n",
       "      <th>...</th>\n",
       "      <td>...</td>\n",
       "      <td>...</td>\n",
       "      <td>...</td>\n",
       "      <td>...</td>\n",
       "      <td>...</td>\n",
       "      <td>...</td>\n",
       "      <td>...</td>\n",
       "      <td>...</td>\n",
       "      <td>...</td>\n",
       "      <td>...</td>\n",
       "      <td>...</td>\n",
       "      <td>...</td>\n",
       "      <td>...</td>\n",
       "      <td>...</td>\n",
       "      <td>...</td>\n",
       "      <td>...</td>\n",
       "      <td>...</td>\n",
       "      <td>...</td>\n",
       "      <td>...</td>\n",
       "      <td>...</td>\n",
       "      <td>...</td>\n",
       "    </tr>\n",
       "    <tr>\n",
       "      <th>20191223</th>\n",
       "      <td>0.010850</td>\n",
       "      <td>0.009773</td>\n",
       "      <td>-0.011539</td>\n",
       "      <td>0.008582</td>\n",
       "      <td>0.001490</td>\n",
       "      <td>-0.008927</td>\n",
       "      <td>0.002609</td>\n",
       "      <td>0.015574</td>\n",
       "      <td>-0.002721</td>\n",
       "      <td>-0.001695</td>\n",
       "      <td>...</td>\n",
       "      <td>0.000278</td>\n",
       "      <td>0.008377</td>\n",
       "      <td>0.007193</td>\n",
       "      <td>0.005381</td>\n",
       "      <td>-0.023324</td>\n",
       "      <td>-0.001257</td>\n",
       "      <td>-0.025570</td>\n",
       "      <td>0.001490</td>\n",
       "      <td>0.009772</td>\n",
       "      <td>0.018819</td>\n",
       "    </tr>\n",
       "    <tr>\n",
       "      <th>20191224</th>\n",
       "      <td>0.022137</td>\n",
       "      <td>0.000521</td>\n",
       "      <td>-0.003220</td>\n",
       "      <td>0.006681</td>\n",
       "      <td>0.000131</td>\n",
       "      <td>0.006681</td>\n",
       "      <td>0.005564</td>\n",
       "      <td>0.011311</td>\n",
       "      <td>-0.001776</td>\n",
       "      <td>0.027448</td>\n",
       "      <td>...</td>\n",
       "      <td>-0.001814</td>\n",
       "      <td>0.005313</td>\n",
       "      <td>0.012352</td>\n",
       "      <td>-0.004947</td>\n",
       "      <td>0.014314</td>\n",
       "      <td>0.020455</td>\n",
       "      <td>0.020587</td>\n",
       "      <td>0.009938</td>\n",
       "      <td>0.000521</td>\n",
       "      <td>-0.002337</td>\n",
       "    </tr>\n",
       "    <tr>\n",
       "      <th>20191226</th>\n",
       "      <td>0.008216</td>\n",
       "      <td>0.012567</td>\n",
       "      <td>-0.003960</td>\n",
       "      <td>0.010124</td>\n",
       "      <td>-0.006158</td>\n",
       "      <td>0.010075</td>\n",
       "      <td>0.004988</td>\n",
       "      <td>0.000648</td>\n",
       "      <td>0.006701</td>\n",
       "      <td>-0.016480</td>\n",
       "      <td>...</td>\n",
       "      <td>-0.002736</td>\n",
       "      <td>-0.001221</td>\n",
       "      <td>-0.003960</td>\n",
       "      <td>0.006497</td>\n",
       "      <td>-0.011536</td>\n",
       "      <td>0.009627</td>\n",
       "      <td>-0.010195</td>\n",
       "      <td>0.002533</td>\n",
       "      <td>0.000172</td>\n",
       "      <td>-0.004972</td>\n",
       "    </tr>\n",
       "    <tr>\n",
       "      <th>20191227</th>\n",
       "      <td>-0.006884</td>\n",
       "      <td>0.000370</td>\n",
       "      <td>0.026123</td>\n",
       "      <td>-0.027488</td>\n",
       "      <td>-0.025903</td>\n",
       "      <td>-0.024638</td>\n",
       "      <td>-0.020506</td>\n",
       "      <td>-0.026813</td>\n",
       "      <td>0.008781</td>\n",
       "      <td>-0.008631</td>\n",
       "      <td>...</td>\n",
       "      <td>-0.005099</td>\n",
       "      <td>-0.014806</td>\n",
       "      <td>-0.022674</td>\n",
       "      <td>-0.033631</td>\n",
       "      <td>-0.011510</td>\n",
       "      <td>-0.028005</td>\n",
       "      <td>0.013689</td>\n",
       "      <td>-0.029683</td>\n",
       "      <td>0.024930</td>\n",
       "      <td>-0.031205</td>\n",
       "    </tr>\n",
       "    <tr>\n",
       "      <th>20191230</th>\n",
       "      <td>0.015402</td>\n",
       "      <td>0.004844</td>\n",
       "      <td>0.008080</td>\n",
       "      <td>0.004844</td>\n",
       "      <td>0.023988</td>\n",
       "      <td>0.022512</td>\n",
       "      <td>0.003717</td>\n",
       "      <td>0.014234</td>\n",
       "      <td>-0.014947</td>\n",
       "      <td>0.031914</td>\n",
       "      <td>...</td>\n",
       "      <td>0.021980</td>\n",
       "      <td>0.004844</td>\n",
       "      <td>-0.006650</td>\n",
       "      <td>-0.011156</td>\n",
       "      <td>0.030485</td>\n",
       "      <td>0.021328</td>\n",
       "      <td>0.012242</td>\n",
       "      <td>-0.001778</td>\n",
       "      <td>0.014844</td>\n",
       "      <td>-0.003480</td>\n",
       "    </tr>\n",
       "  </tbody>\n",
       "</table>\n",
       "<p>1926 rows × 113 columns</p>\n",
       "</div>"
      ],
      "text/plain": [
       "             삼양홀딩스      유한양행    CJ대한통운        두산      대림산업  한국테크놀로지그룹  \\\n",
       "20120302  0.017876  0.007172  0.026851 -0.001198  0.002770  -0.002376   \n",
       "20120305 -0.009958 -0.014797  0.006537  0.001348 -0.037335   0.003112   \n",
       "20120306  0.012634  0.007177 -0.019014 -0.004583  0.007177   0.036588   \n",
       "20120307  0.000013 -0.007514  0.002176 -0.002395  0.005362  -0.021368   \n",
       "20120308 -0.010972 -0.031247 -0.007139 -0.003577  0.007064  -0.014318   \n",
       "...            ...       ...       ...       ...       ...        ...   \n",
       "20191223  0.010850  0.009773 -0.011539  0.008582  0.001490  -0.008927   \n",
       "20191224  0.022137  0.000521 -0.003220  0.006681  0.000131   0.006681   \n",
       "20191226  0.008216  0.012567 -0.003960  0.010124 -0.006158   0.010075   \n",
       "20191227 -0.006884  0.000370  0.026123 -0.027488 -0.025903  -0.024638   \n",
       "20191230  0.015402  0.004844  0.008080  0.004844  0.023988   0.022512   \n",
       "\n",
       "               기아차  동아쏘시오홀딩스    SK하이닉스        영풍  ...     현대백화점    한국금융지주  \\\n",
       "20120302  0.012946 -0.003554  0.007080  0.048763  ...  0.001796  0.014272   \n",
       "20120305  0.008701 -0.001699 -0.003041 -0.021131  ...  0.030991  0.018800   \n",
       "20120306  0.012763  0.021502 -0.014454 -0.012010  ...  0.001329 -0.020871   \n",
       "20120307 -0.004378 -0.012836 -0.000693 -0.031177  ...  0.012452 -0.024895   \n",
       "20120308  0.011524 -0.005995  0.012734 -0.071593  ... -0.000805  0.024880   \n",
       "...            ...       ...       ...       ...  ...       ...       ...   \n",
       "20191223  0.002609  0.015574 -0.002721 -0.001695  ...  0.000278  0.008377   \n",
       "20191224  0.005564  0.011311 -0.001776  0.027448  ... -0.001814  0.005313   \n",
       "20191226  0.004988  0.000648  0.006701 -0.016480  ... -0.002736 -0.001221   \n",
       "20191227 -0.020506 -0.026813  0.008781 -0.008631  ... -0.005099 -0.014806   \n",
       "20191230  0.003717  0.014234 -0.014947  0.031914  ...  0.021980  0.004844   \n",
       "\n",
       "                GS    하나금융지주    아모레퍼시픽        LF        후성   SK이노베이션  \\\n",
       "20120302  0.011186 -0.012605 -0.008993  0.015469  0.013098  0.001497   \n",
       "20120305 -0.003666  0.012659  0.036621 -0.019179  0.004486 -0.019475   \n",
       "20120306 -0.006777  0.025079  0.018657 -0.018155 -0.014085 -0.009444   \n",
       "20120307  0.001649 -0.006821  0.013294  0.052828  0.010989 -0.013024   \n",
       "20120308  0.007830  0.028712 -0.013372 -0.029769 -0.022735  0.004807   \n",
       "...            ...       ...       ...       ...       ...       ...   \n",
       "20191223  0.007193  0.005381 -0.023324 -0.001257 -0.025570  0.001490   \n",
       "20191224  0.012352 -0.004947  0.014314  0.020455  0.020587  0.009938   \n",
       "20191226 -0.003960  0.006497 -0.011536  0.009627 -0.010195  0.002533   \n",
       "20191227 -0.022674 -0.033631 -0.011510 -0.028005  0.013689 -0.029683   \n",
       "20191230 -0.006650 -0.011156  0.030485  0.021328  0.012242 -0.001778   \n",
       "\n",
       "            CJ제일제당      KB금융  \n",
       "20120302  0.037682  0.004870  \n",
       "20120305  0.028059 -0.001967  \n",
       "20120306 -0.026647 -0.005033  \n",
       "20120307  0.000379  0.007039  \n",
       "20120308 -0.017283  0.011463  \n",
       "...            ...       ...  \n",
       "20191223  0.009772  0.018819  \n",
       "20191224  0.000521 -0.002337  \n",
       "20191226  0.000172 -0.004972  \n",
       "20191227  0.024930 -0.031205  \n",
       "20191230  0.014844 -0.003480  \n",
       "\n",
       "[1926 rows x 113 columns]"
      ]
     },
     "execution_count": 28,
     "metadata": {},
     "output_type": "execute_result"
    }
   ],
   "source": [
    "ret_df"
   ]
  },
  {
   "cell_type": "code",
   "execution_count": 29,
   "metadata": {},
   "outputs": [
    {
     "data": {
      "text/plain": [
       "(94, 113)"
      ]
     },
     "execution_count": 29,
     "metadata": {},
     "output_type": "execute_result"
    }
   ],
   "source": [
    "yyyymmdd_ls = [str(i)[:-2] for i in sim_df.index]\n",
    "idx_ls = []\n",
    "for idx in range(0,len(yyyymmdd_ls)-1) : \n",
    "    if yyyymmdd_ls[idx] != yyyymmdd_ls[idx+1] : \n",
    "        idx_ls.append(idx)\n",
    "idx_ls.append(-1)\n",
    "\n",
    "monthly_sim_df = sim_df.iloc[idx_ls]\n",
    "monthly_sim_df.shape"
   ]
  },
  {
   "cell_type": "code",
   "execution_count": 30,
   "metadata": {},
   "outputs": [],
   "source": [
    "def get_q_returns(days):\n",
    "    march_idx =[ x for x in range(0,94,12)] #3월에 해당되는 idx 추출\n",
    "    monthly_sim_df.iloc[march_idx,:]\n",
    "    q1_march_values = [get_q(monthly_sim_df,0,20).iloc[x,:].values for x in march_idx] #3월말 값들의 Q1 여부 8년치\n",
    "    q2_march_values = [get_q(monthly_sim_df,20,40).iloc[x,:].values for x in march_idx] #3월말 값들의 Q2 여부 8년치\n",
    "    q3_march_values = [get_q(monthly_sim_df,40,60).iloc[x,:].values for x in march_idx] #3월말 값들의 Q3 여부 8년치\n",
    "    q4_march_values = [get_q(monthly_sim_df,60,80).iloc[x,:].values for x in march_idx] #3월말 값들의 Q4 여부 8년치\n",
    "    q5_march_values = [get_q(monthly_sim_df,80,100).iloc[x,:].values for x in march_idx] #3월말 값들의 Q5 여부 8년치\n",
    "    \n",
    "    re_march_idx = [idx_ls[i] for i in range(0,len(idx_ls),12)] #return_df 의 3월말 idx값들 8년치\n",
    "\n",
    "    q1 = np.mean([((1+ret_df.iloc[i:i+days,:].cumsum())-1).iloc[-1,:][q1_march_values[idx]].mean() for idx,i in enumerate(re_march_idx)])\n",
    "    q2 = np.mean([((1+ret_df.iloc[i:i+days,:].cumsum())-1).iloc[-1,:][q2_march_values[idx]].mean() for idx,i in enumerate(re_march_idx)])\n",
    "    q3 = np.mean([((1+ret_df.iloc[i:i+days,:].cumsum())-1).iloc[-1,:][q3_march_values[idx]].mean() for idx,i in enumerate(re_march_idx)])\n",
    "    q4 = np.mean([((1+ret_df.iloc[i:i+days,:].cumsum())-1).iloc[-1,:][q4_march_values[idx]].mean() for idx,i in enumerate(re_march_idx)])\n",
    "    q5 = np.mean([((1+ret_df.iloc[i:i+days,:].cumsum())-1).iloc[-1,:][q5_march_values[idx]].mean() for idx,i in enumerate(re_march_idx)])\n",
    "        \n",
    "    df_ = pd.DataFrame([q1,q5],index=['Q1','Q5'])\n",
    "    \n",
    "    return df_"
   ]
  },
  {
   "cell_type": "code",
   "execution_count": 31,
   "metadata": {},
   "outputs": [],
   "source": [
    "ee = pd.DataFrame([0,0],index=['Q1','Q5'])\n",
    "six_month_df = pd.concat([get_q_returns(i) for i in range(20,240,20)],axis=1)\n",
    "six_month_df = pd.concat([ee,six_month_df],axis=1).T\n",
    "six_month_df.index = ['0','1','2','3','4','5','6','7','8','9','10','11']"
   ]
  },
  {
   "cell_type": "code",
   "execution_count": 32,
   "metadata": {},
   "outputs": [
    {
     "data": {
      "application/vnd.plotly.v1+json": {
       "config": {
        "linkText": "Export to plot.ly",
        "plotlyServerURL": "https://plot.ly",
        "showLink": true
       },
       "data": [
        {
         "line": {
          "color": "rgba(255, 153, 51, 1.0)",
          "dash": "solid",
          "shape": "linear",
          "width": 1.3
         },
         "mode": "lines",
         "name": "Q1",
         "text": "",
         "type": "scatter",
         "x": [
          "0",
          "1",
          "2",
          "3",
          "4",
          "5",
          "6",
          "7",
          "8",
          "9",
          "10",
          "11"
         ],
         "y": [
          0,
          0.011513297001814483,
          0.014704341164592214,
          0.011719909600583039,
          0.014312015873791384,
          0.009526252370849395,
          0.01244967777305106,
          0.006409010214891797,
          0.005497154642770983,
          -0.004244659817216564,
          0.010837942001005857,
          0.022615606413486505
         ]
        },
        {
         "line": {
          "color": "rgba(55, 128, 191, 1.0)",
          "dash": "solid",
          "shape": "linear",
          "width": 1.3
         },
         "mode": "lines",
         "name": "Q5",
         "text": "",
         "type": "scatter",
         "x": [
          "0",
          "1",
          "2",
          "3",
          "4",
          "5",
          "6",
          "7",
          "8",
          "9",
          "10",
          "11"
         ],
         "y": [
          0,
          0.015791505675862454,
          0.01697626917620862,
          0.01431665375596543,
          0.020536038615578046,
          0.015259650654883973,
          0.012493199583749875,
          0.012195304737511216,
          0.008301834495811657,
          0.009712626260119421,
          0.009222576792363595,
          0.007352417282600873
         ]
        }
       ],
       "layout": {
        "legend": {
         "bgcolor": "#F5F6F9",
         "font": {
          "color": "#4D5663"
         }
        },
        "paper_bgcolor": "#F5F6F9",
        "plot_bgcolor": "#F5F6F9",
        "template": {
         "data": {
          "bar": [
           {
            "error_x": {
             "color": "#2a3f5f"
            },
            "error_y": {
             "color": "#2a3f5f"
            },
            "marker": {
             "line": {
              "color": "#E5ECF6",
              "width": 0.5
             }
            },
            "type": "bar"
           }
          ],
          "barpolar": [
           {
            "marker": {
             "line": {
              "color": "#E5ECF6",
              "width": 0.5
             }
            },
            "type": "barpolar"
           }
          ],
          "carpet": [
           {
            "aaxis": {
             "endlinecolor": "#2a3f5f",
             "gridcolor": "white",
             "linecolor": "white",
             "minorgridcolor": "white",
             "startlinecolor": "#2a3f5f"
            },
            "baxis": {
             "endlinecolor": "#2a3f5f",
             "gridcolor": "white",
             "linecolor": "white",
             "minorgridcolor": "white",
             "startlinecolor": "#2a3f5f"
            },
            "type": "carpet"
           }
          ],
          "choropleth": [
           {
            "colorbar": {
             "outlinewidth": 0,
             "ticks": ""
            },
            "type": "choropleth"
           }
          ],
          "contour": [
           {
            "colorbar": {
             "outlinewidth": 0,
             "ticks": ""
            },
            "colorscale": [
             [
              0,
              "#0d0887"
             ],
             [
              0.1111111111111111,
              "#46039f"
             ],
             [
              0.2222222222222222,
              "#7201a8"
             ],
             [
              0.3333333333333333,
              "#9c179e"
             ],
             [
              0.4444444444444444,
              "#bd3786"
             ],
             [
              0.5555555555555556,
              "#d8576b"
             ],
             [
              0.6666666666666666,
              "#ed7953"
             ],
             [
              0.7777777777777778,
              "#fb9f3a"
             ],
             [
              0.8888888888888888,
              "#fdca26"
             ],
             [
              1,
              "#f0f921"
             ]
            ],
            "type": "contour"
           }
          ],
          "contourcarpet": [
           {
            "colorbar": {
             "outlinewidth": 0,
             "ticks": ""
            },
            "type": "contourcarpet"
           }
          ],
          "heatmap": [
           {
            "colorbar": {
             "outlinewidth": 0,
             "ticks": ""
            },
            "colorscale": [
             [
              0,
              "#0d0887"
             ],
             [
              0.1111111111111111,
              "#46039f"
             ],
             [
              0.2222222222222222,
              "#7201a8"
             ],
             [
              0.3333333333333333,
              "#9c179e"
             ],
             [
              0.4444444444444444,
              "#bd3786"
             ],
             [
              0.5555555555555556,
              "#d8576b"
             ],
             [
              0.6666666666666666,
              "#ed7953"
             ],
             [
              0.7777777777777778,
              "#fb9f3a"
             ],
             [
              0.8888888888888888,
              "#fdca26"
             ],
             [
              1,
              "#f0f921"
             ]
            ],
            "type": "heatmap"
           }
          ],
          "heatmapgl": [
           {
            "colorbar": {
             "outlinewidth": 0,
             "ticks": ""
            },
            "colorscale": [
             [
              0,
              "#0d0887"
             ],
             [
              0.1111111111111111,
              "#46039f"
             ],
             [
              0.2222222222222222,
              "#7201a8"
             ],
             [
              0.3333333333333333,
              "#9c179e"
             ],
             [
              0.4444444444444444,
              "#bd3786"
             ],
             [
              0.5555555555555556,
              "#d8576b"
             ],
             [
              0.6666666666666666,
              "#ed7953"
             ],
             [
              0.7777777777777778,
              "#fb9f3a"
             ],
             [
              0.8888888888888888,
              "#fdca26"
             ],
             [
              1,
              "#f0f921"
             ]
            ],
            "type": "heatmapgl"
           }
          ],
          "histogram": [
           {
            "marker": {
             "colorbar": {
              "outlinewidth": 0,
              "ticks": ""
             }
            },
            "type": "histogram"
           }
          ],
          "histogram2d": [
           {
            "colorbar": {
             "outlinewidth": 0,
             "ticks": ""
            },
            "colorscale": [
             [
              0,
              "#0d0887"
             ],
             [
              0.1111111111111111,
              "#46039f"
             ],
             [
              0.2222222222222222,
              "#7201a8"
             ],
             [
              0.3333333333333333,
              "#9c179e"
             ],
             [
              0.4444444444444444,
              "#bd3786"
             ],
             [
              0.5555555555555556,
              "#d8576b"
             ],
             [
              0.6666666666666666,
              "#ed7953"
             ],
             [
              0.7777777777777778,
              "#fb9f3a"
             ],
             [
              0.8888888888888888,
              "#fdca26"
             ],
             [
              1,
              "#f0f921"
             ]
            ],
            "type": "histogram2d"
           }
          ],
          "histogram2dcontour": [
           {
            "colorbar": {
             "outlinewidth": 0,
             "ticks": ""
            },
            "colorscale": [
             [
              0,
              "#0d0887"
             ],
             [
              0.1111111111111111,
              "#46039f"
             ],
             [
              0.2222222222222222,
              "#7201a8"
             ],
             [
              0.3333333333333333,
              "#9c179e"
             ],
             [
              0.4444444444444444,
              "#bd3786"
             ],
             [
              0.5555555555555556,
              "#d8576b"
             ],
             [
              0.6666666666666666,
              "#ed7953"
             ],
             [
              0.7777777777777778,
              "#fb9f3a"
             ],
             [
              0.8888888888888888,
              "#fdca26"
             ],
             [
              1,
              "#f0f921"
             ]
            ],
            "type": "histogram2dcontour"
           }
          ],
          "mesh3d": [
           {
            "colorbar": {
             "outlinewidth": 0,
             "ticks": ""
            },
            "type": "mesh3d"
           }
          ],
          "parcoords": [
           {
            "line": {
             "colorbar": {
              "outlinewidth": 0,
              "ticks": ""
             }
            },
            "type": "parcoords"
           }
          ],
          "pie": [
           {
            "automargin": true,
            "type": "pie"
           }
          ],
          "scatter": [
           {
            "marker": {
             "colorbar": {
              "outlinewidth": 0,
              "ticks": ""
             }
            },
            "type": "scatter"
           }
          ],
          "scatter3d": [
           {
            "line": {
             "colorbar": {
              "outlinewidth": 0,
              "ticks": ""
             }
            },
            "marker": {
             "colorbar": {
              "outlinewidth": 0,
              "ticks": ""
             }
            },
            "type": "scatter3d"
           }
          ],
          "scattercarpet": [
           {
            "marker": {
             "colorbar": {
              "outlinewidth": 0,
              "ticks": ""
             }
            },
            "type": "scattercarpet"
           }
          ],
          "scattergeo": [
           {
            "marker": {
             "colorbar": {
              "outlinewidth": 0,
              "ticks": ""
             }
            },
            "type": "scattergeo"
           }
          ],
          "scattergl": [
           {
            "marker": {
             "colorbar": {
              "outlinewidth": 0,
              "ticks": ""
             }
            },
            "type": "scattergl"
           }
          ],
          "scattermapbox": [
           {
            "marker": {
             "colorbar": {
              "outlinewidth": 0,
              "ticks": ""
             }
            },
            "type": "scattermapbox"
           }
          ],
          "scatterpolar": [
           {
            "marker": {
             "colorbar": {
              "outlinewidth": 0,
              "ticks": ""
             }
            },
            "type": "scatterpolar"
           }
          ],
          "scatterpolargl": [
           {
            "marker": {
             "colorbar": {
              "outlinewidth": 0,
              "ticks": ""
             }
            },
            "type": "scatterpolargl"
           }
          ],
          "scatterternary": [
           {
            "marker": {
             "colorbar": {
              "outlinewidth": 0,
              "ticks": ""
             }
            },
            "type": "scatterternary"
           }
          ],
          "surface": [
           {
            "colorbar": {
             "outlinewidth": 0,
             "ticks": ""
            },
            "colorscale": [
             [
              0,
              "#0d0887"
             ],
             [
              0.1111111111111111,
              "#46039f"
             ],
             [
              0.2222222222222222,
              "#7201a8"
             ],
             [
              0.3333333333333333,
              "#9c179e"
             ],
             [
              0.4444444444444444,
              "#bd3786"
             ],
             [
              0.5555555555555556,
              "#d8576b"
             ],
             [
              0.6666666666666666,
              "#ed7953"
             ],
             [
              0.7777777777777778,
              "#fb9f3a"
             ],
             [
              0.8888888888888888,
              "#fdca26"
             ],
             [
              1,
              "#f0f921"
             ]
            ],
            "type": "surface"
           }
          ],
          "table": [
           {
            "cells": {
             "fill": {
              "color": "#EBF0F8"
             },
             "line": {
              "color": "white"
             }
            },
            "header": {
             "fill": {
              "color": "#C8D4E3"
             },
             "line": {
              "color": "white"
             }
            },
            "type": "table"
           }
          ]
         },
         "layout": {
          "annotationdefaults": {
           "arrowcolor": "#2a3f5f",
           "arrowhead": 0,
           "arrowwidth": 1
          },
          "coloraxis": {
           "colorbar": {
            "outlinewidth": 0,
            "ticks": ""
           }
          },
          "colorscale": {
           "diverging": [
            [
             0,
             "#8e0152"
            ],
            [
             0.1,
             "#c51b7d"
            ],
            [
             0.2,
             "#de77ae"
            ],
            [
             0.3,
             "#f1b6da"
            ],
            [
             0.4,
             "#fde0ef"
            ],
            [
             0.5,
             "#f7f7f7"
            ],
            [
             0.6,
             "#e6f5d0"
            ],
            [
             0.7,
             "#b8e186"
            ],
            [
             0.8,
             "#7fbc41"
            ],
            [
             0.9,
             "#4d9221"
            ],
            [
             1,
             "#276419"
            ]
           ],
           "sequential": [
            [
             0,
             "#0d0887"
            ],
            [
             0.1111111111111111,
             "#46039f"
            ],
            [
             0.2222222222222222,
             "#7201a8"
            ],
            [
             0.3333333333333333,
             "#9c179e"
            ],
            [
             0.4444444444444444,
             "#bd3786"
            ],
            [
             0.5555555555555556,
             "#d8576b"
            ],
            [
             0.6666666666666666,
             "#ed7953"
            ],
            [
             0.7777777777777778,
             "#fb9f3a"
            ],
            [
             0.8888888888888888,
             "#fdca26"
            ],
            [
             1,
             "#f0f921"
            ]
           ],
           "sequentialminus": [
            [
             0,
             "#0d0887"
            ],
            [
             0.1111111111111111,
             "#46039f"
            ],
            [
             0.2222222222222222,
             "#7201a8"
            ],
            [
             0.3333333333333333,
             "#9c179e"
            ],
            [
             0.4444444444444444,
             "#bd3786"
            ],
            [
             0.5555555555555556,
             "#d8576b"
            ],
            [
             0.6666666666666666,
             "#ed7953"
            ],
            [
             0.7777777777777778,
             "#fb9f3a"
            ],
            [
             0.8888888888888888,
             "#fdca26"
            ],
            [
             1,
             "#f0f921"
            ]
           ]
          },
          "colorway": [
           "#636efa",
           "#EF553B",
           "#00cc96",
           "#ab63fa",
           "#FFA15A",
           "#19d3f3",
           "#FF6692",
           "#B6E880",
           "#FF97FF",
           "#FECB52"
          ],
          "font": {
           "color": "#2a3f5f"
          },
          "geo": {
           "bgcolor": "white",
           "lakecolor": "white",
           "landcolor": "#E5ECF6",
           "showlakes": true,
           "showland": true,
           "subunitcolor": "white"
          },
          "hoverlabel": {
           "align": "left"
          },
          "hovermode": "closest",
          "mapbox": {
           "style": "light"
          },
          "paper_bgcolor": "white",
          "plot_bgcolor": "#E5ECF6",
          "polar": {
           "angularaxis": {
            "gridcolor": "white",
            "linecolor": "white",
            "ticks": ""
           },
           "bgcolor": "#E5ECF6",
           "radialaxis": {
            "gridcolor": "white",
            "linecolor": "white",
            "ticks": ""
           }
          },
          "scene": {
           "xaxis": {
            "backgroundcolor": "#E5ECF6",
            "gridcolor": "white",
            "gridwidth": 2,
            "linecolor": "white",
            "showbackground": true,
            "ticks": "",
            "zerolinecolor": "white"
           },
           "yaxis": {
            "backgroundcolor": "#E5ECF6",
            "gridcolor": "white",
            "gridwidth": 2,
            "linecolor": "white",
            "showbackground": true,
            "ticks": "",
            "zerolinecolor": "white"
           },
           "zaxis": {
            "backgroundcolor": "#E5ECF6",
            "gridcolor": "white",
            "gridwidth": 2,
            "linecolor": "white",
            "showbackground": true,
            "ticks": "",
            "zerolinecolor": "white"
           }
          },
          "shapedefaults": {
           "line": {
            "color": "#2a3f5f"
           }
          },
          "ternary": {
           "aaxis": {
            "gridcolor": "white",
            "linecolor": "white",
            "ticks": ""
           },
           "baxis": {
            "gridcolor": "white",
            "linecolor": "white",
            "ticks": ""
           },
           "bgcolor": "#E5ECF6",
           "caxis": {
            "gridcolor": "white",
            "linecolor": "white",
            "ticks": ""
           }
          },
          "title": {
           "x": 0.05
          },
          "xaxis": {
           "automargin": true,
           "gridcolor": "white",
           "linecolor": "white",
           "ticks": "",
           "title": {
            "standoff": 15
           },
           "zerolinecolor": "white",
           "zerolinewidth": 2
          },
          "yaxis": {
           "automargin": true,
           "gridcolor": "white",
           "linecolor": "white",
           "ticks": "",
           "title": {
            "standoff": 15
           },
           "zerolinecolor": "white",
           "zerolinewidth": 2
          }
         }
        },
        "title": {
         "font": {
          "color": "#4D5663"
         },
         "text": "CAR for holding periods"
        },
        "xaxis": {
         "gridcolor": "#E1E5ED",
         "showgrid": true,
         "tickfont": {
          "color": "#4D5663"
         },
         "title": {
          "font": {
           "color": "#4D5663"
          },
          "text": "Month"
         },
         "zerolinecolor": "#E1E5ED"
        },
        "yaxis": {
         "gridcolor": "#E1E5ED",
         "showgrid": true,
         "tickfont": {
          "color": "#4D5663"
         },
         "title": {
          "font": {
           "color": "#4D5663"
          },
          "text": "CAR"
         },
         "zerolinecolor": "#E1E5ED"
        }
       }
      },
      "text/html": [
       "<div>\n",
       "        \n",
       "        \n",
       "            <div id=\"370ed456-68de-46ed-8f34-b2678ed173d3\" class=\"plotly-graph-div\" style=\"height:525px; width:100%;\"></div>\n",
       "            <script type=\"text/javascript\">\n",
       "                require([\"plotly\"], function(Plotly) {\n",
       "                    window.PLOTLYENV=window.PLOTLYENV || {};\n",
       "                    window.PLOTLYENV.BASE_URL='https://plot.ly';\n",
       "                    \n",
       "                if (document.getElementById(\"370ed456-68de-46ed-8f34-b2678ed173d3\")) {\n",
       "                    Plotly.newPlot(\n",
       "                        '370ed456-68de-46ed-8f34-b2678ed173d3',\n",
       "                        [{\"line\": {\"color\": \"rgba(255, 153, 51, 1.0)\", \"dash\": \"solid\", \"shape\": \"linear\", \"width\": 1.3}, \"mode\": \"lines\", \"name\": \"Q1\", \"text\": \"\", \"type\": \"scatter\", \"x\": [\"0\", \"1\", \"2\", \"3\", \"4\", \"5\", \"6\", \"7\", \"8\", \"9\", \"10\", \"11\"], \"y\": [0.0, 0.011513297001814483, 0.014704341164592214, 0.011719909600583039, 0.014312015873791384, 0.009526252370849395, 0.01244967777305106, 0.006409010214891797, 0.005497154642770983, -0.004244659817216564, 0.010837942001005857, 0.022615606413486505]}, {\"line\": {\"color\": \"rgba(55, 128, 191, 1.0)\", \"dash\": \"solid\", \"shape\": \"linear\", \"width\": 1.3}, \"mode\": \"lines\", \"name\": \"Q5\", \"text\": \"\", \"type\": \"scatter\", \"x\": [\"0\", \"1\", \"2\", \"3\", \"4\", \"5\", \"6\", \"7\", \"8\", \"9\", \"10\", \"11\"], \"y\": [0.0, 0.015791505675862454, 0.01697626917620862, 0.01431665375596543, 0.020536038615578046, 0.015259650654883973, 0.012493199583749875, 0.012195304737511216, 0.008301834495811657, 0.009712626260119421, 0.009222576792363595, 0.007352417282600873]}],\n",
       "                        {\"legend\": {\"bgcolor\": \"#F5F6F9\", \"font\": {\"color\": \"#4D5663\"}}, \"paper_bgcolor\": \"#F5F6F9\", \"plot_bgcolor\": \"#F5F6F9\", \"template\": {\"data\": {\"bar\": [{\"error_x\": {\"color\": \"#2a3f5f\"}, \"error_y\": {\"color\": \"#2a3f5f\"}, \"marker\": {\"line\": {\"color\": \"#E5ECF6\", \"width\": 0.5}}, \"type\": \"bar\"}], \"barpolar\": [{\"marker\": {\"line\": {\"color\": \"#E5ECF6\", \"width\": 0.5}}, \"type\": \"barpolar\"}], \"carpet\": [{\"aaxis\": {\"endlinecolor\": \"#2a3f5f\", \"gridcolor\": \"white\", \"linecolor\": \"white\", \"minorgridcolor\": \"white\", \"startlinecolor\": \"#2a3f5f\"}, \"baxis\": {\"endlinecolor\": \"#2a3f5f\", \"gridcolor\": \"white\", \"linecolor\": \"white\", \"minorgridcolor\": \"white\", \"startlinecolor\": \"#2a3f5f\"}, \"type\": \"carpet\"}], \"choropleth\": [{\"colorbar\": {\"outlinewidth\": 0, \"ticks\": \"\"}, \"type\": \"choropleth\"}], \"contour\": [{\"colorbar\": {\"outlinewidth\": 0, \"ticks\": \"\"}, \"colorscale\": [[0.0, \"#0d0887\"], [0.1111111111111111, \"#46039f\"], [0.2222222222222222, \"#7201a8\"], [0.3333333333333333, \"#9c179e\"], [0.4444444444444444, \"#bd3786\"], [0.5555555555555556, \"#d8576b\"], [0.6666666666666666, \"#ed7953\"], [0.7777777777777778, \"#fb9f3a\"], [0.8888888888888888, \"#fdca26\"], [1.0, \"#f0f921\"]], \"type\": \"contour\"}], \"contourcarpet\": [{\"colorbar\": {\"outlinewidth\": 0, \"ticks\": \"\"}, \"type\": \"contourcarpet\"}], \"heatmap\": [{\"colorbar\": {\"outlinewidth\": 0, \"ticks\": \"\"}, \"colorscale\": [[0.0, \"#0d0887\"], [0.1111111111111111, \"#46039f\"], [0.2222222222222222, \"#7201a8\"], [0.3333333333333333, \"#9c179e\"], [0.4444444444444444, \"#bd3786\"], [0.5555555555555556, \"#d8576b\"], [0.6666666666666666, \"#ed7953\"], [0.7777777777777778, \"#fb9f3a\"], [0.8888888888888888, \"#fdca26\"], [1.0, \"#f0f921\"]], \"type\": \"heatmap\"}], \"heatmapgl\": [{\"colorbar\": {\"outlinewidth\": 0, \"ticks\": \"\"}, \"colorscale\": [[0.0, \"#0d0887\"], [0.1111111111111111, \"#46039f\"], [0.2222222222222222, \"#7201a8\"], [0.3333333333333333, \"#9c179e\"], [0.4444444444444444, \"#bd3786\"], [0.5555555555555556, \"#d8576b\"], [0.6666666666666666, \"#ed7953\"], [0.7777777777777778, \"#fb9f3a\"], [0.8888888888888888, \"#fdca26\"], [1.0, \"#f0f921\"]], \"type\": \"heatmapgl\"}], \"histogram\": [{\"marker\": {\"colorbar\": {\"outlinewidth\": 0, \"ticks\": \"\"}}, \"type\": \"histogram\"}], \"histogram2d\": [{\"colorbar\": {\"outlinewidth\": 0, \"ticks\": \"\"}, \"colorscale\": [[0.0, \"#0d0887\"], [0.1111111111111111, \"#46039f\"], [0.2222222222222222, \"#7201a8\"], [0.3333333333333333, \"#9c179e\"], [0.4444444444444444, \"#bd3786\"], [0.5555555555555556, \"#d8576b\"], [0.6666666666666666, \"#ed7953\"], [0.7777777777777778, \"#fb9f3a\"], [0.8888888888888888, \"#fdca26\"], [1.0, \"#f0f921\"]], \"type\": \"histogram2d\"}], \"histogram2dcontour\": [{\"colorbar\": {\"outlinewidth\": 0, \"ticks\": \"\"}, \"colorscale\": [[0.0, \"#0d0887\"], [0.1111111111111111, \"#46039f\"], [0.2222222222222222, \"#7201a8\"], [0.3333333333333333, \"#9c179e\"], [0.4444444444444444, \"#bd3786\"], [0.5555555555555556, \"#d8576b\"], [0.6666666666666666, \"#ed7953\"], [0.7777777777777778, \"#fb9f3a\"], [0.8888888888888888, \"#fdca26\"], [1.0, \"#f0f921\"]], \"type\": \"histogram2dcontour\"}], \"mesh3d\": [{\"colorbar\": {\"outlinewidth\": 0, \"ticks\": \"\"}, \"type\": \"mesh3d\"}], \"parcoords\": [{\"line\": {\"colorbar\": {\"outlinewidth\": 0, \"ticks\": \"\"}}, \"type\": \"parcoords\"}], \"pie\": [{\"automargin\": true, \"type\": \"pie\"}], \"scatter\": [{\"marker\": {\"colorbar\": {\"outlinewidth\": 0, \"ticks\": \"\"}}, \"type\": \"scatter\"}], \"scatter3d\": [{\"line\": {\"colorbar\": {\"outlinewidth\": 0, \"ticks\": \"\"}}, \"marker\": {\"colorbar\": {\"outlinewidth\": 0, \"ticks\": \"\"}}, \"type\": \"scatter3d\"}], \"scattercarpet\": [{\"marker\": {\"colorbar\": {\"outlinewidth\": 0, \"ticks\": \"\"}}, \"type\": \"scattercarpet\"}], \"scattergeo\": [{\"marker\": {\"colorbar\": {\"outlinewidth\": 0, \"ticks\": \"\"}}, \"type\": \"scattergeo\"}], \"scattergl\": [{\"marker\": {\"colorbar\": {\"outlinewidth\": 0, \"ticks\": \"\"}}, \"type\": \"scattergl\"}], \"scattermapbox\": [{\"marker\": {\"colorbar\": {\"outlinewidth\": 0, \"ticks\": \"\"}}, \"type\": \"scattermapbox\"}], \"scatterpolar\": [{\"marker\": {\"colorbar\": {\"outlinewidth\": 0, \"ticks\": \"\"}}, \"type\": \"scatterpolar\"}], \"scatterpolargl\": [{\"marker\": {\"colorbar\": {\"outlinewidth\": 0, \"ticks\": \"\"}}, \"type\": \"scatterpolargl\"}], \"scatterternary\": [{\"marker\": {\"colorbar\": {\"outlinewidth\": 0, \"ticks\": \"\"}}, \"type\": \"scatterternary\"}], \"surface\": [{\"colorbar\": {\"outlinewidth\": 0, \"ticks\": \"\"}, \"colorscale\": [[0.0, \"#0d0887\"], [0.1111111111111111, \"#46039f\"], [0.2222222222222222, \"#7201a8\"], [0.3333333333333333, \"#9c179e\"], [0.4444444444444444, \"#bd3786\"], [0.5555555555555556, \"#d8576b\"], [0.6666666666666666, \"#ed7953\"], [0.7777777777777778, \"#fb9f3a\"], [0.8888888888888888, \"#fdca26\"], [1.0, \"#f0f921\"]], \"type\": \"surface\"}], \"table\": [{\"cells\": {\"fill\": {\"color\": \"#EBF0F8\"}, \"line\": {\"color\": \"white\"}}, \"header\": {\"fill\": {\"color\": \"#C8D4E3\"}, \"line\": {\"color\": \"white\"}}, \"type\": \"table\"}]}, \"layout\": {\"annotationdefaults\": {\"arrowcolor\": \"#2a3f5f\", \"arrowhead\": 0, \"arrowwidth\": 1}, \"coloraxis\": {\"colorbar\": {\"outlinewidth\": 0, \"ticks\": \"\"}}, \"colorscale\": {\"diverging\": [[0, \"#8e0152\"], [0.1, \"#c51b7d\"], [0.2, \"#de77ae\"], [0.3, \"#f1b6da\"], [0.4, \"#fde0ef\"], [0.5, \"#f7f7f7\"], [0.6, \"#e6f5d0\"], [0.7, \"#b8e186\"], [0.8, \"#7fbc41\"], [0.9, \"#4d9221\"], [1, \"#276419\"]], \"sequential\": [[0.0, \"#0d0887\"], [0.1111111111111111, \"#46039f\"], [0.2222222222222222, \"#7201a8\"], [0.3333333333333333, \"#9c179e\"], [0.4444444444444444, \"#bd3786\"], [0.5555555555555556, \"#d8576b\"], [0.6666666666666666, \"#ed7953\"], [0.7777777777777778, \"#fb9f3a\"], [0.8888888888888888, \"#fdca26\"], [1.0, \"#f0f921\"]], \"sequentialminus\": [[0.0, \"#0d0887\"], [0.1111111111111111, \"#46039f\"], [0.2222222222222222, \"#7201a8\"], [0.3333333333333333, \"#9c179e\"], [0.4444444444444444, \"#bd3786\"], [0.5555555555555556, \"#d8576b\"], [0.6666666666666666, \"#ed7953\"], [0.7777777777777778, \"#fb9f3a\"], [0.8888888888888888, \"#fdca26\"], [1.0, \"#f0f921\"]]}, \"colorway\": [\"#636efa\", \"#EF553B\", \"#00cc96\", \"#ab63fa\", \"#FFA15A\", \"#19d3f3\", \"#FF6692\", \"#B6E880\", \"#FF97FF\", \"#FECB52\"], \"font\": {\"color\": \"#2a3f5f\"}, \"geo\": {\"bgcolor\": \"white\", \"lakecolor\": \"white\", \"landcolor\": \"#E5ECF6\", \"showlakes\": true, \"showland\": true, \"subunitcolor\": \"white\"}, \"hoverlabel\": {\"align\": \"left\"}, \"hovermode\": \"closest\", \"mapbox\": {\"style\": \"light\"}, \"paper_bgcolor\": \"white\", \"plot_bgcolor\": \"#E5ECF6\", \"polar\": {\"angularaxis\": {\"gridcolor\": \"white\", \"linecolor\": \"white\", \"ticks\": \"\"}, \"bgcolor\": \"#E5ECF6\", \"radialaxis\": {\"gridcolor\": \"white\", \"linecolor\": \"white\", \"ticks\": \"\"}}, \"scene\": {\"xaxis\": {\"backgroundcolor\": \"#E5ECF6\", \"gridcolor\": \"white\", \"gridwidth\": 2, \"linecolor\": \"white\", \"showbackground\": true, \"ticks\": \"\", \"zerolinecolor\": \"white\"}, \"yaxis\": {\"backgroundcolor\": \"#E5ECF6\", \"gridcolor\": \"white\", \"gridwidth\": 2, \"linecolor\": \"white\", \"showbackground\": true, \"ticks\": \"\", \"zerolinecolor\": \"white\"}, \"zaxis\": {\"backgroundcolor\": \"#E5ECF6\", \"gridcolor\": \"white\", \"gridwidth\": 2, \"linecolor\": \"white\", \"showbackground\": true, \"ticks\": \"\", \"zerolinecolor\": \"white\"}}, \"shapedefaults\": {\"line\": {\"color\": \"#2a3f5f\"}}, \"ternary\": {\"aaxis\": {\"gridcolor\": \"white\", \"linecolor\": \"white\", \"ticks\": \"\"}, \"baxis\": {\"gridcolor\": \"white\", \"linecolor\": \"white\", \"ticks\": \"\"}, \"bgcolor\": \"#E5ECF6\", \"caxis\": {\"gridcolor\": \"white\", \"linecolor\": \"white\", \"ticks\": \"\"}}, \"title\": {\"x\": 0.05}, \"xaxis\": {\"automargin\": true, \"gridcolor\": \"white\", \"linecolor\": \"white\", \"ticks\": \"\", \"title\": {\"standoff\": 15}, \"zerolinecolor\": \"white\", \"zerolinewidth\": 2}, \"yaxis\": {\"automargin\": true, \"gridcolor\": \"white\", \"linecolor\": \"white\", \"ticks\": \"\", \"title\": {\"standoff\": 15}, \"zerolinecolor\": \"white\", \"zerolinewidth\": 2}}}, \"title\": {\"font\": {\"color\": \"#4D5663\"}, \"text\": \"CAR for holding periods\"}, \"xaxis\": {\"gridcolor\": \"#E1E5ED\", \"showgrid\": true, \"tickfont\": {\"color\": \"#4D5663\"}, \"title\": {\"font\": {\"color\": \"#4D5663\"}, \"text\": \"Month\"}, \"zerolinecolor\": \"#E1E5ED\"}, \"yaxis\": {\"gridcolor\": \"#E1E5ED\", \"showgrid\": true, \"tickfont\": {\"color\": \"#4D5663\"}, \"title\": {\"font\": {\"color\": \"#4D5663\"}, \"text\": \"CAR\"}, \"zerolinecolor\": \"#E1E5ED\"}},\n",
       "                        {\"showLink\": true, \"linkText\": \"Export to plot.ly\", \"plotlyServerURL\": \"https://plot.ly\", \"responsive\": true}\n",
       "                    ).then(function(){\n",
       "                            \n",
       "var gd = document.getElementById('370ed456-68de-46ed-8f34-b2678ed173d3');\n",
       "var x = new MutationObserver(function (mutations, observer) {{\n",
       "        var display = window.getComputedStyle(gd).display;\n",
       "        if (!display || display === 'none') {{\n",
       "            console.log([gd, 'removed!']);\n",
       "            Plotly.purge(gd);\n",
       "            observer.disconnect();\n",
       "        }}\n",
       "}});\n",
       "\n",
       "// Listen for the removal of the full notebook cells\n",
       "var notebookContainer = gd.closest('#notebook-container');\n",
       "if (notebookContainer) {{\n",
       "    x.observe(notebookContainer, {childList: true});\n",
       "}}\n",
       "\n",
       "// Listen for the clearing of the current output cell\n",
       "var outputEl = gd.closest('.output');\n",
       "if (outputEl) {{\n",
       "    x.observe(outputEl, {childList: true});\n",
       "}}\n",
       "\n",
       "                        })\n",
       "                };\n",
       "                });\n",
       "            </script>\n",
       "        </div>"
      ]
     },
     "metadata": {},
     "output_type": "display_data"
    }
   ],
   "source": [
    "six_month_df.iplot(kind='line',title = 'CAR for holding periods' ,xTitle='Month', yTitle = 'CAR')"
   ]
  },
  {
   "cell_type": "code",
   "execution_count": 36,
   "metadata": {},
   "outputs": [
    {
     "data": {
      "text/html": [
       "<div>\n",
       "<style scoped>\n",
       "    .dataframe tbody tr th:only-of-type {\n",
       "        vertical-align: middle;\n",
       "    }\n",
       "\n",
       "    .dataframe tbody tr th {\n",
       "        vertical-align: top;\n",
       "    }\n",
       "\n",
       "    .dataframe thead th {\n",
       "        text-align: right;\n",
       "    }\n",
       "</style>\n",
       "<table border=\"1\" class=\"dataframe\">\n",
       "  <thead>\n",
       "    <tr style=\"text-align: right;\">\n",
       "      <th></th>\n",
       "      <th>삼양홀딩스</th>\n",
       "      <th>유한양행</th>\n",
       "      <th>CJ대한통운</th>\n",
       "      <th>두산</th>\n",
       "      <th>대림산업</th>\n",
       "      <th>한국테크놀로지그룹</th>\n",
       "      <th>기아차</th>\n",
       "      <th>동아쏘시오홀딩스</th>\n",
       "      <th>SK하이닉스</th>\n",
       "      <th>영풍</th>\n",
       "      <th>...</th>\n",
       "      <th>현대백화점</th>\n",
       "      <th>한국금융지주</th>\n",
       "      <th>GS</th>\n",
       "      <th>하나금융지주</th>\n",
       "      <th>아모레퍼시픽</th>\n",
       "      <th>LF</th>\n",
       "      <th>후성</th>\n",
       "      <th>SK이노베이션</th>\n",
       "      <th>CJ제일제당</th>\n",
       "      <th>KB금융</th>\n",
       "    </tr>\n",
       "  </thead>\n",
       "  <tbody>\n",
       "    <tr>\n",
       "      <th>20100101</th>\n",
       "      <td>NaN</td>\n",
       "      <td>NaN</td>\n",
       "      <td>NaN</td>\n",
       "      <td>NaN</td>\n",
       "      <td>NaN</td>\n",
       "      <td>NaN</td>\n",
       "      <td>NaN</td>\n",
       "      <td>NaN</td>\n",
       "      <td>NaN</td>\n",
       "      <td>NaN</td>\n",
       "      <td>...</td>\n",
       "      <td>NaN</td>\n",
       "      <td>NaN</td>\n",
       "      <td>NaN</td>\n",
       "      <td>NaN</td>\n",
       "      <td>NaN</td>\n",
       "      <td>NaN</td>\n",
       "      <td>NaN</td>\n",
       "      <td>NaN</td>\n",
       "      <td>NaN</td>\n",
       "      <td>NaN</td>\n",
       "    </tr>\n",
       "    <tr>\n",
       "      <th>20100102</th>\n",
       "      <td>NaN</td>\n",
       "      <td>NaN</td>\n",
       "      <td>NaN</td>\n",
       "      <td>NaN</td>\n",
       "      <td>NaN</td>\n",
       "      <td>NaN</td>\n",
       "      <td>NaN</td>\n",
       "      <td>NaN</td>\n",
       "      <td>NaN</td>\n",
       "      <td>NaN</td>\n",
       "      <td>...</td>\n",
       "      <td>NaN</td>\n",
       "      <td>NaN</td>\n",
       "      <td>NaN</td>\n",
       "      <td>NaN</td>\n",
       "      <td>NaN</td>\n",
       "      <td>NaN</td>\n",
       "      <td>NaN</td>\n",
       "      <td>NaN</td>\n",
       "      <td>NaN</td>\n",
       "      <td>NaN</td>\n",
       "    </tr>\n",
       "    <tr>\n",
       "      <th>20100103</th>\n",
       "      <td>NaN</td>\n",
       "      <td>NaN</td>\n",
       "      <td>NaN</td>\n",
       "      <td>NaN</td>\n",
       "      <td>NaN</td>\n",
       "      <td>NaN</td>\n",
       "      <td>NaN</td>\n",
       "      <td>NaN</td>\n",
       "      <td>NaN</td>\n",
       "      <td>NaN</td>\n",
       "      <td>...</td>\n",
       "      <td>NaN</td>\n",
       "      <td>NaN</td>\n",
       "      <td>NaN</td>\n",
       "      <td>NaN</td>\n",
       "      <td>NaN</td>\n",
       "      <td>NaN</td>\n",
       "      <td>NaN</td>\n",
       "      <td>NaN</td>\n",
       "      <td>NaN</td>\n",
       "      <td>NaN</td>\n",
       "    </tr>\n",
       "    <tr>\n",
       "      <th>20100104</th>\n",
       "      <td>NaN</td>\n",
       "      <td>NaN</td>\n",
       "      <td>NaN</td>\n",
       "      <td>NaN</td>\n",
       "      <td>NaN</td>\n",
       "      <td>NaN</td>\n",
       "      <td>NaN</td>\n",
       "      <td>NaN</td>\n",
       "      <td>NaN</td>\n",
       "      <td>NaN</td>\n",
       "      <td>...</td>\n",
       "      <td>NaN</td>\n",
       "      <td>NaN</td>\n",
       "      <td>NaN</td>\n",
       "      <td>NaN</td>\n",
       "      <td>NaN</td>\n",
       "      <td>NaN</td>\n",
       "      <td>NaN</td>\n",
       "      <td>NaN</td>\n",
       "      <td>NaN</td>\n",
       "      <td>NaN</td>\n",
       "    </tr>\n",
       "    <tr>\n",
       "      <th>20100105</th>\n",
       "      <td>NaN</td>\n",
       "      <td>NaN</td>\n",
       "      <td>NaN</td>\n",
       "      <td>NaN</td>\n",
       "      <td>NaN</td>\n",
       "      <td>NaN</td>\n",
       "      <td>NaN</td>\n",
       "      <td>NaN</td>\n",
       "      <td>NaN</td>\n",
       "      <td>NaN</td>\n",
       "      <td>...</td>\n",
       "      <td>NaN</td>\n",
       "      <td>NaN</td>\n",
       "      <td>NaN</td>\n",
       "      <td>NaN</td>\n",
       "      <td>NaN</td>\n",
       "      <td>NaN</td>\n",
       "      <td>NaN</td>\n",
       "      <td>NaN</td>\n",
       "      <td>NaN</td>\n",
       "      <td>NaN</td>\n",
       "    </tr>\n",
       "    <tr>\n",
       "      <th>...</th>\n",
       "      <td>...</td>\n",
       "      <td>...</td>\n",
       "      <td>...</td>\n",
       "      <td>...</td>\n",
       "      <td>...</td>\n",
       "      <td>...</td>\n",
       "      <td>...</td>\n",
       "      <td>...</td>\n",
       "      <td>...</td>\n",
       "      <td>...</td>\n",
       "      <td>...</td>\n",
       "      <td>...</td>\n",
       "      <td>...</td>\n",
       "      <td>...</td>\n",
       "      <td>...</td>\n",
       "      <td>...</td>\n",
       "      <td>...</td>\n",
       "      <td>...</td>\n",
       "      <td>...</td>\n",
       "      <td>...</td>\n",
       "      <td>...</td>\n",
       "    </tr>\n",
       "    <tr>\n",
       "      <th>20191227</th>\n",
       "      <td>NaN</td>\n",
       "      <td>NaN</td>\n",
       "      <td>NaN</td>\n",
       "      <td>NaN</td>\n",
       "      <td>NaN</td>\n",
       "      <td>NaN</td>\n",
       "      <td>NaN</td>\n",
       "      <td>NaN</td>\n",
       "      <td>NaN</td>\n",
       "      <td>NaN</td>\n",
       "      <td>...</td>\n",
       "      <td>NaN</td>\n",
       "      <td>NaN</td>\n",
       "      <td>NaN</td>\n",
       "      <td>NaN</td>\n",
       "      <td>NaN</td>\n",
       "      <td>NaN</td>\n",
       "      <td>NaN</td>\n",
       "      <td>NaN</td>\n",
       "      <td>NaN</td>\n",
       "      <td>NaN</td>\n",
       "    </tr>\n",
       "    <tr>\n",
       "      <th>20191228</th>\n",
       "      <td>NaN</td>\n",
       "      <td>NaN</td>\n",
       "      <td>NaN</td>\n",
       "      <td>NaN</td>\n",
       "      <td>NaN</td>\n",
       "      <td>NaN</td>\n",
       "      <td>NaN</td>\n",
       "      <td>NaN</td>\n",
       "      <td>NaN</td>\n",
       "      <td>NaN</td>\n",
       "      <td>...</td>\n",
       "      <td>NaN</td>\n",
       "      <td>NaN</td>\n",
       "      <td>NaN</td>\n",
       "      <td>NaN</td>\n",
       "      <td>NaN</td>\n",
       "      <td>NaN</td>\n",
       "      <td>NaN</td>\n",
       "      <td>NaN</td>\n",
       "      <td>NaN</td>\n",
       "      <td>NaN</td>\n",
       "    </tr>\n",
       "    <tr>\n",
       "      <th>20191229</th>\n",
       "      <td>NaN</td>\n",
       "      <td>NaN</td>\n",
       "      <td>NaN</td>\n",
       "      <td>NaN</td>\n",
       "      <td>NaN</td>\n",
       "      <td>NaN</td>\n",
       "      <td>NaN</td>\n",
       "      <td>NaN</td>\n",
       "      <td>NaN</td>\n",
       "      <td>NaN</td>\n",
       "      <td>...</td>\n",
       "      <td>NaN</td>\n",
       "      <td>NaN</td>\n",
       "      <td>NaN</td>\n",
       "      <td>NaN</td>\n",
       "      <td>NaN</td>\n",
       "      <td>NaN</td>\n",
       "      <td>NaN</td>\n",
       "      <td>NaN</td>\n",
       "      <td>NaN</td>\n",
       "      <td>NaN</td>\n",
       "    </tr>\n",
       "    <tr>\n",
       "      <th>20191230</th>\n",
       "      <td>NaN</td>\n",
       "      <td>NaN</td>\n",
       "      <td>NaN</td>\n",
       "      <td>NaN</td>\n",
       "      <td>NaN</td>\n",
       "      <td>NaN</td>\n",
       "      <td>NaN</td>\n",
       "      <td>NaN</td>\n",
       "      <td>NaN</td>\n",
       "      <td>NaN</td>\n",
       "      <td>...</td>\n",
       "      <td>NaN</td>\n",
       "      <td>NaN</td>\n",
       "      <td>NaN</td>\n",
       "      <td>NaN</td>\n",
       "      <td>NaN</td>\n",
       "      <td>NaN</td>\n",
       "      <td>NaN</td>\n",
       "      <td>NaN</td>\n",
       "      <td>NaN</td>\n",
       "      <td>NaN</td>\n",
       "    </tr>\n",
       "    <tr>\n",
       "      <th>20191231</th>\n",
       "      <td>NaN</td>\n",
       "      <td>NaN</td>\n",
       "      <td>NaN</td>\n",
       "      <td>NaN</td>\n",
       "      <td>NaN</td>\n",
       "      <td>NaN</td>\n",
       "      <td>NaN</td>\n",
       "      <td>NaN</td>\n",
       "      <td>NaN</td>\n",
       "      <td>NaN</td>\n",
       "      <td>...</td>\n",
       "      <td>NaN</td>\n",
       "      <td>NaN</td>\n",
       "      <td>NaN</td>\n",
       "      <td>NaN</td>\n",
       "      <td>NaN</td>\n",
       "      <td>NaN</td>\n",
       "      <td>NaN</td>\n",
       "      <td>NaN</td>\n",
       "      <td>NaN</td>\n",
       "      <td>NaN</td>\n",
       "    </tr>\n",
       "  </tbody>\n",
       "</table>\n",
       "<p>3652 rows × 113 columns</p>\n",
       "</div>"
      ],
      "text/plain": [
       "          삼양홀딩스  유한양행  CJ대한통운  두산  대림산업  한국테크놀로지그룹  기아차  동아쏘시오홀딩스  SK하이닉스  영풍  \\\n",
       "20100101    NaN   NaN     NaN NaN   NaN        NaN  NaN       NaN     NaN NaN   \n",
       "20100102    NaN   NaN     NaN NaN   NaN        NaN  NaN       NaN     NaN NaN   \n",
       "20100103    NaN   NaN     NaN NaN   NaN        NaN  NaN       NaN     NaN NaN   \n",
       "20100104    NaN   NaN     NaN NaN   NaN        NaN  NaN       NaN     NaN NaN   \n",
       "20100105    NaN   NaN     NaN NaN   NaN        NaN  NaN       NaN     NaN NaN   \n",
       "...         ...   ...     ...  ..   ...        ...  ...       ...     ...  ..   \n",
       "20191227    NaN   NaN     NaN NaN   NaN        NaN  NaN       NaN     NaN NaN   \n",
       "20191228    NaN   NaN     NaN NaN   NaN        NaN  NaN       NaN     NaN NaN   \n",
       "20191229    NaN   NaN     NaN NaN   NaN        NaN  NaN       NaN     NaN NaN   \n",
       "20191230    NaN   NaN     NaN NaN   NaN        NaN  NaN       NaN     NaN NaN   \n",
       "20191231    NaN   NaN     NaN NaN   NaN        NaN  NaN       NaN     NaN NaN   \n",
       "\n",
       "          ...  현대백화점  한국금융지주  GS  하나금융지주  아모레퍼시픽  LF  후성  SK이노베이션  CJ제일제당  \\\n",
       "20100101  ...    NaN     NaN NaN     NaN     NaN NaN NaN      NaN     NaN   \n",
       "20100102  ...    NaN     NaN NaN     NaN     NaN NaN NaN      NaN     NaN   \n",
       "20100103  ...    NaN     NaN NaN     NaN     NaN NaN NaN      NaN     NaN   \n",
       "20100104  ...    NaN     NaN NaN     NaN     NaN NaN NaN      NaN     NaN   \n",
       "20100105  ...    NaN     NaN NaN     NaN     NaN NaN NaN      NaN     NaN   \n",
       "...       ...    ...     ...  ..     ...     ...  ..  ..      ...     ...   \n",
       "20191227  ...    NaN     NaN NaN     NaN     NaN NaN NaN      NaN     NaN   \n",
       "20191228  ...    NaN     NaN NaN     NaN     NaN NaN NaN      NaN     NaN   \n",
       "20191229  ...    NaN     NaN NaN     NaN     NaN NaN NaN      NaN     NaN   \n",
       "20191230  ...    NaN     NaN NaN     NaN     NaN NaN NaN      NaN     NaN   \n",
       "20191231  ...    NaN     NaN NaN     NaN     NaN NaN NaN      NaN     NaN   \n",
       "\n",
       "          KB금융  \n",
       "20100101   NaN  \n",
       "20100102   NaN  \n",
       "20100103   NaN  \n",
       "20100104   NaN  \n",
       "20100105   NaN  \n",
       "...        ...  \n",
       "20191227   NaN  \n",
       "20191228   NaN  \n",
       "20191229   NaN  \n",
       "20191230   NaN  \n",
       "20191231   NaN  \n",
       "\n",
       "[3652 rows x 113 columns]"
      ]
     },
     "execution_count": 36,
     "metadata": {},
     "output_type": "execute_result"
    }
   ],
   "source": [
    "np.isnan"
   ]
  },
  {
   "cell_type": "code",
   "execution_count": null,
   "metadata": {},
   "outputs": [],
   "source": []
  }
 ],
 "metadata": {
  "kernelspec": {
   "display_name": "Python 3",
   "language": "python",
   "name": "python3"
  },
  "language_info": {
   "codemirror_mode": {
    "name": "ipython",
    "version": 3
   },
   "file_extension": ".py",
   "mimetype": "text/x-python",
   "name": "python",
   "nbconvert_exporter": "python",
   "pygments_lexer": "ipython3",
   "version": "3.7.6"
  }
 },
 "nbformat": 4,
 "nbformat_minor": 4
}
