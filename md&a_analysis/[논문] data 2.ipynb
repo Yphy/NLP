{
 "cells": [
  {
   "cell_type": "code",
   "execution_count": 3,
   "metadata": {},
   "outputs": [],
   "source": [
    "import numpy as np\n",
    "import pandas as pd\n",
    "import FinanceDataReader as fdr\n",
    "from sklearn.feature_extraction.text import TfidfVectorizer\n",
    "tfidf = TfidfVectorizer()\n",
    "from sklearn.metrics.pairwise import linear_kernel"
   ]
  },
  {
   "cell_type": "code",
   "execution_count": 4,
   "metadata": {},
   "outputs": [],
   "source": [
    "# matplotlib rebuild\n",
    "\n",
    "import matplotlib.pyplot as plt\n",
    "from matplotlib import font_manager\n",
    "%matplotlib inline\n",
    "\n",
    "\n",
    "font_fname = 'C:/Windows/Fonts/malgun.ttf'\n",
    "font_family = font_manager.FontProperties(fname=font_fname).get_name()\n",
    "\n",
    "plt.rcParams[\"font.family\"] = font_family\n",
    "plt.rcParams[\"axes.grid\"] = True\n",
    "plt.rcParams[\"figure.figsize\"] = (12,6)\n",
    "plt.rcParams[\"axes.formatter.useoffset\"] = False\n",
    "plt.rcParams['axes.unicode_minus'] = False\n",
    "plt.rcParams[\"axes.formatter.limits\"] = -10000, 10000\n"
   ]
  },
  {
   "cell_type": "code",
   "execution_count": 5,
   "metadata": {},
   "outputs": [],
   "source": [
    "df = pd.read_csv('./data/preprocessing/preprocessed/df_tokenized.csv',index_col=0)"
   ]
  },
  {
   "cell_type": "code",
   "execution_count": 6,
   "metadata": {},
   "outputs": [
    {
     "data": {
      "text/html": [
       "<div>\n",
       "<style scoped>\n",
       "    .dataframe tbody tr th:only-of-type {\n",
       "        vertical-align: middle;\n",
       "    }\n",
       "\n",
       "    .dataframe tbody tr th {\n",
       "        vertical-align: top;\n",
       "    }\n",
       "\n",
       "    .dataframe thead th {\n",
       "        text-align: right;\n",
       "    }\n",
       "</style>\n",
       "<table border=\"1\" class=\"dataframe\">\n",
       "  <thead>\n",
       "    <tr style=\"text-align: right;\">\n",
       "      <th></th>\n",
       "      <th>연도</th>\n",
       "      <th>crp_nm</th>\n",
       "      <th>rpt_nm</th>\n",
       "      <th>rcp_no</th>\n",
       "      <th>rcp_dt</th>\n",
       "      <th>rmk</th>\n",
       "      <th>str</th>\n",
       "      <th>str_tokens</th>\n",
       "      <th>str_nouns</th>\n",
       "    </tr>\n",
       "  </thead>\n",
       "  <tbody>\n",
       "    <tr>\n",
       "      <th>0</th>\n",
       "      <td>2019</td>\n",
       "      <td>삼양홀딩스</td>\n",
       "      <td>사업보고서 (2018.12)</td>\n",
       "      <td>20190401004413</td>\n",
       "      <td>20190401</td>\n",
       "      <td>정연</td>\n",
       "      <td>. 이사의 경영진단 및 분석의견1. 예측정보에 대한 주의사항당사가 본 경영진단의견서...</td>\n",
       "      <td>이사 의 경영 진단 및 분석 의견 num 예측 정보 에 대한 주 의 사항 당사 가 ...</td>\n",
       "      <td>이사 경영 진단 분석 의견 예측 정보 주 사항 당사 경영 진단 의견서 미래 발생 예...</td>\n",
       "    </tr>\n",
       "    <tr>\n",
       "      <th>1</th>\n",
       "      <td>2018</td>\n",
       "      <td>삼양홀딩스</td>\n",
       "      <td>사업보고서 (2017.12)</td>\n",
       "      <td>20180402004217</td>\n",
       "      <td>20180402</td>\n",
       "      <td>연</td>\n",
       "      <td>. 이사의 경영진단 및 분석의견1. 예측정보에 대한 주의사항당사가 본 경영진단의견서...</td>\n",
       "      <td>이사 의 경영 진단 및 분석 의견 num 예측 정보 에 대한 주 의 사항 당사 가 ...</td>\n",
       "      <td>이사 경영 진단 분석 의견 예측 정보 주 사항 당사 경영 진단 의견서 미래 발생 예...</td>\n",
       "    </tr>\n",
       "    <tr>\n",
       "      <th>2</th>\n",
       "      <td>2017</td>\n",
       "      <td>삼양홀딩스</td>\n",
       "      <td>사업보고서 (2016.12)</td>\n",
       "      <td>20170331003683</td>\n",
       "      <td>20170331</td>\n",
       "      <td>연</td>\n",
       "      <td>. 이사의 경영진단 및 분석의견1. 예측정보에 대한 주의사항 당사가 본 경영진단의견...</td>\n",
       "      <td>이사 의 경영 진단 및 분석 의견 num 예측 정보 에 대한 주 의 사항 당사 가 ...</td>\n",
       "      <td>이사 경영 진단 분석 의견 예측 정보 주 사항 당사 경영 진단 의견서 미래 발생 예...</td>\n",
       "    </tr>\n",
       "    <tr>\n",
       "      <th>3</th>\n",
       "      <td>2016</td>\n",
       "      <td>삼양홀딩스</td>\n",
       "      <td>사업보고서 (2015.12)</td>\n",
       "      <td>20160330002684</td>\n",
       "      <td>20160330</td>\n",
       "      <td>정연</td>\n",
       "      <td>. 이사의 경영진단 및 분석의견1. 예측정보에 대한 주의사항 당사가 본 경영진단의견...</td>\n",
       "      <td>이사 의 경영 진단 및 분석 의견 num 예측 정보 에 대한 주 의 사항 당사 가 ...</td>\n",
       "      <td>이사 경영 진단 분석 의견 예측 정보 주 사항 당사 경영 진단 의견서 미래 발생 예...</td>\n",
       "    </tr>\n",
       "    <tr>\n",
       "      <th>4</th>\n",
       "      <td>2015</td>\n",
       "      <td>삼양홀딩스</td>\n",
       "      <td>사업보고서 (2014.12)</td>\n",
       "      <td>20150331002399</td>\n",
       "      <td>20150331</td>\n",
       "      <td>연</td>\n",
       "      <td>. 이사의 경영진단 및 분석의견1. 예측정보에 대한 주의사항 당사가 본 경영진단의견...</td>\n",
       "      <td>이사 의 경영 진단 및 분석 의견 num 예측 정보 에 대한 주 의 사항 당사 가 ...</td>\n",
       "      <td>이사 경영 진단 분석 의견 예측 정보 주 사항 당사 경영 진단 의견서 미래 발생 예...</td>\n",
       "    </tr>\n",
       "    <tr>\n",
       "      <th>...</th>\n",
       "      <td>...</td>\n",
       "      <td>...</td>\n",
       "      <td>...</td>\n",
       "      <td>...</td>\n",
       "      <td>...</td>\n",
       "      <td>...</td>\n",
       "      <td>...</td>\n",
       "      <td>...</td>\n",
       "      <td>...</td>\n",
       "    </tr>\n",
       "    <tr>\n",
       "      <th>1112</th>\n",
       "      <td>2014</td>\n",
       "      <td>KB금융</td>\n",
       "      <td>사업보고서 (2013.12)</td>\n",
       "      <td>20140331002917</td>\n",
       "      <td>20140331</td>\n",
       "      <td>연</td>\n",
       "      <td>. 이사의 경영진단 및 분석의견1. 예측정보에 대한 주의사항당사가 동 사업보고서에서...</td>\n",
       "      <td>이사 의 경영 진단 및 분석 의견 num 예측 정보 에 대한 주 의 사항 당사 가 ...</td>\n",
       "      <td>이사 경영 진단 분석 의견 예측 정보 주 사항 당사 사업 보고서 미래 발생 예상 예...</td>\n",
       "    </tr>\n",
       "    <tr>\n",
       "      <th>1113</th>\n",
       "      <td>2013</td>\n",
       "      <td>KB금융</td>\n",
       "      <td>사업보고서 (2012.12)</td>\n",
       "      <td>20130329001808</td>\n",
       "      <td>20130329</td>\n",
       "      <td>연</td>\n",
       "      <td>. 이사의 경영진단 및 분석의견1. 예측정보에 대한 주의사항당사가 동 사업보고서에서...</td>\n",
       "      <td>이사 의 경영 진단 및 분석 의견 num 예측 정보 에 대한 주 의 사항 당사 가 ...</td>\n",
       "      <td>이사 경영 진단 분석 의견 예측 정보 주 사항 당사 사업 보고서 미래 발생 예상 예...</td>\n",
       "    </tr>\n",
       "    <tr>\n",
       "      <th>1114</th>\n",
       "      <td>2012</td>\n",
       "      <td>KB금융</td>\n",
       "      <td>사업보고서 (2011.12)</td>\n",
       "      <td>20120330002209</td>\n",
       "      <td>20120330</td>\n",
       "      <td>정연</td>\n",
       "      <td>. 이사의 경영진단 및 분석의견1. 예측정보에 대한 주의사항당사가 동 사업보고서에서...</td>\n",
       "      <td>이사 의 경영 진단 및 분석 의견 num 예측 정보 에 대한 주 의 사항 당사 가 ...</td>\n",
       "      <td>이사 경영 진단 분석 의견 예측 정보 주 사항 당사 사업 보고서 미래 발생 예상 예...</td>\n",
       "    </tr>\n",
       "    <tr>\n",
       "      <th>1115</th>\n",
       "      <td>2011</td>\n",
       "      <td>KB금융</td>\n",
       "      <td>사업보고서 (2010.12)</td>\n",
       "      <td>20110331002162</td>\n",
       "      <td>20110331</td>\n",
       "      <td>연</td>\n",
       "      <td>. 이사의 경영진단 및 분석의견1. 예측정보에 대한 주의사항당사가 동 사업보고서에서...</td>\n",
       "      <td>이사 의 경영 진단 및 분석 의견 num 예측 정보 에 대한 주 의 사항 당사 가 ...</td>\n",
       "      <td>이사 경영 진단 분석 의견 예측 정보 주 사항 당사 사업 보고서 미래 발생 예상 예...</td>\n",
       "    </tr>\n",
       "    <tr>\n",
       "      <th>1116</th>\n",
       "      <td>2010</td>\n",
       "      <td>KB금융</td>\n",
       "      <td>사업보고서 (2009.12)</td>\n",
       "      <td>20100331002440</td>\n",
       "      <td>20100331</td>\n",
       "      <td>연</td>\n",
       "      <td>. 이사의 경영진단 및 분석의견1. 예측정보에 대한 주의사항당사가 동 사업보고서에서...</td>\n",
       "      <td>이사 의 경영 진단 및 분석 의견 num 예측 정보 에 대한 주 의 사항 당사 가 ...</td>\n",
       "      <td>이사 경영 진단 분석 의견 예측 정보 주 사항 당사 사업 보고서 미래 발생 예상 예...</td>\n",
       "    </tr>\n",
       "  </tbody>\n",
       "</table>\n",
       "<p>1117 rows × 9 columns</p>\n",
       "</div>"
      ],
      "text/plain": [
       "        연도 crp_nm           rpt_nm          rcp_no    rcp_dt rmk  \\\n",
       "0     2019  삼양홀딩스  사업보고서 (2018.12)  20190401004413  20190401  정연   \n",
       "1     2018  삼양홀딩스  사업보고서 (2017.12)  20180402004217  20180402   연   \n",
       "2     2017  삼양홀딩스  사업보고서 (2016.12)  20170331003683  20170331   연   \n",
       "3     2016  삼양홀딩스  사업보고서 (2015.12)  20160330002684  20160330  정연   \n",
       "4     2015  삼양홀딩스  사업보고서 (2014.12)  20150331002399  20150331   연   \n",
       "...    ...    ...              ...             ...       ...  ..   \n",
       "1112  2014   KB금융  사업보고서 (2013.12)  20140331002917  20140331   연   \n",
       "1113  2013   KB금융  사업보고서 (2012.12)  20130329001808  20130329   연   \n",
       "1114  2012   KB금융  사업보고서 (2011.12)  20120330002209  20120330  정연   \n",
       "1115  2011   KB금융  사업보고서 (2010.12)  20110331002162  20110331   연   \n",
       "1116  2010   KB금융  사업보고서 (2009.12)  20100331002440  20100331   연   \n",
       "\n",
       "                                                    str  \\\n",
       "0     . 이사의 경영진단 및 분석의견1. 예측정보에 대한 주의사항당사가 본 경영진단의견서...   \n",
       "1     . 이사의 경영진단 및 분석의견1. 예측정보에 대한 주의사항당사가 본 경영진단의견서...   \n",
       "2     . 이사의 경영진단 및 분석의견1. 예측정보에 대한 주의사항 당사가 본 경영진단의견...   \n",
       "3     . 이사의 경영진단 및 분석의견1. 예측정보에 대한 주의사항 당사가 본 경영진단의견...   \n",
       "4     . 이사의 경영진단 및 분석의견1. 예측정보에 대한 주의사항 당사가 본 경영진단의견...   \n",
       "...                                                 ...   \n",
       "1112  . 이사의 경영진단 및 분석의견1. 예측정보에 대한 주의사항당사가 동 사업보고서에서...   \n",
       "1113  . 이사의 경영진단 및 분석의견1. 예측정보에 대한 주의사항당사가 동 사업보고서에서...   \n",
       "1114  . 이사의 경영진단 및 분석의견1. 예측정보에 대한 주의사항당사가 동 사업보고서에서...   \n",
       "1115  . 이사의 경영진단 및 분석의견1. 예측정보에 대한 주의사항당사가 동 사업보고서에서...   \n",
       "1116  . 이사의 경영진단 및 분석의견1. 예측정보에 대한 주의사항당사가 동 사업보고서에서...   \n",
       "\n",
       "                                             str_tokens  \\\n",
       "0     이사 의 경영 진단 및 분석 의견 num 예측 정보 에 대한 주 의 사항 당사 가 ...   \n",
       "1     이사 의 경영 진단 및 분석 의견 num 예측 정보 에 대한 주 의 사항 당사 가 ...   \n",
       "2     이사 의 경영 진단 및 분석 의견 num 예측 정보 에 대한 주 의 사항 당사 가 ...   \n",
       "3     이사 의 경영 진단 및 분석 의견 num 예측 정보 에 대한 주 의 사항 당사 가 ...   \n",
       "4     이사 의 경영 진단 및 분석 의견 num 예측 정보 에 대한 주 의 사항 당사 가 ...   \n",
       "...                                                 ...   \n",
       "1112  이사 의 경영 진단 및 분석 의견 num 예측 정보 에 대한 주 의 사항 당사 가 ...   \n",
       "1113  이사 의 경영 진단 및 분석 의견 num 예측 정보 에 대한 주 의 사항 당사 가 ...   \n",
       "1114  이사 의 경영 진단 및 분석 의견 num 예측 정보 에 대한 주 의 사항 당사 가 ...   \n",
       "1115  이사 의 경영 진단 및 분석 의견 num 예측 정보 에 대한 주 의 사항 당사 가 ...   \n",
       "1116  이사 의 경영 진단 및 분석 의견 num 예측 정보 에 대한 주 의 사항 당사 가 ...   \n",
       "\n",
       "                                              str_nouns  \n",
       "0     이사 경영 진단 분석 의견 예측 정보 주 사항 당사 경영 진단 의견서 미래 발생 예...  \n",
       "1     이사 경영 진단 분석 의견 예측 정보 주 사항 당사 경영 진단 의견서 미래 발생 예...  \n",
       "2     이사 경영 진단 분석 의견 예측 정보 주 사항 당사 경영 진단 의견서 미래 발생 예...  \n",
       "3     이사 경영 진단 분석 의견 예측 정보 주 사항 당사 경영 진단 의견서 미래 발생 예...  \n",
       "4     이사 경영 진단 분석 의견 예측 정보 주 사항 당사 경영 진단 의견서 미래 발생 예...  \n",
       "...                                                 ...  \n",
       "1112  이사 경영 진단 분석 의견 예측 정보 주 사항 당사 사업 보고서 미래 발생 예상 예...  \n",
       "1113  이사 경영 진단 분석 의견 예측 정보 주 사항 당사 사업 보고서 미래 발생 예상 예...  \n",
       "1114  이사 경영 진단 분석 의견 예측 정보 주 사항 당사 사업 보고서 미래 발생 예상 예...  \n",
       "1115  이사 경영 진단 분석 의견 예측 정보 주 사항 당사 사업 보고서 미래 발생 예상 예...  \n",
       "1116  이사 경영 진단 분석 의견 예측 정보 주 사항 당사 사업 보고서 미래 발생 예상 예...  \n",
       "\n",
       "[1117 rows x 9 columns]"
      ]
     },
     "execution_count": 6,
     "metadata": {},
     "output_type": "execute_result"
    }
   ],
   "source": [
    "df"
   ]
  },
  {
   "cell_type": "markdown",
   "metadata": {},
   "source": [
    "#### 사업보고서 fillings_month 체크"
   ]
  },
  {
   "cell_type": "code",
   "execution_count": 7,
   "metadata": {},
   "outputs": [
    {
     "data": {
      "image/png": "[encoded data removed]",
      "text/plain": [
       "<Figure size 864x432 with 1 Axes>"
      ]
     },
     "metadata": {
      "needs_background": "light"
     },
     "output_type": "display_data"
    }
   ],
   "source": [
    "rcp_month = [str(x)[4:6] for x in df.rcp_dt]\n",
    "rcp_df = pd.DataFrame(rcp_month,columns={'발행월'})\n",
    "hist = plt.hist(rcp_df.발행월,bins = None)\n",
    "plt.show()"
   ]
  },
  {
   "cell_type": "markdown",
   "metadata": {},
   "source": [
    "## wordcount"
   ]
  },
  {
   "cell_type": "code",
   "execution_count": 8,
   "metadata": {},
   "outputs": [],
   "source": [
    "def word_count(ls):  #document의 word count\n",
    "    ls = ls.split()\n",
    "    counts = dict()\n",
    "    for word in ls:\n",
    "        if word in counts:\n",
    "            counts[word] += 1\n",
    "        else:\n",
    "            counts[word] = 1\n",
    "            \n",
    "    return counts\n"
   ]
  },
  {
   "cell_type": "code",
   "execution_count": 9,
   "metadata": {},
   "outputs": [],
   "source": [
    "def total_word_count(srs): #total document의 word count\n",
    "    ls = [x.split() for x in srs]\n",
    "    counts = dict()\n",
    "    for doc in ls:\n",
    "        for word in doc:\n",
    "            if word in counts:\n",
    "                counts[word] += 1\n",
    "            else:\n",
    "                counts[word] = 1\n",
    "    return counts"
   ]
  },
  {
   "cell_type": "code",
   "execution_count": null,
   "metadata": {},
   "outputs": [],
   "source": [
    "tokens_dic = total_word_count(df.str_tokens)\n",
    "nouns_dic = total_word_count(df.str_nouns)\n",
    "tfd_tokens = pd.DataFrame(tokens_dic.items(),columns = ['단어','빈도']).sort_values('빈도',ascending=False).reset_index(drop=True)\n",
    "tfd_nouns = pd.DataFrame(nouns_dic.items(),columns = ['단어','빈도']).sort_values('빈도',ascending=False).reset_index(drop=True)"
   ]
  },
  {
   "cell_type": "code",
   "execution_count": null,
   "metadata": {},
   "outputs": [],
   "source": [
    "tfd_nouns.head(10)"
   ]
  },
  {
   "cell_type": "code",
   "execution_count": null,
   "metadata": {},
   "outputs": [],
   "source": [
    "tfd_nouns.tail(10)"
   ]
  },
  {
   "cell_type": "markdown",
   "metadata": {},
   "source": [
    "### Wordcloud"
   ]
  },
  {
   "cell_type": "code",
   "execution_count": null,
   "metadata": {},
   "outputs": [],
   "source": [
    "from wordcloud import WordCloud #wordcloud 생성\n",
    "from IPython.display import set_matplotlib_formats\n",
    "import matplotlib\n",
    "\n",
    "matplotlib.rc('font',family = 'Malgun Gothic')\n",
    "set_matplotlib_formats('retina')\n",
    "matplotlib.rc('axes',unicode_minus = False)\n",
    "plt.rcParams[\"figure.figsize\"] = (15,8)\n",
    "wordcloud = WordCloud(font_path = 'C:/Windows/Fonts/malgun.ttf', background_color='white',colormap = \"Accent_r\",\n",
    "            width=1500, height=1000).generate_from_frequencies(tokens_dic) #여기에 dic형태넣어주기\n",
    "\n",
    "plt.imshow(wordcloud)\n",
    "plt.axis('off')\n",
    "plt.show;"
   ]
  },
  {
   "cell_type": "markdown",
   "metadata": {},
   "source": [
    "## Document size check"
   ]
  },
  {
   "cell_type": "code",
   "execution_count": null,
   "metadata": {},
   "outputs": [],
   "source": [
    "print(df.shape)\n",
    "print(tfd_tokens.shape)\n",
    "print(tfd_nouns.shape)"
   ]
  },
  {
   "cell_type": "markdown",
   "metadata": {},
   "source": [
    "dataset은 10년동안 kospi200에 계속 편입되어있던 113개의 기업의 발간 사업보고서들인 1117개의 Documents입니다.\n",
    "Mecab으로 형태소분석을 했을 때 총 토큰들과 그 중 명사만 뽑아 term document freqeuncy를 빈도가 높은 순 대로 살펴보았는데 각각 14198, 9865개의 단어 수를 기록했습니다. 형태소분석 단어집합들은 숫자를 치환한 'num'와 조사가 빈도수가 가장 많았습니다.\n",
    "\n",
    "\n",
    "다음으로는 조사와 num을 제외하여 단어 count를 살펴보고, tfd_nouns와 비교 후 이를 documnet filings 연도별로 매칭시켜 연도별 word counts의 frequency를 살펴보도록 하자."
   ]
  },
  {
   "cell_type": "code",
   "execution_count": null,
   "metadata": {},
   "outputs": [],
   "source": [
    "df_count = df.copy()\n",
    "df_count = df_count.loc[:,['연도','crp_nm','rpt_nm']]\n",
    "word_count_ls = [len(word_count(x).items()) for x in df.str_tokens]\n",
    "word_count_noun_ls = [len(word_count(x).items()) for x in df.str_nouns]\n",
    "df_count['document_size'] = word_count_ls\n",
    "df_count['document_noun_size'] = word_count_noun_ls"
   ]
  },
  {
   "cell_type": "code",
   "execution_count": null,
   "metadata": {},
   "outputs": [],
   "source": [
    "df_count.document_size.describe()"
   ]
  },
  {
   "cell_type": "code",
   "execution_count": null,
   "metadata": {},
   "outputs": [],
   "source": [
    "df_count = df_count.sort_values(by = '연도')\n",
    "year_ls = [sum(df_count[df_count.연도 == x].document_size) for x in df_count.연도.unique()]\n",
    "year_noun_ls = [sum(df_count[df_count.연도 == x].document_noun_size) for x in df_count.연도.unique()]\n",
    "doc_size_by_year = pd.DataFrame(list(zip(df_count.연도.unique(),year_ls,year_noun_ls)),columns= ['year','document','noun'])\n",
    "doc_size_by_year = doc_size_by_year.sort_values(by = 'year', ascending= True).reset_index(drop=True)"
   ]
  },
  {
   "cell_type": "code",
   "execution_count": null,
   "metadata": {},
   "outputs": [],
   "source": [
    "doc_size_by_year"
   ]
  },
  {
   "cell_type": "code",
   "execution_count": null,
   "metadata": {},
   "outputs": [],
   "source": [
    "import matplotlib.pyplot as plt\n",
    "\n",
    "plt.bar(doc_size_by_year.year, doc_size_by_year.document)\n",
    "\n",
    "plt.xlabel('year')\n",
    "plt.ylabel('document size')\n",
    "plt.show()"
   ]
  },
  {
   "cell_type": "markdown",
   "metadata": {},
   "source": [
    "Similarity_Cohen_Malloy_Nguyen(2019)Lazy Prices의 내용과 마찬가지로 미국 뿐만 아니라 한국에서도 10년간 사업보고서 내의 단어 빈도가 꾸준히 증가하였다. 토큰화된 사업보고서의 텍스트를 기준으로 하였으며 명사로 봤을 때도 단조 증가하는 양상은 동일하였다."
   ]
  },
  {
   "cell_type": "markdown",
   "metadata": {},
   "source": [
    "## Document Similarity"
   ]
  },
  {
   "cell_type": "markdown",
   "metadata": {},
   "source": [
    "\n",
    "Document의 유사도를 계산하기 위해서 논문에서 다루고 있는 Jaccard similarity 외에 Cosine similarity가 있다. 코사인 유사도는 두 벡터 간의 사잇각의 크기를 측정하여 유사도를 측정하는 방법이다. 텍스트마이닝에서는 각각의 document D1 , D2가 벡터로 표현되고.. D1의 term frequency만큼의 차원을 가진 벡터 V1으로 표현이 될 것이다. 연산을 위해서는 D1과 D2의 차원이 같아야 하므로 사업보고서의 단어수는 각각 다르기 떄문에 padding을 시켜줄 필요가 있다. 공식은 간단하게 분자는 각각의 벡터들의 내적, 분모는 두 벡터의 크기의 곱을 Euclidian distance로 구해주면 된다.\n",
    "\n",
    "단순하게 단어 set의 교집합을 합집합으로 나누는 자카드 유사도보다는 문서의 의미론적인 유사도 파악에 있어서 이점이 있는지는 정확하게 모르겠지만 수치상으로 비교했을 때 코사인 유사도가 더 높은 것 같다.\n",
    "\n",
    "텍스트마이닝에서 사이킷런의 패키지도 그렇고  TF-IDF를 가지고 코사인 유사도 계산을 하는데 TF-IDF란 TF(term frequency)에 IDF(inverse document frequency)를 곱한 것이다. 아이디어의 핵심은 단순히 단어의 빈도가 많다고 그 단어가 중요한 단어가 아니라 특정 문서(document)에서 많이 등장하는 단어인지 아니면 모든 문서에서 많이 등장하는 단어인지를 파악하여 weight를 줘야 한다는 것이다. 가령 한글의 조사 ‘은’이나 ‘가’는 형태소 토큰화를 했을때 빈번하게 등장하는 토큰일 것이지만 문서들간의 유사도를 따지는 데 있어서 중요한 단어라고 보기 어렵다. \n",
    "IDF는 N/df에 log를 씌워줘서 계산한다. 확률의 개념을 사용하여 원래는 N( 등장한 document의 총 수)를 실제 term이 등장한 document의 수인 df로 나눠준 것인데 이를 inverse하여 log를 씌웠다. 로그를 씌운 것은 곱셈계산을 더해서 할수있고 빈도가 가장 많이 나오는 단어들은 그렇지 않은 단어들에 비해 거의 2배씩 증가하면서 많아지기 때문에 이를 보정하기 위한 정규화 방법이라고 볼 수 있다.\n"
   ]
  },
  {
   "cell_type": "code",
   "execution_count": null,
   "metadata": {},
   "outputs": [],
   "source": [
    "def length_adjust(str_) : \n",
    "    return (2-len(str_)) * '0' + str_\n",
    "\n",
    "def date_convertor(date) : \n",
    "    year = length_adjust(str(date.year))\n",
    "    month = length_adjust(str(date.month))\n",
    "    day = length_adjust(str(date.day))\n",
    "    yyyymmdd = int(year+month+day)\n",
    "    return yyyymmdd"
   ]
  },
  {
   "cell_type": "code",
   "execution_count": null,
   "metadata": {},
   "outputs": [],
   "source": [
    "def cal_sim(df,type_):\n",
    "    \n",
    "    \n",
    "    naive_df = df.copy()\n",
    "    lv2_index = pd.date_range(start='20100101', end='20191231')\n",
    "    lv2_index = list(map(date_convertor,lv2_index))\n",
    "    lv2_columns = naive_df.crp_nm.unique()\n",
    "\n",
    "    lv2_df = \\\n",
    "    pd.DataFrame(np.full(shape=(len(lv2_index),len(lv2_columns)),fill_value=np.nan),index=lv2_index,columns=lv2_columns)\n",
    "    \n",
    "    for process,corp_name in enumerate(lv2_columns):\n",
    "        print(\"Process : {} | Total : {}\".format(process+1,len(lv2_columns)),end='\\r')\n",
    "\n",
    "        tmp_df = naive_df[naive_df.crp_nm == corp_name]\n",
    "\n",
    "        min_yr = tmp_df['연도'].min() #2010\n",
    "        max_yr = tmp_df['연도'].max() #2019\n",
    "\n",
    "        tmp_tf = tfidf.fit_transform(tmp_df.str_tokens) #vectorize as matrix\n",
    "        tmp_cosine = linear_kernel(tmp_tf,tmp_tf)\n",
    "\n",
    "        sim_ls = []; year_ls = []\n",
    "\n",
    "        for yr in range(min_yr,max_yr) :\n",
    "\n",
    "            pre_df = tmp_df[tmp_df['연도'] == yr]\n",
    "            next_df = tmp_df[tmp_df['연도'] == yr+1]\n",
    "\n",
    "            publish_date = tmp_df[tmp_df['연도'] == yr+1]['rcp_dt']\n",
    "\n",
    "            if len(pre_df) == 0 or len(next_df) ==0:\n",
    "                continue\n",
    "\n",
    "            else:\n",
    "                if type_ == 'cosine':\n",
    "                    concat_df = pd.concat([pre_df,next_df]) \n",
    "                    co_vec = tfidf.fit_transform(concat_df.str_nouns)\n",
    "                    sim = linear_kernel(co_vec)[1][0]\n",
    "                    \n",
    "                elif type_ == 'jaccard':\n",
    "                    pre_token = pre_df.str_tokens.map(lambda x : x.split(\" \")).values\n",
    "                    next_token = next_df.str_tokens.map(lambda x : x.split(\" \")).values   \n",
    "                    if type(pre_token[0]) == list and type(next_token[0]) == list :\n",
    "                        sim = len(set(next_token[0])&set(pre_token[0]))/len(set(next_token[0] + pre_token[0]))\n",
    "                    else : \n",
    "                        sim = len(set(next_token)&set(pre_token))/len(set(next_token + pre_token))\n",
    "                    \n",
    "\n",
    "            year_ls.append(publish_date.values[0])\n",
    "            sim_ls.append(sim)\n",
    "\n",
    "            assert len(year_ls) == len(sim_ls)\n",
    "            lv2_df.loc[year_ls,corp_name] = sim_ls\n",
    "    \n",
    "    return lv2_df"
   ]
  },
  {
   "cell_type": "code",
   "execution_count": null,
   "metadata": {},
   "outputs": [],
   "source": [
    "%%time\n",
    "cosine_df = cal_sim(df,'cosine')\n",
    "jaccard_df = cal_sim(df,'jaccard')"
   ]
  },
  {
   "cell_type": "code",
   "execution_count": null,
   "metadata": {},
   "outputs": [],
   "source": [
    "print(jaccard_df.mean().mean())\n",
    "print(cosine_df.mean().mean())"
   ]
  },
  {
   "cell_type": "code",
   "execution_count": null,
   "metadata": {},
   "outputs": [],
   "source": [
    "cos_ls = []\n",
    "jac_ls = []\n",
    "for i in cosine_df.columns:\n",
    "    for j in cosine_df.index:\n",
    "        if cosine_df.loc[j,i] > 0:\n",
    "            cos_ls.append(cosine_df.loc[j,i])\n",
    "    \n",
    "for i in jaccard_df.columns:\n",
    "    for j in jaccard_df.index:\n",
    "        if jaccard_df.loc[j,i] > 0:\n",
    "           jac_ls.append(jaccard_df.loc[j,i])\n",
    "        \n",
    "sim_df = pd.DataFrame([jac_ls,cos_ls],index={'jaccard','cosine'})\n",
    "sim_df = sim_df.T\n",
    "\n",
    "sim_df.corr(method='pearson')"
   ]
  },
  {
   "cell_type": "code",
   "execution_count": null,
   "metadata": {},
   "outputs": [],
   "source": [
    "cosine_df[cosine_df.loc[:,'삼양홀딩스'].isnull() != True]"
   ]
  },
  {
   "cell_type": "markdown",
   "metadata": {},
   "source": [
    "사업보고서의 유사도를 비교하기 위해 자카드 유사도와 코사인 유사도 두가지 방법으로 유사도를 측정하여 dataframe 형태로 저장하였다.\n",
    "\n",
    "columns는 113개의 기업들, index는 2010년부터 2019년까지의 일별날짜로 사업보고서가 첫 번쨰로 filing된 날짜인 rcp_dt에 전년도와 다음년도 사업보고서의 유사도를 저장하였다. 만약 10년에 처음 보고서가 나오고 다음해인 11년 3월 31일에 다음 사업보고서가 나왔다면 20110331의 인덱스에 2010년과 2011년 보고서의 유사도값을 저장하였다. 연속된 해에 보고서가 한번이라도 없으면 이를 배제하였고 총 1000개의 유사도값이 나왔다.\n",
    "\n",
    "자카드 유사도의 평균값은 0.66, 코사인 유사도의 평균값은 0.85이다. 코사인 유사도를 계산하는 공식에는 조금씩 차이가 있지만 보편적으로 쓰이는 사이킷런 패키지의  tf-idf 벡터화를 실행한 후 이들의 코사인 값을 계산했다.\n",
    "\n",
    "자카드와 코사인 유사도로 계산한 값들의 correlation은 0.794961이다.\n",
    "\n",
    "\n"
   ]
  }
 ],
 "metadata": {
  "kernelspec": {
   "display_name": "Python 3",
   "language": "python",
   "name": "python3"
  },
  "language_info": {
   "codemirror_mode": {
    "name": "ipython",
    "version": 3
   },
   "file_extension": ".py",
   "mimetype": "text/x-python",
   "name": "python",
   "nbconvert_exporter": "python",
   "pygments_lexer": "ipython3",
   "version": "3.7.6"
  }
 },
 "nbformat": 4,
 "nbformat_minor": 4
}
