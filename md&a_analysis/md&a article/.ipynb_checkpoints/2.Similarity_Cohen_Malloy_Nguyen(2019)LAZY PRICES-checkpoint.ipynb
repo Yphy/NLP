{
 "cells": [
  {
   "cell_type": "code",
   "execution_count": 1,
   "metadata": {},
   "outputs": [
    {
     "data": {
      "text/html": [
       "        <script type=\"text/javascript\">\n",
       "        window.PlotlyConfig = {MathJaxConfig: 'local'};\n",
       "        if (window.MathJax) {MathJax.Hub.Config({SVG: {font: \"STIX-Web\"}});}\n",
       "        if (typeof require !== 'undefined') {\n",
       "        require.undef(\"plotly\");\n",
       "        requirejs.config({\n",
       "            paths: {\n",
       "                'plotly': ['https://cdn.plot.ly/plotly-latest.min']\n",
       "            }\n",
       "        });\n",
       "        require(['plotly'], function(Plotly) {\n",
       "            window._Plotly = Plotly;\n",
       "        });\n",
       "        }\n",
       "        </script>\n",
       "        "
      ]
     },
     "metadata": {},
     "output_type": "display_data"
    }
   ],
   "source": [
    "import numpy as np\n",
    "import pandas as pd\n",
    "import matplotlib.pyplot as plt\n",
    "import plotly.graph_objs as go\n",
    "from chart_studio.plotly import plot, iplot\n",
    "import cufflinks as cf\n",
    "cf.go_offline(connected=True)"
   ]
  },
  {
   "cell_type": "code",
   "execution_count": 3,
   "metadata": {},
   "outputs": [],
   "source": [
    "return_df = pd.read_csv('./data/kospi/preprocessed/df_return.csv',index_col=0)\n",
    "jaccard_df = pd.read_csv('./data/similarity/jaccard_df.csv',index_col=0)\n",
    "cosine_df = pd.read_csv('./data/similarity/cosine_df.csv',index_col=0)\n",
    "\n",
    "lv2_jaccard = jaccard_df.copy().loc[return_df.index] #거래일에 맞춰서 인덱싱\n",
    "lv2_cosine = cosine_df.copy().loc[return_df.index]"
   ]
  },
  {
   "cell_type": "markdown",
   "metadata": {},
   "source": [
    "## Main table II 구성"
   ]
  },
  {
   "cell_type": "markdown",
   "metadata": {},
   "source": [
    "Excess return, 3-factor alpha, 5-factor alpha 을 계산한 table II 를 만들고자 합니다.\n",
    "유사도 기준으로 Q1~Q5까지 낮은순부터 높은 순대로 portfolio를 만들고 document가 filing된 시점부터 종목을 보유하여 3개월 동안의 수익률을 보겠습니다. 그룹을 sorting하는 데 있어서는 전체유사도 평균이 아닌 개별기업의 연속된 사업보고서 값을 선정하였습니다.\n",
    "\n",
    "Quantile 1(Q1) refers to firms that have the least similarity between their document this year and\n",
    "the one last year; hence this portfolio consists of the “big changers.” Quintile 5 (Q5) refers\n",
    "to firms that have the most similarity in their documents across years, and hence this\n",
    "portfolio represents the “little to no changers."
   ]
  },
  {
   "cell_type": "code",
   "execution_count": 4,
   "metadata": {},
   "outputs": [
    {
     "data": {
      "text/html": [
       "<div>\n",
       "<style scoped>\n",
       "    .dataframe tbody tr th:only-of-type {\n",
       "        vertical-align: middle;\n",
       "    }\n",
       "\n",
       "    .dataframe tbody tr th {\n",
       "        vertical-align: top;\n",
       "    }\n",
       "\n",
       "    .dataframe thead th {\n",
       "        text-align: right;\n",
       "    }\n",
       "</style>\n",
       "<table border=\"1\" class=\"dataframe\">\n",
       "  <thead>\n",
       "    <tr style=\"text-align: right;\">\n",
       "      <th></th>\n",
       "      <th>삼양홀딩스</th>\n",
       "      <th>유한양행</th>\n",
       "      <th>CJ대한통운</th>\n",
       "      <th>두산</th>\n",
       "      <th>대림산업</th>\n",
       "      <th>한국테크놀로지그룹</th>\n",
       "      <th>기아차</th>\n",
       "      <th>동아쏘시오홀딩스</th>\n",
       "      <th>SK하이닉스</th>\n",
       "      <th>영풍</th>\n",
       "      <th>...</th>\n",
       "      <th>현대백화점</th>\n",
       "      <th>한국금융지주</th>\n",
       "      <th>GS</th>\n",
       "      <th>하나금융지주</th>\n",
       "      <th>아모레퍼시픽</th>\n",
       "      <th>LF</th>\n",
       "      <th>후성</th>\n",
       "      <th>SK이노베이션</th>\n",
       "      <th>CJ제일제당</th>\n",
       "      <th>KB금융</th>\n",
       "    </tr>\n",
       "  </thead>\n",
       "  <tbody>\n",
       "    <tr>\n",
       "      <th>20110331</th>\n",
       "      <td>0.482558</td>\n",
       "      <td>NaN</td>\n",
       "      <td>0.615385</td>\n",
       "      <td>0.579749</td>\n",
       "      <td>0.630503</td>\n",
       "      <td>0.203113</td>\n",
       "      <td>0.705706</td>\n",
       "      <td>NaN</td>\n",
       "      <td>0.750000</td>\n",
       "      <td>0.576200</td>\n",
       "      <td>...</td>\n",
       "      <td>0.873362</td>\n",
       "      <td>NaN</td>\n",
       "      <td>NaN</td>\n",
       "      <td>0.462889</td>\n",
       "      <td>0.577154</td>\n",
       "      <td>NaN</td>\n",
       "      <td>0.633452</td>\n",
       "      <td>0.574394</td>\n",
       "      <td>0.755193</td>\n",
       "      <td>0.716630</td>\n",
       "    </tr>\n",
       "    <tr>\n",
       "      <th>20120330</th>\n",
       "      <td>0.349498</td>\n",
       "      <td>0.691877</td>\n",
       "      <td>0.500778</td>\n",
       "      <td>0.484272</td>\n",
       "      <td>0.604478</td>\n",
       "      <td>0.650970</td>\n",
       "      <td>0.404380</td>\n",
       "      <td>0.446479</td>\n",
       "      <td>0.527778</td>\n",
       "      <td>0.372517</td>\n",
       "      <td>...</td>\n",
       "      <td>NaN</td>\n",
       "      <td>NaN</td>\n",
       "      <td>0.692913</td>\n",
       "      <td>0.649770</td>\n",
       "      <td>0.555950</td>\n",
       "      <td>0.895184</td>\n",
       "      <td>0.592593</td>\n",
       "      <td>0.425806</td>\n",
       "      <td>0.579278</td>\n",
       "      <td>0.710660</td>\n",
       "    </tr>\n",
       "    <tr>\n",
       "      <th>20130401</th>\n",
       "      <td>0.541254</td>\n",
       "      <td>NaN</td>\n",
       "      <td>NaN</td>\n",
       "      <td>NaN</td>\n",
       "      <td>0.714286</td>\n",
       "      <td>0.597826</td>\n",
       "      <td>0.536538</td>\n",
       "      <td>0.645907</td>\n",
       "      <td>NaN</td>\n",
       "      <td>0.525890</td>\n",
       "      <td>...</td>\n",
       "      <td>0.725910</td>\n",
       "      <td>NaN</td>\n",
       "      <td>NaN</td>\n",
       "      <td>0.643997</td>\n",
       "      <td>0.551537</td>\n",
       "      <td>NaN</td>\n",
       "      <td>0.533141</td>\n",
       "      <td>0.571237</td>\n",
       "      <td>0.730924</td>\n",
       "      <td>NaN</td>\n",
       "    </tr>\n",
       "    <tr>\n",
       "      <th>20140331</th>\n",
       "      <td>0.623506</td>\n",
       "      <td>0.576659</td>\n",
       "      <td>0.528402</td>\n",
       "      <td>0.468793</td>\n",
       "      <td>0.643312</td>\n",
       "      <td>0.898990</td>\n",
       "      <td>0.697959</td>\n",
       "      <td>0.668571</td>\n",
       "      <td>0.963636</td>\n",
       "      <td>0.510526</td>\n",
       "      <td>...</td>\n",
       "      <td>0.763092</td>\n",
       "      <td>0.471028</td>\n",
       "      <td>0.881773</td>\n",
       "      <td>0.776367</td>\n",
       "      <td>0.604414</td>\n",
       "      <td>0.650526</td>\n",
       "      <td>0.604839</td>\n",
       "      <td>0.543253</td>\n",
       "      <td>0.754881</td>\n",
       "      <td>0.737799</td>\n",
       "    </tr>\n",
       "    <tr>\n",
       "      <th>20150331</th>\n",
       "      <td>0.688259</td>\n",
       "      <td>0.782927</td>\n",
       "      <td>0.616085</td>\n",
       "      <td>0.589710</td>\n",
       "      <td>0.665848</td>\n",
       "      <td>0.924460</td>\n",
       "      <td>0.677355</td>\n",
       "      <td>0.529118</td>\n",
       "      <td>0.202312</td>\n",
       "      <td>0.812367</td>\n",
       "      <td>...</td>\n",
       "      <td>0.640756</td>\n",
       "      <td>0.772939</td>\n",
       "      <td>0.130774</td>\n",
       "      <td>0.678119</td>\n",
       "      <td>0.518400</td>\n",
       "      <td>0.923913</td>\n",
       "      <td>0.818681</td>\n",
       "      <td>0.672179</td>\n",
       "      <td>0.678571</td>\n",
       "      <td>0.724490</td>\n",
       "    </tr>\n",
       "    <tr>\n",
       "      <th>20160330</th>\n",
       "      <td>0.632207</td>\n",
       "      <td>0.574423</td>\n",
       "      <td>0.579921</td>\n",
       "      <td>0.591931</td>\n",
       "      <td>0.571914</td>\n",
       "      <td>0.933852</td>\n",
       "      <td>0.791111</td>\n",
       "      <td>0.674319</td>\n",
       "      <td>0.317259</td>\n",
       "      <td>0.782341</td>\n",
       "      <td>...</td>\n",
       "      <td>0.726695</td>\n",
       "      <td>0.566667</td>\n",
       "      <td>0.724882</td>\n",
       "      <td>0.677509</td>\n",
       "      <td>0.487842</td>\n",
       "      <td>0.785276</td>\n",
       "      <td>0.794721</td>\n",
       "      <td>0.652893</td>\n",
       "      <td>0.599624</td>\n",
       "      <td>0.781513</td>\n",
       "    </tr>\n",
       "    <tr>\n",
       "      <th>20170331</th>\n",
       "      <td>0.643299</td>\n",
       "      <td>0.816705</td>\n",
       "      <td>0.541444</td>\n",
       "      <td>0.597531</td>\n",
       "      <td>0.629448</td>\n",
       "      <td>0.604712</td>\n",
       "      <td>0.692469</td>\n",
       "      <td>0.867362</td>\n",
       "      <td>0.585882</td>\n",
       "      <td>0.680357</td>\n",
       "      <td>...</td>\n",
       "      <td>0.729977</td>\n",
       "      <td>0.629002</td>\n",
       "      <td>0.743371</td>\n",
       "      <td>0.703704</td>\n",
       "      <td>0.556535</td>\n",
       "      <td>NaN</td>\n",
       "      <td>0.890244</td>\n",
       "      <td>0.864389</td>\n",
       "      <td>0.637708</td>\n",
       "      <td>0.701692</td>\n",
       "    </tr>\n",
       "    <tr>\n",
       "      <th>20180402</th>\n",
       "      <td>0.540034</td>\n",
       "      <td>0.715789</td>\n",
       "      <td>0.599490</td>\n",
       "      <td>NaN</td>\n",
       "      <td>NaN</td>\n",
       "      <td>0.739583</td>\n",
       "      <td>0.646035</td>\n",
       "      <td>0.815789</td>\n",
       "      <td>0.321534</td>\n",
       "      <td>0.839187</td>\n",
       "      <td>...</td>\n",
       "      <td>0.652427</td>\n",
       "      <td>0.507442</td>\n",
       "      <td>0.578341</td>\n",
       "      <td>0.780149</td>\n",
       "      <td>0.638095</td>\n",
       "      <td>NaN</td>\n",
       "      <td>0.828804</td>\n",
       "      <td>0.739049</td>\n",
       "      <td>NaN</td>\n",
       "      <td>0.753463</td>\n",
       "    </tr>\n",
       "    <tr>\n",
       "      <th>20190401</th>\n",
       "      <td>0.690635</td>\n",
       "      <td>0.532609</td>\n",
       "      <td>0.727488</td>\n",
       "      <td>NaN</td>\n",
       "      <td>0.510638</td>\n",
       "      <td>0.625402</td>\n",
       "      <td>0.678700</td>\n",
       "      <td>0.738854</td>\n",
       "      <td>NaN</td>\n",
       "      <td>0.811252</td>\n",
       "      <td>...</td>\n",
       "      <td>0.758364</td>\n",
       "      <td>0.564672</td>\n",
       "      <td>0.671296</td>\n",
       "      <td>0.776720</td>\n",
       "      <td>0.543662</td>\n",
       "      <td>0.870103</td>\n",
       "      <td>0.857909</td>\n",
       "      <td>0.810392</td>\n",
       "      <td>0.677365</td>\n",
       "      <td>0.821839</td>\n",
       "    </tr>\n",
       "  </tbody>\n",
       "</table>\n",
       "<p>9 rows × 113 columns</p>\n",
       "</div>"
      ],
      "text/plain": [
       "             삼양홀딩스      유한양행    CJ대한통운        두산      대림산업  한국테크놀로지그룹  \\\n",
       "20110331  0.482558       NaN  0.615385  0.579749  0.630503   0.203113   \n",
       "20120330  0.349498  0.691877  0.500778  0.484272  0.604478   0.650970   \n",
       "20130401  0.541254       NaN       NaN       NaN  0.714286   0.597826   \n",
       "20140331  0.623506  0.576659  0.528402  0.468793  0.643312   0.898990   \n",
       "20150331  0.688259  0.782927  0.616085  0.589710  0.665848   0.924460   \n",
       "20160330  0.632207  0.574423  0.579921  0.591931  0.571914   0.933852   \n",
       "20170331  0.643299  0.816705  0.541444  0.597531  0.629448   0.604712   \n",
       "20180402  0.540034  0.715789  0.599490       NaN       NaN   0.739583   \n",
       "20190401  0.690635  0.532609  0.727488       NaN  0.510638   0.625402   \n",
       "\n",
       "               기아차  동아쏘시오홀딩스    SK하이닉스        영풍  ...     현대백화점    한국금융지주  \\\n",
       "20110331  0.705706       NaN  0.750000  0.576200  ...  0.873362       NaN   \n",
       "20120330  0.404380  0.446479  0.527778  0.372517  ...       NaN       NaN   \n",
       "20130401  0.536538  0.645907       NaN  0.525890  ...  0.725910       NaN   \n",
       "20140331  0.697959  0.668571  0.963636  0.510526  ...  0.763092  0.471028   \n",
       "20150331  0.677355  0.529118  0.202312  0.812367  ...  0.640756  0.772939   \n",
       "20160330  0.791111  0.674319  0.317259  0.782341  ...  0.726695  0.566667   \n",
       "20170331  0.692469  0.867362  0.585882  0.680357  ...  0.729977  0.629002   \n",
       "20180402  0.646035  0.815789  0.321534  0.839187  ...  0.652427  0.507442   \n",
       "20190401  0.678700  0.738854       NaN  0.811252  ...  0.758364  0.564672   \n",
       "\n",
       "                GS    하나금융지주    아모레퍼시픽        LF        후성   SK이노베이션  \\\n",
       "20110331       NaN  0.462889  0.577154       NaN  0.633452  0.574394   \n",
       "20120330  0.692913  0.649770  0.555950  0.895184  0.592593  0.425806   \n",
       "20130401       NaN  0.643997  0.551537       NaN  0.533141  0.571237   \n",
       "20140331  0.881773  0.776367  0.604414  0.650526  0.604839  0.543253   \n",
       "20150331  0.130774  0.678119  0.518400  0.923913  0.818681  0.672179   \n",
       "20160330  0.724882  0.677509  0.487842  0.785276  0.794721  0.652893   \n",
       "20170331  0.743371  0.703704  0.556535       NaN  0.890244  0.864389   \n",
       "20180402  0.578341  0.780149  0.638095       NaN  0.828804  0.739049   \n",
       "20190401  0.671296  0.776720  0.543662  0.870103  0.857909  0.810392   \n",
       "\n",
       "            CJ제일제당      KB금융  \n",
       "20110331  0.755193  0.716630  \n",
       "20120330  0.579278  0.710660  \n",
       "20130401  0.730924       NaN  \n",
       "20140331  0.754881  0.737799  \n",
       "20150331  0.678571  0.724490  \n",
       "20160330  0.599624  0.781513  \n",
       "20170331  0.637708  0.701692  \n",
       "20180402       NaN  0.753463  \n",
       "20190401  0.677365  0.821839  \n",
       "\n",
       "[9 rows x 113 columns]"
      ]
     },
     "execution_count": 4,
     "metadata": {},
     "output_type": "execute_result"
    }
   ],
   "source": [
    "lv2_jaccard[lv2_jaccard.loc[:,'삼양홀딩스'] > 0]"
   ]
  },
  {
   "cell_type": "code",
   "execution_count": 5,
   "metadata": {},
   "outputs": [],
   "source": [
    "def get_after_filing_return(df,windows=30) : #기업 columns와 rcp_index 토대로 누적수익률 (sim_type 상관없음)\n",
    "    \n",
    "    val_idx,val_col = np.where(np.isfinite(df)) \n",
    "    container = np.full(shape=(len(val_idx),windows),fill_value=np.nan)\n",
    "    idx_ls = []\n",
    "    for num,(idx,col) in enumerate(zip(val_idx,val_col)) : \n",
    "        tmp = return_df.iloc[idx:idx+windows,col].values\n",
    "        if windows - len(tmp) > 0 : \n",
    "            tmp = np.array(tmp.tolist()+[np.nan]*(windows-len(tmp)))\n",
    "        container[num] = tmp #한기업의 filing이후 window_size만큼의 수익률 저장\n",
    "        \n",
    "        tmp_idx = return_df.index[idx]\n",
    "        tmp_col = return_df.columns[col]        \n",
    "        idx_ls.append(\"{}_{}\".format(tmp_col,tmp_idx))\n",
    "    \n",
    "    final_df = pd.DataFrame(data=container,index=idx_ls)    \n",
    "    return final_df"
   ]
  },
  {
   "cell_type": "code",
   "execution_count": 6,
   "metadata": {},
   "outputs": [
    {
     "data": {
      "text/html": [
       "<div>\n",
       "<style scoped>\n",
       "    .dataframe tbody tr th:only-of-type {\n",
       "        vertical-align: middle;\n",
       "    }\n",
       "\n",
       "    .dataframe tbody tr th {\n",
       "        vertical-align: top;\n",
       "    }\n",
       "\n",
       "    .dataframe thead th {\n",
       "        text-align: right;\n",
       "    }\n",
       "</style>\n",
       "<table border=\"1\" class=\"dataframe\">\n",
       "  <thead>\n",
       "    <tr style=\"text-align: right;\">\n",
       "      <th></th>\n",
       "      <th>0</th>\n",
       "      <th>1</th>\n",
       "      <th>2</th>\n",
       "      <th>3</th>\n",
       "      <th>4</th>\n",
       "      <th>5</th>\n",
       "      <th>6</th>\n",
       "      <th>7</th>\n",
       "      <th>8</th>\n",
       "      <th>9</th>\n",
       "      <th>...</th>\n",
       "      <th>20</th>\n",
       "      <th>21</th>\n",
       "      <th>22</th>\n",
       "      <th>23</th>\n",
       "      <th>24</th>\n",
       "      <th>25</th>\n",
       "      <th>26</th>\n",
       "      <th>27</th>\n",
       "      <th>28</th>\n",
       "      <th>29</th>\n",
       "    </tr>\n",
       "  </thead>\n",
       "  <tbody>\n",
       "    <tr>\n",
       "      <th>LF_20110324</th>\n",
       "      <td>0.013986</td>\n",
       "      <td>-0.012069</td>\n",
       "      <td>-0.008726</td>\n",
       "      <td>0.028169</td>\n",
       "      <td>0.010274</td>\n",
       "      <td>0.003390</td>\n",
       "      <td>0.016892</td>\n",
       "      <td>0.001661</td>\n",
       "      <td>-0.018242</td>\n",
       "      <td>0.003378</td>\n",
       "      <td>...</td>\n",
       "      <td>0.018377</td>\n",
       "      <td>-0.001504</td>\n",
       "      <td>-0.031627</td>\n",
       "      <td>-0.004666</td>\n",
       "      <td>0.031250</td>\n",
       "      <td>0.006061</td>\n",
       "      <td>0.000000</td>\n",
       "      <td>0.037651</td>\n",
       "      <td>-0.021771</td>\n",
       "      <td>0.038576</td>\n",
       "    </tr>\n",
       "    <tr>\n",
       "      <th>S&amp;T모티브_20110325</th>\n",
       "      <td>0.018272</td>\n",
       "      <td>0.003263</td>\n",
       "      <td>-0.014634</td>\n",
       "      <td>-0.013201</td>\n",
       "      <td>0.036789</td>\n",
       "      <td>-0.001613</td>\n",
       "      <td>-0.006462</td>\n",
       "      <td>-0.008130</td>\n",
       "      <td>-0.006557</td>\n",
       "      <td>-0.028053</td>\n",
       "      <td>...</td>\n",
       "      <td>-0.001460</td>\n",
       "      <td>0.029240</td>\n",
       "      <td>-0.061080</td>\n",
       "      <td>-0.036309</td>\n",
       "      <td>-0.031397</td>\n",
       "      <td>0.009724</td>\n",
       "      <td>-0.020867</td>\n",
       "      <td>-0.026230</td>\n",
       "      <td>-0.015152</td>\n",
       "      <td>-0.023932</td>\n",
       "    </tr>\n",
       "    <tr>\n",
       "      <th>LG디스플레이_20110328</th>\n",
       "      <td>0.001437</td>\n",
       "      <td>-0.021521</td>\n",
       "      <td>-0.013196</td>\n",
       "      <td>0.022288</td>\n",
       "      <td>0.030523</td>\n",
       "      <td>0.004231</td>\n",
       "      <td>0.033708</td>\n",
       "      <td>0.000000</td>\n",
       "      <td>0.005435</td>\n",
       "      <td>0.013514</td>\n",
       "      <td>...</td>\n",
       "      <td>0.011125</td>\n",
       "      <td>-0.026895</td>\n",
       "      <td>0.022613</td>\n",
       "      <td>-0.019656</td>\n",
       "      <td>-0.035088</td>\n",
       "      <td>0.027273</td>\n",
       "      <td>-0.003793</td>\n",
       "      <td>-0.021574</td>\n",
       "      <td>-0.005188</td>\n",
       "      <td>0.036506</td>\n",
       "    </tr>\n",
       "    <tr>\n",
       "      <th>고려제강_20110329</th>\n",
       "      <td>0.015237</td>\n",
       "      <td>0.000000</td>\n",
       "      <td>0.002450</td>\n",
       "      <td>-0.004965</td>\n",
       "      <td>-0.005028</td>\n",
       "      <td>0.012576</td>\n",
       "      <td>0.003734</td>\n",
       "      <td>0.004934</td>\n",
       "      <td>0.008612</td>\n",
       "      <td>0.023180</td>\n",
       "      <td>...</td>\n",
       "      <td>0.010711</td>\n",
       "      <td>0.010634</td>\n",
       "      <td>-0.041944</td>\n",
       "      <td>-0.020695</td>\n",
       "      <td>0.006179</td>\n",
       "      <td>-0.002464</td>\n",
       "      <td>0.009919</td>\n",
       "      <td>-0.006134</td>\n",
       "      <td>-0.023399</td>\n",
       "      <td>0.013880</td>\n",
       "    </tr>\n",
       "    <tr>\n",
       "      <th>유한양행_20110330</th>\n",
       "      <td>0.013336</td>\n",
       "      <td>-0.026322</td>\n",
       "      <td>0.000000</td>\n",
       "      <td>-0.003383</td>\n",
       "      <td>0.016957</td>\n",
       "      <td>0.003338</td>\n",
       "      <td>-0.003327</td>\n",
       "      <td>-0.009998</td>\n",
       "      <td>-0.013471</td>\n",
       "      <td>-0.020482</td>\n",
       "      <td>...</td>\n",
       "      <td>0.010645</td>\n",
       "      <td>-0.007027</td>\n",
       "      <td>0.014138</td>\n",
       "      <td>0.003498</td>\n",
       "      <td>-0.013892</td>\n",
       "      <td>0.014088</td>\n",
       "      <td>-0.024315</td>\n",
       "      <td>-0.024912</td>\n",
       "      <td>-0.029195</td>\n",
       "      <td>-0.003756</td>\n",
       "    </tr>\n",
       "    <tr>\n",
       "      <th>...</th>\n",
       "      <td>...</td>\n",
       "      <td>...</td>\n",
       "      <td>...</td>\n",
       "      <td>...</td>\n",
       "      <td>...</td>\n",
       "      <td>...</td>\n",
       "      <td>...</td>\n",
       "      <td>...</td>\n",
       "      <td>...</td>\n",
       "      <td>...</td>\n",
       "      <td>...</td>\n",
       "      <td>...</td>\n",
       "      <td>...</td>\n",
       "      <td>...</td>\n",
       "      <td>...</td>\n",
       "      <td>...</td>\n",
       "      <td>...</td>\n",
       "      <td>...</td>\n",
       "      <td>...</td>\n",
       "      <td>...</td>\n",
       "      <td>...</td>\n",
       "    </tr>\n",
       "    <tr>\n",
       "      <th>후성_20190401</th>\n",
       "      <td>0.025469</td>\n",
       "      <td>0.005229</td>\n",
       "      <td>0.013004</td>\n",
       "      <td>-0.002567</td>\n",
       "      <td>0.003861</td>\n",
       "      <td>0.002564</td>\n",
       "      <td>0.011509</td>\n",
       "      <td>-0.002528</td>\n",
       "      <td>0.001267</td>\n",
       "      <td>0.010127</td>\n",
       "      <td>...</td>\n",
       "      <td>0.027097</td>\n",
       "      <td>0.007538</td>\n",
       "      <td>0.024938</td>\n",
       "      <td>0.017032</td>\n",
       "      <td>0.007177</td>\n",
       "      <td>-0.010689</td>\n",
       "      <td>-0.050420</td>\n",
       "      <td>-0.001264</td>\n",
       "      <td>-0.039241</td>\n",
       "      <td>-0.005270</td>\n",
       "    </tr>\n",
       "    <tr>\n",
       "      <th>SK이노베이션_20190401</th>\n",
       "      <td>0.011142</td>\n",
       "      <td>0.005510</td>\n",
       "      <td>0.008219</td>\n",
       "      <td>-0.002717</td>\n",
       "      <td>0.008174</td>\n",
       "      <td>0.002703</td>\n",
       "      <td>0.000000</td>\n",
       "      <td>-0.008086</td>\n",
       "      <td>0.008152</td>\n",
       "      <td>-0.002695</td>\n",
       "      <td>...</td>\n",
       "      <td>0.002681</td>\n",
       "      <td>-0.024064</td>\n",
       "      <td>0.002740</td>\n",
       "      <td>-0.016393</td>\n",
       "      <td>-0.016667</td>\n",
       "      <td>-0.005650</td>\n",
       "      <td>-0.039773</td>\n",
       "      <td>0.008876</td>\n",
       "      <td>-0.017595</td>\n",
       "      <td>-0.008955</td>\n",
       "    </tr>\n",
       "    <tr>\n",
       "      <th>CJ제일제당_20190401</th>\n",
       "      <td>0.004644</td>\n",
       "      <td>0.004622</td>\n",
       "      <td>0.000000</td>\n",
       "      <td>-0.003067</td>\n",
       "      <td>-0.007692</td>\n",
       "      <td>0.018605</td>\n",
       "      <td>0.001522</td>\n",
       "      <td>0.001520</td>\n",
       "      <td>-0.015175</td>\n",
       "      <td>0.006163</td>\n",
       "      <td>...</td>\n",
       "      <td>0.006339</td>\n",
       "      <td>-0.007874</td>\n",
       "      <td>-0.003175</td>\n",
       "      <td>-0.014331</td>\n",
       "      <td>0.008078</td>\n",
       "      <td>-0.004808</td>\n",
       "      <td>-0.014493</td>\n",
       "      <td>-0.019608</td>\n",
       "      <td>-0.005000</td>\n",
       "      <td>-0.033501</td>\n",
       "    </tr>\n",
       "    <tr>\n",
       "      <th>KB금융_20190401</th>\n",
       "      <td>0.051374</td>\n",
       "      <td>0.022727</td>\n",
       "      <td>0.005556</td>\n",
       "      <td>0.003315</td>\n",
       "      <td>-0.002203</td>\n",
       "      <td>-0.006623</td>\n",
       "      <td>-0.004444</td>\n",
       "      <td>0.008929</td>\n",
       "      <td>0.000000</td>\n",
       "      <td>0.005531</td>\n",
       "      <td>...</td>\n",
       "      <td>0.023128</td>\n",
       "      <td>-0.005382</td>\n",
       "      <td>0.010823</td>\n",
       "      <td>-0.002141</td>\n",
       "      <td>0.000000</td>\n",
       "      <td>0.004292</td>\n",
       "      <td>-0.014957</td>\n",
       "      <td>0.005423</td>\n",
       "      <td>-0.003236</td>\n",
       "      <td>-0.001082</td>\n",
       "    </tr>\n",
       "    <tr>\n",
       "      <th>SK하이닉스_20190404</th>\n",
       "      <td>-0.018773</td>\n",
       "      <td>0.007653</td>\n",
       "      <td>-0.013924</td>\n",
       "      <td>-0.001284</td>\n",
       "      <td>0.010283</td>\n",
       "      <td>-0.002545</td>\n",
       "      <td>-0.003827</td>\n",
       "      <td>0.020487</td>\n",
       "      <td>0.008783</td>\n",
       "      <td>-0.002488</td>\n",
       "      <td>...</td>\n",
       "      <td>-0.003717</td>\n",
       "      <td>-0.006219</td>\n",
       "      <td>0.005006</td>\n",
       "      <td>-0.053549</td>\n",
       "      <td>-0.021053</td>\n",
       "      <td>-0.012097</td>\n",
       "      <td>0.014966</td>\n",
       "      <td>-0.001340</td>\n",
       "      <td>-0.034899</td>\n",
       "      <td>-0.004172</td>\n",
       "    </tr>\n",
       "  </tbody>\n",
       "</table>\n",
       "<p>1017 rows × 30 columns</p>\n",
       "</div>"
      ],
      "text/plain": [
       "                        0         1         2         3         4         5   \\\n",
       "LF_20110324       0.013986 -0.012069 -0.008726  0.028169  0.010274  0.003390   \n",
       "S&T모티브_20110325   0.018272  0.003263 -0.014634 -0.013201  0.036789 -0.001613   \n",
       "LG디스플레이_20110328  0.001437 -0.021521 -0.013196  0.022288  0.030523  0.004231   \n",
       "고려제강_20110329     0.015237  0.000000  0.002450 -0.004965 -0.005028  0.012576   \n",
       "유한양행_20110330     0.013336 -0.026322  0.000000 -0.003383  0.016957  0.003338   \n",
       "...                    ...       ...       ...       ...       ...       ...   \n",
       "후성_20190401       0.025469  0.005229  0.013004 -0.002567  0.003861  0.002564   \n",
       "SK이노베이션_20190401  0.011142  0.005510  0.008219 -0.002717  0.008174  0.002703   \n",
       "CJ제일제당_20190401   0.004644  0.004622  0.000000 -0.003067 -0.007692  0.018605   \n",
       "KB금융_20190401     0.051374  0.022727  0.005556  0.003315 -0.002203 -0.006623   \n",
       "SK하이닉스_20190404  -0.018773  0.007653 -0.013924 -0.001284  0.010283 -0.002545   \n",
       "\n",
       "                        6         7         8         9   ...        20  \\\n",
       "LF_20110324       0.016892  0.001661 -0.018242  0.003378  ...  0.018377   \n",
       "S&T모티브_20110325  -0.006462 -0.008130 -0.006557 -0.028053  ... -0.001460   \n",
       "LG디스플레이_20110328  0.033708  0.000000  0.005435  0.013514  ...  0.011125   \n",
       "고려제강_20110329     0.003734  0.004934  0.008612  0.023180  ...  0.010711   \n",
       "유한양행_20110330    -0.003327 -0.009998 -0.013471 -0.020482  ...  0.010645   \n",
       "...                    ...       ...       ...       ...  ...       ...   \n",
       "후성_20190401       0.011509 -0.002528  0.001267  0.010127  ...  0.027097   \n",
       "SK이노베이션_20190401  0.000000 -0.008086  0.008152 -0.002695  ...  0.002681   \n",
       "CJ제일제당_20190401   0.001522  0.001520 -0.015175  0.006163  ...  0.006339   \n",
       "KB금융_20190401    -0.004444  0.008929  0.000000  0.005531  ...  0.023128   \n",
       "SK하이닉스_20190404  -0.003827  0.020487  0.008783 -0.002488  ... -0.003717   \n",
       "\n",
       "                        21        22        23        24        25        26  \\\n",
       "LF_20110324      -0.001504 -0.031627 -0.004666  0.031250  0.006061  0.000000   \n",
       "S&T모티브_20110325   0.029240 -0.061080 -0.036309 -0.031397  0.009724 -0.020867   \n",
       "LG디스플레이_20110328 -0.026895  0.022613 -0.019656 -0.035088  0.027273 -0.003793   \n",
       "고려제강_20110329     0.010634 -0.041944 -0.020695  0.006179 -0.002464  0.009919   \n",
       "유한양행_20110330    -0.007027  0.014138  0.003498 -0.013892  0.014088 -0.024315   \n",
       "...                    ...       ...       ...       ...       ...       ...   \n",
       "후성_20190401       0.007538  0.024938  0.017032  0.007177 -0.010689 -0.050420   \n",
       "SK이노베이션_20190401 -0.024064  0.002740 -0.016393 -0.016667 -0.005650 -0.039773   \n",
       "CJ제일제당_20190401  -0.007874 -0.003175 -0.014331  0.008078 -0.004808 -0.014493   \n",
       "KB금융_20190401    -0.005382  0.010823 -0.002141  0.000000  0.004292 -0.014957   \n",
       "SK하이닉스_20190404  -0.006219  0.005006 -0.053549 -0.021053 -0.012097  0.014966   \n",
       "\n",
       "                        27        28        29  \n",
       "LF_20110324       0.037651 -0.021771  0.038576  \n",
       "S&T모티브_20110325  -0.026230 -0.015152 -0.023932  \n",
       "LG디스플레이_20110328 -0.021574 -0.005188  0.036506  \n",
       "고려제강_20110329    -0.006134 -0.023399  0.013880  \n",
       "유한양행_20110330    -0.024912 -0.029195 -0.003756  \n",
       "...                    ...       ...       ...  \n",
       "후성_20190401      -0.001264 -0.039241 -0.005270  \n",
       "SK이노베이션_20190401  0.008876 -0.017595 -0.008955  \n",
       "CJ제일제당_20190401  -0.019608 -0.005000 -0.033501  \n",
       "KB금융_20190401     0.005423 -0.003236 -0.001082  \n",
       "SK하이닉스_20190404  -0.001340 -0.034899 -0.004172  \n",
       "\n",
       "[1017 rows x 30 columns]"
      ]
     },
     "execution_count": 6,
     "metadata": {},
     "output_type": "execute_result"
    }
   ],
   "source": [
    "get_after_filing_return(lv2_jaccard)"
   ]
  },
  {
   "cell_type": "code",
   "execution_count": 7,
   "metadata": {},
   "outputs": [],
   "source": [
    "def get_return_per_sim(df,window):\n",
    "    \n",
    "    sim_df = df.copy()\n",
    "    df_ = get_after_filing_return(sim_df,windows=window)\n",
    "    \n",
    "    index_ls = []\n",
    "    value_ls = []\n",
    "    for i in sim_df.columns:\n",
    "        for j in sim_df.index:\n",
    "            if sim_df.loc[j,i] > 0:\n",
    "                value_ls.append(sim_df.loc[j,i])\n",
    "                index_ls.append(i + '_'+str(j))\n",
    "            \n",
    "    unit_df = pd.DataFrame([index_ls,value_ls] , index = ['title','similarity']).T\n",
    "    unit_df = unit_df.sort_values(by = 'similarity', ascending =True).reset_index(drop = True)\n",
    "\n",
    "    sorted_values = [] #idx별 유사도값\n",
    "    for i in df_.index:\n",
    "        for idx,j in enumerate(unit_df.title): \n",
    "            if i == j:\n",
    "                sorted_values.append(unit_df['similarity'][idx])\n",
    "    \n",
    "    df_ = df_.cumsum(1).iloc[:,-1].reset_index()\n",
    "    df_.columns = ['corp_rcp','cum_return']\n",
    "    df_['sim'] = sorted_values\n",
    "    df_ = df_.sort_values(by = 'sim',ascending=True).reset_index(drop=True)\n",
    "    \n",
    "    return df_\n"
   ]
  },
  {
   "cell_type": "code",
   "execution_count": 9,
   "metadata": {},
   "outputs": [],
   "source": [
    "def returns_per_date(df,*argv):\n",
    "    ls_ = [get_return_per_sim(df,arg) for arg in argv]\n",
    "    q_values=[]\n",
    "    quarter = 5 #5분위\n",
    "    for x in ls_:\n",
    "        a = len(x) // quarter #200\n",
    "        q = [x.cum_return[i*a:(i+1)*a].mean() for i in range(quarter)]\n",
    "        q.append(q[-1]-q[0]) #long Q5 ,short Q1\n",
    "        q_values.append(q)\n",
    "    \n",
    "    df = pd.DataFrame([k for k in q_values],index = [f'{arg} days' for arg in argv],\n",
    "                      columns = [f'Q{i+1}'for i in range(len(q_values[0]))])\n",
    "    df = df.rename(columns = {'Q6':'Q5-Q1'})\n",
    "    \n",
    "    return df\n",
    "    "
   ]
  },
  {
   "cell_type": "code",
   "execution_count": 14,
   "metadata": {},
   "outputs": [],
   "source": [
    "return_jaccard = returns_per_date(lv2_jaccard,15,30,45,60,90)\n",
    "return_cosine = returns_per_date(lv2_cosine,15,30,45,60,90)"
   ]
  },
  {
   "cell_type": "markdown",
   "metadata": {},
   "source": [
    "Q1~Q5 을 net pooling similarity로 구성했을 때의 결과값이다. time-series effect와 cross-sectional effect가 모두 포함되어있기에 \n",
    "극단적인 수치가 나온 결과..  잘나온것으로 보이지만.. calender time portpolio returns 는 이와 다르다."
   ]
  },
  {
   "cell_type": "code",
   "execution_count": 28,
   "metadata": {},
   "outputs": [
    {
     "data": {
      "application/vnd.plotly.v1+json": {
       "config": {
        "linkText": "Export to plot.ly",
        "plotlyServerURL": "https://plot.ly",
        "showLink": true
       },
       "data": [
        {
         "line": {
          "color": "rgba(255, 153, 51, 1.0)",
          "dash": "solid",
          "shape": "linear",
          "width": 1.3
         },
         "mode": "lines",
         "name": "Q1",
         "text": "",
         "type": "scatter",
         "x": [
          "15 days",
          "30 days",
          "45 days",
          "60 days",
          "90 days"
         ],
         "y": [
          0.006051338412154255,
          -0.00626409733280725,
          -0.0267612538534077,
          -0.027763057282672733,
          -0.026643581030054538
         ]
        },
        {
         "line": {
          "color": "rgba(55, 128, 191, 1.0)",
          "dash": "solid",
          "shape": "linear",
          "width": 1.3
         },
         "mode": "lines",
         "name": "Q2",
         "text": "",
         "type": "scatter",
         "x": [
          "15 days",
          "30 days",
          "45 days",
          "60 days",
          "90 days"
         ],
         "y": [
          0.014844086685404812,
          0.011556441561114258,
          0.007614730487080357,
          -0.005277710345588677,
          -0.020923423309050827
         ]
        },
        {
         "line": {
          "color": "rgba(50, 171, 96, 1.0)",
          "dash": "solid",
          "shape": "linear",
          "width": 1.3
         },
         "mode": "lines",
         "name": "Q3",
         "text": "",
         "type": "scatter",
         "x": [
          "15 days",
          "30 days",
          "45 days",
          "60 days",
          "90 days"
         ],
         "y": [
          0.024475742788294362,
          0.023107205089431777,
          0.02280733098868742,
          0.015712404121921764,
          0.012083223021179383
         ]
        },
        {
         "line": {
          "color": "rgba(128, 0, 128, 1.0)",
          "dash": "solid",
          "shape": "linear",
          "width": 1.3
         },
         "mode": "lines",
         "name": "Q4",
         "text": "",
         "type": "scatter",
         "x": [
          "15 days",
          "30 days",
          "45 days",
          "60 days",
          "90 days"
         ],
         "y": [
          0.016505696587304046,
          0.011516498642134774,
          0.00903342190603541,
          0.0030988714518679914,
          0.003654815461187523
         ]
        },
        {
         "line": {
          "color": "rgba(219, 64, 82, 1.0)",
          "dash": "solid",
          "shape": "linear",
          "width": 1.3
         },
         "mode": "lines",
         "name": "Q5",
         "text": "",
         "type": "scatter",
         "x": [
          "15 days",
          "30 days",
          "45 days",
          "60 days",
          "90 days"
         ],
         "y": [
          0.03288891332515959,
          0.035716675549599806,
          0.03049692330430756,
          0.01447209197842999,
          0.017934785467286777
         ]
        },
        {
         "line": {
          "color": "rgba(0, 128, 128, 1.0)",
          "dash": "solid",
          "shape": "linear",
          "width": 1.3
         },
         "mode": "lines",
         "name": "Q5-Q1",
         "text": "",
         "type": "scatter",
         "x": [
          "15 days",
          "30 days",
          "45 days",
          "60 days",
          "90 days"
         ],
         "y": [
          0.026837574913005337,
          0.04198077288240706,
          0.057258177157715265,
          0.04223514926110272,
          0.044578366497341315
         ]
        }
       ],
       "layout": {
        "legend": {
         "bgcolor": "#F5F6F9",
         "font": {
          "color": "#4D5663"
         }
        },
        "paper_bgcolor": "#F5F6F9",
        "plot_bgcolor": "#F5F6F9",
        "template": {
         "data": {
          "bar": [
           {
            "error_x": {
             "color": "#2a3f5f"
            },
            "error_y": {
             "color": "#2a3f5f"
            },
            "marker": {
             "line": {
              "color": "#E5ECF6",
              "width": 0.5
             }
            },
            "type": "bar"
           }
          ],
          "barpolar": [
           {
            "marker": {
             "line": {
              "color": "#E5ECF6",
              "width": 0.5
             }
            },
            "type": "barpolar"
           }
          ],
          "carpet": [
           {
            "aaxis": {
             "endlinecolor": "#2a3f5f",
             "gridcolor": "white",
             "linecolor": "white",
             "minorgridcolor": "white",
             "startlinecolor": "#2a3f5f"
            },
            "baxis": {
             "endlinecolor": "#2a3f5f",
             "gridcolor": "white",
             "linecolor": "white",
             "minorgridcolor": "white",
             "startlinecolor": "#2a3f5f"
            },
            "type": "carpet"
           }
          ],
          "choropleth": [
           {
            "colorbar": {
             "outlinewidth": 0,
             "ticks": ""
            },
            "type": "choropleth"
           }
          ],
          "contour": [
           {
            "colorbar": {
             "outlinewidth": 0,
             "ticks": ""
            },
            "colorscale": [
             [
              0,
              "#0d0887"
             ],
             [
              0.1111111111111111,
              "#46039f"
             ],
             [
              0.2222222222222222,
              "#7201a8"
             ],
             [
              0.3333333333333333,
              "#9c179e"
             ],
             [
              0.4444444444444444,
              "#bd3786"
             ],
             [
              0.5555555555555556,
              "#d8576b"
             ],
             [
              0.6666666666666666,
              "#ed7953"
             ],
             [
              0.7777777777777778,
              "#fb9f3a"
             ],
             [
              0.8888888888888888,
              "#fdca26"
             ],
             [
              1,
              "#f0f921"
             ]
            ],
            "type": "contour"
           }
          ],
          "contourcarpet": [
           {
            "colorbar": {
             "outlinewidth": 0,
             "ticks": ""
            },
            "type": "contourcarpet"
           }
          ],
          "heatmap": [
           {
            "colorbar": {
             "outlinewidth": 0,
             "ticks": ""
            },
            "colorscale": [
             [
              0,
              "#0d0887"
             ],
             [
              0.1111111111111111,
              "#46039f"
             ],
             [
              0.2222222222222222,
              "#7201a8"
             ],
             [
              0.3333333333333333,
              "#9c179e"
             ],
             [
              0.4444444444444444,
              "#bd3786"
             ],
             [
              0.5555555555555556,
              "#d8576b"
             ],
             [
              0.6666666666666666,
              "#ed7953"
             ],
             [
              0.7777777777777778,
              "#fb9f3a"
             ],
             [
              0.8888888888888888,
              "#fdca26"
             ],
             [
              1,
              "#f0f921"
             ]
            ],
            "type": "heatmap"
           }
          ],
          "heatmapgl": [
           {
            "colorbar": {
             "outlinewidth": 0,
             "ticks": ""
            },
            "colorscale": [
             [
              0,
              "#0d0887"
             ],
             [
              0.1111111111111111,
              "#46039f"
             ],
             [
              0.2222222222222222,
              "#7201a8"
             ],
             [
              0.3333333333333333,
              "#9c179e"
             ],
             [
              0.4444444444444444,
              "#bd3786"
             ],
             [
              0.5555555555555556,
              "#d8576b"
             ],
             [
              0.6666666666666666,
              "#ed7953"
             ],
             [
              0.7777777777777778,
              "#fb9f3a"
             ],
             [
              0.8888888888888888,
              "#fdca26"
             ],
             [
              1,
              "#f0f921"
             ]
            ],
            "type": "heatmapgl"
           }
          ],
          "histogram": [
           {
            "marker": {
             "colorbar": {
              "outlinewidth": 0,
              "ticks": ""
             }
            },
            "type": "histogram"
           }
          ],
          "histogram2d": [
           {
            "colorbar": {
             "outlinewidth": 0,
             "ticks": ""
            },
            "colorscale": [
             [
              0,
              "#0d0887"
             ],
             [
              0.1111111111111111,
              "#46039f"
             ],
             [
              0.2222222222222222,
              "#7201a8"
             ],
             [
              0.3333333333333333,
              "#9c179e"
             ],
             [
              0.4444444444444444,
              "#bd3786"
             ],
             [
              0.5555555555555556,
              "#d8576b"
             ],
             [
              0.6666666666666666,
              "#ed7953"
             ],
             [
              0.7777777777777778,
              "#fb9f3a"
             ],
             [
              0.8888888888888888,
              "#fdca26"
             ],
             [
              1,
              "#f0f921"
             ]
            ],
            "type": "histogram2d"
           }
          ],
          "histogram2dcontour": [
           {
            "colorbar": {
             "outlinewidth": 0,
             "ticks": ""
            },
            "colorscale": [
             [
              0,
              "#0d0887"
             ],
             [
              0.1111111111111111,
              "#46039f"
             ],
             [
              0.2222222222222222,
              "#7201a8"
             ],
             [
              0.3333333333333333,
              "#9c179e"
             ],
             [
              0.4444444444444444,
              "#bd3786"
             ],
             [
              0.5555555555555556,
              "#d8576b"
             ],
             [
              0.6666666666666666,
              "#ed7953"
             ],
             [
              0.7777777777777778,
              "#fb9f3a"
             ],
             [
              0.8888888888888888,
              "#fdca26"
             ],
             [
              1,
              "#f0f921"
             ]
            ],
            "type": "histogram2dcontour"
           }
          ],
          "mesh3d": [
           {
            "colorbar": {
             "outlinewidth": 0,
             "ticks": ""
            },
            "type": "mesh3d"
           }
          ],
          "parcoords": [
           {
            "line": {
             "colorbar": {
              "outlinewidth": 0,
              "ticks": ""
             }
            },
            "type": "parcoords"
           }
          ],
          "pie": [
           {
            "automargin": true,
            "type": "pie"
           }
          ],
          "scatter": [
           {
            "marker": {
             "colorbar": {
              "outlinewidth": 0,
              "ticks": ""
             }
            },
            "type": "scatter"
           }
          ],
          "scatter3d": [
           {
            "line": {
             "colorbar": {
              "outlinewidth": 0,
              "ticks": ""
             }
            },
            "marker": {
             "colorbar": {
              "outlinewidth": 0,
              "ticks": ""
             }
            },
            "type": "scatter3d"
           }
          ],
          "scattercarpet": [
           {
            "marker": {
             "colorbar": {
              "outlinewidth": 0,
              "ticks": ""
             }
            },
            "type": "scattercarpet"
           }
          ],
          "scattergeo": [
           {
            "marker": {
             "colorbar": {
              "outlinewidth": 0,
              "ticks": ""
             }
            },
            "type": "scattergeo"
           }
          ],
          "scattergl": [
           {
            "marker": {
             "colorbar": {
              "outlinewidth": 0,
              "ticks": ""
             }
            },
            "type": "scattergl"
           }
          ],
          "scattermapbox": [
           {
            "marker": {
             "colorbar": {
              "outlinewidth": 0,
              "ticks": ""
             }
            },
            "type": "scattermapbox"
           }
          ],
          "scatterpolar": [
           {
            "marker": {
             "colorbar": {
              "outlinewidth": 0,
              "ticks": ""
             }
            },
            "type": "scatterpolar"
           }
          ],
          "scatterpolargl": [
           {
            "marker": {
             "colorbar": {
              "outlinewidth": 0,
              "ticks": ""
             }
            },
            "type": "scatterpolargl"
           }
          ],
          "scatterternary": [
           {
            "marker": {
             "colorbar": {
              "outlinewidth": 0,
              "ticks": ""
             }
            },
            "type": "scatterternary"
           }
          ],
          "surface": [
           {
            "colorbar": {
             "outlinewidth": 0,
             "ticks": ""
            },
            "colorscale": [
             [
              0,
              "#0d0887"
             ],
             [
              0.1111111111111111,
              "#46039f"
             ],
             [
              0.2222222222222222,
              "#7201a8"
             ],
             [
              0.3333333333333333,
              "#9c179e"
             ],
             [
              0.4444444444444444,
              "#bd3786"
             ],
             [
              0.5555555555555556,
              "#d8576b"
             ],
             [
              0.6666666666666666,
              "#ed7953"
             ],
             [
              0.7777777777777778,
              "#fb9f3a"
             ],
             [
              0.8888888888888888,
              "#fdca26"
             ],
             [
              1,
              "#f0f921"
             ]
            ],
            "type": "surface"
           }
          ],
          "table": [
           {
            "cells": {
             "fill": {
              "color": "#EBF0F8"
             },
             "line": {
              "color": "white"
             }
            },
            "header": {
             "fill": {
              "color": "#C8D4E3"
             },
             "line": {
              "color": "white"
             }
            },
            "type": "table"
           }
          ]
         },
         "layout": {
          "annotationdefaults": {
           "arrowcolor": "#2a3f5f",
           "arrowhead": 0,
           "arrowwidth": 1
          },
          "coloraxis": {
           "colorbar": {
            "outlinewidth": 0,
            "ticks": ""
           }
          },
          "colorscale": {
           "diverging": [
            [
             0,
             "#8e0152"
            ],
            [
             0.1,
             "#c51b7d"
            ],
            [
             0.2,
             "#de77ae"
            ],
            [
             0.3,
             "#f1b6da"
            ],
            [
             0.4,
             "#fde0ef"
            ],
            [
             0.5,
             "#f7f7f7"
            ],
            [
             0.6,
             "#e6f5d0"
            ],
            [
             0.7,
             "#b8e186"
            ],
            [
             0.8,
             "#7fbc41"
            ],
            [
             0.9,
             "#4d9221"
            ],
            [
             1,
             "#276419"
            ]
           ],
           "sequential": [
            [
             0,
             "#0d0887"
            ],
            [
             0.1111111111111111,
             "#46039f"
            ],
            [
             0.2222222222222222,
             "#7201a8"
            ],
            [
             0.3333333333333333,
             "#9c179e"
            ],
            [
             0.4444444444444444,
             "#bd3786"
            ],
            [
             0.5555555555555556,
             "#d8576b"
            ],
            [
             0.6666666666666666,
             "#ed7953"
            ],
            [
             0.7777777777777778,
             "#fb9f3a"
            ],
            [
             0.8888888888888888,
             "#fdca26"
            ],
            [
             1,
             "#f0f921"
            ]
           ],
           "sequentialminus": [
            [
             0,
             "#0d0887"
            ],
            [
             0.1111111111111111,
             "#46039f"
            ],
            [
             0.2222222222222222,
             "#7201a8"
            ],
            [
             0.3333333333333333,
             "#9c179e"
            ],
            [
             0.4444444444444444,
             "#bd3786"
            ],
            [
             0.5555555555555556,
             "#d8576b"
            ],
            [
             0.6666666666666666,
             "#ed7953"
            ],
            [
             0.7777777777777778,
             "#fb9f3a"
            ],
            [
             0.8888888888888888,
             "#fdca26"
            ],
            [
             1,
             "#f0f921"
            ]
           ]
          },
          "colorway": [
           "#636efa",
           "#EF553B",
           "#00cc96",
           "#ab63fa",
           "#FFA15A",
           "#19d3f3",
           "#FF6692",
           "#B6E880",
           "#FF97FF",
           "#FECB52"
          ],
          "font": {
           "color": "#2a3f5f"
          },
          "geo": {
           "bgcolor": "white",
           "lakecolor": "white",
           "landcolor": "#E5ECF6",
           "showlakes": true,
           "showland": true,
           "subunitcolor": "white"
          },
          "hoverlabel": {
           "align": "left"
          },
          "hovermode": "closest",
          "mapbox": {
           "style": "light"
          },
          "paper_bgcolor": "white",
          "plot_bgcolor": "#E5ECF6",
          "polar": {
           "angularaxis": {
            "gridcolor": "white",
            "linecolor": "white",
            "ticks": ""
           },
           "bgcolor": "#E5ECF6",
           "radialaxis": {
            "gridcolor": "white",
            "linecolor": "white",
            "ticks": ""
           }
          },
          "scene": {
           "xaxis": {
            "backgroundcolor": "#E5ECF6",
            "gridcolor": "white",
            "gridwidth": 2,
            "linecolor": "white",
            "showbackground": true,
            "ticks": "",
            "zerolinecolor": "white"
           },
           "yaxis": {
            "backgroundcolor": "#E5ECF6",
            "gridcolor": "white",
            "gridwidth": 2,
            "linecolor": "white",
            "showbackground": true,
            "ticks": "",
            "zerolinecolor": "white"
           },
           "zaxis": {
            "backgroundcolor": "#E5ECF6",
            "gridcolor": "white",
            "gridwidth": 2,
            "linecolor": "white",
            "showbackground": true,
            "ticks": "",
            "zerolinecolor": "white"
           }
          },
          "shapedefaults": {
           "line": {
            "color": "#2a3f5f"
           }
          },
          "ternary": {
           "aaxis": {
            "gridcolor": "white",
            "linecolor": "white",
            "ticks": ""
           },
           "baxis": {
            "gridcolor": "white",
            "linecolor": "white",
            "ticks": ""
           },
           "bgcolor": "#E5ECF6",
           "caxis": {
            "gridcolor": "white",
            "linecolor": "white",
            "ticks": ""
           }
          },
          "title": {
           "x": 0.05
          },
          "xaxis": {
           "automargin": true,
           "gridcolor": "white",
           "linecolor": "white",
           "ticks": "",
           "title": {
            "standoff": 15
           },
           "zerolinecolor": "white",
           "zerolinewidth": 2
          },
          "yaxis": {
           "automargin": true,
           "gridcolor": "white",
           "linecolor": "white",
           "ticks": "",
           "title": {
            "standoff": 15
           },
           "zerolinecolor": "white",
           "zerolinewidth": 2
          }
         }
        },
        "title": {
         "font": {
          "color": "#4D5663"
         },
         "text": "cum returns per filing dates"
        },
        "xaxis": {
         "gridcolor": "#E1E5ED",
         "showgrid": true,
         "tickfont": {
          "color": "#4D5663"
         },
         "title": {
          "font": {
           "color": "#4D5663"
          },
          "text": "days"
         },
         "zerolinecolor": "#E1E5ED"
        },
        "yaxis": {
         "gridcolor": "#E1E5ED",
         "showgrid": true,
         "tickfont": {
          "color": "#4D5663"
         },
         "title": {
          "font": {
           "color": "#4D5663"
          },
          "text": "returns"
         },
         "zerolinecolor": "#E1E5ED"
        }
       }
      },
      "text/html": [
       "<div>\n",
       "        \n",
       "        \n",
       "            <div id=\"0feae654-783c-4108-9a25-461da3ce031c\" class=\"plotly-graph-div\" style=\"height:525px; width:100%;\"></div>\n",
       "            <script type=\"text/javascript\">\n",
       "                require([\"plotly\"], function(Plotly) {\n",
       "                    window.PLOTLYENV=window.PLOTLYENV || {};\n",
       "                    window.PLOTLYENV.BASE_URL='https://plot.ly';\n",
       "                    \n",
       "                if (document.getElementById(\"0feae654-783c-4108-9a25-461da3ce031c\")) {\n",
       "                    Plotly.newPlot(\n",
       "                        '0feae654-783c-4108-9a25-461da3ce031c',\n",
       "                        [{\"line\": {\"color\": \"rgba(255, 153, 51, 1.0)\", \"dash\": \"solid\", \"shape\": \"linear\", \"width\": 1.3}, \"mode\": \"lines\", \"name\": \"Q1\", \"text\": \"\", \"type\": \"scatter\", \"x\": [\"15 days\", \"30 days\", \"45 days\", \"60 days\", \"90 days\"], \"y\": [0.006051338412154255, -0.00626409733280725, -0.0267612538534077, -0.027763057282672733, -0.026643581030054538]}, {\"line\": {\"color\": \"rgba(55, 128, 191, 1.0)\", \"dash\": \"solid\", \"shape\": \"linear\", \"width\": 1.3}, \"mode\": \"lines\", \"name\": \"Q2\", \"text\": \"\", \"type\": \"scatter\", \"x\": [\"15 days\", \"30 days\", \"45 days\", \"60 days\", \"90 days\"], \"y\": [0.014844086685404812, 0.011556441561114258, 0.007614730487080357, -0.005277710345588677, -0.020923423309050827]}, {\"line\": {\"color\": \"rgba(50, 171, 96, 1.0)\", \"dash\": \"solid\", \"shape\": \"linear\", \"width\": 1.3}, \"mode\": \"lines\", \"name\": \"Q3\", \"text\": \"\", \"type\": \"scatter\", \"x\": [\"15 days\", \"30 days\", \"45 days\", \"60 days\", \"90 days\"], \"y\": [0.024475742788294362, 0.023107205089431777, 0.02280733098868742, 0.015712404121921764, 0.012083223021179383]}, {\"line\": {\"color\": \"rgba(128, 0, 128, 1.0)\", \"dash\": \"solid\", \"shape\": \"linear\", \"width\": 1.3}, \"mode\": \"lines\", \"name\": \"Q4\", \"text\": \"\", \"type\": \"scatter\", \"x\": [\"15 days\", \"30 days\", \"45 days\", \"60 days\", \"90 days\"], \"y\": [0.016505696587304046, 0.011516498642134774, 0.00903342190603541, 0.0030988714518679914, 0.003654815461187523]}, {\"line\": {\"color\": \"rgba(219, 64, 82, 1.0)\", \"dash\": \"solid\", \"shape\": \"linear\", \"width\": 1.3}, \"mode\": \"lines\", \"name\": \"Q5\", \"text\": \"\", \"type\": \"scatter\", \"x\": [\"15 days\", \"30 days\", \"45 days\", \"60 days\", \"90 days\"], \"y\": [0.03288891332515959, 0.035716675549599806, 0.03049692330430756, 0.01447209197842999, 0.017934785467286777]}, {\"line\": {\"color\": \"rgba(0, 128, 128, 1.0)\", \"dash\": \"solid\", \"shape\": \"linear\", \"width\": 1.3}, \"mode\": \"lines\", \"name\": \"Q5-Q1\", \"text\": \"\", \"type\": \"scatter\", \"x\": [\"15 days\", \"30 days\", \"45 days\", \"60 days\", \"90 days\"], \"y\": [0.026837574913005337, 0.04198077288240706, 0.057258177157715265, 0.04223514926110272, 0.044578366497341315]}],\n",
       "                        {\"legend\": {\"bgcolor\": \"#F5F6F9\", \"font\": {\"color\": \"#4D5663\"}}, \"paper_bgcolor\": \"#F5F6F9\", \"plot_bgcolor\": \"#F5F6F9\", \"template\": {\"data\": {\"bar\": [{\"error_x\": {\"color\": \"#2a3f5f\"}, \"error_y\": {\"color\": \"#2a3f5f\"}, \"marker\": {\"line\": {\"color\": \"#E5ECF6\", \"width\": 0.5}}, \"type\": \"bar\"}], \"barpolar\": [{\"marker\": {\"line\": {\"color\": \"#E5ECF6\", \"width\": 0.5}}, \"type\": \"barpolar\"}], \"carpet\": [{\"aaxis\": {\"endlinecolor\": \"#2a3f5f\", \"gridcolor\": \"white\", \"linecolor\": \"white\", \"minorgridcolor\": \"white\", \"startlinecolor\": \"#2a3f5f\"}, \"baxis\": {\"endlinecolor\": \"#2a3f5f\", \"gridcolor\": \"white\", \"linecolor\": \"white\", \"minorgridcolor\": \"white\", \"startlinecolor\": \"#2a3f5f\"}, \"type\": \"carpet\"}], \"choropleth\": [{\"colorbar\": {\"outlinewidth\": 0, \"ticks\": \"\"}, \"type\": \"choropleth\"}], \"contour\": [{\"colorbar\": {\"outlinewidth\": 0, \"ticks\": \"\"}, \"colorscale\": [[0.0, \"#0d0887\"], [0.1111111111111111, \"#46039f\"], [0.2222222222222222, \"#7201a8\"], [0.3333333333333333, \"#9c179e\"], [0.4444444444444444, \"#bd3786\"], [0.5555555555555556, \"#d8576b\"], [0.6666666666666666, \"#ed7953\"], [0.7777777777777778, \"#fb9f3a\"], [0.8888888888888888, \"#fdca26\"], [1.0, \"#f0f921\"]], \"type\": \"contour\"}], \"contourcarpet\": [{\"colorbar\": {\"outlinewidth\": 0, \"ticks\": \"\"}, \"type\": \"contourcarpet\"}], \"heatmap\": [{\"colorbar\": {\"outlinewidth\": 0, \"ticks\": \"\"}, \"colorscale\": [[0.0, \"#0d0887\"], [0.1111111111111111, \"#46039f\"], [0.2222222222222222, \"#7201a8\"], [0.3333333333333333, \"#9c179e\"], [0.4444444444444444, \"#bd3786\"], [0.5555555555555556, \"#d8576b\"], [0.6666666666666666, \"#ed7953\"], [0.7777777777777778, \"#fb9f3a\"], [0.8888888888888888, \"#fdca26\"], [1.0, \"#f0f921\"]], \"type\": \"heatmap\"}], \"heatmapgl\": [{\"colorbar\": {\"outlinewidth\": 0, \"ticks\": \"\"}, \"colorscale\": [[0.0, \"#0d0887\"], [0.1111111111111111, \"#46039f\"], [0.2222222222222222, \"#7201a8\"], [0.3333333333333333, \"#9c179e\"], [0.4444444444444444, \"#bd3786\"], [0.5555555555555556, \"#d8576b\"], [0.6666666666666666, \"#ed7953\"], [0.7777777777777778, \"#fb9f3a\"], [0.8888888888888888, \"#fdca26\"], [1.0, \"#f0f921\"]], \"type\": \"heatmapgl\"}], \"histogram\": [{\"marker\": {\"colorbar\": {\"outlinewidth\": 0, \"ticks\": \"\"}}, \"type\": \"histogram\"}], \"histogram2d\": [{\"colorbar\": {\"outlinewidth\": 0, \"ticks\": \"\"}, \"colorscale\": [[0.0, \"#0d0887\"], [0.1111111111111111, \"#46039f\"], [0.2222222222222222, \"#7201a8\"], [0.3333333333333333, \"#9c179e\"], [0.4444444444444444, \"#bd3786\"], [0.5555555555555556, \"#d8576b\"], [0.6666666666666666, \"#ed7953\"], [0.7777777777777778, \"#fb9f3a\"], [0.8888888888888888, \"#fdca26\"], [1.0, \"#f0f921\"]], \"type\": \"histogram2d\"}], \"histogram2dcontour\": [{\"colorbar\": {\"outlinewidth\": 0, \"ticks\": \"\"}, \"colorscale\": [[0.0, \"#0d0887\"], [0.1111111111111111, \"#46039f\"], [0.2222222222222222, \"#7201a8\"], [0.3333333333333333, \"#9c179e\"], [0.4444444444444444, \"#bd3786\"], [0.5555555555555556, \"#d8576b\"], [0.6666666666666666, \"#ed7953\"], [0.7777777777777778, \"#fb9f3a\"], [0.8888888888888888, \"#fdca26\"], [1.0, \"#f0f921\"]], \"type\": \"histogram2dcontour\"}], \"mesh3d\": [{\"colorbar\": {\"outlinewidth\": 0, \"ticks\": \"\"}, \"type\": \"mesh3d\"}], \"parcoords\": [{\"line\": {\"colorbar\": {\"outlinewidth\": 0, \"ticks\": \"\"}}, \"type\": \"parcoords\"}], \"pie\": [{\"automargin\": true, \"type\": \"pie\"}], \"scatter\": [{\"marker\": {\"colorbar\": {\"outlinewidth\": 0, \"ticks\": \"\"}}, \"type\": \"scatter\"}], \"scatter3d\": [{\"line\": {\"colorbar\": {\"outlinewidth\": 0, \"ticks\": \"\"}}, \"marker\": {\"colorbar\": {\"outlinewidth\": 0, \"ticks\": \"\"}}, \"type\": \"scatter3d\"}], \"scattercarpet\": [{\"marker\": {\"colorbar\": {\"outlinewidth\": 0, \"ticks\": \"\"}}, \"type\": \"scattercarpet\"}], \"scattergeo\": [{\"marker\": {\"colorbar\": {\"outlinewidth\": 0, \"ticks\": \"\"}}, \"type\": \"scattergeo\"}], \"scattergl\": [{\"marker\": {\"colorbar\": {\"outlinewidth\": 0, \"ticks\": \"\"}}, \"type\": \"scattergl\"}], \"scattermapbox\": [{\"marker\": {\"colorbar\": {\"outlinewidth\": 0, \"ticks\": \"\"}}, \"type\": \"scattermapbox\"}], \"scatterpolar\": [{\"marker\": {\"colorbar\": {\"outlinewidth\": 0, \"ticks\": \"\"}}, \"type\": \"scatterpolar\"}], \"scatterpolargl\": [{\"marker\": {\"colorbar\": {\"outlinewidth\": 0, \"ticks\": \"\"}}, \"type\": \"scatterpolargl\"}], \"scatterternary\": [{\"marker\": {\"colorbar\": {\"outlinewidth\": 0, \"ticks\": \"\"}}, \"type\": \"scatterternary\"}], \"surface\": [{\"colorbar\": {\"outlinewidth\": 0, \"ticks\": \"\"}, \"colorscale\": [[0.0, \"#0d0887\"], [0.1111111111111111, \"#46039f\"], [0.2222222222222222, \"#7201a8\"], [0.3333333333333333, \"#9c179e\"], [0.4444444444444444, \"#bd3786\"], [0.5555555555555556, \"#d8576b\"], [0.6666666666666666, \"#ed7953\"], [0.7777777777777778, \"#fb9f3a\"], [0.8888888888888888, \"#fdca26\"], [1.0, \"#f0f921\"]], \"type\": \"surface\"}], \"table\": [{\"cells\": {\"fill\": {\"color\": \"#EBF0F8\"}, \"line\": {\"color\": \"white\"}}, \"header\": {\"fill\": {\"color\": \"#C8D4E3\"}, \"line\": {\"color\": \"white\"}}, \"type\": \"table\"}]}, \"layout\": {\"annotationdefaults\": {\"arrowcolor\": \"#2a3f5f\", \"arrowhead\": 0, \"arrowwidth\": 1}, \"coloraxis\": {\"colorbar\": {\"outlinewidth\": 0, \"ticks\": \"\"}}, \"colorscale\": {\"diverging\": [[0, \"#8e0152\"], [0.1, \"#c51b7d\"], [0.2, \"#de77ae\"], [0.3, \"#f1b6da\"], [0.4, \"#fde0ef\"], [0.5, \"#f7f7f7\"], [0.6, \"#e6f5d0\"], [0.7, \"#b8e186\"], [0.8, \"#7fbc41\"], [0.9, \"#4d9221\"], [1, \"#276419\"]], \"sequential\": [[0.0, \"#0d0887\"], [0.1111111111111111, \"#46039f\"], [0.2222222222222222, \"#7201a8\"], [0.3333333333333333, \"#9c179e\"], [0.4444444444444444, \"#bd3786\"], [0.5555555555555556, \"#d8576b\"], [0.6666666666666666, \"#ed7953\"], [0.7777777777777778, \"#fb9f3a\"], [0.8888888888888888, \"#fdca26\"], [1.0, \"#f0f921\"]], \"sequentialminus\": [[0.0, \"#0d0887\"], [0.1111111111111111, \"#46039f\"], [0.2222222222222222, \"#7201a8\"], [0.3333333333333333, \"#9c179e\"], [0.4444444444444444, \"#bd3786\"], [0.5555555555555556, \"#d8576b\"], [0.6666666666666666, \"#ed7953\"], [0.7777777777777778, \"#fb9f3a\"], [0.8888888888888888, \"#fdca26\"], [1.0, \"#f0f921\"]]}, \"colorway\": [\"#636efa\", \"#EF553B\", \"#00cc96\", \"#ab63fa\", \"#FFA15A\", \"#19d3f3\", \"#FF6692\", \"#B6E880\", \"#FF97FF\", \"#FECB52\"], \"font\": {\"color\": \"#2a3f5f\"}, \"geo\": {\"bgcolor\": \"white\", \"lakecolor\": \"white\", \"landcolor\": \"#E5ECF6\", \"showlakes\": true, \"showland\": true, \"subunitcolor\": \"white\"}, \"hoverlabel\": {\"align\": \"left\"}, \"hovermode\": \"closest\", \"mapbox\": {\"style\": \"light\"}, \"paper_bgcolor\": \"white\", \"plot_bgcolor\": \"#E5ECF6\", \"polar\": {\"angularaxis\": {\"gridcolor\": \"white\", \"linecolor\": \"white\", \"ticks\": \"\"}, \"bgcolor\": \"#E5ECF6\", \"radialaxis\": {\"gridcolor\": \"white\", \"linecolor\": \"white\", \"ticks\": \"\"}}, \"scene\": {\"xaxis\": {\"backgroundcolor\": \"#E5ECF6\", \"gridcolor\": \"white\", \"gridwidth\": 2, \"linecolor\": \"white\", \"showbackground\": true, \"ticks\": \"\", \"zerolinecolor\": \"white\"}, \"yaxis\": {\"backgroundcolor\": \"#E5ECF6\", \"gridcolor\": \"white\", \"gridwidth\": 2, \"linecolor\": \"white\", \"showbackground\": true, \"ticks\": \"\", \"zerolinecolor\": \"white\"}, \"zaxis\": {\"backgroundcolor\": \"#E5ECF6\", \"gridcolor\": \"white\", \"gridwidth\": 2, \"linecolor\": \"white\", \"showbackground\": true, \"ticks\": \"\", \"zerolinecolor\": \"white\"}}, \"shapedefaults\": {\"line\": {\"color\": \"#2a3f5f\"}}, \"ternary\": {\"aaxis\": {\"gridcolor\": \"white\", \"linecolor\": \"white\", \"ticks\": \"\"}, \"baxis\": {\"gridcolor\": \"white\", \"linecolor\": \"white\", \"ticks\": \"\"}, \"bgcolor\": \"#E5ECF6\", \"caxis\": {\"gridcolor\": \"white\", \"linecolor\": \"white\", \"ticks\": \"\"}}, \"title\": {\"x\": 0.05}, \"xaxis\": {\"automargin\": true, \"gridcolor\": \"white\", \"linecolor\": \"white\", \"ticks\": \"\", \"title\": {\"standoff\": 15}, \"zerolinecolor\": \"white\", \"zerolinewidth\": 2}, \"yaxis\": {\"automargin\": true, \"gridcolor\": \"white\", \"linecolor\": \"white\", \"ticks\": \"\", \"title\": {\"standoff\": 15}, \"zerolinecolor\": \"white\", \"zerolinewidth\": 2}}}, \"title\": {\"font\": {\"color\": \"#4D5663\"}, \"text\": \"cum returns per filing dates\"}, \"xaxis\": {\"gridcolor\": \"#E1E5ED\", \"showgrid\": true, \"tickfont\": {\"color\": \"#4D5663\"}, \"title\": {\"font\": {\"color\": \"#4D5663\"}, \"text\": \"days\"}, \"zerolinecolor\": \"#E1E5ED\"}, \"yaxis\": {\"gridcolor\": \"#E1E5ED\", \"showgrid\": true, \"tickfont\": {\"color\": \"#4D5663\"}, \"title\": {\"font\": {\"color\": \"#4D5663\"}, \"text\": \"returns\"}, \"zerolinecolor\": \"#E1E5ED\"}},\n",
       "                        {\"showLink\": true, \"linkText\": \"Export to plot.ly\", \"plotlyServerURL\": \"https://plot.ly\", \"responsive\": true}\n",
       "                    ).then(function(){\n",
       "                            \n",
       "var gd = document.getElementById('0feae654-783c-4108-9a25-461da3ce031c');\n",
       "var x = new MutationObserver(function (mutations, observer) {{\n",
       "        var display = window.getComputedStyle(gd).display;\n",
       "        if (!display || display === 'none') {{\n",
       "            console.log([gd, 'removed!']);\n",
       "            Plotly.purge(gd);\n",
       "            observer.disconnect();\n",
       "        }}\n",
       "}});\n",
       "\n",
       "// Listen for the removal of the full notebook cells\n",
       "var notebookContainer = gd.closest('#notebook-container');\n",
       "if (notebookContainer) {{\n",
       "    x.observe(notebookContainer, {childList: true});\n",
       "}}\n",
       "\n",
       "// Listen for the clearing of the current output cell\n",
       "var outputEl = gd.closest('.output');\n",
       "if (outputEl) {{\n",
       "    x.observe(outputEl, {childList: true});\n",
       "}}\n",
       "\n",
       "                        })\n",
       "                };\n",
       "                });\n",
       "            </script>\n",
       "        </div>"
      ]
     },
     "metadata": {},
     "output_type": "display_data"
    }
   ],
   "source": [
    "return_jaccard.iplot(kind='line',title = 'cum returns per filing dates',xTitle = 'days',yTitle='returns')"
   ]
  },
  {
   "cell_type": "code",
   "execution_count": null,
   "metadata": {},
   "outputs": [],
   "source": []
  }
 ],
 "metadata": {
  "kernelspec": {
   "display_name": "Python 3",
   "language": "python",
   "name": "python3"
  },
  "language_info": {
   "codemirror_mode": {
    "name": "ipython",
    "version": 3
   },
   "file_extension": ".py",
   "mimetype": "text/x-python",
   "name": "python",
   "nbconvert_exporter": "python",
   "pygments_lexer": "ipython3",
   "version": "3.7.3"
  }
 },
 "nbformat": 4,
 "nbformat_minor": 4
}
