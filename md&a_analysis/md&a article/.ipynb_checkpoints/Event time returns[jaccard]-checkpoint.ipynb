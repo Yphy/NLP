{
 "cells": [
  {
   "cell_type": "code",
   "execution_count": 1,
   "metadata": {},
   "outputs": [
    {
     "data": {
      "text/html": [
       "        <script type=\"text/javascript\">\n",
       "        window.PlotlyConfig = {MathJaxConfig: 'local'};\n",
       "        if (window.MathJax) {MathJax.Hub.Config({SVG: {font: \"STIX-Web\"}});}\n",
       "        if (typeof require !== 'undefined') {\n",
       "        require.undef(\"plotly\");\n",
       "        requirejs.config({\n",
       "            paths: {\n",
       "                'plotly': ['https://cdn.plot.ly/plotly-latest.min']\n",
       "            }\n",
       "        });\n",
       "        require(['plotly'], function(Plotly) {\n",
       "            window._Plotly = Plotly;\n",
       "        });\n",
       "        }\n",
       "        </script>\n",
       "        "
      ]
     },
     "metadata": {},
     "output_type": "display_data"
    }
   ],
   "source": [
    "import numpy as np\n",
    "import pandas as pd\n",
    "import plotly.graph_objs as go\n",
    "from chart_studio.plotly import plot, iplot\n",
    "import cufflinks as cf\n",
    "cf.go_offline(connected=True)"
   ]
  },
  {
   "cell_type": "code",
   "execution_count": 5,
   "metadata": {},
   "outputs": [],
   "source": [
    "de_rm_df = pd.read_csv('../data/kospi/preprocessed/de_rm_df.csv',index_col=0)\n",
    "monthly_df = pd.read_csv('../data/similarity/monthly_sorted_jaccard.csv',index_col=0)"
   ]
  },
  {
   "cell_type": "markdown",
   "metadata": {},
   "source": [
    "## Figure 7 Event time Returns"
   ]
  },
  {
   "cell_type": "markdown",
   "metadata": {},
   "source": [
    "This figure plots the weighted average cumulative abnormal return for the top (highest similarity) and\n",
    "bottom (lowest similarity) quintile portfolios.\n",
    "\n",
    "naive하게 3월말에 포트폴리오를 확정해서 추이를 살펴본다고 해보자. 실제로 월별 변경내용을 확인하면 대부분이 3월, 간혹 4월 존재\n",
    "\n",
    "2011년 6월에 최종수치변경되므로 2012년 3월말부터 해본다"
   ]
  },
  {
   "cell_type": "code",
   "execution_count": 6,
   "metadata": {},
   "outputs": [
    {
     "data": {
      "text/html": [
       "<div>\n",
       "<style scoped>\n",
       "    .dataframe tbody tr th:only-of-type {\n",
       "        vertical-align: middle;\n",
       "    }\n",
       "\n",
       "    .dataframe tbody tr th {\n",
       "        vertical-align: top;\n",
       "    }\n",
       "\n",
       "    .dataframe thead th {\n",
       "        text-align: right;\n",
       "    }\n",
       "</style>\n",
       "<table border=\"1\" class=\"dataframe\">\n",
       "  <thead>\n",
       "    <tr style=\"text-align: right;\">\n",
       "      <th></th>\n",
       "      <th>삼양홀딩스</th>\n",
       "      <th>유한양행</th>\n",
       "      <th>CJ대한통운</th>\n",
       "      <th>두산</th>\n",
       "      <th>대림산업</th>\n",
       "      <th>한국테크놀로지그룹</th>\n",
       "      <th>기아차</th>\n",
       "      <th>동아쏘시오홀딩스</th>\n",
       "      <th>SK하이닉스</th>\n",
       "      <th>영풍</th>\n",
       "      <th>...</th>\n",
       "      <th>현대백화점</th>\n",
       "      <th>한국금융지주</th>\n",
       "      <th>GS</th>\n",
       "      <th>하나금융지주</th>\n",
       "      <th>아모레퍼시픽</th>\n",
       "      <th>LF</th>\n",
       "      <th>후성</th>\n",
       "      <th>SK이노베이션</th>\n",
       "      <th>CJ제일제당</th>\n",
       "      <th>KB금융</th>\n",
       "    </tr>\n",
       "  </thead>\n",
       "  <tbody>\n",
       "    <tr>\n",
       "      <th>20100101</th>\n",
       "      <td>NaN</td>\n",
       "      <td>NaN</td>\n",
       "      <td>NaN</td>\n",
       "      <td>NaN</td>\n",
       "      <td>NaN</td>\n",
       "      <td>NaN</td>\n",
       "      <td>NaN</td>\n",
       "      <td>NaN</td>\n",
       "      <td>NaN</td>\n",
       "      <td>NaN</td>\n",
       "      <td>...</td>\n",
       "      <td>NaN</td>\n",
       "      <td>NaN</td>\n",
       "      <td>NaN</td>\n",
       "      <td>NaN</td>\n",
       "      <td>NaN</td>\n",
       "      <td>NaN</td>\n",
       "      <td>NaN</td>\n",
       "      <td>NaN</td>\n",
       "      <td>NaN</td>\n",
       "      <td>NaN</td>\n",
       "    </tr>\n",
       "    <tr>\n",
       "      <th>20100102</th>\n",
       "      <td>NaN</td>\n",
       "      <td>NaN</td>\n",
       "      <td>NaN</td>\n",
       "      <td>NaN</td>\n",
       "      <td>NaN</td>\n",
       "      <td>NaN</td>\n",
       "      <td>NaN</td>\n",
       "      <td>NaN</td>\n",
       "      <td>NaN</td>\n",
       "      <td>NaN</td>\n",
       "      <td>...</td>\n",
       "      <td>NaN</td>\n",
       "      <td>NaN</td>\n",
       "      <td>NaN</td>\n",
       "      <td>NaN</td>\n",
       "      <td>NaN</td>\n",
       "      <td>NaN</td>\n",
       "      <td>NaN</td>\n",
       "      <td>NaN</td>\n",
       "      <td>NaN</td>\n",
       "      <td>NaN</td>\n",
       "    </tr>\n",
       "    <tr>\n",
       "      <th>20100103</th>\n",
       "      <td>NaN</td>\n",
       "      <td>NaN</td>\n",
       "      <td>NaN</td>\n",
       "      <td>NaN</td>\n",
       "      <td>NaN</td>\n",
       "      <td>NaN</td>\n",
       "      <td>NaN</td>\n",
       "      <td>NaN</td>\n",
       "      <td>NaN</td>\n",
       "      <td>NaN</td>\n",
       "      <td>...</td>\n",
       "      <td>NaN</td>\n",
       "      <td>NaN</td>\n",
       "      <td>NaN</td>\n",
       "      <td>NaN</td>\n",
       "      <td>NaN</td>\n",
       "      <td>NaN</td>\n",
       "      <td>NaN</td>\n",
       "      <td>NaN</td>\n",
       "      <td>NaN</td>\n",
       "      <td>NaN</td>\n",
       "    </tr>\n",
       "    <tr>\n",
       "      <th>20100104</th>\n",
       "      <td>NaN</td>\n",
       "      <td>NaN</td>\n",
       "      <td>NaN</td>\n",
       "      <td>NaN</td>\n",
       "      <td>NaN</td>\n",
       "      <td>NaN</td>\n",
       "      <td>NaN</td>\n",
       "      <td>NaN</td>\n",
       "      <td>NaN</td>\n",
       "      <td>NaN</td>\n",
       "      <td>...</td>\n",
       "      <td>NaN</td>\n",
       "      <td>NaN</td>\n",
       "      <td>NaN</td>\n",
       "      <td>NaN</td>\n",
       "      <td>NaN</td>\n",
       "      <td>NaN</td>\n",
       "      <td>NaN</td>\n",
       "      <td>NaN</td>\n",
       "      <td>NaN</td>\n",
       "      <td>NaN</td>\n",
       "    </tr>\n",
       "    <tr>\n",
       "      <th>20100105</th>\n",
       "      <td>NaN</td>\n",
       "      <td>NaN</td>\n",
       "      <td>NaN</td>\n",
       "      <td>NaN</td>\n",
       "      <td>NaN</td>\n",
       "      <td>NaN</td>\n",
       "      <td>NaN</td>\n",
       "      <td>NaN</td>\n",
       "      <td>NaN</td>\n",
       "      <td>NaN</td>\n",
       "      <td>...</td>\n",
       "      <td>NaN</td>\n",
       "      <td>NaN</td>\n",
       "      <td>NaN</td>\n",
       "      <td>NaN</td>\n",
       "      <td>NaN</td>\n",
       "      <td>NaN</td>\n",
       "      <td>NaN</td>\n",
       "      <td>NaN</td>\n",
       "      <td>NaN</td>\n",
       "      <td>NaN</td>\n",
       "    </tr>\n",
       "  </tbody>\n",
       "</table>\n",
       "<p>5 rows × 113 columns</p>\n",
       "</div>"
      ],
      "text/plain": [
       "          삼양홀딩스  유한양행  CJ대한통운  두산  대림산업  한국테크놀로지그룹  기아차  동아쏘시오홀딩스  SK하이닉스  영풍  \\\n",
       "20100101    NaN   NaN     NaN NaN   NaN        NaN  NaN       NaN     NaN NaN   \n",
       "20100102    NaN   NaN     NaN NaN   NaN        NaN  NaN       NaN     NaN NaN   \n",
       "20100103    NaN   NaN     NaN NaN   NaN        NaN  NaN       NaN     NaN NaN   \n",
       "20100104    NaN   NaN     NaN NaN   NaN        NaN  NaN       NaN     NaN NaN   \n",
       "20100105    NaN   NaN     NaN NaN   NaN        NaN  NaN       NaN     NaN NaN   \n",
       "\n",
       "          ...  현대백화점  한국금융지주  GS  하나금융지주  아모레퍼시픽  LF  후성  SK이노베이션  CJ제일제당  \\\n",
       "20100101  ...    NaN     NaN NaN     NaN     NaN NaN NaN      NaN     NaN   \n",
       "20100102  ...    NaN     NaN NaN     NaN     NaN NaN NaN      NaN     NaN   \n",
       "20100103  ...    NaN     NaN NaN     NaN     NaN NaN NaN      NaN     NaN   \n",
       "20100104  ...    NaN     NaN NaN     NaN     NaN NaN NaN      NaN     NaN   \n",
       "20100105  ...    NaN     NaN NaN     NaN     NaN NaN NaN      NaN     NaN   \n",
       "\n",
       "          KB금융  \n",
       "20100101   NaN  \n",
       "20100102   NaN  \n",
       "20100103   NaN  \n",
       "20100104   NaN  \n",
       "20100105   NaN  \n",
       "\n",
       "[5 rows x 113 columns]"
      ]
     },
     "execution_count": 6,
     "metadata": {},
     "output_type": "execute_result"
    }
   ],
   "source": [
    "monthly_df.loc[20150131:,:].diff()\n",
    "monthly_df.head().diff()"
   ]
  },
  {
   "cell_type": "code",
   "execution_count": 7,
   "metadata": {},
   "outputs": [
    {
     "data": {
      "text/html": [
       "<div>\n",
       "<style scoped>\n",
       "    .dataframe tbody tr th:only-of-type {\n",
       "        vertical-align: middle;\n",
       "    }\n",
       "\n",
       "    .dataframe tbody tr th {\n",
       "        vertical-align: top;\n",
       "    }\n",
       "\n",
       "    .dataframe thead th {\n",
       "        text-align: right;\n",
       "    }\n",
       "</style>\n",
       "<table border=\"1\" class=\"dataframe\">\n",
       "  <thead>\n",
       "    <tr style=\"text-align: right;\">\n",
       "      <th></th>\n",
       "      <th>삼양홀딩스</th>\n",
       "      <th>유한양행</th>\n",
       "      <th>CJ대한통운</th>\n",
       "      <th>두산</th>\n",
       "      <th>대림산업</th>\n",
       "      <th>한국테크놀로지그룹</th>\n",
       "      <th>기아차</th>\n",
       "      <th>동아쏘시오홀딩스</th>\n",
       "      <th>SK하이닉스</th>\n",
       "      <th>영풍</th>\n",
       "      <th>...</th>\n",
       "      <th>현대백화점</th>\n",
       "      <th>한국금융지주</th>\n",
       "      <th>GS</th>\n",
       "      <th>하나금융지주</th>\n",
       "      <th>아모레퍼시픽</th>\n",
       "      <th>LF</th>\n",
       "      <th>후성</th>\n",
       "      <th>SK이노베이션</th>\n",
       "      <th>CJ제일제당</th>\n",
       "      <th>KB금융</th>\n",
       "    </tr>\n",
       "  </thead>\n",
       "  <tbody>\n",
       "    <tr>\n",
       "      <th>20100104</th>\n",
       "      <td>-0.280843</td>\n",
       "      <td>-1.852864</td>\n",
       "      <td>-4.610071</td>\n",
       "      <td>-3.350941</td>\n",
       "      <td>1.794038</td>\n",
       "      <td>-2.488137</td>\n",
       "      <td>3.010648</td>\n",
       "      <td>3.161752</td>\n",
       "      <td>3.373672</td>\n",
       "      <td>-0.730000</td>\n",
       "      <td>...</td>\n",
       "      <td>-0.285556</td>\n",
       "      <td>1.508806</td>\n",
       "      <td>-0.877929</td>\n",
       "      <td>0.637781</td>\n",
       "      <td>0.126311</td>\n",
       "      <td>0.379350</td>\n",
       "      <td>-1.396489</td>\n",
       "      <td>-1.155532</td>\n",
       "      <td>-0.000073</td>\n",
       "      <td>-1.232513</td>\n",
       "    </tr>\n",
       "    <tr>\n",
       "      <th>20100105</th>\n",
       "      <td>-0.268095</td>\n",
       "      <td>0.859003</td>\n",
       "      <td>0.107355</td>\n",
       "      <td>0.075254</td>\n",
       "      <td>-0.647026</td>\n",
       "      <td>-4.102549</td>\n",
       "      <td>-5.238005</td>\n",
       "      <td>-3.080531</td>\n",
       "      <td>-2.821192</td>\n",
       "      <td>-3.048351</td>\n",
       "      <td>...</td>\n",
       "      <td>-4.133938</td>\n",
       "      <td>1.312739</td>\n",
       "      <td>0.735285</td>\n",
       "      <td>1.940016</td>\n",
       "      <td>-2.574671</td>\n",
       "      <td>-3.627654</td>\n",
       "      <td>-0.353282</td>\n",
       "      <td>4.136995</td>\n",
       "      <td>6.571034</td>\n",
       "      <td>-0.887610</td>\n",
       "    </tr>\n",
       "    <tr>\n",
       "      <th>20100106</th>\n",
       "      <td>-1.605963</td>\n",
       "      <td>0.307983</td>\n",
       "      <td>2.855254</td>\n",
       "      <td>4.680736</td>\n",
       "      <td>1.190617</td>\n",
       "      <td>-1.445163</td>\n",
       "      <td>0.196595</td>\n",
       "      <td>-3.533826</td>\n",
       "      <td>4.317969</td>\n",
       "      <td>-3.184853</td>\n",
       "      <td>...</td>\n",
       "      <td>-3.136032</td>\n",
       "      <td>-1.688269</td>\n",
       "      <td>0.211231</td>\n",
       "      <td>-0.821217</td>\n",
       "      <td>-6.832755</td>\n",
       "      <td>-1.636878</td>\n",
       "      <td>0.610442</td>\n",
       "      <td>-0.409694</td>\n",
       "      <td>-0.593944</td>\n",
       "      <td>-1.161933</td>\n",
       "    </tr>\n",
       "    <tr>\n",
       "      <th>20100107</th>\n",
       "      <td>-0.088558</td>\n",
       "      <td>0.657213</td>\n",
       "      <td>1.850137</td>\n",
       "      <td>4.256946</td>\n",
       "      <td>1.263508</td>\n",
       "      <td>-1.032897</td>\n",
       "      <td>-3.038478</td>\n",
       "      <td>2.292478</td>\n",
       "      <td>0.884529</td>\n",
       "      <td>1.123087</td>\n",
       "      <td>...</td>\n",
       "      <td>1.969460</td>\n",
       "      <td>-0.545290</td>\n",
       "      <td>2.517425</td>\n",
       "      <td>0.168093</td>\n",
       "      <td>-0.713210</td>\n",
       "      <td>0.673158</td>\n",
       "      <td>2.294462</td>\n",
       "      <td>1.085691</td>\n",
       "      <td>0.361740</td>\n",
       "      <td>0.298946</td>\n",
       "    </tr>\n",
       "    <tr>\n",
       "      <th>20100108</th>\n",
       "      <td>-0.840261</td>\n",
       "      <td>-1.454001</td>\n",
       "      <td>1.156780</td>\n",
       "      <td>5.857380</td>\n",
       "      <td>0.436508</td>\n",
       "      <td>0.260469</td>\n",
       "      <td>1.500814</td>\n",
       "      <td>-1.400654</td>\n",
       "      <td>0.414586</td>\n",
       "      <td>-0.983836</td>\n",
       "      <td>...</td>\n",
       "      <td>-2.968495</td>\n",
       "      <td>6.086424</td>\n",
       "      <td>-1.043530</td>\n",
       "      <td>-0.311050</td>\n",
       "      <td>-2.156567</td>\n",
       "      <td>0.385021</td>\n",
       "      <td>-0.108023</td>\n",
       "      <td>0.213041</td>\n",
       "      <td>-0.610004</td>\n",
       "      <td>-0.436994</td>\n",
       "    </tr>\n",
       "  </tbody>\n",
       "</table>\n",
       "<p>5 rows × 113 columns</p>\n",
       "</div>"
      ],
      "text/plain": [
       "             삼양홀딩스      유한양행    CJ대한통운        두산      대림산업  한국테크놀로지그룹  \\\n",
       "20100104 -0.280843 -1.852864 -4.610071 -3.350941  1.794038  -2.488137   \n",
       "20100105 -0.268095  0.859003  0.107355  0.075254 -0.647026  -4.102549   \n",
       "20100106 -1.605963  0.307983  2.855254  4.680736  1.190617  -1.445163   \n",
       "20100107 -0.088558  0.657213  1.850137  4.256946  1.263508  -1.032897   \n",
       "20100108 -0.840261 -1.454001  1.156780  5.857380  0.436508   0.260469   \n",
       "\n",
       "               기아차  동아쏘시오홀딩스    SK하이닉스        영풍  ...     현대백화점    한국금융지주  \\\n",
       "20100104  3.010648  3.161752  3.373672 -0.730000  ... -0.285556  1.508806   \n",
       "20100105 -5.238005 -3.080531 -2.821192 -3.048351  ... -4.133938  1.312739   \n",
       "20100106  0.196595 -3.533826  4.317969 -3.184853  ... -3.136032 -1.688269   \n",
       "20100107 -3.038478  2.292478  0.884529  1.123087  ...  1.969460 -0.545290   \n",
       "20100108  1.500814 -1.400654  0.414586 -0.983836  ... -2.968495  6.086424   \n",
       "\n",
       "                GS    하나금융지주    아모레퍼시픽        LF        후성   SK이노베이션  \\\n",
       "20100104 -0.877929  0.637781  0.126311  0.379350 -1.396489 -1.155532   \n",
       "20100105  0.735285  1.940016 -2.574671 -3.627654 -0.353282  4.136995   \n",
       "20100106  0.211231 -0.821217 -6.832755 -1.636878  0.610442 -0.409694   \n",
       "20100107  2.517425  0.168093 -0.713210  0.673158  2.294462  1.085691   \n",
       "20100108 -1.043530 -0.311050 -2.156567  0.385021 -0.108023  0.213041   \n",
       "\n",
       "            CJ제일제당      KB금융  \n",
       "20100104 -0.000073 -1.232513  \n",
       "20100105  6.571034 -0.887610  \n",
       "20100106 -0.593944 -1.161933  \n",
       "20100107  0.361740  0.298946  \n",
       "20100108 -0.610004 -0.436994  \n",
       "\n",
       "[5 rows x 113 columns]"
      ]
     },
     "execution_count": 7,
     "metadata": {},
     "output_type": "execute_result"
    }
   ],
   "source": [
    "de_rm_df.head()"
   ]
  },
  {
   "cell_type": "code",
   "execution_count": 9,
   "metadata": {},
   "outputs": [
    {
     "data": {
      "text/plain": [
       "((1926, 113), (1926, 113))"
      ]
     },
     "execution_count": 9,
     "metadata": {},
     "output_type": "execute_result"
    }
   ],
   "source": [
    "ret_df = de_rm_df.loc[20120300:].copy()\n",
    "sim_df = monthly_df.loc[ret_df.index].copy()\n",
    "\n",
    "ret_df.shape, sim_df.shape"
   ]
  },
  {
   "cell_type": "code",
   "execution_count": 10,
   "metadata": {},
   "outputs": [
    {
     "data": {
      "text/html": [
       "<div>\n",
       "<style scoped>\n",
       "    .dataframe tbody tr th:only-of-type {\n",
       "        vertical-align: middle;\n",
       "    }\n",
       "\n",
       "    .dataframe tbody tr th {\n",
       "        vertical-align: top;\n",
       "    }\n",
       "\n",
       "    .dataframe thead th {\n",
       "        text-align: right;\n",
       "    }\n",
       "</style>\n",
       "<table border=\"1\" class=\"dataframe\">\n",
       "  <thead>\n",
       "    <tr style=\"text-align: right;\">\n",
       "      <th></th>\n",
       "      <th>삼양홀딩스</th>\n",
       "      <th>유한양행</th>\n",
       "      <th>CJ대한통운</th>\n",
       "      <th>두산</th>\n",
       "      <th>대림산업</th>\n",
       "      <th>한국테크놀로지그룹</th>\n",
       "      <th>기아차</th>\n",
       "      <th>동아쏘시오홀딩스</th>\n",
       "      <th>SK하이닉스</th>\n",
       "      <th>영풍</th>\n",
       "      <th>...</th>\n",
       "      <th>현대백화점</th>\n",
       "      <th>한국금융지주</th>\n",
       "      <th>GS</th>\n",
       "      <th>하나금융지주</th>\n",
       "      <th>아모레퍼시픽</th>\n",
       "      <th>LF</th>\n",
       "      <th>후성</th>\n",
       "      <th>SK이노베이션</th>\n",
       "      <th>CJ제일제당</th>\n",
       "      <th>KB금융</th>\n",
       "    </tr>\n",
       "  </thead>\n",
       "  <tbody>\n",
       "    <tr>\n",
       "      <th>20120302</th>\n",
       "      <td>1.787565</td>\n",
       "      <td>0.717216</td>\n",
       "      <td>2.685086</td>\n",
       "      <td>-0.119792</td>\n",
       "      <td>0.277033</td>\n",
       "      <td>-0.237611</td>\n",
       "      <td>1.294635</td>\n",
       "      <td>-0.355448</td>\n",
       "      <td>0.708023</td>\n",
       "      <td>4.876305</td>\n",
       "      <td>...</td>\n",
       "      <td>0.179609</td>\n",
       "      <td>1.427169</td>\n",
       "      <td>1.118598</td>\n",
       "      <td>-1.260476</td>\n",
       "      <td>-0.899321</td>\n",
       "      <td>1.546875</td>\n",
       "      <td>1.309822</td>\n",
       "      <td>0.149750</td>\n",
       "      <td>3.768233</td>\n",
       "      <td>0.487004</td>\n",
       "    </tr>\n",
       "    <tr>\n",
       "      <th>20120305</th>\n",
       "      <td>-0.995813</td>\n",
       "      <td>-1.479658</td>\n",
       "      <td>0.653663</td>\n",
       "      <td>0.134766</td>\n",
       "      <td>-3.733549</td>\n",
       "      <td>0.311224</td>\n",
       "      <td>0.870064</td>\n",
       "      <td>-0.169923</td>\n",
       "      <td>-0.304094</td>\n",
       "      <td>-2.113142</td>\n",
       "      <td>...</td>\n",
       "      <td>3.099087</td>\n",
       "      <td>1.880046</td>\n",
       "      <td>-0.366612</td>\n",
       "      <td>1.265945</td>\n",
       "      <td>3.662099</td>\n",
       "      <td>-1.917866</td>\n",
       "      <td>0.448626</td>\n",
       "      <td>-1.947455</td>\n",
       "      <td>2.805942</td>\n",
       "      <td>-0.196738</td>\n",
       "    </tr>\n",
       "    <tr>\n",
       "      <th>20120306</th>\n",
       "      <td>1.263361</td>\n",
       "      <td>0.717658</td>\n",
       "      <td>-1.901389</td>\n",
       "      <td>-0.458261</td>\n",
       "      <td>0.717658</td>\n",
       "      <td>3.658835</td>\n",
       "      <td>1.276317</td>\n",
       "      <td>2.150225</td>\n",
       "      <td>-1.445403</td>\n",
       "      <td>-1.200991</td>\n",
       "      <td>...</td>\n",
       "      <td>0.132863</td>\n",
       "      <td>-2.087088</td>\n",
       "      <td>-0.677691</td>\n",
       "      <td>2.507940</td>\n",
       "      <td>1.865687</td>\n",
       "      <td>-1.815514</td>\n",
       "      <td>-1.408463</td>\n",
       "      <td>-0.944392</td>\n",
       "      <td>-2.664695</td>\n",
       "      <td>-0.503343</td>\n",
       "    </tr>\n",
       "    <tr>\n",
       "      <th>20120307</th>\n",
       "      <td>0.001316</td>\n",
       "      <td>-0.751385</td>\n",
       "      <td>0.217616</td>\n",
       "      <td>-0.239540</td>\n",
       "      <td>0.536175</td>\n",
       "      <td>-2.136817</td>\n",
       "      <td>-0.437776</td>\n",
       "      <td>-1.283614</td>\n",
       "      <td>-0.069295</td>\n",
       "      <td>-3.117745</td>\n",
       "      <td>...</td>\n",
       "      <td>1.245230</td>\n",
       "      <td>-2.489509</td>\n",
       "      <td>0.164949</td>\n",
       "      <td>-0.682053</td>\n",
       "      <td>1.329446</td>\n",
       "      <td>5.282796</td>\n",
       "      <td>1.098889</td>\n",
       "      <td>-1.302408</td>\n",
       "      <td>0.037871</td>\n",
       "      <td>0.703894</td>\n",
       "    </tr>\n",
       "    <tr>\n",
       "      <th>20120308</th>\n",
       "      <td>-1.097232</td>\n",
       "      <td>-3.124712</td>\n",
       "      <td>-0.713940</td>\n",
       "      <td>-0.357746</td>\n",
       "      <td>0.706421</td>\n",
       "      <td>-1.431764</td>\n",
       "      <td>1.152430</td>\n",
       "      <td>-0.599501</td>\n",
       "      <td>1.273431</td>\n",
       "      <td>-7.159267</td>\n",
       "      <td>...</td>\n",
       "      <td>-0.080480</td>\n",
       "      <td>2.488030</td>\n",
       "      <td>0.783019</td>\n",
       "      <td>2.871172</td>\n",
       "      <td>-1.337153</td>\n",
       "      <td>-2.976853</td>\n",
       "      <td>-2.273511</td>\n",
       "      <td>0.480676</td>\n",
       "      <td>-1.728295</td>\n",
       "      <td>1.146322</td>\n",
       "    </tr>\n",
       "    <tr>\n",
       "      <th>...</th>\n",
       "      <td>...</td>\n",
       "      <td>...</td>\n",
       "      <td>...</td>\n",
       "      <td>...</td>\n",
       "      <td>...</td>\n",
       "      <td>...</td>\n",
       "      <td>...</td>\n",
       "      <td>...</td>\n",
       "      <td>...</td>\n",
       "      <td>...</td>\n",
       "      <td>...</td>\n",
       "      <td>...</td>\n",
       "      <td>...</td>\n",
       "      <td>...</td>\n",
       "      <td>...</td>\n",
       "      <td>...</td>\n",
       "      <td>...</td>\n",
       "      <td>...</td>\n",
       "      <td>...</td>\n",
       "      <td>...</td>\n",
       "      <td>...</td>\n",
       "    </tr>\n",
       "    <tr>\n",
       "      <th>20191223</th>\n",
       "      <td>1.085033</td>\n",
       "      <td>0.977312</td>\n",
       "      <td>-1.153936</td>\n",
       "      <td>0.858216</td>\n",
       "      <td>0.148996</td>\n",
       "      <td>-0.892671</td>\n",
       "      <td>0.260853</td>\n",
       "      <td>1.557447</td>\n",
       "      <td>-0.272057</td>\n",
       "      <td>-0.169475</td>\n",
       "      <td>...</td>\n",
       "      <td>0.027784</td>\n",
       "      <td>0.837701</td>\n",
       "      <td>0.719338</td>\n",
       "      <td>0.538101</td>\n",
       "      <td>-2.332394</td>\n",
       "      <td>-0.125729</td>\n",
       "      <td>-2.557031</td>\n",
       "      <td>0.148996</td>\n",
       "      <td>0.977153</td>\n",
       "      <td>1.881922</td>\n",
       "    </tr>\n",
       "    <tr>\n",
       "      <th>20191224</th>\n",
       "      <td>2.213686</td>\n",
       "      <td>0.052065</td>\n",
       "      <td>-0.322008</td>\n",
       "      <td>0.668091</td>\n",
       "      <td>0.013069</td>\n",
       "      <td>0.668091</td>\n",
       "      <td>0.556359</td>\n",
       "      <td>1.131054</td>\n",
       "      <td>-0.177575</td>\n",
       "      <td>2.744768</td>\n",
       "      <td>...</td>\n",
       "      <td>-0.181424</td>\n",
       "      <td>0.531292</td>\n",
       "      <td>1.235199</td>\n",
       "      <td>-0.494700</td>\n",
       "      <td>1.431450</td>\n",
       "      <td>2.045501</td>\n",
       "      <td>2.058736</td>\n",
       "      <td>0.993824</td>\n",
       "      <td>0.052075</td>\n",
       "      <td>-0.233713</td>\n",
       "    </tr>\n",
       "    <tr>\n",
       "      <th>20191226</th>\n",
       "      <td>0.821616</td>\n",
       "      <td>1.256735</td>\n",
       "      <td>-0.396040</td>\n",
       "      <td>1.012411</td>\n",
       "      <td>-0.615820</td>\n",
       "      <td>1.007469</td>\n",
       "      <td>0.498815</td>\n",
       "      <td>0.064790</td>\n",
       "      <td>0.670058</td>\n",
       "      <td>-1.647996</td>\n",
       "      <td>...</td>\n",
       "      <td>-0.273641</td>\n",
       "      <td>-0.122067</td>\n",
       "      <td>-0.396040</td>\n",
       "      <td>0.649712</td>\n",
       "      <td>-1.153615</td>\n",
       "      <td>0.962656</td>\n",
       "      <td>-1.019481</td>\n",
       "      <td>0.253311</td>\n",
       "      <td>0.017184</td>\n",
       "      <td>-0.497152</td>\n",
       "    </tr>\n",
       "    <tr>\n",
       "      <th>20191227</th>\n",
       "      <td>-0.688428</td>\n",
       "      <td>0.036952</td>\n",
       "      <td>2.612324</td>\n",
       "      <td>-2.748787</td>\n",
       "      <td>-2.590319</td>\n",
       "      <td>-2.463801</td>\n",
       "      <td>-2.050647</td>\n",
       "      <td>-2.681254</td>\n",
       "      <td>0.878147</td>\n",
       "      <td>-0.863112</td>\n",
       "      <td>...</td>\n",
       "      <td>-0.509925</td>\n",
       "      <td>-1.480572</td>\n",
       "      <td>-2.267375</td>\n",
       "      <td>-3.363096</td>\n",
       "      <td>-1.151035</td>\n",
       "      <td>-2.800545</td>\n",
       "      <td>1.368911</td>\n",
       "      <td>-2.968321</td>\n",
       "      <td>2.492982</td>\n",
       "      <td>-3.120470</td>\n",
       "    </tr>\n",
       "    <tr>\n",
       "      <th>20191230</th>\n",
       "      <td>1.540224</td>\n",
       "      <td>0.484417</td>\n",
       "      <td>0.808042</td>\n",
       "      <td>0.484417</td>\n",
       "      <td>2.398832</td>\n",
       "      <td>2.251202</td>\n",
       "      <td>0.371678</td>\n",
       "      <td>1.423384</td>\n",
       "      <td>-1.494749</td>\n",
       "      <td>3.191424</td>\n",
       "      <td>...</td>\n",
       "      <td>2.198004</td>\n",
       "      <td>0.484417</td>\n",
       "      <td>-0.665008</td>\n",
       "      <td>-1.115583</td>\n",
       "      <td>3.048520</td>\n",
       "      <td>2.132769</td>\n",
       "      <td>1.224245</td>\n",
       "      <td>-0.177834</td>\n",
       "      <td>1.484417</td>\n",
       "      <td>-0.348049</td>\n",
       "    </tr>\n",
       "  </tbody>\n",
       "</table>\n",
       "<p>1926 rows × 113 columns</p>\n",
       "</div>"
      ],
      "text/plain": [
       "             삼양홀딩스      유한양행    CJ대한통운        두산      대림산업  한국테크놀로지그룹  \\\n",
       "20120302  1.787565  0.717216  2.685086 -0.119792  0.277033  -0.237611   \n",
       "20120305 -0.995813 -1.479658  0.653663  0.134766 -3.733549   0.311224   \n",
       "20120306  1.263361  0.717658 -1.901389 -0.458261  0.717658   3.658835   \n",
       "20120307  0.001316 -0.751385  0.217616 -0.239540  0.536175  -2.136817   \n",
       "20120308 -1.097232 -3.124712 -0.713940 -0.357746  0.706421  -1.431764   \n",
       "...            ...       ...       ...       ...       ...        ...   \n",
       "20191223  1.085033  0.977312 -1.153936  0.858216  0.148996  -0.892671   \n",
       "20191224  2.213686  0.052065 -0.322008  0.668091  0.013069   0.668091   \n",
       "20191226  0.821616  1.256735 -0.396040  1.012411 -0.615820   1.007469   \n",
       "20191227 -0.688428  0.036952  2.612324 -2.748787 -2.590319  -2.463801   \n",
       "20191230  1.540224  0.484417  0.808042  0.484417  2.398832   2.251202   \n",
       "\n",
       "               기아차  동아쏘시오홀딩스    SK하이닉스        영풍  ...     현대백화점    한국금융지주  \\\n",
       "20120302  1.294635 -0.355448  0.708023  4.876305  ...  0.179609  1.427169   \n",
       "20120305  0.870064 -0.169923 -0.304094 -2.113142  ...  3.099087  1.880046   \n",
       "20120306  1.276317  2.150225 -1.445403 -1.200991  ...  0.132863 -2.087088   \n",
       "20120307 -0.437776 -1.283614 -0.069295 -3.117745  ...  1.245230 -2.489509   \n",
       "20120308  1.152430 -0.599501  1.273431 -7.159267  ... -0.080480  2.488030   \n",
       "...            ...       ...       ...       ...  ...       ...       ...   \n",
       "20191223  0.260853  1.557447 -0.272057 -0.169475  ...  0.027784  0.837701   \n",
       "20191224  0.556359  1.131054 -0.177575  2.744768  ... -0.181424  0.531292   \n",
       "20191226  0.498815  0.064790  0.670058 -1.647996  ... -0.273641 -0.122067   \n",
       "20191227 -2.050647 -2.681254  0.878147 -0.863112  ... -0.509925 -1.480572   \n",
       "20191230  0.371678  1.423384 -1.494749  3.191424  ...  2.198004  0.484417   \n",
       "\n",
       "                GS    하나금융지주    아모레퍼시픽        LF        후성   SK이노베이션  \\\n",
       "20120302  1.118598 -1.260476 -0.899321  1.546875  1.309822  0.149750   \n",
       "20120305 -0.366612  1.265945  3.662099 -1.917866  0.448626 -1.947455   \n",
       "20120306 -0.677691  2.507940  1.865687 -1.815514 -1.408463 -0.944392   \n",
       "20120307  0.164949 -0.682053  1.329446  5.282796  1.098889 -1.302408   \n",
       "20120308  0.783019  2.871172 -1.337153 -2.976853 -2.273511  0.480676   \n",
       "...            ...       ...       ...       ...       ...       ...   \n",
       "20191223  0.719338  0.538101 -2.332394 -0.125729 -2.557031  0.148996   \n",
       "20191224  1.235199 -0.494700  1.431450  2.045501  2.058736  0.993824   \n",
       "20191226 -0.396040  0.649712 -1.153615  0.962656 -1.019481  0.253311   \n",
       "20191227 -2.267375 -3.363096 -1.151035 -2.800545  1.368911 -2.968321   \n",
       "20191230 -0.665008 -1.115583  3.048520  2.132769  1.224245 -0.177834   \n",
       "\n",
       "            CJ제일제당      KB금융  \n",
       "20120302  3.768233  0.487004  \n",
       "20120305  2.805942 -0.196738  \n",
       "20120306 -2.664695 -0.503343  \n",
       "20120307  0.037871  0.703894  \n",
       "20120308 -1.728295  1.146322  \n",
       "...            ...       ...  \n",
       "20191223  0.977153  1.881922  \n",
       "20191224  0.052075 -0.233713  \n",
       "20191226  0.017184 -0.497152  \n",
       "20191227  2.492982 -3.120470  \n",
       "20191230  1.484417 -0.348049  \n",
       "\n",
       "[1926 rows x 113 columns]"
      ]
     },
     "execution_count": 10,
     "metadata": {},
     "output_type": "execute_result"
    }
   ],
   "source": [
    "ret_df"
   ]
  },
  {
   "cell_type": "code",
   "execution_count": 11,
   "metadata": {},
   "outputs": [
    {
     "data": {
      "text/plain": [
       "(94, 113)"
      ]
     },
     "execution_count": 11,
     "metadata": {},
     "output_type": "execute_result"
    }
   ],
   "source": [
    "yyyymmdd_ls = [str(i)[:-2] for i in sim_df.index]\n",
    "idx_ls = []\n",
    "for idx in range(0,len(yyyymmdd_ls)-1) : \n",
    "    if yyyymmdd_ls[idx] != yyyymmdd_ls[idx+1] : \n",
    "        idx_ls.append(idx)\n",
    "idx_ls.append(-1)\n",
    "\n",
    "monthly_sim_df = sim_df.iloc[idx_ls]\n",
    "monthly_sim_df.shape"
   ]
  },
  {
   "cell_type": "code",
   "execution_count": 14,
   "metadata": {},
   "outputs": [],
   "source": [
    "def get_q(df_, lower_bound, upper_bound) : #quntile 설정해주면 해당 quantile에 해당하는 boolean값 반환. cross-sectional 기준\n",
    "    low_q1_threshold = np.percentile(df_,lower_bound,1)\n",
    "    low_q1_thres_mat = np.repeat(low_q1_threshold[:,np.newaxis],df_.shape[1],1)\n",
    "\n",
    "    high_q1_threshold = np.percentile(df_,upper_bound,1)\n",
    "    high_q1_thres_mat = np.repeat(high_q1_threshold[:,np.newaxis],df_.shape[1],1)\n",
    "    \n",
    "    low_bool_mat = low_q1_thres_mat > df_\n",
    "    high_bool_mat1 = high_q1_thres_mat > df_\n",
    "    \n",
    "    low_bool_mat = low_q1_thres_mat > df_\n",
    "    high_bool_mat = high_q1_thres_mat > df_\n",
    "    \n",
    "    return np.bitwise_and(high_bool_mat,~low_bool_mat)"
   ]
  },
  {
   "cell_type": "code",
   "execution_count": 15,
   "metadata": {},
   "outputs": [],
   "source": [
    "def get_q_returns(days):\n",
    "    march_idx =[ x for x in range(0,94,12)] #3월에 해당되는 idx 추출\n",
    "    monthly_sim_df.iloc[march_idx,:]\n",
    "    q1_march_values = [get_q(monthly_sim_df,0,20).iloc[x,:].values for x in march_idx] #3월말 값들의 Q1 여부 8년치\n",
    "    q2_march_values = [get_q(monthly_sim_df,20,40).iloc[x,:].values for x in march_idx] #3월말 값들의 Q2 여부 8년치\n",
    "    q3_march_values = [get_q(monthly_sim_df,40,60).iloc[x,:].values for x in march_idx] #3월말 값들의 Q3 여부 8년치\n",
    "    q4_march_values = [get_q(monthly_sim_df,60,80).iloc[x,:].values for x in march_idx] #3월말 값들의 Q4 여부 8년치\n",
    "    q5_march_values = [get_q(monthly_sim_df,80,100).iloc[x,:].values for x in march_idx] #3월말 값들의 Q5 여부 8년치\n",
    "    \n",
    "    re_march_idx = [idx_ls[i] for i in range(0,len(idx_ls),12)] #return_df 의 3월말 idx값들 8년치\n",
    "\n",
    "    q1 = np.mean([((1+ret_df.iloc[i:i+days,:].cumsum())-1).iloc[-1,:][q1_march_values[idx]].mean() for idx,i in enumerate(re_march_idx)])\n",
    "    q2 = np.mean([((1+ret_df.iloc[i:i+days,:].cumsum())-1).iloc[-1,:][q2_march_values[idx]].mean() for idx,i in enumerate(re_march_idx)])\n",
    "    q3 = np.mean([((1+ret_df.iloc[i:i+days,:].cumsum())-1).iloc[-1,:][q3_march_values[idx]].mean() for idx,i in enumerate(re_march_idx)])\n",
    "    q4 = np.mean([((1+ret_df.iloc[i:i+days,:].cumsum())-1).iloc[-1,:][q4_march_values[idx]].mean() for idx,i in enumerate(re_march_idx)])\n",
    "    q5 = np.mean([((1+ret_df.iloc[i:i+days,:].cumsum())-1).iloc[-1,:][q5_march_values[idx]].mean() for idx,i in enumerate(re_march_idx)])\n",
    "        \n",
    "    df_ = pd.DataFrame([q1,q5],index=['Q1','Q5'])\n",
    "    \n",
    "    return df_"
   ]
  },
  {
   "cell_type": "code",
   "execution_count": 16,
   "metadata": {},
   "outputs": [],
   "source": [
    "ee = pd.DataFrame([0,0],index=['Q1','Q5'])\n",
    "six_month_df = pd.concat([get_q_returns(i) for i in range(20,240,20)],axis=1)\n",
    "six_month_df = pd.concat([ee,six_month_df],axis=1).T\n",
    "six_month_df.index = ['0','1','2','3','4','5','6','7','8','9','10','11']"
   ]
  },
  {
   "cell_type": "code",
   "execution_count": 17,
   "metadata": {},
   "outputs": [
    {
     "data": {
      "application/vnd.plotly.v1+json": {
       "config": {
        "linkText": "Export to plot.ly",
        "plotlyServerURL": "https://plot.ly",
        "showLink": true
       },
       "data": [
        {
         "line": {
          "color": "rgba(255, 153, 51, 1.0)",
          "dash": "solid",
          "shape": "linear",
          "width": 1.3
         },
         "mode": "lines",
         "name": "Q1",
         "text": "",
         "type": "scatter",
         "x": [
          "0",
          "1",
          "2",
          "3",
          "4",
          "5",
          "6",
          "7",
          "8",
          "9",
          "10",
          "11"
         ],
         "y": [
          0,
          1.151329700181449,
          1.4704341164592225,
          1.171990960058304,
          1.4312015873791388,
          0.9526252370849395,
          1.244967777305106,
          0.6409010214891793,
          0.5497154642770972,
          -0.4244659817216583,
          1.0837942001005836,
          2.261560641348648
         ]
        },
        {
         "line": {
          "color": "rgba(55, 128, 191, 1.0)",
          "dash": "solid",
          "shape": "linear",
          "width": 1.3
         },
         "mode": "lines",
         "name": "Q5",
         "text": "",
         "type": "scatter",
         "x": [
          "0",
          "1",
          "2",
          "3",
          "4",
          "5",
          "6",
          "7",
          "8",
          "9",
          "10",
          "11"
         ],
         "y": [
          0,
          1.5791505675862454,
          1.697626917620862,
          1.4316653755965434,
          2.053603861557804,
          1.525965065488399,
          1.249319958374989,
          1.2195304737511217,
          0.830183449581166,
          0.9712626260119426,
          0.9222576792363615,
          0.7352417282600863
         ]
        }
       ],
       "layout": {
        "autosize": true,
        "legend": {
         "bgcolor": "#F5F6F9",
         "font": {
          "color": "#4D5663"
         }
        },
        "paper_bgcolor": "#F5F6F9",
        "plot_bgcolor": "#F5F6F9",
        "template": {
         "data": {
          "bar": [
           {
            "error_x": {
             "color": "#2a3f5f"
            },
            "error_y": {
             "color": "#2a3f5f"
            },
            "marker": {
             "line": {
              "color": "#E5ECF6",
              "width": 0.5
             }
            },
            "type": "bar"
           }
          ],
          "barpolar": [
           {
            "marker": {
             "line": {
              "color": "#E5ECF6",
              "width": 0.5
             }
            },
            "type": "barpolar"
           }
          ],
          "carpet": [
           {
            "aaxis": {
             "endlinecolor": "#2a3f5f",
             "gridcolor": "white",
             "linecolor": "white",
             "minorgridcolor": "white",
             "startlinecolor": "#2a3f5f"
            },
            "baxis": {
             "endlinecolor": "#2a3f5f",
             "gridcolor": "white",
             "linecolor": "white",
             "minorgridcolor": "white",
             "startlinecolor": "#2a3f5f"
            },
            "type": "carpet"
           }
          ],
          "choropleth": [
           {
            "colorbar": {
             "outlinewidth": 0,
             "ticks": ""
            },
            "type": "choropleth"
           }
          ],
          "contour": [
           {
            "colorbar": {
             "outlinewidth": 0,
             "ticks": ""
            },
            "colorscale": [
             [
              0,
              "#0d0887"
             ],
             [
              0.1111111111111111,
              "#46039f"
             ],
             [
              0.2222222222222222,
              "#7201a8"
             ],
             [
              0.3333333333333333,
              "#9c179e"
             ],
             [
              0.4444444444444444,
              "#bd3786"
             ],
             [
              0.5555555555555556,
              "#d8576b"
             ],
             [
              0.6666666666666666,
              "#ed7953"
             ],
             [
              0.7777777777777778,
              "#fb9f3a"
             ],
             [
              0.8888888888888888,
              "#fdca26"
             ],
             [
              1,
              "#f0f921"
             ]
            ],
            "type": "contour"
           }
          ],
          "contourcarpet": [
           {
            "colorbar": {
             "outlinewidth": 0,
             "ticks": ""
            },
            "type": "contourcarpet"
           }
          ],
          "heatmap": [
           {
            "colorbar": {
             "outlinewidth": 0,
             "ticks": ""
            },
            "colorscale": [
             [
              0,
              "#0d0887"
             ],
             [
              0.1111111111111111,
              "#46039f"
             ],
             [
              0.2222222222222222,
              "#7201a8"
             ],
             [
              0.3333333333333333,
              "#9c179e"
             ],
             [
              0.4444444444444444,
              "#bd3786"
             ],
             [
              0.5555555555555556,
              "#d8576b"
             ],
             [
              0.6666666666666666,
              "#ed7953"
             ],
             [
              0.7777777777777778,
              "#fb9f3a"
             ],
             [
              0.8888888888888888,
              "#fdca26"
             ],
             [
              1,
              "#f0f921"
             ]
            ],
            "type": "heatmap"
           }
          ],
          "heatmapgl": [
           {
            "colorbar": {
             "outlinewidth": 0,
             "ticks": ""
            },
            "colorscale": [
             [
              0,
              "#0d0887"
             ],
             [
              0.1111111111111111,
              "#46039f"
             ],
             [
              0.2222222222222222,
              "#7201a8"
             ],
             [
              0.3333333333333333,
              "#9c179e"
             ],
             [
              0.4444444444444444,
              "#bd3786"
             ],
             [
              0.5555555555555556,
              "#d8576b"
             ],
             [
              0.6666666666666666,
              "#ed7953"
             ],
             [
              0.7777777777777778,
              "#fb9f3a"
             ],
             [
              0.8888888888888888,
              "#fdca26"
             ],
             [
              1,
              "#f0f921"
             ]
            ],
            "type": "heatmapgl"
           }
          ],
          "histogram": [
           {
            "marker": {
             "colorbar": {
              "outlinewidth": 0,
              "ticks": ""
             }
            },
            "type": "histogram"
           }
          ],
          "histogram2d": [
           {
            "colorbar": {
             "outlinewidth": 0,
             "ticks": ""
            },
            "colorscale": [
             [
              0,
              "#0d0887"
             ],
             [
              0.1111111111111111,
              "#46039f"
             ],
             [
              0.2222222222222222,
              "#7201a8"
             ],
             [
              0.3333333333333333,
              "#9c179e"
             ],
             [
              0.4444444444444444,
              "#bd3786"
             ],
             [
              0.5555555555555556,
              "#d8576b"
             ],
             [
              0.6666666666666666,
              "#ed7953"
             ],
             [
              0.7777777777777778,
              "#fb9f3a"
             ],
             [
              0.8888888888888888,
              "#fdca26"
             ],
             [
              1,
              "#f0f921"
             ]
            ],
            "type": "histogram2d"
           }
          ],
          "histogram2dcontour": [
           {
            "colorbar": {
             "outlinewidth": 0,
             "ticks": ""
            },
            "colorscale": [
             [
              0,
              "#0d0887"
             ],
             [
              0.1111111111111111,
              "#46039f"
             ],
             [
              0.2222222222222222,
              "#7201a8"
             ],
             [
              0.3333333333333333,
              "#9c179e"
             ],
             [
              0.4444444444444444,
              "#bd3786"
             ],
             [
              0.5555555555555556,
              "#d8576b"
             ],
             [
              0.6666666666666666,
              "#ed7953"
             ],
             [
              0.7777777777777778,
              "#fb9f3a"
             ],
             [
              0.8888888888888888,
              "#fdca26"
             ],
             [
              1,
              "#f0f921"
             ]
            ],
            "type": "histogram2dcontour"
           }
          ],
          "mesh3d": [
           {
            "colorbar": {
             "outlinewidth": 0,
             "ticks": ""
            },
            "type": "mesh3d"
           }
          ],
          "parcoords": [
           {
            "line": {
             "colorbar": {
              "outlinewidth": 0,
              "ticks": ""
             }
            },
            "type": "parcoords"
           }
          ],
          "pie": [
           {
            "automargin": true,
            "type": "pie"
           }
          ],
          "scatter": [
           {
            "marker": {
             "colorbar": {
              "outlinewidth": 0,
              "ticks": ""
             }
            },
            "type": "scatter"
           }
          ],
          "scatter3d": [
           {
            "line": {
             "colorbar": {
              "outlinewidth": 0,
              "ticks": ""
             }
            },
            "marker": {
             "colorbar": {
              "outlinewidth": 0,
              "ticks": ""
             }
            },
            "type": "scatter3d"
           }
          ],
          "scattercarpet": [
           {
            "marker": {
             "colorbar": {
              "outlinewidth": 0,
              "ticks": ""
             }
            },
            "type": "scattercarpet"
           }
          ],
          "scattergeo": [
           {
            "marker": {
             "colorbar": {
              "outlinewidth": 0,
              "ticks": ""
             }
            },
            "type": "scattergeo"
           }
          ],
          "scattergl": [
           {
            "marker": {
             "colorbar": {
              "outlinewidth": 0,
              "ticks": ""
             }
            },
            "type": "scattergl"
           }
          ],
          "scattermapbox": [
           {
            "marker": {
             "colorbar": {
              "outlinewidth": 0,
              "ticks": ""
             }
            },
            "type": "scattermapbox"
           }
          ],
          "scatterpolar": [
           {
            "marker": {
             "colorbar": {
              "outlinewidth": 0,
              "ticks": ""
             }
            },
            "type": "scatterpolar"
           }
          ],
          "scatterpolargl": [
           {
            "marker": {
             "colorbar": {
              "outlinewidth": 0,
              "ticks": ""
             }
            },
            "type": "scatterpolargl"
           }
          ],
          "scatterternary": [
           {
            "marker": {
             "colorbar": {
              "outlinewidth": 0,
              "ticks": ""
             }
            },
            "type": "scatterternary"
           }
          ],
          "surface": [
           {
            "colorbar": {
             "outlinewidth": 0,
             "ticks": ""
            },
            "colorscale": [
             [
              0,
              "#0d0887"
             ],
             [
              0.1111111111111111,
              "#46039f"
             ],
             [
              0.2222222222222222,
              "#7201a8"
             ],
             [
              0.3333333333333333,
              "#9c179e"
             ],
             [
              0.4444444444444444,
              "#bd3786"
             ],
             [
              0.5555555555555556,
              "#d8576b"
             ],
             [
              0.6666666666666666,
              "#ed7953"
             ],
             [
              0.7777777777777778,
              "#fb9f3a"
             ],
             [
              0.8888888888888888,
              "#fdca26"
             ],
             [
              1,
              "#f0f921"
             ]
            ],
            "type": "surface"
           }
          ],
          "table": [
           {
            "cells": {
             "fill": {
              "color": "#EBF0F8"
             },
             "line": {
              "color": "white"
             }
            },
            "header": {
             "fill": {
              "color": "#C8D4E3"
             },
             "line": {
              "color": "white"
             }
            },
            "type": "table"
           }
          ]
         },
         "layout": {
          "annotationdefaults": {
           "arrowcolor": "#2a3f5f",
           "arrowhead": 0,
           "arrowwidth": 1
          },
          "coloraxis": {
           "colorbar": {
            "outlinewidth": 0,
            "ticks": ""
           }
          },
          "colorscale": {
           "diverging": [
            [
             0,
             "#8e0152"
            ],
            [
             0.1,
             "#c51b7d"
            ],
            [
             0.2,
             "#de77ae"
            ],
            [
             0.3,
             "#f1b6da"
            ],
            [
             0.4,
             "#fde0ef"
            ],
            [
             0.5,
             "#f7f7f7"
            ],
            [
             0.6,
             "#e6f5d0"
            ],
            [
             0.7,
             "#b8e186"
            ],
            [
             0.8,
             "#7fbc41"
            ],
            [
             0.9,
             "#4d9221"
            ],
            [
             1,
             "#276419"
            ]
           ],
           "sequential": [
            [
             0,
             "#0d0887"
            ],
            [
             0.1111111111111111,
             "#46039f"
            ],
            [
             0.2222222222222222,
             "#7201a8"
            ],
            [
             0.3333333333333333,
             "#9c179e"
            ],
            [
             0.4444444444444444,
             "#bd3786"
            ],
            [
             0.5555555555555556,
             "#d8576b"
            ],
            [
             0.6666666666666666,
             "#ed7953"
            ],
            [
             0.7777777777777778,
             "#fb9f3a"
            ],
            [
             0.8888888888888888,
             "#fdca26"
            ],
            [
             1,
             "#f0f921"
            ]
           ],
           "sequentialminus": [
            [
             0,
             "#0d0887"
            ],
            [
             0.1111111111111111,
             "#46039f"
            ],
            [
             0.2222222222222222,
             "#7201a8"
            ],
            [
             0.3333333333333333,
             "#9c179e"
            ],
            [
             0.4444444444444444,
             "#bd3786"
            ],
            [
             0.5555555555555556,
             "#d8576b"
            ],
            [
             0.6666666666666666,
             "#ed7953"
            ],
            [
             0.7777777777777778,
             "#fb9f3a"
            ],
            [
             0.8888888888888888,
             "#fdca26"
            ],
            [
             1,
             "#f0f921"
            ]
           ]
          },
          "colorway": [
           "#636efa",
           "#EF553B",
           "#00cc96",
           "#ab63fa",
           "#FFA15A",
           "#19d3f3",
           "#FF6692",
           "#B6E880",
           "#FF97FF",
           "#FECB52"
          ],
          "font": {
           "color": "#2a3f5f"
          },
          "geo": {
           "bgcolor": "white",
           "lakecolor": "white",
           "landcolor": "#E5ECF6",
           "showlakes": true,
           "showland": true,
           "subunitcolor": "white"
          },
          "hoverlabel": {
           "align": "left"
          },
          "hovermode": "closest",
          "mapbox": {
           "style": "light"
          },
          "paper_bgcolor": "white",
          "plot_bgcolor": "#E5ECF6",
          "polar": {
           "angularaxis": {
            "gridcolor": "white",
            "linecolor": "white",
            "ticks": ""
           },
           "bgcolor": "#E5ECF6",
           "radialaxis": {
            "gridcolor": "white",
            "linecolor": "white",
            "ticks": ""
           }
          },
          "scene": {
           "xaxis": {
            "backgroundcolor": "#E5ECF6",
            "gridcolor": "white",
            "gridwidth": 2,
            "linecolor": "white",
            "showbackground": true,
            "ticks": "",
            "zerolinecolor": "white"
           },
           "yaxis": {
            "backgroundcolor": "#E5ECF6",
            "gridcolor": "white",
            "gridwidth": 2,
            "linecolor": "white",
            "showbackground": true,
            "ticks": "",
            "zerolinecolor": "white"
           },
           "zaxis": {
            "backgroundcolor": "#E5ECF6",
            "gridcolor": "white",
            "gridwidth": 2,
            "linecolor": "white",
            "showbackground": true,
            "ticks": "",
            "zerolinecolor": "white"
           }
          },
          "shapedefaults": {
           "line": {
            "color": "#2a3f5f"
           }
          },
          "ternary": {
           "aaxis": {
            "gridcolor": "white",
            "linecolor": "white",
            "ticks": ""
           },
           "baxis": {
            "gridcolor": "white",
            "linecolor": "white",
            "ticks": ""
           },
           "bgcolor": "#E5ECF6",
           "caxis": {
            "gridcolor": "white",
            "linecolor": "white",
            "ticks": ""
           }
          },
          "title": {
           "x": 0.05
          },
          "xaxis": {
           "automargin": true,
           "gridcolor": "white",
           "linecolor": "white",
           "ticks": "",
           "title": {
            "standoff": 15
           },
           "zerolinecolor": "white",
           "zerolinewidth": 2
          },
          "yaxis": {
           "automargin": true,
           "gridcolor": "white",
           "linecolor": "white",
           "ticks": "",
           "title": {
            "standoff": 15
           },
           "zerolinecolor": "white",
           "zerolinewidth": 2
          }
         }
        },
        "title": {
         "font": {
          "color": "#4D5663"
         },
         "text": "CAR for holding periods"
        },
        "xaxis": {
         "autorange": true,
         "gridcolor": "#E1E5ED",
         "range": [
          0,
          11
         ],
         "showgrid": true,
         "tickfont": {
          "color": "#4D5663"
         },
         "title": {
          "font": {
           "color": "#4D5663"
          },
          "text": "Month"
         },
         "type": "linear",
         "zerolinecolor": "#E1E5ED"
        },
        "yaxis": {
         "autorange": true,
         "gridcolor": "#E1E5ED",
         "range": [
          -0.573689683003342,
          2.4107843426303317
         ],
         "showgrid": true,
         "tickfont": {
          "color": "#4D5663"
         },
         "title": {
          "font": {
           "color": "#4D5663"
          },
          "text": "CAR"
         },
         "type": "linear",
         "zerolinecolor": "#E1E5ED"
        }
       }
      },
      "image/png": "[encoded data removed]",
      "text/html": [
       "<div>\n",
       "        \n",
       "        \n",
       "            <div id=\"cc66a8a0-454a-4956-b6e2-a37bf95b457e\" class=\"plotly-graph-div\" style=\"height:525px; width:100%;\"></div>\n",
       "            <script type=\"text/javascript\">\n",
       "                require([\"plotly\"], function(Plotly) {\n",
       "                    window.PLOTLYENV=window.PLOTLYENV || {};\n",
       "                    window.PLOTLYENV.BASE_URL='https://plot.ly';\n",
       "                    \n",
       "                if (document.getElementById(\"cc66a8a0-454a-4956-b6e2-a37bf95b457e\")) {\n",
       "                    Plotly.newPlot(\n",
       "                        'cc66a8a0-454a-4956-b6e2-a37bf95b457e',\n",
       "                        [{\"line\": {\"color\": \"rgba(255, 153, 51, 1.0)\", \"dash\": \"solid\", \"shape\": \"linear\", \"width\": 1.3}, \"mode\": \"lines\", \"name\": \"Q1\", \"text\": \"\", \"type\": \"scatter\", \"x\": [\"0\", \"1\", \"2\", \"3\", \"4\", \"5\", \"6\", \"7\", \"8\", \"9\", \"10\", \"11\"], \"y\": [0.0, 1.151329700181449, 1.4704341164592225, 1.171990960058304, 1.4312015873791388, 0.9526252370849395, 1.244967777305106, 0.6409010214891793, 0.5497154642770972, -0.4244659817216583, 1.0837942001005836, 2.261560641348648]}, {\"line\": {\"color\": \"rgba(55, 128, 191, 1.0)\", \"dash\": \"solid\", \"shape\": \"linear\", \"width\": 1.3}, \"mode\": \"lines\", \"name\": \"Q5\", \"text\": \"\", \"type\": \"scatter\", \"x\": [\"0\", \"1\", \"2\", \"3\", \"4\", \"5\", \"6\", \"7\", \"8\", \"9\", \"10\", \"11\"], \"y\": [0.0, 1.5791505675862454, 1.697626917620862, 1.4316653755965434, 2.053603861557804, 1.525965065488399, 1.249319958374989, 1.2195304737511217, 0.830183449581166, 0.9712626260119426, 0.9222576792363615, 0.7352417282600863]}],\n",
       "                        {\"legend\": {\"bgcolor\": \"#F5F6F9\", \"font\": {\"color\": \"#4D5663\"}}, \"paper_bgcolor\": \"#F5F6F9\", \"plot_bgcolor\": \"#F5F6F9\", \"template\": {\"data\": {\"bar\": [{\"error_x\": {\"color\": \"#2a3f5f\"}, \"error_y\": {\"color\": \"#2a3f5f\"}, \"marker\": {\"line\": {\"color\": \"#E5ECF6\", \"width\": 0.5}}, \"type\": \"bar\"}], \"barpolar\": [{\"marker\": {\"line\": {\"color\": \"#E5ECF6\", \"width\": 0.5}}, \"type\": \"barpolar\"}], \"carpet\": [{\"aaxis\": {\"endlinecolor\": \"#2a3f5f\", \"gridcolor\": \"white\", \"linecolor\": \"white\", \"minorgridcolor\": \"white\", \"startlinecolor\": \"#2a3f5f\"}, \"baxis\": {\"endlinecolor\": \"#2a3f5f\", \"gridcolor\": \"white\", \"linecolor\": \"white\", \"minorgridcolor\": \"white\", \"startlinecolor\": \"#2a3f5f\"}, \"type\": \"carpet\"}], \"choropleth\": [{\"colorbar\": {\"outlinewidth\": 0, \"ticks\": \"\"}, \"type\": \"choropleth\"}], \"contour\": [{\"colorbar\": {\"outlinewidth\": 0, \"ticks\": \"\"}, \"colorscale\": [[0.0, \"#0d0887\"], [0.1111111111111111, \"#46039f\"], [0.2222222222222222, \"#7201a8\"], [0.3333333333333333, \"#9c179e\"], [0.4444444444444444, \"#bd3786\"], [0.5555555555555556, \"#d8576b\"], [0.6666666666666666, \"#ed7953\"], [0.7777777777777778, \"#fb9f3a\"], [0.8888888888888888, \"#fdca26\"], [1.0, \"#f0f921\"]], \"type\": \"contour\"}], \"contourcarpet\": [{\"colorbar\": {\"outlinewidth\": 0, \"ticks\": \"\"}, \"type\": \"contourcarpet\"}], \"heatmap\": [{\"colorbar\": {\"outlinewidth\": 0, \"ticks\": \"\"}, \"colorscale\": [[0.0, \"#0d0887\"], [0.1111111111111111, \"#46039f\"], [0.2222222222222222, \"#7201a8\"], [0.3333333333333333, \"#9c179e\"], [0.4444444444444444, \"#bd3786\"], [0.5555555555555556, \"#d8576b\"], [0.6666666666666666, \"#ed7953\"], [0.7777777777777778, \"#fb9f3a\"], [0.8888888888888888, \"#fdca26\"], [1.0, \"#f0f921\"]], \"type\": \"heatmap\"}], \"heatmapgl\": [{\"colorbar\": {\"outlinewidth\": 0, \"ticks\": \"\"}, \"colorscale\": [[0.0, \"#0d0887\"], [0.1111111111111111, \"#46039f\"], [0.2222222222222222, \"#7201a8\"], [0.3333333333333333, \"#9c179e\"], [0.4444444444444444, \"#bd3786\"], [0.5555555555555556, \"#d8576b\"], [0.6666666666666666, \"#ed7953\"], [0.7777777777777778, \"#fb9f3a\"], [0.8888888888888888, \"#fdca26\"], [1.0, \"#f0f921\"]], \"type\": \"heatmapgl\"}], \"histogram\": [{\"marker\": {\"colorbar\": {\"outlinewidth\": 0, \"ticks\": \"\"}}, \"type\": \"histogram\"}], \"histogram2d\": [{\"colorbar\": {\"outlinewidth\": 0, \"ticks\": \"\"}, \"colorscale\": [[0.0, \"#0d0887\"], [0.1111111111111111, \"#46039f\"], [0.2222222222222222, \"#7201a8\"], [0.3333333333333333, \"#9c179e\"], [0.4444444444444444, \"#bd3786\"], [0.5555555555555556, \"#d8576b\"], [0.6666666666666666, \"#ed7953\"], [0.7777777777777778, \"#fb9f3a\"], [0.8888888888888888, \"#fdca26\"], [1.0, \"#f0f921\"]], \"type\": \"histogram2d\"}], \"histogram2dcontour\": [{\"colorbar\": {\"outlinewidth\": 0, \"ticks\": \"\"}, \"colorscale\": [[0.0, \"#0d0887\"], [0.1111111111111111, \"#46039f\"], [0.2222222222222222, \"#7201a8\"], [0.3333333333333333, \"#9c179e\"], [0.4444444444444444, \"#bd3786\"], [0.5555555555555556, \"#d8576b\"], [0.6666666666666666, \"#ed7953\"], [0.7777777777777778, \"#fb9f3a\"], [0.8888888888888888, \"#fdca26\"], [1.0, \"#f0f921\"]], \"type\": \"histogram2dcontour\"}], \"mesh3d\": [{\"colorbar\": {\"outlinewidth\": 0, \"ticks\": \"\"}, \"type\": \"mesh3d\"}], \"parcoords\": [{\"line\": {\"colorbar\": {\"outlinewidth\": 0, \"ticks\": \"\"}}, \"type\": \"parcoords\"}], \"pie\": [{\"automargin\": true, \"type\": \"pie\"}], \"scatter\": [{\"marker\": {\"colorbar\": {\"outlinewidth\": 0, \"ticks\": \"\"}}, \"type\": \"scatter\"}], \"scatter3d\": [{\"line\": {\"colorbar\": {\"outlinewidth\": 0, \"ticks\": \"\"}}, \"marker\": {\"colorbar\": {\"outlinewidth\": 0, \"ticks\": \"\"}}, \"type\": \"scatter3d\"}], \"scattercarpet\": [{\"marker\": {\"colorbar\": {\"outlinewidth\": 0, \"ticks\": \"\"}}, \"type\": \"scattercarpet\"}], \"scattergeo\": [{\"marker\": {\"colorbar\": {\"outlinewidth\": 0, \"ticks\": \"\"}}, \"type\": \"scattergeo\"}], \"scattergl\": [{\"marker\": {\"colorbar\": {\"outlinewidth\": 0, \"ticks\": \"\"}}, \"type\": \"scattergl\"}], \"scattermapbox\": [{\"marker\": {\"colorbar\": {\"outlinewidth\": 0, \"ticks\": \"\"}}, \"type\": \"scattermapbox\"}], \"scatterpolar\": [{\"marker\": {\"colorbar\": {\"outlinewidth\": 0, \"ticks\": \"\"}}, \"type\": \"scatterpolar\"}], \"scatterpolargl\": [{\"marker\": {\"colorbar\": {\"outlinewidth\": 0, \"ticks\": \"\"}}, \"type\": \"scatterpolargl\"}], \"scatterternary\": [{\"marker\": {\"colorbar\": {\"outlinewidth\": 0, \"ticks\": \"\"}}, \"type\": \"scatterternary\"}], \"surface\": [{\"colorbar\": {\"outlinewidth\": 0, \"ticks\": \"\"}, \"colorscale\": [[0.0, \"#0d0887\"], [0.1111111111111111, \"#46039f\"], [0.2222222222222222, \"#7201a8\"], [0.3333333333333333, \"#9c179e\"], [0.4444444444444444, \"#bd3786\"], [0.5555555555555556, \"#d8576b\"], [0.6666666666666666, \"#ed7953\"], [0.7777777777777778, \"#fb9f3a\"], [0.8888888888888888, \"#fdca26\"], [1.0, \"#f0f921\"]], \"type\": \"surface\"}], \"table\": [{\"cells\": {\"fill\": {\"color\": \"#EBF0F8\"}, \"line\": {\"color\": \"white\"}}, \"header\": {\"fill\": {\"color\": \"#C8D4E3\"}, \"line\": {\"color\": \"white\"}}, \"type\": \"table\"}]}, \"layout\": {\"annotationdefaults\": {\"arrowcolor\": \"#2a3f5f\", \"arrowhead\": 0, \"arrowwidth\": 1}, \"coloraxis\": {\"colorbar\": {\"outlinewidth\": 0, \"ticks\": \"\"}}, \"colorscale\": {\"diverging\": [[0, \"#8e0152\"], [0.1, \"#c51b7d\"], [0.2, \"#de77ae\"], [0.3, \"#f1b6da\"], [0.4, \"#fde0ef\"], [0.5, \"#f7f7f7\"], [0.6, \"#e6f5d0\"], [0.7, \"#b8e186\"], [0.8, \"#7fbc41\"], [0.9, \"#4d9221\"], [1, \"#276419\"]], \"sequential\": [[0.0, \"#0d0887\"], [0.1111111111111111, \"#46039f\"], [0.2222222222222222, \"#7201a8\"], [0.3333333333333333, \"#9c179e\"], [0.4444444444444444, \"#bd3786\"], [0.5555555555555556, \"#d8576b\"], [0.6666666666666666, \"#ed7953\"], [0.7777777777777778, \"#fb9f3a\"], [0.8888888888888888, \"#fdca26\"], [1.0, \"#f0f921\"]], \"sequentialminus\": [[0.0, \"#0d0887\"], [0.1111111111111111, \"#46039f\"], [0.2222222222222222, \"#7201a8\"], [0.3333333333333333, \"#9c179e\"], [0.4444444444444444, \"#bd3786\"], [0.5555555555555556, \"#d8576b\"], [0.6666666666666666, \"#ed7953\"], [0.7777777777777778, \"#fb9f3a\"], [0.8888888888888888, \"#fdca26\"], [1.0, \"#f0f921\"]]}, \"colorway\": [\"#636efa\", \"#EF553B\", \"#00cc96\", \"#ab63fa\", \"#FFA15A\", \"#19d3f3\", \"#FF6692\", \"#B6E880\", \"#FF97FF\", \"#FECB52\"], \"font\": {\"color\": \"#2a3f5f\"}, \"geo\": {\"bgcolor\": \"white\", \"lakecolor\": \"white\", \"landcolor\": \"#E5ECF6\", \"showlakes\": true, \"showland\": true, \"subunitcolor\": \"white\"}, \"hoverlabel\": {\"align\": \"left\"}, \"hovermode\": \"closest\", \"mapbox\": {\"style\": \"light\"}, \"paper_bgcolor\": \"white\", \"plot_bgcolor\": \"#E5ECF6\", \"polar\": {\"angularaxis\": {\"gridcolor\": \"white\", \"linecolor\": \"white\", \"ticks\": \"\"}, \"bgcolor\": \"#E5ECF6\", \"radialaxis\": {\"gridcolor\": \"white\", \"linecolor\": \"white\", \"ticks\": \"\"}}, \"scene\": {\"xaxis\": {\"backgroundcolor\": \"#E5ECF6\", \"gridcolor\": \"white\", \"gridwidth\": 2, \"linecolor\": \"white\", \"showbackground\": true, \"ticks\": \"\", \"zerolinecolor\": \"white\"}, \"yaxis\": {\"backgroundcolor\": \"#E5ECF6\", \"gridcolor\": \"white\", \"gridwidth\": 2, \"linecolor\": \"white\", \"showbackground\": true, \"ticks\": \"\", \"zerolinecolor\": \"white\"}, \"zaxis\": {\"backgroundcolor\": \"#E5ECF6\", \"gridcolor\": \"white\", \"gridwidth\": 2, \"linecolor\": \"white\", \"showbackground\": true, \"ticks\": \"\", \"zerolinecolor\": \"white\"}}, \"shapedefaults\": {\"line\": {\"color\": \"#2a3f5f\"}}, \"ternary\": {\"aaxis\": {\"gridcolor\": \"white\", \"linecolor\": \"white\", \"ticks\": \"\"}, \"baxis\": {\"gridcolor\": \"white\", \"linecolor\": \"white\", \"ticks\": \"\"}, \"bgcolor\": \"#E5ECF6\", \"caxis\": {\"gridcolor\": \"white\", \"linecolor\": \"white\", \"ticks\": \"\"}}, \"title\": {\"x\": 0.05}, \"xaxis\": {\"automargin\": true, \"gridcolor\": \"white\", \"linecolor\": \"white\", \"ticks\": \"\", \"title\": {\"standoff\": 15}, \"zerolinecolor\": \"white\", \"zerolinewidth\": 2}, \"yaxis\": {\"automargin\": true, \"gridcolor\": \"white\", \"linecolor\": \"white\", \"ticks\": \"\", \"title\": {\"standoff\": 15}, \"zerolinecolor\": \"white\", \"zerolinewidth\": 2}}}, \"title\": {\"font\": {\"color\": \"#4D5663\"}, \"text\": \"CAR for holding periods\"}, \"xaxis\": {\"gridcolor\": \"#E1E5ED\", \"showgrid\": true, \"tickfont\": {\"color\": \"#4D5663\"}, \"title\": {\"font\": {\"color\": \"#4D5663\"}, \"text\": \"Month\"}, \"zerolinecolor\": \"#E1E5ED\"}, \"yaxis\": {\"gridcolor\": \"#E1E5ED\", \"showgrid\": true, \"tickfont\": {\"color\": \"#4D5663\"}, \"title\": {\"font\": {\"color\": \"#4D5663\"}, \"text\": \"CAR\"}, \"zerolinecolor\": \"#E1E5ED\"}},\n",
       "                        {\"showLink\": true, \"linkText\": \"Export to plot.ly\", \"plotlyServerURL\": \"https://plot.ly\", \"responsive\": true}\n",
       "                    ).then(function(){\n",
       "                            \n",
       "var gd = document.getElementById('cc66a8a0-454a-4956-b6e2-a37bf95b457e');\n",
       "var x = new MutationObserver(function (mutations, observer) {{\n",
       "        var display = window.getComputedStyle(gd).display;\n",
       "        if (!display || display === 'none') {{\n",
       "            console.log([gd, 'removed!']);\n",
       "            Plotly.purge(gd);\n",
       "            observer.disconnect();\n",
       "        }}\n",
       "}});\n",
       "\n",
       "// Listen for the removal of the full notebook cells\n",
       "var notebookContainer = gd.closest('#notebook-container');\n",
       "if (notebookContainer) {{\n",
       "    x.observe(notebookContainer, {childList: true});\n",
       "}}\n",
       "\n",
       "// Listen for the clearing of the current output cell\n",
       "var outputEl = gd.closest('.output');\n",
       "if (outputEl) {{\n",
       "    x.observe(outputEl, {childList: true});\n",
       "}}\n",
       "\n",
       "                        })\n",
       "                };\n",
       "                });\n",
       "            </script>\n",
       "        </div>"
      ]
     },
     "metadata": {},
     "output_type": "display_data"
    }
   ],
   "source": [
    "six_month_df.iplot(kind='line',title = 'CAR for holding periods' ,xTitle='Month', yTitle = 'CAR')"
   ]
  },
  {
   "cell_type": "code",
   "execution_count": null,
   "metadata": {},
   "outputs": [],
   "source": []
  }
 ],
 "metadata": {
  "kernelspec": {
   "display_name": "Python 3",
   "language": "python",
   "name": "python3"
  },
  "language_info": {
   "codemirror_mode": {
    "name": "ipython",
    "version": 3
   },
   "file_extension": ".py",
   "mimetype": "text/x-python",
   "name": "python",
   "nbconvert_exporter": "python",
   "pygments_lexer": "ipython3",
   "version": "3.7.6"
  }
 },
 "nbformat": 4,
 "nbformat_minor": 4
}
