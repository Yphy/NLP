{
 "cells": [
  {
   "cell_type": "code",
   "execution_count": 11,
   "metadata": {},
   "outputs": [
    {
     "data": {
      "text/html": [
       "        <script type=\"text/javascript\">\n",
       "        window.PlotlyConfig = {MathJaxConfig: 'local'};\n",
       "        if (window.MathJax) {MathJax.Hub.Config({SVG: {font: \"STIX-Web\"}});}\n",
       "        if (typeof require !== 'undefined') {\n",
       "        require.undef(\"plotly\");\n",
       "        requirejs.config({\n",
       "            paths: {\n",
       "                'plotly': ['https://cdn.plot.ly/plotly-latest.min']\n",
       "            }\n",
       "        });\n",
       "        require(['plotly'], function(Plotly) {\n",
       "            window._Plotly = Plotly;\n",
       "        });\n",
       "        }\n",
       "        </script>\n",
       "        "
      ]
     },
     "metadata": {},
     "output_type": "display_data"
    }
   ],
   "source": [
    "import numpy as np\n",
    "import pandas as pd\n",
    "import matplotlib.pyplot as plt\n",
    "import plotly.graph_objs as go\n",
    "from chart_studio.plotly import plot, iplot\n",
    "import cufflinks as cf\n",
    "cf.go_offline(connected=True)"
   ]
  },
  {
   "cell_type": "code",
   "execution_count": 12,
   "metadata": {},
   "outputs": [],
   "source": [
    "return_df = pd.read_csv('../data/kospi/preprocessed/df_return.csv',index_col=0)*100 #%단위로 환산\n",
    "jaccard_df = pd.read_csv('../data/similarity/jaccard_df.csv',index_col=0)\n",
    "cosine_df = pd.read_csv('../data/similarity/cosine_df.csv',index_col=0)\n",
    "\n",
    "lv2_jaccard = jaccard_df.copy().loc[return_df.index] #거래일에 맞춰서 인덱싱\n",
    "lv2_cosine = cosine_df.copy().loc[return_df.index]"
   ]
  },
  {
   "cell_type": "markdown",
   "metadata": {},
   "source": [
    "## Main table II 구성"
   ]
  },
  {
   "cell_type": "markdown",
   "metadata": {},
   "source": [
    "Excess return, 3-factor alpha, 5-factor alpha 을 계산한 table II 를 만들고자 합니다.\n",
    "유사도 기준으로 Q1~Q5까지 낮은순부터 높은 순대로 portfolio를 만들고 document가 filing된 시점부터 종목을 보유하여 3개월 동안의 수익률을 보겠습니다. 그룹을 sorting하는 데 있어서는 전체유사도 평균이 아닌 개별기업의 연속된 사업보고서 값을 선정하였습니다.\n",
    "\n",
    "Quantile 1(Q1) refers to firms that have the least similarity between their document this year and\n",
    "the one last year; hence this portfolio consists of the “big changers.” Quintile 5 (Q5) refers\n",
    "to firms that have the most similarity in their documents across years, and hence this\n",
    "portfolio represents the “little to no changers."
   ]
  },
  {
   "cell_type": "code",
   "execution_count": 13,
   "metadata": {},
   "outputs": [
    {
     "data": {
      "text/html": [
       "<div>\n",
       "<style scoped>\n",
       "    .dataframe tbody tr th:only-of-type {\n",
       "        vertical-align: middle;\n",
       "    }\n",
       "\n",
       "    .dataframe tbody tr th {\n",
       "        vertical-align: top;\n",
       "    }\n",
       "\n",
       "    .dataframe thead th {\n",
       "        text-align: right;\n",
       "    }\n",
       "</style>\n",
       "<table border=\"1\" class=\"dataframe\">\n",
       "  <thead>\n",
       "    <tr style=\"text-align: right;\">\n",
       "      <th></th>\n",
       "      <th>삼양홀딩스</th>\n",
       "      <th>유한양행</th>\n",
       "      <th>CJ대한통운</th>\n",
       "      <th>두산</th>\n",
       "      <th>대림산업</th>\n",
       "      <th>한국테크놀로지그룹</th>\n",
       "      <th>기아차</th>\n",
       "      <th>동아쏘시오홀딩스</th>\n",
       "      <th>SK하이닉스</th>\n",
       "      <th>영풍</th>\n",
       "      <th>...</th>\n",
       "      <th>현대백화점</th>\n",
       "      <th>한국금융지주</th>\n",
       "      <th>GS</th>\n",
       "      <th>하나금융지주</th>\n",
       "      <th>아모레퍼시픽</th>\n",
       "      <th>LF</th>\n",
       "      <th>후성</th>\n",
       "      <th>SK이노베이션</th>\n",
       "      <th>CJ제일제당</th>\n",
       "      <th>KB금융</th>\n",
       "    </tr>\n",
       "  </thead>\n",
       "  <tbody>\n",
       "    <tr>\n",
       "      <th>20110331</th>\n",
       "      <td>0.482558</td>\n",
       "      <td>NaN</td>\n",
       "      <td>0.615385</td>\n",
       "      <td>0.579749</td>\n",
       "      <td>0.630503</td>\n",
       "      <td>0.203113</td>\n",
       "      <td>0.705706</td>\n",
       "      <td>NaN</td>\n",
       "      <td>0.596091</td>\n",
       "      <td>0.576200</td>\n",
       "      <td>...</td>\n",
       "      <td>0.873362</td>\n",
       "      <td>NaN</td>\n",
       "      <td>NaN</td>\n",
       "      <td>0.462889</td>\n",
       "      <td>0.577154</td>\n",
       "      <td>NaN</td>\n",
       "      <td>0.633452</td>\n",
       "      <td>0.574394</td>\n",
       "      <td>0.755193</td>\n",
       "      <td>0.716630</td>\n",
       "    </tr>\n",
       "    <tr>\n",
       "      <th>20120330</th>\n",
       "      <td>0.349498</td>\n",
       "      <td>0.691877</td>\n",
       "      <td>0.500778</td>\n",
       "      <td>0.484272</td>\n",
       "      <td>0.604478</td>\n",
       "      <td>0.650970</td>\n",
       "      <td>0.404380</td>\n",
       "      <td>0.446479</td>\n",
       "      <td>0.344828</td>\n",
       "      <td>0.372517</td>\n",
       "      <td>...</td>\n",
       "      <td>NaN</td>\n",
       "      <td>NaN</td>\n",
       "      <td>0.692913</td>\n",
       "      <td>0.649770</td>\n",
       "      <td>0.555950</td>\n",
       "      <td>0.895184</td>\n",
       "      <td>0.592593</td>\n",
       "      <td>0.425806</td>\n",
       "      <td>0.579278</td>\n",
       "      <td>0.710660</td>\n",
       "    </tr>\n",
       "    <tr>\n",
       "      <th>20130401</th>\n",
       "      <td>0.541254</td>\n",
       "      <td>NaN</td>\n",
       "      <td>NaN</td>\n",
       "      <td>NaN</td>\n",
       "      <td>0.714286</td>\n",
       "      <td>0.597826</td>\n",
       "      <td>0.536538</td>\n",
       "      <td>0.645907</td>\n",
       "      <td>NaN</td>\n",
       "      <td>0.525890</td>\n",
       "      <td>...</td>\n",
       "      <td>0.725910</td>\n",
       "      <td>NaN</td>\n",
       "      <td>NaN</td>\n",
       "      <td>0.643997</td>\n",
       "      <td>0.551537</td>\n",
       "      <td>NaN</td>\n",
       "      <td>0.533141</td>\n",
       "      <td>0.571237</td>\n",
       "      <td>0.730924</td>\n",
       "      <td>NaN</td>\n",
       "    </tr>\n",
       "    <tr>\n",
       "      <th>20140331</th>\n",
       "      <td>0.623506</td>\n",
       "      <td>0.576659</td>\n",
       "      <td>0.528402</td>\n",
       "      <td>0.468793</td>\n",
       "      <td>0.643312</td>\n",
       "      <td>0.898990</td>\n",
       "      <td>0.697959</td>\n",
       "      <td>0.668571</td>\n",
       "      <td>0.452794</td>\n",
       "      <td>0.510526</td>\n",
       "      <td>...</td>\n",
       "      <td>0.763092</td>\n",
       "      <td>0.471028</td>\n",
       "      <td>0.881773</td>\n",
       "      <td>0.776367</td>\n",
       "      <td>0.604414</td>\n",
       "      <td>0.650526</td>\n",
       "      <td>0.604839</td>\n",
       "      <td>0.543253</td>\n",
       "      <td>0.754881</td>\n",
       "      <td>0.737799</td>\n",
       "    </tr>\n",
       "    <tr>\n",
       "      <th>20150331</th>\n",
       "      <td>0.688259</td>\n",
       "      <td>0.782927</td>\n",
       "      <td>0.616085</td>\n",
       "      <td>0.589710</td>\n",
       "      <td>0.665848</td>\n",
       "      <td>0.924460</td>\n",
       "      <td>0.677355</td>\n",
       "      <td>0.529118</td>\n",
       "      <td>0.324324</td>\n",
       "      <td>0.812367</td>\n",
       "      <td>...</td>\n",
       "      <td>0.640756</td>\n",
       "      <td>0.772939</td>\n",
       "      <td>0.130774</td>\n",
       "      <td>0.678119</td>\n",
       "      <td>0.518400</td>\n",
       "      <td>0.923913</td>\n",
       "      <td>0.818681</td>\n",
       "      <td>0.672179</td>\n",
       "      <td>0.678571</td>\n",
       "      <td>0.724490</td>\n",
       "    </tr>\n",
       "    <tr>\n",
       "      <th>20160330</th>\n",
       "      <td>0.632207</td>\n",
       "      <td>0.574423</td>\n",
       "      <td>0.579921</td>\n",
       "      <td>0.591931</td>\n",
       "      <td>0.571914</td>\n",
       "      <td>0.933852</td>\n",
       "      <td>0.791111</td>\n",
       "      <td>0.674319</td>\n",
       "      <td>0.317259</td>\n",
       "      <td>0.782341</td>\n",
       "      <td>...</td>\n",
       "      <td>0.726695</td>\n",
       "      <td>0.566667</td>\n",
       "      <td>0.724882</td>\n",
       "      <td>0.677509</td>\n",
       "      <td>0.487842</td>\n",
       "      <td>0.785276</td>\n",
       "      <td>0.794721</td>\n",
       "      <td>0.652893</td>\n",
       "      <td>0.599624</td>\n",
       "      <td>0.781513</td>\n",
       "    </tr>\n",
       "    <tr>\n",
       "      <th>20170331</th>\n",
       "      <td>0.643299</td>\n",
       "      <td>0.816705</td>\n",
       "      <td>0.541444</td>\n",
       "      <td>0.597531</td>\n",
       "      <td>0.629448</td>\n",
       "      <td>0.604712</td>\n",
       "      <td>0.692469</td>\n",
       "      <td>0.867362</td>\n",
       "      <td>0.585882</td>\n",
       "      <td>0.680357</td>\n",
       "      <td>...</td>\n",
       "      <td>0.729977</td>\n",
       "      <td>0.629002</td>\n",
       "      <td>0.743371</td>\n",
       "      <td>0.703704</td>\n",
       "      <td>0.556535</td>\n",
       "      <td>NaN</td>\n",
       "      <td>0.890244</td>\n",
       "      <td>0.864389</td>\n",
       "      <td>0.637708</td>\n",
       "      <td>0.701692</td>\n",
       "    </tr>\n",
       "    <tr>\n",
       "      <th>20180402</th>\n",
       "      <td>0.540034</td>\n",
       "      <td>0.715789</td>\n",
       "      <td>0.599490</td>\n",
       "      <td>NaN</td>\n",
       "      <td>NaN</td>\n",
       "      <td>0.739583</td>\n",
       "      <td>0.646035</td>\n",
       "      <td>0.815789</td>\n",
       "      <td>0.321534</td>\n",
       "      <td>0.839187</td>\n",
       "      <td>...</td>\n",
       "      <td>0.652427</td>\n",
       "      <td>0.507442</td>\n",
       "      <td>0.578341</td>\n",
       "      <td>0.780149</td>\n",
       "      <td>0.638095</td>\n",
       "      <td>NaN</td>\n",
       "      <td>0.828804</td>\n",
       "      <td>0.739049</td>\n",
       "      <td>NaN</td>\n",
       "      <td>0.753463</td>\n",
       "    </tr>\n",
       "    <tr>\n",
       "      <th>20190401</th>\n",
       "      <td>0.690635</td>\n",
       "      <td>0.532609</td>\n",
       "      <td>0.727488</td>\n",
       "      <td>NaN</td>\n",
       "      <td>0.510638</td>\n",
       "      <td>0.625402</td>\n",
       "      <td>0.678700</td>\n",
       "      <td>0.738854</td>\n",
       "      <td>NaN</td>\n",
       "      <td>0.811252</td>\n",
       "      <td>...</td>\n",
       "      <td>0.758364</td>\n",
       "      <td>0.564672</td>\n",
       "      <td>0.671296</td>\n",
       "      <td>0.776720</td>\n",
       "      <td>0.543662</td>\n",
       "      <td>0.870103</td>\n",
       "      <td>0.857909</td>\n",
       "      <td>0.810392</td>\n",
       "      <td>0.677365</td>\n",
       "      <td>0.821839</td>\n",
       "    </tr>\n",
       "  </tbody>\n",
       "</table>\n",
       "<p>9 rows × 113 columns</p>\n",
       "</div>"
      ],
      "text/plain": [
       "             삼양홀딩스      유한양행    CJ대한통운        두산      대림산업  한국테크놀로지그룹  \\\n",
       "20110331  0.482558       NaN  0.615385  0.579749  0.630503   0.203113   \n",
       "20120330  0.349498  0.691877  0.500778  0.484272  0.604478   0.650970   \n",
       "20130401  0.541254       NaN       NaN       NaN  0.714286   0.597826   \n",
       "20140331  0.623506  0.576659  0.528402  0.468793  0.643312   0.898990   \n",
       "20150331  0.688259  0.782927  0.616085  0.589710  0.665848   0.924460   \n",
       "20160330  0.632207  0.574423  0.579921  0.591931  0.571914   0.933852   \n",
       "20170331  0.643299  0.816705  0.541444  0.597531  0.629448   0.604712   \n",
       "20180402  0.540034  0.715789  0.599490       NaN       NaN   0.739583   \n",
       "20190401  0.690635  0.532609  0.727488       NaN  0.510638   0.625402   \n",
       "\n",
       "               기아차  동아쏘시오홀딩스    SK하이닉스        영풍  ...     현대백화점    한국금융지주  \\\n",
       "20110331  0.705706       NaN  0.596091  0.576200  ...  0.873362       NaN   \n",
       "20120330  0.404380  0.446479  0.344828  0.372517  ...       NaN       NaN   \n",
       "20130401  0.536538  0.645907       NaN  0.525890  ...  0.725910       NaN   \n",
       "20140331  0.697959  0.668571  0.452794  0.510526  ...  0.763092  0.471028   \n",
       "20150331  0.677355  0.529118  0.324324  0.812367  ...  0.640756  0.772939   \n",
       "20160330  0.791111  0.674319  0.317259  0.782341  ...  0.726695  0.566667   \n",
       "20170331  0.692469  0.867362  0.585882  0.680357  ...  0.729977  0.629002   \n",
       "20180402  0.646035  0.815789  0.321534  0.839187  ...  0.652427  0.507442   \n",
       "20190401  0.678700  0.738854       NaN  0.811252  ...  0.758364  0.564672   \n",
       "\n",
       "                GS    하나금융지주    아모레퍼시픽        LF        후성   SK이노베이션  \\\n",
       "20110331       NaN  0.462889  0.577154       NaN  0.633452  0.574394   \n",
       "20120330  0.692913  0.649770  0.555950  0.895184  0.592593  0.425806   \n",
       "20130401       NaN  0.643997  0.551537       NaN  0.533141  0.571237   \n",
       "20140331  0.881773  0.776367  0.604414  0.650526  0.604839  0.543253   \n",
       "20150331  0.130774  0.678119  0.518400  0.923913  0.818681  0.672179   \n",
       "20160330  0.724882  0.677509  0.487842  0.785276  0.794721  0.652893   \n",
       "20170331  0.743371  0.703704  0.556535       NaN  0.890244  0.864389   \n",
       "20180402  0.578341  0.780149  0.638095       NaN  0.828804  0.739049   \n",
       "20190401  0.671296  0.776720  0.543662  0.870103  0.857909  0.810392   \n",
       "\n",
       "            CJ제일제당      KB금융  \n",
       "20110331  0.755193  0.716630  \n",
       "20120330  0.579278  0.710660  \n",
       "20130401  0.730924       NaN  \n",
       "20140331  0.754881  0.737799  \n",
       "20150331  0.678571  0.724490  \n",
       "20160330  0.599624  0.781513  \n",
       "20170331  0.637708  0.701692  \n",
       "20180402       NaN  0.753463  \n",
       "20190401  0.677365  0.821839  \n",
       "\n",
       "[9 rows x 113 columns]"
      ]
     },
     "execution_count": 13,
     "metadata": {},
     "output_type": "execute_result"
    }
   ],
   "source": [
    "lv2_jaccard[lv2_jaccard.loc[:,'삼양홀딩스'] > 0]"
   ]
  },
  {
   "cell_type": "code",
   "execution_count": 14,
   "metadata": {},
   "outputs": [
    {
     "data": {
      "text/html": [
       "<div>\n",
       "<style scoped>\n",
       "    .dataframe tbody tr th:only-of-type {\n",
       "        vertical-align: middle;\n",
       "    }\n",
       "\n",
       "    .dataframe tbody tr th {\n",
       "        vertical-align: top;\n",
       "    }\n",
       "\n",
       "    .dataframe thead th {\n",
       "        text-align: right;\n",
       "    }\n",
       "</style>\n",
       "<table border=\"1\" class=\"dataframe\">\n",
       "  <thead>\n",
       "    <tr style=\"text-align: right;\">\n",
       "      <th></th>\n",
       "      <th>삼양홀딩스</th>\n",
       "      <th>유한양행</th>\n",
       "      <th>CJ대한통운</th>\n",
       "      <th>두산</th>\n",
       "      <th>대림산업</th>\n",
       "      <th>한국테크놀로지그룹</th>\n",
       "      <th>기아차</th>\n",
       "      <th>동아쏘시오홀딩스</th>\n",
       "      <th>SK하이닉스</th>\n",
       "      <th>영풍</th>\n",
       "      <th>...</th>\n",
       "      <th>현대백화점</th>\n",
       "      <th>한국금융지주</th>\n",
       "      <th>GS</th>\n",
       "      <th>하나금융지주</th>\n",
       "      <th>아모레퍼시픽</th>\n",
       "      <th>LF</th>\n",
       "      <th>후성</th>\n",
       "      <th>SK이노베이션</th>\n",
       "      <th>CJ제일제당</th>\n",
       "      <th>KB금융</th>\n",
       "    </tr>\n",
       "  </thead>\n",
       "  <tbody>\n",
       "    <tr>\n",
       "      <th>20100104</th>\n",
       "      <td>0.449157</td>\n",
       "      <td>-1.122864</td>\n",
       "      <td>-3.880071</td>\n",
       "      <td>-2.620941</td>\n",
       "      <td>2.524038</td>\n",
       "      <td>-1.758137</td>\n",
       "      <td>3.740648</td>\n",
       "      <td>3.891752</td>\n",
       "      <td>4.103672</td>\n",
       "      <td>0.000000</td>\n",
       "      <td>...</td>\n",
       "      <td>0.444444</td>\n",
       "      <td>2.238806</td>\n",
       "      <td>-0.147929</td>\n",
       "      <td>1.367781</td>\n",
       "      <td>0.856311</td>\n",
       "      <td>1.109350</td>\n",
       "      <td>-0.666489</td>\n",
       "      <td>-0.425532</td>\n",
       "      <td>0.729927</td>\n",
       "      <td>-0.502513</td>\n",
       "    </tr>\n",
       "    <tr>\n",
       "      <th>20100105</th>\n",
       "      <td>-0.558935</td>\n",
       "      <td>0.568162</td>\n",
       "      <td>-0.183486</td>\n",
       "      <td>-0.215587</td>\n",
       "      <td>-0.937866</td>\n",
       "      <td>-4.393390</td>\n",
       "      <td>-5.528846</td>\n",
       "      <td>-3.371371</td>\n",
       "      <td>-3.112033</td>\n",
       "      <td>-3.339192</td>\n",
       "      <td>...</td>\n",
       "      <td>-4.424779</td>\n",
       "      <td>1.021898</td>\n",
       "      <td>0.444444</td>\n",
       "      <td>1.649175</td>\n",
       "      <td>-2.865512</td>\n",
       "      <td>-3.918495</td>\n",
       "      <td>-0.644122</td>\n",
       "      <td>3.846154</td>\n",
       "      <td>6.280193</td>\n",
       "      <td>-1.178451</td>\n",
       "    </tr>\n",
       "    <tr>\n",
       "      <th>20100106</th>\n",
       "      <td>-0.784746</td>\n",
       "      <td>1.129200</td>\n",
       "      <td>3.676471</td>\n",
       "      <td>5.501953</td>\n",
       "      <td>2.011834</td>\n",
       "      <td>-0.623946</td>\n",
       "      <td>1.017812</td>\n",
       "      <td>-2.712609</td>\n",
       "      <td>5.139186</td>\n",
       "      <td>-2.363636</td>\n",
       "      <td>...</td>\n",
       "      <td>-2.314815</td>\n",
       "      <td>-0.867052</td>\n",
       "      <td>1.032448</td>\n",
       "      <td>0.000000</td>\n",
       "      <td>-6.011538</td>\n",
       "      <td>-0.815661</td>\n",
       "      <td>1.431659</td>\n",
       "      <td>0.411523</td>\n",
       "      <td>0.227273</td>\n",
       "      <td>-0.340716</td>\n",
       "    </tr>\n",
       "    <tr>\n",
       "      <th>20100107</th>\n",
       "      <td>-1.584085</td>\n",
       "      <td>-0.838313</td>\n",
       "      <td>0.354610</td>\n",
       "      <td>2.761419</td>\n",
       "      <td>-0.232019</td>\n",
       "      <td>-2.528424</td>\n",
       "      <td>-4.534005</td>\n",
       "      <td>0.796951</td>\n",
       "      <td>-0.610998</td>\n",
       "      <td>-0.372439</td>\n",
       "      <td>...</td>\n",
       "      <td>0.473934</td>\n",
       "      <td>-2.040816</td>\n",
       "      <td>1.021898</td>\n",
       "      <td>-1.327434</td>\n",
       "      <td>-2.208737</td>\n",
       "      <td>-0.822368</td>\n",
       "      <td>0.798935</td>\n",
       "      <td>-0.409836</td>\n",
       "      <td>-1.133787</td>\n",
       "      <td>-1.196581</td>\n",
       "    </tr>\n",
       "    <tr>\n",
       "      <th>20100108</th>\n",
       "      <td>-0.230257</td>\n",
       "      <td>-0.843997</td>\n",
       "      <td>1.766784</td>\n",
       "      <td>6.467385</td>\n",
       "      <td>1.046512</td>\n",
       "      <td>0.870474</td>\n",
       "      <td>2.110818</td>\n",
       "      <td>-0.790650</td>\n",
       "      <td>1.024590</td>\n",
       "      <td>-0.373832</td>\n",
       "      <td>...</td>\n",
       "      <td>-2.358491</td>\n",
       "      <td>6.696429</td>\n",
       "      <td>-0.433526</td>\n",
       "      <td>0.298954</td>\n",
       "      <td>-1.546563</td>\n",
       "      <td>0.995025</td>\n",
       "      <td>0.501982</td>\n",
       "      <td>0.823045</td>\n",
       "      <td>0.000000</td>\n",
       "      <td>0.173010</td>\n",
       "    </tr>\n",
       "    <tr>\n",
       "      <th>20100111</th>\n",
       "      <td>0.230788</td>\n",
       "      <td>-1.705193</td>\n",
       "      <td>3.125000</td>\n",
       "      <td>-1.402081</td>\n",
       "      <td>3.452244</td>\n",
       "      <td>-1.070072</td>\n",
       "      <td>-3.100775</td>\n",
       "      <td>-3.187805</td>\n",
       "      <td>-2.636917</td>\n",
       "      <td>-0.562852</td>\n",
       "      <td>...</td>\n",
       "      <td>0.000000</td>\n",
       "      <td>-0.697350</td>\n",
       "      <td>1.015965</td>\n",
       "      <td>6.706408</td>\n",
       "      <td>3.019766</td>\n",
       "      <td>-1.970443</td>\n",
       "      <td>4.258675</td>\n",
       "      <td>0.816327</td>\n",
       "      <td>-0.917431</td>\n",
       "      <td>2.072539</td>\n",
       "    </tr>\n",
       "    <tr>\n",
       "      <th>20100112</th>\n",
       "      <td>-0.230257</td>\n",
       "      <td>-2.023423</td>\n",
       "      <td>-1.683502</td>\n",
       "      <td>4.740063</td>\n",
       "      <td>4.449388</td>\n",
       "      <td>-0.218074</td>\n",
       "      <td>1.066667</td>\n",
       "      <td>0.000000</td>\n",
       "      <td>0.208333</td>\n",
       "      <td>-0.377358</td>\n",
       "      <td>...</td>\n",
       "      <td>1.932367</td>\n",
       "      <td>-1.123596</td>\n",
       "      <td>-2.011494</td>\n",
       "      <td>-0.139665</td>\n",
       "      <td>-1.406437</td>\n",
       "      <td>0.502513</td>\n",
       "      <td>-1.109430</td>\n",
       "      <td>0.000000</td>\n",
       "      <td>0.925926</td>\n",
       "      <td>-0.507614</td>\n",
       "    </tr>\n",
       "    <tr>\n",
       "      <th>20100113</th>\n",
       "      <td>-1.267115</td>\n",
       "      <td>-1.179911</td>\n",
       "      <td>-2.910959</td>\n",
       "      <td>-2.262775</td>\n",
       "      <td>-0.745474</td>\n",
       "      <td>-4.108751</td>\n",
       "      <td>0.263852</td>\n",
       "      <td>-3.291650</td>\n",
       "      <td>0.000000</td>\n",
       "      <td>-1.325758</td>\n",
       "      <td>...</td>\n",
       "      <td>-2.843602</td>\n",
       "      <td>-2.982955</td>\n",
       "      <td>1.466276</td>\n",
       "      <td>-0.139860</td>\n",
       "      <td>-0.237750</td>\n",
       "      <td>-1.500000</td>\n",
       "      <td>0.994391</td>\n",
       "      <td>-4.453441</td>\n",
       "      <td>-3.211009</td>\n",
       "      <td>-1.870748</td>\n",
       "    </tr>\n",
       "    <tr>\n",
       "      <th>20100114</th>\n",
       "      <td>-0.815877</td>\n",
       "      <td>-0.595512</td>\n",
       "      <td>2.116402</td>\n",
       "      <td>-0.926065</td>\n",
       "      <td>1.180258</td>\n",
       "      <td>-0.455830</td>\n",
       "      <td>0.526316</td>\n",
       "      <td>-1.276818</td>\n",
       "      <td>5.821206</td>\n",
       "      <td>0.000000</td>\n",
       "      <td>...</td>\n",
       "      <td>0.487805</td>\n",
       "      <td>2.342606</td>\n",
       "      <td>2.745665</td>\n",
       "      <td>-0.280112</td>\n",
       "      <td>-0.476633</td>\n",
       "      <td>1.522843</td>\n",
       "      <td>-1.363292</td>\n",
       "      <td>0.847458</td>\n",
       "      <td>3.791469</td>\n",
       "      <td>-0.519931</td>\n",
       "    </tr>\n",
       "    <tr>\n",
       "      <th>20100115</th>\n",
       "      <td>0.115570</td>\n",
       "      <td>0.898994</td>\n",
       "      <td>-0.172712</td>\n",
       "      <td>5.607162</td>\n",
       "      <td>-0.742312</td>\n",
       "      <td>-0.228959</td>\n",
       "      <td>0.000000</td>\n",
       "      <td>-0.431110</td>\n",
       "      <td>2.554028</td>\n",
       "      <td>-0.383877</td>\n",
       "      <td>...</td>\n",
       "      <td>-0.485437</td>\n",
       "      <td>-2.432046</td>\n",
       "      <td>5.485232</td>\n",
       "      <td>-0.842697</td>\n",
       "      <td>-2.635234</td>\n",
       "      <td>3.000000</td>\n",
       "      <td>0.998208</td>\n",
       "      <td>-0.420168</td>\n",
       "      <td>2.283105</td>\n",
       "      <td>-0.174216</td>\n",
       "    </tr>\n",
       "  </tbody>\n",
       "</table>\n",
       "<p>10 rows × 113 columns</p>\n",
       "</div>"
      ],
      "text/plain": [
       "             삼양홀딩스      유한양행    CJ대한통운        두산      대림산업  한국테크놀로지그룹  \\\n",
       "20100104  0.449157 -1.122864 -3.880071 -2.620941  2.524038  -1.758137   \n",
       "20100105 -0.558935  0.568162 -0.183486 -0.215587 -0.937866  -4.393390   \n",
       "20100106 -0.784746  1.129200  3.676471  5.501953  2.011834  -0.623946   \n",
       "20100107 -1.584085 -0.838313  0.354610  2.761419 -0.232019  -2.528424   \n",
       "20100108 -0.230257 -0.843997  1.766784  6.467385  1.046512   0.870474   \n",
       "20100111  0.230788 -1.705193  3.125000 -1.402081  3.452244  -1.070072   \n",
       "20100112 -0.230257 -2.023423 -1.683502  4.740063  4.449388  -0.218074   \n",
       "20100113 -1.267115 -1.179911 -2.910959 -2.262775 -0.745474  -4.108751   \n",
       "20100114 -0.815877 -0.595512  2.116402 -0.926065  1.180258  -0.455830   \n",
       "20100115  0.115570  0.898994 -0.172712  5.607162 -0.742312  -0.228959   \n",
       "\n",
       "               기아차  동아쏘시오홀딩스    SK하이닉스        영풍  ...     현대백화점    한국금융지주  \\\n",
       "20100104  3.740648  3.891752  4.103672  0.000000  ...  0.444444  2.238806   \n",
       "20100105 -5.528846 -3.371371 -3.112033 -3.339192  ... -4.424779  1.021898   \n",
       "20100106  1.017812 -2.712609  5.139186 -2.363636  ... -2.314815 -0.867052   \n",
       "20100107 -4.534005  0.796951 -0.610998 -0.372439  ...  0.473934 -2.040816   \n",
       "20100108  2.110818 -0.790650  1.024590 -0.373832  ... -2.358491  6.696429   \n",
       "20100111 -3.100775 -3.187805 -2.636917 -0.562852  ...  0.000000 -0.697350   \n",
       "20100112  1.066667  0.000000  0.208333 -0.377358  ...  1.932367 -1.123596   \n",
       "20100113  0.263852 -3.291650  0.000000 -1.325758  ... -2.843602 -2.982955   \n",
       "20100114  0.526316 -1.276818  5.821206  0.000000  ...  0.487805  2.342606   \n",
       "20100115  0.000000 -0.431110  2.554028 -0.383877  ... -0.485437 -2.432046   \n",
       "\n",
       "                GS    하나금융지주    아모레퍼시픽        LF        후성   SK이노베이션  \\\n",
       "20100104 -0.147929  1.367781  0.856311  1.109350 -0.666489 -0.425532   \n",
       "20100105  0.444444  1.649175 -2.865512 -3.918495 -0.644122  3.846154   \n",
       "20100106  1.032448  0.000000 -6.011538 -0.815661  1.431659  0.411523   \n",
       "20100107  1.021898 -1.327434 -2.208737 -0.822368  0.798935 -0.409836   \n",
       "20100108 -0.433526  0.298954 -1.546563  0.995025  0.501982  0.823045   \n",
       "20100111  1.015965  6.706408  3.019766 -1.970443  4.258675  0.816327   \n",
       "20100112 -2.011494 -0.139665 -1.406437  0.502513 -1.109430  0.000000   \n",
       "20100113  1.466276 -0.139860 -0.237750 -1.500000  0.994391 -4.453441   \n",
       "20100114  2.745665 -0.280112 -0.476633  1.522843 -1.363292  0.847458   \n",
       "20100115  5.485232 -0.842697 -2.635234  3.000000  0.998208 -0.420168   \n",
       "\n",
       "            CJ제일제당      KB금융  \n",
       "20100104  0.729927 -0.502513  \n",
       "20100105  6.280193 -1.178451  \n",
       "20100106  0.227273 -0.340716  \n",
       "20100107 -1.133787 -1.196581  \n",
       "20100108  0.000000  0.173010  \n",
       "20100111 -0.917431  2.072539  \n",
       "20100112  0.925926 -0.507614  \n",
       "20100113 -3.211009 -1.870748  \n",
       "20100114  3.791469 -0.519931  \n",
       "20100115  2.283105 -0.174216  \n",
       "\n",
       "[10 rows x 113 columns]"
      ]
     },
     "execution_count": 14,
     "metadata": {},
     "output_type": "execute_result"
    }
   ],
   "source": [
    "return_df.head(10)"
   ]
  },
  {
   "cell_type": "code",
   "execution_count": 45,
   "metadata": {},
   "outputs": [
    {
     "data": {
      "text/plain": [
       "삼양홀딩스      0.349498\n",
       "유한양행       0.532609\n",
       "CJ대한통운     0.466586\n",
       "두산         0.468793\n",
       "대림산업       0.505664\n",
       "             ...   \n",
       "LF         0.650526\n",
       "후성         0.533141\n",
       "SK이노베이션    0.425806\n",
       "CJ제일제당     0.579278\n",
       "KB금융       0.701692\n",
       "Length: 113, dtype: float64"
      ]
     },
     "execution_count": 45,
     "metadata": {},
     "output_type": "execute_result"
    }
   ],
   "source": [
    "jaccard_df.min()"
   ]
  },
  {
   "cell_type": "code",
   "execution_count": 73,
   "metadata": {},
   "outputs": [
    {
     "name": "stdout",
     "output_type": "stream",
     "text": [
      "105 0.13077423552374756\n"
     ]
    }
   ],
   "source": [
    "a = jaccard_df.min()\n",
    "for idx,i in enumerate(a):\n",
    "    if i == a.min():\n",
    "        print(idx,i)\n",
    "    "
   ]
  },
  {
   "cell_type": "code",
   "execution_count": 74,
   "metadata": {},
   "outputs": [],
   "source": [
    "b = jaccard_df.max()"
   ]
  },
  {
   "cell_type": "code",
   "execution_count": 81,
   "metadata": {},
   "outputs": [
    {
     "name": "stdout",
     "output_type": "stream",
     "text": [
      "80 1.0\n"
     ]
    }
   ],
   "source": [
    "for idx,i in enumerate(b):\n",
    "    if i == b.max():\n",
    "        print(idx,i)"
   ]
  },
  {
   "cell_type": "code",
   "execution_count": 82,
   "metadata": {},
   "outputs": [
    {
     "data": {
      "text/plain": [
       "'한국단자'"
      ]
     },
     "execution_count": 82,
     "metadata": {},
     "output_type": "execute_result"
    }
   ],
   "source": [
    "jaccard_df.columns[80]"
   ]
  },
  {
   "cell_type": "code",
   "execution_count": 91,
   "metadata": {},
   "outputs": [
    {
     "data": {
      "text/plain": [
       "0.3757575757575757"
      ]
     },
     "execution_count": 91,
     "metadata": {},
     "output_type": "execute_result"
    }
   ],
   "source": [
    "jaccard_df.iloc[:,80]"
   ]
  },
  {
   "cell_type": "code",
   "execution_count": 67,
   "metadata": {},
   "outputs": [
    {
     "data": {
      "text/plain": [
       "'GS'"
      ]
     },
     "execution_count": 67,
     "metadata": {},
     "output_type": "execute_result"
    }
   ],
   "source": [
    "jaccard_df.columns[105]"
   ]
  },
  {
   "cell_type": "code",
   "execution_count": 68,
   "metadata": {},
   "outputs": [
    {
     "data": {
      "text/plain": [
       "'KB금융'"
      ]
     },
     "execution_count": 68,
     "metadata": {},
     "output_type": "execute_result"
    }
   ],
   "source": [
    "jaccard_df.columns[112]"
   ]
  },
  {
   "cell_type": "code",
   "execution_count": 72,
   "metadata": {},
   "outputs": [
    {
     "data": {
      "text/plain": [
       "0.994475138121547"
      ]
     },
     "execution_count": 72,
     "metadata": {},
     "output_type": "execute_result"
    }
   ],
   "source": [
    "jaccard_df.iloc[:,105].max()"
   ]
  },
  {
   "cell_type": "code",
   "execution_count": 15,
   "metadata": {},
   "outputs": [],
   "source": [
    "val_idx,val_col = np.where(np.isfinite(jaccard_df))\n",
    "container = np.full(shape=len(val_idx),fill_value=np.nan)"
   ]
  },
  {
   "cell_type": "code",
   "execution_count": 16,
   "metadata": {},
   "outputs": [],
   "source": [
    "def get_after_filing_return(df,windows=30) : #기업 columns와 rcp_index 토대로 누적수익률 (sim_type 상관없음)\n",
    "    \n",
    "    val_idx,val_col = np.where(np.isfinite(df)) \n",
    "    container = np.full(shape=(len(val_idx),windows),fill_value=np.nan)\n",
    "    idx_ls = []\n",
    "    for num,(idx,col) in enumerate(zip(val_idx,val_col)) : \n",
    "        tmp = return_df.iloc[idx:idx+windows,col].values\n",
    "        if windows - len(tmp) > 0 : \n",
    "            tmp = np.array(tmp.tolist()+[np.nan]*(windows-len(tmp)))\n",
    "        container[num] = tmp #한기업의 filing이후 window_size만큼의 수익률 저장\n",
    "        \n",
    "        tmp_idx = return_df.index[idx]\n",
    "        tmp_col = return_df.columns[col]        \n",
    "        idx_ls.append(\"{}_{}\".format(tmp_col,tmp_idx))\n",
    "    \n",
    "    final_df = pd.DataFrame(data=container,index=idx_ls)     \n",
    "    return final_df"
   ]
  },
  {
   "cell_type": "code",
   "execution_count": 17,
   "metadata": {},
   "outputs": [
    {
     "data": {
      "text/html": [
       "<div>\n",
       "<style scoped>\n",
       "    .dataframe tbody tr th:only-of-type {\n",
       "        vertical-align: middle;\n",
       "    }\n",
       "\n",
       "    .dataframe tbody tr th {\n",
       "        vertical-align: top;\n",
       "    }\n",
       "\n",
       "    .dataframe thead th {\n",
       "        text-align: right;\n",
       "    }\n",
       "</style>\n",
       "<table border=\"1\" class=\"dataframe\">\n",
       "  <thead>\n",
       "    <tr style=\"text-align: right;\">\n",
       "      <th></th>\n",
       "      <th>0</th>\n",
       "      <th>1</th>\n",
       "      <th>2</th>\n",
       "      <th>3</th>\n",
       "      <th>4</th>\n",
       "      <th>5</th>\n",
       "      <th>6</th>\n",
       "      <th>7</th>\n",
       "      <th>8</th>\n",
       "      <th>9</th>\n",
       "      <th>...</th>\n",
       "      <th>20</th>\n",
       "      <th>21</th>\n",
       "      <th>22</th>\n",
       "      <th>23</th>\n",
       "      <th>24</th>\n",
       "      <th>25</th>\n",
       "      <th>26</th>\n",
       "      <th>27</th>\n",
       "      <th>28</th>\n",
       "      <th>29</th>\n",
       "    </tr>\n",
       "  </thead>\n",
       "  <tbody>\n",
       "    <tr>\n",
       "      <th>LF_20110324</th>\n",
       "      <td>1.398601</td>\n",
       "      <td>-1.206897</td>\n",
       "      <td>-0.872600</td>\n",
       "      <td>2.816901</td>\n",
       "      <td>1.027397</td>\n",
       "      <td>0.338983</td>\n",
       "      <td>1.689189</td>\n",
       "      <td>0.166113</td>\n",
       "      <td>-1.824212</td>\n",
       "      <td>0.337838</td>\n",
       "      <td>...</td>\n",
       "      <td>1.837672</td>\n",
       "      <td>-0.150376</td>\n",
       "      <td>-3.162651</td>\n",
       "      <td>-0.466563</td>\n",
       "      <td>3.125000</td>\n",
       "      <td>0.606061</td>\n",
       "      <td>0.000000</td>\n",
       "      <td>3.765060</td>\n",
       "      <td>-2.177068</td>\n",
       "      <td>3.857567</td>\n",
       "    </tr>\n",
       "    <tr>\n",
       "      <th>S&amp;T모티브_20110325</th>\n",
       "      <td>1.827243</td>\n",
       "      <td>0.326264</td>\n",
       "      <td>-1.463415</td>\n",
       "      <td>-1.320132</td>\n",
       "      <td>3.678930</td>\n",
       "      <td>-0.161290</td>\n",
       "      <td>-0.646204</td>\n",
       "      <td>-0.813008</td>\n",
       "      <td>-0.655738</td>\n",
       "      <td>-2.805281</td>\n",
       "      <td>...</td>\n",
       "      <td>-0.145985</td>\n",
       "      <td>2.923977</td>\n",
       "      <td>-6.107955</td>\n",
       "      <td>-3.630862</td>\n",
       "      <td>-3.139717</td>\n",
       "      <td>0.972447</td>\n",
       "      <td>-2.086677</td>\n",
       "      <td>-2.622951</td>\n",
       "      <td>-1.515152</td>\n",
       "      <td>-2.393162</td>\n",
       "    </tr>\n",
       "    <tr>\n",
       "      <th>LG디스플레이_20110328</th>\n",
       "      <td>0.143678</td>\n",
       "      <td>-2.152080</td>\n",
       "      <td>-1.319648</td>\n",
       "      <td>2.228826</td>\n",
       "      <td>3.052326</td>\n",
       "      <td>0.423131</td>\n",
       "      <td>3.370787</td>\n",
       "      <td>0.000000</td>\n",
       "      <td>0.543478</td>\n",
       "      <td>1.351351</td>\n",
       "      <td>...</td>\n",
       "      <td>1.112485</td>\n",
       "      <td>-2.689487</td>\n",
       "      <td>2.261307</td>\n",
       "      <td>-1.965602</td>\n",
       "      <td>-3.508772</td>\n",
       "      <td>2.727273</td>\n",
       "      <td>-0.379267</td>\n",
       "      <td>-2.157360</td>\n",
       "      <td>-0.518807</td>\n",
       "      <td>3.650587</td>\n",
       "    </tr>\n",
       "    <tr>\n",
       "      <th>고려제강_20110329</th>\n",
       "      <td>1.523691</td>\n",
       "      <td>0.000000</td>\n",
       "      <td>0.245032</td>\n",
       "      <td>-0.496505</td>\n",
       "      <td>-0.502821</td>\n",
       "      <td>1.257619</td>\n",
       "      <td>0.373362</td>\n",
       "      <td>0.493434</td>\n",
       "      <td>0.861157</td>\n",
       "      <td>2.318005</td>\n",
       "      <td>...</td>\n",
       "      <td>1.071102</td>\n",
       "      <td>1.063368</td>\n",
       "      <td>-4.194403</td>\n",
       "      <td>-2.069481</td>\n",
       "      <td>0.617943</td>\n",
       "      <td>-0.246417</td>\n",
       "      <td>0.991905</td>\n",
       "      <td>-0.613382</td>\n",
       "      <td>-2.339934</td>\n",
       "      <td>1.387973</td>\n",
       "    </tr>\n",
       "    <tr>\n",
       "      <th>유한양행_20110330</th>\n",
       "      <td>1.333629</td>\n",
       "      <td>-2.632155</td>\n",
       "      <td>0.000000</td>\n",
       "      <td>-0.338316</td>\n",
       "      <td>1.695708</td>\n",
       "      <td>0.333804</td>\n",
       "      <td>-0.332693</td>\n",
       "      <td>-0.999826</td>\n",
       "      <td>-1.347098</td>\n",
       "      <td>-2.048239</td>\n",
       "      <td>...</td>\n",
       "      <td>1.064494</td>\n",
       "      <td>-0.702744</td>\n",
       "      <td>1.413754</td>\n",
       "      <td>0.349755</td>\n",
       "      <td>-1.389187</td>\n",
       "      <td>1.408757</td>\n",
       "      <td>-2.431490</td>\n",
       "      <td>-2.491239</td>\n",
       "      <td>-2.919499</td>\n",
       "      <td>-0.375577</td>\n",
       "    </tr>\n",
       "    <tr>\n",
       "      <th>...</th>\n",
       "      <td>...</td>\n",
       "      <td>...</td>\n",
       "      <td>...</td>\n",
       "      <td>...</td>\n",
       "      <td>...</td>\n",
       "      <td>...</td>\n",
       "      <td>...</td>\n",
       "      <td>...</td>\n",
       "      <td>...</td>\n",
       "      <td>...</td>\n",
       "      <td>...</td>\n",
       "      <td>...</td>\n",
       "      <td>...</td>\n",
       "      <td>...</td>\n",
       "      <td>...</td>\n",
       "      <td>...</td>\n",
       "      <td>...</td>\n",
       "      <td>...</td>\n",
       "      <td>...</td>\n",
       "      <td>...</td>\n",
       "      <td>...</td>\n",
       "    </tr>\n",
       "    <tr>\n",
       "      <th>후성_20190401</th>\n",
       "      <td>2.546917</td>\n",
       "      <td>0.522876</td>\n",
       "      <td>1.300390</td>\n",
       "      <td>-0.256739</td>\n",
       "      <td>0.386100</td>\n",
       "      <td>0.256410</td>\n",
       "      <td>1.150895</td>\n",
       "      <td>-0.252845</td>\n",
       "      <td>0.126743</td>\n",
       "      <td>1.012658</td>\n",
       "      <td>...</td>\n",
       "      <td>2.709677</td>\n",
       "      <td>0.753769</td>\n",
       "      <td>2.493766</td>\n",
       "      <td>1.703163</td>\n",
       "      <td>0.717703</td>\n",
       "      <td>-1.068884</td>\n",
       "      <td>-5.042017</td>\n",
       "      <td>-0.126422</td>\n",
       "      <td>-3.924051</td>\n",
       "      <td>-0.527009</td>\n",
       "    </tr>\n",
       "    <tr>\n",
       "      <th>SK이노베이션_20190401</th>\n",
       "      <td>1.114206</td>\n",
       "      <td>0.550964</td>\n",
       "      <td>0.821918</td>\n",
       "      <td>-0.271739</td>\n",
       "      <td>0.817439</td>\n",
       "      <td>0.270270</td>\n",
       "      <td>0.000000</td>\n",
       "      <td>-0.808625</td>\n",
       "      <td>0.815217</td>\n",
       "      <td>-0.269542</td>\n",
       "      <td>...</td>\n",
       "      <td>0.268097</td>\n",
       "      <td>-2.406417</td>\n",
       "      <td>0.273973</td>\n",
       "      <td>-1.639344</td>\n",
       "      <td>-1.666667</td>\n",
       "      <td>-0.564972</td>\n",
       "      <td>-3.977273</td>\n",
       "      <td>0.887574</td>\n",
       "      <td>-1.759531</td>\n",
       "      <td>-0.895522</td>\n",
       "    </tr>\n",
       "    <tr>\n",
       "      <th>CJ제일제당_20190401</th>\n",
       "      <td>0.464396</td>\n",
       "      <td>0.462250</td>\n",
       "      <td>0.000000</td>\n",
       "      <td>-0.306748</td>\n",
       "      <td>-0.769231</td>\n",
       "      <td>1.860465</td>\n",
       "      <td>0.152207</td>\n",
       "      <td>0.151976</td>\n",
       "      <td>-1.517451</td>\n",
       "      <td>0.616333</td>\n",
       "      <td>...</td>\n",
       "      <td>0.633914</td>\n",
       "      <td>-0.787402</td>\n",
       "      <td>-0.317460</td>\n",
       "      <td>-1.433121</td>\n",
       "      <td>0.807754</td>\n",
       "      <td>-0.480769</td>\n",
       "      <td>-1.449275</td>\n",
       "      <td>-1.960784</td>\n",
       "      <td>-0.500000</td>\n",
       "      <td>-3.350084</td>\n",
       "    </tr>\n",
       "    <tr>\n",
       "      <th>KB금융_20190401</th>\n",
       "      <td>5.137395</td>\n",
       "      <td>2.272727</td>\n",
       "      <td>0.555556</td>\n",
       "      <td>0.331492</td>\n",
       "      <td>-0.220264</td>\n",
       "      <td>-0.662252</td>\n",
       "      <td>-0.444444</td>\n",
       "      <td>0.892857</td>\n",
       "      <td>0.000000</td>\n",
       "      <td>0.553097</td>\n",
       "      <td>...</td>\n",
       "      <td>2.312775</td>\n",
       "      <td>-0.538213</td>\n",
       "      <td>1.082251</td>\n",
       "      <td>-0.214133</td>\n",
       "      <td>0.000000</td>\n",
       "      <td>0.429185</td>\n",
       "      <td>-1.495726</td>\n",
       "      <td>0.542299</td>\n",
       "      <td>-0.323625</td>\n",
       "      <td>-0.108225</td>\n",
       "    </tr>\n",
       "    <tr>\n",
       "      <th>SK하이닉스_20190404</th>\n",
       "      <td>-1.877347</td>\n",
       "      <td>0.765306</td>\n",
       "      <td>-1.392405</td>\n",
       "      <td>-0.128370</td>\n",
       "      <td>1.028278</td>\n",
       "      <td>-0.254453</td>\n",
       "      <td>-0.382653</td>\n",
       "      <td>2.048656</td>\n",
       "      <td>0.878294</td>\n",
       "      <td>-0.248756</td>\n",
       "      <td>...</td>\n",
       "      <td>-0.371747</td>\n",
       "      <td>-0.621891</td>\n",
       "      <td>0.500626</td>\n",
       "      <td>-5.354919</td>\n",
       "      <td>-2.105263</td>\n",
       "      <td>-1.209677</td>\n",
       "      <td>1.496599</td>\n",
       "      <td>-0.134048</td>\n",
       "      <td>-3.489933</td>\n",
       "      <td>-0.417246</td>\n",
       "    </tr>\n",
       "  </tbody>\n",
       "</table>\n",
       "<p>1017 rows × 30 columns</p>\n",
       "</div>"
      ],
      "text/plain": [
       "                        0         1         2         3         4         5   \\\n",
       "LF_20110324       1.398601 -1.206897 -0.872600  2.816901  1.027397  0.338983   \n",
       "S&T모티브_20110325   1.827243  0.326264 -1.463415 -1.320132  3.678930 -0.161290   \n",
       "LG디스플레이_20110328  0.143678 -2.152080 -1.319648  2.228826  3.052326  0.423131   \n",
       "고려제강_20110329     1.523691  0.000000  0.245032 -0.496505 -0.502821  1.257619   \n",
       "유한양행_20110330     1.333629 -2.632155  0.000000 -0.338316  1.695708  0.333804   \n",
       "...                    ...       ...       ...       ...       ...       ...   \n",
       "후성_20190401       2.546917  0.522876  1.300390 -0.256739  0.386100  0.256410   \n",
       "SK이노베이션_20190401  1.114206  0.550964  0.821918 -0.271739  0.817439  0.270270   \n",
       "CJ제일제당_20190401   0.464396  0.462250  0.000000 -0.306748 -0.769231  1.860465   \n",
       "KB금융_20190401     5.137395  2.272727  0.555556  0.331492 -0.220264 -0.662252   \n",
       "SK하이닉스_20190404  -1.877347  0.765306 -1.392405 -0.128370  1.028278 -0.254453   \n",
       "\n",
       "                        6         7         8         9   ...        20  \\\n",
       "LF_20110324       1.689189  0.166113 -1.824212  0.337838  ...  1.837672   \n",
       "S&T모티브_20110325  -0.646204 -0.813008 -0.655738 -2.805281  ... -0.145985   \n",
       "LG디스플레이_20110328  3.370787  0.000000  0.543478  1.351351  ...  1.112485   \n",
       "고려제강_20110329     0.373362  0.493434  0.861157  2.318005  ...  1.071102   \n",
       "유한양행_20110330    -0.332693 -0.999826 -1.347098 -2.048239  ...  1.064494   \n",
       "...                    ...       ...       ...       ...  ...       ...   \n",
       "후성_20190401       1.150895 -0.252845  0.126743  1.012658  ...  2.709677   \n",
       "SK이노베이션_20190401  0.000000 -0.808625  0.815217 -0.269542  ...  0.268097   \n",
       "CJ제일제당_20190401   0.152207  0.151976 -1.517451  0.616333  ...  0.633914   \n",
       "KB금융_20190401    -0.444444  0.892857  0.000000  0.553097  ...  2.312775   \n",
       "SK하이닉스_20190404  -0.382653  2.048656  0.878294 -0.248756  ... -0.371747   \n",
       "\n",
       "                        21        22        23        24        25        26  \\\n",
       "LF_20110324      -0.150376 -3.162651 -0.466563  3.125000  0.606061  0.000000   \n",
       "S&T모티브_20110325   2.923977 -6.107955 -3.630862 -3.139717  0.972447 -2.086677   \n",
       "LG디스플레이_20110328 -2.689487  2.261307 -1.965602 -3.508772  2.727273 -0.379267   \n",
       "고려제강_20110329     1.063368 -4.194403 -2.069481  0.617943 -0.246417  0.991905   \n",
       "유한양행_20110330    -0.702744  1.413754  0.349755 -1.389187  1.408757 -2.431490   \n",
       "...                    ...       ...       ...       ...       ...       ...   \n",
       "후성_20190401       0.753769  2.493766  1.703163  0.717703 -1.068884 -5.042017   \n",
       "SK이노베이션_20190401 -2.406417  0.273973 -1.639344 -1.666667 -0.564972 -3.977273   \n",
       "CJ제일제당_20190401  -0.787402 -0.317460 -1.433121  0.807754 -0.480769 -1.449275   \n",
       "KB금융_20190401    -0.538213  1.082251 -0.214133  0.000000  0.429185 -1.495726   \n",
       "SK하이닉스_20190404  -0.621891  0.500626 -5.354919 -2.105263 -1.209677  1.496599   \n",
       "\n",
       "                        27        28        29  \n",
       "LF_20110324       3.765060 -2.177068  3.857567  \n",
       "S&T모티브_20110325  -2.622951 -1.515152 -2.393162  \n",
       "LG디스플레이_20110328 -2.157360 -0.518807  3.650587  \n",
       "고려제강_20110329    -0.613382 -2.339934  1.387973  \n",
       "유한양행_20110330    -2.491239 -2.919499 -0.375577  \n",
       "...                    ...       ...       ...  \n",
       "후성_20190401      -0.126422 -3.924051 -0.527009  \n",
       "SK이노베이션_20190401  0.887574 -1.759531 -0.895522  \n",
       "CJ제일제당_20190401  -1.960784 -0.500000 -3.350084  \n",
       "KB금융_20190401     0.542299 -0.323625 -0.108225  \n",
       "SK하이닉스_20190404  -0.134048 -3.489933 -0.417246  \n",
       "\n",
       "[1017 rows x 30 columns]"
      ]
     },
     "execution_count": 17,
     "metadata": {},
     "output_type": "execute_result"
    }
   ],
   "source": [
    "get_after_filing_return(lv2_jaccard)"
   ]
  },
  {
   "cell_type": "code",
   "execution_count": 8,
   "metadata": {},
   "outputs": [],
   "source": [
    "def get_return_per_sim(df,window):\n",
    "    \n",
    "    sim_df = df.copy()\n",
    "    df_ = get_after_filing_return(sim_df,windows=window)\n",
    "    \n",
    "    index_ls = []\n",
    "    value_ls = []\n",
    "    for i in sim_df.columns:\n",
    "        for j in sim_df.index:\n",
    "            if sim_df.loc[j,i] > 0:\n",
    "                value_ls.append(sim_df.loc[j,i])\n",
    "                index_ls.append(i + '_'+str(j))\n",
    "            \n",
    "    unit_df = pd.DataFrame([index_ls,value_ls] , index = ['title','similarity']).T\n",
    "    unit_df = unit_df.sort_values(by = 'similarity', ascending =True).reset_index(drop = True)\n",
    "\n",
    "    sorted_values = [] #idx별 유사도값\n",
    "    for i in df_.index:\n",
    "        for idx,j in enumerate(unit_df.title): \n",
    "            if i == j:\n",
    "                sorted_values.append(unit_df['similarity'][idx])\n",
    "    \n",
    "    df_ = df_.cumsum(1).iloc[:,-1].reset_index()\n",
    "    df_.columns = ['corp_rcp','cum_return']\n",
    "    df_['sim'] = sorted_values\n",
    "    df_ = df_.sort_values(by = 'sim',ascending=True).reset_index(drop=True)\n",
    "    \n",
    "    return df_\n"
   ]
  },
  {
   "cell_type": "code",
   "execution_count": 9,
   "metadata": {},
   "outputs": [],
   "source": [
    "def returns_per_date(df,*argv):\n",
    "    ls_ = [get_return_per_sim(df,arg) for arg in argv]\n",
    "    q_values=[]\n",
    "    quarter = 5 #5분위\n",
    "    for x in ls_:\n",
    "        a = len(x) // quarter #200\n",
    "        q = [x.cum_return[i*a:(i+1)*a].mean() for i in range(quarter)]\n",
    "        q.append(q[-1]-q[0]) #long Q5 ,short Q1\n",
    "        q_values.append(q)\n",
    "    \n",
    "    df = pd.DataFrame([k for k in q_values],index = [f'{arg} days' for arg in argv],\n",
    "                      columns = [f'Q{i+1}'for i in range(len(q_values[0]))])\n",
    "    df = df.rename(columns = {'Q6':'Q5-Q1'})\n",
    "    df = df*100\n",
    "    \n",
    "    return df\n",
    "    "
   ]
  },
  {
   "cell_type": "code",
   "execution_count": 43,
   "metadata": {},
   "outputs": [],
   "source": [
    "return_jaccard = returns_per_date(lv2_jaccard,20,40,50,60,100,120)\n",
    "return_cosine = returns_per_date(lv2_cosine,20,40,50,60,100,120)"
   ]
  },
  {
   "cell_type": "markdown",
   "metadata": {},
   "source": [
    "Q1~Q5 을 net pooling similarity로 구성했을 때의 결과값이다. time-series effect와 cross-sectional effect가 모두 포함되어있기에 \n",
    "극단적인 수치가 나온 결과..  잘나온것으로 보이지만.. calender time portpolio returns 는 이와 다르다."
   ]
  },
  {
   "cell_type": "code",
   "execution_count": 44,
   "metadata": {},
   "outputs": [
    {
     "data": {
      "text/html": [
       "<div>\n",
       "<style scoped>\n",
       "    .dataframe tbody tr th:only-of-type {\n",
       "        vertical-align: middle;\n",
       "    }\n",
       "\n",
       "    .dataframe tbody tr th {\n",
       "        vertical-align: top;\n",
       "    }\n",
       "\n",
       "    .dataframe thead th {\n",
       "        text-align: right;\n",
       "    }\n",
       "</style>\n",
       "<table border=\"1\" class=\"dataframe\">\n",
       "  <thead>\n",
       "    <tr style=\"text-align: right;\">\n",
       "      <th></th>\n",
       "      <th>Q1</th>\n",
       "      <th>Q2</th>\n",
       "      <th>Q3</th>\n",
       "      <th>Q4</th>\n",
       "      <th>Q5</th>\n",
       "      <th>Q5-Q1</th>\n",
       "    </tr>\n",
       "  </thead>\n",
       "  <tbody>\n",
       "    <tr>\n",
       "      <th>20 days</th>\n",
       "      <td>0.955043</td>\n",
       "      <td>2.025042</td>\n",
       "      <td>2.932510</td>\n",
       "      <td>1.376949</td>\n",
       "      <td>3.760438</td>\n",
       "      <td>2.805395</td>\n",
       "    </tr>\n",
       "    <tr>\n",
       "      <th>40 days</th>\n",
       "      <td>-1.078367</td>\n",
       "      <td>0.808451</td>\n",
       "      <td>2.455538</td>\n",
       "      <td>1.189568</td>\n",
       "      <td>3.288017</td>\n",
       "      <td>4.366384</td>\n",
       "    </tr>\n",
       "    <tr>\n",
       "      <th>50 days</th>\n",
       "      <td>-2.096185</td>\n",
       "      <td>0.580430</td>\n",
       "      <td>2.629671</td>\n",
       "      <td>1.333369</td>\n",
       "      <td>2.998251</td>\n",
       "      <td>5.094436</td>\n",
       "    </tr>\n",
       "    <tr>\n",
       "      <th>60 days</th>\n",
       "      <td>-2.587654</td>\n",
       "      <td>-0.737557</td>\n",
       "      <td>1.657036</td>\n",
       "      <td>0.346921</td>\n",
       "      <td>1.345514</td>\n",
       "      <td>3.933168</td>\n",
       "    </tr>\n",
       "    <tr>\n",
       "      <th>100 days</th>\n",
       "      <td>-2.678137</td>\n",
       "      <td>-3.405412</td>\n",
       "      <td>-0.608029</td>\n",
       "      <td>-0.615576</td>\n",
       "      <td>0.079679</td>\n",
       "      <td>2.757816</td>\n",
       "    </tr>\n",
       "    <tr>\n",
       "      <th>120 days</th>\n",
       "      <td>0.560617</td>\n",
       "      <td>1.051665</td>\n",
       "      <td>2.018300</td>\n",
       "      <td>1.388277</td>\n",
       "      <td>2.605793</td>\n",
       "      <td>2.045176</td>\n",
       "    </tr>\n",
       "  </tbody>\n",
       "</table>\n",
       "</div>"
      ],
      "text/plain": [
       "                Q1        Q2        Q3        Q4        Q5     Q5-Q1\n",
       "20 days   0.955043  2.025042  2.932510  1.376949  3.760438  2.805395\n",
       "40 days  -1.078367  0.808451  2.455538  1.189568  3.288017  4.366384\n",
       "50 days  -2.096185  0.580430  2.629671  1.333369  2.998251  5.094436\n",
       "60 days  -2.587654 -0.737557  1.657036  0.346921  1.345514  3.933168\n",
       "100 days -2.678137 -3.405412 -0.608029 -0.615576  0.079679  2.757816\n",
       "120 days  0.560617  1.051665  2.018300  1.388277  2.605793  2.045176"
      ]
     },
     "execution_count": 44,
     "metadata": {},
     "output_type": "execute_result"
    }
   ],
   "source": [
    "return_jaccard"
   ]
  },
  {
   "cell_type": "code",
   "execution_count": 47,
   "metadata": {},
   "outputs": [
    {
     "data": {
      "application/vnd.plotly.v1+json": {
       "config": {
        "linkText": "Export to plot.ly",
        "plotlyServerURL": "https://plot.ly",
        "showLink": true
       },
       "data": [
        {
         "line": {
          "color": "rgba(255, 153, 51, 1.0)",
          "dash": "solid",
          "shape": "linear",
          "width": 1.3
         },
         "mode": "lines",
         "name": "Q1",
         "text": "",
         "type": "scatter",
         "x": [
          "20 days",
          "40 days",
          "50 days",
          "60 days",
          "100 days",
          "120 days"
         ],
         "y": [
          0.9550430491283587,
          -1.0783665376358065,
          -2.096184804149592,
          -2.5876537629735177,
          -2.678137455640014,
          0.560616800440024
         ]
        },
        {
         "line": {
          "color": "rgba(55, 128, 191, 1.0)",
          "dash": "solid",
          "shape": "linear",
          "width": 1.3
         },
         "mode": "lines",
         "name": "Q2",
         "text": "",
         "type": "scatter",
         "x": [
          "20 days",
          "40 days",
          "50 days",
          "60 days",
          "100 days",
          "120 days"
         ],
         "y": [
          2.0250424280448645,
          0.8084514891228238,
          0.5804301026818429,
          -0.7375574972236729,
          -3.4054117330199487,
          1.051665490064897
         ]
        },
        {
         "line": {
          "color": "rgba(50, 171, 96, 1.0)",
          "dash": "solid",
          "shape": "linear",
          "width": 1.3
         },
         "mode": "lines",
         "name": "Q3",
         "text": "",
         "type": "scatter",
         "x": [
          "20 days",
          "40 days",
          "50 days",
          "60 days",
          "100 days",
          "120 days"
         ],
         "y": [
          2.93250951313089,
          2.4555380760273233,
          2.6296711304385747,
          1.6570356263133048,
          -0.6080291384809473,
          2.0183001735983015
         ]
        },
        {
         "line": {
          "color": "rgba(128, 0, 128, 1.0)",
          "dash": "solid",
          "shape": "linear",
          "width": 1.3
         },
         "mode": "lines",
         "name": "Q4",
         "text": "",
         "type": "scatter",
         "x": [
          "20 days",
          "40 days",
          "50 days",
          "60 days",
          "100 days",
          "120 days"
         ],
         "y": [
          1.3769486508920763,
          1.1895675622473034,
          1.3333685404658522,
          0.34692126458079836,
          -0.6155755952893393,
          1.3882765495508138
         ]
        },
        {
         "line": {
          "color": "rgba(219, 64, 82, 1.0)",
          "dash": "solid",
          "shape": "linear",
          "width": 1.3
         },
         "mode": "lines",
         "name": "Q5",
         "text": "",
         "type": "scatter",
         "x": [
          "20 days",
          "40 days",
          "50 days",
          "60 days",
          "100 days",
          "120 days"
         ],
         "y": [
          3.7604381540177263,
          3.288017099231271,
          2.9982509968656537,
          1.3455143616989196,
          0.07967899392036998,
          2.6057928139399404
         ]
        },
        {
         "line": {
          "color": "rgba(0, 128, 128, 1.0)",
          "dash": "solid",
          "shape": "linear",
          "width": 1.3
         },
         "mode": "lines",
         "name": "Q5-Q1",
         "text": "",
         "type": "scatter",
         "x": [
          "20 days",
          "40 days",
          "50 days",
          "60 days",
          "100 days",
          "120 days"
         ],
         "y": [
          2.8053951048893673,
          4.366383636867077,
          5.094435801015246,
          3.933168124672437,
          2.757816449560384,
          2.0451760134999164
         ]
        }
       ],
       "layout": {
        "autosize": true,
        "legend": {
         "bgcolor": "#F5F6F9",
         "font": {
          "color": "#4D5663"
         }
        },
        "paper_bgcolor": "#F5F6F9",
        "plot_bgcolor": "#F5F6F9",
        "template": {
         "data": {
          "bar": [
           {
            "error_x": {
             "color": "#2a3f5f"
            },
            "error_y": {
             "color": "#2a3f5f"
            },
            "marker": {
             "line": {
              "color": "#E5ECF6",
              "width": 0.5
             }
            },
            "type": "bar"
           }
          ],
          "barpolar": [
           {
            "marker": {
             "line": {
              "color": "#E5ECF6",
              "width": 0.5
             }
            },
            "type": "barpolar"
           }
          ],
          "carpet": [
           {
            "aaxis": {
             "endlinecolor": "#2a3f5f",
             "gridcolor": "white",
             "linecolor": "white",
             "minorgridcolor": "white",
             "startlinecolor": "#2a3f5f"
            },
            "baxis": {
             "endlinecolor": "#2a3f5f",
             "gridcolor": "white",
             "linecolor": "white",
             "minorgridcolor": "white",
             "startlinecolor": "#2a3f5f"
            },
            "type": "carpet"
           }
          ],
          "choropleth": [
           {
            "colorbar": {
             "outlinewidth": 0,
             "ticks": ""
            },
            "type": "choropleth"
           }
          ],
          "contour": [
           {
            "colorbar": {
             "outlinewidth": 0,
             "ticks": ""
            },
            "colorscale": [
             [
              0,
              "#0d0887"
             ],
             [
              0.1111111111111111,
              "#46039f"
             ],
             [
              0.2222222222222222,
              "#7201a8"
             ],
             [
              0.3333333333333333,
              "#9c179e"
             ],
             [
              0.4444444444444444,
              "#bd3786"
             ],
             [
              0.5555555555555556,
              "#d8576b"
             ],
             [
              0.6666666666666666,
              "#ed7953"
             ],
             [
              0.7777777777777778,
              "#fb9f3a"
             ],
             [
              0.8888888888888888,
              "#fdca26"
             ],
             [
              1,
              "#f0f921"
             ]
            ],
            "type": "contour"
           }
          ],
          "contourcarpet": [
           {
            "colorbar": {
             "outlinewidth": 0,
             "ticks": ""
            },
            "type": "contourcarpet"
           }
          ],
          "heatmap": [
           {
            "colorbar": {
             "outlinewidth": 0,
             "ticks": ""
            },
            "colorscale": [
             [
              0,
              "#0d0887"
             ],
             [
              0.1111111111111111,
              "#46039f"
             ],
             [
              0.2222222222222222,
              "#7201a8"
             ],
             [
              0.3333333333333333,
              "#9c179e"
             ],
             [
              0.4444444444444444,
              "#bd3786"
             ],
             [
              0.5555555555555556,
              "#d8576b"
             ],
             [
              0.6666666666666666,
              "#ed7953"
             ],
             [
              0.7777777777777778,
              "#fb9f3a"
             ],
             [
              0.8888888888888888,
              "#fdca26"
             ],
             [
              1,
              "#f0f921"
             ]
            ],
            "type": "heatmap"
           }
          ],
          "heatmapgl": [
           {
            "colorbar": {
             "outlinewidth": 0,
             "ticks": ""
            },
            "colorscale": [
             [
              0,
              "#0d0887"
             ],
             [
              0.1111111111111111,
              "#46039f"
             ],
             [
              0.2222222222222222,
              "#7201a8"
             ],
             [
              0.3333333333333333,
              "#9c179e"
             ],
             [
              0.4444444444444444,
              "#bd3786"
             ],
             [
              0.5555555555555556,
              "#d8576b"
             ],
             [
              0.6666666666666666,
              "#ed7953"
             ],
             [
              0.7777777777777778,
              "#fb9f3a"
             ],
             [
              0.8888888888888888,
              "#fdca26"
             ],
             [
              1,
              "#f0f921"
             ]
            ],
            "type": "heatmapgl"
           }
          ],
          "histogram": [
           {
            "marker": {
             "colorbar": {
              "outlinewidth": 0,
              "ticks": ""
             }
            },
            "type": "histogram"
           }
          ],
          "histogram2d": [
           {
            "colorbar": {
             "outlinewidth": 0,
             "ticks": ""
            },
            "colorscale": [
             [
              0,
              "#0d0887"
             ],
             [
              0.1111111111111111,
              "#46039f"
             ],
             [
              0.2222222222222222,
              "#7201a8"
             ],
             [
              0.3333333333333333,
              "#9c179e"
             ],
             [
              0.4444444444444444,
              "#bd3786"
             ],
             [
              0.5555555555555556,
              "#d8576b"
             ],
             [
              0.6666666666666666,
              "#ed7953"
             ],
             [
              0.7777777777777778,
              "#fb9f3a"
             ],
             [
              0.8888888888888888,
              "#fdca26"
             ],
             [
              1,
              "#f0f921"
             ]
            ],
            "type": "histogram2d"
           }
          ],
          "histogram2dcontour": [
           {
            "colorbar": {
             "outlinewidth": 0,
             "ticks": ""
            },
            "colorscale": [
             [
              0,
              "#0d0887"
             ],
             [
              0.1111111111111111,
              "#46039f"
             ],
             [
              0.2222222222222222,
              "#7201a8"
             ],
             [
              0.3333333333333333,
              "#9c179e"
             ],
             [
              0.4444444444444444,
              "#bd3786"
             ],
             [
              0.5555555555555556,
              "#d8576b"
             ],
             [
              0.6666666666666666,
              "#ed7953"
             ],
             [
              0.7777777777777778,
              "#fb9f3a"
             ],
             [
              0.8888888888888888,
              "#fdca26"
             ],
             [
              1,
              "#f0f921"
             ]
            ],
            "type": "histogram2dcontour"
           }
          ],
          "mesh3d": [
           {
            "colorbar": {
             "outlinewidth": 0,
             "ticks": ""
            },
            "type": "mesh3d"
           }
          ],
          "parcoords": [
           {
            "line": {
             "colorbar": {
              "outlinewidth": 0,
              "ticks": ""
             }
            },
            "type": "parcoords"
           }
          ],
          "pie": [
           {
            "automargin": true,
            "type": "pie"
           }
          ],
          "scatter": [
           {
            "marker": {
             "colorbar": {
              "outlinewidth": 0,
              "ticks": ""
             }
            },
            "type": "scatter"
           }
          ],
          "scatter3d": [
           {
            "line": {
             "colorbar": {
              "outlinewidth": 0,
              "ticks": ""
             }
            },
            "marker": {
             "colorbar": {
              "outlinewidth": 0,
              "ticks": ""
             }
            },
            "type": "scatter3d"
           }
          ],
          "scattercarpet": [
           {
            "marker": {
             "colorbar": {
              "outlinewidth": 0,
              "ticks": ""
             }
            },
            "type": "scattercarpet"
           }
          ],
          "scattergeo": [
           {
            "marker": {
             "colorbar": {
              "outlinewidth": 0,
              "ticks": ""
             }
            },
            "type": "scattergeo"
           }
          ],
          "scattergl": [
           {
            "marker": {
             "colorbar": {
              "outlinewidth": 0,
              "ticks": ""
             }
            },
            "type": "scattergl"
           }
          ],
          "scattermapbox": [
           {
            "marker": {
             "colorbar": {
              "outlinewidth": 0,
              "ticks": ""
             }
            },
            "type": "scattermapbox"
           }
          ],
          "scatterpolar": [
           {
            "marker": {
             "colorbar": {
              "outlinewidth": 0,
              "ticks": ""
             }
            },
            "type": "scatterpolar"
           }
          ],
          "scatterpolargl": [
           {
            "marker": {
             "colorbar": {
              "outlinewidth": 0,
              "ticks": ""
             }
            },
            "type": "scatterpolargl"
           }
          ],
          "scatterternary": [
           {
            "marker": {
             "colorbar": {
              "outlinewidth": 0,
              "ticks": ""
             }
            },
            "type": "scatterternary"
           }
          ],
          "surface": [
           {
            "colorbar": {
             "outlinewidth": 0,
             "ticks": ""
            },
            "colorscale": [
             [
              0,
              "#0d0887"
             ],
             [
              0.1111111111111111,
              "#46039f"
             ],
             [
              0.2222222222222222,
              "#7201a8"
             ],
             [
              0.3333333333333333,
              "#9c179e"
             ],
             [
              0.4444444444444444,
              "#bd3786"
             ],
             [
              0.5555555555555556,
              "#d8576b"
             ],
             [
              0.6666666666666666,
              "#ed7953"
             ],
             [
              0.7777777777777778,
              "#fb9f3a"
             ],
             [
              0.8888888888888888,
              "#fdca26"
             ],
             [
              1,
              "#f0f921"
             ]
            ],
            "type": "surface"
           }
          ],
          "table": [
           {
            "cells": {
             "fill": {
              "color": "#EBF0F8"
             },
             "line": {
              "color": "white"
             }
            },
            "header": {
             "fill": {
              "color": "#C8D4E3"
             },
             "line": {
              "color": "white"
             }
            },
            "type": "table"
           }
          ]
         },
         "layout": {
          "annotationdefaults": {
           "arrowcolor": "#2a3f5f",
           "arrowhead": 0,
           "arrowwidth": 1
          },
          "coloraxis": {
           "colorbar": {
            "outlinewidth": 0,
            "ticks": ""
           }
          },
          "colorscale": {
           "diverging": [
            [
             0,
             "#8e0152"
            ],
            [
             0.1,
             "#c51b7d"
            ],
            [
             0.2,
             "#de77ae"
            ],
            [
             0.3,
             "#f1b6da"
            ],
            [
             0.4,
             "#fde0ef"
            ],
            [
             0.5,
             "#f7f7f7"
            ],
            [
             0.6,
             "#e6f5d0"
            ],
            [
             0.7,
             "#b8e186"
            ],
            [
             0.8,
             "#7fbc41"
            ],
            [
             0.9,
             "#4d9221"
            ],
            [
             1,
             "#276419"
            ]
           ],
           "sequential": [
            [
             0,
             "#0d0887"
            ],
            [
             0.1111111111111111,
             "#46039f"
            ],
            [
             0.2222222222222222,
             "#7201a8"
            ],
            [
             0.3333333333333333,
             "#9c179e"
            ],
            [
             0.4444444444444444,
             "#bd3786"
            ],
            [
             0.5555555555555556,
             "#d8576b"
            ],
            [
             0.6666666666666666,
             "#ed7953"
            ],
            [
             0.7777777777777778,
             "#fb9f3a"
            ],
            [
             0.8888888888888888,
             "#fdca26"
            ],
            [
             1,
             "#f0f921"
            ]
           ],
           "sequentialminus": [
            [
             0,
             "#0d0887"
            ],
            [
             0.1111111111111111,
             "#46039f"
            ],
            [
             0.2222222222222222,
             "#7201a8"
            ],
            [
             0.3333333333333333,
             "#9c179e"
            ],
            [
             0.4444444444444444,
             "#bd3786"
            ],
            [
             0.5555555555555556,
             "#d8576b"
            ],
            [
             0.6666666666666666,
             "#ed7953"
            ],
            [
             0.7777777777777778,
             "#fb9f3a"
            ],
            [
             0.8888888888888888,
             "#fdca26"
            ],
            [
             1,
             "#f0f921"
            ]
           ]
          },
          "colorway": [
           "#636efa",
           "#EF553B",
           "#00cc96",
           "#ab63fa",
           "#FFA15A",
           "#19d3f3",
           "#FF6692",
           "#B6E880",
           "#FF97FF",
           "#FECB52"
          ],
          "font": {
           "color": "#2a3f5f"
          },
          "geo": {
           "bgcolor": "white",
           "lakecolor": "white",
           "landcolor": "#E5ECF6",
           "showlakes": true,
           "showland": true,
           "subunitcolor": "white"
          },
          "hoverlabel": {
           "align": "left"
          },
          "hovermode": "closest",
          "mapbox": {
           "style": "light"
          },
          "paper_bgcolor": "white",
          "plot_bgcolor": "#E5ECF6",
          "polar": {
           "angularaxis": {
            "gridcolor": "white",
            "linecolor": "white",
            "ticks": ""
           },
           "bgcolor": "#E5ECF6",
           "radialaxis": {
            "gridcolor": "white",
            "linecolor": "white",
            "ticks": ""
           }
          },
          "scene": {
           "xaxis": {
            "backgroundcolor": "#E5ECF6",
            "gridcolor": "white",
            "gridwidth": 2,
            "linecolor": "white",
            "showbackground": true,
            "ticks": "",
            "zerolinecolor": "white"
           },
           "yaxis": {
            "backgroundcolor": "#E5ECF6",
            "gridcolor": "white",
            "gridwidth": 2,
            "linecolor": "white",
            "showbackground": true,
            "ticks": "",
            "zerolinecolor": "white"
           },
           "zaxis": {
            "backgroundcolor": "#E5ECF6",
            "gridcolor": "white",
            "gridwidth": 2,
            "linecolor": "white",
            "showbackground": true,
            "ticks": "",
            "zerolinecolor": "white"
           }
          },
          "shapedefaults": {
           "line": {
            "color": "#2a3f5f"
           }
          },
          "ternary": {
           "aaxis": {
            "gridcolor": "white",
            "linecolor": "white",
            "ticks": ""
           },
           "baxis": {
            "gridcolor": "white",
            "linecolor": "white",
            "ticks": ""
           },
           "bgcolor": "#E5ECF6",
           "caxis": {
            "gridcolor": "white",
            "linecolor": "white",
            "ticks": ""
           }
          },
          "title": {
           "x": 0.05
          },
          "xaxis": {
           "automargin": true,
           "gridcolor": "white",
           "linecolor": "white",
           "ticks": "",
           "title": {
            "standoff": 15
           },
           "zerolinecolor": "white",
           "zerolinewidth": 2
          },
          "yaxis": {
           "automargin": true,
           "gridcolor": "white",
           "linecolor": "white",
           "ticks": "",
           "title": {
            "standoff": 15
           },
           "zerolinecolor": "white",
           "zerolinewidth": 2
          }
         }
        },
        "title": {
         "font": {
          "color": "#4D5663"
         },
         "text": "cum returns per filing dates by jaccard_sim "
        },
        "xaxis": {
         "autorange": true,
         "gridcolor": "#E1E5ED",
         "range": [
          0,
          5
         ],
         "showgrid": true,
         "tickfont": {
          "color": "#4D5663"
         },
         "title": {
          "font": {
           "color": "#4D5663"
          },
          "text": "days"
         },
         "type": "category",
         "zerolinecolor": "#E1E5ED"
        },
        "yaxis": {
         "autorange": true,
         "gridcolor": "#E1E5ED",
         "range": [
          -3.877625484910793,
          5.56664955290609
         ],
         "showgrid": true,
         "tickfont": {
          "color": "#4D5663"
         },
         "title": {
          "font": {
           "color": "#4D5663"
          },
          "text": "returns"
         },
         "type": "linear",
         "zerolinecolor": "#E1E5ED"
        }
       }
      },
      "image/png": "[encoded data removed]",
      "text/html": [
       "<div>\n",
       "        \n",
       "        \n",
       "            <div id=\"bd17fe96-0e37-4710-b5e2-19db3c30691a\" class=\"plotly-graph-div\" style=\"height:525px; width:100%;\"></div>\n",
       "            <script type=\"text/javascript\">\n",
       "                require([\"plotly\"], function(Plotly) {\n",
       "                    window.PLOTLYENV=window.PLOTLYENV || {};\n",
       "                    window.PLOTLYENV.BASE_URL='https://plot.ly';\n",
       "                    \n",
       "                if (document.getElementById(\"bd17fe96-0e37-4710-b5e2-19db3c30691a\")) {\n",
       "                    Plotly.newPlot(\n",
       "                        'bd17fe96-0e37-4710-b5e2-19db3c30691a',\n",
       "                        [{\"line\": {\"color\": \"rgba(255, 153, 51, 1.0)\", \"dash\": \"solid\", \"shape\": \"linear\", \"width\": 1.3}, \"mode\": \"lines\", \"name\": \"Q1\", \"text\": \"\", \"type\": \"scatter\", \"x\": [\"20 days\", \"40 days\", \"50 days\", \"60 days\", \"100 days\", \"120 days\"], \"y\": [0.9550430491283587, -1.0783665376358065, -2.096184804149592, -2.5876537629735177, -2.678137455640014, 0.560616800440024]}, {\"line\": {\"color\": \"rgba(55, 128, 191, 1.0)\", \"dash\": \"solid\", \"shape\": \"linear\", \"width\": 1.3}, \"mode\": \"lines\", \"name\": \"Q2\", \"text\": \"\", \"type\": \"scatter\", \"x\": [\"20 days\", \"40 days\", \"50 days\", \"60 days\", \"100 days\", \"120 days\"], \"y\": [2.0250424280448645, 0.8084514891228238, 0.5804301026818429, -0.7375574972236729, -3.4054117330199487, 1.051665490064897]}, {\"line\": {\"color\": \"rgba(50, 171, 96, 1.0)\", \"dash\": \"solid\", \"shape\": \"linear\", \"width\": 1.3}, \"mode\": \"lines\", \"name\": \"Q3\", \"text\": \"\", \"type\": \"scatter\", \"x\": [\"20 days\", \"40 days\", \"50 days\", \"60 days\", \"100 days\", \"120 days\"], \"y\": [2.93250951313089, 2.4555380760273233, 2.6296711304385747, 1.6570356263133048, -0.6080291384809473, 2.0183001735983015]}, {\"line\": {\"color\": \"rgba(128, 0, 128, 1.0)\", \"dash\": \"solid\", \"shape\": \"linear\", \"width\": 1.3}, \"mode\": \"lines\", \"name\": \"Q4\", \"text\": \"\", \"type\": \"scatter\", \"x\": [\"20 days\", \"40 days\", \"50 days\", \"60 days\", \"100 days\", \"120 days\"], \"y\": [1.3769486508920763, 1.1895675622473034, 1.3333685404658522, 0.34692126458079836, -0.6155755952893393, 1.3882765495508138]}, {\"line\": {\"color\": \"rgba(219, 64, 82, 1.0)\", \"dash\": \"solid\", \"shape\": \"linear\", \"width\": 1.3}, \"mode\": \"lines\", \"name\": \"Q5\", \"text\": \"\", \"type\": \"scatter\", \"x\": [\"20 days\", \"40 days\", \"50 days\", \"60 days\", \"100 days\", \"120 days\"], \"y\": [3.7604381540177263, 3.288017099231271, 2.9982509968656537, 1.3455143616989196, 0.07967899392036998, 2.6057928139399404]}, {\"line\": {\"color\": \"rgba(0, 128, 128, 1.0)\", \"dash\": \"solid\", \"shape\": \"linear\", \"width\": 1.3}, \"mode\": \"lines\", \"name\": \"Q5-Q1\", \"text\": \"\", \"type\": \"scatter\", \"x\": [\"20 days\", \"40 days\", \"50 days\", \"60 days\", \"100 days\", \"120 days\"], \"y\": [2.8053951048893673, 4.366383636867077, 5.094435801015246, 3.933168124672437, 2.757816449560384, 2.0451760134999164]}],\n",
       "                        {\"legend\": {\"bgcolor\": \"#F5F6F9\", \"font\": {\"color\": \"#4D5663\"}}, \"paper_bgcolor\": \"#F5F6F9\", \"plot_bgcolor\": \"#F5F6F9\", \"template\": {\"data\": {\"bar\": [{\"error_x\": {\"color\": \"#2a3f5f\"}, \"error_y\": {\"color\": \"#2a3f5f\"}, \"marker\": {\"line\": {\"color\": \"#E5ECF6\", \"width\": 0.5}}, \"type\": \"bar\"}], \"barpolar\": [{\"marker\": {\"line\": {\"color\": \"#E5ECF6\", \"width\": 0.5}}, \"type\": \"barpolar\"}], \"carpet\": [{\"aaxis\": {\"endlinecolor\": \"#2a3f5f\", \"gridcolor\": \"white\", \"linecolor\": \"white\", \"minorgridcolor\": \"white\", \"startlinecolor\": \"#2a3f5f\"}, \"baxis\": {\"endlinecolor\": \"#2a3f5f\", \"gridcolor\": \"white\", \"linecolor\": \"white\", \"minorgridcolor\": \"white\", \"startlinecolor\": \"#2a3f5f\"}, \"type\": \"carpet\"}], \"choropleth\": [{\"colorbar\": {\"outlinewidth\": 0, \"ticks\": \"\"}, \"type\": \"choropleth\"}], \"contour\": [{\"colorbar\": {\"outlinewidth\": 0, \"ticks\": \"\"}, \"colorscale\": [[0.0, \"#0d0887\"], [0.1111111111111111, \"#46039f\"], [0.2222222222222222, \"#7201a8\"], [0.3333333333333333, \"#9c179e\"], [0.4444444444444444, \"#bd3786\"], [0.5555555555555556, \"#d8576b\"], [0.6666666666666666, \"#ed7953\"], [0.7777777777777778, \"#fb9f3a\"], [0.8888888888888888, \"#fdca26\"], [1.0, \"#f0f921\"]], \"type\": \"contour\"}], \"contourcarpet\": [{\"colorbar\": {\"outlinewidth\": 0, \"ticks\": \"\"}, \"type\": \"contourcarpet\"}], \"heatmap\": [{\"colorbar\": {\"outlinewidth\": 0, \"ticks\": \"\"}, \"colorscale\": [[0.0, \"#0d0887\"], [0.1111111111111111, \"#46039f\"], [0.2222222222222222, \"#7201a8\"], [0.3333333333333333, \"#9c179e\"], [0.4444444444444444, \"#bd3786\"], [0.5555555555555556, \"#d8576b\"], [0.6666666666666666, \"#ed7953\"], [0.7777777777777778, \"#fb9f3a\"], [0.8888888888888888, \"#fdca26\"], [1.0, \"#f0f921\"]], \"type\": \"heatmap\"}], \"heatmapgl\": [{\"colorbar\": {\"outlinewidth\": 0, \"ticks\": \"\"}, \"colorscale\": [[0.0, \"#0d0887\"], [0.1111111111111111, \"#46039f\"], [0.2222222222222222, \"#7201a8\"], [0.3333333333333333, \"#9c179e\"], [0.4444444444444444, \"#bd3786\"], [0.5555555555555556, \"#d8576b\"], [0.6666666666666666, \"#ed7953\"], [0.7777777777777778, \"#fb9f3a\"], [0.8888888888888888, \"#fdca26\"], [1.0, \"#f0f921\"]], \"type\": \"heatmapgl\"}], \"histogram\": [{\"marker\": {\"colorbar\": {\"outlinewidth\": 0, \"ticks\": \"\"}}, \"type\": \"histogram\"}], \"histogram2d\": [{\"colorbar\": {\"outlinewidth\": 0, \"ticks\": \"\"}, \"colorscale\": [[0.0, \"#0d0887\"], [0.1111111111111111, \"#46039f\"], [0.2222222222222222, \"#7201a8\"], [0.3333333333333333, \"#9c179e\"], [0.4444444444444444, \"#bd3786\"], [0.5555555555555556, \"#d8576b\"], [0.6666666666666666, \"#ed7953\"], [0.7777777777777778, \"#fb9f3a\"], [0.8888888888888888, \"#fdca26\"], [1.0, \"#f0f921\"]], \"type\": \"histogram2d\"}], \"histogram2dcontour\": [{\"colorbar\": {\"outlinewidth\": 0, \"ticks\": \"\"}, \"colorscale\": [[0.0, \"#0d0887\"], [0.1111111111111111, \"#46039f\"], [0.2222222222222222, \"#7201a8\"], [0.3333333333333333, \"#9c179e\"], [0.4444444444444444, \"#bd3786\"], [0.5555555555555556, \"#d8576b\"], [0.6666666666666666, \"#ed7953\"], [0.7777777777777778, \"#fb9f3a\"], [0.8888888888888888, \"#fdca26\"], [1.0, \"#f0f921\"]], \"type\": \"histogram2dcontour\"}], \"mesh3d\": [{\"colorbar\": {\"outlinewidth\": 0, \"ticks\": \"\"}, \"type\": \"mesh3d\"}], \"parcoords\": [{\"line\": {\"colorbar\": {\"outlinewidth\": 0, \"ticks\": \"\"}}, \"type\": \"parcoords\"}], \"pie\": [{\"automargin\": true, \"type\": \"pie\"}], \"scatter\": [{\"marker\": {\"colorbar\": {\"outlinewidth\": 0, \"ticks\": \"\"}}, \"type\": \"scatter\"}], \"scatter3d\": [{\"line\": {\"colorbar\": {\"outlinewidth\": 0, \"ticks\": \"\"}}, \"marker\": {\"colorbar\": {\"outlinewidth\": 0, \"ticks\": \"\"}}, \"type\": \"scatter3d\"}], \"scattercarpet\": [{\"marker\": {\"colorbar\": {\"outlinewidth\": 0, \"ticks\": \"\"}}, \"type\": \"scattercarpet\"}], \"scattergeo\": [{\"marker\": {\"colorbar\": {\"outlinewidth\": 0, \"ticks\": \"\"}}, \"type\": \"scattergeo\"}], \"scattergl\": [{\"marker\": {\"colorbar\": {\"outlinewidth\": 0, \"ticks\": \"\"}}, \"type\": \"scattergl\"}], \"scattermapbox\": [{\"marker\": {\"colorbar\": {\"outlinewidth\": 0, \"ticks\": \"\"}}, \"type\": \"scattermapbox\"}], \"scatterpolar\": [{\"marker\": {\"colorbar\": {\"outlinewidth\": 0, \"ticks\": \"\"}}, \"type\": \"scatterpolar\"}], \"scatterpolargl\": [{\"marker\": {\"colorbar\": {\"outlinewidth\": 0, \"ticks\": \"\"}}, \"type\": \"scatterpolargl\"}], \"scatterternary\": [{\"marker\": {\"colorbar\": {\"outlinewidth\": 0, \"ticks\": \"\"}}, \"type\": \"scatterternary\"}], \"surface\": [{\"colorbar\": {\"outlinewidth\": 0, \"ticks\": \"\"}, \"colorscale\": [[0.0, \"#0d0887\"], [0.1111111111111111, \"#46039f\"], [0.2222222222222222, \"#7201a8\"], [0.3333333333333333, \"#9c179e\"], [0.4444444444444444, \"#bd3786\"], [0.5555555555555556, \"#d8576b\"], [0.6666666666666666, \"#ed7953\"], [0.7777777777777778, \"#fb9f3a\"], [0.8888888888888888, \"#fdca26\"], [1.0, \"#f0f921\"]], \"type\": \"surface\"}], \"table\": [{\"cells\": {\"fill\": {\"color\": \"#EBF0F8\"}, \"line\": {\"color\": \"white\"}}, \"header\": {\"fill\": {\"color\": \"#C8D4E3\"}, \"line\": {\"color\": \"white\"}}, \"type\": \"table\"}]}, \"layout\": {\"annotationdefaults\": {\"arrowcolor\": \"#2a3f5f\", \"arrowhead\": 0, \"arrowwidth\": 1}, \"coloraxis\": {\"colorbar\": {\"outlinewidth\": 0, \"ticks\": \"\"}}, \"colorscale\": {\"diverging\": [[0, \"#8e0152\"], [0.1, \"#c51b7d\"], [0.2, \"#de77ae\"], [0.3, \"#f1b6da\"], [0.4, \"#fde0ef\"], [0.5, \"#f7f7f7\"], [0.6, \"#e6f5d0\"], [0.7, \"#b8e186\"], [0.8, \"#7fbc41\"], [0.9, \"#4d9221\"], [1, \"#276419\"]], \"sequential\": [[0.0, \"#0d0887\"], [0.1111111111111111, \"#46039f\"], [0.2222222222222222, \"#7201a8\"], [0.3333333333333333, \"#9c179e\"], [0.4444444444444444, \"#bd3786\"], [0.5555555555555556, \"#d8576b\"], [0.6666666666666666, \"#ed7953\"], [0.7777777777777778, \"#fb9f3a\"], [0.8888888888888888, \"#fdca26\"], [1.0, \"#f0f921\"]], \"sequentialminus\": [[0.0, \"#0d0887\"], [0.1111111111111111, \"#46039f\"], [0.2222222222222222, \"#7201a8\"], [0.3333333333333333, \"#9c179e\"], [0.4444444444444444, \"#bd3786\"], [0.5555555555555556, \"#d8576b\"], [0.6666666666666666, \"#ed7953\"], [0.7777777777777778, \"#fb9f3a\"], [0.8888888888888888, \"#fdca26\"], [1.0, \"#f0f921\"]]}, \"colorway\": [\"#636efa\", \"#EF553B\", \"#00cc96\", \"#ab63fa\", \"#FFA15A\", \"#19d3f3\", \"#FF6692\", \"#B6E880\", \"#FF97FF\", \"#FECB52\"], \"font\": {\"color\": \"#2a3f5f\"}, \"geo\": {\"bgcolor\": \"white\", \"lakecolor\": \"white\", \"landcolor\": \"#E5ECF6\", \"showlakes\": true, \"showland\": true, \"subunitcolor\": \"white\"}, \"hoverlabel\": {\"align\": \"left\"}, \"hovermode\": \"closest\", \"mapbox\": {\"style\": \"light\"}, \"paper_bgcolor\": \"white\", \"plot_bgcolor\": \"#E5ECF6\", \"polar\": {\"angularaxis\": {\"gridcolor\": \"white\", \"linecolor\": \"white\", \"ticks\": \"\"}, \"bgcolor\": \"#E5ECF6\", \"radialaxis\": {\"gridcolor\": \"white\", \"linecolor\": \"white\", \"ticks\": \"\"}}, \"scene\": {\"xaxis\": {\"backgroundcolor\": \"#E5ECF6\", \"gridcolor\": \"white\", \"gridwidth\": 2, \"linecolor\": \"white\", \"showbackground\": true, \"ticks\": \"\", \"zerolinecolor\": \"white\"}, \"yaxis\": {\"backgroundcolor\": \"#E5ECF6\", \"gridcolor\": \"white\", \"gridwidth\": 2, \"linecolor\": \"white\", \"showbackground\": true, \"ticks\": \"\", \"zerolinecolor\": \"white\"}, \"zaxis\": {\"backgroundcolor\": \"#E5ECF6\", \"gridcolor\": \"white\", \"gridwidth\": 2, \"linecolor\": \"white\", \"showbackground\": true, \"ticks\": \"\", \"zerolinecolor\": \"white\"}}, \"shapedefaults\": {\"line\": {\"color\": \"#2a3f5f\"}}, \"ternary\": {\"aaxis\": {\"gridcolor\": \"white\", \"linecolor\": \"white\", \"ticks\": \"\"}, \"baxis\": {\"gridcolor\": \"white\", \"linecolor\": \"white\", \"ticks\": \"\"}, \"bgcolor\": \"#E5ECF6\", \"caxis\": {\"gridcolor\": \"white\", \"linecolor\": \"white\", \"ticks\": \"\"}}, \"title\": {\"x\": 0.05}, \"xaxis\": {\"automargin\": true, \"gridcolor\": \"white\", \"linecolor\": \"white\", \"ticks\": \"\", \"title\": {\"standoff\": 15}, \"zerolinecolor\": \"white\", \"zerolinewidth\": 2}, \"yaxis\": {\"automargin\": true, \"gridcolor\": \"white\", \"linecolor\": \"white\", \"ticks\": \"\", \"title\": {\"standoff\": 15}, \"zerolinecolor\": \"white\", \"zerolinewidth\": 2}}}, \"title\": {\"font\": {\"color\": \"#4D5663\"}, \"text\": \"cum returns per filing dates by jaccard_sim \"}, \"xaxis\": {\"gridcolor\": \"#E1E5ED\", \"showgrid\": true, \"tickfont\": {\"color\": \"#4D5663\"}, \"title\": {\"font\": {\"color\": \"#4D5663\"}, \"text\": \"days\"}, \"zerolinecolor\": \"#E1E5ED\"}, \"yaxis\": {\"gridcolor\": \"#E1E5ED\", \"showgrid\": true, \"tickfont\": {\"color\": \"#4D5663\"}, \"title\": {\"font\": {\"color\": \"#4D5663\"}, \"text\": \"returns\"}, \"zerolinecolor\": \"#E1E5ED\"}},\n",
       "                        {\"showLink\": true, \"linkText\": \"Export to plot.ly\", \"plotlyServerURL\": \"https://plot.ly\", \"responsive\": true}\n",
       "                    ).then(function(){\n",
       "                            \n",
       "var gd = document.getElementById('bd17fe96-0e37-4710-b5e2-19db3c30691a');\n",
       "var x = new MutationObserver(function (mutations, observer) {{\n",
       "        var display = window.getComputedStyle(gd).display;\n",
       "        if (!display || display === 'none') {{\n",
       "            console.log([gd, 'removed!']);\n",
       "            Plotly.purge(gd);\n",
       "            observer.disconnect();\n",
       "        }}\n",
       "}});\n",
       "\n",
       "// Listen for the removal of the full notebook cells\n",
       "var notebookContainer = gd.closest('#notebook-container');\n",
       "if (notebookContainer) {{\n",
       "    x.observe(notebookContainer, {childList: true});\n",
       "}}\n",
       "\n",
       "// Listen for the clearing of the current output cell\n",
       "var outputEl = gd.closest('.output');\n",
       "if (outputEl) {{\n",
       "    x.observe(outputEl, {childList: true});\n",
       "}}\n",
       "\n",
       "                        })\n",
       "                };\n",
       "                });\n",
       "            </script>\n",
       "        </div>"
      ]
     },
     "metadata": {},
     "output_type": "display_data"
    }
   ],
   "source": [
    "return_jaccard.iplot(kind='line',title = 'cum returns per filing dates by jaccard_sim ',xTitle = 'days',yTitle='returns')"
   ]
  },
  {
   "cell_type": "code",
   "execution_count": 49,
   "metadata": {},
   "outputs": [
    {
     "data": {
      "application/vnd.plotly.v1+json": {
       "config": {
        "linkText": "Export to plot.ly",
        "plotlyServerURL": "https://plot.ly",
        "showLink": true
       },
       "data": [
        {
         "line": {
          "color": "rgba(255, 153, 51, 1.0)",
          "dash": "solid",
          "shape": "linear",
          "width": 1.3
         },
         "mode": "lines",
         "name": "Q1",
         "text": "",
         "type": "scatter",
         "x": [
          "20 days",
          "40 days",
          "50 days",
          "60 days",
          "100 days",
          "120 days"
         ],
         "y": [
          1.217419549598383,
          -0.7054291783145848,
          -1.4795566752893916,
          -2.65117224204845,
          -1.9420131621565428,
          1.1728417991615634
         ]
        },
        {
         "line": {
          "color": "rgba(55, 128, 191, 1.0)",
          "dash": "solid",
          "shape": "linear",
          "width": 1.3
         },
         "mode": "lines",
         "name": "Q2",
         "text": "",
         "type": "scatter",
         "x": [
          "20 days",
          "40 days",
          "50 days",
          "60 days",
          "100 days",
          "120 days"
         ],
         "y": [
          2.864054794010303,
          1.0125941272013688,
          1.148196701135403,
          0.756747527497252,
          -2.4248056758589143,
          1.5900110605590299
         ]
        },
        {
         "line": {
          "color": "rgba(50, 171, 96, 1.0)",
          "dash": "solid",
          "shape": "linear",
          "width": 1.3
         },
         "mode": "lines",
         "name": "Q3",
         "text": "",
         "type": "scatter",
         "x": [
          "20 days",
          "40 days",
          "50 days",
          "60 days",
          "100 days",
          "120 days"
         ],
         "y": [
          1.4087863041612354,
          1.162300120124811,
          0.8432478300666093,
          -0.016411746441319593,
          -2.4185028948192793,
          0.1315344874702305
         ]
        },
        {
         "line": {
          "color": "rgba(128, 0, 128, 1.0)",
          "dash": "solid",
          "shape": "linear",
          "width": 1.3
         },
         "mode": "lines",
         "name": "Q4",
         "text": "",
         "type": "scatter",
         "x": [
          "20 days",
          "40 days",
          "50 days",
          "60 days",
          "100 days",
          "120 days"
         ],
         "y": [
          2.2192449759516863,
          2.2975341284249025,
          2.2129630062325845,
          0.7080674017934182,
          -0.6961499383029709,
          2.5158886038521633
         ]
        },
        {
         "line": {
          "color": "rgba(219, 64, 82, 1.0)",
          "dash": "solid",
          "shape": "linear",
          "width": 1.3
         },
         "mode": "lines",
         "name": "Q5",
         "text": "",
         "type": "scatter",
         "x": [
          "20 days",
          "40 days",
          "50 days",
          "60 days",
          "100 days",
          "120 days"
         ],
         "y": [
          3.375963895439571,
          2.908659385126878,
          2.7371966279363056,
          1.2802906106446654,
          0.23781149990488382,
          2.1569456577534143
         ]
        },
        {
         "line": {
          "color": "rgba(0, 128, 128, 1.0)",
          "dash": "solid",
          "shape": "linear",
          "width": 1.3
         },
         "mode": "lines",
         "name": "Q5-Q1",
         "text": "",
         "type": "scatter",
         "x": [
          "20 days",
          "40 days",
          "50 days",
          "60 days",
          "100 days",
          "120 days"
         ],
         "y": [
          2.158544345841188,
          3.614088563441463,
          4.216753303225697,
          3.9314628526931155,
          2.1798246620614266,
          0.9841038585918508
         ]
        }
       ],
       "layout": {
        "autosize": true,
        "legend": {
         "bgcolor": "#F5F6F9",
         "font": {
          "color": "#4D5663"
         }
        },
        "paper_bgcolor": "#F5F6F9",
        "plot_bgcolor": "#F5F6F9",
        "template": {
         "data": {
          "bar": [
           {
            "error_x": {
             "color": "#2a3f5f"
            },
            "error_y": {
             "color": "#2a3f5f"
            },
            "marker": {
             "line": {
              "color": "#E5ECF6",
              "width": 0.5
             }
            },
            "type": "bar"
           }
          ],
          "barpolar": [
           {
            "marker": {
             "line": {
              "color": "#E5ECF6",
              "width": 0.5
             }
            },
            "type": "barpolar"
           }
          ],
          "carpet": [
           {
            "aaxis": {
             "endlinecolor": "#2a3f5f",
             "gridcolor": "white",
             "linecolor": "white",
             "minorgridcolor": "white",
             "startlinecolor": "#2a3f5f"
            },
            "baxis": {
             "endlinecolor": "#2a3f5f",
             "gridcolor": "white",
             "linecolor": "white",
             "minorgridcolor": "white",
             "startlinecolor": "#2a3f5f"
            },
            "type": "carpet"
           }
          ],
          "choropleth": [
           {
            "colorbar": {
             "outlinewidth": 0,
             "ticks": ""
            },
            "type": "choropleth"
           }
          ],
          "contour": [
           {
            "colorbar": {
             "outlinewidth": 0,
             "ticks": ""
            },
            "colorscale": [
             [
              0,
              "#0d0887"
             ],
             [
              0.1111111111111111,
              "#46039f"
             ],
             [
              0.2222222222222222,
              "#7201a8"
             ],
             [
              0.3333333333333333,
              "#9c179e"
             ],
             [
              0.4444444444444444,
              "#bd3786"
             ],
             [
              0.5555555555555556,
              "#d8576b"
             ],
             [
              0.6666666666666666,
              "#ed7953"
             ],
             [
              0.7777777777777778,
              "#fb9f3a"
             ],
             [
              0.8888888888888888,
              "#fdca26"
             ],
             [
              1,
              "#f0f921"
             ]
            ],
            "type": "contour"
           }
          ],
          "contourcarpet": [
           {
            "colorbar": {
             "outlinewidth": 0,
             "ticks": ""
            },
            "type": "contourcarpet"
           }
          ],
          "heatmap": [
           {
            "colorbar": {
             "outlinewidth": 0,
             "ticks": ""
            },
            "colorscale": [
             [
              0,
              "#0d0887"
             ],
             [
              0.1111111111111111,
              "#46039f"
             ],
             [
              0.2222222222222222,
              "#7201a8"
             ],
             [
              0.3333333333333333,
              "#9c179e"
             ],
             [
              0.4444444444444444,
              "#bd3786"
             ],
             [
              0.5555555555555556,
              "#d8576b"
             ],
             [
              0.6666666666666666,
              "#ed7953"
             ],
             [
              0.7777777777777778,
              "#fb9f3a"
             ],
             [
              0.8888888888888888,
              "#fdca26"
             ],
             [
              1,
              "#f0f921"
             ]
            ],
            "type": "heatmap"
           }
          ],
          "heatmapgl": [
           {
            "colorbar": {
             "outlinewidth": 0,
             "ticks": ""
            },
            "colorscale": [
             [
              0,
              "#0d0887"
             ],
             [
              0.1111111111111111,
              "#46039f"
             ],
             [
              0.2222222222222222,
              "#7201a8"
             ],
             [
              0.3333333333333333,
              "#9c179e"
             ],
             [
              0.4444444444444444,
              "#bd3786"
             ],
             [
              0.5555555555555556,
              "#d8576b"
             ],
             [
              0.6666666666666666,
              "#ed7953"
             ],
             [
              0.7777777777777778,
              "#fb9f3a"
             ],
             [
              0.8888888888888888,
              "#fdca26"
             ],
             [
              1,
              "#f0f921"
             ]
            ],
            "type": "heatmapgl"
           }
          ],
          "histogram": [
           {
            "marker": {
             "colorbar": {
              "outlinewidth": 0,
              "ticks": ""
             }
            },
            "type": "histogram"
           }
          ],
          "histogram2d": [
           {
            "colorbar": {
             "outlinewidth": 0,
             "ticks": ""
            },
            "colorscale": [
             [
              0,
              "#0d0887"
             ],
             [
              0.1111111111111111,
              "#46039f"
             ],
             [
              0.2222222222222222,
              "#7201a8"
             ],
             [
              0.3333333333333333,
              "#9c179e"
             ],
             [
              0.4444444444444444,
              "#bd3786"
             ],
             [
              0.5555555555555556,
              "#d8576b"
             ],
             [
              0.6666666666666666,
              "#ed7953"
             ],
             [
              0.7777777777777778,
              "#fb9f3a"
             ],
             [
              0.8888888888888888,
              "#fdca26"
             ],
             [
              1,
              "#f0f921"
             ]
            ],
            "type": "histogram2d"
           }
          ],
          "histogram2dcontour": [
           {
            "colorbar": {
             "outlinewidth": 0,
             "ticks": ""
            },
            "colorscale": [
             [
              0,
              "#0d0887"
             ],
             [
              0.1111111111111111,
              "#46039f"
             ],
             [
              0.2222222222222222,
              "#7201a8"
             ],
             [
              0.3333333333333333,
              "#9c179e"
             ],
             [
              0.4444444444444444,
              "#bd3786"
             ],
             [
              0.5555555555555556,
              "#d8576b"
             ],
             [
              0.6666666666666666,
              "#ed7953"
             ],
             [
              0.7777777777777778,
              "#fb9f3a"
             ],
             [
              0.8888888888888888,
              "#fdca26"
             ],
             [
              1,
              "#f0f921"
             ]
            ],
            "type": "histogram2dcontour"
           }
          ],
          "mesh3d": [
           {
            "colorbar": {
             "outlinewidth": 0,
             "ticks": ""
            },
            "type": "mesh3d"
           }
          ],
          "parcoords": [
           {
            "line": {
             "colorbar": {
              "outlinewidth": 0,
              "ticks": ""
             }
            },
            "type": "parcoords"
           }
          ],
          "pie": [
           {
            "automargin": true,
            "type": "pie"
           }
          ],
          "scatter": [
           {
            "marker": {
             "colorbar": {
              "outlinewidth": 0,
              "ticks": ""
             }
            },
            "type": "scatter"
           }
          ],
          "scatter3d": [
           {
            "line": {
             "colorbar": {
              "outlinewidth": 0,
              "ticks": ""
             }
            },
            "marker": {
             "colorbar": {
              "outlinewidth": 0,
              "ticks": ""
             }
            },
            "type": "scatter3d"
           }
          ],
          "scattercarpet": [
           {
            "marker": {
             "colorbar": {
              "outlinewidth": 0,
              "ticks": ""
             }
            },
            "type": "scattercarpet"
           }
          ],
          "scattergeo": [
           {
            "marker": {
             "colorbar": {
              "outlinewidth": 0,
              "ticks": ""
             }
            },
            "type": "scattergeo"
           }
          ],
          "scattergl": [
           {
            "marker": {
             "colorbar": {
              "outlinewidth": 0,
              "ticks": ""
             }
            },
            "type": "scattergl"
           }
          ],
          "scattermapbox": [
           {
            "marker": {
             "colorbar": {
              "outlinewidth": 0,
              "ticks": ""
             }
            },
            "type": "scattermapbox"
           }
          ],
          "scatterpolar": [
           {
            "marker": {
             "colorbar": {
              "outlinewidth": 0,
              "ticks": ""
             }
            },
            "type": "scatterpolar"
           }
          ],
          "scatterpolargl": [
           {
            "marker": {
             "colorbar": {
              "outlinewidth": 0,
              "ticks": ""
             }
            },
            "type": "scatterpolargl"
           }
          ],
          "scatterternary": [
           {
            "marker": {
             "colorbar": {
              "outlinewidth": 0,
              "ticks": ""
             }
            },
            "type": "scatterternary"
           }
          ],
          "surface": [
           {
            "colorbar": {
             "outlinewidth": 0,
             "ticks": ""
            },
            "colorscale": [
             [
              0,
              "#0d0887"
             ],
             [
              0.1111111111111111,
              "#46039f"
             ],
             [
              0.2222222222222222,
              "#7201a8"
             ],
             [
              0.3333333333333333,
              "#9c179e"
             ],
             [
              0.4444444444444444,
              "#bd3786"
             ],
             [
              0.5555555555555556,
              "#d8576b"
             ],
             [
              0.6666666666666666,
              "#ed7953"
             ],
             [
              0.7777777777777778,
              "#fb9f3a"
             ],
             [
              0.8888888888888888,
              "#fdca26"
             ],
             [
              1,
              "#f0f921"
             ]
            ],
            "type": "surface"
           }
          ],
          "table": [
           {
            "cells": {
             "fill": {
              "color": "#EBF0F8"
             },
             "line": {
              "color": "white"
             }
            },
            "header": {
             "fill": {
              "color": "#C8D4E3"
             },
             "line": {
              "color": "white"
             }
            },
            "type": "table"
           }
          ]
         },
         "layout": {
          "annotationdefaults": {
           "arrowcolor": "#2a3f5f",
           "arrowhead": 0,
           "arrowwidth": 1
          },
          "coloraxis": {
           "colorbar": {
            "outlinewidth": 0,
            "ticks": ""
           }
          },
          "colorscale": {
           "diverging": [
            [
             0,
             "#8e0152"
            ],
            [
             0.1,
             "#c51b7d"
            ],
            [
             0.2,
             "#de77ae"
            ],
            [
             0.3,
             "#f1b6da"
            ],
            [
             0.4,
             "#fde0ef"
            ],
            [
             0.5,
             "#f7f7f7"
            ],
            [
             0.6,
             "#e6f5d0"
            ],
            [
             0.7,
             "#b8e186"
            ],
            [
             0.8,
             "#7fbc41"
            ],
            [
             0.9,
             "#4d9221"
            ],
            [
             1,
             "#276419"
            ]
           ],
           "sequential": [
            [
             0,
             "#0d0887"
            ],
            [
             0.1111111111111111,
             "#46039f"
            ],
            [
             0.2222222222222222,
             "#7201a8"
            ],
            [
             0.3333333333333333,
             "#9c179e"
            ],
            [
             0.4444444444444444,
             "#bd3786"
            ],
            [
             0.5555555555555556,
             "#d8576b"
            ],
            [
             0.6666666666666666,
             "#ed7953"
            ],
            [
             0.7777777777777778,
             "#fb9f3a"
            ],
            [
             0.8888888888888888,
             "#fdca26"
            ],
            [
             1,
             "#f0f921"
            ]
           ],
           "sequentialminus": [
            [
             0,
             "#0d0887"
            ],
            [
             0.1111111111111111,
             "#46039f"
            ],
            [
             0.2222222222222222,
             "#7201a8"
            ],
            [
             0.3333333333333333,
             "#9c179e"
            ],
            [
             0.4444444444444444,
             "#bd3786"
            ],
            [
             0.5555555555555556,
             "#d8576b"
            ],
            [
             0.6666666666666666,
             "#ed7953"
            ],
            [
             0.7777777777777778,
             "#fb9f3a"
            ],
            [
             0.8888888888888888,
             "#fdca26"
            ],
            [
             1,
             "#f0f921"
            ]
           ]
          },
          "colorway": [
           "#636efa",
           "#EF553B",
           "#00cc96",
           "#ab63fa",
           "#FFA15A",
           "#19d3f3",
           "#FF6692",
           "#B6E880",
           "#FF97FF",
           "#FECB52"
          ],
          "font": {
           "color": "#2a3f5f"
          },
          "geo": {
           "bgcolor": "white",
           "lakecolor": "white",
           "landcolor": "#E5ECF6",
           "showlakes": true,
           "showland": true,
           "subunitcolor": "white"
          },
          "hoverlabel": {
           "align": "left"
          },
          "hovermode": "closest",
          "mapbox": {
           "style": "light"
          },
          "paper_bgcolor": "white",
          "plot_bgcolor": "#E5ECF6",
          "polar": {
           "angularaxis": {
            "gridcolor": "white",
            "linecolor": "white",
            "ticks": ""
           },
           "bgcolor": "#E5ECF6",
           "radialaxis": {
            "gridcolor": "white",
            "linecolor": "white",
            "ticks": ""
           }
          },
          "scene": {
           "xaxis": {
            "backgroundcolor": "#E5ECF6",
            "gridcolor": "white",
            "gridwidth": 2,
            "linecolor": "white",
            "showbackground": true,
            "ticks": "",
            "zerolinecolor": "white"
           },
           "yaxis": {
            "backgroundcolor": "#E5ECF6",
            "gridcolor": "white",
            "gridwidth": 2,
            "linecolor": "white",
            "showbackground": true,
            "ticks": "",
            "zerolinecolor": "white"
           },
           "zaxis": {
            "backgroundcolor": "#E5ECF6",
            "gridcolor": "white",
            "gridwidth": 2,
            "linecolor": "white",
            "showbackground": true,
            "ticks": "",
            "zerolinecolor": "white"
           }
          },
          "shapedefaults": {
           "line": {
            "color": "#2a3f5f"
           }
          },
          "ternary": {
           "aaxis": {
            "gridcolor": "white",
            "linecolor": "white",
            "ticks": ""
           },
           "baxis": {
            "gridcolor": "white",
            "linecolor": "white",
            "ticks": ""
           },
           "bgcolor": "#E5ECF6",
           "caxis": {
            "gridcolor": "white",
            "linecolor": "white",
            "ticks": ""
           }
          },
          "title": {
           "x": 0.05
          },
          "xaxis": {
           "automargin": true,
           "gridcolor": "white",
           "linecolor": "white",
           "ticks": "",
           "title": {
            "standoff": 15
           },
           "zerolinecolor": "white",
           "zerolinewidth": 2
          },
          "yaxis": {
           "automargin": true,
           "gridcolor": "white",
           "linecolor": "white",
           "ticks": "",
           "title": {
            "standoff": 15
           },
           "zerolinecolor": "white",
           "zerolinewidth": 2
          }
         }
        },
        "title": {
         "font": {
          "color": "#4D5663"
         },
         "text": "cum returns per filing dates by cosine_sim"
        },
        "xaxis": {
         "autorange": true,
         "gridcolor": "#E1E5ED",
         "range": [
          0,
          5
         ],
         "showgrid": true,
         "tickfont": {
          "color": "#4D5663"
         },
         "title": {
          "font": {
           "color": "#4D5663"
          },
          "text": "days"
         },
         "type": "category",
         "zerolinecolor": "#E1E5ED"
        },
        "yaxis": {
         "autorange": true,
         "gridcolor": "#E1E5ED",
         "range": [
          -3.032723661230347,
          4.598304722407594
         ],
         "showgrid": true,
         "tickfont": {
          "color": "#4D5663"
         },
         "title": {
          "font": {
           "color": "#4D5663"
          },
          "text": "returns"
         },
         "type": "linear",
         "zerolinecolor": "#E1E5ED"
        }
       }
      },
      "image/png": "[encoded data removed]",
      "text/html": [
       "<div>\n",
       "        \n",
       "        \n",
       "            <div id=\"af5d7e5b-fe4a-486e-af35-347819a2cd2c\" class=\"plotly-graph-div\" style=\"height:525px; width:100%;\"></div>\n",
       "            <script type=\"text/javascript\">\n",
       "                require([\"plotly\"], function(Plotly) {\n",
       "                    window.PLOTLYENV=window.PLOTLYENV || {};\n",
       "                    window.PLOTLYENV.BASE_URL='https://plot.ly';\n",
       "                    \n",
       "                if (document.getElementById(\"af5d7e5b-fe4a-486e-af35-347819a2cd2c\")) {\n",
       "                    Plotly.newPlot(\n",
       "                        'af5d7e5b-fe4a-486e-af35-347819a2cd2c',\n",
       "                        [{\"line\": {\"color\": \"rgba(255, 153, 51, 1.0)\", \"dash\": \"solid\", \"shape\": \"linear\", \"width\": 1.3}, \"mode\": \"lines\", \"name\": \"Q1\", \"text\": \"\", \"type\": \"scatter\", \"x\": [\"20 days\", \"40 days\", \"50 days\", \"60 days\", \"100 days\", \"120 days\"], \"y\": [1.217419549598383, -0.7054291783145848, -1.4795566752893916, -2.65117224204845, -1.9420131621565428, 1.1728417991615634]}, {\"line\": {\"color\": \"rgba(55, 128, 191, 1.0)\", \"dash\": \"solid\", \"shape\": \"linear\", \"width\": 1.3}, \"mode\": \"lines\", \"name\": \"Q2\", \"text\": \"\", \"type\": \"scatter\", \"x\": [\"20 days\", \"40 days\", \"50 days\", \"60 days\", \"100 days\", \"120 days\"], \"y\": [2.864054794010303, 1.0125941272013688, 1.148196701135403, 0.756747527497252, -2.4248056758589143, 1.5900110605590299]}, {\"line\": {\"color\": \"rgba(50, 171, 96, 1.0)\", \"dash\": \"solid\", \"shape\": \"linear\", \"width\": 1.3}, \"mode\": \"lines\", \"name\": \"Q3\", \"text\": \"\", \"type\": \"scatter\", \"x\": [\"20 days\", \"40 days\", \"50 days\", \"60 days\", \"100 days\", \"120 days\"], \"y\": [1.4087863041612354, 1.162300120124811, 0.8432478300666093, -0.016411746441319593, -2.4185028948192793, 0.1315344874702305]}, {\"line\": {\"color\": \"rgba(128, 0, 128, 1.0)\", \"dash\": \"solid\", \"shape\": \"linear\", \"width\": 1.3}, \"mode\": \"lines\", \"name\": \"Q4\", \"text\": \"\", \"type\": \"scatter\", \"x\": [\"20 days\", \"40 days\", \"50 days\", \"60 days\", \"100 days\", \"120 days\"], \"y\": [2.2192449759516863, 2.2975341284249025, 2.2129630062325845, 0.7080674017934182, -0.6961499383029709, 2.5158886038521633]}, {\"line\": {\"color\": \"rgba(219, 64, 82, 1.0)\", \"dash\": \"solid\", \"shape\": \"linear\", \"width\": 1.3}, \"mode\": \"lines\", \"name\": \"Q5\", \"text\": \"\", \"type\": \"scatter\", \"x\": [\"20 days\", \"40 days\", \"50 days\", \"60 days\", \"100 days\", \"120 days\"], \"y\": [3.375963895439571, 2.908659385126878, 2.7371966279363056, 1.2802906106446654, 0.23781149990488382, 2.1569456577534143]}, {\"line\": {\"color\": \"rgba(0, 128, 128, 1.0)\", \"dash\": \"solid\", \"shape\": \"linear\", \"width\": 1.3}, \"mode\": \"lines\", \"name\": \"Q5-Q1\", \"text\": \"\", \"type\": \"scatter\", \"x\": [\"20 days\", \"40 days\", \"50 days\", \"60 days\", \"100 days\", \"120 days\"], \"y\": [2.158544345841188, 3.614088563441463, 4.216753303225697, 3.9314628526931155, 2.1798246620614266, 0.9841038585918508]}],\n",
       "                        {\"legend\": {\"bgcolor\": \"#F5F6F9\", \"font\": {\"color\": \"#4D5663\"}}, \"paper_bgcolor\": \"#F5F6F9\", \"plot_bgcolor\": \"#F5F6F9\", \"template\": {\"data\": {\"bar\": [{\"error_x\": {\"color\": \"#2a3f5f\"}, \"error_y\": {\"color\": \"#2a3f5f\"}, \"marker\": {\"line\": {\"color\": \"#E5ECF6\", \"width\": 0.5}}, \"type\": \"bar\"}], \"barpolar\": [{\"marker\": {\"line\": {\"color\": \"#E5ECF6\", \"width\": 0.5}}, \"type\": \"barpolar\"}], \"carpet\": [{\"aaxis\": {\"endlinecolor\": \"#2a3f5f\", \"gridcolor\": \"white\", \"linecolor\": \"white\", \"minorgridcolor\": \"white\", \"startlinecolor\": \"#2a3f5f\"}, \"baxis\": {\"endlinecolor\": \"#2a3f5f\", \"gridcolor\": \"white\", \"linecolor\": \"white\", \"minorgridcolor\": \"white\", \"startlinecolor\": \"#2a3f5f\"}, \"type\": \"carpet\"}], \"choropleth\": [{\"colorbar\": {\"outlinewidth\": 0, \"ticks\": \"\"}, \"type\": \"choropleth\"}], \"contour\": [{\"colorbar\": {\"outlinewidth\": 0, \"ticks\": \"\"}, \"colorscale\": [[0.0, \"#0d0887\"], [0.1111111111111111, \"#46039f\"], [0.2222222222222222, \"#7201a8\"], [0.3333333333333333, \"#9c179e\"], [0.4444444444444444, \"#bd3786\"], [0.5555555555555556, \"#d8576b\"], [0.6666666666666666, \"#ed7953\"], [0.7777777777777778, \"#fb9f3a\"], [0.8888888888888888, \"#fdca26\"], [1.0, \"#f0f921\"]], \"type\": \"contour\"}], \"contourcarpet\": [{\"colorbar\": {\"outlinewidth\": 0, \"ticks\": \"\"}, \"type\": \"contourcarpet\"}], \"heatmap\": [{\"colorbar\": {\"outlinewidth\": 0, \"ticks\": \"\"}, \"colorscale\": [[0.0, \"#0d0887\"], [0.1111111111111111, \"#46039f\"], [0.2222222222222222, \"#7201a8\"], [0.3333333333333333, \"#9c179e\"], [0.4444444444444444, \"#bd3786\"], [0.5555555555555556, \"#d8576b\"], [0.6666666666666666, \"#ed7953\"], [0.7777777777777778, \"#fb9f3a\"], [0.8888888888888888, \"#fdca26\"], [1.0, \"#f0f921\"]], \"type\": \"heatmap\"}], \"heatmapgl\": [{\"colorbar\": {\"outlinewidth\": 0, \"ticks\": \"\"}, \"colorscale\": [[0.0, \"#0d0887\"], [0.1111111111111111, \"#46039f\"], [0.2222222222222222, \"#7201a8\"], [0.3333333333333333, \"#9c179e\"], [0.4444444444444444, \"#bd3786\"], [0.5555555555555556, \"#d8576b\"], [0.6666666666666666, \"#ed7953\"], [0.7777777777777778, \"#fb9f3a\"], [0.8888888888888888, \"#fdca26\"], [1.0, \"#f0f921\"]], \"type\": \"heatmapgl\"}], \"histogram\": [{\"marker\": {\"colorbar\": {\"outlinewidth\": 0, \"ticks\": \"\"}}, \"type\": \"histogram\"}], \"histogram2d\": [{\"colorbar\": {\"outlinewidth\": 0, \"ticks\": \"\"}, \"colorscale\": [[0.0, \"#0d0887\"], [0.1111111111111111, \"#46039f\"], [0.2222222222222222, \"#7201a8\"], [0.3333333333333333, \"#9c179e\"], [0.4444444444444444, \"#bd3786\"], [0.5555555555555556, \"#d8576b\"], [0.6666666666666666, \"#ed7953\"], [0.7777777777777778, \"#fb9f3a\"], [0.8888888888888888, \"#fdca26\"], [1.0, \"#f0f921\"]], \"type\": \"histogram2d\"}], \"histogram2dcontour\": [{\"colorbar\": {\"outlinewidth\": 0, \"ticks\": \"\"}, \"colorscale\": [[0.0, \"#0d0887\"], [0.1111111111111111, \"#46039f\"], [0.2222222222222222, \"#7201a8\"], [0.3333333333333333, \"#9c179e\"], [0.4444444444444444, \"#bd3786\"], [0.5555555555555556, \"#d8576b\"], [0.6666666666666666, \"#ed7953\"], [0.7777777777777778, \"#fb9f3a\"], [0.8888888888888888, \"#fdca26\"], [1.0, \"#f0f921\"]], \"type\": \"histogram2dcontour\"}], \"mesh3d\": [{\"colorbar\": {\"outlinewidth\": 0, \"ticks\": \"\"}, \"type\": \"mesh3d\"}], \"parcoords\": [{\"line\": {\"colorbar\": {\"outlinewidth\": 0, \"ticks\": \"\"}}, \"type\": \"parcoords\"}], \"pie\": [{\"automargin\": true, \"type\": \"pie\"}], \"scatter\": [{\"marker\": {\"colorbar\": {\"outlinewidth\": 0, \"ticks\": \"\"}}, \"type\": \"scatter\"}], \"scatter3d\": [{\"line\": {\"colorbar\": {\"outlinewidth\": 0, \"ticks\": \"\"}}, \"marker\": {\"colorbar\": {\"outlinewidth\": 0, \"ticks\": \"\"}}, \"type\": \"scatter3d\"}], \"scattercarpet\": [{\"marker\": {\"colorbar\": {\"outlinewidth\": 0, \"ticks\": \"\"}}, \"type\": \"scattercarpet\"}], \"scattergeo\": [{\"marker\": {\"colorbar\": {\"outlinewidth\": 0, \"ticks\": \"\"}}, \"type\": \"scattergeo\"}], \"scattergl\": [{\"marker\": {\"colorbar\": {\"outlinewidth\": 0, \"ticks\": \"\"}}, \"type\": \"scattergl\"}], \"scattermapbox\": [{\"marker\": {\"colorbar\": {\"outlinewidth\": 0, \"ticks\": \"\"}}, \"type\": \"scattermapbox\"}], \"scatterpolar\": [{\"marker\": {\"colorbar\": {\"outlinewidth\": 0, \"ticks\": \"\"}}, \"type\": \"scatterpolar\"}], \"scatterpolargl\": [{\"marker\": {\"colorbar\": {\"outlinewidth\": 0, \"ticks\": \"\"}}, \"type\": \"scatterpolargl\"}], \"scatterternary\": [{\"marker\": {\"colorbar\": {\"outlinewidth\": 0, \"ticks\": \"\"}}, \"type\": \"scatterternary\"}], \"surface\": [{\"colorbar\": {\"outlinewidth\": 0, \"ticks\": \"\"}, \"colorscale\": [[0.0, \"#0d0887\"], [0.1111111111111111, \"#46039f\"], [0.2222222222222222, \"#7201a8\"], [0.3333333333333333, \"#9c179e\"], [0.4444444444444444, \"#bd3786\"], [0.5555555555555556, \"#d8576b\"], [0.6666666666666666, \"#ed7953\"], [0.7777777777777778, \"#fb9f3a\"], [0.8888888888888888, \"#fdca26\"], [1.0, \"#f0f921\"]], \"type\": \"surface\"}], \"table\": [{\"cells\": {\"fill\": {\"color\": \"#EBF0F8\"}, \"line\": {\"color\": \"white\"}}, \"header\": {\"fill\": {\"color\": \"#C8D4E3\"}, \"line\": {\"color\": \"white\"}}, \"type\": \"table\"}]}, \"layout\": {\"annotationdefaults\": {\"arrowcolor\": \"#2a3f5f\", \"arrowhead\": 0, \"arrowwidth\": 1}, \"coloraxis\": {\"colorbar\": {\"outlinewidth\": 0, \"ticks\": \"\"}}, \"colorscale\": {\"diverging\": [[0, \"#8e0152\"], [0.1, \"#c51b7d\"], [0.2, \"#de77ae\"], [0.3, \"#f1b6da\"], [0.4, \"#fde0ef\"], [0.5, \"#f7f7f7\"], [0.6, \"#e6f5d0\"], [0.7, \"#b8e186\"], [0.8, \"#7fbc41\"], [0.9, \"#4d9221\"], [1, \"#276419\"]], \"sequential\": [[0.0, \"#0d0887\"], [0.1111111111111111, \"#46039f\"], [0.2222222222222222, \"#7201a8\"], [0.3333333333333333, \"#9c179e\"], [0.4444444444444444, \"#bd3786\"], [0.5555555555555556, \"#d8576b\"], [0.6666666666666666, \"#ed7953\"], [0.7777777777777778, \"#fb9f3a\"], [0.8888888888888888, \"#fdca26\"], [1.0, \"#f0f921\"]], \"sequentialminus\": [[0.0, \"#0d0887\"], [0.1111111111111111, \"#46039f\"], [0.2222222222222222, \"#7201a8\"], [0.3333333333333333, \"#9c179e\"], [0.4444444444444444, \"#bd3786\"], [0.5555555555555556, \"#d8576b\"], [0.6666666666666666, \"#ed7953\"], [0.7777777777777778, \"#fb9f3a\"], [0.8888888888888888, \"#fdca26\"], [1.0, \"#f0f921\"]]}, \"colorway\": [\"#636efa\", \"#EF553B\", \"#00cc96\", \"#ab63fa\", \"#FFA15A\", \"#19d3f3\", \"#FF6692\", \"#B6E880\", \"#FF97FF\", \"#FECB52\"], \"font\": {\"color\": \"#2a3f5f\"}, \"geo\": {\"bgcolor\": \"white\", \"lakecolor\": \"white\", \"landcolor\": \"#E5ECF6\", \"showlakes\": true, \"showland\": true, \"subunitcolor\": \"white\"}, \"hoverlabel\": {\"align\": \"left\"}, \"hovermode\": \"closest\", \"mapbox\": {\"style\": \"light\"}, \"paper_bgcolor\": \"white\", \"plot_bgcolor\": \"#E5ECF6\", \"polar\": {\"angularaxis\": {\"gridcolor\": \"white\", \"linecolor\": \"white\", \"ticks\": \"\"}, \"bgcolor\": \"#E5ECF6\", \"radialaxis\": {\"gridcolor\": \"white\", \"linecolor\": \"white\", \"ticks\": \"\"}}, \"scene\": {\"xaxis\": {\"backgroundcolor\": \"#E5ECF6\", \"gridcolor\": \"white\", \"gridwidth\": 2, \"linecolor\": \"white\", \"showbackground\": true, \"ticks\": \"\", \"zerolinecolor\": \"white\"}, \"yaxis\": {\"backgroundcolor\": \"#E5ECF6\", \"gridcolor\": \"white\", \"gridwidth\": 2, \"linecolor\": \"white\", \"showbackground\": true, \"ticks\": \"\", \"zerolinecolor\": \"white\"}, \"zaxis\": {\"backgroundcolor\": \"#E5ECF6\", \"gridcolor\": \"white\", \"gridwidth\": 2, \"linecolor\": \"white\", \"showbackground\": true, \"ticks\": \"\", \"zerolinecolor\": \"white\"}}, \"shapedefaults\": {\"line\": {\"color\": \"#2a3f5f\"}}, \"ternary\": {\"aaxis\": {\"gridcolor\": \"white\", \"linecolor\": \"white\", \"ticks\": \"\"}, \"baxis\": {\"gridcolor\": \"white\", \"linecolor\": \"white\", \"ticks\": \"\"}, \"bgcolor\": \"#E5ECF6\", \"caxis\": {\"gridcolor\": \"white\", \"linecolor\": \"white\", \"ticks\": \"\"}}, \"title\": {\"x\": 0.05}, \"xaxis\": {\"automargin\": true, \"gridcolor\": \"white\", \"linecolor\": \"white\", \"ticks\": \"\", \"title\": {\"standoff\": 15}, \"zerolinecolor\": \"white\", \"zerolinewidth\": 2}, \"yaxis\": {\"automargin\": true, \"gridcolor\": \"white\", \"linecolor\": \"white\", \"ticks\": \"\", \"title\": {\"standoff\": 15}, \"zerolinecolor\": \"white\", \"zerolinewidth\": 2}}}, \"title\": {\"font\": {\"color\": \"#4D5663\"}, \"text\": \"cum returns per filing dates by cosine_sim\"}, \"xaxis\": {\"gridcolor\": \"#E1E5ED\", \"showgrid\": true, \"tickfont\": {\"color\": \"#4D5663\"}, \"title\": {\"font\": {\"color\": \"#4D5663\"}, \"text\": \"days\"}, \"zerolinecolor\": \"#E1E5ED\"}, \"yaxis\": {\"gridcolor\": \"#E1E5ED\", \"showgrid\": true, \"tickfont\": {\"color\": \"#4D5663\"}, \"title\": {\"font\": {\"color\": \"#4D5663\"}, \"text\": \"returns\"}, \"zerolinecolor\": \"#E1E5ED\"}},\n",
       "                        {\"showLink\": true, \"linkText\": \"Export to plot.ly\", \"plotlyServerURL\": \"https://plot.ly\", \"responsive\": true}\n",
       "                    ).then(function(){\n",
       "                            \n",
       "var gd = document.getElementById('af5d7e5b-fe4a-486e-af35-347819a2cd2c');\n",
       "var x = new MutationObserver(function (mutations, observer) {{\n",
       "        var display = window.getComputedStyle(gd).display;\n",
       "        if (!display || display === 'none') {{\n",
       "            console.log([gd, 'removed!']);\n",
       "            Plotly.purge(gd);\n",
       "            observer.disconnect();\n",
       "        }}\n",
       "}});\n",
       "\n",
       "// Listen for the removal of the full notebook cells\n",
       "var notebookContainer = gd.closest('#notebook-container');\n",
       "if (notebookContainer) {{\n",
       "    x.observe(notebookContainer, {childList: true});\n",
       "}}\n",
       "\n",
       "// Listen for the clearing of the current output cell\n",
       "var outputEl = gd.closest('.output');\n",
       "if (outputEl) {{\n",
       "    x.observe(outputEl, {childList: true});\n",
       "}}\n",
       "\n",
       "                        })\n",
       "                };\n",
       "                });\n",
       "            </script>\n",
       "        </div>"
      ]
     },
     "metadata": {},
     "output_type": "display_data"
    }
   ],
   "source": [
    "return_cosine.iplot(kind='line',title = 'cum returns per filing dates by cosine_sim',xTitle = 'days',yTitle='returns')"
   ]
  },
  {
   "cell_type": "code",
   "execution_count": 50,
   "metadata": {},
   "outputs": [],
   "source": [
    "return_jaccard_after = returns_per_date(lv2_jaccard,120,140,160,180,200)\n",
    "return_cosine_after = returns_per_date(lv2_cosine,120,140,160,180,200)"
   ]
  },
  {
   "cell_type": "code",
   "execution_count": 51,
   "metadata": {},
   "outputs": [
    {
     "data": {
      "application/vnd.plotly.v1+json": {
       "config": {
        "linkText": "Export to plot.ly",
        "plotlyServerURL": "https://plot.ly",
        "showLink": true
       },
       "data": [
        {
         "line": {
          "color": "rgba(255, 153, 51, 1.0)",
          "dash": "solid",
          "shape": "linear",
          "width": 1.3
         },
         "mode": "lines",
         "name": "Q1",
         "text": "",
         "type": "scatter",
         "x": [
          "120 days",
          "140 days",
          "160 days",
          "180 days",
          "200 days"
         ],
         "y": [
          0.560616800440024,
          -0.35641532757512556,
          -1.8648132255193277,
          -0.7447768822102879,
          1.4726721570876662
         ]
        },
        {
         "line": {
          "color": "rgba(55, 128, 191, 1.0)",
          "dash": "solid",
          "shape": "linear",
          "width": 1.3
         },
         "mode": "lines",
         "name": "Q2",
         "text": "",
         "type": "scatter",
         "x": [
          "120 days",
          "140 days",
          "160 days",
          "180 days",
          "200 days"
         ],
         "y": [
          1.051665490064897,
          -0.4968206951288429,
          -1.0016950186726925,
          -0.7099346431945095,
          0.9300927539785916
         ]
        },
        {
         "line": {
          "color": "rgba(50, 171, 96, 1.0)",
          "dash": "solid",
          "shape": "linear",
          "width": 1.3
         },
         "mode": "lines",
         "name": "Q3",
         "text": "",
         "type": "scatter",
         "x": [
          "120 days",
          "140 days",
          "160 days",
          "180 days",
          "200 days"
         ],
         "y": [
          2.0183001735983015,
          -0.12968949564897797,
          0.864292023396574,
          1.7844399146935868,
          3.319924154578057
         ]
        },
        {
         "line": {
          "color": "rgba(128, 0, 128, 1.0)",
          "dash": "solid",
          "shape": "linear",
          "width": 1.3
         },
         "mode": "lines",
         "name": "Q4",
         "text": "",
         "type": "scatter",
         "x": [
          "120 days",
          "140 days",
          "160 days",
          "180 days",
          "200 days"
         ],
         "y": [
          1.3882765495508138,
          -0.12311852946332409,
          -0.6447699770744116,
          -0.00679839030122115,
          2.8346608939506077
         ]
        },
        {
         "line": {
          "color": "rgba(219, 64, 82, 1.0)",
          "dash": "solid",
          "shape": "linear",
          "width": 1.3
         },
         "mode": "lines",
         "name": "Q5",
         "text": "",
         "type": "scatter",
         "x": [
          "120 days",
          "140 days",
          "160 days",
          "180 days",
          "200 days"
         ],
         "y": [
          2.6057928139399404,
          0.6572624924615542,
          0.5066146436540073,
          1.4722081226219481,
          3.5523804833902566
         ]
        },
        {
         "line": {
          "color": "rgba(0, 128, 128, 1.0)",
          "dash": "solid",
          "shape": "linear",
          "width": 1.3
         },
         "mode": "lines",
         "name": "Q5-Q1",
         "text": "",
         "type": "scatter",
         "x": [
          "120 days",
          "140 days",
          "160 days",
          "180 days",
          "200 days"
         ],
         "y": [
          2.0451760134999164,
          1.0136778200366798,
          2.371427869173335,
          2.216985004832236,
          2.07970832630259
         ]
        }
       ],
       "layout": {
        "autosize": true,
        "legend": {
         "bgcolor": "#F5F6F9",
         "font": {
          "color": "#4D5663"
         }
        },
        "paper_bgcolor": "#F5F6F9",
        "plot_bgcolor": "#F5F6F9",
        "template": {
         "data": {
          "bar": [
           {
            "error_x": {
             "color": "#2a3f5f"
            },
            "error_y": {
             "color": "#2a3f5f"
            },
            "marker": {
             "line": {
              "color": "#E5ECF6",
              "width": 0.5
             }
            },
            "type": "bar"
           }
          ],
          "barpolar": [
           {
            "marker": {
             "line": {
              "color": "#E5ECF6",
              "width": 0.5
             }
            },
            "type": "barpolar"
           }
          ],
          "carpet": [
           {
            "aaxis": {
             "endlinecolor": "#2a3f5f",
             "gridcolor": "white",
             "linecolor": "white",
             "minorgridcolor": "white",
             "startlinecolor": "#2a3f5f"
            },
            "baxis": {
             "endlinecolor": "#2a3f5f",
             "gridcolor": "white",
             "linecolor": "white",
             "minorgridcolor": "white",
             "startlinecolor": "#2a3f5f"
            },
            "type": "carpet"
           }
          ],
          "choropleth": [
           {
            "colorbar": {
             "outlinewidth": 0,
             "ticks": ""
            },
            "type": "choropleth"
           }
          ],
          "contour": [
           {
            "colorbar": {
             "outlinewidth": 0,
             "ticks": ""
            },
            "colorscale": [
             [
              0,
              "#0d0887"
             ],
             [
              0.1111111111111111,
              "#46039f"
             ],
             [
              0.2222222222222222,
              "#7201a8"
             ],
             [
              0.3333333333333333,
              "#9c179e"
             ],
             [
              0.4444444444444444,
              "#bd3786"
             ],
             [
              0.5555555555555556,
              "#d8576b"
             ],
             [
              0.6666666666666666,
              "#ed7953"
             ],
             [
              0.7777777777777778,
              "#fb9f3a"
             ],
             [
              0.8888888888888888,
              "#fdca26"
             ],
             [
              1,
              "#f0f921"
             ]
            ],
            "type": "contour"
           }
          ],
          "contourcarpet": [
           {
            "colorbar": {
             "outlinewidth": 0,
             "ticks": ""
            },
            "type": "contourcarpet"
           }
          ],
          "heatmap": [
           {
            "colorbar": {
             "outlinewidth": 0,
             "ticks": ""
            },
            "colorscale": [
             [
              0,
              "#0d0887"
             ],
             [
              0.1111111111111111,
              "#46039f"
             ],
             [
              0.2222222222222222,
              "#7201a8"
             ],
             [
              0.3333333333333333,
              "#9c179e"
             ],
             [
              0.4444444444444444,
              "#bd3786"
             ],
             [
              0.5555555555555556,
              "#d8576b"
             ],
             [
              0.6666666666666666,
              "#ed7953"
             ],
             [
              0.7777777777777778,
              "#fb9f3a"
             ],
             [
              0.8888888888888888,
              "#fdca26"
             ],
             [
              1,
              "#f0f921"
             ]
            ],
            "type": "heatmap"
           }
          ],
          "heatmapgl": [
           {
            "colorbar": {
             "outlinewidth": 0,
             "ticks": ""
            },
            "colorscale": [
             [
              0,
              "#0d0887"
             ],
             [
              0.1111111111111111,
              "#46039f"
             ],
             [
              0.2222222222222222,
              "#7201a8"
             ],
             [
              0.3333333333333333,
              "#9c179e"
             ],
             [
              0.4444444444444444,
              "#bd3786"
             ],
             [
              0.5555555555555556,
              "#d8576b"
             ],
             [
              0.6666666666666666,
              "#ed7953"
             ],
             [
              0.7777777777777778,
              "#fb9f3a"
             ],
             [
              0.8888888888888888,
              "#fdca26"
             ],
             [
              1,
              "#f0f921"
             ]
            ],
            "type": "heatmapgl"
           }
          ],
          "histogram": [
           {
            "marker": {
             "colorbar": {
              "outlinewidth": 0,
              "ticks": ""
             }
            },
            "type": "histogram"
           }
          ],
          "histogram2d": [
           {
            "colorbar": {
             "outlinewidth": 0,
             "ticks": ""
            },
            "colorscale": [
             [
              0,
              "#0d0887"
             ],
             [
              0.1111111111111111,
              "#46039f"
             ],
             [
              0.2222222222222222,
              "#7201a8"
             ],
             [
              0.3333333333333333,
              "#9c179e"
             ],
             [
              0.4444444444444444,
              "#bd3786"
             ],
             [
              0.5555555555555556,
              "#d8576b"
             ],
             [
              0.6666666666666666,
              "#ed7953"
             ],
             [
              0.7777777777777778,
              "#fb9f3a"
             ],
             [
              0.8888888888888888,
              "#fdca26"
             ],
             [
              1,
              "#f0f921"
             ]
            ],
            "type": "histogram2d"
           }
          ],
          "histogram2dcontour": [
           {
            "colorbar": {
             "outlinewidth": 0,
             "ticks": ""
            },
            "colorscale": [
             [
              0,
              "#0d0887"
             ],
             [
              0.1111111111111111,
              "#46039f"
             ],
             [
              0.2222222222222222,
              "#7201a8"
             ],
             [
              0.3333333333333333,
              "#9c179e"
             ],
             [
              0.4444444444444444,
              "#bd3786"
             ],
             [
              0.5555555555555556,
              "#d8576b"
             ],
             [
              0.6666666666666666,
              "#ed7953"
             ],
             [
              0.7777777777777778,
              "#fb9f3a"
             ],
             [
              0.8888888888888888,
              "#fdca26"
             ],
             [
              1,
              "#f0f921"
             ]
            ],
            "type": "histogram2dcontour"
           }
          ],
          "mesh3d": [
           {
            "colorbar": {
             "outlinewidth": 0,
             "ticks": ""
            },
            "type": "mesh3d"
           }
          ],
          "parcoords": [
           {
            "line": {
             "colorbar": {
              "outlinewidth": 0,
              "ticks": ""
             }
            },
            "type": "parcoords"
           }
          ],
          "pie": [
           {
            "automargin": true,
            "type": "pie"
           }
          ],
          "scatter": [
           {
            "marker": {
             "colorbar": {
              "outlinewidth": 0,
              "ticks": ""
             }
            },
            "type": "scatter"
           }
          ],
          "scatter3d": [
           {
            "line": {
             "colorbar": {
              "outlinewidth": 0,
              "ticks": ""
             }
            },
            "marker": {
             "colorbar": {
              "outlinewidth": 0,
              "ticks": ""
             }
            },
            "type": "scatter3d"
           }
          ],
          "scattercarpet": [
           {
            "marker": {
             "colorbar": {
              "outlinewidth": 0,
              "ticks": ""
             }
            },
            "type": "scattercarpet"
           }
          ],
          "scattergeo": [
           {
            "marker": {
             "colorbar": {
              "outlinewidth": 0,
              "ticks": ""
             }
            },
            "type": "scattergeo"
           }
          ],
          "scattergl": [
           {
            "marker": {
             "colorbar": {
              "outlinewidth": 0,
              "ticks": ""
             }
            },
            "type": "scattergl"
           }
          ],
          "scattermapbox": [
           {
            "marker": {
             "colorbar": {
              "outlinewidth": 0,
              "ticks": ""
             }
            },
            "type": "scattermapbox"
           }
          ],
          "scatterpolar": [
           {
            "marker": {
             "colorbar": {
              "outlinewidth": 0,
              "ticks": ""
             }
            },
            "type": "scatterpolar"
           }
          ],
          "scatterpolargl": [
           {
            "marker": {
             "colorbar": {
              "outlinewidth": 0,
              "ticks": ""
             }
            },
            "type": "scatterpolargl"
           }
          ],
          "scatterternary": [
           {
            "marker": {
             "colorbar": {
              "outlinewidth": 0,
              "ticks": ""
             }
            },
            "type": "scatterternary"
           }
          ],
          "surface": [
           {
            "colorbar": {
             "outlinewidth": 0,
             "ticks": ""
            },
            "colorscale": [
             [
              0,
              "#0d0887"
             ],
             [
              0.1111111111111111,
              "#46039f"
             ],
             [
              0.2222222222222222,
              "#7201a8"
             ],
             [
              0.3333333333333333,
              "#9c179e"
             ],
             [
              0.4444444444444444,
              "#bd3786"
             ],
             [
              0.5555555555555556,
              "#d8576b"
             ],
             [
              0.6666666666666666,
              "#ed7953"
             ],
             [
              0.7777777777777778,
              "#fb9f3a"
             ],
             [
              0.8888888888888888,
              "#fdca26"
             ],
             [
              1,
              "#f0f921"
             ]
            ],
            "type": "surface"
           }
          ],
          "table": [
           {
            "cells": {
             "fill": {
              "color": "#EBF0F8"
             },
             "line": {
              "color": "white"
             }
            },
            "header": {
             "fill": {
              "color": "#C8D4E3"
             },
             "line": {
              "color": "white"
             }
            },
            "type": "table"
           }
          ]
         },
         "layout": {
          "annotationdefaults": {
           "arrowcolor": "#2a3f5f",
           "arrowhead": 0,
           "arrowwidth": 1
          },
          "coloraxis": {
           "colorbar": {
            "outlinewidth": 0,
            "ticks": ""
           }
          },
          "colorscale": {
           "diverging": [
            [
             0,
             "#8e0152"
            ],
            [
             0.1,
             "#c51b7d"
            ],
            [
             0.2,
             "#de77ae"
            ],
            [
             0.3,
             "#f1b6da"
            ],
            [
             0.4,
             "#fde0ef"
            ],
            [
             0.5,
             "#f7f7f7"
            ],
            [
             0.6,
             "#e6f5d0"
            ],
            [
             0.7,
             "#b8e186"
            ],
            [
             0.8,
             "#7fbc41"
            ],
            [
             0.9,
             "#4d9221"
            ],
            [
             1,
             "#276419"
            ]
           ],
           "sequential": [
            [
             0,
             "#0d0887"
            ],
            [
             0.1111111111111111,
             "#46039f"
            ],
            [
             0.2222222222222222,
             "#7201a8"
            ],
            [
             0.3333333333333333,
             "#9c179e"
            ],
            [
             0.4444444444444444,
             "#bd3786"
            ],
            [
             0.5555555555555556,
             "#d8576b"
            ],
            [
             0.6666666666666666,
             "#ed7953"
            ],
            [
             0.7777777777777778,
             "#fb9f3a"
            ],
            [
             0.8888888888888888,
             "#fdca26"
            ],
            [
             1,
             "#f0f921"
            ]
           ],
           "sequentialminus": [
            [
             0,
             "#0d0887"
            ],
            [
             0.1111111111111111,
             "#46039f"
            ],
            [
             0.2222222222222222,
             "#7201a8"
            ],
            [
             0.3333333333333333,
             "#9c179e"
            ],
            [
             0.4444444444444444,
             "#bd3786"
            ],
            [
             0.5555555555555556,
             "#d8576b"
            ],
            [
             0.6666666666666666,
             "#ed7953"
            ],
            [
             0.7777777777777778,
             "#fb9f3a"
            ],
            [
             0.8888888888888888,
             "#fdca26"
            ],
            [
             1,
             "#f0f921"
            ]
           ]
          },
          "colorway": [
           "#636efa",
           "#EF553B",
           "#00cc96",
           "#ab63fa",
           "#FFA15A",
           "#19d3f3",
           "#FF6692",
           "#B6E880",
           "#FF97FF",
           "#FECB52"
          ],
          "font": {
           "color": "#2a3f5f"
          },
          "geo": {
           "bgcolor": "white",
           "lakecolor": "white",
           "landcolor": "#E5ECF6",
           "showlakes": true,
           "showland": true,
           "subunitcolor": "white"
          },
          "hoverlabel": {
           "align": "left"
          },
          "hovermode": "closest",
          "mapbox": {
           "style": "light"
          },
          "paper_bgcolor": "white",
          "plot_bgcolor": "#E5ECF6",
          "polar": {
           "angularaxis": {
            "gridcolor": "white",
            "linecolor": "white",
            "ticks": ""
           },
           "bgcolor": "#E5ECF6",
           "radialaxis": {
            "gridcolor": "white",
            "linecolor": "white",
            "ticks": ""
           }
          },
          "scene": {
           "xaxis": {
            "backgroundcolor": "#E5ECF6",
            "gridcolor": "white",
            "gridwidth": 2,
            "linecolor": "white",
            "showbackground": true,
            "ticks": "",
            "zerolinecolor": "white"
           },
           "yaxis": {
            "backgroundcolor": "#E5ECF6",
            "gridcolor": "white",
            "gridwidth": 2,
            "linecolor": "white",
            "showbackground": true,
            "ticks": "",
            "zerolinecolor": "white"
           },
           "zaxis": {
            "backgroundcolor": "#E5ECF6",
            "gridcolor": "white",
            "gridwidth": 2,
            "linecolor": "white",
            "showbackground": true,
            "ticks": "",
            "zerolinecolor": "white"
           }
          },
          "shapedefaults": {
           "line": {
            "color": "#2a3f5f"
           }
          },
          "ternary": {
           "aaxis": {
            "gridcolor": "white",
            "linecolor": "white",
            "ticks": ""
           },
           "baxis": {
            "gridcolor": "white",
            "linecolor": "white",
            "ticks": ""
           },
           "bgcolor": "#E5ECF6",
           "caxis": {
            "gridcolor": "white",
            "linecolor": "white",
            "ticks": ""
           }
          },
          "title": {
           "x": 0.05
          },
          "xaxis": {
           "automargin": true,
           "gridcolor": "white",
           "linecolor": "white",
           "ticks": "",
           "title": {
            "standoff": 15
           },
           "zerolinecolor": "white",
           "zerolinewidth": 2
          },
          "yaxis": {
           "automargin": true,
           "gridcolor": "white",
           "linecolor": "white",
           "ticks": "",
           "title": {
            "standoff": 15
           },
           "zerolinecolor": "white",
           "zerolinewidth": 2
          }
         }
        },
        "title": {
         "font": {
          "color": "#4D5663"
         },
         "text": "cum returns per filing dates by jaccard_sim"
        },
        "xaxis": {
         "autorange": true,
         "gridcolor": "#E1E5ED",
         "range": [
          0,
          4
         ],
         "showgrid": true,
         "tickfont": {
          "color": "#4D5663"
         },
         "title": {
          "font": {
           "color": "#4D5663"
          },
          "text": "days"
         },
         "type": "category",
         "zerolinecolor": "#E1E5ED"
        },
        "yaxis": {
         "autorange": true,
         "gridcolor": "#E1E5ED",
         "range": [
          -2.16576843156986,
          3.8533356894407893
         ],
         "showgrid": true,
         "tickfont": {
          "color": "#4D5663"
         },
         "title": {
          "font": {
           "color": "#4D5663"
          },
          "text": "returns"
         },
         "type": "linear",
         "zerolinecolor": "#E1E5ED"
        }
       }
      },
      "image/png": "[encoded data removed]",
      "text/html": [
       "<div>\n",
       "        \n",
       "        \n",
       "            <div id=\"1bdd45f5-b445-49ee-9d44-7f1bc76cacc3\" class=\"plotly-graph-div\" style=\"height:525px; width:100%;\"></div>\n",
       "            <script type=\"text/javascript\">\n",
       "                require([\"plotly\"], function(Plotly) {\n",
       "                    window.PLOTLYENV=window.PLOTLYENV || {};\n",
       "                    window.PLOTLYENV.BASE_URL='https://plot.ly';\n",
       "                    \n",
       "                if (document.getElementById(\"1bdd45f5-b445-49ee-9d44-7f1bc76cacc3\")) {\n",
       "                    Plotly.newPlot(\n",
       "                        '1bdd45f5-b445-49ee-9d44-7f1bc76cacc3',\n",
       "                        [{\"line\": {\"color\": \"rgba(255, 153, 51, 1.0)\", \"dash\": \"solid\", \"shape\": \"linear\", \"width\": 1.3}, \"mode\": \"lines\", \"name\": \"Q1\", \"text\": \"\", \"type\": \"scatter\", \"x\": [\"120 days\", \"140 days\", \"160 days\", \"180 days\", \"200 days\"], \"y\": [0.560616800440024, -0.35641532757512556, -1.8648132255193277, -0.7447768822102879, 1.4726721570876662]}, {\"line\": {\"color\": \"rgba(55, 128, 191, 1.0)\", \"dash\": \"solid\", \"shape\": \"linear\", \"width\": 1.3}, \"mode\": \"lines\", \"name\": \"Q2\", \"text\": \"\", \"type\": \"scatter\", \"x\": [\"120 days\", \"140 days\", \"160 days\", \"180 days\", \"200 days\"], \"y\": [1.051665490064897, -0.4968206951288429, -1.0016950186726925, -0.7099346431945095, 0.9300927539785916]}, {\"line\": {\"color\": \"rgba(50, 171, 96, 1.0)\", \"dash\": \"solid\", \"shape\": \"linear\", \"width\": 1.3}, \"mode\": \"lines\", \"name\": \"Q3\", \"text\": \"\", \"type\": \"scatter\", \"x\": [\"120 days\", \"140 days\", \"160 days\", \"180 days\", \"200 days\"], \"y\": [2.0183001735983015, -0.12968949564897797, 0.864292023396574, 1.7844399146935868, 3.319924154578057]}, {\"line\": {\"color\": \"rgba(128, 0, 128, 1.0)\", \"dash\": \"solid\", \"shape\": \"linear\", \"width\": 1.3}, \"mode\": \"lines\", \"name\": \"Q4\", \"text\": \"\", \"type\": \"scatter\", \"x\": [\"120 days\", \"140 days\", \"160 days\", \"180 days\", \"200 days\"], \"y\": [1.3882765495508138, -0.12311852946332409, -0.6447699770744116, -0.00679839030122115, 2.8346608939506077]}, {\"line\": {\"color\": \"rgba(219, 64, 82, 1.0)\", \"dash\": \"solid\", \"shape\": \"linear\", \"width\": 1.3}, \"mode\": \"lines\", \"name\": \"Q5\", \"text\": \"\", \"type\": \"scatter\", \"x\": [\"120 days\", \"140 days\", \"160 days\", \"180 days\", \"200 days\"], \"y\": [2.6057928139399404, 0.6572624924615542, 0.5066146436540073, 1.4722081226219481, 3.5523804833902566]}, {\"line\": {\"color\": \"rgba(0, 128, 128, 1.0)\", \"dash\": \"solid\", \"shape\": \"linear\", \"width\": 1.3}, \"mode\": \"lines\", \"name\": \"Q5-Q1\", \"text\": \"\", \"type\": \"scatter\", \"x\": [\"120 days\", \"140 days\", \"160 days\", \"180 days\", \"200 days\"], \"y\": [2.0451760134999164, 1.0136778200366798, 2.371427869173335, 2.216985004832236, 2.07970832630259]}],\n",
       "                        {\"legend\": {\"bgcolor\": \"#F5F6F9\", \"font\": {\"color\": \"#4D5663\"}}, \"paper_bgcolor\": \"#F5F6F9\", \"plot_bgcolor\": \"#F5F6F9\", \"template\": {\"data\": {\"bar\": [{\"error_x\": {\"color\": \"#2a3f5f\"}, \"error_y\": {\"color\": \"#2a3f5f\"}, \"marker\": {\"line\": {\"color\": \"#E5ECF6\", \"width\": 0.5}}, \"type\": \"bar\"}], \"barpolar\": [{\"marker\": {\"line\": {\"color\": \"#E5ECF6\", \"width\": 0.5}}, \"type\": \"barpolar\"}], \"carpet\": [{\"aaxis\": {\"endlinecolor\": \"#2a3f5f\", \"gridcolor\": \"white\", \"linecolor\": \"white\", \"minorgridcolor\": \"white\", \"startlinecolor\": \"#2a3f5f\"}, \"baxis\": {\"endlinecolor\": \"#2a3f5f\", \"gridcolor\": \"white\", \"linecolor\": \"white\", \"minorgridcolor\": \"white\", \"startlinecolor\": \"#2a3f5f\"}, \"type\": \"carpet\"}], \"choropleth\": [{\"colorbar\": {\"outlinewidth\": 0, \"ticks\": \"\"}, \"type\": \"choropleth\"}], \"contour\": [{\"colorbar\": {\"outlinewidth\": 0, \"ticks\": \"\"}, \"colorscale\": [[0.0, \"#0d0887\"], [0.1111111111111111, \"#46039f\"], [0.2222222222222222, \"#7201a8\"], [0.3333333333333333, \"#9c179e\"], [0.4444444444444444, \"#bd3786\"], [0.5555555555555556, \"#d8576b\"], [0.6666666666666666, \"#ed7953\"], [0.7777777777777778, \"#fb9f3a\"], [0.8888888888888888, \"#fdca26\"], [1.0, \"#f0f921\"]], \"type\": \"contour\"}], \"contourcarpet\": [{\"colorbar\": {\"outlinewidth\": 0, \"ticks\": \"\"}, \"type\": \"contourcarpet\"}], \"heatmap\": [{\"colorbar\": {\"outlinewidth\": 0, \"ticks\": \"\"}, \"colorscale\": [[0.0, \"#0d0887\"], [0.1111111111111111, \"#46039f\"], [0.2222222222222222, \"#7201a8\"], [0.3333333333333333, \"#9c179e\"], [0.4444444444444444, \"#bd3786\"], [0.5555555555555556, \"#d8576b\"], [0.6666666666666666, \"#ed7953\"], [0.7777777777777778, \"#fb9f3a\"], [0.8888888888888888, \"#fdca26\"], [1.0, \"#f0f921\"]], \"type\": \"heatmap\"}], \"heatmapgl\": [{\"colorbar\": {\"outlinewidth\": 0, \"ticks\": \"\"}, \"colorscale\": [[0.0, \"#0d0887\"], [0.1111111111111111, \"#46039f\"], [0.2222222222222222, \"#7201a8\"], [0.3333333333333333, \"#9c179e\"], [0.4444444444444444, \"#bd3786\"], [0.5555555555555556, \"#d8576b\"], [0.6666666666666666, \"#ed7953\"], [0.7777777777777778, \"#fb9f3a\"], [0.8888888888888888, \"#fdca26\"], [1.0, \"#f0f921\"]], \"type\": \"heatmapgl\"}], \"histogram\": [{\"marker\": {\"colorbar\": {\"outlinewidth\": 0, \"ticks\": \"\"}}, \"type\": \"histogram\"}], \"histogram2d\": [{\"colorbar\": {\"outlinewidth\": 0, \"ticks\": \"\"}, \"colorscale\": [[0.0, \"#0d0887\"], [0.1111111111111111, \"#46039f\"], [0.2222222222222222, \"#7201a8\"], [0.3333333333333333, \"#9c179e\"], [0.4444444444444444, \"#bd3786\"], [0.5555555555555556, \"#d8576b\"], [0.6666666666666666, \"#ed7953\"], [0.7777777777777778, \"#fb9f3a\"], [0.8888888888888888, \"#fdca26\"], [1.0, \"#f0f921\"]], \"type\": \"histogram2d\"}], \"histogram2dcontour\": [{\"colorbar\": {\"outlinewidth\": 0, \"ticks\": \"\"}, \"colorscale\": [[0.0, \"#0d0887\"], [0.1111111111111111, \"#46039f\"], [0.2222222222222222, \"#7201a8\"], [0.3333333333333333, \"#9c179e\"], [0.4444444444444444, \"#bd3786\"], [0.5555555555555556, \"#d8576b\"], [0.6666666666666666, \"#ed7953\"], [0.7777777777777778, \"#fb9f3a\"], [0.8888888888888888, \"#fdca26\"], [1.0, \"#f0f921\"]], \"type\": \"histogram2dcontour\"}], \"mesh3d\": [{\"colorbar\": {\"outlinewidth\": 0, \"ticks\": \"\"}, \"type\": \"mesh3d\"}], \"parcoords\": [{\"line\": {\"colorbar\": {\"outlinewidth\": 0, \"ticks\": \"\"}}, \"type\": \"parcoords\"}], \"pie\": [{\"automargin\": true, \"type\": \"pie\"}], \"scatter\": [{\"marker\": {\"colorbar\": {\"outlinewidth\": 0, \"ticks\": \"\"}}, \"type\": \"scatter\"}], \"scatter3d\": [{\"line\": {\"colorbar\": {\"outlinewidth\": 0, \"ticks\": \"\"}}, \"marker\": {\"colorbar\": {\"outlinewidth\": 0, \"ticks\": \"\"}}, \"type\": \"scatter3d\"}], \"scattercarpet\": [{\"marker\": {\"colorbar\": {\"outlinewidth\": 0, \"ticks\": \"\"}}, \"type\": \"scattercarpet\"}], \"scattergeo\": [{\"marker\": {\"colorbar\": {\"outlinewidth\": 0, \"ticks\": \"\"}}, \"type\": \"scattergeo\"}], \"scattergl\": [{\"marker\": {\"colorbar\": {\"outlinewidth\": 0, \"ticks\": \"\"}}, \"type\": \"scattergl\"}], \"scattermapbox\": [{\"marker\": {\"colorbar\": {\"outlinewidth\": 0, \"ticks\": \"\"}}, \"type\": \"scattermapbox\"}], \"scatterpolar\": [{\"marker\": {\"colorbar\": {\"outlinewidth\": 0, \"ticks\": \"\"}}, \"type\": \"scatterpolar\"}], \"scatterpolargl\": [{\"marker\": {\"colorbar\": {\"outlinewidth\": 0, \"ticks\": \"\"}}, \"type\": \"scatterpolargl\"}], \"scatterternary\": [{\"marker\": {\"colorbar\": {\"outlinewidth\": 0, \"ticks\": \"\"}}, \"type\": \"scatterternary\"}], \"surface\": [{\"colorbar\": {\"outlinewidth\": 0, \"ticks\": \"\"}, \"colorscale\": [[0.0, \"#0d0887\"], [0.1111111111111111, \"#46039f\"], [0.2222222222222222, \"#7201a8\"], [0.3333333333333333, \"#9c179e\"], [0.4444444444444444, \"#bd3786\"], [0.5555555555555556, \"#d8576b\"], [0.6666666666666666, \"#ed7953\"], [0.7777777777777778, \"#fb9f3a\"], [0.8888888888888888, \"#fdca26\"], [1.0, \"#f0f921\"]], \"type\": \"surface\"}], \"table\": [{\"cells\": {\"fill\": {\"color\": \"#EBF0F8\"}, \"line\": {\"color\": \"white\"}}, \"header\": {\"fill\": {\"color\": \"#C8D4E3\"}, \"line\": {\"color\": \"white\"}}, \"type\": \"table\"}]}, \"layout\": {\"annotationdefaults\": {\"arrowcolor\": \"#2a3f5f\", \"arrowhead\": 0, \"arrowwidth\": 1}, \"coloraxis\": {\"colorbar\": {\"outlinewidth\": 0, \"ticks\": \"\"}}, \"colorscale\": {\"diverging\": [[0, \"#8e0152\"], [0.1, \"#c51b7d\"], [0.2, \"#de77ae\"], [0.3, \"#f1b6da\"], [0.4, \"#fde0ef\"], [0.5, \"#f7f7f7\"], [0.6, \"#e6f5d0\"], [0.7, \"#b8e186\"], [0.8, \"#7fbc41\"], [0.9, \"#4d9221\"], [1, \"#276419\"]], \"sequential\": [[0.0, \"#0d0887\"], [0.1111111111111111, \"#46039f\"], [0.2222222222222222, \"#7201a8\"], [0.3333333333333333, \"#9c179e\"], [0.4444444444444444, \"#bd3786\"], [0.5555555555555556, \"#d8576b\"], [0.6666666666666666, \"#ed7953\"], [0.7777777777777778, \"#fb9f3a\"], [0.8888888888888888, \"#fdca26\"], [1.0, \"#f0f921\"]], \"sequentialminus\": [[0.0, \"#0d0887\"], [0.1111111111111111, \"#46039f\"], [0.2222222222222222, \"#7201a8\"], [0.3333333333333333, \"#9c179e\"], [0.4444444444444444, \"#bd3786\"], [0.5555555555555556, \"#d8576b\"], [0.6666666666666666, \"#ed7953\"], [0.7777777777777778, \"#fb9f3a\"], [0.8888888888888888, \"#fdca26\"], [1.0, \"#f0f921\"]]}, \"colorway\": [\"#636efa\", \"#EF553B\", \"#00cc96\", \"#ab63fa\", \"#FFA15A\", \"#19d3f3\", \"#FF6692\", \"#B6E880\", \"#FF97FF\", \"#FECB52\"], \"font\": {\"color\": \"#2a3f5f\"}, \"geo\": {\"bgcolor\": \"white\", \"lakecolor\": \"white\", \"landcolor\": \"#E5ECF6\", \"showlakes\": true, \"showland\": true, \"subunitcolor\": \"white\"}, \"hoverlabel\": {\"align\": \"left\"}, \"hovermode\": \"closest\", \"mapbox\": {\"style\": \"light\"}, \"paper_bgcolor\": \"white\", \"plot_bgcolor\": \"#E5ECF6\", \"polar\": {\"angularaxis\": {\"gridcolor\": \"white\", \"linecolor\": \"white\", \"ticks\": \"\"}, \"bgcolor\": \"#E5ECF6\", \"radialaxis\": {\"gridcolor\": \"white\", \"linecolor\": \"white\", \"ticks\": \"\"}}, \"scene\": {\"xaxis\": {\"backgroundcolor\": \"#E5ECF6\", \"gridcolor\": \"white\", \"gridwidth\": 2, \"linecolor\": \"white\", \"showbackground\": true, \"ticks\": \"\", \"zerolinecolor\": \"white\"}, \"yaxis\": {\"backgroundcolor\": \"#E5ECF6\", \"gridcolor\": \"white\", \"gridwidth\": 2, \"linecolor\": \"white\", \"showbackground\": true, \"ticks\": \"\", \"zerolinecolor\": \"white\"}, \"zaxis\": {\"backgroundcolor\": \"#E5ECF6\", \"gridcolor\": \"white\", \"gridwidth\": 2, \"linecolor\": \"white\", \"showbackground\": true, \"ticks\": \"\", \"zerolinecolor\": \"white\"}}, \"shapedefaults\": {\"line\": {\"color\": \"#2a3f5f\"}}, \"ternary\": {\"aaxis\": {\"gridcolor\": \"white\", \"linecolor\": \"white\", \"ticks\": \"\"}, \"baxis\": {\"gridcolor\": \"white\", \"linecolor\": \"white\", \"ticks\": \"\"}, \"bgcolor\": \"#E5ECF6\", \"caxis\": {\"gridcolor\": \"white\", \"linecolor\": \"white\", \"ticks\": \"\"}}, \"title\": {\"x\": 0.05}, \"xaxis\": {\"automargin\": true, \"gridcolor\": \"white\", \"linecolor\": \"white\", \"ticks\": \"\", \"title\": {\"standoff\": 15}, \"zerolinecolor\": \"white\", \"zerolinewidth\": 2}, \"yaxis\": {\"automargin\": true, \"gridcolor\": \"white\", \"linecolor\": \"white\", \"ticks\": \"\", \"title\": {\"standoff\": 15}, \"zerolinecolor\": \"white\", \"zerolinewidth\": 2}}}, \"title\": {\"font\": {\"color\": \"#4D5663\"}, \"text\": \"cum returns per filing dates by jaccard_sim\"}, \"xaxis\": {\"gridcolor\": \"#E1E5ED\", \"showgrid\": true, \"tickfont\": {\"color\": \"#4D5663\"}, \"title\": {\"font\": {\"color\": \"#4D5663\"}, \"text\": \"days\"}, \"zerolinecolor\": \"#E1E5ED\"}, \"yaxis\": {\"gridcolor\": \"#E1E5ED\", \"showgrid\": true, \"tickfont\": {\"color\": \"#4D5663\"}, \"title\": {\"font\": {\"color\": \"#4D5663\"}, \"text\": \"returns\"}, \"zerolinecolor\": \"#E1E5ED\"}},\n",
       "                        {\"showLink\": true, \"linkText\": \"Export to plot.ly\", \"plotlyServerURL\": \"https://plot.ly\", \"responsive\": true}\n",
       "                    ).then(function(){\n",
       "                            \n",
       "var gd = document.getElementById('1bdd45f5-b445-49ee-9d44-7f1bc76cacc3');\n",
       "var x = new MutationObserver(function (mutations, observer) {{\n",
       "        var display = window.getComputedStyle(gd).display;\n",
       "        if (!display || display === 'none') {{\n",
       "            console.log([gd, 'removed!']);\n",
       "            Plotly.purge(gd);\n",
       "            observer.disconnect();\n",
       "        }}\n",
       "}});\n",
       "\n",
       "// Listen for the removal of the full notebook cells\n",
       "var notebookContainer = gd.closest('#notebook-container');\n",
       "if (notebookContainer) {{\n",
       "    x.observe(notebookContainer, {childList: true});\n",
       "}}\n",
       "\n",
       "// Listen for the clearing of the current output cell\n",
       "var outputEl = gd.closest('.output');\n",
       "if (outputEl) {{\n",
       "    x.observe(outputEl, {childList: true});\n",
       "}}\n",
       "\n",
       "                        })\n",
       "                };\n",
       "                });\n",
       "            </script>\n",
       "        </div>"
      ]
     },
     "metadata": {},
     "output_type": "display_data"
    }
   ],
   "source": [
    "return_jaccard_after.iplot(kind='line',title = 'cum returns per filing dates by jaccard_sim',xTitle = 'days',yTitle='returns')"
   ]
  },
  {
   "cell_type": "code",
   "execution_count": 52,
   "metadata": {},
   "outputs": [
    {
     "data": {
      "application/vnd.plotly.v1+json": {
       "config": {
        "linkText": "Export to plot.ly",
        "plotlyServerURL": "https://plot.ly",
        "showLink": true
       },
       "data": [
        {
         "line": {
          "color": "rgba(255, 153, 51, 1.0)",
          "dash": "solid",
          "shape": "linear",
          "width": 1.3
         },
         "mode": "lines",
         "name": "Q1",
         "text": "",
         "type": "scatter",
         "x": [
          "120 days",
          "140 days",
          "160 days",
          "180 days",
          "200 days"
         ],
         "y": [
          1.1728417991615634,
          0.37423149898919184,
          0.11175968728772948,
          0.4647522530305933,
          2.8834294667235434
         ]
        },
        {
         "line": {
          "color": "rgba(55, 128, 191, 1.0)",
          "dash": "solid",
          "shape": "linear",
          "width": 1.3
         },
         "mode": "lines",
         "name": "Q2",
         "text": "",
         "type": "scatter",
         "x": [
          "120 days",
          "140 days",
          "160 days",
          "180 days",
          "200 days"
         ],
         "y": [
          1.5900110605590299,
          -0.4705515921638409,
          -1.8543492225536065,
          -0.8040278144837517,
          1.883816484111557
         ]
        },
        {
         "line": {
          "color": "rgba(50, 171, 96, 1.0)",
          "dash": "solid",
          "shape": "linear",
          "width": 1.3
         },
         "mode": "lines",
         "name": "Q3",
         "text": "",
         "type": "scatter",
         "x": [
          "120 days",
          "140 days",
          "160 days",
          "180 days",
          "200 days"
         ],
         "y": [
          0.1315344874702305,
          -2.3906567331241027,
          -2.1475638919671027,
          -1.1553859666283623,
          0.6247926119291706
         ]
        },
        {
         "line": {
          "color": "rgba(128, 0, 128, 1.0)",
          "dash": "solid",
          "shape": "linear",
          "width": 1.3
         },
         "mode": "lines",
         "name": "Q4",
         "text": "",
         "type": "scatter",
         "x": [
          "120 days",
          "140 days",
          "160 days",
          "180 days",
          "200 days"
         ],
         "y": [
          2.5158886038521633,
          1.2125511241271125,
          1.6033514697080766,
          2.1398419858467745,
          4.1150729229552665
         ]
        },
        {
         "line": {
          "color": "rgba(219, 64, 82, 1.0)",
          "dash": "solid",
          "shape": "linear",
          "width": 1.3
         },
         "mode": "lines",
         "name": "Q5",
         "text": "",
         "type": "scatter",
         "x": [
          "120 days",
          "140 days",
          "160 days",
          "180 days",
          "200 days"
         ],
         "y": [
          2.1569456577534143,
          0.7831548370856365,
          0.14945029874462004,
          1.252465419381918,
          2.851932724635844
         ]
        },
        {
         "line": {
          "color": "rgba(0, 128, 128, 1.0)",
          "dash": "solid",
          "shape": "linear",
          "width": 1.3
         },
         "mode": "lines",
         "name": "Q5-Q1",
         "text": "",
         "type": "scatter",
         "x": [
          "120 days",
          "140 days",
          "160 days",
          "180 days",
          "200 days"
         ],
         "y": [
          0.9841038585918508,
          0.4089233380964447,
          0.03769061145689056,
          0.7877131663513247,
          -0.03149674208769923
         ]
        }
       ],
       "layout": {
        "autosize": true,
        "legend": {
         "bgcolor": "#F5F6F9",
         "font": {
          "color": "#4D5663"
         }
        },
        "paper_bgcolor": "#F5F6F9",
        "plot_bgcolor": "#F5F6F9",
        "template": {
         "data": {
          "bar": [
           {
            "error_x": {
             "color": "#2a3f5f"
            },
            "error_y": {
             "color": "#2a3f5f"
            },
            "marker": {
             "line": {
              "color": "#E5ECF6",
              "width": 0.5
             }
            },
            "type": "bar"
           }
          ],
          "barpolar": [
           {
            "marker": {
             "line": {
              "color": "#E5ECF6",
              "width": 0.5
             }
            },
            "type": "barpolar"
           }
          ],
          "carpet": [
           {
            "aaxis": {
             "endlinecolor": "#2a3f5f",
             "gridcolor": "white",
             "linecolor": "white",
             "minorgridcolor": "white",
             "startlinecolor": "#2a3f5f"
            },
            "baxis": {
             "endlinecolor": "#2a3f5f",
             "gridcolor": "white",
             "linecolor": "white",
             "minorgridcolor": "white",
             "startlinecolor": "#2a3f5f"
            },
            "type": "carpet"
           }
          ],
          "choropleth": [
           {
            "colorbar": {
             "outlinewidth": 0,
             "ticks": ""
            },
            "type": "choropleth"
           }
          ],
          "contour": [
           {
            "colorbar": {
             "outlinewidth": 0,
             "ticks": ""
            },
            "colorscale": [
             [
              0,
              "#0d0887"
             ],
             [
              0.1111111111111111,
              "#46039f"
             ],
             [
              0.2222222222222222,
              "#7201a8"
             ],
             [
              0.3333333333333333,
              "#9c179e"
             ],
             [
              0.4444444444444444,
              "#bd3786"
             ],
             [
              0.5555555555555556,
              "#d8576b"
             ],
             [
              0.6666666666666666,
              "#ed7953"
             ],
             [
              0.7777777777777778,
              "#fb9f3a"
             ],
             [
              0.8888888888888888,
              "#fdca26"
             ],
             [
              1,
              "#f0f921"
             ]
            ],
            "type": "contour"
           }
          ],
          "contourcarpet": [
           {
            "colorbar": {
             "outlinewidth": 0,
             "ticks": ""
            },
            "type": "contourcarpet"
           }
          ],
          "heatmap": [
           {
            "colorbar": {
             "outlinewidth": 0,
             "ticks": ""
            },
            "colorscale": [
             [
              0,
              "#0d0887"
             ],
             [
              0.1111111111111111,
              "#46039f"
             ],
             [
              0.2222222222222222,
              "#7201a8"
             ],
             [
              0.3333333333333333,
              "#9c179e"
             ],
             [
              0.4444444444444444,
              "#bd3786"
             ],
             [
              0.5555555555555556,
              "#d8576b"
             ],
             [
              0.6666666666666666,
              "#ed7953"
             ],
             [
              0.7777777777777778,
              "#fb9f3a"
             ],
             [
              0.8888888888888888,
              "#fdca26"
             ],
             [
              1,
              "#f0f921"
             ]
            ],
            "type": "heatmap"
           }
          ],
          "heatmapgl": [
           {
            "colorbar": {
             "outlinewidth": 0,
             "ticks": ""
            },
            "colorscale": [
             [
              0,
              "#0d0887"
             ],
             [
              0.1111111111111111,
              "#46039f"
             ],
             [
              0.2222222222222222,
              "#7201a8"
             ],
             [
              0.3333333333333333,
              "#9c179e"
             ],
             [
              0.4444444444444444,
              "#bd3786"
             ],
             [
              0.5555555555555556,
              "#d8576b"
             ],
             [
              0.6666666666666666,
              "#ed7953"
             ],
             [
              0.7777777777777778,
              "#fb9f3a"
             ],
             [
              0.8888888888888888,
              "#fdca26"
             ],
             [
              1,
              "#f0f921"
             ]
            ],
            "type": "heatmapgl"
           }
          ],
          "histogram": [
           {
            "marker": {
             "colorbar": {
              "outlinewidth": 0,
              "ticks": ""
             }
            },
            "type": "histogram"
           }
          ],
          "histogram2d": [
           {
            "colorbar": {
             "outlinewidth": 0,
             "ticks": ""
            },
            "colorscale": [
             [
              0,
              "#0d0887"
             ],
             [
              0.1111111111111111,
              "#46039f"
             ],
             [
              0.2222222222222222,
              "#7201a8"
             ],
             [
              0.3333333333333333,
              "#9c179e"
             ],
             [
              0.4444444444444444,
              "#bd3786"
             ],
             [
              0.5555555555555556,
              "#d8576b"
             ],
             [
              0.6666666666666666,
              "#ed7953"
             ],
             [
              0.7777777777777778,
              "#fb9f3a"
             ],
             [
              0.8888888888888888,
              "#fdca26"
             ],
             [
              1,
              "#f0f921"
             ]
            ],
            "type": "histogram2d"
           }
          ],
          "histogram2dcontour": [
           {
            "colorbar": {
             "outlinewidth": 0,
             "ticks": ""
            },
            "colorscale": [
             [
              0,
              "#0d0887"
             ],
             [
              0.1111111111111111,
              "#46039f"
             ],
             [
              0.2222222222222222,
              "#7201a8"
             ],
             [
              0.3333333333333333,
              "#9c179e"
             ],
             [
              0.4444444444444444,
              "#bd3786"
             ],
             [
              0.5555555555555556,
              "#d8576b"
             ],
             [
              0.6666666666666666,
              "#ed7953"
             ],
             [
              0.7777777777777778,
              "#fb9f3a"
             ],
             [
              0.8888888888888888,
              "#fdca26"
             ],
             [
              1,
              "#f0f921"
             ]
            ],
            "type": "histogram2dcontour"
           }
          ],
          "mesh3d": [
           {
            "colorbar": {
             "outlinewidth": 0,
             "ticks": ""
            },
            "type": "mesh3d"
           }
          ],
          "parcoords": [
           {
            "line": {
             "colorbar": {
              "outlinewidth": 0,
              "ticks": ""
             }
            },
            "type": "parcoords"
           }
          ],
          "pie": [
           {
            "automargin": true,
            "type": "pie"
           }
          ],
          "scatter": [
           {
            "marker": {
             "colorbar": {
              "outlinewidth": 0,
              "ticks": ""
             }
            },
            "type": "scatter"
           }
          ],
          "scatter3d": [
           {
            "line": {
             "colorbar": {
              "outlinewidth": 0,
              "ticks": ""
             }
            },
            "marker": {
             "colorbar": {
              "outlinewidth": 0,
              "ticks": ""
             }
            },
            "type": "scatter3d"
           }
          ],
          "scattercarpet": [
           {
            "marker": {
             "colorbar": {
              "outlinewidth": 0,
              "ticks": ""
             }
            },
            "type": "scattercarpet"
           }
          ],
          "scattergeo": [
           {
            "marker": {
             "colorbar": {
              "outlinewidth": 0,
              "ticks": ""
             }
            },
            "type": "scattergeo"
           }
          ],
          "scattergl": [
           {
            "marker": {
             "colorbar": {
              "outlinewidth": 0,
              "ticks": ""
             }
            },
            "type": "scattergl"
           }
          ],
          "scattermapbox": [
           {
            "marker": {
             "colorbar": {
              "outlinewidth": 0,
              "ticks": ""
             }
            },
            "type": "scattermapbox"
           }
          ],
          "scatterpolar": [
           {
            "marker": {
             "colorbar": {
              "outlinewidth": 0,
              "ticks": ""
             }
            },
            "type": "scatterpolar"
           }
          ],
          "scatterpolargl": [
           {
            "marker": {
             "colorbar": {
              "outlinewidth": 0,
              "ticks": ""
             }
            },
            "type": "scatterpolargl"
           }
          ],
          "scatterternary": [
           {
            "marker": {
             "colorbar": {
              "outlinewidth": 0,
              "ticks": ""
             }
            },
            "type": "scatterternary"
           }
          ],
          "surface": [
           {
            "colorbar": {
             "outlinewidth": 0,
             "ticks": ""
            },
            "colorscale": [
             [
              0,
              "#0d0887"
             ],
             [
              0.1111111111111111,
              "#46039f"
             ],
             [
              0.2222222222222222,
              "#7201a8"
             ],
             [
              0.3333333333333333,
              "#9c179e"
             ],
             [
              0.4444444444444444,
              "#bd3786"
             ],
             [
              0.5555555555555556,
              "#d8576b"
             ],
             [
              0.6666666666666666,
              "#ed7953"
             ],
             [
              0.7777777777777778,
              "#fb9f3a"
             ],
             [
              0.8888888888888888,
              "#fdca26"
             ],
             [
              1,
              "#f0f921"
             ]
            ],
            "type": "surface"
           }
          ],
          "table": [
           {
            "cells": {
             "fill": {
              "color": "#EBF0F8"
             },
             "line": {
              "color": "white"
             }
            },
            "header": {
             "fill": {
              "color": "#C8D4E3"
             },
             "line": {
              "color": "white"
             }
            },
            "type": "table"
           }
          ]
         },
         "layout": {
          "annotationdefaults": {
           "arrowcolor": "#2a3f5f",
           "arrowhead": 0,
           "arrowwidth": 1
          },
          "coloraxis": {
           "colorbar": {
            "outlinewidth": 0,
            "ticks": ""
           }
          },
          "colorscale": {
           "diverging": [
            [
             0,
             "#8e0152"
            ],
            [
             0.1,
             "#c51b7d"
            ],
            [
             0.2,
             "#de77ae"
            ],
            [
             0.3,
             "#f1b6da"
            ],
            [
             0.4,
             "#fde0ef"
            ],
            [
             0.5,
             "#f7f7f7"
            ],
            [
             0.6,
             "#e6f5d0"
            ],
            [
             0.7,
             "#b8e186"
            ],
            [
             0.8,
             "#7fbc41"
            ],
            [
             0.9,
             "#4d9221"
            ],
            [
             1,
             "#276419"
            ]
           ],
           "sequential": [
            [
             0,
             "#0d0887"
            ],
            [
             0.1111111111111111,
             "#46039f"
            ],
            [
             0.2222222222222222,
             "#7201a8"
            ],
            [
             0.3333333333333333,
             "#9c179e"
            ],
            [
             0.4444444444444444,
             "#bd3786"
            ],
            [
             0.5555555555555556,
             "#d8576b"
            ],
            [
             0.6666666666666666,
             "#ed7953"
            ],
            [
             0.7777777777777778,
             "#fb9f3a"
            ],
            [
             0.8888888888888888,
             "#fdca26"
            ],
            [
             1,
             "#f0f921"
            ]
           ],
           "sequentialminus": [
            [
             0,
             "#0d0887"
            ],
            [
             0.1111111111111111,
             "#46039f"
            ],
            [
             0.2222222222222222,
             "#7201a8"
            ],
            [
             0.3333333333333333,
             "#9c179e"
            ],
            [
             0.4444444444444444,
             "#bd3786"
            ],
            [
             0.5555555555555556,
             "#d8576b"
            ],
            [
             0.6666666666666666,
             "#ed7953"
            ],
            [
             0.7777777777777778,
             "#fb9f3a"
            ],
            [
             0.8888888888888888,
             "#fdca26"
            ],
            [
             1,
             "#f0f921"
            ]
           ]
          },
          "colorway": [
           "#636efa",
           "#EF553B",
           "#00cc96",
           "#ab63fa",
           "#FFA15A",
           "#19d3f3",
           "#FF6692",
           "#B6E880",
           "#FF97FF",
           "#FECB52"
          ],
          "font": {
           "color": "#2a3f5f"
          },
          "geo": {
           "bgcolor": "white",
           "lakecolor": "white",
           "landcolor": "#E5ECF6",
           "showlakes": true,
           "showland": true,
           "subunitcolor": "white"
          },
          "hoverlabel": {
           "align": "left"
          },
          "hovermode": "closest",
          "mapbox": {
           "style": "light"
          },
          "paper_bgcolor": "white",
          "plot_bgcolor": "#E5ECF6",
          "polar": {
           "angularaxis": {
            "gridcolor": "white",
            "linecolor": "white",
            "ticks": ""
           },
           "bgcolor": "#E5ECF6",
           "radialaxis": {
            "gridcolor": "white",
            "linecolor": "white",
            "ticks": ""
           }
          },
          "scene": {
           "xaxis": {
            "backgroundcolor": "#E5ECF6",
            "gridcolor": "white",
            "gridwidth": 2,
            "linecolor": "white",
            "showbackground": true,
            "ticks": "",
            "zerolinecolor": "white"
           },
           "yaxis": {
            "backgroundcolor": "#E5ECF6",
            "gridcolor": "white",
            "gridwidth": 2,
            "linecolor": "white",
            "showbackground": true,
            "ticks": "",
            "zerolinecolor": "white"
           },
           "zaxis": {
            "backgroundcolor": "#E5ECF6",
            "gridcolor": "white",
            "gridwidth": 2,
            "linecolor": "white",
            "showbackground": true,
            "ticks": "",
            "zerolinecolor": "white"
           }
          },
          "shapedefaults": {
           "line": {
            "color": "#2a3f5f"
           }
          },
          "ternary": {
           "aaxis": {
            "gridcolor": "white",
            "linecolor": "white",
            "ticks": ""
           },
           "baxis": {
            "gridcolor": "white",
            "linecolor": "white",
            "ticks": ""
           },
           "bgcolor": "#E5ECF6",
           "caxis": {
            "gridcolor": "white",
            "linecolor": "white",
            "ticks": ""
           }
          },
          "title": {
           "x": 0.05
          },
          "xaxis": {
           "automargin": true,
           "gridcolor": "white",
           "linecolor": "white",
           "ticks": "",
           "title": {
            "standoff": 15
           },
           "zerolinecolor": "white",
           "zerolinewidth": 2
          },
          "yaxis": {
           "automargin": true,
           "gridcolor": "white",
           "linecolor": "white",
           "ticks": "",
           "title": {
            "standoff": 15
           },
           "zerolinecolor": "white",
           "zerolinewidth": 2
          }
         }
        },
        "title": {
         "font": {
          "color": "#4D5663"
         },
         "text": "cum returns per filing dates by cosine_sim"
        },
        "xaxis": {
         "autorange": true,
         "gridcolor": "#E1E5ED",
         "range": [
          0,
          4
         ],
         "showgrid": true,
         "tickfont": {
          "color": "#4D5663"
         },
         "title": {
          "font": {
           "color": "#4D5663"
          },
          "text": "days"
         },
         "type": "category",
         "zerolinecolor": "#E1E5ED"
        },
        "yaxis": {
         "autorange": true,
         "gridcolor": "#E1E5ED",
         "range": [
          -2.7520861584618452,
          4.4765023482930095
         ],
         "showgrid": true,
         "tickfont": {
          "color": "#4D5663"
         },
         "title": {
          "font": {
           "color": "#4D5663"
          },
          "text": "returns"
         },
         "type": "linear",
         "zerolinecolor": "#E1E5ED"
        }
       }
      },
      "image/png": "[encoded data removed]",
      "text/html": [
       "<div>\n",
       "        \n",
       "        \n",
       "            <div id=\"a46f9c98-ce31-4cb7-a496-e17318bf9bb4\" class=\"plotly-graph-div\" style=\"height:525px; width:100%;\"></div>\n",
       "            <script type=\"text/javascript\">\n",
       "                require([\"plotly\"], function(Plotly) {\n",
       "                    window.PLOTLYENV=window.PLOTLYENV || {};\n",
       "                    window.PLOTLYENV.BASE_URL='https://plot.ly';\n",
       "                    \n",
       "                if (document.getElementById(\"a46f9c98-ce31-4cb7-a496-e17318bf9bb4\")) {\n",
       "                    Plotly.newPlot(\n",
       "                        'a46f9c98-ce31-4cb7-a496-e17318bf9bb4',\n",
       "                        [{\"line\": {\"color\": \"rgba(255, 153, 51, 1.0)\", \"dash\": \"solid\", \"shape\": \"linear\", \"width\": 1.3}, \"mode\": \"lines\", \"name\": \"Q1\", \"text\": \"\", \"type\": \"scatter\", \"x\": [\"120 days\", \"140 days\", \"160 days\", \"180 days\", \"200 days\"], \"y\": [1.1728417991615634, 0.37423149898919184, 0.11175968728772948, 0.4647522530305933, 2.8834294667235434]}, {\"line\": {\"color\": \"rgba(55, 128, 191, 1.0)\", \"dash\": \"solid\", \"shape\": \"linear\", \"width\": 1.3}, \"mode\": \"lines\", \"name\": \"Q2\", \"text\": \"\", \"type\": \"scatter\", \"x\": [\"120 days\", \"140 days\", \"160 days\", \"180 days\", \"200 days\"], \"y\": [1.5900110605590299, -0.4705515921638409, -1.8543492225536065, -0.8040278144837517, 1.883816484111557]}, {\"line\": {\"color\": \"rgba(50, 171, 96, 1.0)\", \"dash\": \"solid\", \"shape\": \"linear\", \"width\": 1.3}, \"mode\": \"lines\", \"name\": \"Q3\", \"text\": \"\", \"type\": \"scatter\", \"x\": [\"120 days\", \"140 days\", \"160 days\", \"180 days\", \"200 days\"], \"y\": [0.1315344874702305, -2.3906567331241027, -2.1475638919671027, -1.1553859666283623, 0.6247926119291706]}, {\"line\": {\"color\": \"rgba(128, 0, 128, 1.0)\", \"dash\": \"solid\", \"shape\": \"linear\", \"width\": 1.3}, \"mode\": \"lines\", \"name\": \"Q4\", \"text\": \"\", \"type\": \"scatter\", \"x\": [\"120 days\", \"140 days\", \"160 days\", \"180 days\", \"200 days\"], \"y\": [2.5158886038521633, 1.2125511241271125, 1.6033514697080766, 2.1398419858467745, 4.1150729229552665]}, {\"line\": {\"color\": \"rgba(219, 64, 82, 1.0)\", \"dash\": \"solid\", \"shape\": \"linear\", \"width\": 1.3}, \"mode\": \"lines\", \"name\": \"Q5\", \"text\": \"\", \"type\": \"scatter\", \"x\": [\"120 days\", \"140 days\", \"160 days\", \"180 days\", \"200 days\"], \"y\": [2.1569456577534143, 0.7831548370856365, 0.14945029874462004, 1.252465419381918, 2.851932724635844]}, {\"line\": {\"color\": \"rgba(0, 128, 128, 1.0)\", \"dash\": \"solid\", \"shape\": \"linear\", \"width\": 1.3}, \"mode\": \"lines\", \"name\": \"Q5-Q1\", \"text\": \"\", \"type\": \"scatter\", \"x\": [\"120 days\", \"140 days\", \"160 days\", \"180 days\", \"200 days\"], \"y\": [0.9841038585918508, 0.4089233380964447, 0.03769061145689056, 0.7877131663513247, -0.03149674208769923]}],\n",
       "                        {\"legend\": {\"bgcolor\": \"#F5F6F9\", \"font\": {\"color\": \"#4D5663\"}}, \"paper_bgcolor\": \"#F5F6F9\", \"plot_bgcolor\": \"#F5F6F9\", \"template\": {\"data\": {\"bar\": [{\"error_x\": {\"color\": \"#2a3f5f\"}, \"error_y\": {\"color\": \"#2a3f5f\"}, \"marker\": {\"line\": {\"color\": \"#E5ECF6\", \"width\": 0.5}}, \"type\": \"bar\"}], \"barpolar\": [{\"marker\": {\"line\": {\"color\": \"#E5ECF6\", \"width\": 0.5}}, \"type\": \"barpolar\"}], \"carpet\": [{\"aaxis\": {\"endlinecolor\": \"#2a3f5f\", \"gridcolor\": \"white\", \"linecolor\": \"white\", \"minorgridcolor\": \"white\", \"startlinecolor\": \"#2a3f5f\"}, \"baxis\": {\"endlinecolor\": \"#2a3f5f\", \"gridcolor\": \"white\", \"linecolor\": \"white\", \"minorgridcolor\": \"white\", \"startlinecolor\": \"#2a3f5f\"}, \"type\": \"carpet\"}], \"choropleth\": [{\"colorbar\": {\"outlinewidth\": 0, \"ticks\": \"\"}, \"type\": \"choropleth\"}], \"contour\": [{\"colorbar\": {\"outlinewidth\": 0, \"ticks\": \"\"}, \"colorscale\": [[0.0, \"#0d0887\"], [0.1111111111111111, \"#46039f\"], [0.2222222222222222, \"#7201a8\"], [0.3333333333333333, \"#9c179e\"], [0.4444444444444444, \"#bd3786\"], [0.5555555555555556, \"#d8576b\"], [0.6666666666666666, \"#ed7953\"], [0.7777777777777778, \"#fb9f3a\"], [0.8888888888888888, \"#fdca26\"], [1.0, \"#f0f921\"]], \"type\": \"contour\"}], \"contourcarpet\": [{\"colorbar\": {\"outlinewidth\": 0, \"ticks\": \"\"}, \"type\": \"contourcarpet\"}], \"heatmap\": [{\"colorbar\": {\"outlinewidth\": 0, \"ticks\": \"\"}, \"colorscale\": [[0.0, \"#0d0887\"], [0.1111111111111111, \"#46039f\"], [0.2222222222222222, \"#7201a8\"], [0.3333333333333333, \"#9c179e\"], [0.4444444444444444, \"#bd3786\"], [0.5555555555555556, \"#d8576b\"], [0.6666666666666666, \"#ed7953\"], [0.7777777777777778, \"#fb9f3a\"], [0.8888888888888888, \"#fdca26\"], [1.0, \"#f0f921\"]], \"type\": \"heatmap\"}], \"heatmapgl\": [{\"colorbar\": {\"outlinewidth\": 0, \"ticks\": \"\"}, \"colorscale\": [[0.0, \"#0d0887\"], [0.1111111111111111, \"#46039f\"], [0.2222222222222222, \"#7201a8\"], [0.3333333333333333, \"#9c179e\"], [0.4444444444444444, \"#bd3786\"], [0.5555555555555556, \"#d8576b\"], [0.6666666666666666, \"#ed7953\"], [0.7777777777777778, \"#fb9f3a\"], [0.8888888888888888, \"#fdca26\"], [1.0, \"#f0f921\"]], \"type\": \"heatmapgl\"}], \"histogram\": [{\"marker\": {\"colorbar\": {\"outlinewidth\": 0, \"ticks\": \"\"}}, \"type\": \"histogram\"}], \"histogram2d\": [{\"colorbar\": {\"outlinewidth\": 0, \"ticks\": \"\"}, \"colorscale\": [[0.0, \"#0d0887\"], [0.1111111111111111, \"#46039f\"], [0.2222222222222222, \"#7201a8\"], [0.3333333333333333, \"#9c179e\"], [0.4444444444444444, \"#bd3786\"], [0.5555555555555556, \"#d8576b\"], [0.6666666666666666, \"#ed7953\"], [0.7777777777777778, \"#fb9f3a\"], [0.8888888888888888, \"#fdca26\"], [1.0, \"#f0f921\"]], \"type\": \"histogram2d\"}], \"histogram2dcontour\": [{\"colorbar\": {\"outlinewidth\": 0, \"ticks\": \"\"}, \"colorscale\": [[0.0, \"#0d0887\"], [0.1111111111111111, \"#46039f\"], [0.2222222222222222, \"#7201a8\"], [0.3333333333333333, \"#9c179e\"], [0.4444444444444444, \"#bd3786\"], [0.5555555555555556, \"#d8576b\"], [0.6666666666666666, \"#ed7953\"], [0.7777777777777778, \"#fb9f3a\"], [0.8888888888888888, \"#fdca26\"], [1.0, \"#f0f921\"]], \"type\": \"histogram2dcontour\"}], \"mesh3d\": [{\"colorbar\": {\"outlinewidth\": 0, \"ticks\": \"\"}, \"type\": \"mesh3d\"}], \"parcoords\": [{\"line\": {\"colorbar\": {\"outlinewidth\": 0, \"ticks\": \"\"}}, \"type\": \"parcoords\"}], \"pie\": [{\"automargin\": true, \"type\": \"pie\"}], \"scatter\": [{\"marker\": {\"colorbar\": {\"outlinewidth\": 0, \"ticks\": \"\"}}, \"type\": \"scatter\"}], \"scatter3d\": [{\"line\": {\"colorbar\": {\"outlinewidth\": 0, \"ticks\": \"\"}}, \"marker\": {\"colorbar\": {\"outlinewidth\": 0, \"ticks\": \"\"}}, \"type\": \"scatter3d\"}], \"scattercarpet\": [{\"marker\": {\"colorbar\": {\"outlinewidth\": 0, \"ticks\": \"\"}}, \"type\": \"scattercarpet\"}], \"scattergeo\": [{\"marker\": {\"colorbar\": {\"outlinewidth\": 0, \"ticks\": \"\"}}, \"type\": \"scattergeo\"}], \"scattergl\": [{\"marker\": {\"colorbar\": {\"outlinewidth\": 0, \"ticks\": \"\"}}, \"type\": \"scattergl\"}], \"scattermapbox\": [{\"marker\": {\"colorbar\": {\"outlinewidth\": 0, \"ticks\": \"\"}}, \"type\": \"scattermapbox\"}], \"scatterpolar\": [{\"marker\": {\"colorbar\": {\"outlinewidth\": 0, \"ticks\": \"\"}}, \"type\": \"scatterpolar\"}], \"scatterpolargl\": [{\"marker\": {\"colorbar\": {\"outlinewidth\": 0, \"ticks\": \"\"}}, \"type\": \"scatterpolargl\"}], \"scatterternary\": [{\"marker\": {\"colorbar\": {\"outlinewidth\": 0, \"ticks\": \"\"}}, \"type\": \"scatterternary\"}], \"surface\": [{\"colorbar\": {\"outlinewidth\": 0, \"ticks\": \"\"}, \"colorscale\": [[0.0, \"#0d0887\"], [0.1111111111111111, \"#46039f\"], [0.2222222222222222, \"#7201a8\"], [0.3333333333333333, \"#9c179e\"], [0.4444444444444444, \"#bd3786\"], [0.5555555555555556, \"#d8576b\"], [0.6666666666666666, \"#ed7953\"], [0.7777777777777778, \"#fb9f3a\"], [0.8888888888888888, \"#fdca26\"], [1.0, \"#f0f921\"]], \"type\": \"surface\"}], \"table\": [{\"cells\": {\"fill\": {\"color\": \"#EBF0F8\"}, \"line\": {\"color\": \"white\"}}, \"header\": {\"fill\": {\"color\": \"#C8D4E3\"}, \"line\": {\"color\": \"white\"}}, \"type\": \"table\"}]}, \"layout\": {\"annotationdefaults\": {\"arrowcolor\": \"#2a3f5f\", \"arrowhead\": 0, \"arrowwidth\": 1}, \"coloraxis\": {\"colorbar\": {\"outlinewidth\": 0, \"ticks\": \"\"}}, \"colorscale\": {\"diverging\": [[0, \"#8e0152\"], [0.1, \"#c51b7d\"], [0.2, \"#de77ae\"], [0.3, \"#f1b6da\"], [0.4, \"#fde0ef\"], [0.5, \"#f7f7f7\"], [0.6, \"#e6f5d0\"], [0.7, \"#b8e186\"], [0.8, \"#7fbc41\"], [0.9, \"#4d9221\"], [1, \"#276419\"]], \"sequential\": [[0.0, \"#0d0887\"], [0.1111111111111111, \"#46039f\"], [0.2222222222222222, \"#7201a8\"], [0.3333333333333333, \"#9c179e\"], [0.4444444444444444, \"#bd3786\"], [0.5555555555555556, \"#d8576b\"], [0.6666666666666666, \"#ed7953\"], [0.7777777777777778, \"#fb9f3a\"], [0.8888888888888888, \"#fdca26\"], [1.0, \"#f0f921\"]], \"sequentialminus\": [[0.0, \"#0d0887\"], [0.1111111111111111, \"#46039f\"], [0.2222222222222222, \"#7201a8\"], [0.3333333333333333, \"#9c179e\"], [0.4444444444444444, \"#bd3786\"], [0.5555555555555556, \"#d8576b\"], [0.6666666666666666, \"#ed7953\"], [0.7777777777777778, \"#fb9f3a\"], [0.8888888888888888, \"#fdca26\"], [1.0, \"#f0f921\"]]}, \"colorway\": [\"#636efa\", \"#EF553B\", \"#00cc96\", \"#ab63fa\", \"#FFA15A\", \"#19d3f3\", \"#FF6692\", \"#B6E880\", \"#FF97FF\", \"#FECB52\"], \"font\": {\"color\": \"#2a3f5f\"}, \"geo\": {\"bgcolor\": \"white\", \"lakecolor\": \"white\", \"landcolor\": \"#E5ECF6\", \"showlakes\": true, \"showland\": true, \"subunitcolor\": \"white\"}, \"hoverlabel\": {\"align\": \"left\"}, \"hovermode\": \"closest\", \"mapbox\": {\"style\": \"light\"}, \"paper_bgcolor\": \"white\", \"plot_bgcolor\": \"#E5ECF6\", \"polar\": {\"angularaxis\": {\"gridcolor\": \"white\", \"linecolor\": \"white\", \"ticks\": \"\"}, \"bgcolor\": \"#E5ECF6\", \"radialaxis\": {\"gridcolor\": \"white\", \"linecolor\": \"white\", \"ticks\": \"\"}}, \"scene\": {\"xaxis\": {\"backgroundcolor\": \"#E5ECF6\", \"gridcolor\": \"white\", \"gridwidth\": 2, \"linecolor\": \"white\", \"showbackground\": true, \"ticks\": \"\", \"zerolinecolor\": \"white\"}, \"yaxis\": {\"backgroundcolor\": \"#E5ECF6\", \"gridcolor\": \"white\", \"gridwidth\": 2, \"linecolor\": \"white\", \"showbackground\": true, \"ticks\": \"\", \"zerolinecolor\": \"white\"}, \"zaxis\": {\"backgroundcolor\": \"#E5ECF6\", \"gridcolor\": \"white\", \"gridwidth\": 2, \"linecolor\": \"white\", \"showbackground\": true, \"ticks\": \"\", \"zerolinecolor\": \"white\"}}, \"shapedefaults\": {\"line\": {\"color\": \"#2a3f5f\"}}, \"ternary\": {\"aaxis\": {\"gridcolor\": \"white\", \"linecolor\": \"white\", \"ticks\": \"\"}, \"baxis\": {\"gridcolor\": \"white\", \"linecolor\": \"white\", \"ticks\": \"\"}, \"bgcolor\": \"#E5ECF6\", \"caxis\": {\"gridcolor\": \"white\", \"linecolor\": \"white\", \"ticks\": \"\"}}, \"title\": {\"x\": 0.05}, \"xaxis\": {\"automargin\": true, \"gridcolor\": \"white\", \"linecolor\": \"white\", \"ticks\": \"\", \"title\": {\"standoff\": 15}, \"zerolinecolor\": \"white\", \"zerolinewidth\": 2}, \"yaxis\": {\"automargin\": true, \"gridcolor\": \"white\", \"linecolor\": \"white\", \"ticks\": \"\", \"title\": {\"standoff\": 15}, \"zerolinecolor\": \"white\", \"zerolinewidth\": 2}}}, \"title\": {\"font\": {\"color\": \"#4D5663\"}, \"text\": \"cum returns per filing dates by cosine_sim\"}, \"xaxis\": {\"gridcolor\": \"#E1E5ED\", \"showgrid\": true, \"tickfont\": {\"color\": \"#4D5663\"}, \"title\": {\"font\": {\"color\": \"#4D5663\"}, \"text\": \"days\"}, \"zerolinecolor\": \"#E1E5ED\"}, \"yaxis\": {\"gridcolor\": \"#E1E5ED\", \"showgrid\": true, \"tickfont\": {\"color\": \"#4D5663\"}, \"title\": {\"font\": {\"color\": \"#4D5663\"}, \"text\": \"returns\"}, \"zerolinecolor\": \"#E1E5ED\"}},\n",
       "                        {\"showLink\": true, \"linkText\": \"Export to plot.ly\", \"plotlyServerURL\": \"https://plot.ly\", \"responsive\": true}\n",
       "                    ).then(function(){\n",
       "                            \n",
       "var gd = document.getElementById('a46f9c98-ce31-4cb7-a496-e17318bf9bb4');\n",
       "var x = new MutationObserver(function (mutations, observer) {{\n",
       "        var display = window.getComputedStyle(gd).display;\n",
       "        if (!display || display === 'none') {{\n",
       "            console.log([gd, 'removed!']);\n",
       "            Plotly.purge(gd);\n",
       "            observer.disconnect();\n",
       "        }}\n",
       "}});\n",
       "\n",
       "// Listen for the removal of the full notebook cells\n",
       "var notebookContainer = gd.closest('#notebook-container');\n",
       "if (notebookContainer) {{\n",
       "    x.observe(notebookContainer, {childList: true});\n",
       "}}\n",
       "\n",
       "// Listen for the clearing of the current output cell\n",
       "var outputEl = gd.closest('.output');\n",
       "if (outputEl) {{\n",
       "    x.observe(outputEl, {childList: true});\n",
       "}}\n",
       "\n",
       "                        })\n",
       "                };\n",
       "                });\n",
       "            </script>\n",
       "        </div>"
      ]
     },
     "metadata": {},
     "output_type": "display_data"
    }
   ],
   "source": [
    "return_cosine_after.iplot(kind='line',title = 'cum returns per filing dates by cosine_sim',xTitle = 'days',yTitle='returns')"
   ]
  },
  {
   "cell_type": "code",
   "execution_count": null,
   "metadata": {},
   "outputs": [],
   "source": []
  }
 ],
 "metadata": {
  "kernelspec": {
   "display_name": "Python 3",
   "language": "python",
   "name": "python3"
  },
  "language_info": {
   "codemirror_mode": {
    "name": "ipython",
    "version": 3
   },
   "file_extension": ".py",
   "mimetype": "text/x-python",
   "name": "python",
   "nbconvert_exporter": "python",
   "pygments_lexer": "ipython3",
   "version": "3.7.6"
  }
 },
 "nbformat": 4,
 "nbformat_minor": 4
}
