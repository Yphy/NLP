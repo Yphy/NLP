{
 "cells": [
  {
   "cell_type": "markdown",
   "metadata": {},
   "source": [
    "### FinanceDataReader\n",
    "코스피 기업들의 price return을 가져오기 위해 FinanceDataReader라는 국내 해외주식, 환율, 암호화폐 데이터를 제공하는 파이썬 라이브러리를 사용하였습니다."
   ]
  },
  {
   "cell_type": "code",
   "execution_count": 16,
   "metadata": {},
   "outputs": [],
   "source": [
    "import FinanceDataReader as fdr\n",
    "import pandas as pd\n",
    "\n",
    "# matplotlib rebuild\n",
    "\n",
    "import matplotlib.pyplot as plt\n",
    "from matplotlib import font_manager\n",
    "\n",
    "font_fname = 'C:/Windows/Fonts/nanummyeongjo.ttf'\n",
    "font_family = font_manager.FontProperties(fname=font_fname).get_name()\n",
    "\n",
    "plt.rcParams[\"font.family\"] = font_family\n",
    "plt.rcParams[\"axes.grid\"] = True\n",
    "plt.rcParams[\"figure.figsize\"] = (12,6)\n",
    "plt.rcParams[\"axes.formatter.useoffset\"] = False\n",
    "plt.rcParams['axes.unicode_minus'] = False\n",
    "plt.rcParams[\"axes.formatter.limits\"] = -10000, 10000"
   ]
  },
  {
   "cell_type": "code",
   "execution_count": 2,
   "metadata": {},
   "outputs": [
    {
     "data": {
      "text/html": [
       "<style>\n",
       "    table { display: inline-block }\n",
       "    .rendered_html td, .rendered_html th { text-align: left; }\n",
       "</style>\n"
      ],
      "text/plain": [
       "<IPython.core.display.HTML object>"
      ]
     },
     "metadata": {},
     "output_type": "display_data"
    }
   ],
   "source": [
    "%%html\n",
    "<style>\n",
    "    table { display: inline-block }\n",
    "    .rendered_html td, .rendered_html th { text-align: left; }\n",
    "</style>"
   ]
  },
  {
   "cell_type": "markdown",
   "metadata": {},
   "source": [
    "### 전체 종목 코드\n",
    "<한국> : KRX, KOSPI, KOSDAQ, KONEX\n",
    "\n",
    "<미국> : NASDAQ, NYSE, AMEX, SP500"
   ]
  },
  {
   "cell_type": "code",
   "execution_count": 3,
   "metadata": {},
   "outputs": [],
   "source": [
    "df_krx = fdr.StockListing('KRX') #KRX 데이터\n",
    "df_kospi = fdr.StockListing('KOSPI') #KOSPI 데이터\n",
    "df_untokenized = pd.read_csv('./data/df_sort.csv', index_col = 0)\n",
    "df_untokenized = df_untokenized.loc[:,('crp_nm','crp_cd','rpt_nm','str')]"
   ]
  },
  {
   "cell_type": "code",
   "execution_count": 4,
   "metadata": {},
   "outputs": [
    {
     "data": {
      "text/html": [
       "<div>\n",
       "<style scoped>\n",
       "    .dataframe tbody tr th:only-of-type {\n",
       "        vertical-align: middle;\n",
       "    }\n",
       "\n",
       "    .dataframe tbody tr th {\n",
       "        vertical-align: top;\n",
       "    }\n",
       "\n",
       "    .dataframe thead th {\n",
       "        text-align: right;\n",
       "    }\n",
       "</style>\n",
       "<table border=\"1\" class=\"dataframe\">\n",
       "  <thead>\n",
       "    <tr style=\"text-align: right;\">\n",
       "      <th></th>\n",
       "      <th>Symbol</th>\n",
       "      <th>Name</th>\n",
       "      <th>Sector</th>\n",
       "      <th>Industry</th>\n",
       "    </tr>\n",
       "  </thead>\n",
       "  <tbody>\n",
       "    <tr>\n",
       "      <th>0</th>\n",
       "      <td>155660</td>\n",
       "      <td>DSR</td>\n",
       "      <td>1차 비철금속 제조업</td>\n",
       "      <td>합섬섬유로프</td>\n",
       "    </tr>\n",
       "    <tr>\n",
       "      <th>1</th>\n",
       "      <td>001250</td>\n",
       "      <td>GS글로벌</td>\n",
       "      <td>상품 종합 도매업</td>\n",
       "      <td>수출입업(시멘트,철강금속,전기전자,섬유,기계화학),상품중개,광업,채석업/하수처리 서...</td>\n",
       "    </tr>\n",
       "    <tr>\n",
       "      <th>2</th>\n",
       "      <td>082740</td>\n",
       "      <td>HSD엔진</td>\n",
       "      <td>일반 목적용 기계 제조업</td>\n",
       "      <td>대형선박용엔진,내연발전엔진</td>\n",
       "    </tr>\n",
       "    <tr>\n",
       "      <th>3</th>\n",
       "      <td>011070</td>\n",
       "      <td>LG이노텍</td>\n",
       "      <td>전자부품 제조업</td>\n",
       "      <td>기타 전자부품 제조업</td>\n",
       "    </tr>\n",
       "    <tr>\n",
       "      <th>4</th>\n",
       "      <td>010120</td>\n",
       "      <td>LS산전</td>\n",
       "      <td>전동기, 발전기 및 전기 변환 · 공급 · 제어 장치 제조업</td>\n",
       "      <td>고압기기,저압기기,변압기,배전반,PLC,인버터,빌딩설비,공조기,건축배관,자동화기기 ...</td>\n",
       "    </tr>\n",
       "    <tr>\n",
       "      <th>...</th>\n",
       "      <td>...</td>\n",
       "      <td>...</td>\n",
       "      <td>...</td>\n",
       "      <td>...</td>\n",
       "    </tr>\n",
       "    <tr>\n",
       "      <th>794</th>\n",
       "      <td>011210</td>\n",
       "      <td>현대위아</td>\n",
       "      <td>자동차 신품 부품 제조업</td>\n",
       "      <td>자동차부품, 공작기계 등</td>\n",
       "    </tr>\n",
       "    <tr>\n",
       "      <th>795</th>\n",
       "      <td>005380</td>\n",
       "      <td>현대자동차</td>\n",
       "      <td>자동차용 엔진 및 자동차 제조업</td>\n",
       "      <td>자동차(승용차,버스,트럭,특장차),자동차부품,자동차전착도료 제조,차량정비사업</td>\n",
       "    </tr>\n",
       "    <tr>\n",
       "      <th>796</th>\n",
       "      <td>011760</td>\n",
       "      <td>현대종합상사</td>\n",
       "      <td>상품 종합 도매업</td>\n",
       "      <td>자동차,철강,기계,선박,플랜트,컴퓨터,전자제품 수출,수출입대행/자원(탄광,유전) 개발</td>\n",
       "    </tr>\n",
       "    <tr>\n",
       "      <th>797</th>\n",
       "      <td>010690</td>\n",
       "      <td>화신</td>\n",
       "      <td>자동차 신품 부품 제조업</td>\n",
       "      <td>자동차엔진부품(ARM류,C/MBR류),자동차부품 제조</td>\n",
       "    </tr>\n",
       "    <tr>\n",
       "      <th>798</th>\n",
       "      <td>000540</td>\n",
       "      <td>흥국화재</td>\n",
       "      <td>보험업</td>\n",
       "      <td>손해보험</td>\n",
       "    </tr>\n",
       "  </tbody>\n",
       "</table>\n",
       "<p>799 rows × 4 columns</p>\n",
       "</div>"
      ],
      "text/plain": [
       "     Symbol    Name                             Sector  \\\n",
       "0    155660     DSR                        1차 비철금속 제조업   \n",
       "1    001250   GS글로벌                          상품 종합 도매업   \n",
       "2    082740   HSD엔진                      일반 목적용 기계 제조업   \n",
       "3    011070   LG이노텍                           전자부품 제조업   \n",
       "4    010120    LS산전  전동기, 발전기 및 전기 변환 · 공급 · 제어 장치 제조업   \n",
       "..      ...     ...                                ...   \n",
       "794  011210    현대위아                      자동차 신품 부품 제조업   \n",
       "795  005380   현대자동차                  자동차용 엔진 및 자동차 제조업   \n",
       "796  011760  현대종합상사                          상품 종합 도매업   \n",
       "797  010690      화신                      자동차 신품 부품 제조업   \n",
       "798  000540    흥국화재                                보험업   \n",
       "\n",
       "                                              Industry  \n",
       "0                                               합섬섬유로프  \n",
       "1    수출입업(시멘트,철강금속,전기전자,섬유,기계화학),상품중개,광업,채석업/하수처리 서...  \n",
       "2                                       대형선박용엔진,내연발전엔진  \n",
       "3                                          기타 전자부품 제조업  \n",
       "4    고압기기,저압기기,변압기,배전반,PLC,인버터,빌딩설비,공조기,건축배관,자동화기기 ...  \n",
       "..                                                 ...  \n",
       "794                                      자동차부품, 공작기계 등  \n",
       "795         자동차(승용차,버스,트럭,특장차),자동차부품,자동차전착도료 제조,차량정비사업  \n",
       "796    자동차,철강,기계,선박,플랜트,컴퓨터,전자제품 수출,수출입대행/자원(탄광,유전) 개발  \n",
       "797                      자동차엔진부품(ARM류,C/MBR류),자동차부품 제조  \n",
       "798                                               손해보험  \n",
       "\n",
       "[799 rows x 4 columns]"
      ]
     },
     "execution_count": 4,
     "metadata": {},
     "output_type": "execute_result"
    }
   ],
   "source": [
    "df_kospi"
   ]
  },
  {
   "cell_type": "code",
   "execution_count": 5,
   "metadata": {},
   "outputs": [
    {
     "data": {
      "text/plain": [
       "127"
      ]
     },
     "execution_count": 5,
     "metadata": {},
     "output_type": "execute_result"
    }
   ],
   "source": [
    "sector_ls = [x for x in df_kospi.Sector.unique()]\n",
    "len(sector_ls)"
   ]
  },
  {
   "cell_type": "markdown",
   "metadata": {},
   "source": [
    "kospi기업들의 sector 수는 127개입니다. 추후 sector별 rd&a 의 유사도를 확인하는데 사용하겠습니다."
   ]
  },
  {
   "cell_type": "code",
   "execution_count": 6,
   "metadata": {},
   "outputs": [
    {
     "data": {
      "text/html": [
       "<div>\n",
       "<style scoped>\n",
       "    .dataframe tbody tr th:only-of-type {\n",
       "        vertical-align: middle;\n",
       "    }\n",
       "\n",
       "    .dataframe tbody tr th {\n",
       "        vertical-align: top;\n",
       "    }\n",
       "\n",
       "    .dataframe thead th {\n",
       "        text-align: right;\n",
       "    }\n",
       "</style>\n",
       "<table border=\"1\" class=\"dataframe\">\n",
       "  <thead>\n",
       "    <tr style=\"text-align: right;\">\n",
       "      <th></th>\n",
       "      <th>Open</th>\n",
       "      <th>High</th>\n",
       "      <th>Low</th>\n",
       "      <th>Close</th>\n",
       "      <th>Volume</th>\n",
       "      <th>Change</th>\n",
       "    </tr>\n",
       "    <tr>\n",
       "      <th>Date</th>\n",
       "      <th></th>\n",
       "      <th></th>\n",
       "      <th></th>\n",
       "      <th></th>\n",
       "      <th></th>\n",
       "      <th></th>\n",
       "    </tr>\n",
       "  </thead>\n",
       "  <tbody>\n",
       "    <tr>\n",
       "      <th>2020-02-14</th>\n",
       "      <td>42500</td>\n",
       "      <td>43000</td>\n",
       "      <td>42250</td>\n",
       "      <td>42750</td>\n",
       "      <td>1304244</td>\n",
       "      <td>0.000000</td>\n",
       "    </tr>\n",
       "    <tr>\n",
       "      <th>2020-02-17</th>\n",
       "      <td>42800</td>\n",
       "      <td>43000</td>\n",
       "      <td>42150</td>\n",
       "      <td>42400</td>\n",
       "      <td>994095</td>\n",
       "      <td>-0.008187</td>\n",
       "    </tr>\n",
       "    <tr>\n",
       "      <th>2020-02-18</th>\n",
       "      <td>42200</td>\n",
       "      <td>42450</td>\n",
       "      <td>41400</td>\n",
       "      <td>41750</td>\n",
       "      <td>1530494</td>\n",
       "      <td>-0.015330</td>\n",
       "    </tr>\n",
       "    <tr>\n",
       "      <th>2020-02-19</th>\n",
       "      <td>42550</td>\n",
       "      <td>42600</td>\n",
       "      <td>41400</td>\n",
       "      <td>41800</td>\n",
       "      <td>1808110</td>\n",
       "      <td>0.001198</td>\n",
       "    </tr>\n",
       "    <tr>\n",
       "      <th>2020-02-20</th>\n",
       "      <td>42500</td>\n",
       "      <td>42500</td>\n",
       "      <td>41500</td>\n",
       "      <td>42200</td>\n",
       "      <td>1471921</td>\n",
       "      <td>0.009569</td>\n",
       "    </tr>\n",
       "    <tr>\n",
       "      <th>2020-02-21</th>\n",
       "      <td>41400</td>\n",
       "      <td>41550</td>\n",
       "      <td>41000</td>\n",
       "      <td>41150</td>\n",
       "      <td>1476170</td>\n",
       "      <td>-0.024882</td>\n",
       "    </tr>\n",
       "    <tr>\n",
       "      <th>2020-02-24</th>\n",
       "      <td>40500</td>\n",
       "      <td>40900</td>\n",
       "      <td>38900</td>\n",
       "      <td>39050</td>\n",
       "      <td>1872964</td>\n",
       "      <td>-0.051033</td>\n",
       "    </tr>\n",
       "    <tr>\n",
       "      <th>2020-02-25</th>\n",
       "      <td>39200</td>\n",
       "      <td>39600</td>\n",
       "      <td>38700</td>\n",
       "      <td>39250</td>\n",
       "      <td>1779148</td>\n",
       "      <td>0.005122</td>\n",
       "    </tr>\n",
       "    <tr>\n",
       "      <th>2020-02-26</th>\n",
       "      <td>38250</td>\n",
       "      <td>39450</td>\n",
       "      <td>38100</td>\n",
       "      <td>39050</td>\n",
       "      <td>2439040</td>\n",
       "      <td>-0.005096</td>\n",
       "    </tr>\n",
       "    <tr>\n",
       "      <th>2020-02-27</th>\n",
       "      <td>38700</td>\n",
       "      <td>39450</td>\n",
       "      <td>38400</td>\n",
       "      <td>39400</td>\n",
       "      <td>1646025</td>\n",
       "      <td>0.008963</td>\n",
       "    </tr>\n",
       "  </tbody>\n",
       "</table>\n",
       "</div>"
      ],
      "text/plain": [
       "             Open   High    Low  Close   Volume    Change\n",
       "Date                                                     \n",
       "2020-02-14  42500  43000  42250  42750  1304244  0.000000\n",
       "2020-02-17  42800  43000  42150  42400   994095 -0.008187\n",
       "2020-02-18  42200  42450  41400  41750  1530494 -0.015330\n",
       "2020-02-19  42550  42600  41400  41800  1808110  0.001198\n",
       "2020-02-20  42500  42500  41500  42200  1471921  0.009569\n",
       "2020-02-21  41400  41550  41000  41150  1476170 -0.024882\n",
       "2020-02-24  40500  40900  38900  39050  1872964 -0.051033\n",
       "2020-02-25  39200  39600  38700  39250  1779148  0.005122\n",
       "2020-02-26  38250  39450  38100  39050  2439040 -0.005096\n",
       "2020-02-27  38700  39450  38400  39400  1646025  0.008963"
      ]
     },
     "execution_count": 6,
     "metadata": {},
     "output_type": "execute_result"
    }
   ],
   "source": [
    "#KB금융 (105560)\n",
    "df_kb = fdr.DataReader('105560','2019-01-01','2020-02-27')\n",
    "df_kb.tail(10)"
   ]
  },
  {
   "cell_type": "markdown",
   "metadata": {},
   "source": [
    "### 여러 종목의 종가(Close) 가져오기\n",
    "다수 종목의 데이터를 가져와 개별 종목의 종가를 pd.concat()으로 합칩니다."
   ]
  },
  {
   "cell_type": "code",
   "execution_count": 7,
   "metadata": {},
   "outputs": [],
   "source": [
    "stock_list = [\n",
    "  [\"삼성전자\", \"005930\"],\n",
    "  [\"SK하이닉스\", \"000660\"],\n",
    "  [\"현대차\", \"005380\"],\n",
    "  [\"셀트리온\", \"068270\"],\n",
    "  [\"LG화학\", \"051910\"],\n",
    "  [\"POSCO\", \"005490\"],\n",
    "  [\"삼성물산\", \"028260\"],\n",
    "  [\"NAVER\", \"035420\"],\n",
    "]"
   ]
  },
  {
   "cell_type": "code",
   "execution_count": 8,
   "metadata": {},
   "outputs": [],
   "source": [
    "import pandas as pd\n",
    "df_list = [fdr.DataReader(code,'2019-01-01','2020-02-27')['Close']for name,code in stock_list]"
   ]
  },
  {
   "cell_type": "code",
   "execution_count": 9,
   "metadata": {},
   "outputs": [
    {
     "data": {
      "text/html": [
       "<div>\n",
       "<style scoped>\n",
       "    .dataframe tbody tr th:only-of-type {\n",
       "        vertical-align: middle;\n",
       "    }\n",
       "\n",
       "    .dataframe tbody tr th {\n",
       "        vertical-align: top;\n",
       "    }\n",
       "\n",
       "    .dataframe thead th {\n",
       "        text-align: right;\n",
       "    }\n",
       "</style>\n",
       "<table border=\"1\" class=\"dataframe\">\n",
       "  <thead>\n",
       "    <tr style=\"text-align: right;\">\n",
       "      <th></th>\n",
       "      <th>삼성전자</th>\n",
       "      <th>SK하이닉스</th>\n",
       "      <th>현대차</th>\n",
       "      <th>셀트리온</th>\n",
       "      <th>LG화학</th>\n",
       "      <th>POSCO</th>\n",
       "      <th>삼성물산</th>\n",
       "      <th>NAVER</th>\n",
       "    </tr>\n",
       "    <tr>\n",
       "      <th>Date</th>\n",
       "      <th></th>\n",
       "      <th></th>\n",
       "      <th></th>\n",
       "      <th></th>\n",
       "      <th></th>\n",
       "      <th></th>\n",
       "      <th></th>\n",
       "      <th></th>\n",
       "    </tr>\n",
       "  </thead>\n",
       "  <tbody>\n",
       "    <tr>\n",
       "      <th>2019-01-02</th>\n",
       "      <td>38750</td>\n",
       "      <td>60600</td>\n",
       "      <td>114000</td>\n",
       "      <td>204879</td>\n",
       "      <td>337000</td>\n",
       "      <td>237000</td>\n",
       "      <td>104000</td>\n",
       "      <td>118000</td>\n",
       "    </tr>\n",
       "    <tr>\n",
       "      <th>2019-01-03</th>\n",
       "      <td>37600</td>\n",
       "      <td>57700</td>\n",
       "      <td>116500</td>\n",
       "      <td>201058</td>\n",
       "      <td>328000</td>\n",
       "      <td>237000</td>\n",
       "      <td>104500</td>\n",
       "      <td>122000</td>\n",
       "    </tr>\n",
       "    <tr>\n",
       "      <th>2019-01-04</th>\n",
       "      <td>37450</td>\n",
       "      <td>58300</td>\n",
       "      <td>119500</td>\n",
       "      <td>210132</td>\n",
       "      <td>330500</td>\n",
       "      <td>239000</td>\n",
       "      <td>107000</td>\n",
       "      <td>125500</td>\n",
       "    </tr>\n",
       "    <tr>\n",
       "      <th>2019-01-07</th>\n",
       "      <td>38750</td>\n",
       "      <td>58700</td>\n",
       "      <td>120500</td>\n",
       "      <td>206311</td>\n",
       "      <td>343000</td>\n",
       "      <td>246000</td>\n",
       "      <td>108000</td>\n",
       "      <td>131500</td>\n",
       "    </tr>\n",
       "    <tr>\n",
       "      <th>2019-01-08</th>\n",
       "      <td>38100</td>\n",
       "      <td>59200</td>\n",
       "      <td>119500</td>\n",
       "      <td>203923</td>\n",
       "      <td>349500</td>\n",
       "      <td>245500</td>\n",
       "      <td>107000</td>\n",
       "      <td>130000</td>\n",
       "    </tr>\n",
       "  </tbody>\n",
       "</table>\n",
       "</div>"
      ],
      "text/plain": [
       "             삼성전자  SK하이닉스     현대차    셀트리온    LG화학   POSCO    삼성물산   NAVER\n",
       "Date                                                                     \n",
       "2019-01-02  38750   60600  114000  204879  337000  237000  104000  118000\n",
       "2019-01-03  37600   57700  116500  201058  328000  237000  104500  122000\n",
       "2019-01-04  37450   58300  119500  210132  330500  239000  107000  125500\n",
       "2019-01-07  38750   58700  120500  206311  343000  246000  108000  131500\n",
       "2019-01-08  38100   59200  119500  203923  349500  245500  107000  130000"
      ]
     },
     "execution_count": 9,
     "metadata": {},
     "output_type": "execute_result"
    }
   ],
   "source": [
    "df = pd.concat(df_list, axis=1)\n",
    "df.columns = [name for name, code in stock_list]\n",
    "df.head()"
   ]
  },
  {
   "cell_type": "code",
   "execution_count": 17,
   "metadata": {},
   "outputs": [
    {
     "data": {
      "image/png": "[encoded data removed]",
      "text/plain": [
       "<Figure size 864x432 with 1 Axes>"
      ]
     },
     "metadata": {
      "needs_background": "light"
     },
     "output_type": "display_data"
    }
   ],
   "source": [
    "df[['삼성전자']].loc['2020-02-01':,:].plot();"
   ]
  },
  {
   "cell_type": "code",
   "execution_count": 18,
   "metadata": {},
   "outputs": [
    {
     "data": {
      "image/png": "[encoded data removed]",
      "text/plain": [
       "<Figure size 864x432 with 1 Axes>"
      ]
     },
     "metadata": {
      "needs_background": "light"
     },
     "output_type": "display_data"
    }
   ],
   "source": [
    "\n",
    "plt.title('가격의 변화')\n",
    "plt.plot(df[['삼성전자']] ,'r')\n",
    "plt.show()"
   ]
  },
  {
   "cell_type": "code",
   "execution_count": null,
   "metadata": {},
   "outputs": [],
   "source": []
  }
 ],
 "metadata": {
  "kernelspec": {
   "display_name": "Python 3",
   "language": "python",
   "name": "python3"
  },
  "language_info": {
   "codemirror_mode": {
    "name": "ipython",
    "version": 3
   },
   "file_extension": ".py",
   "mimetype": "text/x-python",
   "name": "python",
   "nbconvert_exporter": "python",
   "pygments_lexer": "ipython3",
   "version": "3.7.3"
  }
 },
 "nbformat": 4,
 "nbformat_minor": 2
}
